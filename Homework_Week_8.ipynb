{
  "nbformat": 4,
  "nbformat_minor": 0,
  "metadata": {
    "colab": {
      "name": "Homework Week 8.ipynb",
      "provenance": [],
      "authorship_tag": "ABX9TyOT7YSn5VcJa8X/dEEP7rlQ",
      "include_colab_link": true
    },
    "kernelspec": {
      "name": "python3",
      "display_name": "Python 3"
    },
    "language_info": {
      "name": "python"
    }
  },
  "cells": [
    {
      "cell_type": "markdown",
      "metadata": {
        "id": "view-in-github",
        "colab_type": "text"
      },
      "source": [
        "<a href=\"https://colab.research.google.com/github/ddesai-sjsu/Machine-Learning/blob/main/Homework_Week_8.ipynb\" target=\"_parent\"><img src=\"https://colab.research.google.com/assets/colab-badge.svg\" alt=\"Open In Colab\"/></a>"
      ]
    },
    {
      "cell_type": "markdown",
      "metadata": {
        "id": "yoWCIJG3AgCG"
      },
      "source": [
        "1. Ingest a streaming input eg foxnews.com\n",
        "\n",
        "2. Add an additional microfactor\n",
        "\n",
        "3. combine micro factors 1,2 and assess your factor\n",
        "\n",
        "4. visualize your results \n",
        "\n",
        " \n",
        "\n",
        "Notes: your factor or microfactors may require additional datasets other than politifact.\n",
        "\n",
        "if you have questions don't wait until office hours :-) ask me on slack asap \n",
        "\n",
        "\n",
        "example: \n",
        "\n",
        "1. you are showcasing your work to me on tuesday :\n",
        "you show how you are either calling an api, using an rssfeed or scraping articles to obtain a steady stream of incoming articles you will assess\n",
        "\n",
        "\n",
        "2. you will use the data from these articles to run predictions/inference on your two micro-factor models that you have trained to classify each micro factor\n",
        "\n",
        "\n",
        "3. once you classify the incoming articles with your models, you then combine these results for each of your 2 micro-factors into the score for the factor\n",
        "\n",
        "\n",
        "4. you display the results using some [I am keeping that up to you] visualization that shows here are the articles you had incoming, and here are the scores for each of the articles."
      ]
    },
    {
      "cell_type": "code",
      "metadata": {
        "id": "tVl204AfAIN8"
      },
      "source": [
        ""
      ],
      "execution_count": null,
      "outputs": []
    }
  ]
}