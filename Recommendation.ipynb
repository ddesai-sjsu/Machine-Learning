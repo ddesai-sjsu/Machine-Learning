{
  "nbformat": 4,
  "nbformat_minor": 0,
  "metadata": {
    "colab": {
      "name": "Recommendation.ipynb",
      "provenance": [],
      "collapsed_sections": [],
      "authorship_tag": "ABX9TyOAWurqfmtyI+MvVwjfastc",
      "include_colab_link": true
    },
    "kernelspec": {
      "name": "python3",
      "display_name": "Python 3"
    },
    "language_info": {
      "name": "python"
    },
    "accelerator": "GPU"
  },
  "cells": [
    {
      "cell_type": "markdown",
      "metadata": {
        "id": "view-in-github",
        "colab_type": "text"
      },
      "source": [
        "<a href=\"https://colab.research.google.com/github/ddesai-sjsu/Machine-Learning/blob/main/Recommendation.ipynb\" target=\"_parent\"><img src=\"https://colab.research.google.com/assets/colab-badge.svg\" alt=\"Open In Colab\"/></a>"
      ]
    },
    {
      "cell_type": "markdown",
      "metadata": {
        "id": "9XnZka57bGgY"
      },
      "source": [
        "# Amazon Review \n",
        "Recommendation Engine\n",
        "\n",
        "**Data Narrative:**\n",
        "\n",
        "Each record in the dataset contains the review text, the review title, the star   rating, an anonymized reviewer ID, an anonymized product ID and the  coarse-grained product category (e.g. ‘books’, ‘appliances’, etc.) \n",
        "\n",
        "\n",
        "reviewer_id - ID of the reviewer\n",
        "\n",
        "product_id - ID of the product\n",
        "\n",
        "review_body - text of the review\n",
        "\n",
        "stars - rating of the product\n",
        "\n",
        "\n",
        "review_title - summary of the review\n",
        "\n",
        "product_category - category of product\n",
        "\n",
        "We have used product_id,reviewerID and product_id fields to provide product recommendations for the user based on the rating of the reviewer of a product.\n",
        "\n",
        "We tried 2 recommendation techniques :\n",
        "\n",
        "1-\tItem Based Collaberative filtering (Item-Item recommedation)\n",
        "\n",
        "2-\tModel-based collaborative filtering system\n",
        "\n",
        "\n"
      ]
    },
    {
      "cell_type": "markdown",
      "metadata": {
        "id": "2fb6a8ENbOD_"
      },
      "source": [
        "## Installing required libraries"
      ]
    },
    {
      "cell_type": "code",
      "metadata": {
        "colab": {
          "base_uri": "https://localhost:8080/"
        },
        "id": "8_s5xcVzKEmG",
        "outputId": "01384d87-e068-4f76-caa1-ea86d1728c25"
      },
      "source": [
        "!pip install surprise"
      ],
      "execution_count": 1,
      "outputs": [
        {
          "output_type": "stream",
          "name": "stdout",
          "text": [
            "Collecting surprise\n",
            "  Downloading surprise-0.1-py2.py3-none-any.whl (1.8 kB)\n",
            "Collecting scikit-surprise\n",
            "  Downloading scikit-surprise-1.1.1.tar.gz (11.8 MB)\n",
            "\u001b[K     |████████████████████████████████| 11.8 MB 2.8 MB/s \n",
            "\u001b[?25hRequirement already satisfied: joblib>=0.11 in /usr/local/lib/python3.7/dist-packages (from scikit-surprise->surprise) (1.0.1)\n",
            "Requirement already satisfied: numpy>=1.11.2 in /usr/local/lib/python3.7/dist-packages (from scikit-surprise->surprise) (1.19.5)\n",
            "Requirement already satisfied: scipy>=1.0.0 in /usr/local/lib/python3.7/dist-packages (from scikit-surprise->surprise) (1.4.1)\n",
            "Requirement already satisfied: six>=1.10.0 in /usr/local/lib/python3.7/dist-packages (from scikit-surprise->surprise) (1.15.0)\n",
            "Building wheels for collected packages: scikit-surprise\n",
            "  Building wheel for scikit-surprise (setup.py) ... \u001b[?25l\u001b[?25hdone\n",
            "  Created wheel for scikit-surprise: filename=scikit_surprise-1.1.1-cp37-cp37m-linux_x86_64.whl size=1619395 sha256=e2396e8e90e6bb2c4878496326cec975729cbd73fd1380cf2898aabc3bcbc2c3\n",
            "  Stored in directory: /root/.cache/pip/wheels/76/44/74/b498c42be47b2406bd27994e16c5188e337c657025ab400c1c\n",
            "Successfully built scikit-surprise\n",
            "Installing collected packages: scikit-surprise, surprise\n",
            "Successfully installed scikit-surprise-1.1.1 surprise-0.1\n"
          ]
        }
      ]
    },
    {
      "cell_type": "markdown",
      "metadata": {
        "id": "JHYINAHbbRP9"
      },
      "source": [
        "## Importing required libraries"
      ]
    },
    {
      "cell_type": "code",
      "metadata": {
        "id": "fkDqbm-UH_o2"
      },
      "source": [
        "import pandas as pd\n",
        "from surprise import *\n",
        "from surprise import Dataset\n",
        "from surprise import accuracy\n",
        "from surprise import Reader\n",
        "import os\n",
        "from surprise.model_selection import train_test_split\n",
        "import pickle\n",
        "from matplotlib import pyplot as plt\n",
        "import seaborn as sns\n"
      ],
      "execution_count": 2,
      "outputs": []
    },
    {
      "cell_type": "markdown",
      "metadata": {
        "id": "30qjbyQPbUVu"
      },
      "source": [
        "## Preprocessing Data"
      ]
    },
    {
      "cell_type": "code",
      "metadata": {
        "id": "YBI8giegIGiy"
      },
      "source": [
        "df=pd.read_json('https://amazon-reviews-ml.s3-us-west-2.amazonaws.com/json/train/dataset_en_train.json',lines=True)"
      ],
      "execution_count": 3,
      "outputs": []
    },
    {
      "cell_type": "code",
      "metadata": {
        "id": "4zQkw7jCKifo"
      },
      "source": [
        ""
      ],
      "execution_count": 3,
      "outputs": []
    },
    {
      "cell_type": "code",
      "metadata": {
        "colab": {
          "base_uri": "https://localhost:8080/"
        },
        "id": "tMQGbFd0I7aj",
        "outputId": "be48cfa2-3c29-42bf-e855-77b584b81d0b"
      },
      "source": [
        "df.columns"
      ],
      "execution_count": 4,
      "outputs": [
        {
          "output_type": "execute_result",
          "data": {
            "text/plain": [
              "Index(['review_id', 'product_id', 'reviewer_id', 'stars', 'review_body',\n",
              "       'review_title', 'language', 'product_category'],\n",
              "      dtype='object')"
            ]
          },
          "metadata": {},
          "execution_count": 4
        }
      ]
    },
    {
      "cell_type": "markdown",
      "metadata": {
        "id": "BCqKPGitO2ox"
      },
      "source": [
        "**Data Visualization**\n",
        "\n",
        "Checking the distribution of rating:\n"
      ]
    },
    {
      "cell_type": "code",
      "metadata": {
        "colab": {
          "base_uri": "https://localhost:8080/",
          "height": 457
        },
        "id": "lGpQ9WhvPzKq",
        "outputId": "f2c9fe09-2620-4cae-9cde-3268664b5dfe"
      },
      "source": [
        "\n",
        "with sns.axes_style('white'):\n",
        "    g = sns.factorplot(\"stars\", data=df, aspect=2.0,kind='count')\n",
        "    g.set_ylabels(\"Total number of ratings\")"
      ],
      "execution_count": 5,
      "outputs": [
        {
          "output_type": "stream",
          "name": "stderr",
          "text": [
            "/usr/local/lib/python3.7/dist-packages/seaborn/categorical.py:3717: UserWarning: The `factorplot` function has been renamed to `catplot`. The original name will be removed in a future release. Please update your code. Note that the default `kind` in `factorplot` (`'point'`) has changed `'strip'` in `catplot`.\n",
            "  warnings.warn(msg)\n",
            "/usr/local/lib/python3.7/dist-packages/seaborn/_decorators.py:43: FutureWarning: Pass the following variable as a keyword arg: x. From version 0.12, the only valid positional argument will be `data`, and passing other arguments without an explicit keyword will result in an error or misinterpretation.\n",
            "  FutureWarning\n"
          ]
        },
        {
          "output_type": "display_data",
          "data": {
            "image/png": "[encoded data removed]",
            "text/plain": [
              "<Figure size 720x360 with 1 Axes>"
            ]
          },
          "metadata": {}
        }
      ]
    },
    {
      "cell_type": "markdown",
      "metadata": {
        "id": "4dmdl_CTV_JK"
      },
      "source": [
        "Finding most popular products"
      ]
    },
    {
      "cell_type": "code",
      "metadata": {
        "colab": {
          "base_uri": "https://localhost:8080/",
          "height": 392
        },
        "id": "9BOa3lSjThs-",
        "outputId": "49f25dfe-4d74-4462-b5d1-ee445a8aefae"
      },
      "source": [
        "new_df=df.groupby(\"product_id\").filter(lambda x:x['stars'].count() >=2)\n",
        "popular_products = pd.DataFrame(new_df.groupby('product_id')['stars'].count())\n",
        "most_popular = popular_products.sort_values('stars', ascending=False)\n",
        "most_popular.head(30).plot(kind = \"bar\")\n"
      ],
      "execution_count": 6,
      "outputs": [
        {
          "output_type": "execute_result",
          "data": {
            "text/plain": [
              "<matplotlib.axes._subplots.AxesSubplot at 0x7f0e3362fb10>"
            ]
          },
          "metadata": {},
          "execution_count": 6
        },
        {
          "output_type": "display_data",
          "data": {
            "image/png": "[encoded data removed]",
            "text/plain": [
              "<Figure size 432x288 with 1 Axes>"
            ]
          },
          "metadata": {
            "needs_background": "light"
          }
        }
      ]
    },
    {
      "cell_type": "code",
      "metadata": {
        "colab": {
          "base_uri": "https://localhost:8080/",
          "height": 742
        },
        "id": "xIHI5zKeVRa9",
        "outputId": "a4803ce8-5668-4125-ad14-30122408c158"
      },
      "source": [
        "df=df.sample(frac=0.05)\n",
        "df"
      ],
      "execution_count": 7,
      "outputs": [
        {
          "output_type": "execute_result",
          "data": {
            "text/html": [
              "<div>\n",
              "<style scoped>\n",
              "    .dataframe tbody tr th:only-of-type {\n",
              "        vertical-align: middle;\n",
              "    }\n",
              "\n",
              "    .dataframe tbody tr th {\n",
              "        vertical-align: top;\n",
              "    }\n",
              "\n",
              "    .dataframe thead th {\n",
              "        text-align: right;\n",
              "    }\n",
              "</style>\n",
              "<table border=\"1\" class=\"dataframe\">\n",
              "  <thead>\n",
              "    <tr style=\"text-align: right;\">\n",
              "      <th></th>\n",
              "      <th>review_id</th>\n",
              "      <th>product_id</th>\n",
              "      <th>reviewer_id</th>\n",
              "      <th>stars</th>\n",
              "      <th>review_body</th>\n",
              "      <th>review_title</th>\n",
              "      <th>language</th>\n",
              "      <th>product_category</th>\n",
              "    </tr>\n",
              "  </thead>\n",
              "  <tbody>\n",
              "    <tr>\n",
              "      <th>60124</th>\n",
              "      <td>en_0198486</td>\n",
              "      <td>product_en_0707560</td>\n",
              "      <td>reviewer_en_0236472</td>\n",
              "      <td>2</td>\n",
              "      <td>I like the looks of the clock. Unfortunately, ...</td>\n",
              "      <td>The Clock stopped</td>\n",
              "      <td>en</td>\n",
              "      <td>home</td>\n",
              "    </tr>\n",
              "    <tr>\n",
              "      <th>76664</th>\n",
              "      <td>en_0132853</td>\n",
              "      <td>product_en_0184281</td>\n",
              "      <td>reviewer_en_0109546</td>\n",
              "      <td>2</td>\n",
              "      <td>2 of the 3 ordered came bent to fit inside a t...</td>\n",
              "      <td>Two Stars</td>\n",
              "      <td>en</td>\n",
              "      <td>lawn_and_garden</td>\n",
              "    </tr>\n",
              "    <tr>\n",
              "      <th>91626</th>\n",
              "      <td>en_0063768</td>\n",
              "      <td>product_en_0731178</td>\n",
              "      <td>reviewer_en_0297330</td>\n",
              "      <td>3</td>\n",
              "      <td>I found the black nail parts to fall off easil...</td>\n",
              "      <td>Black Nails fall off</td>\n",
              "      <td>en</td>\n",
              "      <td>lawn_and_garden</td>\n",
              "    </tr>\n",
              "    <tr>\n",
              "      <th>155329</th>\n",
              "      <td>en_0716544</td>\n",
              "      <td>product_en_0419634</td>\n",
              "      <td>reviewer_en_0920268</td>\n",
              "      <td>4</td>\n",
              "      <td>Good for the price point</td>\n",
              "      <td>For yard projects</td>\n",
              "      <td>en</td>\n",
              "      <td>lawn_and_garden</td>\n",
              "    </tr>\n",
              "    <tr>\n",
              "      <th>149826</th>\n",
              "      <td>en_0388580</td>\n",
              "      <td>product_en_0407902</td>\n",
              "      <td>reviewer_en_0358996</td>\n",
              "      <td>4</td>\n",
              "      <td>We ordered the pineapple design and it's a nic...</td>\n",
              "      <td>Nice, but thin</td>\n",
              "      <td>en</td>\n",
              "      <td>home</td>\n",
              "    </tr>\n",
              "    <tr>\n",
              "      <th>...</th>\n",
              "      <td>...</td>\n",
              "      <td>...</td>\n",
              "      <td>...</td>\n",
              "      <td>...</td>\n",
              "      <td>...</td>\n",
              "      <td>...</td>\n",
              "      <td>...</td>\n",
              "      <td>...</td>\n",
              "    </tr>\n",
              "    <tr>\n",
              "      <th>11117</th>\n",
              "      <td>en_0809394</td>\n",
              "      <td>product_en_0142219</td>\n",
              "      <td>reviewer_en_0703036</td>\n",
              "      <td>1</td>\n",
              "      <td>The order came broken What do I do now?</td>\n",
              "      <td>The order came broken</td>\n",
              "      <td>en</td>\n",
              "      <td>wireless</td>\n",
              "    </tr>\n",
              "    <tr>\n",
              "      <th>185655</th>\n",
              "      <td>en_0292687</td>\n",
              "      <td>product_en_0197184</td>\n",
              "      <td>reviewer_en_0928340</td>\n",
              "      <td>5</td>\n",
              "      <td>In a world of post it’s sometimes you just nee...</td>\n",
              "      <td>Exactly as Advertised</td>\n",
              "      <td>en</td>\n",
              "      <td>office_product</td>\n",
              "    </tr>\n",
              "    <tr>\n",
              "      <th>114207</th>\n",
              "      <td>en_0208905</td>\n",
              "      <td>product_en_0736451</td>\n",
              "      <td>reviewer_en_0884313</td>\n",
              "      <td>3</td>\n",
              "      <td>Keeps breaking while printing I've used other ...</td>\n",
              "      <td>Filiment was brittle right from the packaging</td>\n",
              "      <td>en</td>\n",
              "      <td>industrial_supplies</td>\n",
              "    </tr>\n",
              "    <tr>\n",
              "      <th>183903</th>\n",
              "      <td>en_0484662</td>\n",
              "      <td>product_en_0385392</td>\n",
              "      <td>reviewer_en_0061305</td>\n",
              "      <td>5</td>\n",
              "      <td>Although activated charcoal has become a popul...</td>\n",
              "      <td>A noticable difference from the first use!</td>\n",
              "      <td>en</td>\n",
              "      <td>beauty</td>\n",
              "    </tr>\n",
              "    <tr>\n",
              "      <th>17445</th>\n",
              "      <td>en_0617002</td>\n",
              "      <td>product_en_0297687</td>\n",
              "      <td>reviewer_en_0629889</td>\n",
              "      <td>1</td>\n",
              "      <td>Only cut sound....have no reverb at all. Had i...</td>\n",
              "      <td>No Reverb</td>\n",
              "      <td>en</td>\n",
              "      <td>musical_instruments</td>\n",
              "    </tr>\n",
              "  </tbody>\n",
              "</table>\n",
              "<p>10000 rows × 8 columns</p>\n",
              "</div>"
            ],
            "text/plain": [
              "         review_id          product_id  ... language     product_category\n",
              "60124   en_0198486  product_en_0707560  ...       en                 home\n",
              "76664   en_0132853  product_en_0184281  ...       en      lawn_and_garden\n",
              "91626   en_0063768  product_en_0731178  ...       en      lawn_and_garden\n",
              "155329  en_0716544  product_en_0419634  ...       en      lawn_and_garden\n",
              "149826  en_0388580  product_en_0407902  ...       en                 home\n",
              "...            ...                 ...  ...      ...                  ...\n",
              "11117   en_0809394  product_en_0142219  ...       en             wireless\n",
              "185655  en_0292687  product_en_0197184  ...       en       office_product\n",
              "114207  en_0208905  product_en_0736451  ...       en  industrial_supplies\n",
              "183903  en_0484662  product_en_0385392  ...       en               beauty\n",
              "17445   en_0617002  product_en_0297687  ...       en  musical_instruments\n",
              "\n",
              "[10000 rows x 8 columns]"
            ]
          },
          "metadata": {},
          "execution_count": 7
        }
      ]
    },
    {
      "cell_type": "code",
      "metadata": {
        "id": "hWMpYrBeJqAM"
      },
      "source": [
        "df_new=df[['reviewer_id','product_id','stars']]"
      ],
      "execution_count": 8,
      "outputs": []
    },
    {
      "cell_type": "code",
      "metadata": {
        "id": "yqO1bzB_Nvog"
      },
      "source": [
        "df_new.columns=['userID','itemID','rating']"
      ],
      "execution_count": 9,
      "outputs": []
    },
    {
      "cell_type": "markdown",
      "metadata": {
        "id": "sEO-bss5bYp5"
      },
      "source": [
        "## Converting Data to data type that surprise module can consume"
      ]
    },
    {
      "cell_type": "code",
      "metadata": {
        "id": "4MH6W30wIpjH"
      },
      "source": [
        "reader = Reader(rating_scale=(1, 5))\n",
        "data = Dataset.load_from_df(df_new,reader)"
      ],
      "execution_count": 10,
      "outputs": []
    },
    {
      "cell_type": "code",
      "metadata": {
        "id": "tq7Qv2q9IvwK"
      },
      "source": [
        "trainset, testset = train_test_split(data, test_size=0.3,random_state=10)"
      ],
      "execution_count": 11,
      "outputs": []
    },
    {
      "cell_type": "code",
      "metadata": {
        "colab": {
          "base_uri": "https://localhost:8080/"
        },
        "id": "tbfQOYP2YDFP",
        "outputId": "ac822738-c42a-4bf9-ef13-48b5737d013b"
      },
      "source": [
        "trainset"
      ],
      "execution_count": 12,
      "outputs": [
        {
          "output_type": "execute_result",
          "data": {
            "text/plain": [
              "<surprise.trainset.Trainset at 0x7f0e3360bc10>"
            ]
          },
          "metadata": {},
          "execution_count": 12
        }
      ]
    },
    {
      "cell_type": "code",
      "metadata": {
        "id": "8AdF21KGKSax"
      },
      "source": [
        "acuuracy_table={}"
      ],
      "execution_count": 13,
      "outputs": []
    },
    {
      "cell_type": "markdown",
      "metadata": {
        "id": "xZzniMq0bhYR"
      },
      "source": [
        "# training the model on multiple types\n",
        "\n",
        "\n",
        "1.  'BaselineOnly'\n",
        "2.  'CoClustering'\n",
        "3.  'KNNBaseline'\n",
        "4.  'KNNBasic'\n",
        "5.  'KNNWithMeans'\n",
        "6.  'KNNWithZScore'\n",
        "7.  'NMF': \n",
        "8.  'NormalPredictor': \n",
        "9.  'SVD':\n",
        "10. 'SVDpp': \n",
        "11. 'SlopeOne':"
      ]
    },
    {
      "cell_type": "code",
      "metadata": {
        "colab": {
          "base_uri": "https://localhost:8080/"
        },
        "id": "3COEBhn9I1TU",
        "outputId": "582841f7-ead2-448c-83df-0eb7fb3b2e1d"
      },
      "source": [
        "algo = KNNWithMeans(k=5, sim_options={'name': 'pearson_baseline', 'user_based': False})\n",
        "algo.fit(trainset)\n",
        "test_pred = algo.test(testset)\n",
        "accuracy_model=round(float(str(accuracy.rmse(test_pred, verbose=True))[0:]),4)\n",
        "acuuracy_table['KNNWithMeans']=accuracy_model"
      ],
      "execution_count": 14,
      "outputs": [
        {
          "output_type": "stream",
          "name": "stdout",
          "text": [
            "Estimating biases using als...\n",
            "Computing the pearson_baseline similarity matrix...\n",
            "Done computing similarity matrix.\n",
            "RMSE: 1.4001\n"
          ]
        }
      ]
    },
    {
      "cell_type": "code",
      "metadata": {
        "id": "dujIBFkALHPC",
        "colab": {
          "base_uri": "https://localhost:8080/"
        },
        "outputId": "95fbbaef-3ce9-4edb-907e-80c5001f3d08"
      },
      "source": [
        "algo = NormalPredictor( )\n",
        "algo.fit(trainset)\n",
        "test_pred = algo.test(testset)\n",
        "accuracy_model=round(float(str(accuracy.rmse(test_pred, verbose=True))[0:]),4)\n",
        "accuracy_model\n",
        "acuuracy_table['NormalPredictor']=accuracy_model"
      ],
      "execution_count": 15,
      "outputs": [
        {
          "output_type": "stream",
          "name": "stdout",
          "text": [
            "RMSE: 1.8597\n"
          ]
        }
      ]
    },
    {
      "cell_type": "code",
      "metadata": {
        "colab": {
          "base_uri": "https://localhost:8080/"
        },
        "id": "aw0g9MMD9tBb",
        "outputId": "a8385e5e-daeb-4110-c890-0db0a5c2718f"
      },
      "source": [
        "algo = BaselineOnly()\n",
        "algo.fit(trainset)\n",
        "test_pred = algo.test(testset)\n",
        "accuracy_model=round(float(str(accuracy.rmse(test_pred, verbose=True))[0:]),4)\n",
        "accuracy_model\n",
        "acuuracy_table['BaselineOnly']=accuracy_model"
      ],
      "execution_count": 16,
      "outputs": [
        {
          "output_type": "stream",
          "name": "stdout",
          "text": [
            "Estimating biases using als...\n",
            "RMSE: 1.3999\n"
          ]
        }
      ]
    },
    {
      "cell_type": "code",
      "metadata": {
        "colab": {
          "base_uri": "https://localhost:8080/"
        },
        "id": "90PqoP3F69c3",
        "outputId": "c5abf5d1-a3bd-4f10-9ae6-c2e53a556162"
      },
      "source": [
        "algo = KNNBasic()\n",
        "algo.fit(trainset)\n",
        "test_pred = algo.test(testset)\n",
        "accuracy_model=round(float(str(accuracy.rmse(test_pred, verbose=True))[0:]),4)\n",
        "accuracy_model\n",
        "acuuracy_table['KNNBasic']=accuracy_model"
      ],
      "execution_count": 17,
      "outputs": [
        {
          "output_type": "stream",
          "name": "stdout",
          "text": [
            "Computing the msd similarity matrix...\n",
            "Done computing similarity matrix.\n",
            "RMSE: 1.4001\n"
          ]
        }
      ]
    },
    {
      "cell_type": "code",
      "metadata": {
        "colab": {
          "base_uri": "https://localhost:8080/"
        },
        "id": "9fIY5JF_9-qm",
        "outputId": "690b0859-d4ea-4af7-d398-fe4e06c0dd6d"
      },
      "source": [
        "algo = KNNWithZScore()\n",
        "algo.fit(trainset)\n",
        "test_pred = algo.test(testset)\n",
        "accuracy_model=round(float(str(accuracy.rmse(test_pred, verbose=True))[0:]),4)\n",
        "accuracy_model\n",
        "acuuracy_table['KNNWithZScore']=accuracy_model"
      ],
      "execution_count": 18,
      "outputs": [
        {
          "output_type": "stream",
          "name": "stdout",
          "text": [
            "Computing the msd similarity matrix...\n",
            "Done computing similarity matrix.\n",
            "RMSE: 1.4001\n"
          ]
        }
      ]
    },
    {
      "cell_type": "code",
      "metadata": {
        "colab": {
          "base_uri": "https://localhost:8080/"
        },
        "id": "hxy5vJMi-EA6",
        "outputId": "b03e27b7-e40e-4f16-aa94-ea16398a1660"
      },
      "source": [
        "algo = KNNBaseline()\n",
        "algo.fit(trainset)\n",
        "test_pred = algo.test(testset)\n",
        "accuracy_model=round(float(str(accuracy.rmse(test_pred, verbose=True))[0:]),4)\n",
        "accuracy_model\n",
        "acuuracy_table['KNNBaseline']=accuracy_model"
      ],
      "execution_count": 19,
      "outputs": [
        {
          "output_type": "stream",
          "name": "stdout",
          "text": [
            "Estimating biases using als...\n",
            "Computing the msd similarity matrix...\n",
            "Done computing similarity matrix.\n",
            "RMSE: 1.3999\n"
          ]
        }
      ]
    },
    {
      "cell_type": "code",
      "metadata": {
        "colab": {
          "base_uri": "https://localhost:8080/"
        },
        "id": "RUSqbzog-MdW",
        "outputId": "d04894b5-3300-4788-c8a5-45f0db0b63fc"
      },
      "source": [
        "algo = SVD()\n",
        "algo.fit(trainset)\n",
        "test_pred = algo.test(testset)\n",
        "accuracy_model=round(float(str(accuracy.rmse(test_pred, verbose=True))[0:]),4)\n",
        "accuracy_model\n",
        "acuuracy_table['SVD']=accuracy_model"
      ],
      "execution_count": 20,
      "outputs": [
        {
          "output_type": "stream",
          "name": "stdout",
          "text": [
            "RMSE: 1.3999\n"
          ]
        }
      ]
    },
    {
      "cell_type": "code",
      "metadata": {
        "colab": {
          "base_uri": "https://localhost:8080/"
        },
        "id": "4RgNg2Mu-TPI",
        "outputId": "bbf3d284-a95f-4701-a273-c3c593eba9dd"
      },
      "source": [
        "algo =SVDpp()\n",
        "algo.fit(trainset)\n",
        "test_pred = algo.test(testset)\n",
        "accuracy_model=round(float(str(accuracy.rmse(test_pred, verbose=True))[0:]),4)\n",
        "accuracy_model\n",
        "acuuracy_table['SVDpp']=accuracy_model"
      ],
      "execution_count": 21,
      "outputs": [
        {
          "output_type": "stream",
          "name": "stdout",
          "text": [
            "RMSE: 1.3998\n"
          ]
        }
      ]
    },
    {
      "cell_type": "code",
      "metadata": {
        "id": "FzYhTRP6JN8G"
      },
      "source": [
        "pickle.dump(algo, open('SVDpp.pkl','wb'))\n"
      ],
      "execution_count": 22,
      "outputs": []
    },
    {
      "cell_type": "code",
      "metadata": {
        "colab": {
          "base_uri": "https://localhost:8080/"
        },
        "id": "teD_uvft-Zj2",
        "outputId": "1f805761-4b1d-466c-f973-9acef55e95b4"
      },
      "source": [
        "algo =NMF()\n",
        "algo.fit(trainset)\n",
        "test_pred = algo.test(testset)\n",
        "accuracy_model=round(float(str(accuracy.rmse(test_pred, verbose=True))[0:]),4)\n",
        "accuracy_model\n",
        "acuuracy_table['NMF']=accuracy_model"
      ],
      "execution_count": 23,
      "outputs": [
        {
          "output_type": "stream",
          "name": "stdout",
          "text": [
            "RMSE: 1.4001\n"
          ]
        }
      ]
    },
    {
      "cell_type": "code",
      "metadata": {
        "colab": {
          "base_uri": "https://localhost:8080/"
        },
        "id": "Vj3hHm7v-eCX",
        "outputId": "f4871c69-d1bb-4823-9f2e-8a7e8b0ecf8c"
      },
      "source": [
        "algo =SlopeOne()\n",
        "algo.fit(trainset)\n",
        "test_pred = algo.test(testset)\n",
        "accuracy_model=round(float(str(accuracy.rmse(test_pred, verbose=True))[0:]),4)\n",
        "accuracy_model\n",
        "acuuracy_table['SlopeOne']=accuracy_model"
      ],
      "execution_count": 24,
      "outputs": [
        {
          "output_type": "stream",
          "name": "stdout",
          "text": [
            "RMSE: 1.4001\n"
          ]
        }
      ]
    },
    {
      "cell_type": "code",
      "metadata": {
        "colab": {
          "base_uri": "https://localhost:8080/"
        },
        "id": "5FG7flmA-i4R",
        "outputId": "b6ae72e3-02f6-438b-a48a-d57de03c99f6"
      },
      "source": [
        "algo =CoClustering()\n",
        "algo.fit(trainset)\n",
        "test_pred = algo.test(testset)\n",
        "accuracy_model=round(float(str(accuracy.rmse(test_pred, verbose=True))[0:]),4)\n",
        "accuracy_model\n",
        "acuuracy_table['CoClustering']=accuracy_model"
      ],
      "execution_count": 25,
      "outputs": [
        {
          "output_type": "stream",
          "name": "stdout",
          "text": [
            "RMSE: 1.4001\n"
          ]
        }
      ]
    },
    {
      "cell_type": "code",
      "metadata": {
        "colab": {
          "base_uri": "https://localhost:8080/"
        },
        "id": "Qzow61_PLD7E",
        "outputId": "5d28f224-992a-437e-de0b-4b06d54afe7a"
      },
      "source": [
        "algo.predict(uid='reviewer_en_0742686',iid='product_en_0095361').est"
      ],
      "execution_count": 26,
      "outputs": [
        {
          "output_type": "execute_result",
          "data": {
            "text/plain": [
              "2.9645714285714284"
            ]
          },
          "metadata": {},
          "execution_count": 26
        }
      ]
    },
    {
      "cell_type": "markdown",
      "metadata": {
        "id": "po3kLifTcERz"
      },
      "source": [
        "## Comparing all the model performance"
      ]
    },
    {
      "cell_type": "code",
      "metadata": {
        "colab": {
          "base_uri": "https://localhost:8080/"
        },
        "id": "q7EvfITYOrMs",
        "outputId": "04d604de-9976-49b4-8f5e-e57f2d5e3703"
      },
      "source": [
        "acuuracy_table"
      ],
      "execution_count": 27,
      "outputs": [
        {
          "output_type": "execute_result",
          "data": {
            "text/plain": [
              "{'BaselineOnly': 1.3999,\n",
              " 'CoClustering': 1.4001,\n",
              " 'KNNBaseline': 1.3999,\n",
              " 'KNNBasic': 1.4001,\n",
              " 'KNNWithMeans': 1.4001,\n",
              " 'KNNWithZScore': 1.4001,\n",
              " 'NMF': 1.4001,\n",
              " 'NormalPredictor': 1.8597,\n",
              " 'SVD': 1.3999,\n",
              " 'SVDpp': 1.3998,\n",
              " 'SlopeOne': 1.4001}"
            ]
          },
          "metadata": {},
          "execution_count": 27
        }
      ]
    },
    {
      "cell_type": "code",
      "metadata": {
        "colab": {
          "base_uri": "https://localhost:8080/",
          "height": 389
        },
        "id": "1zxLBDINPDVG",
        "outputId": "bda9765b-f831-462c-d2b6-5449b4601634"
      },
      "source": [
        "\n",
        "accuracy_x=pd.DataFrame.from_dict(acuuracy_table,orient='index').reset_index()\n",
        "accuracy_x.columns=['model_name','rmse']\n",
        "\n",
        "plt.figure(figsize=(16, 6))\n",
        "ax = sns.barplot(data=accuracy_x, x='model_name', y='rmse')\n"
      ],
      "execution_count": 28,
      "outputs": [
        {
          "output_type": "display_data",
          "data": {
            "image/png": "[encoded data removed]",
            "text/plain": [
              "<Figure size 1152x432 with 1 Axes>"
            ]
          },
          "metadata": {
            "needs_background": "light"
          }
        }
      ]
    },
    {
      "cell_type": "markdown",
      "metadata": {
        "id": "osrzJdH3cIYL"
      },
      "source": [
        "We can observe that all the models perfomened in a similar way except Normal Predictor. It has a highest rmse others are almost in the similar rmse score"
      ]
    },
    {
      "cell_type": "markdown",
      "metadata": {
        "id": "1rIWWPxpJ_JE"
      },
      "source": [
        ""
      ]
    },
    {
      "cell_type": "code",
      "metadata": {
        "id": "kihxR1UFJ-37"
      },
      "source": [
        ""
      ],
      "execution_count": 28,
      "outputs": []
    },
    {
      "cell_type": "markdown",
      "metadata": {
        "id": "lj_gL1UccWdj"
      },
      "source": [
        "## Creating a function to use Models and then recommend  products\n",
        "\n",
        "In this function we will be getting user id and scan through all the products and return top products that the user might like based on item based collorative filtering.\n",
        "\n",
        "in this approach the liking of user will be kept into consideration as the model is based on user ratings"
      ]
    },
    {
      "cell_type": "code",
      "metadata": {
        "id": "Wg0w0wVnKApF"
      },
      "source": [
        "algo = pickle.load(open('/content/SVDpp.pkl','rb'))"
      ],
      "execution_count": 29,
      "outputs": []
    },
    {
      "cell_type": "code",
      "metadata": {
        "id": "o-Slv98PLSwA"
      },
      "source": [
        "import heapq\n",
        "def get_possible_rating(uid,recommend_number=5):\n",
        "  product={}\n",
        "  for i in df.product_id:\n",
        "    product[i]=algo.predict(uid=uid,iid=i).est\n",
        "\n",
        "  return heapq.nlargest(recommend_number, product.keys(), product.get) "
      ],
      "execution_count": 30,
      "outputs": []
    },
    {
      "cell_type": "code",
      "metadata": {
        "colab": {
          "base_uri": "https://localhost:8080/"
        },
        "id": "UrZJ-i1tQBfA",
        "outputId": "b9e9b225-1ce5-417a-8f3c-7ef2e3e19e53"
      },
      "source": [
        "get_possible_rating('reviewer_en_0742686',12)"
      ],
      "execution_count": 31,
      "outputs": [
        {
          "output_type": "execute_result",
          "data": {
            "text/plain": [
              "['product_en_0026780',\n",
              " 'product_en_0424139',\n",
              " 'product_en_0391030',\n",
              " 'product_en_0409278',\n",
              " 'product_en_0487124',\n",
              " 'product_en_0947386',\n",
              " 'product_en_0173162',\n",
              " 'product_en_0156087',\n",
              " 'product_en_0360988',\n",
              " 'product_en_0906874',\n",
              " 'product_en_0465743',\n",
              " 'product_en_0138723']"
            ]
          },
          "metadata": {},
          "execution_count": 31
        }
      ]
    },
    {
      "cell_type": "code",
      "metadata": {
        "colab": {
          "base_uri": "https://localhost:8080/",
          "height": 742
        },
        "id": "vXn_2jfBMKK1",
        "outputId": "f34cce83-52b1-4b99-f8dd-273f89cd3344"
      },
      "source": [
        "df"
      ],
      "execution_count": 32,
      "outputs": [
        {
          "output_type": "execute_result",
          "data": {
            "text/html": [
              "<div>\n",
              "<style scoped>\n",
              "    .dataframe tbody tr th:only-of-type {\n",
              "        vertical-align: middle;\n",
              "    }\n",
              "\n",
              "    .dataframe tbody tr th {\n",
              "        vertical-align: top;\n",
              "    }\n",
              "\n",
              "    .dataframe thead th {\n",
              "        text-align: right;\n",
              "    }\n",
              "</style>\n",
              "<table border=\"1\" class=\"dataframe\">\n",
              "  <thead>\n",
              "    <tr style=\"text-align: right;\">\n",
              "      <th></th>\n",
              "      <th>review_id</th>\n",
              "      <th>product_id</th>\n",
              "      <th>reviewer_id</th>\n",
              "      <th>stars</th>\n",
              "      <th>review_body</th>\n",
              "      <th>review_title</th>\n",
              "      <th>language</th>\n",
              "      <th>product_category</th>\n",
              "    </tr>\n",
              "  </thead>\n",
              "  <tbody>\n",
              "    <tr>\n",
              "      <th>60124</th>\n",
              "      <td>en_0198486</td>\n",
              "      <td>product_en_0707560</td>\n",
              "      <td>reviewer_en_0236472</td>\n",
              "      <td>2</td>\n",
              "      <td>I like the looks of the clock. Unfortunately, ...</td>\n",
              "      <td>The Clock stopped</td>\n",
              "      <td>en</td>\n",
              "      <td>home</td>\n",
              "    </tr>\n",
              "    <tr>\n",
              "      <th>76664</th>\n",
              "      <td>en_0132853</td>\n",
              "      <td>product_en_0184281</td>\n",
              "      <td>reviewer_en_0109546</td>\n",
              "      <td>2</td>\n",
              "      <td>2 of the 3 ordered came bent to fit inside a t...</td>\n",
              "      <td>Two Stars</td>\n",
              "      <td>en</td>\n",
              "      <td>lawn_and_garden</td>\n",
              "    </tr>\n",
              "    <tr>\n",
              "      <th>91626</th>\n",
              "      <td>en_0063768</td>\n",
              "      <td>product_en_0731178</td>\n",
              "      <td>reviewer_en_0297330</td>\n",
              "      <td>3</td>\n",
              "      <td>I found the black nail parts to fall off easil...</td>\n",
              "      <td>Black Nails fall off</td>\n",
              "      <td>en</td>\n",
              "      <td>lawn_and_garden</td>\n",
              "    </tr>\n",
              "    <tr>\n",
              "      <th>155329</th>\n",
              "      <td>en_0716544</td>\n",
              "      <td>product_en_0419634</td>\n",
              "      <td>reviewer_en_0920268</td>\n",
              "      <td>4</td>\n",
              "      <td>Good for the price point</td>\n",
              "      <td>For yard projects</td>\n",
              "      <td>en</td>\n",
              "      <td>lawn_and_garden</td>\n",
              "    </tr>\n",
              "    <tr>\n",
              "      <th>149826</th>\n",
              "      <td>en_0388580</td>\n",
              "      <td>product_en_0407902</td>\n",
              "      <td>reviewer_en_0358996</td>\n",
              "      <td>4</td>\n",
              "      <td>We ordered the pineapple design and it's a nic...</td>\n",
              "      <td>Nice, but thin</td>\n",
              "      <td>en</td>\n",
              "      <td>home</td>\n",
              "    </tr>\n",
              "    <tr>\n",
              "      <th>...</th>\n",
              "      <td>...</td>\n",
              "      <td>...</td>\n",
              "      <td>...</td>\n",
              "      <td>...</td>\n",
              "      <td>...</td>\n",
              "      <td>...</td>\n",
              "      <td>...</td>\n",
              "      <td>...</td>\n",
              "    </tr>\n",
              "    <tr>\n",
              "      <th>11117</th>\n",
              "      <td>en_0809394</td>\n",
              "      <td>product_en_0142219</td>\n",
              "      <td>reviewer_en_0703036</td>\n",
              "      <td>1</td>\n",
              "      <td>The order came broken What do I do now?</td>\n",
              "      <td>The order came broken</td>\n",
              "      <td>en</td>\n",
              "      <td>wireless</td>\n",
              "    </tr>\n",
              "    <tr>\n",
              "      <th>185655</th>\n",
              "      <td>en_0292687</td>\n",
              "      <td>product_en_0197184</td>\n",
              "      <td>reviewer_en_0928340</td>\n",
              "      <td>5</td>\n",
              "      <td>In a world of post it’s sometimes you just nee...</td>\n",
              "      <td>Exactly as Advertised</td>\n",
              "      <td>en</td>\n",
              "      <td>office_product</td>\n",
              "    </tr>\n",
              "    <tr>\n",
              "      <th>114207</th>\n",
              "      <td>en_0208905</td>\n",
              "      <td>product_en_0736451</td>\n",
              "      <td>reviewer_en_0884313</td>\n",
              "      <td>3</td>\n",
              "      <td>Keeps breaking while printing I've used other ...</td>\n",
              "      <td>Filiment was brittle right from the packaging</td>\n",
              "      <td>en</td>\n",
              "      <td>industrial_supplies</td>\n",
              "    </tr>\n",
              "    <tr>\n",
              "      <th>183903</th>\n",
              "      <td>en_0484662</td>\n",
              "      <td>product_en_0385392</td>\n",
              "      <td>reviewer_en_0061305</td>\n",
              "      <td>5</td>\n",
              "      <td>Although activated charcoal has become a popul...</td>\n",
              "      <td>A noticable difference from the first use!</td>\n",
              "      <td>en</td>\n",
              "      <td>beauty</td>\n",
              "    </tr>\n",
              "    <tr>\n",
              "      <th>17445</th>\n",
              "      <td>en_0617002</td>\n",
              "      <td>product_en_0297687</td>\n",
              "      <td>reviewer_en_0629889</td>\n",
              "      <td>1</td>\n",
              "      <td>Only cut sound....have no reverb at all. Had i...</td>\n",
              "      <td>No Reverb</td>\n",
              "      <td>en</td>\n",
              "      <td>musical_instruments</td>\n",
              "    </tr>\n",
              "  </tbody>\n",
              "</table>\n",
              "<p>10000 rows × 8 columns</p>\n",
              "</div>"
            ],
            "text/plain": [
              "         review_id          product_id  ... language     product_category\n",
              "60124   en_0198486  product_en_0707560  ...       en                 home\n",
              "76664   en_0132853  product_en_0184281  ...       en      lawn_and_garden\n",
              "91626   en_0063768  product_en_0731178  ...       en      lawn_and_garden\n",
              "155329  en_0716544  product_en_0419634  ...       en      lawn_and_garden\n",
              "149826  en_0388580  product_en_0407902  ...       en                 home\n",
              "...            ...                 ...  ...      ...                  ...\n",
              "11117   en_0809394  product_en_0142219  ...       en             wireless\n",
              "185655  en_0292687  product_en_0197184  ...       en       office_product\n",
              "114207  en_0208905  product_en_0736451  ...       en  industrial_supplies\n",
              "183903  en_0484662  product_en_0385392  ...       en               beauty\n",
              "17445   en_0617002  product_en_0297687  ...       en  musical_instruments\n",
              "\n",
              "[10000 rows x 8 columns]"
            ]
          },
          "metadata": {},
          "execution_count": 32
        }
      ]
    },
    {
      "cell_type": "code",
      "metadata": {
        "colab": {
          "base_uri": "https://localhost:8080/"
        },
        "id": "79UnTY7oKcGj",
        "outputId": "57c6d817-e219-4b1f-c147-fe1e21da3d66"
      },
      "source": [
        "import random\n",
        "ix=random.randrange(0, len(df))\n",
        "i=df_new['itemID'].values[ix]\n",
        "get_possible_rating(i,12)"
      ],
      "execution_count": 33,
      "outputs": [
        {
          "output_type": "execute_result",
          "data": {
            "text/plain": [
              "['product_en_0026780',\n",
              " 'product_en_0424139',\n",
              " 'product_en_0391030',\n",
              " 'product_en_0409278',\n",
              " 'product_en_0487124',\n",
              " 'product_en_0947386',\n",
              " 'product_en_0173162',\n",
              " 'product_en_0156087',\n",
              " 'product_en_0360988',\n",
              " 'product_en_0906874',\n",
              " 'product_en_0465743',\n",
              " 'product_en_0138723']"
            ]
          },
          "metadata": {},
          "execution_count": 33
        }
      ]
    },
    {
      "cell_type": "code",
      "metadata": {
        "colab": {
          "base_uri": "https://localhost:8080/",
          "height": 742
        },
        "id": "uKbIfaqLIB0g",
        "outputId": "ee8c4ed6-1b6a-4750-b4f7-75380f301b81"
      },
      "source": [
        "df"
      ],
      "execution_count": 34,
      "outputs": [
        {
          "output_type": "execute_result",
          "data": {
            "text/html": [
              "<div>\n",
              "<style scoped>\n",
              "    .dataframe tbody tr th:only-of-type {\n",
              "        vertical-align: middle;\n",
              "    }\n",
              "\n",
              "    .dataframe tbody tr th {\n",
              "        vertical-align: top;\n",
              "    }\n",
              "\n",
              "    .dataframe thead th {\n",
              "        text-align: right;\n",
              "    }\n",
              "</style>\n",
              "<table border=\"1\" class=\"dataframe\">\n",
              "  <thead>\n",
              "    <tr style=\"text-align: right;\">\n",
              "      <th></th>\n",
              "      <th>review_id</th>\n",
              "      <th>product_id</th>\n",
              "      <th>reviewer_id</th>\n",
              "      <th>stars</th>\n",
              "      <th>review_body</th>\n",
              "      <th>review_title</th>\n",
              "      <th>language</th>\n",
              "      <th>product_category</th>\n",
              "    </tr>\n",
              "  </thead>\n",
              "  <tbody>\n",
              "    <tr>\n",
              "      <th>60124</th>\n",
              "      <td>en_0198486</td>\n",
              "      <td>product_en_0707560</td>\n",
              "      <td>reviewer_en_0236472</td>\n",
              "      <td>2</td>\n",
              "      <td>I like the looks of the clock. Unfortunately, ...</td>\n",
              "      <td>The Clock stopped</td>\n",
              "      <td>en</td>\n",
              "      <td>home</td>\n",
              "    </tr>\n",
              "    <tr>\n",
              "      <th>76664</th>\n",
              "      <td>en_0132853</td>\n",
              "      <td>product_en_0184281</td>\n",
              "      <td>reviewer_en_0109546</td>\n",
              "      <td>2</td>\n",
              "      <td>2 of the 3 ordered came bent to fit inside a t...</td>\n",
              "      <td>Two Stars</td>\n",
              "      <td>en</td>\n",
              "      <td>lawn_and_garden</td>\n",
              "    </tr>\n",
              "    <tr>\n",
              "      <th>91626</th>\n",
              "      <td>en_0063768</td>\n",
              "      <td>product_en_0731178</td>\n",
              "      <td>reviewer_en_0297330</td>\n",
              "      <td>3</td>\n",
              "      <td>I found the black nail parts to fall off easil...</td>\n",
              "      <td>Black Nails fall off</td>\n",
              "      <td>en</td>\n",
              "      <td>lawn_and_garden</td>\n",
              "    </tr>\n",
              "    <tr>\n",
              "      <th>155329</th>\n",
              "      <td>en_0716544</td>\n",
              "      <td>product_en_0419634</td>\n",
              "      <td>reviewer_en_0920268</td>\n",
              "      <td>4</td>\n",
              "      <td>Good for the price point</td>\n",
              "      <td>For yard projects</td>\n",
              "      <td>en</td>\n",
              "      <td>lawn_and_garden</td>\n",
              "    </tr>\n",
              "    <tr>\n",
              "      <th>149826</th>\n",
              "      <td>en_0388580</td>\n",
              "      <td>product_en_0407902</td>\n",
              "      <td>reviewer_en_0358996</td>\n",
              "      <td>4</td>\n",
              "      <td>We ordered the pineapple design and it's a nic...</td>\n",
              "      <td>Nice, but thin</td>\n",
              "      <td>en</td>\n",
              "      <td>home</td>\n",
              "    </tr>\n",
              "    <tr>\n",
              "      <th>...</th>\n",
              "      <td>...</td>\n",
              "      <td>...</td>\n",
              "      <td>...</td>\n",
              "      <td>...</td>\n",
              "      <td>...</td>\n",
              "      <td>...</td>\n",
              "      <td>...</td>\n",
              "      <td>...</td>\n",
              "    </tr>\n",
              "    <tr>\n",
              "      <th>11117</th>\n",
              "      <td>en_0809394</td>\n",
              "      <td>product_en_0142219</td>\n",
              "      <td>reviewer_en_0703036</td>\n",
              "      <td>1</td>\n",
              "      <td>The order came broken What do I do now?</td>\n",
              "      <td>The order came broken</td>\n",
              "      <td>en</td>\n",
              "      <td>wireless</td>\n",
              "    </tr>\n",
              "    <tr>\n",
              "      <th>185655</th>\n",
              "      <td>en_0292687</td>\n",
              "      <td>product_en_0197184</td>\n",
              "      <td>reviewer_en_0928340</td>\n",
              "      <td>5</td>\n",
              "      <td>In a world of post it’s sometimes you just nee...</td>\n",
              "      <td>Exactly as Advertised</td>\n",
              "      <td>en</td>\n",
              "      <td>office_product</td>\n",
              "    </tr>\n",
              "    <tr>\n",
              "      <th>114207</th>\n",
              "      <td>en_0208905</td>\n",
              "      <td>product_en_0736451</td>\n",
              "      <td>reviewer_en_0884313</td>\n",
              "      <td>3</td>\n",
              "      <td>Keeps breaking while printing I've used other ...</td>\n",
              "      <td>Filiment was brittle right from the packaging</td>\n",
              "      <td>en</td>\n",
              "      <td>industrial_supplies</td>\n",
              "    </tr>\n",
              "    <tr>\n",
              "      <th>183903</th>\n",
              "      <td>en_0484662</td>\n",
              "      <td>product_en_0385392</td>\n",
              "      <td>reviewer_en_0061305</td>\n",
              "      <td>5</td>\n",
              "      <td>Although activated charcoal has become a popul...</td>\n",
              "      <td>A noticable difference from the first use!</td>\n",
              "      <td>en</td>\n",
              "      <td>beauty</td>\n",
              "    </tr>\n",
              "    <tr>\n",
              "      <th>17445</th>\n",
              "      <td>en_0617002</td>\n",
              "      <td>product_en_0297687</td>\n",
              "      <td>reviewer_en_0629889</td>\n",
              "      <td>1</td>\n",
              "      <td>Only cut sound....have no reverb at all. Had i...</td>\n",
              "      <td>No Reverb</td>\n",
              "      <td>en</td>\n",
              "      <td>musical_instruments</td>\n",
              "    </tr>\n",
              "  </tbody>\n",
              "</table>\n",
              "<p>10000 rows × 8 columns</p>\n",
              "</div>"
            ],
            "text/plain": [
              "         review_id          product_id  ... language     product_category\n",
              "60124   en_0198486  product_en_0707560  ...       en                 home\n",
              "76664   en_0132853  product_en_0184281  ...       en      lawn_and_garden\n",
              "91626   en_0063768  product_en_0731178  ...       en      lawn_and_garden\n",
              "155329  en_0716544  product_en_0419634  ...       en      lawn_and_garden\n",
              "149826  en_0388580  product_en_0407902  ...       en                 home\n",
              "...            ...                 ...  ...      ...                  ...\n",
              "11117   en_0809394  product_en_0142219  ...       en             wireless\n",
              "185655  en_0292687  product_en_0197184  ...       en       office_product\n",
              "114207  en_0208905  product_en_0736451  ...       en  industrial_supplies\n",
              "183903  en_0484662  product_en_0385392  ...       en               beauty\n",
              "17445   en_0617002  product_en_0297687  ...       en  musical_instruments\n",
              "\n",
              "[10000 rows x 8 columns]"
            ]
          },
          "metadata": {},
          "execution_count": 34
        }
      ]
    },
    {
      "cell_type": "markdown",
      "metadata": {
        "id": "l7rgQT7OIBlR"
      },
      "source": [
        ""
      ]
    },
    {
      "cell_type": "code",
      "metadata": {
        "colab": {
          "base_uri": "https://localhost:8080/",
          "height": 419
        },
        "id": "kenUTcuGEzTD",
        "outputId": "cb33985c-f872-435b-acd3-bdc628bff4c7"
      },
      "source": [
        "df=df_new\n",
        "\n",
        "df"
      ],
      "execution_count": 35,
      "outputs": [
        {
          "output_type": "execute_result",
          "data": {
            "text/html": [
              "<div>\n",
              "<style scoped>\n",
              "    .dataframe tbody tr th:only-of-type {\n",
              "        vertical-align: middle;\n",
              "    }\n",
              "\n",
              "    .dataframe tbody tr th {\n",
              "        vertical-align: top;\n",
              "    }\n",
              "\n",
              "    .dataframe thead th {\n",
              "        text-align: right;\n",
              "    }\n",
              "</style>\n",
              "<table border=\"1\" class=\"dataframe\">\n",
              "  <thead>\n",
              "    <tr style=\"text-align: right;\">\n",
              "      <th></th>\n",
              "      <th>userID</th>\n",
              "      <th>itemID</th>\n",
              "      <th>rating</th>\n",
              "    </tr>\n",
              "  </thead>\n",
              "  <tbody>\n",
              "    <tr>\n",
              "      <th>60124</th>\n",
              "      <td>reviewer_en_0236472</td>\n",
              "      <td>product_en_0707560</td>\n",
              "      <td>2</td>\n",
              "    </tr>\n",
              "    <tr>\n",
              "      <th>76664</th>\n",
              "      <td>reviewer_en_0109546</td>\n",
              "      <td>product_en_0184281</td>\n",
              "      <td>2</td>\n",
              "    </tr>\n",
              "    <tr>\n",
              "      <th>91626</th>\n",
              "      <td>reviewer_en_0297330</td>\n",
              "      <td>product_en_0731178</td>\n",
              "      <td>3</td>\n",
              "    </tr>\n",
              "    <tr>\n",
              "      <th>155329</th>\n",
              "      <td>reviewer_en_0920268</td>\n",
              "      <td>product_en_0419634</td>\n",
              "      <td>4</td>\n",
              "    </tr>\n",
              "    <tr>\n",
              "      <th>149826</th>\n",
              "      <td>reviewer_en_0358996</td>\n",
              "      <td>product_en_0407902</td>\n",
              "      <td>4</td>\n",
              "    </tr>\n",
              "    <tr>\n",
              "      <th>...</th>\n",
              "      <td>...</td>\n",
              "      <td>...</td>\n",
              "      <td>...</td>\n",
              "    </tr>\n",
              "    <tr>\n",
              "      <th>11117</th>\n",
              "      <td>reviewer_en_0703036</td>\n",
              "      <td>product_en_0142219</td>\n",
              "      <td>1</td>\n",
              "    </tr>\n",
              "    <tr>\n",
              "      <th>185655</th>\n",
              "      <td>reviewer_en_0928340</td>\n",
              "      <td>product_en_0197184</td>\n",
              "      <td>5</td>\n",
              "    </tr>\n",
              "    <tr>\n",
              "      <th>114207</th>\n",
              "      <td>reviewer_en_0884313</td>\n",
              "      <td>product_en_0736451</td>\n",
              "      <td>3</td>\n",
              "    </tr>\n",
              "    <tr>\n",
              "      <th>183903</th>\n",
              "      <td>reviewer_en_0061305</td>\n",
              "      <td>product_en_0385392</td>\n",
              "      <td>5</td>\n",
              "    </tr>\n",
              "    <tr>\n",
              "      <th>17445</th>\n",
              "      <td>reviewer_en_0629889</td>\n",
              "      <td>product_en_0297687</td>\n",
              "      <td>1</td>\n",
              "    </tr>\n",
              "  </tbody>\n",
              "</table>\n",
              "<p>10000 rows × 3 columns</p>\n",
              "</div>"
            ],
            "text/plain": [
              "                     userID              itemID  rating\n",
              "60124   reviewer_en_0236472  product_en_0707560       2\n",
              "76664   reviewer_en_0109546  product_en_0184281       2\n",
              "91626   reviewer_en_0297330  product_en_0731178       3\n",
              "155329  reviewer_en_0920268  product_en_0419634       4\n",
              "149826  reviewer_en_0358996  product_en_0407902       4\n",
              "...                     ...                 ...     ...\n",
              "11117   reviewer_en_0703036  product_en_0142219       1\n",
              "185655  reviewer_en_0928340  product_en_0197184       5\n",
              "114207  reviewer_en_0884313  product_en_0736451       3\n",
              "183903  reviewer_en_0061305  product_en_0385392       5\n",
              "17445   reviewer_en_0629889  product_en_0297687       1\n",
              "\n",
              "[10000 rows x 3 columns]"
            ]
          },
          "metadata": {},
          "execution_count": 35
        }
      ]
    },
    {
      "cell_type": "markdown",
      "metadata": {
        "id": "QKToRMEkc1XN"
      },
      "source": [
        "## Model Based Collobartive filtering\n"
      ]
    },
    {
      "cell_type": "markdown",
      "metadata": {
        "id": "ryUEn_6QdBQ0"
      },
      "source": [
        "Preprocessing for model based collaborative filtering.\n"
      ]
    },
    {
      "cell_type": "code",
      "metadata": {
        "id": "eE6EKuRUDQ7e"
      },
      "source": [
        "ratings_matrix = df.pivot_table(values='rating', index='userID', columns='itemID', fill_value=0)\n"
      ],
      "execution_count": 36,
      "outputs": []
    },
    {
      "cell_type": "code",
      "metadata": {
        "id": "tl7waxzBH_h8"
      },
      "source": [
        "X = ratings_matrix.T"
      ],
      "execution_count": 37,
      "outputs": []
    },
    {
      "cell_type": "code",
      "metadata": {
        "id": "CQPhBwKRISNh"
      },
      "source": [
        "X1 = X"
      ],
      "execution_count": 38,
      "outputs": []
    },
    {
      "cell_type": "code",
      "metadata": {
        "colab": {
          "base_uri": "https://localhost:8080/"
        },
        "id": "Uf00sTpsIMYC",
        "outputId": "841b546f-8f21-44df-b03e-d3b6f743f3e8"
      },
      "source": [
        "from sklearn.decomposition import TruncatedSVD\n",
        "SVD = TruncatedSVD(n_components=10)\n",
        "decomposed_matrix = SVD.fit_transform(X)\n",
        "decomposed_matrix.shape"
      ],
      "execution_count": 39,
      "outputs": [
        {
          "output_type": "execute_result",
          "data": {
            "text/plain": [
              "(9953, 10)"
            ]
          },
          "metadata": {},
          "execution_count": 39
        }
      ]
    },
    {
      "cell_type": "code",
      "metadata": {
        "colab": {
          "base_uri": "https://localhost:8080/"
        },
        "id": "onQZaF5NIStK",
        "outputId": "05ead0c3-115b-4503-fd6e-7c901fe1a444"
      },
      "source": [
        "import numpy as np\n",
        "correlation_matrix = np.corrcoef(decomposed_matrix)\n",
        "correlation_matrix.shape"
      ],
      "execution_count": 40,
      "outputs": [
        {
          "output_type": "execute_result",
          "data": {
            "text/plain": [
              "(9953, 9953)"
            ]
          },
          "metadata": {},
          "execution_count": 40
        }
      ]
    },
    {
      "cell_type": "code",
      "metadata": {
        "id": "pWgfbnUtIaOW"
      },
      "source": [
        "import random\n",
        "ix=random.randrange(0, len(df))\n",
        "i=df['itemID'].values[ix]\n",
        "product_names = list(X.index)\n",
        "product_ID = product_names.index(i)"
      ],
      "execution_count": 41,
      "outputs": []
    },
    {
      "cell_type": "code",
      "metadata": {
        "id": "9_wlduGaIgEt"
      },
      "source": [
        "correlation_product_ID = correlation_matrix[product_ID]"
      ],
      "execution_count": 42,
      "outputs": []
    },
    {
      "cell_type": "code",
      "metadata": {
        "colab": {
          "base_uri": "https://localhost:8080/"
        },
        "id": "lwrS1iomImSW",
        "outputId": "23571d02-1b92-49fd-edfa-e140cb45d3b0"
      },
      "source": [
        "Recommend = list(X.index[correlation_product_ID > 0.65])\n",
        "\n",
        "# Removes the item already bought by the customer\n",
        "Recommend.remove(i) \n",
        "\n",
        "\n",
        "print(\"Recommeneded items for the product \"+i+\" are :\")\n",
        "Recommend[0:5]"
      ],
      "execution_count": 43,
      "outputs": [
        {
          "output_type": "stream",
          "name": "stdout",
          "text": [
            "Recommeneded items for the product product_en_0513848 are :\n"
          ]
        },
        {
          "output_type": "execute_result",
          "data": {
            "text/plain": [
              "['product_en_0000522',\n",
              " 'product_en_0001789',\n",
              " 'product_en_0011259',\n",
              " 'product_en_0016760',\n",
              " 'product_en_0018826']"
            ]
          },
          "metadata": {},
          "execution_count": 43
        }
      ]
    },
    {
      "cell_type": "code",
      "metadata": {
        "id": "Rlxu0_a5J7w3"
      },
      "source": [
        ""
      ],
      "execution_count": 43,
      "outputs": []
    }
  ]
}