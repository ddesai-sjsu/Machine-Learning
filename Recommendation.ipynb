{
  "nbformat": 4,
  "nbformat_minor": 0,
  "metadata": {
    "colab": {
      "name": "Recommendation.ipynb",
      "provenance": [],
      "collapsed_sections": [],
      "authorship_tag": "ABX9TyOiDQqYiLOf7gpZzSsvq7hi",
      "include_colab_link": true
    },
    "kernelspec": {
      "name": "python3",
      "display_name": "Python 3"
    },
    "language_info": {
      "name": "python"
    },
    "accelerator": "GPU"
  },
  "cells": [
    {
      "cell_type": "markdown",
      "metadata": {
        "id": "view-in-github",
        "colab_type": "text"
      },
      "source": [
        "<a href=\"https://colab.research.google.com/github/ddesai-sjsu/Machine-Learning/blob/main/Recommendation.ipynb\" target=\"_parent\"><img src=\"https://colab.research.google.com/assets/colab-badge.svg\" alt=\"Open In Colab\"/></a>"
      ]
    },
    {
      "cell_type": "markdown",
      "metadata": {
        "id": "9XnZka57bGgY"
      },
      "source": [
        "# Amazon Review \n",
        "Recommendation Engine"
      ]
    },
    {
      "cell_type": "markdown",
      "metadata": {
        "id": "2fb6a8ENbOD_"
      },
      "source": [
        "## Installing required libraries"
      ]
    },
    {
      "cell_type": "code",
      "metadata": {
        "colab": {
          "base_uri": "https://localhost:8080/"
        },
        "id": "8_s5xcVzKEmG",
        "outputId": "447be39c-adb4-404c-c571-945bbce59cdd"
      },
      "source": [
        "!pip install surprise"
      ],
      "execution_count": 29,
      "outputs": [
        {
          "output_type": "stream",
          "name": "stdout",
          "text": [
            "Requirement already satisfied: surprise in /usr/local/lib/python3.7/dist-packages (0.1)\n",
            "Requirement already satisfied: scikit-surprise in /usr/local/lib/python3.7/dist-packages (from surprise) (1.1.1)\n",
            "Requirement already satisfied: six>=1.10.0 in /usr/local/lib/python3.7/dist-packages (from scikit-surprise->surprise) (1.15.0)\n",
            "Requirement already satisfied: numpy>=1.11.2 in /usr/local/lib/python3.7/dist-packages (from scikit-surprise->surprise) (1.19.5)\n",
            "Requirement already satisfied: joblib>=0.11 in /usr/local/lib/python3.7/dist-packages (from scikit-surprise->surprise) (1.0.1)\n",
            "Requirement already satisfied: scipy>=1.0.0 in /usr/local/lib/python3.7/dist-packages (from scikit-surprise->surprise) (1.4.1)\n"
          ]
        }
      ]
    },
    {
      "cell_type": "markdown",
      "metadata": {
        "id": "JHYINAHbbRP9"
      },
      "source": [
        "## Importing required libraries"
      ]
    },
    {
      "cell_type": "code",
      "metadata": {
        "id": "fkDqbm-UH_o2"
      },
      "source": [
        "import pandas as pd\n",
        "from surprise import *\n",
        "from surprise import Dataset\n",
        "from surprise import accuracy\n",
        "from surprise import Reader\n",
        "import os\n",
        "from surprise.model_selection import train_test_split"
      ],
      "execution_count": 30,
      "outputs": []
    },
    {
      "cell_type": "markdown",
      "metadata": {
        "id": "30qjbyQPbUVu"
      },
      "source": [
        "## Preprocessing Data"
      ]
    },
    {
      "cell_type": "code",
      "metadata": {
        "id": "YBI8giegIGiy"
      },
      "source": [
        "df=pd.read_json('https://amazon-reviews-ml.s3-us-west-2.amazonaws.com/json/train/dataset_en_train.json',lines=True)"
      ],
      "execution_count": 31,
      "outputs": []
    },
    {
      "cell_type": "code",
      "metadata": {
        "colab": {
          "base_uri": "https://localhost:8080/",
          "height": 521
        },
        "id": "4zQkw7jCKifo",
        "outputId": "b7d0e3a8-0924-4e3d-cef1-1e6a9cb3e27f"
      },
      "source": [
        "df=df.sample(frac=0.05)\n",
        "df"
      ],
      "execution_count": 32,
      "outputs": [
        {
          "output_type": "execute_result",
          "data": {
            "text/html": [
              "<div>\n",
              "<style scoped>\n",
              "    .dataframe tbody tr th:only-of-type {\n",
              "        vertical-align: middle;\n",
              "    }\n",
              "\n",
              "    .dataframe tbody tr th {\n",
              "        vertical-align: top;\n",
              "    }\n",
              "\n",
              "    .dataframe thead th {\n",
              "        text-align: right;\n",
              "    }\n",
              "</style>\n",
              "<table border=\"1\" class=\"dataframe\">\n",
              "  <thead>\n",
              "    <tr style=\"text-align: right;\">\n",
              "      <th></th>\n",
              "      <th>review_id</th>\n",
              "      <th>product_id</th>\n",
              "      <th>reviewer_id</th>\n",
              "      <th>stars</th>\n",
              "      <th>review_body</th>\n",
              "      <th>review_title</th>\n",
              "      <th>language</th>\n",
              "      <th>product_category</th>\n",
              "    </tr>\n",
              "  </thead>\n",
              "  <tbody>\n",
              "    <tr>\n",
              "      <th>100768</th>\n",
              "      <td>en_0609431</td>\n",
              "      <td>product_en_0293655</td>\n",
              "      <td>reviewer_en_0143025</td>\n",
              "      <td>3</td>\n",
              "      <td>I haven't used the product long enough to see ...</td>\n",
              "      <td>Packaging and delivery system of product needs...</td>\n",
              "      <td>en</td>\n",
              "      <td>beauty</td>\n",
              "    </tr>\n",
              "    <tr>\n",
              "      <th>139219</th>\n",
              "      <td>en_0892274</td>\n",
              "      <td>product_en_0055654</td>\n",
              "      <td>reviewer_en_0522857</td>\n",
              "      <td>4</td>\n",
              "      <td>Contrary to what weber says these do not do th...</td>\n",
              "      <td>Beyond that it is great.</td>\n",
              "      <td>en</td>\n",
              "      <td>lawn_and_garden</td>\n",
              "    </tr>\n",
              "    <tr>\n",
              "      <th>191725</th>\n",
              "      <td>en_0445610</td>\n",
              "      <td>product_en_0039402</td>\n",
              "      <td>reviewer_en_0984328</td>\n",
              "      <td>5</td>\n",
              "      <td>My granddaughter loves her baby doll.</td>\n",
              "      <td>Happy granddaughter!</td>\n",
              "      <td>en</td>\n",
              "      <td>toy</td>\n",
              "    </tr>\n",
              "    <tr>\n",
              "      <th>142225</th>\n",
              "      <td>en_0463324</td>\n",
              "      <td>product_en_0662006</td>\n",
              "      <td>reviewer_en_0985077</td>\n",
              "      <td>4</td>\n",
              "      <td>Nice looking tires, fit fine. I have only used...</td>\n",
              "      <td>Fit great.</td>\n",
              "      <td>en</td>\n",
              "      <td>other</td>\n",
              "    </tr>\n",
              "    <tr>\n",
              "      <th>64505</th>\n",
              "      <td>en_0936941</td>\n",
              "      <td>product_en_0926034</td>\n",
              "      <td>reviewer_en_0582190</td>\n",
              "      <td>2</td>\n",
              "      <td>It fell apart in less then a month.</td>\n",
              "      <td>You get what you pay for</td>\n",
              "      <td>en</td>\n",
              "      <td>wireless</td>\n",
              "    </tr>\n",
              "    <tr>\n",
              "      <th>...</th>\n",
              "      <td>...</td>\n",
              "      <td>...</td>\n",
              "      <td>...</td>\n",
              "      <td>...</td>\n",
              "      <td>...</td>\n",
              "      <td>...</td>\n",
              "      <td>...</td>\n",
              "      <td>...</td>\n",
              "    </tr>\n",
              "    <tr>\n",
              "      <th>44622</th>\n",
              "      <td>en_0149266</td>\n",
              "      <td>product_en_0098276</td>\n",
              "      <td>reviewer_en_0521315</td>\n",
              "      <td>2</td>\n",
              "      <td>It came with the price sticker still on it. Th...</td>\n",
              "      <td>Not worth the money</td>\n",
              "      <td>en</td>\n",
              "      <td>kitchen</td>\n",
              "    </tr>\n",
              "    <tr>\n",
              "      <th>71212</th>\n",
              "      <td>en_0959264</td>\n",
              "      <td>product_en_0038118</td>\n",
              "      <td>reviewer_en_0741564</td>\n",
              "      <td>2</td>\n",
              "      <td>Broke after only several weeks of owning. Beau...</td>\n",
              "      <td>Beautiful but not</td>\n",
              "      <td>en</td>\n",
              "      <td>lawn_and_garden</td>\n",
              "    </tr>\n",
              "    <tr>\n",
              "      <th>150462</th>\n",
              "      <td>en_0462387</td>\n",
              "      <td>product_en_0587916</td>\n",
              "      <td>reviewer_en_0808820</td>\n",
              "      <td>4</td>\n",
              "      <td>I order two for comforter for my daughters. Th...</td>\n",
              "      <td>I would recommend a friend to buy one</td>\n",
              "      <td>en</td>\n",
              "      <td>home</td>\n",
              "    </tr>\n",
              "    <tr>\n",
              "      <th>124583</th>\n",
              "      <td>en_0956354</td>\n",
              "      <td>product_en_0116385</td>\n",
              "      <td>reviewer_en_0319595</td>\n",
              "      <td>4</td>\n",
              "      <td>Works great. The door to VHS player does not c...</td>\n",
              "      <td>Four Stars</td>\n",
              "      <td>en</td>\n",
              "      <td>other</td>\n",
              "    </tr>\n",
              "    <tr>\n",
              "      <th>7039</th>\n",
              "      <td>en_0113558</td>\n",
              "      <td>product_en_0420042</td>\n",
              "      <td>reviewer_en_0624838</td>\n",
              "      <td>1</td>\n",
              "      <td>This does not work. It ruined my dough. The wh...</td>\n",
              "      <td>One Star</td>\n",
              "      <td>en</td>\n",
              "      <td>kitchen</td>\n",
              "    </tr>\n",
              "  </tbody>\n",
              "</table>\n",
              "<p>10000 rows × 8 columns</p>\n",
              "</div>"
            ],
            "text/plain": [
              "         review_id          product_id  ... language  product_category\n",
              "100768  en_0609431  product_en_0293655  ...       en            beauty\n",
              "139219  en_0892274  product_en_0055654  ...       en   lawn_and_garden\n",
              "191725  en_0445610  product_en_0039402  ...       en               toy\n",
              "142225  en_0463324  product_en_0662006  ...       en             other\n",
              "64505   en_0936941  product_en_0926034  ...       en          wireless\n",
              "...            ...                 ...  ...      ...               ...\n",
              "44622   en_0149266  product_en_0098276  ...       en           kitchen\n",
              "71212   en_0959264  product_en_0038118  ...       en   lawn_and_garden\n",
              "150462  en_0462387  product_en_0587916  ...       en              home\n",
              "124583  en_0956354  product_en_0116385  ...       en             other\n",
              "7039    en_0113558  product_en_0420042  ...       en           kitchen\n",
              "\n",
              "[10000 rows x 8 columns]"
            ]
          },
          "metadata": {},
          "execution_count": 32
        }
      ]
    },
    {
      "cell_type": "code",
      "metadata": {
        "colab": {
          "base_uri": "https://localhost:8080/"
        },
        "id": "tMQGbFd0I7aj",
        "outputId": "cf04d9fe-2c7a-4c3e-82e2-8e4ae3299e56"
      },
      "source": [
        "df.columns"
      ],
      "execution_count": 33,
      "outputs": [
        {
          "output_type": "execute_result",
          "data": {
            "text/plain": [
              "Index(['review_id', 'product_id', 'reviewer_id', 'stars', 'review_body',\n",
              "       'review_title', 'language', 'product_category'],\n",
              "      dtype='object')"
            ]
          },
          "metadata": {},
          "execution_count": 33
        }
      ]
    },
    {
      "cell_type": "code",
      "metadata": {
        "id": "hWMpYrBeJqAM"
      },
      "source": [
        "df_new=df[['reviewer_id','product_id','stars']]"
      ],
      "execution_count": 34,
      "outputs": []
    },
    {
      "cell_type": "code",
      "metadata": {
        "id": "yqO1bzB_Nvog"
      },
      "source": [
        "df_new.columns=['userID','itemID','rating']"
      ],
      "execution_count": 35,
      "outputs": []
    },
    {
      "cell_type": "markdown",
      "metadata": {
        "id": "sEO-bss5bYp5"
      },
      "source": [
        "## Converting Data to data type that surprise module can consume"
      ]
    },
    {
      "cell_type": "code",
      "metadata": {
        "id": "4MH6W30wIpjH"
      },
      "source": [
        "reader = Reader(rating_scale=(1, 5))\n",
        "data = Dataset.load_from_df(df_new,reader)"
      ],
      "execution_count": 36,
      "outputs": []
    },
    {
      "cell_type": "code",
      "metadata": {
        "id": "tq7Qv2q9IvwK"
      },
      "source": [
        "trainset, testset = train_test_split(data, test_size=0.3,random_state=10)"
      ],
      "execution_count": 37,
      "outputs": []
    },
    {
      "cell_type": "code",
      "metadata": {
        "colab": {
          "base_uri": "https://localhost:8080/"
        },
        "id": "tbfQOYP2YDFP",
        "outputId": "52bd282d-9612-4b9c-c8bb-af8c29e4079a"
      },
      "source": [
        "trainset"
      ],
      "execution_count": 38,
      "outputs": [
        {
          "output_type": "execute_result",
          "data": {
            "text/plain": [
              "<surprise.trainset.Trainset at 0x7fef4ff79d50>"
            ]
          },
          "metadata": {},
          "execution_count": 38
        }
      ]
    },
    {
      "cell_type": "code",
      "metadata": {
        "id": "8AdF21KGKSax"
      },
      "source": [
        "acuuracy_table={}"
      ],
      "execution_count": 39,
      "outputs": []
    },
    {
      "cell_type": "markdown",
      "metadata": {
        "id": "xZzniMq0bhYR"
      },
      "source": [
        "# training the model on multiple types\n",
        "\n",
        "\n",
        "1.  'BaselineOnly'\n",
        "2.  'CoClustering'\n",
        "3.  'KNNBaseline'\n",
        "4.  'KNNBasic'\n",
        "5.  'KNNWithMeans'\n",
        "6.  'KNNWithZScore'\n",
        "7.  'NMF': \n",
        "8.  'NormalPredictor': \n",
        "9.  'SVD':\n",
        "10. 'SVDpp': \n",
        "11. 'SlopeOne':"
      ]
    },
    {
      "cell_type": "code",
      "metadata": {
        "colab": {
          "base_uri": "https://localhost:8080/"
        },
        "id": "3COEBhn9I1TU",
        "outputId": "b7128fe4-b842-4ec7-af16-cfc9dde9585d"
      },
      "source": [
        "algo = KNNWithMeans(k=5, sim_options={'name': 'pearson_baseline', 'user_based': False})\n",
        "algo.fit(trainset)\n",
        "test_pred = algo.test(testset)\n",
        "accuracy_model=round(float(str(accuracy.rmse(test_pred, verbose=True))[0:]),4)\n",
        "acuuracy_table['KNNWithMeans']=accuracy_model"
      ],
      "execution_count": 40,
      "outputs": [
        {
          "output_type": "stream",
          "name": "stdout",
          "text": [
            "Estimating biases using als...\n",
            "Computing the pearson_baseline similarity matrix...\n",
            "Done computing similarity matrix.\n",
            "RMSE: 1.4060\n"
          ]
        }
      ]
    },
    {
      "cell_type": "code",
      "metadata": {
        "id": "dujIBFkALHPC",
        "colab": {
          "base_uri": "https://localhost:8080/"
        },
        "outputId": "4e883e1c-321a-4cc6-a112-8aecfb92390d"
      },
      "source": [
        "algo = NormalPredictor( )\n",
        "algo.fit(trainset)\n",
        "test_pred = algo.test(testset)\n",
        "accuracy_model=round(float(str(accuracy.rmse(test_pred, verbose=True))[0:]),4)\n",
        "accuracy_model\n",
        "acuuracy_table['NormalPredictor']=accuracy_model"
      ],
      "execution_count": 41,
      "outputs": [
        {
          "output_type": "stream",
          "name": "stdout",
          "text": [
            "RMSE: 1.8619\n"
          ]
        }
      ]
    },
    {
      "cell_type": "code",
      "metadata": {
        "colab": {
          "base_uri": "https://localhost:8080/"
        },
        "id": "aw0g9MMD9tBb",
        "outputId": "7809b2d9-5359-4b16-b7f3-5bfd25f97019"
      },
      "source": [
        "algo = BaselineOnly()\n",
        "algo.fit(trainset)\n",
        "test_pred = algo.test(testset)\n",
        "accuracy_model=round(float(str(accuracy.rmse(test_pred, verbose=True))[0:]),4)\n",
        "accuracy_model\n",
        "acuuracy_table['BaselineOnly']=accuracy_model"
      ],
      "execution_count": 42,
      "outputs": [
        {
          "output_type": "stream",
          "name": "stdout",
          "text": [
            "Estimating biases using als...\n",
            "RMSE: 1.4059\n"
          ]
        }
      ]
    },
    {
      "cell_type": "code",
      "metadata": {
        "colab": {
          "base_uri": "https://localhost:8080/"
        },
        "id": "90PqoP3F69c3",
        "outputId": "057ab4b3-9665-4ef4-cfc4-ce132c68f7f2"
      },
      "source": [
        "algo = KNNBasic()\n",
        "algo.fit(trainset)\n",
        "test_pred = algo.test(testset)\n",
        "accuracy_model=round(float(str(accuracy.rmse(test_pred, verbose=True))[0:]),4)\n",
        "accuracy_model\n",
        "acuuracy_table['KNNBasic']=accuracy_model"
      ],
      "execution_count": 43,
      "outputs": [
        {
          "output_type": "stream",
          "name": "stdout",
          "text": [
            "Computing the msd similarity matrix...\n",
            "Done computing similarity matrix.\n",
            "RMSE: 1.4060\n"
          ]
        }
      ]
    },
    {
      "cell_type": "code",
      "metadata": {
        "colab": {
          "base_uri": "https://localhost:8080/"
        },
        "id": "9fIY5JF_9-qm",
        "outputId": "d277b20f-c84d-4b8f-879c-e901db547709"
      },
      "source": [
        "algo = KNNWithZScore()\n",
        "algo.fit(trainset)\n",
        "test_pred = algo.test(testset)\n",
        "accuracy_model=round(float(str(accuracy.rmse(test_pred, verbose=True))[0:]),4)\n",
        "accuracy_model\n",
        "acuuracy_table['KNNWithZScore']=accuracy_model"
      ],
      "execution_count": 44,
      "outputs": [
        {
          "output_type": "stream",
          "name": "stdout",
          "text": [
            "Computing the msd similarity matrix...\n",
            "Done computing similarity matrix.\n",
            "RMSE: 1.4060\n"
          ]
        }
      ]
    },
    {
      "cell_type": "code",
      "metadata": {
        "colab": {
          "base_uri": "https://localhost:8080/"
        },
        "id": "hxy5vJMi-EA6",
        "outputId": "f0ce099d-2aac-4d4c-d946-1369b7703806"
      },
      "source": [
        "algo = KNNBaseline()\n",
        "algo.fit(trainset)\n",
        "test_pred = algo.test(testset)\n",
        "accuracy_model=round(float(str(accuracy.rmse(test_pred, verbose=True))[0:]),4)\n",
        "accuracy_model\n",
        "acuuracy_table['KNNBaseline']=accuracy_model"
      ],
      "execution_count": 45,
      "outputs": [
        {
          "output_type": "stream",
          "name": "stdout",
          "text": [
            "Estimating biases using als...\n",
            "Computing the msd similarity matrix...\n",
            "Done computing similarity matrix.\n",
            "RMSE: 1.4059\n"
          ]
        }
      ]
    },
    {
      "cell_type": "code",
      "metadata": {
        "colab": {
          "base_uri": "https://localhost:8080/"
        },
        "id": "RUSqbzog-MdW",
        "outputId": "31f1c553-cebc-4cff-b59f-32ecf51cab43"
      },
      "source": [
        "algo = SVD()\n",
        "algo.fit(trainset)\n",
        "test_pred = algo.test(testset)\n",
        "accuracy_model=round(float(str(accuracy.rmse(test_pred, verbose=True))[0:]),4)\n",
        "accuracy_model\n",
        "acuuracy_table['SVD']=accuracy_model"
      ],
      "execution_count": 46,
      "outputs": [
        {
          "output_type": "stream",
          "name": "stdout",
          "text": [
            "RMSE: 1.4059\n"
          ]
        }
      ]
    },
    {
      "cell_type": "code",
      "metadata": {
        "colab": {
          "base_uri": "https://localhost:8080/"
        },
        "id": "4RgNg2Mu-TPI",
        "outputId": "e5c63168-20b4-471c-db5b-f21fccea6261"
      },
      "source": [
        "algo =SVDpp()\n",
        "algo.fit(trainset)\n",
        "test_pred = algo.test(testset)\n",
        "accuracy_model=round(float(str(accuracy.rmse(test_pred, verbose=True))[0:]),4)\n",
        "accuracy_model\n",
        "acuuracy_table['SVDpp']=accuracy_model"
      ],
      "execution_count": 47,
      "outputs": [
        {
          "output_type": "stream",
          "name": "stdout",
          "text": [
            "RMSE: 1.4058\n"
          ]
        }
      ]
    },
    {
      "cell_type": "code",
      "metadata": {
        "colab": {
          "base_uri": "https://localhost:8080/"
        },
        "id": "teD_uvft-Zj2",
        "outputId": "20dcfc24-957e-441f-c3cc-9f4cd39e4c78"
      },
      "source": [
        "algo =NMF()\n",
        "algo.fit(trainset)\n",
        "test_pred = algo.test(testset)\n",
        "accuracy_model=round(float(str(accuracy.rmse(test_pred, verbose=True))[0:]),4)\n",
        "accuracy_model\n",
        "acuuracy_table['NMF']=accuracy_model"
      ],
      "execution_count": 48,
      "outputs": [
        {
          "output_type": "stream",
          "name": "stdout",
          "text": [
            "RMSE: 1.4060\n"
          ]
        }
      ]
    },
    {
      "cell_type": "code",
      "metadata": {
        "colab": {
          "base_uri": "https://localhost:8080/"
        },
        "id": "Vj3hHm7v-eCX",
        "outputId": "86c29cdb-a3ae-4841-e647-d1da90cb226a"
      },
      "source": [
        "algo =SlopeOne()\n",
        "algo.fit(trainset)\n",
        "test_pred = algo.test(testset)\n",
        "accuracy_model=round(float(str(accuracy.rmse(test_pred, verbose=True))[0:]),4)\n",
        "accuracy_model\n",
        "acuuracy_table['SlopeOne']=accuracy_model"
      ],
      "execution_count": 49,
      "outputs": [
        {
          "output_type": "stream",
          "name": "stdout",
          "text": [
            "RMSE: 1.4060\n"
          ]
        }
      ]
    },
    {
      "cell_type": "code",
      "metadata": {
        "colab": {
          "base_uri": "https://localhost:8080/"
        },
        "id": "5FG7flmA-i4R",
        "outputId": "da8063c3-47a1-4a55-8d92-6c2e09f5f518"
      },
      "source": [
        "algo =CoClustering()\n",
        "algo.fit(trainset)\n",
        "test_pred = algo.test(testset)\n",
        "accuracy_model=round(float(str(accuracy.rmse(test_pred, verbose=True))[0:]),4)\n",
        "accuracy_model\n",
        "acuuracy_table['CoClustering']=accuracy_model"
      ],
      "execution_count": 50,
      "outputs": [
        {
          "output_type": "stream",
          "name": "stdout",
          "text": [
            "RMSE: 1.4060\n"
          ]
        }
      ]
    },
    {
      "cell_type": "code",
      "metadata": {
        "colab": {
          "base_uri": "https://localhost:8080/"
        },
        "id": "Qzow61_PLD7E",
        "outputId": "bee5b65f-f7e2-4f8f-9795-6a9d1a09d477"
      },
      "source": [
        "algo.predict(uid='reviewer_en_0742686',iid='product_en_0095361').est"
      ],
      "execution_count": 51,
      "outputs": [
        {
          "output_type": "execute_result",
          "data": {
            "text/plain": [
              "2.971"
            ]
          },
          "metadata": {},
          "execution_count": 51
        }
      ]
    },
    {
      "cell_type": "markdown",
      "metadata": {
        "id": "po3kLifTcERz"
      },
      "source": [
        "## Comparing all the model performance"
      ]
    },
    {
      "cell_type": "code",
      "metadata": {
        "colab": {
          "base_uri": "https://localhost:8080/"
        },
        "id": "q7EvfITYOrMs",
        "outputId": "1a7ed8bf-bd13-446f-9bd7-e5a68b7ed88c"
      },
      "source": [
        "acuuracy_table"
      ],
      "execution_count": 52,
      "outputs": [
        {
          "output_type": "execute_result",
          "data": {
            "text/plain": [
              "{'BaselineOnly': 1.4059,\n",
              " 'CoClustering': 1.406,\n",
              " 'KNNBaseline': 1.4059,\n",
              " 'KNNBasic': 1.406,\n",
              " 'KNNWithMeans': 1.406,\n",
              " 'KNNWithZScore': 1.406,\n",
              " 'NMF': 1.406,\n",
              " 'NormalPredictor': 1.8619,\n",
              " 'SVD': 1.4059,\n",
              " 'SVDpp': 1.4058,\n",
              " 'SlopeOne': 1.406}"
            ]
          },
          "metadata": {},
          "execution_count": 52
        }
      ]
    },
    {
      "cell_type": "code",
      "metadata": {
        "colab": {
          "base_uri": "https://localhost:8080/",
          "height": 389
        },
        "id": "1zxLBDINPDVG",
        "outputId": "970d1268-84d0-4df7-8661-60c16e92b83e"
      },
      "source": [
        "from matplotlib import pyplot as plt\n",
        "import seaborn as sns\n",
        "accuracy_x=pd.DataFrame.from_dict(acuuracy_table,orient='index').reset_index()\n",
        "accuracy_x.columns=['model_name','rmse']\n",
        "\n",
        "plt.figure(figsize=(16, 6))\n",
        "ax = sns.barplot(data=accuracy_x, x='model_name', y='rmse')\n"
      ],
      "execution_count": 53,
      "outputs": [
        {
          "output_type": "display_data",
          "data": {
            "image/png": "[encoded data removed]",
            "text/plain": [
              "<Figure size 1152x432 with 1 Axes>"
            ]
          },
          "metadata": {
            "needs_background": "light"
          }
        }
      ]
    },
    {
      "cell_type": "markdown",
      "metadata": {
        "id": "osrzJdH3cIYL"
      },
      "source": [
        "We can observe that all the models perfomened in a similar way except Normal Predictor. It has a highest rmse others are almost in the similar rmse score"
      ]
    },
    {
      "cell_type": "markdown",
      "metadata": {
        "id": "lj_gL1UccWdj"
      },
      "source": [
        "## Creating a function to use Models and then recommend  products\n",
        "\n",
        "In this function we will be getting user id and scan through all the products and return top products that the user might like based on item based collorative filtering.\n",
        "\n",
        "in this approach the liking of user will be kept into consideration as the model is based on user ratings"
      ]
    },
    {
      "cell_type": "code",
      "metadata": {
        "id": "o-Slv98PLSwA"
      },
      "source": [
        "import heapq\n",
        "def get_possible_rating(uid,recommend_number=5):\n",
        "  product={}\n",
        "  for i in df.product_id:\n",
        "    product[i]=algo.predict(uid=uid,iid=i).est\n",
        "\n",
        "  return heapq.nlargest(recommend_number, product.keys(), product.get) "
      ],
      "execution_count": 54,
      "outputs": []
    },
    {
      "cell_type": "code",
      "metadata": {
        "colab": {
          "base_uri": "https://localhost:8080/"
        },
        "id": "UrZJ-i1tQBfA",
        "outputId": "6091a934-ecf9-4dbb-f00f-1d90dd3e5310"
      },
      "source": [
        "get_possible_rating('reviewer_en_0742686',12)"
      ],
      "execution_count": 55,
      "outputs": [
        {
          "output_type": "execute_result",
          "data": {
            "text/plain": [
              "['product_en_0293655',\n",
              " 'product_en_0055654',\n",
              " 'product_en_0039402',\n",
              " 'product_en_0662006',\n",
              " 'product_en_0926034',\n",
              " 'product_en_0003663',\n",
              " 'product_en_0460761',\n",
              " 'product_en_0693814',\n",
              " 'product_en_0354658',\n",
              " 'product_en_0011793',\n",
              " 'product_en_0740074',\n",
              " 'product_en_0123242']"
            ]
          },
          "metadata": {},
          "execution_count": 55
        }
      ]
    },
    {
      "cell_type": "code",
      "metadata": {
        "colab": {
          "base_uri": "https://localhost:8080/",
          "height": 521
        },
        "id": "uKbIfaqLIB0g",
        "outputId": "530ec95f-583a-4d2b-85de-e9fcdd96db13"
      },
      "source": [
        "df"
      ],
      "execution_count": 56,
      "outputs": [
        {
          "output_type": "execute_result",
          "data": {
            "text/html": [
              "<div>\n",
              "<style scoped>\n",
              "    .dataframe tbody tr th:only-of-type {\n",
              "        vertical-align: middle;\n",
              "    }\n",
              "\n",
              "    .dataframe tbody tr th {\n",
              "        vertical-align: top;\n",
              "    }\n",
              "\n",
              "    .dataframe thead th {\n",
              "        text-align: right;\n",
              "    }\n",
              "</style>\n",
              "<table border=\"1\" class=\"dataframe\">\n",
              "  <thead>\n",
              "    <tr style=\"text-align: right;\">\n",
              "      <th></th>\n",
              "      <th>review_id</th>\n",
              "      <th>product_id</th>\n",
              "      <th>reviewer_id</th>\n",
              "      <th>stars</th>\n",
              "      <th>review_body</th>\n",
              "      <th>review_title</th>\n",
              "      <th>language</th>\n",
              "      <th>product_category</th>\n",
              "    </tr>\n",
              "  </thead>\n",
              "  <tbody>\n",
              "    <tr>\n",
              "      <th>100768</th>\n",
              "      <td>en_0609431</td>\n",
              "      <td>product_en_0293655</td>\n",
              "      <td>reviewer_en_0143025</td>\n",
              "      <td>3</td>\n",
              "      <td>I haven't used the product long enough to see ...</td>\n",
              "      <td>Packaging and delivery system of product needs...</td>\n",
              "      <td>en</td>\n",
              "      <td>beauty</td>\n",
              "    </tr>\n",
              "    <tr>\n",
              "      <th>139219</th>\n",
              "      <td>en_0892274</td>\n",
              "      <td>product_en_0055654</td>\n",
              "      <td>reviewer_en_0522857</td>\n",
              "      <td>4</td>\n",
              "      <td>Contrary to what weber says these do not do th...</td>\n",
              "      <td>Beyond that it is great.</td>\n",
              "      <td>en</td>\n",
              "      <td>lawn_and_garden</td>\n",
              "    </tr>\n",
              "    <tr>\n",
              "      <th>191725</th>\n",
              "      <td>en_0445610</td>\n",
              "      <td>product_en_0039402</td>\n",
              "      <td>reviewer_en_0984328</td>\n",
              "      <td>5</td>\n",
              "      <td>My granddaughter loves her baby doll.</td>\n",
              "      <td>Happy granddaughter!</td>\n",
              "      <td>en</td>\n",
              "      <td>toy</td>\n",
              "    </tr>\n",
              "    <tr>\n",
              "      <th>142225</th>\n",
              "      <td>en_0463324</td>\n",
              "      <td>product_en_0662006</td>\n",
              "      <td>reviewer_en_0985077</td>\n",
              "      <td>4</td>\n",
              "      <td>Nice looking tires, fit fine. I have only used...</td>\n",
              "      <td>Fit great.</td>\n",
              "      <td>en</td>\n",
              "      <td>other</td>\n",
              "    </tr>\n",
              "    <tr>\n",
              "      <th>64505</th>\n",
              "      <td>en_0936941</td>\n",
              "      <td>product_en_0926034</td>\n",
              "      <td>reviewer_en_0582190</td>\n",
              "      <td>2</td>\n",
              "      <td>It fell apart in less then a month.</td>\n",
              "      <td>You get what you pay for</td>\n",
              "      <td>en</td>\n",
              "      <td>wireless</td>\n",
              "    </tr>\n",
              "    <tr>\n",
              "      <th>...</th>\n",
              "      <td>...</td>\n",
              "      <td>...</td>\n",
              "      <td>...</td>\n",
              "      <td>...</td>\n",
              "      <td>...</td>\n",
              "      <td>...</td>\n",
              "      <td>...</td>\n",
              "      <td>...</td>\n",
              "    </tr>\n",
              "    <tr>\n",
              "      <th>44622</th>\n",
              "      <td>en_0149266</td>\n",
              "      <td>product_en_0098276</td>\n",
              "      <td>reviewer_en_0521315</td>\n",
              "      <td>2</td>\n",
              "      <td>It came with the price sticker still on it. Th...</td>\n",
              "      <td>Not worth the money</td>\n",
              "      <td>en</td>\n",
              "      <td>kitchen</td>\n",
              "    </tr>\n",
              "    <tr>\n",
              "      <th>71212</th>\n",
              "      <td>en_0959264</td>\n",
              "      <td>product_en_0038118</td>\n",
              "      <td>reviewer_en_0741564</td>\n",
              "      <td>2</td>\n",
              "      <td>Broke after only several weeks of owning. Beau...</td>\n",
              "      <td>Beautiful but not</td>\n",
              "      <td>en</td>\n",
              "      <td>lawn_and_garden</td>\n",
              "    </tr>\n",
              "    <tr>\n",
              "      <th>150462</th>\n",
              "      <td>en_0462387</td>\n",
              "      <td>product_en_0587916</td>\n",
              "      <td>reviewer_en_0808820</td>\n",
              "      <td>4</td>\n",
              "      <td>I order two for comforter for my daughters. Th...</td>\n",
              "      <td>I would recommend a friend to buy one</td>\n",
              "      <td>en</td>\n",
              "      <td>home</td>\n",
              "    </tr>\n",
              "    <tr>\n",
              "      <th>124583</th>\n",
              "      <td>en_0956354</td>\n",
              "      <td>product_en_0116385</td>\n",
              "      <td>reviewer_en_0319595</td>\n",
              "      <td>4</td>\n",
              "      <td>Works great. The door to VHS player does not c...</td>\n",
              "      <td>Four Stars</td>\n",
              "      <td>en</td>\n",
              "      <td>other</td>\n",
              "    </tr>\n",
              "    <tr>\n",
              "      <th>7039</th>\n",
              "      <td>en_0113558</td>\n",
              "      <td>product_en_0420042</td>\n",
              "      <td>reviewer_en_0624838</td>\n",
              "      <td>1</td>\n",
              "      <td>This does not work. It ruined my dough. The wh...</td>\n",
              "      <td>One Star</td>\n",
              "      <td>en</td>\n",
              "      <td>kitchen</td>\n",
              "    </tr>\n",
              "  </tbody>\n",
              "</table>\n",
              "<p>10000 rows × 8 columns</p>\n",
              "</div>"
            ],
            "text/plain": [
              "         review_id          product_id  ... language  product_category\n",
              "100768  en_0609431  product_en_0293655  ...       en            beauty\n",
              "139219  en_0892274  product_en_0055654  ...       en   lawn_and_garden\n",
              "191725  en_0445610  product_en_0039402  ...       en               toy\n",
              "142225  en_0463324  product_en_0662006  ...       en             other\n",
              "64505   en_0936941  product_en_0926034  ...       en          wireless\n",
              "...            ...                 ...  ...      ...               ...\n",
              "44622   en_0149266  product_en_0098276  ...       en           kitchen\n",
              "71212   en_0959264  product_en_0038118  ...       en   lawn_and_garden\n",
              "150462  en_0462387  product_en_0587916  ...       en              home\n",
              "124583  en_0956354  product_en_0116385  ...       en             other\n",
              "7039    en_0113558  product_en_0420042  ...       en           kitchen\n",
              "\n",
              "[10000 rows x 8 columns]"
            ]
          },
          "metadata": {},
          "execution_count": 56
        }
      ]
    },
    {
      "cell_type": "markdown",
      "metadata": {
        "id": "l7rgQT7OIBlR"
      },
      "source": [
        ""
      ]
    },
    {
      "cell_type": "code",
      "metadata": {
        "colab": {
          "base_uri": "https://localhost:8080/",
          "height": 419
        },
        "id": "kenUTcuGEzTD",
        "outputId": "1b2c28b3-f92e-4b1c-8c0a-27faa9a663cc"
      },
      "source": [
        "df=df_new\n",
        "\n",
        "df"
      ],
      "execution_count": 65,
      "outputs": [
        {
          "output_type": "execute_result",
          "data": {
            "text/html": [
              "<div>\n",
              "<style scoped>\n",
              "    .dataframe tbody tr th:only-of-type {\n",
              "        vertical-align: middle;\n",
              "    }\n",
              "\n",
              "    .dataframe tbody tr th {\n",
              "        vertical-align: top;\n",
              "    }\n",
              "\n",
              "    .dataframe thead th {\n",
              "        text-align: right;\n",
              "    }\n",
              "</style>\n",
              "<table border=\"1\" class=\"dataframe\">\n",
              "  <thead>\n",
              "    <tr style=\"text-align: right;\">\n",
              "      <th></th>\n",
              "      <th>userID</th>\n",
              "      <th>itemID</th>\n",
              "      <th>rating</th>\n",
              "    </tr>\n",
              "  </thead>\n",
              "  <tbody>\n",
              "    <tr>\n",
              "      <th>100768</th>\n",
              "      <td>reviewer_en_0143025</td>\n",
              "      <td>product_en_0293655</td>\n",
              "      <td>3</td>\n",
              "    </tr>\n",
              "    <tr>\n",
              "      <th>139219</th>\n",
              "      <td>reviewer_en_0522857</td>\n",
              "      <td>product_en_0055654</td>\n",
              "      <td>4</td>\n",
              "    </tr>\n",
              "    <tr>\n",
              "      <th>191725</th>\n",
              "      <td>reviewer_en_0984328</td>\n",
              "      <td>product_en_0039402</td>\n",
              "      <td>5</td>\n",
              "    </tr>\n",
              "    <tr>\n",
              "      <th>142225</th>\n",
              "      <td>reviewer_en_0985077</td>\n",
              "      <td>product_en_0662006</td>\n",
              "      <td>4</td>\n",
              "    </tr>\n",
              "    <tr>\n",
              "      <th>64505</th>\n",
              "      <td>reviewer_en_0582190</td>\n",
              "      <td>product_en_0926034</td>\n",
              "      <td>2</td>\n",
              "    </tr>\n",
              "    <tr>\n",
              "      <th>...</th>\n",
              "      <td>...</td>\n",
              "      <td>...</td>\n",
              "      <td>...</td>\n",
              "    </tr>\n",
              "    <tr>\n",
              "      <th>44622</th>\n",
              "      <td>reviewer_en_0521315</td>\n",
              "      <td>product_en_0098276</td>\n",
              "      <td>2</td>\n",
              "    </tr>\n",
              "    <tr>\n",
              "      <th>71212</th>\n",
              "      <td>reviewer_en_0741564</td>\n",
              "      <td>product_en_0038118</td>\n",
              "      <td>2</td>\n",
              "    </tr>\n",
              "    <tr>\n",
              "      <th>150462</th>\n",
              "      <td>reviewer_en_0808820</td>\n",
              "      <td>product_en_0587916</td>\n",
              "      <td>4</td>\n",
              "    </tr>\n",
              "    <tr>\n",
              "      <th>124583</th>\n",
              "      <td>reviewer_en_0319595</td>\n",
              "      <td>product_en_0116385</td>\n",
              "      <td>4</td>\n",
              "    </tr>\n",
              "    <tr>\n",
              "      <th>7039</th>\n",
              "      <td>reviewer_en_0624838</td>\n",
              "      <td>product_en_0420042</td>\n",
              "      <td>1</td>\n",
              "    </tr>\n",
              "  </tbody>\n",
              "</table>\n",
              "<p>10000 rows × 3 columns</p>\n",
              "</div>"
            ],
            "text/plain": [
              "                     userID              itemID  rating\n",
              "100768  reviewer_en_0143025  product_en_0293655       3\n",
              "139219  reviewer_en_0522857  product_en_0055654       4\n",
              "191725  reviewer_en_0984328  product_en_0039402       5\n",
              "142225  reviewer_en_0985077  product_en_0662006       4\n",
              "64505   reviewer_en_0582190  product_en_0926034       2\n",
              "...                     ...                 ...     ...\n",
              "44622   reviewer_en_0521315  product_en_0098276       2\n",
              "71212   reviewer_en_0741564  product_en_0038118       2\n",
              "150462  reviewer_en_0808820  product_en_0587916       4\n",
              "124583  reviewer_en_0319595  product_en_0116385       4\n",
              "7039    reviewer_en_0624838  product_en_0420042       1\n",
              "\n",
              "[10000 rows x 3 columns]"
            ]
          },
          "metadata": {},
          "execution_count": 65
        }
      ]
    },
    {
      "cell_type": "markdown",
      "metadata": {
        "id": "QKToRMEkc1XN"
      },
      "source": [
        "## Model Based Collobartive filtering\n"
      ]
    },
    {
      "cell_type": "markdown",
      "metadata": {
        "id": "ryUEn_6QdBQ0"
      },
      "source": [
        "Preprocessing for model based collaborative filtering.\n"
      ]
    },
    {
      "cell_type": "code",
      "metadata": {
        "id": "eE6EKuRUDQ7e"
      },
      "source": [
        "ratings_matrix = df.pivot_table(values='rating', index='userID', columns='itemID', fill_value=0)\n"
      ],
      "execution_count": 58,
      "outputs": []
    },
    {
      "cell_type": "code",
      "metadata": {
        "id": "tl7waxzBH_h8"
      },
      "source": [
        "X = ratings_matrix.T"
      ],
      "execution_count": 59,
      "outputs": []
    },
    {
      "cell_type": "code",
      "metadata": {
        "id": "CQPhBwKRISNh"
      },
      "source": [
        "X1 = X"
      ],
      "execution_count": 60,
      "outputs": []
    },
    {
      "cell_type": "code",
      "metadata": {
        "colab": {
          "base_uri": "https://localhost:8080/"
        },
        "id": "Uf00sTpsIMYC",
        "outputId": "aae236e4-c365-45db-a180-93ad828a41f3"
      },
      "source": [
        "from sklearn.decomposition import TruncatedSVD\n",
        "SVD = TruncatedSVD(n_components=10)\n",
        "decomposed_matrix = SVD.fit_transform(X)\n",
        "decomposed_matrix.shape"
      ],
      "execution_count": 61,
      "outputs": [
        {
          "output_type": "execute_result",
          "data": {
            "text/plain": [
              "(9953, 10)"
            ]
          },
          "metadata": {},
          "execution_count": 61
        }
      ]
    },
    {
      "cell_type": "code",
      "metadata": {
        "colab": {
          "base_uri": "https://localhost:8080/"
        },
        "id": "onQZaF5NIStK",
        "outputId": "12a31957-4942-47a0-aae3-1352c067327a"
      },
      "source": [
        "import numpy as np\n",
        "correlation_matrix = np.corrcoef(decomposed_matrix)\n",
        "correlation_matrix.shape"
      ],
      "execution_count": 62,
      "outputs": [
        {
          "output_type": "execute_result",
          "data": {
            "text/plain": [
              "(9953, 9953)"
            ]
          },
          "metadata": {},
          "execution_count": 62
        }
      ]
    },
    {
      "cell_type": "code",
      "metadata": {
        "id": "pWgfbnUtIaOW"
      },
      "source": [
        "ix=random.randrange(0, len(df))\n",
        "df['itemID'].values[ix]\n",
        "product_names = list(X.index)"
      ],
      "execution_count": 86,
      "outputs": []
    },
    {
      "cell_type": "code",
      "metadata": {
        "id": "9_wlduGaIgEt"
      },
      "source": [
        "correlation_product_ID = correlation_matrix[product_ID]"
      ],
      "execution_count": 88,
      "outputs": []
    },
    {
      "cell_type": "code",
      "metadata": {
        "colab": {
          "base_uri": "https://localhost:8080/"
        },
        "id": "lwrS1iomImSW",
        "outputId": "df3966bc-b7ff-4500-cf7d-2aa7e617f516"
      },
      "source": [
        "Recommend = list(X.index[correlation_product_ID > 0.65])\n",
        "\n",
        "# Removes the item already bought by the customer\n",
        "Recommend.remove(i) \n",
        "\n",
        "Recommend[0:5]"
      ],
      "execution_count": 90,
      "outputs": [
        {
          "output_type": "execute_result",
          "data": {
            "text/plain": [
              "['product_en_0000543',\n",
              " 'product_en_0000660',\n",
              " 'product_en_0001336',\n",
              " 'product_en_0002690',\n",
              " 'product_en_0003442']"
            ]
          },
          "metadata": {},
          "execution_count": 90
        }
      ]
    }
  ]
}