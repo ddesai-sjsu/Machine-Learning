{
  "nbformat": 4,
  "nbformat_minor": 0,
  "metadata": {
    "colab": {
      "name": "Homework Week 10 Individual.ipynb",
      "provenance": [],
      "collapsed_sections": [],
      "include_colab_link": true
    },
    "kernelspec": {
      "name": "python3",
      "display_name": "Python 3"
    },
    "language_info": {
      "name": "python"
    }
  },
  "cells": [
    {
      "cell_type": "markdown",
      "metadata": {
        "id": "view-in-github",
        "colab_type": "text"
      },
      "source": [
        "<a href=\"https://colab.research.google.com/github/ddesai-sjsu/Machine-Learning/blob/main/Homework_Week_10_Individual.ipynb\" target=\"_parent\"><img src=\"https://colab.research.google.com/assets/colab-badge.svg\" alt=\"Open In Colab\"/></a>"
      ]
    },
    {
      "cell_type": "markdown",
      "metadata": {
        "id": "lqGI6l8Mk62t"
      },
      "source": [
        "# **Sentiment Factor**\n",
        "\n",
        "Sentiment Analysis (SA) is the branch of Natural Language Processing (NLP) in charge of the design and implementation of models, methods, and techniques to determine whether a text deals with objective or subjective information and, in the latter case, to determine if such information is expressed in a positive, neutral, or negative way as well as if it is expressed in a strong or weak way. Since a large part of the subjective content expressed by users on social networks is about opinions (on review sites, forums, message boards, chats, etc.), SA is also known as Opinion Mining (OM).\n",
        "\n",
        "\n",
        "It is a very important factor in determining if a news or statement is fake because sentiment determines the opinion of the user and is a good approximator of fakenews. So, I have tried to model this factor to check the credibility of news."
      ]
    },
    {
      "cell_type": "markdown",
      "metadata": {
        "id": "IgBmqN7ClnNv"
      },
      "source": [
        "## **Dataset 1: Truth or Fiction**"
      ]
    },
    {
      "cell_type": "markdown",
      "metadata": {
        "id": "ynpQa5a7uU-2"
      },
      "source": [
        "### **Scraping Dataset**\n",
        "\n",
        "Web scraping dataset using beautiful soap"
      ]
    },
    {
      "cell_type": "code",
      "metadata": {
        "id": "nqnfWQdaA8Z2"
      },
      "source": [
        "from bs4 import BeautifulSoup\n",
        "import pandas as pd\n",
        "import requests\n",
        "import urllib.request\n",
        "import time"
      ],
      "execution_count": null,
      "outputs": []
    },
    {
      "cell_type": "code",
      "metadata": {
        "id": "EOz6ajs0A_0j"
      },
      "source": [
        "statements = []\n",
        "targets = []"
      ],
      "execution_count": null,
      "outputs": []
    },
    {
      "cell_type": "code",
      "metadata": {
        "id": "vuLq-Kd-E4Dp"
      },
      "source": [
        "def get_whatever(href):\n",
        "  webpage = requests.get(href)\n",
        "  soup = BeautifulSoup(webpage.text, \"html.parser\")\n",
        "  statement_footer =  soup.find_all('div',attrs={'class':'rating-description'})\n",
        "  for i in statement_footer:\n",
        "    return(i.text.strip())\n"
      ],
      "execution_count": null,
      "outputs": []
    },
    {
      "cell_type": "code",
      "metadata": {
        "id": "oNoxM6Y1BBYH"
      },
      "source": [
        "def scrape_truth_or_fiction_website(page_number):\n",
        "  page_num = str(page_number) \n",
        "  URL = 'https://www.truthorfiction.com/page/'+page_num +'/'\n",
        "  webpage = requests.get(URL)\n",
        "  soup = BeautifulSoup(webpage.text, \"html.parser\")\n",
        "  statement_footer =  soup.find_all('a',attrs={'class':'excerpt_link'}) \n",
        "  for i in statement_footer:\n",
        "    text=get_whatever(i['href'])\n",
        "    link1 = i.text.strip()\n",
        "    statements.append(link1)\n",
        "    targets.append(text)\n",
        "  return "
      ],
      "execution_count": null,
      "outputs": []
    },
    {
      "cell_type": "code",
      "metadata": {
        "id": "5yrH4KRtBD_C"
      },
      "source": [
        "n=3\n",
        "data_truth_or_fiction = pd.DataFrame(columns = ['statement', 'target']) \n",
        "for i in range(1, n):\n",
        "  scrape_truth_or_fiction_website(i)\n",
        "data_truth_or_fiction['statement'] = statements\n",
        "data_truth_or_fiction['target'] = targets"
      ],
      "execution_count": null,
      "outputs": []
    },
    {
      "cell_type": "code",
      "metadata": {
        "colab": {
          "base_uri": "https://localhost:8080/",
          "height": 677
        },
        "id": "hJ8Gbod6Hbfh",
        "outputId": "81dc2f7e-885c-488d-8e33-57452072d9f4"
      },
      "source": [
        "data_truth_or_fiction"
      ],
      "execution_count": null,
      "outputs": [
        {
          "output_type": "execute_result",
          "data": {
            "text/html": [
              "<div>\n",
              "<style scoped>\n",
              "    .dataframe tbody tr th:only-of-type {\n",
              "        vertical-align: middle;\n",
              "    }\n",
              "\n",
              "    .dataframe tbody tr th {\n",
              "        vertical-align: top;\n",
              "    }\n",
              "\n",
              "    .dataframe thead th {\n",
              "        text-align: right;\n",
              "    }\n",
              "</style>\n",
              "<table border=\"1\" class=\"dataframe\">\n",
              "  <thead>\n",
              "    <tr style=\"text-align: right;\">\n",
              "      <th></th>\n",
              "      <th>statement</th>\n",
              "      <th>target</th>\n",
              "    </tr>\n",
              "  </thead>\n",
              "  <tbody>\n",
              "    <tr>\n",
              "      <th>0</th>\n",
              "      <td>A viral screenshot (or set) purportedly descri...</td>\n",
              "      <td>True</td>\n",
              "    </tr>\n",
              "    <tr>\n",
              "      <th>1</th>\n",
              "      <td>A popular meme claimed that citizens of Greece...</td>\n",
              "      <td>True</td>\n",
              "    </tr>\n",
              "    <tr>\n",
              "      <th>2</th>\n",
              "      <td>An Imgur screenshot from Twitter described a \"...</td>\n",
              "      <td>True</td>\n",
              "    </tr>\n",
              "    <tr>\n",
              "      <th>3</th>\n",
              "      <td>Facebook's promoted Reels included a video cla...</td>\n",
              "      <td>Not True</td>\n",
              "    </tr>\n",
              "    <tr>\n",
              "      <th>4</th>\n",
              "      <td>A popular meme claimed that the seventh (or te...</td>\n",
              "      <td>Decontextualized</td>\n",
              "    </tr>\n",
              "    <tr>\n",
              "      <th>5</th>\n",
              "      <td>A long-circulating image, often labeled \"in Ja...</td>\n",
              "      <td>Decontextualized</td>\n",
              "    </tr>\n",
              "    <tr>\n",
              "      <th>6</th>\n",
              "      <td>An anti-drug pencil was purportedly recalled i...</td>\n",
              "      <td>True</td>\n",
              "    </tr>\n",
              "    <tr>\n",
              "      <th>7</th>\n",
              "      <td>Years-long social media discussions contrastin...</td>\n",
              "      <td>True</td>\n",
              "    </tr>\n",
              "    <tr>\n",
              "      <th>8</th>\n",
              "      <td>Posts on Reddit and Imgur described a purporte...</td>\n",
              "      <td>Decontextualized</td>\n",
              "    </tr>\n",
              "    <tr>\n",
              "      <th>9</th>\n",
              "      <td>Creative looks on Instagram and Facebook are o...</td>\n",
              "      <td>Decontextualized</td>\n",
              "    </tr>\n",
              "    <tr>\n",
              "      <th>10</th>\n",
              "      <td>The concept of \"doom boxes\" as a little-acknow...</td>\n",
              "      <td>Decontextualized</td>\n",
              "    </tr>\n",
              "    <tr>\n",
              "      <th>11</th>\n",
              "      <td>Social media's fondness for celestial events t...</td>\n",
              "      <td>True</td>\n",
              "    </tr>\n",
              "    <tr>\n",
              "      <th>12</th>\n",
              "      <td>Kyle Rittenhouse faces several felony charges ...</td>\n",
              "      <td>None</td>\n",
              "    </tr>\n",
              "    <tr>\n",
              "      <th>13</th>\n",
              "      <td>An October 2021 Facebook \"fact meme\" described...</td>\n",
              "      <td>True</td>\n",
              "    </tr>\n",
              "    <tr>\n",
              "      <th>14</th>\n",
              "      <td>Social media users claimed that veterans emplo...</td>\n",
              "      <td>True</td>\n",
              "    </tr>\n",
              "    <tr>\n",
              "      <th>15</th>\n",
              "      <td>Twitter's trending topics conveniently elided ...</td>\n",
              "      <td>Decontextualized</td>\n",
              "    </tr>\n",
              "    <tr>\n",
              "      <th>16</th>\n",
              "      <td>A popular Imgur post addressed Minnesota's ins...</td>\n",
              "      <td>Decontextualized</td>\n",
              "    </tr>\n",
              "    <tr>\n",
              "      <th>17</th>\n",
              "      <td>A popular meme claimed the Wizard of Oz snow w...</td>\n",
              "      <td>True</td>\n",
              "    </tr>\n",
              "    <tr>\n",
              "      <th>18</th>\n",
              "      <td>A screenshot of a purported headline about the...</td>\n",
              "      <td>Not True</td>\n",
              "    </tr>\n",
              "    <tr>\n",
              "      <th>19</th>\n",
              "      <td>Amid national discussions around the American ...</td>\n",
              "      <td>Not True</td>\n",
              "    </tr>\n",
              "  </tbody>\n",
              "</table>\n",
              "</div>"
            ],
            "text/plain": [
              "                                            statement            target\n",
              "0   A viral screenshot (or set) purportedly descri...              True\n",
              "1   A popular meme claimed that citizens of Greece...              True\n",
              "2   An Imgur screenshot from Twitter described a \"...              True\n",
              "3   Facebook's promoted Reels included a video cla...          Not True\n",
              "4   A popular meme claimed that the seventh (or te...  Decontextualized\n",
              "5   A long-circulating image, often labeled \"in Ja...  Decontextualized\n",
              "6   An anti-drug pencil was purportedly recalled i...              True\n",
              "7   Years-long social media discussions contrastin...              True\n",
              "8   Posts on Reddit and Imgur described a purporte...  Decontextualized\n",
              "9   Creative looks on Instagram and Facebook are o...  Decontextualized\n",
              "10  The concept of \"doom boxes\" as a little-acknow...  Decontextualized\n",
              "11  Social media's fondness for celestial events t...              True\n",
              "12  Kyle Rittenhouse faces several felony charges ...              None\n",
              "13  An October 2021 Facebook \"fact meme\" described...              True\n",
              "14  Social media users claimed that veterans emplo...              True\n",
              "15  Twitter's trending topics conveniently elided ...  Decontextualized\n",
              "16  A popular Imgur post addressed Minnesota's ins...  Decontextualized\n",
              "17  A popular meme claimed the Wizard of Oz snow w...              True\n",
              "18  A screenshot of a purported headline about the...          Not True\n",
              "19  Amid national discussions around the American ...          Not True"
            ]
          },
          "metadata": {},
          "execution_count": 13
        }
      ]
    },
    {
      "cell_type": "markdown",
      "metadata": {
        "id": "39alEbZ_uIrE"
      },
      "source": [
        "### **Cleaning dataset:**\n",
        "Cleaning the dataset includes: Stopwords removal, stemming, lemmatization, converting to lowercase, removing punctuations, special characters and digits, and word tokenization"
      ]
    },
    {
      "cell_type": "code",
      "metadata": {
        "id": "wtrq5BY-uFH3"
      },
      "source": [
        ""
      ],
      "execution_count": null,
      "outputs": []
    },
    {
      "cell_type": "code",
      "metadata": {
        "id": "YbtkfgbxHsaB"
      },
      "source": [
        "def is_true(statement):\n",
        "  if statement=='True':\n",
        "    return True\n",
        "  return False"
      ],
      "execution_count": null,
      "outputs": []
    },
    {
      "cell_type": "code",
      "metadata": {
        "id": "vtuLTVDMBH7O"
      },
      "source": [
        "data_truth_or_fiction['target_simplified']=data_truth_or_fiction['target'].apply(lambda x:is_true(x))"
      ],
      "execution_count": null,
      "outputs": []
    },
    {
      "cell_type": "code",
      "metadata": {
        "colab": {
          "base_uri": "https://localhost:8080/",
          "height": 677
        },
        "id": "e_H1CmlAFeaG",
        "outputId": "f1c8f186-576c-42f0-b119-0ff6afa49c51"
      },
      "source": [
        "data_truth_or_fiction"
      ],
      "execution_count": null,
      "outputs": [
        {
          "output_type": "execute_result",
          "data": {
            "text/html": [
              "<div>\n",
              "<style scoped>\n",
              "    .dataframe tbody tr th:only-of-type {\n",
              "        vertical-align: middle;\n",
              "    }\n",
              "\n",
              "    .dataframe tbody tr th {\n",
              "        vertical-align: top;\n",
              "    }\n",
              "\n",
              "    .dataframe thead th {\n",
              "        text-align: right;\n",
              "    }\n",
              "</style>\n",
              "<table border=\"1\" class=\"dataframe\">\n",
              "  <thead>\n",
              "    <tr style=\"text-align: right;\">\n",
              "      <th></th>\n",
              "      <th>statement</th>\n",
              "      <th>target</th>\n",
              "      <th>target_simplified</th>\n",
              "    </tr>\n",
              "  </thead>\n",
              "  <tbody>\n",
              "    <tr>\n",
              "      <th>0</th>\n",
              "      <td>A viral screenshot (or set) purportedly descri...</td>\n",
              "      <td>True</td>\n",
              "      <td>False</td>\n",
              "    </tr>\n",
              "    <tr>\n",
              "      <th>1</th>\n",
              "      <td>A popular meme claimed that citizens of Greece...</td>\n",
              "      <td>True</td>\n",
              "      <td>False</td>\n",
              "    </tr>\n",
              "    <tr>\n",
              "      <th>2</th>\n",
              "      <td>An Imgur screenshot from Twitter described a \"...</td>\n",
              "      <td>True</td>\n",
              "      <td>False</td>\n",
              "    </tr>\n",
              "    <tr>\n",
              "      <th>3</th>\n",
              "      <td>Facebook's promoted Reels included a video cla...</td>\n",
              "      <td>False</td>\n",
              "      <td>False</td>\n",
              "    </tr>\n",
              "    <tr>\n",
              "      <th>4</th>\n",
              "      <td>A popular meme claimed that the seventh (or te...</td>\n",
              "      <td>False</td>\n",
              "      <td>False</td>\n",
              "    </tr>\n",
              "    <tr>\n",
              "      <th>5</th>\n",
              "      <td>A long-circulating image, often labeled \"in Ja...</td>\n",
              "      <td>False</td>\n",
              "      <td>False</td>\n",
              "    </tr>\n",
              "    <tr>\n",
              "      <th>6</th>\n",
              "      <td>An anti-drug pencil was purportedly recalled i...</td>\n",
              "      <td>True</td>\n",
              "      <td>False</td>\n",
              "    </tr>\n",
              "    <tr>\n",
              "      <th>7</th>\n",
              "      <td>Years-long social media discussions contrastin...</td>\n",
              "      <td>True</td>\n",
              "      <td>False</td>\n",
              "    </tr>\n",
              "    <tr>\n",
              "      <th>8</th>\n",
              "      <td>Posts on Reddit and Imgur described a purporte...</td>\n",
              "      <td>False</td>\n",
              "      <td>False</td>\n",
              "    </tr>\n",
              "    <tr>\n",
              "      <th>9</th>\n",
              "      <td>Creative looks on Instagram and Facebook are o...</td>\n",
              "      <td>False</td>\n",
              "      <td>False</td>\n",
              "    </tr>\n",
              "    <tr>\n",
              "      <th>10</th>\n",
              "      <td>The concept of \"doom boxes\" as a little-acknow...</td>\n",
              "      <td>False</td>\n",
              "      <td>False</td>\n",
              "    </tr>\n",
              "    <tr>\n",
              "      <th>11</th>\n",
              "      <td>Social media's fondness for celestial events t...</td>\n",
              "      <td>True</td>\n",
              "      <td>False</td>\n",
              "    </tr>\n",
              "    <tr>\n",
              "      <th>12</th>\n",
              "      <td>Kyle Rittenhouse faces several felony charges ...</td>\n",
              "      <td>False</td>\n",
              "      <td>False</td>\n",
              "    </tr>\n",
              "    <tr>\n",
              "      <th>13</th>\n",
              "      <td>An October 2021 Facebook \"fact meme\" described...</td>\n",
              "      <td>True</td>\n",
              "      <td>False</td>\n",
              "    </tr>\n",
              "    <tr>\n",
              "      <th>14</th>\n",
              "      <td>Social media users claimed that veterans emplo...</td>\n",
              "      <td>True</td>\n",
              "      <td>False</td>\n",
              "    </tr>\n",
              "    <tr>\n",
              "      <th>15</th>\n",
              "      <td>Twitter's trending topics conveniently elided ...</td>\n",
              "      <td>False</td>\n",
              "      <td>False</td>\n",
              "    </tr>\n",
              "    <tr>\n",
              "      <th>16</th>\n",
              "      <td>A popular Imgur post addressed Minnesota's ins...</td>\n",
              "      <td>False</td>\n",
              "      <td>False</td>\n",
              "    </tr>\n",
              "    <tr>\n",
              "      <th>17</th>\n",
              "      <td>A popular meme claimed the Wizard of Oz snow w...</td>\n",
              "      <td>True</td>\n",
              "      <td>False</td>\n",
              "    </tr>\n",
              "    <tr>\n",
              "      <th>18</th>\n",
              "      <td>A screenshot of a purported headline about the...</td>\n",
              "      <td>False</td>\n",
              "      <td>False</td>\n",
              "    </tr>\n",
              "    <tr>\n",
              "      <th>19</th>\n",
              "      <td>Amid national discussions around the American ...</td>\n",
              "      <td>False</td>\n",
              "      <td>False</td>\n",
              "    </tr>\n",
              "  </tbody>\n",
              "</table>\n",
              "</div>"
            ],
            "text/plain": [
              "                                            statement  ...  target_simplified\n",
              "0   A viral screenshot (or set) purportedly descri...  ...              False\n",
              "1   A popular meme claimed that citizens of Greece...  ...              False\n",
              "2   An Imgur screenshot from Twitter described a \"...  ...              False\n",
              "3   Facebook's promoted Reels included a video cla...  ...              False\n",
              "4   A popular meme claimed that the seventh (or te...  ...              False\n",
              "5   A long-circulating image, often labeled \"in Ja...  ...              False\n",
              "6   An anti-drug pencil was purportedly recalled i...  ...              False\n",
              "7   Years-long social media discussions contrastin...  ...              False\n",
              "8   Posts on Reddit and Imgur described a purporte...  ...              False\n",
              "9   Creative looks on Instagram and Facebook are o...  ...              False\n",
              "10  The concept of \"doom boxes\" as a little-acknow...  ...              False\n",
              "11  Social media's fondness for celestial events t...  ...              False\n",
              "12  Kyle Rittenhouse faces several felony charges ...  ...              False\n",
              "13  An October 2021 Facebook \"fact meme\" described...  ...              False\n",
              "14  Social media users claimed that veterans emplo...  ...              False\n",
              "15  Twitter's trending topics conveniently elided ...  ...              False\n",
              "16  A popular Imgur post addressed Minnesota's ins...  ...              False\n",
              "17  A popular meme claimed the Wizard of Oz snow w...  ...              False\n",
              "18  A screenshot of a purported headline about the...  ...              False\n",
              "19  Amid national discussions around the American ...  ...              False\n",
              "\n",
              "[20 rows x 3 columns]"
            ]
          },
          "metadata": {},
          "execution_count": 41
        }
      ]
    },
    {
      "cell_type": "code",
      "metadata": {
        "id": "ADyr4CwasdOT"
      },
      "source": [
        "data_truth_or_fiction=data_truth_or_fiction[['statement','target_simplified']]\n",
        "data_truth_or_fiction.columns=['statement','target']"
      ],
      "execution_count": null,
      "outputs": []
    },
    {
      "cell_type": "markdown",
      "metadata": {
        "id": "Oj6E5bnjukq3"
      },
      "source": [
        "### **Performing Distillation**\n",
        "\n",
        "As part of distillation performing LDA on truth_or_fiction dataset and generating 10 topics with the LDA model, to get an insight of topics it contains.\n",
        "\n"
      ]
    },
    {
      "cell_type": "code",
      "metadata": {
        "colab": {
          "base_uri": "https://localhost:8080/"
        },
        "id": "yYU_e82Kf2nu",
        "outputId": "34a2ac38-3bc8-44e5-a4b1-d4312336a472"
      },
      "source": [
        "from sklearn.feature_extraction.text import CountVectorizer\n",
        "from nltk.corpus import stopwords\n",
        "import nltk\n",
        "nltk.download('stopwords')\n",
        "from nltk.stem.snowball import SnowballStemmer\n",
        "from nltk.stem import WordNetLemmatizer\n",
        "nltk.download('wordnet')\n",
        "from sklearn.feature_extraction.text import TfidfVectorizer\n",
        "from sklearn.decomposition import LatentDirichletAllocation as LDA\n",
        "import numpy as np\n",
        "import seaborn as sns"
      ],
      "execution_count": null,
      "outputs": [
        {
          "output_type": "stream",
          "name": "stdout",
          "text": [
            "[nltk_data] Downloading package stopwords to /root/nltk_data...\n",
            "[nltk_data]   Package stopwords is already up-to-date!\n",
            "[nltk_data] Downloading package wordnet to /root/nltk_data...\n",
            "[nltk_data]   Package wordnet is already up-to-date!\n"
          ]
        }
      ]
    },
    {
      "cell_type": "code",
      "metadata": {
        "colab": {
          "base_uri": "https://localhost:8080/"
        },
        "id": "G_XqvxXsfoid",
        "outputId": "d9985321-2c70-4d9e-c5cf-45c49ba346a9"
      },
      "source": [
        "stopwords = nltk.corpus.stopwords.words('english')\n",
        "# Initialise the count vectorizer with the English stop words\n",
        "count_vectorizer = CountVectorizer(stop_words=stopwords)\n",
        "# Fit and transform the processed titles\n",
        "count_data = count_vectorizer.fit_transform(data_truth_or_fiction['statement'])\n",
        "l = []\n",
        "def print_topics(model, count_vectorizer, n_top_words):\n",
        "    words = count_vectorizer.get_feature_names()\n",
        "    for topic_idx, topic in enumerate(model.components_):\n",
        "        print(\"\\nTopic #%d:\" % topic_idx)\n",
        "        print(\" \".join([words[i]\n",
        "                        for i in topic.argsort()[:-n_top_words - 1:-1]]))\n",
        "        l.append(\" \".join([words[i]\n",
        "                        for i in topic.argsort()[:-n_top_words - 1:-1]]))\n",
        "        \n",
        "# Tweak the two parameters below\n",
        "number_topics = 10\n",
        "number_words = 10\n",
        "# Create and fit the LDA model\n",
        "lda = LDA(n_components=number_topics, n_jobs=-1,random_state=21)\n",
        "lda.fit(count_data)\n",
        "# Print the topics found by the LDA model\n",
        "print(\"Topics found via LDA:\")\n",
        "print_topics(lda, count_vectorizer, number_words)"
      ],
      "execution_count": null,
      "outputs": [
        {
          "output_type": "stream",
          "name": "stdout",
          "text": [
            "Topics found via LDA:\n",
            "\n",
            "Topic #0:\n",
            "three twitter american claimed people discussions email searches resignation spiked\n",
            "\n",
            "Topic #1:\n",
            "soap circulated facebook big actually scam marketing true reels dish\n",
            "\n",
            "Topic #2:\n",
            "service claimed social media united card received states usps employed\n",
            "\n",
            "Topic #3:\n",
            "purported described victims pansies online created covertly domestic enable called\n",
            "\n",
            "Topic #4:\n",
            "minnesota screenshot original imgur purportedly popular flag describes ongoing viral\n",
            "\n",
            "Topic #5:\n",
            "meme popular 100 vaccine month january greece fined covid citizens\n",
            "\n",
            "Topic #6:\n",
            "media social 2021 posts yet 19 purportedly type celestial longest\n",
            "\n",
            "Topic #7:\n",
            "meme screenshot popular claimed imgur social media twitter 2021 facebook\n",
            "\n",
            "Topic #8:\n",
            "meme popular claimed largest seventh pyramid pro tenth location shops\n",
            "\n",
            "Topic #9:\n",
            "2021 long facebook often united november years pay denmark contrasting\n"
          ]
        },
        {
          "output_type": "stream",
          "name": "stderr",
          "text": [
            "/usr/local/lib/python3.7/dist-packages/sklearn/utils/deprecation.py:87: FutureWarning: Function get_feature_names is deprecated; get_feature_names is deprecated in 1.0 and will be removed in 1.2. Please use get_feature_names_out instead.\n",
            "  warnings.warn(msg, category=FutureWarning)\n"
          ]
        }
      ]
    },
    {
      "cell_type": "code",
      "metadata": {
        "colab": {
          "base_uri": "https://localhost:8080/",
          "height": 710
        },
        "id": "1BiWw4fdhl4x",
        "outputId": "943b70ed-2360-4c53-997e-0f0052375841"
      },
      "source": [
        "def plot_10_most_common_words(count_data, count_vectorizer):\n",
        "    import matplotlib.pyplot as plt\n",
        "    words = count_vectorizer.get_feature_names()\n",
        "    total_counts = np.zeros(len(words))\n",
        "    for t in count_data:\n",
        "        total_counts+=t.toarray()[0]\n",
        "    \n",
        "    count_dict = (zip(words, total_counts))\n",
        "    count_dict = sorted(count_dict, key=lambda x:x[1], reverse=True)[0:10]\n",
        "    words = [w[0] for w in count_dict]\n",
        "    counts = [w[1] for w in count_dict]\n",
        "    x_pos = np.arange(len(words)) \n",
        "    \n",
        "    plt.figure(2, figsize=(15, 15/1.6180))\n",
        "    plt.subplot(title='10 most common words')\n",
        "    sns.set_context(\"notebook\", font_scale=1.25, rc={\"lines.linewidth\": 2.5})\n",
        "    sns.barplot(x_pos, counts, palette='husl')\n",
        "    plt.xticks(x_pos, words, rotation=90) \n",
        "    plt.xlabel('words')\n",
        "    plt.ylabel('counts')\n",
        "    plt.show()\n",
        "# Visualise the 10 most common words\n",
        "plot_10_most_common_words(count_data, count_vectorizer)"
      ],
      "execution_count": null,
      "outputs": [
        {
          "output_type": "stream",
          "name": "stderr",
          "text": [
            "/usr/local/lib/python3.7/dist-packages/sklearn/utils/deprecation.py:87: FutureWarning: Function get_feature_names is deprecated; get_feature_names is deprecated in 1.0 and will be removed in 1.2. Please use get_feature_names_out instead.\n",
            "  warnings.warn(msg, category=FutureWarning)\n",
            "/usr/local/lib/python3.7/dist-packages/seaborn/_decorators.py:43: FutureWarning: Pass the following variables as keyword args: x, y. From version 0.12, the only valid positional argument will be `data`, and passing other arguments without an explicit keyword will result in an error or misinterpretation.\n",
            "  FutureWarning\n"
          ]
        },
        {
          "output_type": "display_data",
          "data": {
            "image/png": "[encoded data removed]",
            "text/plain": [
              "<Figure size 1080x667.491 with 1 Axes>"
            ]
          },
          "metadata": {
            "needs_background": "light"
          }
        }
      ]
    },
    {
      "cell_type": "markdown",
      "metadata": {
        "id": "RX43HiOIvNsP"
      },
      "source": [
        ""
      ]
    },
    {
      "cell_type": "markdown",
      "metadata": {
        "id": "-mfLc-CwvcQQ"
      },
      "source": [
        "## **Dataset 2: Politifact Dataset**\n"
      ]
    },
    {
      "cell_type": "markdown",
      "metadata": {
        "id": "CcKaHY8Uv3hP"
      },
      "source": [
        "### **Scraping Dataset**\n",
        "\n",
        "Web scraping dataset using beautiful soap"
      ]
    },
    {
      "cell_type": "code",
      "metadata": {
        "id": "4bLar5gYIvMk"
      },
      "source": [
        "authors = []\n",
        "dates = []\n",
        "statements = []\n",
        "sources = []\n",
        "targets = []"
      ],
      "execution_count": null,
      "outputs": []
    },
    {
      "cell_type": "code",
      "metadata": {
        "id": "Ed_ovrRpKl4P"
      },
      "source": [
        "def scrape_website(page_number):\n",
        "  page_num = str(page_number) #Convert the page number to a string\n",
        "  URL = 'https://www.politifact.com/factchecks/list/?page='+page_num #append the page number to complete the URL\n",
        "  webpage = requests.get(URL)  #Make a request to the website\n",
        "  #time.sleep(3)\n",
        "  soup = BeautifulSoup(webpage.text, \"html.parser\") #Parse the text from the website\n",
        "  #Get the tags and it's class\n",
        "  statement_footer =  soup.find_all('footer',attrs={'class':'m-statement__footer'})  #Get the tag and it's class\n",
        "  statement_quote = soup.find_all('div', attrs={'class':'m-statement__quote'}) #Get the tag and it's class\n",
        "  statement_meta = soup.find_all('div', attrs={'class':'m-statement__meta'})#Get the tag and it's class\n",
        "  target = soup.find_all('div', attrs={'class':'m-statement__meter'}) #Get the tag and it's class\n",
        "  #loop through the footer class m-statement__footer to get the date and author\n",
        "  for i in statement_footer:\n",
        "    link1 = i.text.strip()\n",
        "    name_and_date = link1.split()\n",
        "    first_name = name_and_date[1]\n",
        "    last_name = name_and_date[2]\n",
        "    full_name = first_name+' '+last_name\n",
        "    month = name_and_date[4]\n",
        "    day = name_and_date[5]\n",
        "    year = name_and_date[6]\n",
        "    date = month+' '+day+' '+year\n",
        "    dates.append(date)\n",
        "    authors.append(full_name)\n",
        "  #Loop through the div m-statement__quote to get the link\n",
        "  for i in statement_quote:\n",
        "    link2 = i.find_all('a')\n",
        "    statements.append(link2[0].text.strip())\n",
        " #Loop through the div m-statement__meta to get the source\n",
        "  for i in statement_meta:\n",
        "    link3 = i.find_all('a') #Source\n",
        "    source_text = link3[0].text.strip()\n",
        "    sources.append(source_text)\n",
        "  #Loop through the target or the div m-statement__meter to get the facts about the statement (True or False)\n",
        "  for i in target:\n",
        "    fact = i.find('div', attrs={'class':'c-image'}).find('img').get('alt')\n",
        "    targets.append(fact)"
      ],
      "execution_count": null,
      "outputs": []
    },
    {
      "cell_type": "code",
      "metadata": {
        "id": "VqN_KsVKXo9H"
      },
      "source": [
        "n=2\n",
        "for i in range(1, n):\n",
        "  scrape_website(i)"
      ],
      "execution_count": null,
      "outputs": []
    },
    {
      "cell_type": "code",
      "metadata": {
        "id": "6YAg1G3dKygl"
      },
      "source": [
        "data = pd.DataFrame(columns = [ 'statement', 'target']) \n",
        "data['statement'] = statements\n",
        "data['target'] = targets\n",
        "#Show the data set\n",
        "\n"
      ],
      "execution_count": null,
      "outputs": []
    },
    {
      "cell_type": "code",
      "metadata": {
        "colab": {
          "base_uri": "https://localhost:8080/",
          "height": 990
        },
        "id": "alEGYCvVXtvc",
        "outputId": "8a9f607b-deae-4b2a-cdff-9e44c8906fc7"
      },
      "source": [
        "data"
      ],
      "execution_count": null,
      "outputs": [
        {
          "output_type": "execute_result",
          "data": {
            "text/html": [
              "<div>\n",
              "<style scoped>\n",
              "    .dataframe tbody tr th:only-of-type {\n",
              "        vertical-align: middle;\n",
              "    }\n",
              "\n",
              "    .dataframe tbody tr th {\n",
              "        vertical-align: top;\n",
              "    }\n",
              "\n",
              "    .dataframe thead th {\n",
              "        text-align: right;\n",
              "    }\n",
              "</style>\n",
              "<table border=\"1\" class=\"dataframe\">\n",
              "  <thead>\n",
              "    <tr style=\"text-align: right;\">\n",
              "      <th></th>\n",
              "      <th>statement</th>\n",
              "      <th>target</th>\n",
              "    </tr>\n",
              "  </thead>\n",
              "  <tbody>\n",
              "    <tr>\n",
              "      <th>0</th>\n",
              "      <td>“Malcolm X’s daughter found dead in NYC days a...</td>\n",
              "      <td>barely-true</td>\n",
              "    </tr>\n",
              "    <tr>\n",
              "      <th>1</th>\n",
              "      <td>Vaccinated people under 60 in England “are dyi...</td>\n",
              "      <td>barely-true</td>\n",
              "    </tr>\n",
              "    <tr>\n",
              "      <th>2</th>\n",
              "      <td>“Only Reuters” reported that the doctor who de...</td>\n",
              "      <td>false</td>\n",
              "    </tr>\n",
              "    <tr>\n",
              "      <th>3</th>\n",
              "      <td>“COVID death rates 4 to 1, vaccinated to unvax...</td>\n",
              "      <td>false</td>\n",
              "    </tr>\n",
              "    <tr>\n",
              "      <th>4</th>\n",
              "      <td>We know in November 2021 that “none of your pr...</td>\n",
              "      <td>false</td>\n",
              "    </tr>\n",
              "    <tr>\n",
              "      <th>5</th>\n",
              "      <td>“Within two years, there were two 500-year (st...</td>\n",
              "      <td>mostly-true</td>\n",
              "    </tr>\n",
              "    <tr>\n",
              "      <th>6</th>\n",
              "      <td>Omicron 'hysteria' was timed so that it would ...</td>\n",
              "      <td>pants-fire</td>\n",
              "    </tr>\n",
              "    <tr>\n",
              "      <th>7</th>\n",
              "      <td>The omicron variant’s name is evidence the cor...</td>\n",
              "      <td>false</td>\n",
              "    </tr>\n",
              "    <tr>\n",
              "      <th>8</th>\n",
              "      <td>Says a Vox headline said, “teaching children t...</td>\n",
              "      <td>false</td>\n",
              "    </tr>\n",
              "    <tr>\n",
              "      <th>9</th>\n",
              "      <td>\"U.S. households are on track to spend $19 bil...</td>\n",
              "      <td>half-true</td>\n",
              "    </tr>\n",
              "    <tr>\n",
              "      <th>10</th>\n",
              "      <td>“Celine Dion has been paralyzed by the COVID v...</td>\n",
              "      <td>false</td>\n",
              "    </tr>\n",
              "    <tr>\n",
              "      <th>11</th>\n",
              "      <td>\"Nancy Pelosi just bought a 11,000 square foot...</td>\n",
              "      <td>false</td>\n",
              "    </tr>\n",
              "    <tr>\n",
              "      <th>12</th>\n",
              "      <td>“Kyle Rittenhouse files a $60 million lawsuit ...</td>\n",
              "      <td>false</td>\n",
              "    </tr>\n",
              "    <tr>\n",
              "      <th>13</th>\n",
              "      <td>Photo shows people recently protesting in Aust...</td>\n",
              "      <td>false</td>\n",
              "    </tr>\n",
              "    <tr>\n",
              "      <th>14</th>\n",
              "      <td>“This one here has subsidies for people making...</td>\n",
              "      <td>barely-true</td>\n",
              "    </tr>\n",
              "    <tr>\n",
              "      <th>15</th>\n",
              "      <td>Kyle Rittenhouse was an “armed person” crossin...</td>\n",
              "      <td>false</td>\n",
              "    </tr>\n",
              "    <tr>\n",
              "      <th>16</th>\n",
              "      <td>“The gas station where they initially attacked...</td>\n",
              "      <td>false</td>\n",
              "    </tr>\n",
              "    <tr>\n",
              "      <th>17</th>\n",
              "      <td>“Vitamin D levels of 50 ng/mL correlates to ze...</td>\n",
              "      <td>false</td>\n",
              "    </tr>\n",
              "    <tr>\n",
              "      <th>18</th>\n",
              "      <td>\"Fauci admits Covid vax doesn't work\"</td>\n",
              "      <td>false</td>\n",
              "    </tr>\n",
              "    <tr>\n",
              "      <th>19</th>\n",
              "      <td>The Build Back Better bill provides “'parole' ...</td>\n",
              "      <td>barely-true</td>\n",
              "    </tr>\n",
              "    <tr>\n",
              "      <th>20</th>\n",
              "      <td>The FBI targeted a woman and searched her home...</td>\n",
              "      <td>barely-true</td>\n",
              "    </tr>\n",
              "    <tr>\n",
              "      <th>21</th>\n",
              "      <td>An increase in Medicare Part B premiums means ...</td>\n",
              "      <td>barely-true</td>\n",
              "    </tr>\n",
              "    <tr>\n",
              "      <th>22</th>\n",
              "      <td>\"You've had over 2 million women drop out of t...</td>\n",
              "      <td>mostly-true</td>\n",
              "    </tr>\n",
              "    <tr>\n",
              "      <th>23</th>\n",
              "      <td>\"Spike protein goes to nucleus and impairs DNA...</td>\n",
              "      <td>half-true</td>\n",
              "    </tr>\n",
              "    <tr>\n",
              "      <th>24</th>\n",
              "      <td>“Wisconsin is almost equally divided on partis...</td>\n",
              "      <td>barely-true</td>\n",
              "    </tr>\n",
              "    <tr>\n",
              "      <th>25</th>\n",
              "      <td>The media televised the trial of Kyle Rittenho...</td>\n",
              "      <td>barely-true</td>\n",
              "    </tr>\n",
              "    <tr>\n",
              "      <th>26</th>\n",
              "      <td>The Vatican owns a telescope called Lucifer.</td>\n",
              "      <td>false</td>\n",
              "    </tr>\n",
              "    <tr>\n",
              "      <th>27</th>\n",
              "      <td>President Joe Biden will “control health care ...</td>\n",
              "      <td>false</td>\n",
              "    </tr>\n",
              "    <tr>\n",
              "      <th>28</th>\n",
              "      <td>Ashley Hinson’s and Mariannette Miller-Meeks’ ...</td>\n",
              "      <td>half-true</td>\n",
              "    </tr>\n",
              "    <tr>\n",
              "      <th>29</th>\n",
              "      <td>“The FBI is using its counterterrorism divisio...</td>\n",
              "      <td>barely-true</td>\n",
              "    </tr>\n",
              "  </tbody>\n",
              "</table>\n",
              "</div>"
            ],
            "text/plain": [
              "                                            statement       target\n",
              "0   “Malcolm X’s daughter found dead in NYC days a...  barely-true\n",
              "1   Vaccinated people under 60 in England “are dyi...  barely-true\n",
              "2   “Only Reuters” reported that the doctor who de...        false\n",
              "3   “COVID death rates 4 to 1, vaccinated to unvax...        false\n",
              "4   We know in November 2021 that “none of your pr...        false\n",
              "5   “Within two years, there were two 500-year (st...  mostly-true\n",
              "6   Omicron 'hysteria' was timed so that it would ...   pants-fire\n",
              "7   The omicron variant’s name is evidence the cor...        false\n",
              "8   Says a Vox headline said, “teaching children t...        false\n",
              "9   \"U.S. households are on track to spend $19 bil...    half-true\n",
              "10  “Celine Dion has been paralyzed by the COVID v...        false\n",
              "11  \"Nancy Pelosi just bought a 11,000 square foot...        false\n",
              "12  “Kyle Rittenhouse files a $60 million lawsuit ...        false\n",
              "13  Photo shows people recently protesting in Aust...        false\n",
              "14  “This one here has subsidies for people making...  barely-true\n",
              "15  Kyle Rittenhouse was an “armed person” crossin...        false\n",
              "16  “The gas station where they initially attacked...        false\n",
              "17  “Vitamin D levels of 50 ng/mL correlates to ze...        false\n",
              "18              \"Fauci admits Covid vax doesn't work\"        false\n",
              "19  The Build Back Better bill provides “'parole' ...  barely-true\n",
              "20  The FBI targeted a woman and searched her home...  barely-true\n",
              "21  An increase in Medicare Part B premiums means ...  barely-true\n",
              "22  \"You've had over 2 million women drop out of t...  mostly-true\n",
              "23  \"Spike protein goes to nucleus and impairs DNA...    half-true\n",
              "24  “Wisconsin is almost equally divided on partis...  barely-true\n",
              "25  The media televised the trial of Kyle Rittenho...  barely-true\n",
              "26       The Vatican owns a telescope called Lucifer.        false\n",
              "27  President Joe Biden will “control health care ...        false\n",
              "28  Ashley Hinson’s and Mariannette Miller-Meeks’ ...    half-true\n",
              "29  “The FBI is using its counterterrorism divisio...  barely-true"
            ]
          },
          "metadata": {},
          "execution_count": 44
        }
      ]
    },
    {
      "cell_type": "markdown",
      "metadata": {
        "id": "0CVOCP4pw9q1"
      },
      "source": [
        "## **Dataset 3: Liar Liar Dataset**"
      ]
    },
    {
      "cell_type": "markdown",
      "metadata": {
        "id": "4afL1fn3xIMX"
      },
      "source": [
        "### **Data collection**\n",
        "\n",
        "Downloading Dataset from Google Drive"
      ]
    },
    {
      "cell_type": "code",
      "metadata": {
        "id": "sQSOYKvmZn9Y",
        "colab": {
          "base_uri": "https://localhost:8080/"
        },
        "outputId": "d77ac7cd-5a29-4727-9d49-de992a0ba82f"
      },
      "source": [
        "!gdown --id '1OWZv1DPnwAe5t6Y5T1syEnBIazjvZRu4'"
      ],
      "execution_count": null,
      "outputs": [
        {
          "output_type": "stream",
          "name": "stdout",
          "text": [
            "Downloading...\n",
            "From: https://drive.google.com/uc?id=1OWZv1DPnwAe5t6Y5T1syEnBIazjvZRu4\n",
            "To: /content/liar_dataset.zip\n",
            "\r  0% 0.00/1.01M [00:00<?, ?B/s]\r100% 1.01M/1.01M [00:00<00:00, 61.6MB/s]\n"
          ]
        }
      ]
    },
    {
      "cell_type": "code",
      "metadata": {
        "id": "0Y1-68pzZh4B"
      },
      "source": [
        "\n",
        "import zipfile\n",
        "with zipfile.ZipFile('liar_dataset.zip', 'r') as zip_ref:\n",
        "\n",
        "    zip_ref.extractall()\n",
        "\n",
        "#Getting the train data\n",
        "liar_train = pd.read_csv('train.tsv', sep='\\t',header=None)\n",
        "liar_train=liar_train.drop(columns=[0])"
      ],
      "execution_count": null,
      "outputs": []
    },
    {
      "cell_type": "code",
      "metadata": {
        "id": "1A8UHQ4bZx8e"
      },
      "source": [
        "columns=[\n",
        "'label',\n",
        "'statement',\n",
        "'subject',\n",
        "'speaker',\n",
        "'speaker_job_title',\n",
        "'state_info',\n",
        "'affiliation',\n",
        "'barely_true_counts',\n",
        "'false_counts',\n",
        "'half_true_counts',\n",
        "'mostly_true_counts',\n",
        "'pants_on_fire_counts',\n",
        "'context'\n",
        "]\n",
        "\n",
        "\n",
        "liar_train.columns=columns"
      ],
      "execution_count": null,
      "outputs": []
    },
    {
      "cell_type": "code",
      "metadata": {
        "colab": {
          "base_uri": "https://localhost:8080/"
        },
        "id": "jwU47MJKfL4u",
        "outputId": "c2a5df7e-4af1-4c6a-9bff-1c0889122783"
      },
      "source": [
        "liar_train.label"
      ],
      "execution_count": null,
      "outputs": [
        {
          "output_type": "execute_result",
          "data": {
            "text/plain": [
              "0              false\n",
              "1          half-true\n",
              "2        mostly-true\n",
              "3              false\n",
              "4          half-true\n",
              "            ...     \n",
              "10235    mostly-true\n",
              "10236    mostly-true\n",
              "10237      half-true\n",
              "10238          false\n",
              "10239     pants-fire\n",
              "Name: label, Length: 10240, dtype: object"
            ]
          },
          "metadata": {},
          "execution_count": 48
        }
      ]
    },
    {
      "cell_type": "code",
      "metadata": {
        "id": "JRlK1M7EZy9Z"
      },
      "source": [
        "liar_train=liar_train[['statement','label']]"
      ],
      "execution_count": null,
      "outputs": []
    },
    {
      "cell_type": "code",
      "metadata": {
        "id": "Zff_RyhmZ6Zi"
      },
      "source": [
        "liar_train.columns=['statement','target']"
      ],
      "execution_count": null,
      "outputs": []
    },
    {
      "cell_type": "code",
      "metadata": {
        "colab": {
          "base_uri": "https://localhost:8080/",
          "height": 424
        },
        "id": "wPtIlTKzfH9y",
        "outputId": "f16271fb-a7cd-4387-8496-8146fa6ec8cc"
      },
      "source": [
        "liar_train"
      ],
      "execution_count": null,
      "outputs": [
        {
          "output_type": "execute_result",
          "data": {
            "text/html": [
              "<div>\n",
              "<style scoped>\n",
              "    .dataframe tbody tr th:only-of-type {\n",
              "        vertical-align: middle;\n",
              "    }\n",
              "\n",
              "    .dataframe tbody tr th {\n",
              "        vertical-align: top;\n",
              "    }\n",
              "\n",
              "    .dataframe thead th {\n",
              "        text-align: right;\n",
              "    }\n",
              "</style>\n",
              "<table border=\"1\" class=\"dataframe\">\n",
              "  <thead>\n",
              "    <tr style=\"text-align: right;\">\n",
              "      <th></th>\n",
              "      <th>statement</th>\n",
              "      <th>target</th>\n",
              "    </tr>\n",
              "  </thead>\n",
              "  <tbody>\n",
              "    <tr>\n",
              "      <th>0</th>\n",
              "      <td>Says the Annies List political group supports ...</td>\n",
              "      <td>false</td>\n",
              "    </tr>\n",
              "    <tr>\n",
              "      <th>1</th>\n",
              "      <td>When did the decline of coal start? It started...</td>\n",
              "      <td>half-true</td>\n",
              "    </tr>\n",
              "    <tr>\n",
              "      <th>2</th>\n",
              "      <td>Hillary Clinton agrees with John McCain \"by vo...</td>\n",
              "      <td>mostly-true</td>\n",
              "    </tr>\n",
              "    <tr>\n",
              "      <th>3</th>\n",
              "      <td>Health care reform legislation is likely to ma...</td>\n",
              "      <td>false</td>\n",
              "    </tr>\n",
              "    <tr>\n",
              "      <th>4</th>\n",
              "      <td>The economic turnaround started at the end of ...</td>\n",
              "      <td>half-true</td>\n",
              "    </tr>\n",
              "    <tr>\n",
              "      <th>...</th>\n",
              "      <td>...</td>\n",
              "      <td>...</td>\n",
              "    </tr>\n",
              "    <tr>\n",
              "      <th>10235</th>\n",
              "      <td>There are a larger number of shark attacks in ...</td>\n",
              "      <td>mostly-true</td>\n",
              "    </tr>\n",
              "    <tr>\n",
              "      <th>10236</th>\n",
              "      <td>Democrats have now become the party of the [At...</td>\n",
              "      <td>mostly-true</td>\n",
              "    </tr>\n",
              "    <tr>\n",
              "      <th>10237</th>\n",
              "      <td>Says an alternative to Social Security that op...</td>\n",
              "      <td>half-true</td>\n",
              "    </tr>\n",
              "    <tr>\n",
              "      <th>10238</th>\n",
              "      <td>On lifting the U.S. Cuban embargo and allowing...</td>\n",
              "      <td>false</td>\n",
              "    </tr>\n",
              "    <tr>\n",
              "      <th>10239</th>\n",
              "      <td>The Department of Veterans Affairs has a manua...</td>\n",
              "      <td>pants-fire</td>\n",
              "    </tr>\n",
              "  </tbody>\n",
              "</table>\n",
              "<p>10240 rows × 2 columns</p>\n",
              "</div>"
            ],
            "text/plain": [
              "                                               statement       target\n",
              "0      Says the Annies List political group supports ...        false\n",
              "1      When did the decline of coal start? It started...    half-true\n",
              "2      Hillary Clinton agrees with John McCain \"by vo...  mostly-true\n",
              "3      Health care reform legislation is likely to ma...        false\n",
              "4      The economic turnaround started at the end of ...    half-true\n",
              "...                                                  ...          ...\n",
              "10235  There are a larger number of shark attacks in ...  mostly-true\n",
              "10236  Democrats have now become the party of the [At...  mostly-true\n",
              "10237  Says an alternative to Social Security that op...    half-true\n",
              "10238  On lifting the U.S. Cuban embargo and allowing...        false\n",
              "10239  The Department of Veterans Affairs has a manua...   pants-fire\n",
              "\n",
              "[10240 rows x 2 columns]"
            ]
          },
          "metadata": {},
          "execution_count": 51
        }
      ]
    },
    {
      "cell_type": "markdown",
      "metadata": {
        "id": "6DG1c1LVyIkE"
      },
      "source": [
        "## **Data Amalgamation:**\n",
        "\n",
        "Combining all three datasets"
      ]
    },
    {
      "cell_type": "code",
      "metadata": {
        "id": "x1_m6jftdeP5"
      },
      "source": [
        "liar_train=liar_train.dropna().drop_duplicates()\n",
        "data=data.dropna().drop_duplicates()\n",
        "data_truth_or_fiction=data_truth_or_fiction.dropna().drop_duplicates()"
      ],
      "execution_count": null,
      "outputs": []
    },
    {
      "cell_type": "code",
      "metadata": {
        "id": "vgEhCW-Fa9p-"
      },
      "source": [
        "df=pd.concat([data,data_truth_or_fiction,liar_train])"
      ],
      "execution_count": null,
      "outputs": []
    },
    {
      "cell_type": "code",
      "metadata": {
        "colab": {
          "base_uri": "https://localhost:8080/",
          "height": 424
        },
        "id": "1YFA8MPUdPcp",
        "outputId": "9a044fd1-66fc-4652-e68e-eb2043baeee8"
      },
      "source": [
        "df"
      ],
      "execution_count": null,
      "outputs": [
        {
          "output_type": "execute_result",
          "data": {
            "text/html": [
              "<div>\n",
              "<style scoped>\n",
              "    .dataframe tbody tr th:only-of-type {\n",
              "        vertical-align: middle;\n",
              "    }\n",
              "\n",
              "    .dataframe tbody tr th {\n",
              "        vertical-align: top;\n",
              "    }\n",
              "\n",
              "    .dataframe thead th {\n",
              "        text-align: right;\n",
              "    }\n",
              "</style>\n",
              "<table border=\"1\" class=\"dataframe\">\n",
              "  <thead>\n",
              "    <tr style=\"text-align: right;\">\n",
              "      <th></th>\n",
              "      <th>statement</th>\n",
              "      <th>target</th>\n",
              "    </tr>\n",
              "  </thead>\n",
              "  <tbody>\n",
              "    <tr>\n",
              "      <th>0</th>\n",
              "      <td>“Malcolm X’s daughter found dead in NYC days a...</td>\n",
              "      <td>barely-true</td>\n",
              "    </tr>\n",
              "    <tr>\n",
              "      <th>1</th>\n",
              "      <td>Vaccinated people under 60 in England “are dyi...</td>\n",
              "      <td>barely-true</td>\n",
              "    </tr>\n",
              "    <tr>\n",
              "      <th>2</th>\n",
              "      <td>“Only Reuters” reported that the doctor who de...</td>\n",
              "      <td>false</td>\n",
              "    </tr>\n",
              "    <tr>\n",
              "      <th>3</th>\n",
              "      <td>“COVID death rates 4 to 1, vaccinated to unvax...</td>\n",
              "      <td>false</td>\n",
              "    </tr>\n",
              "    <tr>\n",
              "      <th>4</th>\n",
              "      <td>We know in November 2021 that “none of your pr...</td>\n",
              "      <td>false</td>\n",
              "    </tr>\n",
              "    <tr>\n",
              "      <th>...</th>\n",
              "      <td>...</td>\n",
              "      <td>...</td>\n",
              "    </tr>\n",
              "    <tr>\n",
              "      <th>10235</th>\n",
              "      <td>There are a larger number of shark attacks in ...</td>\n",
              "      <td>mostly-true</td>\n",
              "    </tr>\n",
              "    <tr>\n",
              "      <th>10236</th>\n",
              "      <td>Democrats have now become the party of the [At...</td>\n",
              "      <td>mostly-true</td>\n",
              "    </tr>\n",
              "    <tr>\n",
              "      <th>10237</th>\n",
              "      <td>Says an alternative to Social Security that op...</td>\n",
              "      <td>half-true</td>\n",
              "    </tr>\n",
              "    <tr>\n",
              "      <th>10238</th>\n",
              "      <td>On lifting the U.S. Cuban embargo and allowing...</td>\n",
              "      <td>false</td>\n",
              "    </tr>\n",
              "    <tr>\n",
              "      <th>10239</th>\n",
              "      <td>The Department of Veterans Affairs has a manua...</td>\n",
              "      <td>pants-fire</td>\n",
              "    </tr>\n",
              "  </tbody>\n",
              "</table>\n",
              "<p>10279 rows × 2 columns</p>\n",
              "</div>"
            ],
            "text/plain": [
              "                                               statement       target\n",
              "0      “Malcolm X’s daughter found dead in NYC days a...  barely-true\n",
              "1      Vaccinated people under 60 in England “are dyi...  barely-true\n",
              "2      “Only Reuters” reported that the doctor who de...        false\n",
              "3      “COVID death rates 4 to 1, vaccinated to unvax...        false\n",
              "4      We know in November 2021 that “none of your pr...        false\n",
              "...                                                  ...          ...\n",
              "10235  There are a larger number of shark attacks in ...  mostly-true\n",
              "10236  Democrats have now become the party of the [At...  mostly-true\n",
              "10237  Says an alternative to Social Security that op...    half-true\n",
              "10238  On lifting the U.S. Cuban embargo and allowing...        false\n",
              "10239  The Department of Veterans Affairs has a manua...   pants-fire\n",
              "\n",
              "[10279 rows x 2 columns]"
            ]
          },
          "metadata": {},
          "execution_count": 54
        }
      ]
    },
    {
      "cell_type": "markdown",
      "metadata": {
        "id": "FRySLQBixxXY"
      },
      "source": [
        "### **Data Cleaning**\n",
        "\n",
        "Cleaning the dataset includes: Stopwords removal, stemming, lemmatization, converting to lowercase, removing punctuations, special characters and digits, and word tokenization"
      ]
    },
    {
      "cell_type": "code",
      "metadata": {
        "colab": {
          "base_uri": "https://localhost:8080/"
        },
        "id": "nNS9I1BTfuUG",
        "outputId": "507a8a3d-d2ab-4c32-da24-752409df9687"
      },
      "source": [
        "from nltk.corpus import stopwords\n",
        "import nltk\n",
        "nltk.download('stopwords')\n",
        "from nltk.stem.snowball import SnowballStemmer\n",
        "from nltk.stem import WordNetLemmatizer\n",
        "nltk.download('wordnet')\n",
        "from sklearn.feature_extraction.text import TfidfVectorizer"
      ],
      "execution_count": null,
      "outputs": [
        {
          "output_type": "stream",
          "name": "stdout",
          "text": [
            "[nltk_data] Downloading package stopwords to /root/nltk_data...\n",
            "[nltk_data]   Package stopwords is already up-to-date!\n",
            "[nltk_data] Downloading package wordnet to /root/nltk_data...\n",
            "[nltk_data]   Package wordnet is already up-to-date!\n"
          ]
        }
      ]
    },
    {
      "cell_type": "code",
      "metadata": {
        "id": "_t2r2sdUMT6R"
      },
      "source": [
        "def get_POS_tags(statement):\n",
        "  tokens = nltk.word_tokenize(statement)\n",
        "  text = nltk.Text(tokens)\n",
        "  tags = nltk.pos_tag(text)\n",
        "  counts = Counter(tag for word,tag in tags)\n",
        "  noun_counts=counts['NN']+counts['NNS']+counts['NNP']+counts['NNPS']\n",
        "  verb_counts=counts['VB']+counts['VBD']+counts['VBG']+counts['VBN']+counts['VBP']+counts['VBG']\n",
        "  adverbverb_counts=counts['VB']+counts['VBD']+counts['VBG']+counts['VBN']+counts['VBP']+counts['VBG']\n",
        "  adjective_counts=counts['JJ']+counts['JJR']+counts['JJS']\n",
        "  possessive_ending_counts=counts['POS']\n",
        "  return noun_counts,verb_counts,adverbverb_counts,adjective_counts,possessive_ending_counts"
      ],
      "execution_count": null,
      "outputs": []
    },
    {
      "cell_type": "code",
      "metadata": {
        "id": "R0nykZ4AO-oB"
      },
      "source": [
        ""
      ],
      "execution_count": null,
      "outputs": []
    },
    {
      "cell_type": "code",
      "metadata": {
        "colab": {
          "base_uri": "https://localhost:8080/",
          "height": 424
        },
        "id": "jtUG9C42qzLD",
        "outputId": "ca9c197e-5653-4859-de31-3c79c3896db3"
      },
      "source": [
        "df['statement']=df['statement'].astype(str)\n",
        "df['Lower']=df['statement'].str.lower()\n",
        "df['Lower']=df['Lower'].str.replace('\\d+', '')\n",
        "df['Lower']=df['Lower'].str.replace(r\"http\\S+\", '')\n",
        "df['Lower']=df['Lower'].str.replace('[^A-Za-z ]+', '')\n",
        "df"
      ],
      "execution_count": null,
      "outputs": [
        {
          "output_type": "execute_result",
          "data": {
            "text/html": [
              "<div>\n",
              "<style scoped>\n",
              "    .dataframe tbody tr th:only-of-type {\n",
              "        vertical-align: middle;\n",
              "    }\n",
              "\n",
              "    .dataframe tbody tr th {\n",
              "        vertical-align: top;\n",
              "    }\n",
              "\n",
              "    .dataframe thead th {\n",
              "        text-align: right;\n",
              "    }\n",
              "</style>\n",
              "<table border=\"1\" class=\"dataframe\">\n",
              "  <thead>\n",
              "    <tr style=\"text-align: right;\">\n",
              "      <th></th>\n",
              "      <th>statement</th>\n",
              "      <th>target</th>\n",
              "      <th>Lower</th>\n",
              "    </tr>\n",
              "  </thead>\n",
              "  <tbody>\n",
              "    <tr>\n",
              "      <th>0</th>\n",
              "      <td>“Malcolm X’s daughter found dead in NYC days a...</td>\n",
              "      <td>barely-true</td>\n",
              "      <td>malcolm xs daughter found dead in nyc days aft...</td>\n",
              "    </tr>\n",
              "    <tr>\n",
              "      <th>1</th>\n",
              "      <td>Vaccinated people under 60 in England “are dyi...</td>\n",
              "      <td>barely-true</td>\n",
              "      <td>vaccinated people under  in england are dying ...</td>\n",
              "    </tr>\n",
              "    <tr>\n",
              "      <th>2</th>\n",
              "      <td>“Only Reuters” reported that the doctor who de...</td>\n",
              "      <td>false</td>\n",
              "      <td>only reuters reported that the doctor who dete...</td>\n",
              "    </tr>\n",
              "    <tr>\n",
              "      <th>3</th>\n",
              "      <td>“COVID death rates 4 to 1, vaccinated to unvax...</td>\n",
              "      <td>false</td>\n",
              "      <td>covid death rates  to  vaccinated to unvaxxed</td>\n",
              "    </tr>\n",
              "    <tr>\n",
              "      <th>4</th>\n",
              "      <td>We know in November 2021 that “none of your pr...</td>\n",
              "      <td>false</td>\n",
              "      <td>we know in november  that none of your previou...</td>\n",
              "    </tr>\n",
              "    <tr>\n",
              "      <th>...</th>\n",
              "      <td>...</td>\n",
              "      <td>...</td>\n",
              "      <td>...</td>\n",
              "    </tr>\n",
              "    <tr>\n",
              "      <th>10235</th>\n",
              "      <td>There are a larger number of shark attacks in ...</td>\n",
              "      <td>mostly-true</td>\n",
              "      <td>there are a larger number of shark attacks in ...</td>\n",
              "    </tr>\n",
              "    <tr>\n",
              "      <th>10236</th>\n",
              "      <td>Democrats have now become the party of the [At...</td>\n",
              "      <td>mostly-true</td>\n",
              "      <td>democrats have now become the party of the atl...</td>\n",
              "    </tr>\n",
              "    <tr>\n",
              "      <th>10237</th>\n",
              "      <td>Says an alternative to Social Security that op...</td>\n",
              "      <td>half-true</td>\n",
              "      <td>says an alternative to social security that op...</td>\n",
              "    </tr>\n",
              "    <tr>\n",
              "      <th>10238</th>\n",
              "      <td>On lifting the U.S. Cuban embargo and allowing...</td>\n",
              "      <td>false</td>\n",
              "      <td>on lifting the us cuban embargo and allowing t...</td>\n",
              "    </tr>\n",
              "    <tr>\n",
              "      <th>10239</th>\n",
              "      <td>The Department of Veterans Affairs has a manua...</td>\n",
              "      <td>pants-fire</td>\n",
              "      <td>the department of veterans affairs has a manua...</td>\n",
              "    </tr>\n",
              "  </tbody>\n",
              "</table>\n",
              "<p>10279 rows × 3 columns</p>\n",
              "</div>"
            ],
            "text/plain": [
              "                                               statement  ...                                              Lower\n",
              "0      “Malcolm X’s daughter found dead in NYC days a...  ...  malcolm xs daughter found dead in nyc days aft...\n",
              "1      Vaccinated people under 60 in England “are dyi...  ...  vaccinated people under  in england are dying ...\n",
              "2      “Only Reuters” reported that the doctor who de...  ...  only reuters reported that the doctor who dete...\n",
              "3      “COVID death rates 4 to 1, vaccinated to unvax...  ...      covid death rates  to  vaccinated to unvaxxed\n",
              "4      We know in November 2021 that “none of your pr...  ...  we know in november  that none of your previou...\n",
              "...                                                  ...  ...                                                ...\n",
              "10235  There are a larger number of shark attacks in ...  ...  there are a larger number of shark attacks in ...\n",
              "10236  Democrats have now become the party of the [At...  ...  democrats have now become the party of the atl...\n",
              "10237  Says an alternative to Social Security that op...  ...  says an alternative to social security that op...\n",
              "10238  On lifting the U.S. Cuban embargo and allowing...  ...  on lifting the us cuban embargo and allowing t...\n",
              "10239  The Department of Veterans Affairs has a manua...  ...  the department of veterans affairs has a manua...\n",
              "\n",
              "[10279 rows x 3 columns]"
            ]
          },
          "metadata": {},
          "execution_count": 57
        }
      ]
    },
    {
      "cell_type": "code",
      "metadata": {
        "colab": {
          "base_uri": "https://localhost:8080/",
          "height": 597
        },
        "id": "P1Avz5Gqq3Be",
        "outputId": "422397fe-e259-4918-effd-cdf8ad0497df"
      },
      "source": [
        "stop_words = set(stopwords.words('english')) \n",
        "df['statement_without_stopwords'] = df['Lower'].apply(lambda x: ' '.join([word for word in x.split() if word not in stop_words]))\n",
        "df"
      ],
      "execution_count": null,
      "outputs": [
        {
          "output_type": "execute_result",
          "data": {
            "text/html": [
              "<div>\n",
              "<style scoped>\n",
              "    .dataframe tbody tr th:only-of-type {\n",
              "        vertical-align: middle;\n",
              "    }\n",
              "\n",
              "    .dataframe tbody tr th {\n",
              "        vertical-align: top;\n",
              "    }\n",
              "\n",
              "    .dataframe thead th {\n",
              "        text-align: right;\n",
              "    }\n",
              "</style>\n",
              "<table border=\"1\" class=\"dataframe\">\n",
              "  <thead>\n",
              "    <tr style=\"text-align: right;\">\n",
              "      <th></th>\n",
              "      <th>statement</th>\n",
              "      <th>target</th>\n",
              "      <th>Lower</th>\n",
              "      <th>statement_without_stopwords</th>\n",
              "    </tr>\n",
              "  </thead>\n",
              "  <tbody>\n",
              "    <tr>\n",
              "      <th>0</th>\n",
              "      <td>“Malcolm X’s daughter found dead in NYC days a...</td>\n",
              "      <td>barely-true</td>\n",
              "      <td>malcolm xs daughter found dead in nyc days aft...</td>\n",
              "      <td>malcolm xs daughter found dead nyc days expose...</td>\n",
              "    </tr>\n",
              "    <tr>\n",
              "      <th>1</th>\n",
              "      <td>Vaccinated people under 60 in England “are dyi...</td>\n",
              "      <td>barely-true</td>\n",
              "      <td>vaccinated people under  in england are dying ...</td>\n",
              "      <td>vaccinated people england dying twice rate unv...</td>\n",
              "    </tr>\n",
              "    <tr>\n",
              "      <th>2</th>\n",
              "      <td>“Only Reuters” reported that the doctor who de...</td>\n",
              "      <td>false</td>\n",
              "      <td>only reuters reported that the doctor who dete...</td>\n",
              "      <td>reuters reported doctor detected omicron varia...</td>\n",
              "    </tr>\n",
              "    <tr>\n",
              "      <th>3</th>\n",
              "      <td>“COVID death rates 4 to 1, vaccinated to unvax...</td>\n",
              "      <td>false</td>\n",
              "      <td>covid death rates  to  vaccinated to unvaxxed</td>\n",
              "      <td>covid death rates vaccinated unvaxxed</td>\n",
              "    </tr>\n",
              "    <tr>\n",
              "      <th>4</th>\n",
              "      <td>We know in November 2021 that “none of your pr...</td>\n",
              "      <td>false</td>\n",
              "      <td>we know in november  that none of your previou...</td>\n",
              "      <td>know november none previous vaccines protect e...</td>\n",
              "    </tr>\n",
              "    <tr>\n",
              "      <th>...</th>\n",
              "      <td>...</td>\n",
              "      <td>...</td>\n",
              "      <td>...</td>\n",
              "      <td>...</td>\n",
              "    </tr>\n",
              "    <tr>\n",
              "      <th>10235</th>\n",
              "      <td>There are a larger number of shark attacks in ...</td>\n",
              "      <td>mostly-true</td>\n",
              "      <td>there are a larger number of shark attacks in ...</td>\n",
              "      <td>larger number shark attacks florida cases vote...</td>\n",
              "    </tr>\n",
              "    <tr>\n",
              "      <th>10236</th>\n",
              "      <td>Democrats have now become the party of the [At...</td>\n",
              "      <td>mostly-true</td>\n",
              "      <td>democrats have now become the party of the atl...</td>\n",
              "      <td>democrats become party atlanta metro area blacks</td>\n",
              "    </tr>\n",
              "    <tr>\n",
              "      <th>10237</th>\n",
              "      <td>Says an alternative to Social Security that op...</td>\n",
              "      <td>half-true</td>\n",
              "      <td>says an alternative to social security that op...</td>\n",
              "      <td>says alternative social security operates galv...</td>\n",
              "    </tr>\n",
              "    <tr>\n",
              "      <th>10238</th>\n",
              "      <td>On lifting the U.S. Cuban embargo and allowing...</td>\n",
              "      <td>false</td>\n",
              "      <td>on lifting the us cuban embargo and allowing t...</td>\n",
              "      <td>lifting us cuban embargo allowing travel cuba</td>\n",
              "    </tr>\n",
              "    <tr>\n",
              "      <th>10239</th>\n",
              "      <td>The Department of Veterans Affairs has a manua...</td>\n",
              "      <td>pants-fire</td>\n",
              "      <td>the department of veterans affairs has a manua...</td>\n",
              "      <td>department veterans affairs manual telling vet...</td>\n",
              "    </tr>\n",
              "  </tbody>\n",
              "</table>\n",
              "<p>10279 rows × 4 columns</p>\n",
              "</div>"
            ],
            "text/plain": [
              "                                               statement  ...                        statement_without_stopwords\n",
              "0      “Malcolm X’s daughter found dead in NYC days a...  ...  malcolm xs daughter found dead nyc days expose...\n",
              "1      Vaccinated people under 60 in England “are dyi...  ...  vaccinated people england dying twice rate unv...\n",
              "2      “Only Reuters” reported that the doctor who de...  ...  reuters reported doctor detected omicron varia...\n",
              "3      “COVID death rates 4 to 1, vaccinated to unvax...  ...              covid death rates vaccinated unvaxxed\n",
              "4      We know in November 2021 that “none of your pr...  ...  know november none previous vaccines protect e...\n",
              "...                                                  ...  ...                                                ...\n",
              "10235  There are a larger number of shark attacks in ...  ...  larger number shark attacks florida cases vote...\n",
              "10236  Democrats have now become the party of the [At...  ...   democrats become party atlanta metro area blacks\n",
              "10237  Says an alternative to Social Security that op...  ...  says alternative social security operates galv...\n",
              "10238  On lifting the U.S. Cuban embargo and allowing...  ...      lifting us cuban embargo allowing travel cuba\n",
              "10239  The Department of Veterans Affairs has a manua...  ...  department veterans affairs manual telling vet...\n",
              "\n",
              "[10279 rows x 4 columns]"
            ]
          },
          "metadata": {},
          "execution_count": 58
        }
      ]
    },
    {
      "cell_type": "code",
      "metadata": {
        "colab": {
          "base_uri": "https://localhost:8080/",
          "height": 771
        },
        "id": "7Q_V4KR8q6Ra",
        "outputId": "b06e62b3-a7d6-4641-fe13-cb01459f14b1"
      },
      "source": [
        "stemmer = SnowballStemmer(\"english\")\n",
        "lem=WordNetLemmatizer()\n",
        "df['lemm'] = df['statement_without_stopwords'].apply(lambda x: ' '.join([lem.lemmatize(y) for y in x.split()]))\n",
        "df['stemmed'] = df['lemm'].apply(lambda x: ' '.join([stemmer.stem(y) for y in x.split()]))\n",
        "df"
      ],
      "execution_count": null,
      "outputs": [
        {
          "output_type": "execute_result",
          "data": {
            "text/html": [
              "<div>\n",
              "<style scoped>\n",
              "    .dataframe tbody tr th:only-of-type {\n",
              "        vertical-align: middle;\n",
              "    }\n",
              "\n",
              "    .dataframe tbody tr th {\n",
              "        vertical-align: top;\n",
              "    }\n",
              "\n",
              "    .dataframe thead th {\n",
              "        text-align: right;\n",
              "    }\n",
              "</style>\n",
              "<table border=\"1\" class=\"dataframe\">\n",
              "  <thead>\n",
              "    <tr style=\"text-align: right;\">\n",
              "      <th></th>\n",
              "      <th>statement</th>\n",
              "      <th>target</th>\n",
              "      <th>Lower</th>\n",
              "      <th>statement_without_stopwords</th>\n",
              "      <th>lemm</th>\n",
              "      <th>stemmed</th>\n",
              "    </tr>\n",
              "  </thead>\n",
              "  <tbody>\n",
              "    <tr>\n",
              "      <th>0</th>\n",
              "      <td>“Malcolm X’s daughter found dead in NYC days a...</td>\n",
              "      <td>barely-true</td>\n",
              "      <td>malcolm xs daughter found dead in nyc days aft...</td>\n",
              "      <td>malcolm xs daughter found dead nyc days expose...</td>\n",
              "      <td>malcolm x daughter found dead nyc day exposed ...</td>\n",
              "      <td>malcolm x daughter found dead nyc day expos ny...</td>\n",
              "    </tr>\n",
              "    <tr>\n",
              "      <th>1</th>\n",
              "      <td>Vaccinated people under 60 in England “are dyi...</td>\n",
              "      <td>barely-true</td>\n",
              "      <td>vaccinated people under  in england are dying ...</td>\n",
              "      <td>vaccinated people england dying twice rate unv...</td>\n",
              "      <td>vaccinated people england dying twice rate unv...</td>\n",
              "      <td>vaccin peopl england die twice rate unvaccin p...</td>\n",
              "    </tr>\n",
              "    <tr>\n",
              "      <th>2</th>\n",
              "      <td>“Only Reuters” reported that the doctor who de...</td>\n",
              "      <td>false</td>\n",
              "      <td>only reuters reported that the doctor who dete...</td>\n",
              "      <td>reuters reported doctor detected omicron varia...</td>\n",
              "      <td>reuters reported doctor detected omicron varia...</td>\n",
              "      <td>reuter report doctor detect omicron variant sa...</td>\n",
              "    </tr>\n",
              "    <tr>\n",
              "      <th>3</th>\n",
              "      <td>“COVID death rates 4 to 1, vaccinated to unvax...</td>\n",
              "      <td>false</td>\n",
              "      <td>covid death rates  to  vaccinated to unvaxxed</td>\n",
              "      <td>covid death rates vaccinated unvaxxed</td>\n",
              "      <td>covid death rate vaccinated unvaxxed</td>\n",
              "      <td>covid death rate vaccin unvaxx</td>\n",
              "    </tr>\n",
              "    <tr>\n",
              "      <th>4</th>\n",
              "      <td>We know in November 2021 that “none of your pr...</td>\n",
              "      <td>false</td>\n",
              "      <td>we know in november  that none of your previou...</td>\n",
              "      <td>know november none previous vaccines protect e...</td>\n",
              "      <td>know november none previous vaccine protect em...</td>\n",
              "      <td>know novemb none previous vaccin protect emerg...</td>\n",
              "    </tr>\n",
              "    <tr>\n",
              "      <th>...</th>\n",
              "      <td>...</td>\n",
              "      <td>...</td>\n",
              "      <td>...</td>\n",
              "      <td>...</td>\n",
              "      <td>...</td>\n",
              "      <td>...</td>\n",
              "    </tr>\n",
              "    <tr>\n",
              "      <th>10235</th>\n",
              "      <td>There are a larger number of shark attacks in ...</td>\n",
              "      <td>mostly-true</td>\n",
              "      <td>there are a larger number of shark attacks in ...</td>\n",
              "      <td>larger number shark attacks florida cases vote...</td>\n",
              "      <td>larger number shark attack florida case voter ...</td>\n",
              "      <td>larger number shark attack florida case voter ...</td>\n",
              "    </tr>\n",
              "    <tr>\n",
              "      <th>10236</th>\n",
              "      <td>Democrats have now become the party of the [At...</td>\n",
              "      <td>mostly-true</td>\n",
              "      <td>democrats have now become the party of the atl...</td>\n",
              "      <td>democrats become party atlanta metro area blacks</td>\n",
              "      <td>democrat become party atlanta metro area black</td>\n",
              "      <td>democrat becom parti atlanta metro area black</td>\n",
              "    </tr>\n",
              "    <tr>\n",
              "      <th>10237</th>\n",
              "      <td>Says an alternative to Social Security that op...</td>\n",
              "      <td>half-true</td>\n",
              "      <td>says an alternative to social security that op...</td>\n",
              "      <td>says alternative social security operates galv...</td>\n",
              "      <td>say alternative social security operates galve...</td>\n",
              "      <td>say altern social secur oper galveston counti ...</td>\n",
              "    </tr>\n",
              "    <tr>\n",
              "      <th>10238</th>\n",
              "      <td>On lifting the U.S. Cuban embargo and allowing...</td>\n",
              "      <td>false</td>\n",
              "      <td>on lifting the us cuban embargo and allowing t...</td>\n",
              "      <td>lifting us cuban embargo allowing travel cuba</td>\n",
              "      <td>lifting u cuban embargo allowing travel cuba</td>\n",
              "      <td>lift u cuban embargo allow travel cuba</td>\n",
              "    </tr>\n",
              "    <tr>\n",
              "      <th>10239</th>\n",
              "      <td>The Department of Veterans Affairs has a manua...</td>\n",
              "      <td>pants-fire</td>\n",
              "      <td>the department of veterans affairs has a manua...</td>\n",
              "      <td>department veterans affairs manual telling vet...</td>\n",
              "      <td>department veteran affair manual telling veter...</td>\n",
              "      <td>depart veteran affair manual tell veteran stuf...</td>\n",
              "    </tr>\n",
              "  </tbody>\n",
              "</table>\n",
              "<p>10279 rows × 6 columns</p>\n",
              "</div>"
            ],
            "text/plain": [
              "                                               statement  ...                                            stemmed\n",
              "0      “Malcolm X’s daughter found dead in NYC days a...  ...  malcolm x daughter found dead nyc day expos ny...\n",
              "1      Vaccinated people under 60 in England “are dyi...  ...  vaccin peopl england die twice rate unvaccin p...\n",
              "2      “Only Reuters” reported that the doctor who de...  ...  reuter report doctor detect omicron variant sa...\n",
              "3      “COVID death rates 4 to 1, vaccinated to unvax...  ...                     covid death rate vaccin unvaxx\n",
              "4      We know in November 2021 that “none of your pr...  ...  know novemb none previous vaccin protect emerg...\n",
              "...                                                  ...  ...                                                ...\n",
              "10235  There are a larger number of shark attacks in ...  ...  larger number shark attack florida case voter ...\n",
              "10236  Democrats have now become the party of the [At...  ...      democrat becom parti atlanta metro area black\n",
              "10237  Says an alternative to Social Security that op...  ...  say altern social secur oper galveston counti ...\n",
              "10238  On lifting the U.S. Cuban embargo and allowing...  ...             lift u cuban embargo allow travel cuba\n",
              "10239  The Department of Veterans Affairs has a manua...  ...  depart veteran affair manual tell veteran stuf...\n",
              "\n",
              "[10279 rows x 6 columns]"
            ]
          },
          "metadata": {},
          "execution_count": 59
        }
      ]
    },
    {
      "cell_type": "markdown",
      "metadata": {
        "id": "xKYokAw9yh7d"
      },
      "source": [
        "## **Final Dataset**"
      ]
    },
    {
      "cell_type": "code",
      "metadata": {
        "colab": {
          "base_uri": "https://localhost:8080/",
          "height": 424
        },
        "id": "BvMsQM6Nq9Vz",
        "outputId": "f3c8e534-09b8-4a85-f48d-5177a101047e"
      },
      "source": [
        "df_final=df[['stemmed','target']]\n",
        "df_final=df_final.rename(columns={'stemmed': \"PreProcessed Statement\"})\n",
        "df_final"
      ],
      "execution_count": null,
      "outputs": [
        {
          "output_type": "execute_result",
          "data": {
            "text/html": [
              "<div>\n",
              "<style scoped>\n",
              "    .dataframe tbody tr th:only-of-type {\n",
              "        vertical-align: middle;\n",
              "    }\n",
              "\n",
              "    .dataframe tbody tr th {\n",
              "        vertical-align: top;\n",
              "    }\n",
              "\n",
              "    .dataframe thead th {\n",
              "        text-align: right;\n",
              "    }\n",
              "</style>\n",
              "<table border=\"1\" class=\"dataframe\">\n",
              "  <thead>\n",
              "    <tr style=\"text-align: right;\">\n",
              "      <th></th>\n",
              "      <th>PreProcessed Statement</th>\n",
              "      <th>target</th>\n",
              "    </tr>\n",
              "  </thead>\n",
              "  <tbody>\n",
              "    <tr>\n",
              "      <th>0</th>\n",
              "      <td>malcolm x daughter found dead nyc day expos ny...</td>\n",
              "      <td>barely-true</td>\n",
              "    </tr>\n",
              "    <tr>\n",
              "      <th>1</th>\n",
              "      <td>vaccin peopl england die twice rate unvaccin p...</td>\n",
              "      <td>barely-true</td>\n",
              "    </tr>\n",
              "    <tr>\n",
              "      <th>2</th>\n",
              "      <td>reuter report doctor detect omicron variant sa...</td>\n",
              "      <td>false</td>\n",
              "    </tr>\n",
              "    <tr>\n",
              "      <th>3</th>\n",
              "      <td>covid death rate vaccin unvaxx</td>\n",
              "      <td>false</td>\n",
              "    </tr>\n",
              "    <tr>\n",
              "      <th>4</th>\n",
              "      <td>know novemb none previous vaccin protect emerg...</td>\n",
              "      <td>false</td>\n",
              "    </tr>\n",
              "    <tr>\n",
              "      <th>...</th>\n",
              "      <td>...</td>\n",
              "      <td>...</td>\n",
              "    </tr>\n",
              "    <tr>\n",
              "      <th>10235</th>\n",
              "      <td>larger number shark attack florida case voter ...</td>\n",
              "      <td>mostly-true</td>\n",
              "    </tr>\n",
              "    <tr>\n",
              "      <th>10236</th>\n",
              "      <td>democrat becom parti atlanta metro area black</td>\n",
              "      <td>mostly-true</td>\n",
              "    </tr>\n",
              "    <tr>\n",
              "      <th>10237</th>\n",
              "      <td>say altern social secur oper galveston counti ...</td>\n",
              "      <td>half-true</td>\n",
              "    </tr>\n",
              "    <tr>\n",
              "      <th>10238</th>\n",
              "      <td>lift u cuban embargo allow travel cuba</td>\n",
              "      <td>false</td>\n",
              "    </tr>\n",
              "    <tr>\n",
              "      <th>10239</th>\n",
              "      <td>depart veteran affair manual tell veteran stuf...</td>\n",
              "      <td>pants-fire</td>\n",
              "    </tr>\n",
              "  </tbody>\n",
              "</table>\n",
              "<p>10279 rows × 2 columns</p>\n",
              "</div>"
            ],
            "text/plain": [
              "                                  PreProcessed Statement       target\n",
              "0      malcolm x daughter found dead nyc day expos ny...  barely-true\n",
              "1      vaccin peopl england die twice rate unvaccin p...  barely-true\n",
              "2      reuter report doctor detect omicron variant sa...        false\n",
              "3                         covid death rate vaccin unvaxx        false\n",
              "4      know novemb none previous vaccin protect emerg...        false\n",
              "...                                                  ...          ...\n",
              "10235  larger number shark attack florida case voter ...  mostly-true\n",
              "10236      democrat becom parti atlanta metro area black  mostly-true\n",
              "10237  say altern social secur oper galveston counti ...    half-true\n",
              "10238             lift u cuban embargo allow travel cuba        false\n",
              "10239  depart veteran affair manual tell veteran stuf...   pants-fire\n",
              "\n",
              "[10279 rows x 2 columns]"
            ]
          },
          "metadata": {},
          "execution_count": 60
        }
      ]
    },
    {
      "cell_type": "code",
      "metadata": {
        "colab": {
          "base_uri": "https://localhost:8080/"
        },
        "id": "ADm_xEpTrEyd",
        "outputId": "0fd1f9b4-8202-48a1-ebbb-18bef1947129"
      },
      "source": [
        "from collections import Counter\n",
        "nltk.download('punkt')\n",
        "nltk.download('averaged_perceptron_tagger')"
      ],
      "execution_count": null,
      "outputs": [
        {
          "output_type": "stream",
          "name": "stdout",
          "text": [
            "[nltk_data] Downloading package punkt to /root/nltk_data...\n",
            "[nltk_data]   Unzipping tokenizers/punkt.zip.\n",
            "[nltk_data] Downloading package averaged_perceptron_tagger to\n",
            "[nltk_data]     /root/nltk_data...\n",
            "[nltk_data]   Unzipping taggers/averaged_perceptron_tagger.zip.\n"
          ]
        },
        {
          "output_type": "execute_result",
          "data": {
            "text/plain": [
              "True"
            ]
          },
          "metadata": {},
          "execution_count": 61
        }
      ]
    },
    {
      "cell_type": "markdown",
      "metadata": {
        "id": "maXetEgm2cjL"
      },
      "source": [
        "## **Generating Microfactors**"
      ]
    },
    {
      "cell_type": "markdown",
      "metadata": {
        "id": "71ReGC-UzhW-"
      },
      "source": [
        "### **Microfactor1: POS Tags**\n",
        "\n",
        "Parts-of-Speech (PoS) tags: are the labels or annotations that identify the word’s function in a given language. In general, words can be categorized into several parts of speech categories"
      ]
    },
    {
      "cell_type": "code",
      "metadata": {
        "id": "z1ju4XP5rHIy"
      },
      "source": [
        "def get_POS_tags(statement):\n",
        "  tokens = nltk.word_tokenize(statement)\n",
        "  text = nltk.Text(tokens)\n",
        "  tags = nltk.pos_tag(text)\n",
        "  counts = Counter(tag for word,tag in tags)\n",
        "  noun_counts=counts['NN']+counts['NNS']+counts['NNP']+counts['NNPS']\n",
        "  verb_counts=counts['VB']+counts['VBD']+counts['VBG']+counts['VBN']+counts['VBP']+counts['VBG']\n",
        "  adverbverb_counts=counts['VB']+counts['VBD']+counts['VBG']+counts['VBN']+counts['VBP']+counts['VBG']\n",
        "  adjective_counts=counts['JJ']+counts['JJR']+counts['JJS']\n",
        "  possessive_ending_counts=counts['POS']\n",
        "  return noun_counts,verb_counts,adverbverb_counts,adjective_counts,possessive_ending_counts"
      ],
      "execution_count": null,
      "outputs": []
    },
    {
      "cell_type": "code",
      "metadata": {
        "id": "iMxCI2BorJ2E"
      },
      "source": [
        "df_final['noun_counts']=df_final['PreProcessed Statement'].apply(lambda x:get_POS_tags(x)[0])"
      ],
      "execution_count": null,
      "outputs": []
    },
    {
      "cell_type": "code",
      "metadata": {
        "id": "TFZ2p72ArMpV"
      },
      "source": [
        "df_final['verb_counts']=df_final['PreProcessed Statement'].apply(lambda x:get_POS_tags(x)[1])"
      ],
      "execution_count": null,
      "outputs": []
    },
    {
      "cell_type": "code",
      "metadata": {
        "id": "RmjqSBheyygf"
      },
      "source": [
        "df_final['adverb_counts']=df_final['PreProcessed Statement'].apply(lambda x:get_POS_tags(x)[2])"
      ],
      "execution_count": null,
      "outputs": []
    },
    {
      "cell_type": "code",
      "metadata": {
        "id": "QHtlhnP_zlT0"
      },
      "source": [
        "df_final['adjective_counts']=df_final['PreProcessed Statement'].apply(lambda x:get_POS_tags(x)[3])"
      ],
      "execution_count": null,
      "outputs": []
    },
    {
      "cell_type": "code",
      "metadata": {
        "id": "Ggqav--VzpX7"
      },
      "source": [
        "df_final['possessive_ending_counts']=df_final['PreProcessed Statement'].apply(lambda x:get_POS_tags(x)[4])"
      ],
      "execution_count": null,
      "outputs": []
    },
    {
      "cell_type": "code",
      "metadata": {
        "colab": {
          "base_uri": "https://localhost:8080/",
          "height": 615
        },
        "id": "9qSlKN7UvgY7",
        "outputId": "5c190995-a066-4e38-b748-aa78ca81fcc4"
      },
      "source": [
        "df_final"
      ],
      "execution_count": null,
      "outputs": [
        {
          "output_type": "execute_result",
          "data": {
            "text/html": [
              "<div>\n",
              "<style scoped>\n",
              "    .dataframe tbody tr th:only-of-type {\n",
              "        vertical-align: middle;\n",
              "    }\n",
              "\n",
              "    .dataframe tbody tr th {\n",
              "        vertical-align: top;\n",
              "    }\n",
              "\n",
              "    .dataframe thead th {\n",
              "        text-align: right;\n",
              "    }\n",
              "</style>\n",
              "<table border=\"1\" class=\"dataframe\">\n",
              "  <thead>\n",
              "    <tr style=\"text-align: right;\">\n",
              "      <th></th>\n",
              "      <th>PreProcessed Statement</th>\n",
              "      <th>target</th>\n",
              "      <th>noun_counts</th>\n",
              "      <th>verb_counts</th>\n",
              "      <th>adverb_counts</th>\n",
              "      <th>adjective_counts</th>\n",
              "      <th>possessive_ending_counts</th>\n",
              "    </tr>\n",
              "  </thead>\n",
              "  <tbody>\n",
              "    <tr>\n",
              "      <th>0</th>\n",
              "      <td>malcolm x daughter found dead nyc day expos ny...</td>\n",
              "      <td>barely-true</td>\n",
              "      <td>7</td>\n",
              "      <td>3</td>\n",
              "      <td>3</td>\n",
              "      <td>3</td>\n",
              "      <td>0</td>\n",
              "    </tr>\n",
              "    <tr>\n",
              "      <th>1</th>\n",
              "      <td>vaccin peopl england die twice rate unvaccin p...</td>\n",
              "      <td>barely-true</td>\n",
              "      <td>8</td>\n",
              "      <td>3</td>\n",
              "      <td>3</td>\n",
              "      <td>2</td>\n",
              "      <td>0</td>\n",
              "    </tr>\n",
              "    <tr>\n",
              "      <th>2</th>\n",
              "      <td>reuter report doctor detect omicron variant sa...</td>\n",
              "      <td>false</td>\n",
              "      <td>6</td>\n",
              "      <td>1</td>\n",
              "      <td>1</td>\n",
              "      <td>2</td>\n",
              "      <td>0</td>\n",
              "    </tr>\n",
              "    <tr>\n",
              "      <th>3</th>\n",
              "      <td>covid death rate vaccin unvaxx</td>\n",
              "      <td>false</td>\n",
              "      <td>3</td>\n",
              "      <td>1</td>\n",
              "      <td>1</td>\n",
              "      <td>1</td>\n",
              "      <td>0</td>\n",
              "    </tr>\n",
              "    <tr>\n",
              "      <th>4</th>\n",
              "      <td>know novemb none previous vaccin protect emerg...</td>\n",
              "      <td>false</td>\n",
              "      <td>3</td>\n",
              "      <td>1</td>\n",
              "      <td>1</td>\n",
              "      <td>3</td>\n",
              "      <td>0</td>\n",
              "    </tr>\n",
              "    <tr>\n",
              "      <th>...</th>\n",
              "      <td>...</td>\n",
              "      <td>...</td>\n",
              "      <td>...</td>\n",
              "      <td>...</td>\n",
              "      <td>...</td>\n",
              "      <td>...</td>\n",
              "      <td>...</td>\n",
              "    </tr>\n",
              "    <tr>\n",
              "      <th>10235</th>\n",
              "      <td>larger number shark attack florida case voter ...</td>\n",
              "      <td>mostly-true</td>\n",
              "      <td>7</td>\n",
              "      <td>0</td>\n",
              "      <td>0</td>\n",
              "      <td>1</td>\n",
              "      <td>0</td>\n",
              "    </tr>\n",
              "    <tr>\n",
              "      <th>10236</th>\n",
              "      <td>democrat becom parti atlanta metro area black</td>\n",
              "      <td>mostly-true</td>\n",
              "      <td>5</td>\n",
              "      <td>0</td>\n",
              "      <td>0</td>\n",
              "      <td>2</td>\n",
              "      <td>0</td>\n",
              "    </tr>\n",
              "    <tr>\n",
              "      <th>10237</th>\n",
              "      <td>say altern social secur oper galveston counti ...</td>\n",
              "      <td>half-true</td>\n",
              "      <td>7</td>\n",
              "      <td>2</td>\n",
              "      <td>2</td>\n",
              "      <td>6</td>\n",
              "      <td>0</td>\n",
              "    </tr>\n",
              "    <tr>\n",
              "      <th>10238</th>\n",
              "      <td>lift u cuban embargo allow travel cuba</td>\n",
              "      <td>false</td>\n",
              "      <td>5</td>\n",
              "      <td>1</td>\n",
              "      <td>1</td>\n",
              "      <td>1</td>\n",
              "      <td>0</td>\n",
              "    </tr>\n",
              "    <tr>\n",
              "      <th>10239</th>\n",
              "      <td>depart veteran affair manual tell veteran stuf...</td>\n",
              "      <td>pants-fire</td>\n",
              "      <td>10</td>\n",
              "      <td>2</td>\n",
              "      <td>2</td>\n",
              "      <td>2</td>\n",
              "      <td>0</td>\n",
              "    </tr>\n",
              "  </tbody>\n",
              "</table>\n",
              "<p>10279 rows × 7 columns</p>\n",
              "</div>"
            ],
            "text/plain": [
              "                                  PreProcessed Statement  ... possessive_ending_counts\n",
              "0      malcolm x daughter found dead nyc day expos ny...  ...                        0\n",
              "1      vaccin peopl england die twice rate unvaccin p...  ...                        0\n",
              "2      reuter report doctor detect omicron variant sa...  ...                        0\n",
              "3                         covid death rate vaccin unvaxx  ...                        0\n",
              "4      know novemb none previous vaccin protect emerg...  ...                        0\n",
              "...                                                  ...  ...                      ...\n",
              "10235  larger number shark attack florida case voter ...  ...                        0\n",
              "10236      democrat becom parti atlanta metro area black  ...                        0\n",
              "10237  say altern social secur oper galveston counti ...  ...                        0\n",
              "10238             lift u cuban embargo allow travel cuba  ...                        0\n",
              "10239  depart veteran affair manual tell veteran stuf...  ...                        0\n",
              "\n",
              "[10279 rows x 7 columns]"
            ]
          },
          "metadata": {},
          "execution_count": 68
        }
      ]
    },
    {
      "cell_type": "code",
      "metadata": {
        "colab": {
          "base_uri": "https://localhost:8080/"
        },
        "id": "TfanAWJexSJ0",
        "outputId": "fd20f2f6-be68-4a9a-9f39-a0f2ea74d2df"
      },
      "source": [
        "from nltk.sentiment.vader import SentimentIntensityAnalyzer\n",
        "nltk.download('vader_lexicon')"
      ],
      "execution_count": null,
      "outputs": [
        {
          "output_type": "stream",
          "name": "stdout",
          "text": [
            "[nltk_data] Downloading package vader_lexicon to /root/nltk_data...\n"
          ]
        },
        {
          "output_type": "stream",
          "name": "stderr",
          "text": [
            "/usr/local/lib/python3.7/dist-packages/nltk/twitter/__init__.py:20: UserWarning: The twython library has not been installed. Some functionality from the twitter package will not be available.\n",
            "  warnings.warn(\"The twython library has not been installed. \"\n"
          ]
        },
        {
          "output_type": "execute_result",
          "data": {
            "text/plain": [
              "True"
            ]
          },
          "metadata": {},
          "execution_count": 69
        }
      ]
    },
    {
      "cell_type": "markdown",
      "metadata": {
        "id": "KJ1Xcw2C1ZN4"
      },
      "source": [
        "### **Microfactor 2: Sentiment Polarity**"
      ]
    },
    {
      "cell_type": "code",
      "metadata": {
        "id": "yL05VEDNw9k7"
      },
      "source": [
        "analyzer = SentimentIntensityAnalyzer()\n",
        "df_final['compound'] = [analyzer.polarity_scores(x)['compound'] for x in df_final['PreProcessed Statement']]\n",
        "df_final['neg'] = [analyzer.polarity_scores(x)['neg'] for x in df_final['PreProcessed Statement']]\n",
        "df_final['neu'] = [analyzer.polarity_scores(x)['neu'] for x in df_final['PreProcessed Statement']]\n",
        "df_final['pos'] = [analyzer.polarity_scores(x)['pos'] for x in df_final['PreProcessed Statement']]"
      ],
      "execution_count": null,
      "outputs": []
    },
    {
      "cell_type": "code",
      "metadata": {
        "colab": {
          "base_uri": "https://localhost:8080/",
          "height": 930
        },
        "id": "OPBceNOyrQdk",
        "outputId": "eea97fe1-e7b3-43bc-aa02-e33537ab2369"
      },
      "source": [
        "df_final"
      ],
      "execution_count": null,
      "outputs": [
        {
          "output_type": "execute_result",
          "data": {
            "text/html": [
              "<div>\n",
              "<style scoped>\n",
              "    .dataframe tbody tr th:only-of-type {\n",
              "        vertical-align: middle;\n",
              "    }\n",
              "\n",
              "    .dataframe tbody tr th {\n",
              "        vertical-align: top;\n",
              "    }\n",
              "\n",
              "    .dataframe thead th {\n",
              "        text-align: right;\n",
              "    }\n",
              "</style>\n",
              "<table border=\"1\" class=\"dataframe\">\n",
              "  <thead>\n",
              "    <tr style=\"text-align: right;\">\n",
              "      <th></th>\n",
              "      <th>PreProcessed Statement</th>\n",
              "      <th>target</th>\n",
              "      <th>noun_counts</th>\n",
              "      <th>verb_counts</th>\n",
              "      <th>adverb_counts</th>\n",
              "      <th>adjective_counts</th>\n",
              "      <th>possessive_ending_counts</th>\n",
              "      <th>compound</th>\n",
              "      <th>neg</th>\n",
              "      <th>neu</th>\n",
              "      <th>pos</th>\n",
              "    </tr>\n",
              "  </thead>\n",
              "  <tbody>\n",
              "    <tr>\n",
              "      <th>0</th>\n",
              "      <td>malcolm x daughter found dead nyc day expos ny...</td>\n",
              "      <td>barely-true</td>\n",
              "      <td>7</td>\n",
              "      <td>3</td>\n",
              "      <td>3</td>\n",
              "      <td>3</td>\n",
              "      <td>0</td>\n",
              "      <td>-0.6486</td>\n",
              "      <td>0.281</td>\n",
              "      <td>0.719</td>\n",
              "      <td>0.000</td>\n",
              "    </tr>\n",
              "    <tr>\n",
              "      <th>1</th>\n",
              "      <td>vaccin peopl england die twice rate unvaccin p...</td>\n",
              "      <td>barely-true</td>\n",
              "      <td>8</td>\n",
              "      <td>3</td>\n",
              "      <td>3</td>\n",
              "      <td>2</td>\n",
              "      <td>0</td>\n",
              "      <td>-0.5994</td>\n",
              "      <td>0.231</td>\n",
              "      <td>0.769</td>\n",
              "      <td>0.000</td>\n",
              "    </tr>\n",
              "    <tr>\n",
              "      <th>2</th>\n",
              "      <td>reuter report doctor detect omicron variant sa...</td>\n",
              "      <td>false</td>\n",
              "      <td>6</td>\n",
              "      <td>1</td>\n",
              "      <td>1</td>\n",
              "      <td>2</td>\n",
              "      <td>0</td>\n",
              "      <td>0.0000</td>\n",
              "      <td>0.000</td>\n",
              "      <td>1.000</td>\n",
              "      <td>0.000</td>\n",
              "    </tr>\n",
              "    <tr>\n",
              "      <th>3</th>\n",
              "      <td>covid death rate vaccin unvaxx</td>\n",
              "      <td>false</td>\n",
              "      <td>3</td>\n",
              "      <td>1</td>\n",
              "      <td>1</td>\n",
              "      <td>1</td>\n",
              "      <td>0</td>\n",
              "      <td>-0.5994</td>\n",
              "      <td>0.494</td>\n",
              "      <td>0.506</td>\n",
              "      <td>0.000</td>\n",
              "    </tr>\n",
              "    <tr>\n",
              "      <th>4</th>\n",
              "      <td>know novemb none previous vaccin protect emerg...</td>\n",
              "      <td>false</td>\n",
              "      <td>3</td>\n",
              "      <td>1</td>\n",
              "      <td>1</td>\n",
              "      <td>3</td>\n",
              "      <td>0</td>\n",
              "      <td>-0.2924</td>\n",
              "      <td>0.214</td>\n",
              "      <td>0.786</td>\n",
              "      <td>0.000</td>\n",
              "    </tr>\n",
              "    <tr>\n",
              "      <th>...</th>\n",
              "      <td>...</td>\n",
              "      <td>...</td>\n",
              "      <td>...</td>\n",
              "      <td>...</td>\n",
              "      <td>...</td>\n",
              "      <td>...</td>\n",
              "      <td>...</td>\n",
              "      <td>...</td>\n",
              "      <td>...</td>\n",
              "      <td>...</td>\n",
              "      <td>...</td>\n",
              "    </tr>\n",
              "    <tr>\n",
              "      <th>10235</th>\n",
              "      <td>larger number shark attack florida case voter ...</td>\n",
              "      <td>mostly-true</td>\n",
              "      <td>7</td>\n",
              "      <td>0</td>\n",
              "      <td>0</td>\n",
              "      <td>1</td>\n",
              "      <td>0</td>\n",
              "      <td>-0.7650</td>\n",
              "      <td>0.523</td>\n",
              "      <td>0.379</td>\n",
              "      <td>0.098</td>\n",
              "    </tr>\n",
              "    <tr>\n",
              "      <th>10236</th>\n",
              "      <td>democrat becom parti atlanta metro area black</td>\n",
              "      <td>mostly-true</td>\n",
              "      <td>5</td>\n",
              "      <td>0</td>\n",
              "      <td>0</td>\n",
              "      <td>2</td>\n",
              "      <td>0</td>\n",
              "      <td>0.0000</td>\n",
              "      <td>0.000</td>\n",
              "      <td>1.000</td>\n",
              "      <td>0.000</td>\n",
              "    </tr>\n",
              "    <tr>\n",
              "      <th>10237</th>\n",
              "      <td>say altern social secur oper galveston counti ...</td>\n",
              "      <td>half-true</td>\n",
              "      <td>7</td>\n",
              "      <td>2</td>\n",
              "      <td>2</td>\n",
              "      <td>6</td>\n",
              "      <td>0</td>\n",
              "      <td>0.0000</td>\n",
              "      <td>0.000</td>\n",
              "      <td>1.000</td>\n",
              "      <td>0.000</td>\n",
              "    </tr>\n",
              "    <tr>\n",
              "      <th>10238</th>\n",
              "      <td>lift u cuban embargo allow travel cuba</td>\n",
              "      <td>false</td>\n",
              "      <td>5</td>\n",
              "      <td>1</td>\n",
              "      <td>1</td>\n",
              "      <td>1</td>\n",
              "      <td>0</td>\n",
              "      <td>0.2263</td>\n",
              "      <td>0.000</td>\n",
              "      <td>0.725</td>\n",
              "      <td>0.275</td>\n",
              "    </tr>\n",
              "    <tr>\n",
              "      <th>10239</th>\n",
              "      <td>depart veteran affair manual tell veteran stuf...</td>\n",
              "      <td>pants-fire</td>\n",
              "      <td>10</td>\n",
              "      <td>2</td>\n",
              "      <td>2</td>\n",
              "      <td>2</td>\n",
              "      <td>0</td>\n",
              "      <td>0.5719</td>\n",
              "      <td>0.000</td>\n",
              "      <td>0.734</td>\n",
              "      <td>0.266</td>\n",
              "    </tr>\n",
              "  </tbody>\n",
              "</table>\n",
              "<p>10279 rows × 11 columns</p>\n",
              "</div>"
            ],
            "text/plain": [
              "                                  PreProcessed Statement  ...    pos\n",
              "0      malcolm x daughter found dead nyc day expos ny...  ...  0.000\n",
              "1      vaccin peopl england die twice rate unvaccin p...  ...  0.000\n",
              "2      reuter report doctor detect omicron variant sa...  ...  0.000\n",
              "3                         covid death rate vaccin unvaxx  ...  0.000\n",
              "4      know novemb none previous vaccin protect emerg...  ...  0.000\n",
              "...                                                  ...  ...    ...\n",
              "10235  larger number shark attack florida case voter ...  ...  0.098\n",
              "10236      democrat becom parti atlanta metro area black  ...  0.000\n",
              "10237  say altern social secur oper galveston counti ...  ...  0.000\n",
              "10238             lift u cuban embargo allow travel cuba  ...  0.275\n",
              "10239  depart veteran affair manual tell veteran stuf...  ...  0.266\n",
              "\n",
              "[10279 rows x 11 columns]"
            ]
          },
          "metadata": {},
          "execution_count": 71
        }
      ]
    },
    {
      "cell_type": "code",
      "metadata": {
        "colab": {
          "base_uri": "https://localhost:8080/"
        },
        "id": "yw9SuwD68Rcu",
        "outputId": "ebde1fa1-e7d1-49b2-da0a-3eb2bf665434"
      },
      "source": [
        "df_final.target.value_counts()"
      ],
      "execution_count": null,
      "outputs": [
        {
          "output_type": "execute_result",
          "data": {
            "text/plain": [
              "half-true      2115\n",
              "false          2003\n",
              "mostly-true    1964\n",
              "true           1674\n",
              "barely-true    1663\n",
              "pants-fire      840\n",
              "False            12\n",
              "True              8\n",
              "Name: target, dtype: int64"
            ]
          },
          "metadata": {},
          "execution_count": 72
        }
      ]
    },
    {
      "cell_type": "markdown",
      "metadata": {
        "id": "kuo46kB82P6L"
      },
      "source": [
        "### **Classifying the target from politifact labels to 1-6 true-o-meter**"
      ]
    },
    {
      "cell_type": "code",
      "metadata": {
        "id": "t7Pku_OY2JL5"
      },
      "source": [
        ""
      ],
      "execution_count": null,
      "outputs": []
    },
    {
      "cell_type": "code",
      "metadata": {
        "id": "aqUFsmNj8hLU"
      },
      "source": [
        "def get_new_target(target):\n",
        "  if target=='True' or target==True or target=='mostly-true' or target=='half-true' or target=='true':\n",
        "    return 1\n",
        "  else:\n",
        "    return 0"
      ],
      "execution_count": null,
      "outputs": []
    },
    {
      "cell_type": "markdown",
      "metadata": {
        "id": "hZX0TP7L107X"
      },
      "source": [
        ""
      ]
    },
    {
      "cell_type": "code",
      "metadata": {
        "id": "vCKnUdsf9HOh"
      },
      "source": [
        "def get_target(target):\n",
        "  if target=='True' or target==True or target=='true':\n",
        "    return 5\n",
        "  elif target=='mostly-true':\n",
        "    return 4\n",
        "  elif target=='half-true':\n",
        "    return 3\n",
        "  elif target=='barely-true':\n",
        "    return 2\n",
        "  elif target=='False' or target=='false' or targets==False:\n",
        "    return 1\n",
        "  else:\n",
        "    return 0\n",
        "    "
      ],
      "execution_count": null,
      "outputs": []
    },
    {
      "cell_type": "code",
      "metadata": {
        "id": "cxvFLLPb8Yi1"
      },
      "source": [
        "df_final['new_target']=df_final['target'].apply(lambda x:get_new_target(x))"
      ],
      "execution_count": null,
      "outputs": []
    },
    {
      "cell_type": "code",
      "metadata": {
        "id": "zZkjEO3O9D4V"
      },
      "source": [
        "df_final['target']=df_final['target'].apply(lambda x:get_target(x))"
      ],
      "execution_count": null,
      "outputs": []
    },
    {
      "cell_type": "markdown",
      "metadata": {
        "id": "kreghQC216U4"
      },
      "source": [
        "### **Microfactor 3: TFIDF**"
      ]
    },
    {
      "cell_type": "code",
      "metadata": {
        "id": "DLUqsCKc9xYp"
      },
      "source": [
        "import scipy"
      ],
      "execution_count": null,
      "outputs": []
    },
    {
      "cell_type": "code",
      "metadata": {
        "colab": {
          "base_uri": "https://localhost:8080/"
        },
        "id": "2fDotUvEKWYF",
        "outputId": "26ef5b96-8b61-4876-f838-951a0514fe77"
      },
      "source": [
        "tfidf_vect.fit_transform(df_final['PreProcessed Statement'])"
      ],
      "execution_count": null,
      "outputs": [
        {
          "output_type": "execute_result",
          "data": {
            "text/plain": [
              "<10279x300 sparse matrix of type '<class 'numpy.float64'>'\n",
              "\twith 54598 stored elements in Compressed Sparse Row format>"
            ]
          },
          "metadata": {},
          "execution_count": 80
        }
      ]
    },
    {
      "cell_type": "markdown",
      "metadata": {
        "id": "MJwxE3k2KWLg"
      },
      "source": [
        ""
      ]
    },
    {
      "cell_type": "code",
      "metadata": {
        "colab": {
          "base_uri": "https://localhost:8080/"
        },
        "id": "3616ewNY4t09",
        "outputId": "a0800f15-7821-4765-c9fb-fd12d0e827f8"
      },
      "source": [
        "X = scipy.sparse.hstack((tfidf_vect.fit_transform(df_final['PreProcessed Statement']),df_final[['noun_counts', 'verb_counts',\n",
        "       'adverb_counts', 'adjective_counts', 'possessive_ending_counts',\n",
        "       'compound', 'neg', 'neu', 'pos']].values),format='csr')\n",
        "X_columns=tfidf_vect.get_feature_names()+df_final[['noun_counts', 'verb_counts',\n",
        "       'adverb_counts', 'adjective_counts', 'possessive_ending_counts',\n",
        "       'compound', 'neg', 'neu', 'pos']].columns.tolist()\n"
      ],
      "execution_count": null,
      "outputs": [
        {
          "output_type": "stream",
          "name": "stderr",
          "text": [
            "/usr/local/lib/python3.7/dist-packages/sklearn/utils/deprecation.py:87: FutureWarning: Function get_feature_names is deprecated; get_feature_names is deprecated in 1.0 and will be removed in 1.2. Please use get_feature_names_out instead.\n",
            "  warnings.warn(msg, category=FutureWarning)\n"
          ]
        }
      ]
    },
    {
      "cell_type": "markdown",
      "metadata": {
        "id": "u0tRr_nW2kPJ"
      },
      "source": [
        "### **Using pickle to dump tf_idf vectorizer**"
      ]
    },
    {
      "cell_type": "code",
      "metadata": {
        "id": "cWNLQmdUXgSE"
      },
      "source": [
        "import pickle"
      ],
      "execution_count": null,
      "outputs": []
    },
    {
      "cell_type": "code",
      "metadata": {
        "id": "bVzgTvlVJ3xO"
      },
      "source": [
        "pickle.dump(tfidf_vect, open('tfidf', 'wb'))"
      ],
      "execution_count": null,
      "outputs": []
    },
    {
      "cell_type": "markdown",
      "metadata": {
        "id": "DYei7V902rIy"
      },
      "source": [
        "## **Model Training** with 6 classes(of fakeness)"
      ]
    },
    {
      "cell_type": "markdown",
      "metadata": {
        "id": "ozL9onhQ22tt"
      },
      "source": [
        "Training 9 different models (\"Nearest Neighbors\", \"Linear SVM\", \"RBF SVM\",\n",
        "         \"Decision Tree\", \"Random Forest\", \"Neural Net\", \"AdaBoost\",\n",
        "         \"Naive Bayes\", \"QDA\") to predict fakeness of statement between 1-6  using all the microfactors above after data amalgamation"
      ]
    },
    {
      "cell_type": "code",
      "metadata": {
        "id": "ixvdA7ji5sg1"
      },
      "source": [
        "from sklearn.model_selection import train_test_split"
      ],
      "execution_count": null,
      "outputs": []
    },
    {
      "cell_type": "code",
      "metadata": {
        "id": "eHskU2rp6d77"
      },
      "source": [
        "import numpy as np\n",
        "import matplotlib.pyplot as plt\n",
        "from matplotlib.colors import ListedColormap\n",
        "from sklearn.model_selection import train_test_split\n",
        "from sklearn.preprocessing import StandardScaler\n",
        "from sklearn.datasets import make_moons, make_circles, make_classification\n",
        "from sklearn.neural_network import MLPClassifier\n",
        "from sklearn.neighbors import KNeighborsClassifier\n",
        "from sklearn.svm import SVC\n",
        "from sklearn.gaussian_process import GaussianProcessClassifier\n",
        "from sklearn.gaussian_process.kernels import RBF\n",
        "from sklearn.tree import DecisionTreeClassifier\n",
        "from sklearn.ensemble import RandomForestClassifier, AdaBoostClassifier\n",
        "from sklearn.naive_bayes import GaussianNB\n",
        "from sklearn.discriminant_analysis import QuadraticDiscriminantAnalysis\n",
        "from sklearn.linear_model import LinearRegression\n",
        "\n",
        "from sklearn.metrics import accuracy_score, confusion_matrix, classification_report, fbeta_score\n",
        "from time import time\n",
        "import seaborn as sns"
      ],
      "execution_count": null,
      "outputs": []
    },
    {
      "cell_type": "code",
      "metadata": {
        "colab": {
          "base_uri": "https://localhost:8080/",
          "height": 1000
        },
        "id": "nGABzgRr6Kyt",
        "outputId": "30098440-2c11-4a90-d3d1-e411bff08487"
      },
      "source": [
        "trainX, testX = train_test_split(X , test_size=0.30, random_state=1)\n",
        "trainY, testY = train_test_split(df_final['target'], test_size=0.30, random_state=1)\n",
        "trainX\n",
        "\n",
        "names = [\"Nearest Neighbors\", \"Linear SVM\", \"RBF SVM\",\n",
        "         \"Decision Tree\", \"Random Forest\", \"Neural Net\", \"AdaBoost\",\n",
        "         \"Naive Bayes\", \"QDA\",\n",
        "        ]\n",
        "\n",
        "classifiers = [\n",
        "    KNeighborsClassifier(2),\n",
        "    SVC(kernel=\"linear\", C=0.025),\n",
        "    SVC(gamma=2, C=1),\n",
        "    DecisionTreeClassifier(max_depth=5),\n",
        "    RandomForestClassifier(max_depth=5, n_estimators=10, max_features=1),\n",
        "    MLPClassifier(alpha=1, max_iter=1000),\n",
        "    AdaBoostClassifier(),\n",
        "    GaussianNB(),\n",
        "    QuadraticDiscriminantAnalysis(),\n",
        "\n",
        "    ]\n",
        "\n",
        "max_score = 0.0\n",
        "max_class = ''\n",
        "# iterate over classifiers\n",
        "score_compare={}\n",
        "index=0\n",
        "accuracy={}\n",
        "specificity={}\n",
        "sensitivity={}\n",
        "\n",
        "for name, clf in zip(names, classifiers):\n",
        "    # print(accuracy)\n",
        "    start_time = time()\n",
        "    clf.fit(trainX.toarray(), trainY)\n",
        "    score = 100.0 * clf.score(testX.toarray(), testY)\n",
        "    y_pred=clf.predict(testX.toarray())\n",
        "    print('Classifier = %s, Score (test, accuracy) = %.2f,' %(name, score), 'Training time = %.2f seconds' % (time() - start_time))\n",
        "    \n",
        "    pickle.dump(clf, open(name, 'wb'))\n",
        "\n",
        "    accuracy[names[index]]=accuracy_score(testY,y_pred)*100\n",
        "    cm=confusion_matrix(testY, y_pred)\n",
        "\n",
        "    print(cm)\n",
        "    sensitivity[names[index]] = (cm[0,0]/(cm[0,0]+cm[0,1]))*100\n",
        "    specificity[names[index]] = (cm[1,1]/(cm[1,0]+cm[1,1]))*100\n",
        "    index+=1\n",
        "    if score > max_score:\n",
        "        clf_best = clf\n",
        "        max_score = score\n",
        "        max_class = name\n",
        "\n",
        "    print(80*'-*')\n",
        "\n",
        "print(80*'-' )\n",
        "print('Best --> Classifier = %s, Score (test, accuracy) = %.2f' %(max_class, max_score))\n",
        "print(accuracy)\n",
        "accuracy=pd.DataFrame.from_dict(accuracy,orient='index').reset_index()\n",
        "sensitivity=pd.DataFrame.from_dict(sensitivity,orient='index').reset_index()\n",
        "specificity=pd.DataFrame.from_dict(specificity,orient='index').reset_index()\n",
        "# print(accuracy)\n",
        "accuracy.columns=['model_name','accuracy']\n",
        "sensitivity.columns=['model_name','sensitivity']\n",
        "specificity.columns=['model_name','specificity']\n",
        "plt.figure(figsize=(16, 6))\n",
        "ax = sns.lineplot(data=accuracy, x='model_name', y='accuracy',legend='full')\n",
        "ax = sns.lineplot(data=sensitivity, x='model_name', y='sensitivity',legend='full')\n",
        "ax = sns.lineplot(data=specificity, x='model_name', y='specificity',legend='full')\n",
        "ax = sns.barplot(data=accuracy, x='model_name', y='accuracy')\n",
        "plt.title('Blue :Accuracy,Orange: Senstivity,Green : Specicificity ')"
      ],
      "execution_count": null,
      "outputs": [
        {
          "output_type": "stream",
          "name": "stdout",
          "text": [
            "Classifier = Nearest Neighbors, Score (test, accuracy) = 17.67, Training time = 1.70 seconds\n",
            "[[ 53  89  49  54  16   4]\n",
            " [108 194 114 105  51  11]\n",
            " [101 183 119 105  42  10]\n",
            " [100 206 144  99  58  14]\n",
            " [ 96 165 120 107  66  16]\n",
            " [ 67 158 101  94  51  14]]\n",
            "-*-*-*-*-*-*-*-*-*-*-*-*-*-*-*-*-*-*-*-*-*-*-*-*-*-*-*-*-*-*-*-*-*-*-*-*-*-*-*-*-*-*-*-*-*-*-*-*-*-*-*-*-*-*-*-*-*-*-*-*-*-*-*-*-*-*-*-*-*-*-*-*-*-*-*-*-*-*-*-*\n",
            "Classifier = Linear SVM, Score (test, accuracy) = 20.91, Training time = 24.91 seconds\n",
            "[[  0 155   0 110   0   0]\n",
            " [  0 332   0 251   0   0]\n",
            " [  0 284   0 276   0   0]\n",
            " [  0 308   0 313   0   0]\n",
            " [  0 299   0 271   0   0]\n",
            " [  0 272   0 213   0   0]]\n",
            "-*-*-*-*-*-*-*-*-*-*-*-*-*-*-*-*-*-*-*-*-*-*-*-*-*-*-*-*-*-*-*-*-*-*-*-*-*-*-*-*-*-*-*-*-*-*-*-*-*-*-*-*-*-*-*-*-*-*-*-*-*-*-*-*-*-*-*-*-*-*-*-*-*-*-*-*-*-*-*-*\n",
            "Classifier = RBF SVM, Score (test, accuracy) = 21.14, Training time = 37.26 seconds\n",
            "[[  1  38   1 194  25   6]\n",
            " [  1 107   3 391  70  11]\n",
            " [  0  72   2 419  63   4]\n",
            " [  0  82   1 464  67   7]\n",
            " [  0  82   4 408  70   6]\n",
            " [  0  64   0 341  72   8]]\n",
            "-*-*-*-*-*-*-*-*-*-*-*-*-*-*-*-*-*-*-*-*-*-*-*-*-*-*-*-*-*-*-*-*-*-*-*-*-*-*-*-*-*-*-*-*-*-*-*-*-*-*-*-*-*-*-*-*-*-*-*-*-*-*-*-*-*-*-*-*-*-*-*-*-*-*-*-*-*-*-*-*\n",
            "Classifier = Decision Tree, Score (test, accuracy) = 21.11, Training time = 0.12 seconds\n",
            "[[  3  94   0 158   8   2]\n",
            " [  3 184   1 355  38   2]\n",
            " [  9 136   1 373  35   6]\n",
            " [  5 165   0 382  60   9]\n",
            " [  0 159   0 325  75  11]\n",
            " [  2 154   0 278  45   6]]\n",
            "-*-*-*-*-*-*-*-*-*-*-*-*-*-*-*-*-*-*-*-*-*-*-*-*-*-*-*-*-*-*-*-*-*-*-*-*-*-*-*-*-*-*-*-*-*-*-*-*-*-*-*-*-*-*-*-*-*-*-*-*-*-*-*-*-*-*-*-*-*-*-*-*-*-*-*-*-*-*-*-*\n",
            "Classifier = Random Forest, Score (test, accuracy) = 20.56, Training time = 0.06 seconds\n",
            "[[  0  20   3 233   8   1]\n",
            " [  0  49   2 511  14   7]\n",
            " [  0  42   2 490  19   7]\n",
            " [  0  44   3 555  17   2]\n",
            " [  0  37   3 500  23   7]\n",
            " [  1  30   0 426  23   5]]\n",
            "-*-*-*-*-*-*-*-*-*-*-*-*-*-*-*-*-*-*-*-*-*-*-*-*-*-*-*-*-*-*-*-*-*-*-*-*-*-*-*-*-*-*-*-*-*-*-*-*-*-*-*-*-*-*-*-*-*-*-*-*-*-*-*-*-*-*-*-*-*-*-*-*-*-*-*-*-*-*-*-*\n",
            "Classifier = Neural Net, Score (test, accuracy) = 23.18, Training time = 8.68 seconds\n",
            "[[  0 109   6 111  35   4]\n",
            " [  0 216   7 226 122  12]\n",
            " [  0 185   8 238 124   5]\n",
            " [  0 152   6 267 183  13]\n",
            " [  0 142   2 202 215   9]\n",
            " [  0 124   5 151 196   9]]\n",
            "-*-*-*-*-*-*-*-*-*-*-*-*-*-*-*-*-*-*-*-*-*-*-*-*-*-*-*-*-*-*-*-*-*-*-*-*-*-*-*-*-*-*-*-*-*-*-*-*-*-*-*-*-*-*-*-*-*-*-*-*-*-*-*-*-*-*-*-*-*-*-*-*-*-*-*-*-*-*-*-*\n",
            "Classifier = AdaBoost, Score (test, accuracy) = 20.85, Training time = 2.08 seconds\n",
            "[[ 16  96   5 117  20  11]\n",
            " [ 28 198  12 270  58  17]\n",
            " [ 25 172  16 283  46  18]\n",
            " [ 13 173  16 311  72  36]\n",
            " [ 19 162  12 256  82  39]\n",
            " [ 10 144   4 235  72  20]]\n",
            "-*-*-*-*-*-*-*-*-*-*-*-*-*-*-*-*-*-*-*-*-*-*-*-*-*-*-*-*-*-*-*-*-*-*-*-*-*-*-*-*-*-*-*-*-*-*-*-*-*-*-*-*-*-*-*-*-*-*-*-*-*-*-*-*-*-*-*-*-*-*-*-*-*-*-*-*-*-*-*-*\n",
            "Classifier = Naive Bayes, Score (test, accuracy) = 17.83, Training time = 0.10 seconds\n",
            "[[159  19  25  11  22  29]\n",
            " [276  61  54  30  88  74]\n",
            " [269  41  66  34  86  64]\n",
            " [274  43  70  51 113  70]\n",
            " [219  41  62  29 118 101]\n",
            " [181  32  54  24  99  95]]\n",
            "-*-*-*-*-*-*-*-*-*-*-*-*-*-*-*-*-*-*-*-*-*-*-*-*-*-*-*-*-*-*-*-*-*-*-*-*-*-*-*-*-*-*-*-*-*-*-*-*-*-*-*-*-*-*-*-*-*-*-*-*-*-*-*-*-*-*-*-*-*-*-*-*-*-*-*-*-*-*-*-*\n"
          ]
        },
        {
          "output_type": "stream",
          "name": "stderr",
          "text": [
            "/usr/local/lib/python3.7/dist-packages/sklearn/discriminant_analysis.py:878: UserWarning: Variables are collinear\n",
            "  warnings.warn(\"Variables are collinear\")\n"
          ]
        },
        {
          "output_type": "stream",
          "name": "stdout",
          "text": [
            "Classifier = QDA, Score (test, accuracy) = 16.41, Training time = 0.90 seconds\n",
            "[[160   7  48   2  27  21]\n",
            " [278  17 130  11  98  49]\n",
            " [250  13 133  17 107  40]\n",
            " [265  17 137  14 136  52]\n",
            " [225  17 112  14 128  74]\n",
            " [182   8 102  13 126  54]]\n",
            "-*-*-*-*-*-*-*-*-*-*-*-*-*-*-*-*-*-*-*-*-*-*-*-*-*-*-*-*-*-*-*-*-*-*-*-*-*-*-*-*-*-*-*-*-*-*-*-*-*-*-*-*-*-*-*-*-*-*-*-*-*-*-*-*-*-*-*-*-*-*-*-*-*-*-*-*-*-*-*-*\n",
            "--------------------------------------------------------------------------------\n",
            "Best --> Classifier = Neural Net, Score (test, accuracy) = 23.18\n",
            "{'Nearest Neighbors': 17.671854734111545, 'Linear SVM': 20.914396887159533, 'RBF SVM': 21.141374837872892, 'Decision Tree': 21.108949416342412, 'Random Forest': 20.557717250324252, 'Neural Net': 23.184176394293125, 'AdaBoost': 20.849546044098574, 'Naive Bayes': 17.833981841763944, 'QDA': 16.407263294422826}\n"
          ]
        },
        {
          "output_type": "execute_result",
          "data": {
            "text/plain": [
              "Text(0.5, 1.0, 'Blue :Accuracy,Orange: Senstivity,Green : Specicificity ')"
            ]
          },
          "metadata": {},
          "execution_count": 87
        },
        {
          "output_type": "display_data",
          "data": {
            "image/png": "[encoded data removed]",
            "text/plain": [
              "<Figure size 1152x432 with 1 Axes>"
            ]
          },
          "metadata": {
            "needs_background": "light"
          }
        }
      ]
    },
    {
      "cell_type": "markdown",
      "metadata": {
        "id": "y0iasTDO43r6"
      },
      "source": [
        ""
      ]
    },
    {
      "cell_type": "markdown",
      "metadata": {
        "id": "YzjMC1hA5EnH"
      },
      "source": [
        "## **Model Training** with 2 classes(of fakeness)"
      ]
    },
    {
      "cell_type": "markdown",
      "metadata": {
        "id": "bDXOf8N15JCY"
      },
      "source": [
        "Training 9 different models (\"Nearest Neighbors\", \"Linear SVM\", \"RBF SVM\", \"Decision Tree\", \"Random Forest\", \"Neural Net\", \"AdaBoost\", \"Naive Bayes\", \"QDA\") to predict fakeness of statement between 1-2 using all the microfactors above after data amalgamation to see if the accuracy changes."
      ]
    },
    {
      "cell_type": "code",
      "metadata": {
        "id": "2oAfe3Qc5Dwx"
      },
      "source": [
        ""
      ],
      "execution_count": null,
      "outputs": []
    },
    {
      "cell_type": "code",
      "metadata": {
        "colab": {
          "base_uri": "https://localhost:8080/"
        },
        "id": "oUqq0WV56X-e",
        "outputId": "cf41fe5d-435f-472d-8210-3900e3356edd"
      },
      "source": [
        "trainX, testX = train_test_split(X , test_size=0.30, random_state=1)\n",
        "trainY, testY = train_test_split(df_final['new_target'], test_size=0.30, random_state=1)\n",
        "trainX"
      ],
      "execution_count": null,
      "outputs": [
        {
          "output_type": "execute_result",
          "data": {
            "text/plain": [
              "<7195x309 sparse matrix of type '<class 'numpy.float64'>'\n",
              "\twith 77572 stored elements in Compressed Sparse Row format>"
            ]
          },
          "metadata": {},
          "execution_count": 88
        }
      ]
    },
    {
      "cell_type": "code",
      "metadata": {
        "colab": {
          "base_uri": "https://localhost:8080/",
          "height": 1000
        },
        "id": "AM6NnubV9-_j",
        "outputId": "a54a796a-eb30-489f-b253-b35932dc28f0"
      },
      "source": [
        "names = [\"Nearest Neighbors\", \"Linear SVM\", \"RBF SVM\", #\"Gaussian Process\",\n",
        "         \"Decision Tree\", \"Random Forest\", \"Neural Net\", \"AdaBoost\",\n",
        "         \"Naive Bayes\", \"QDA\",\n",
        "#          \"LinearRegression\"\n",
        "        ]\n",
        "\n",
        "classifiers = [\n",
        "    KNeighborsClassifier(2),\n",
        "    SVC(kernel=\"linear\", C=0.025),\n",
        "    SVC(gamma=2, C=1),\n",
        "#     GaussianProcessClassifier(1.0 * RBF(1.0)),\n",
        "    DecisionTreeClassifier(max_depth=5),\n",
        "    RandomForestClassifier(max_depth=5, n_estimators=10, max_features=1),\n",
        "    MLPClassifier(alpha=1, max_iter=1000),\n",
        "    AdaBoostClassifier(),\n",
        "    GaussianNB(),\n",
        "    QuadraticDiscriminantAnalysis(),\n",
        "#     LinearRegression()\n",
        "    ]\n",
        "\n",
        "max_score = 0.0\n",
        "max_class = ''\n",
        "# iterate over classifiers\n",
        "score_compare={}\n",
        "index=0\n",
        "accuracy={}\n",
        "specificity={}\n",
        "sensitivity={}\n",
        "\n",
        "for name, clf in zip(names, classifiers):\n",
        "    # print(accuracy)\n",
        "    start_time = time()\n",
        "    clf.fit(trainX.toarray(), trainY)\n",
        "    score = 100.0 * clf.score(testX.toarray(), testY)\n",
        "    y_pred=clf.predict(testX.toarray())\n",
        "    print('Classifier = %s, Score (test, accuracy) = %.2f,' %(name, score), 'Training time = %.2f seconds' % (time() - start_time))\n",
        "    \n",
        "    #   Dumping all the models using pickle\n",
        "    pickle.dump(clf, open(name, 'wb'))\n",
        "    \n",
        "    accuracy[names[index]]=accuracy_score(testY,y_pred)*100\n",
        "    cm=confusion_matrix(testY, y_pred)\n",
        "\n",
        "    print(cm)\n",
        "    sensitivity[names[index]] = (cm[0,0]/(cm[0,0]+cm[0,1]))*100\n",
        "    specificity[names[index]] = (cm[1,1]/(cm[1,0]+cm[1,1]))*100\n",
        "    index+=1\n",
        "    if score > max_score:\n",
        "        clf_best = clf\n",
        "        max_score = score\n",
        "        max_class = name\n",
        "\n",
        "    print(80*'-*')\n",
        "\n",
        "print(80*'-' )\n",
        "print('Best --> Classifier = %s, Score (test, accuracy) = %.2f' %(max_class, max_score))\n",
        "print(accuracy)\n",
        "accuracy=pd.DataFrame.from_dict(accuracy,orient='index').reset_index()\n",
        "sensitivity=pd.DataFrame.from_dict(sensitivity,orient='index').reset_index()\n",
        "specificity=pd.DataFrame.from_dict(specificity,orient='index').reset_index()\n",
        "# print(accuracy)\n",
        "accuracy.columns=['model_name','accuracy']\n",
        "sensitivity.columns=['model_name','sensitivity']\n",
        "specificity.columns=['model_name','specificity']\n",
        "plt.figure(figsize=(16, 6))\n",
        "ax = sns.lineplot(data=accuracy, x='model_name', y='accuracy',legend='full')\n",
        "ax = sns.lineplot(data=sensitivity, x='model_name', y='sensitivity',legend='full')\n",
        "ax = sns.lineplot(data=specificity, x='model_name', y='specificity',legend='full')\n",
        "ax = sns.barplot(data=accuracy, x='model_name', y='accuracy')\n",
        "plt.title('Blue :Accuracy,Orange: Senstivity,Green : Specicificity ')"
      ],
      "execution_count": null,
      "outputs": [
        {
          "output_type": "stream",
          "name": "stdout",
          "text": [
            "Classifier = Nearest Neighbors, Score (test, accuracy) = 49.58, Training time = 1.59 seconds\n",
            "[[1010  398]\n",
            " [1157  519]]\n",
            "-*-*-*-*-*-*-*-*-*-*-*-*-*-*-*-*-*-*-*-*-*-*-*-*-*-*-*-*-*-*-*-*-*-*-*-*-*-*-*-*-*-*-*-*-*-*-*-*-*-*-*-*-*-*-*-*-*-*-*-*-*-*-*-*-*-*-*-*-*-*-*-*-*-*-*-*-*-*-*-*\n",
            "Classifier = Linear SVM, Score (test, accuracy) = 54.35, Training time = 20.78 seconds\n",
            "[[   0 1408]\n",
            " [   0 1676]]\n",
            "-*-*-*-*-*-*-*-*-*-*-*-*-*-*-*-*-*-*-*-*-*-*-*-*-*-*-*-*-*-*-*-*-*-*-*-*-*-*-*-*-*-*-*-*-*-*-*-*-*-*-*-*-*-*-*-*-*-*-*-*-*-*-*-*-*-*-*-*-*-*-*-*-*-*-*-*-*-*-*-*\n",
            "Classifier = RBF SVM, Score (test, accuracy) = 54.57, Training time = 33.23 seconds\n",
            "[[  53 1355]\n",
            " [  46 1630]]\n",
            "-*-*-*-*-*-*-*-*-*-*-*-*-*-*-*-*-*-*-*-*-*-*-*-*-*-*-*-*-*-*-*-*-*-*-*-*-*-*-*-*-*-*-*-*-*-*-*-*-*-*-*-*-*-*-*-*-*-*-*-*-*-*-*-*-*-*-*-*-*-*-*-*-*-*-*-*-*-*-*-*\n",
            "Classifier = Decision Tree, Score (test, accuracy) = 56.29, Training time = 0.13 seconds\n",
            "[[ 134 1274]\n",
            " [  74 1602]]\n",
            "-*-*-*-*-*-*-*-*-*-*-*-*-*-*-*-*-*-*-*-*-*-*-*-*-*-*-*-*-*-*-*-*-*-*-*-*-*-*-*-*-*-*-*-*-*-*-*-*-*-*-*-*-*-*-*-*-*-*-*-*-*-*-*-*-*-*-*-*-*-*-*-*-*-*-*-*-*-*-*-*\n",
            "Classifier = Random Forest, Score (test, accuracy) = 54.31, Training time = 0.07 seconds\n",
            "[[   1 1407]\n",
            " [   2 1674]]\n",
            "-*-*-*-*-*-*-*-*-*-*-*-*-*-*-*-*-*-*-*-*-*-*-*-*-*-*-*-*-*-*-*-*-*-*-*-*-*-*-*-*-*-*-*-*-*-*-*-*-*-*-*-*-*-*-*-*-*-*-*-*-*-*-*-*-*-*-*-*-*-*-*-*-*-*-*-*-*-*-*-*\n",
            "Classifier = Neural Net, Score (test, accuracy) = 59.50, Training time = 8.72 seconds\n",
            "[[ 371 1037]\n",
            " [ 212 1464]]\n",
            "-*-*-*-*-*-*-*-*-*-*-*-*-*-*-*-*-*-*-*-*-*-*-*-*-*-*-*-*-*-*-*-*-*-*-*-*-*-*-*-*-*-*-*-*-*-*-*-*-*-*-*-*-*-*-*-*-*-*-*-*-*-*-*-*-*-*-*-*-*-*-*-*-*-*-*-*-*-*-*-*\n",
            "Classifier = AdaBoost, Score (test, accuracy) = 58.82, Training time = 2.16 seconds\n",
            "[[ 400 1008]\n",
            " [ 262 1414]]\n",
            "-*-*-*-*-*-*-*-*-*-*-*-*-*-*-*-*-*-*-*-*-*-*-*-*-*-*-*-*-*-*-*-*-*-*-*-*-*-*-*-*-*-*-*-*-*-*-*-*-*-*-*-*-*-*-*-*-*-*-*-*-*-*-*-*-*-*-*-*-*-*-*-*-*-*-*-*-*-*-*-*\n",
            "Classifier = Naive Bayes, Score (test, accuracy) = 56.97, Training time = 0.07 seconds\n",
            "[[816 592]\n",
            " [735 941]]\n",
            "-*-*-*-*-*-*-*-*-*-*-*-*-*-*-*-*-*-*-*-*-*-*-*-*-*-*-*-*-*-*-*-*-*-*-*-*-*-*-*-*-*-*-*-*-*-*-*-*-*-*-*-*-*-*-*-*-*-*-*-*-*-*-*-*-*-*-*-*-*-*-*-*-*-*-*-*-*-*-*-*\n"
          ]
        },
        {
          "output_type": "stream",
          "name": "stderr",
          "text": [
            "/usr/local/lib/python3.7/dist-packages/sklearn/discriminant_analysis.py:878: UserWarning: Variables are collinear\n",
            "  warnings.warn(\"Variables are collinear\")\n"
          ]
        },
        {
          "output_type": "stream",
          "name": "stdout",
          "text": [
            "Classifier = QDA, Score (test, accuracy) = 55.58, Training time = 0.54 seconds\n",
            "[[865 543]\n",
            " [827 849]]\n",
            "-*-*-*-*-*-*-*-*-*-*-*-*-*-*-*-*-*-*-*-*-*-*-*-*-*-*-*-*-*-*-*-*-*-*-*-*-*-*-*-*-*-*-*-*-*-*-*-*-*-*-*-*-*-*-*-*-*-*-*-*-*-*-*-*-*-*-*-*-*-*-*-*-*-*-*-*-*-*-*-*\n",
            "--------------------------------------------------------------------------------\n",
            "Best --> Classifier = Neural Net, Score (test, accuracy) = 59.50\n",
            "{'Nearest Neighbors': 49.578469520103766, 'Linear SVM': 54.345006485084305, 'RBF SVM': 54.57198443579766, 'Decision Tree': 56.2905317769131, 'Random Forest': 54.31258106355382, 'Neural Net': 59.50064850843061, 'AdaBoost': 58.819714656290536, 'Naive Bayes': 56.97146562905318, 'QDA': 55.577172503242544}\n"
          ]
        },
        {
          "output_type": "execute_result",
          "data": {
            "text/plain": [
              "Text(0.5, 1.0, 'Blue :Accuracy,Orange: Senstivity,Green : Specicificity ')"
            ]
          },
          "metadata": {},
          "execution_count": 89
        },
        {
          "output_type": "display_data",
          "data": {
            "image/png": "[encoded data removed]",
            "text/plain": [
              "<Figure size 1152x432 with 1 Axes>"
            ]
          },
          "metadata": {
            "needs_background": "light"
          }
        }
      ]
    },
    {
      "cell_type": "markdown",
      "metadata": {
        "id": "XBs6g0D65lw-"
      },
      "source": [
        "## **Generating sentiment score**\n",
        "Using Neural Net classifier as it as the highest accuracy"
      ]
    },
    {
      "cell_type": "code",
      "metadata": {
        "colab": {
          "base_uri": "https://localhost:8080/"
        },
        "id": "FMpqGSp9Qd4a",
        "outputId": "ed0408ee-116a-443e-bb81-00b097bc67d2"
      },
      "source": [
        "!pip install nltk"
      ],
      "execution_count": null,
      "outputs": [
        {
          "output_type": "stream",
          "name": "stdout",
          "text": [
            "Requirement already satisfied: nltk in /usr/local/lib/python3.7/dist-packages (3.2.5)\n",
            "Requirement already satisfied: six in /usr/local/lib/python3.7/dist-packages (from nltk) (1.15.0)\n"
          ]
        }
      ]
    },
    {
      "cell_type": "code",
      "metadata": {
        "id": "L9Z4tqmrJg1c"
      },
      "source": [
        "import pickle\n",
        "import re\n",
        "from nltk.tokenize import word_tokenize"
      ],
      "execution_count": null,
      "outputs": []
    },
    {
      "cell_type": "code",
      "metadata": {
        "colab": {
          "base_uri": "https://localhost:8080/"
        },
        "id": "_-dJnl6BJhOd",
        "outputId": "68434e3f-776d-4bae-d95b-832a723aa3f1"
      },
      "source": [
        "import nltk\n",
        "from collections import Counter\n",
        "nltk.download('punkt')\n",
        "nltk.download('averaged_perceptron_tagger')\n",
        "nltk.download('vader')\n",
        "\n",
        "from nltk.corpus import stopwords\n",
        "import nltk\n",
        "nltk.download('stopwords')\n",
        "from nltk.stem.snowball import SnowballStemmer\n",
        "from nltk.stem import WordNetLemmatizer\n",
        "nltk.download('wordnet')\n",
        "from sklearn.feature_extraction.text import TfidfVectorizer\n",
        "\n",
        "from nltk.sentiment.vader import SentimentIntensityAnalyzer\n",
        "nltk.download('vader_lexicon')\n",
        "import scipy"
      ],
      "execution_count": null,
      "outputs": [
        {
          "output_type": "stream",
          "name": "stdout",
          "text": [
            "[nltk_data] Downloading package punkt to /root/nltk_data...\n",
            "[nltk_data]   Unzipping tokenizers/punkt.zip.\n",
            "[nltk_data] Downloading package averaged_perceptron_tagger to\n",
            "[nltk_data]     /root/nltk_data...\n",
            "[nltk_data]   Unzipping taggers/averaged_perceptron_tagger.zip.\n",
            "[nltk_data] Error loading vader: Package 'vader' not found in index\n",
            "[nltk_data] Downloading package stopwords to /root/nltk_data...\n",
            "[nltk_data]   Package stopwords is already up-to-date!\n",
            "[nltk_data] Downloading package wordnet to /root/nltk_data...\n",
            "[nltk_data]   Package wordnet is already up-to-date!\n",
            "[nltk_data] Downloading package vader_lexicon to /root/nltk_data...\n",
            "[nltk_data]   Package vader_lexicon is already up-to-date!\n"
          ]
        }
      ]
    },
    {
      "cell_type": "code",
      "metadata": {
        "id": "mhimWZrfQ1v4"
      },
      "source": [
        "stop_words = set(stopwords.words('english')) "
      ],
      "execution_count": null,
      "outputs": []
    },
    {
      "cell_type": "code",
      "metadata": {
        "colab": {
          "base_uri": "https://localhost:8080/"
        },
        "id": "MN8SUIfuqFvU",
        "outputId": "f61a664d-29e9-46ad-a3ac-c37970fc1165"
      },
      "source": [
        ""
      ],
      "execution_count": null,
      "outputs": [
        {
          "output_type": "stream",
          "name": "stdout",
          "text": [
            "[nltk_data] Downloading package stopwords to /root/nltk_data...\n",
            "[nltk_data]   Package stopwords is already up-to-date!\n",
            "[nltk_data] Downloading package wordnet to /root/nltk_data...\n",
            "[nltk_data]   Package wordnet is already up-to-date!\n",
            "[nltk_data] Downloading package vader_lexicon to /root/nltk_data...\n"
          ]
        },
        {
          "output_type": "stream",
          "name": "stderr",
          "text": [
            "/usr/local/lib/python3.7/dist-packages/nltk/twitter/__init__.py:20: UserWarning: The twython library has not been installed. Some functionality from the twitter package will not be available.\n",
            "  warnings.warn(\"The twython library has not been installed. \"\n"
          ]
        },
        {
          "output_type": "execute_result",
          "data": {
            "text/plain": [
              "True"
            ]
          },
          "metadata": {},
          "execution_count": 11
        }
      ]
    },
    {
      "cell_type": "code",
      "metadata": {
        "id": "dhuUiklORPLQ"
      },
      "source": [
        "def get_POS_tags(statement):\n",
        "  tokens = nltk.word_tokenize(statement)\n",
        "  text = nltk.Text(tokens)\n",
        "  tags = nltk.pos_tag(text)\n",
        "  counts = Counter(tag for word,tag in tags)\n",
        "  noun_counts=counts['NN']+counts['NNS']+counts['NNP']+counts['NNPS']\n",
        "  verb_counts=counts['VB']+counts['VBD']+counts['VBG']+counts['VBN']+counts['VBP']+counts['VBG']\n",
        "  adverbverb_counts=counts['VB']+counts['VBD']+counts['VBG']+counts['VBN']+counts['VBP']+counts['VBG']\n",
        "  adjective_counts=counts['JJ']+counts['JJR']+counts['JJS']\n",
        "  possessive_ending_counts=counts['POS']\n",
        "  return noun_counts,verb_counts,adverbverb_counts,adjective_counts,possessive_ending_counts"
      ],
      "execution_count": null,
      "outputs": []
    },
    {
      "cell_type": "code",
      "metadata": {
        "id": "bxoor12CJubT"
      },
      "source": [
        "\n",
        "def get_sentiment_score(statement):\n",
        "  model=pickle.load(open('/content/Neural Net', 'rb'))\n",
        "  tfidf_vect=pickle.load(open('/content/tfidf', 'rb'))\n",
        "  stop_words = set(stopwords.words('english'))\n",
        "  stemmer = SnowballStemmer(\"english\")\n",
        "  lem=WordNetLemmatizer()\n",
        "  analyzer = SentimentIntensityAnalyzer()\n",
        "\n",
        "  p_statement= re.sub(r\"\\W\", \" \",str(statement))\n",
        "  p_statement=re.sub(r'[,\\.!?]', \" \",str(p_statement))\n",
        "  p_statement=re.sub(r\" \\d+\", \" \",str(p_statement))\n",
        "  p_statement=word_tokenize(p_statement.lower())\n",
        "  p_statement=' '.join(p_statement)\n",
        "  p_statement=' '.join([word for word in p_statement.split() if word not in stop_words])\n",
        "  p_statement=' '.join([lem.lemmatize(word) for word in p_statement.split()])\n",
        "  p_statement=' '.join([stemmer.stem(word) for word in p_statement.split()])\n",
        "  noun_counts,verb_counts,adverbverb_counts,adjective_counts,possessive_ending_counts=get_POS_tags(p_statement)\n",
        "\n",
        "  compound= analyzer.polarity_scores(p_statement)['compound']\n",
        "  neg=  analyzer.polarity_scores(p_statement)['neg'] \n",
        "  neu = analyzer.polarity_scores(p_statement)['neu']\n",
        "  pos = analyzer.polarity_scores(p_statement)['pos']\n",
        "\n",
        "  X=[noun_counts,verb_counts,adverbverb_counts,adjective_counts,possessive_ending_counts,compound,neg,neu,pos]\n",
        "  vector=tfidf_vect.transform([p_statement])\n",
        "\n",
        "  final_input=scipy.sparse.hstack((vector,X),format='csr')\n",
        "  \n",
        "  prediction=model.predict(final_input)\n",
        "  prediction_probability=model.predict_proba(final_input)[:,1]\n",
        "  return prediction_probability.item(0)"
      ],
      "execution_count": null,
      "outputs": []
    },
    {
      "cell_type": "code",
      "metadata": {
        "colab": {
          "base_uri": "https://localhost:8080/"
        },
        "id": "7aE2qoqEKJAS",
        "outputId": "3d5cbcba-0946-407d-b7bd-0eafce619ffa"
      },
      "source": [
        "get_sentiment_score('sad')"
      ],
      "execution_count": null,
      "outputs": [
        {
          "output_type": "execute_result",
          "data": {
            "text/plain": [
              "0.3001182723057658"
            ]
          },
          "metadata": {},
          "execution_count": 15
        }
      ]
    },
    {
      "cell_type": "code",
      "metadata": {
        "id": "2SUUccXVKLz-"
      },
      "source": [
        ""
      ],
      "execution_count": null,
      "outputs": []
    }
  ]
}