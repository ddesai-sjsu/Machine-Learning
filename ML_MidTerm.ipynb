{
  "nbformat": 4,
  "nbformat_minor": 0,
  "metadata": {
    "colab": {
      "name": "ML_MidTerm.ipynb",
      "provenance": [],
      "collapsed_sections": [],
      "authorship_tag": "ABX9TyPHNhdJdeHlXTaiz0KG2AFj",
      "include_colab_link": true
    },
    "kernelspec": {
      "name": "python3",
      "display_name": "Python 3"
    },
    "language_info": {
      "name": "python"
    }
  },
  "cells": [
    {
      "cell_type": "markdown",
      "metadata": {
        "id": "view-in-github",
        "colab_type": "text"
      },
      "source": [
        "<a href=\"https://colab.research.google.com/github/ddesai-sjsu/Machine-Learning/blob/main/ML_MidTerm.ipynb\" target=\"_parent\"><img src=\"https://colab.research.google.com/assets/colab-badge.svg\" alt=\"Open In Colab\"/></a>"
      ]
    },
    {
      "cell_type": "markdown",
      "metadata": {
        "id": "KPD81p7jIfyw"
      },
      "source": [
        "# **Midterm Test**:\n",
        "### **1) Business case:**\n",
        " * To find the golden cluster of properties that are a good investements(If profit(rent-mortgage-HOA) is greater than 0). To maximize the profit, we need to find properties with higher rate, and lesser mortgage & HOA.\n",
        " * I also used Crime rate dataset to find properties that are in areas that have lesser crime rate. As, properties with higher crime rates, will have lesser rents, which will not support our purpose to find profitable & safe properties.\n",
        "\n"
      ]
    },
    {
      "cell_type": "code",
      "metadata": {
        "id": "0Hwzw66-NY7s"
      },
      "source": [
        "import pandas as pd\n",
        "from sklearn.cluster import KMeans\n",
        "import seaborn as sns\n",
        "from matplotlib import pyplot as plt"
      ],
      "execution_count": 5,
      "outputs": []
    },
    {
      "cell_type": "markdown",
      "metadata": {
        "id": "5S_I8V3WMcwG"
      },
      "source": [
        "* **Collecting dataset from Google drive to Pandas Dataframe** "
      ]
    },
    {
      "cell_type": "code",
      "metadata": {
        "id": "_6An6TkkNgMR"
      },
      "source": [
        "!pip install -U -q PyDrive\n",
        "from pydrive.auth import GoogleAuth\n",
        "from pydrive.drive import GoogleDrive\n",
        "from google.colab import auth\n",
        "from oauth2client.client import GoogleCredentials\n",
        "\n",
        "auth.authenticate_user()\n",
        "gauth = GoogleAuth()\n",
        "gauth.credentials = GoogleCredentials.get_application_default()\n",
        "drive = GoogleDrive(gauth)\n",
        "\n",
        "id='1IcWELX-0iAYBBBnIuVJo5V3LU8wKR86V'\n",
        "downloaded = drive.CreateFile({'id':id}) \n",
        "downloaded.GetContentFile('dataset.csv')\n",
        "\n",
        "\n",
        "id='1vrNDJ6cZMQaBJmDlaY-KbBZvhP38IZUh'\n",
        "downloaded = drive.CreateFile({'id':id}) \n",
        "downloaded.GetContentFile('california.xls')\n",
        "\n",
        "id='1K20_G8_iECV5ZJUaaA1T7MIuEwb04WIk'\n",
        "downloaded = drive.CreateFile({'id':id}) \n",
        "downloaded.GetContentFile('df_filtered.csv')"
      ],
      "execution_count": 2,
      "outputs": []
    },
    {
      "cell_type": "code",
      "metadata": {
        "id": "Ptk0VlTqNiSP"
      },
      "source": [
        "df=pd.read_csv('/content/dataset.csv')"
      ],
      "execution_count": null,
      "outputs": []
    },
    {
      "cell_type": "code",
      "metadata": {
        "id": "7WonPi69NwMz"
      },
      "source": [
        "df = df[(df['address'].str.contains('Carlsbad')) | (df['address'].str.contains('Escondido')) | (df['address'].str.contains('Encinitas')) | (df['address'].str.contains('Del Mar'))]"
      ],
      "execution_count": null,
      "outputs": []
    },
    {
      "cell_type": "markdown",
      "metadata": {
        "id": "k9qfyHPL3GiX"
      },
      "source": [
        "* **Filtering dataset for the cities assigned**"
      ]
    },
    {
      "cell_type": "markdown",
      "metadata": {
        "id": "N9golhcN3jBp"
      },
      "source": [
        "### **2. Data Prep:**\n",
        "Implement 3 amalgamations:\n",
        "\n",
        "First data set: Dataset given\n",
        "\n",
        "Second data enrichment: Downloaded the Crime data set from the following url:\n",
        "https://towardsdatascience.com/pca-using-python-scikit-learn-e653f8989e60\n",
        "\n",
        "Third data enrichment -- scrape data from a source and amalgamate:\n",
        "\n",
        "**Getting HOA:**\n",
        "\n",
        "In order to find profit on a property(if invested), we need to find HOA and Monthly mortgage.\n",
        "\n",
        "I have used beautifulSoup to scrape HOA from zillow by using property url in the"
      ]
    },
    {
      "cell_type": "code",
      "metadata": {
        "id": "86WsVVnoWRmy"
      },
      "source": [
        "from bs4 import BeautifulSoup\n",
        "import requests\n",
        "import re\n",
        "def get_hoa(url):\n",
        "    try:\n",
        "      req_headers = {\n",
        "          'accept': 'text/html,application/xhtml+xml,application/xml;q=0.9,image/webp,image/apng,*/*;q=0.8',\n",
        "          'accept-encoding': 'gzip, deflate, br',\n",
        "          'accept-language': 'en-US,en;q=0.8',\n",
        "          'upgrade-insecure-requests': '1',\n",
        "          'user-agent': 'Mozilla/5.0 (Windows NT 10.0; Win64; x64) AppleWebKit/537.36 (KHTML, like Gecko) Chrome/61.0.3163.100 Safari/537.36'\n",
        "      }\n",
        "\n",
        "      with requests.Session() as s:\n",
        "          # url = 'https://www.zillow.com/homedetails/No-Address-Old-Lantern-Ln-136-Escondido-CA-92026/2069245820_zpid/'\n",
        "          r = s.get(url, headers=req_headers)\n",
        "          soup=BeautifulSoup(r.content)\n",
        "          all_vals=soup.find_all('span', {'class':'Text-c11n-8-48-0__sc-aiai24-0 dQezUG'})\n",
        "          # print(all_vals)\n",
        "\n",
        "      for i in all_vals:\n",
        "        \n",
        "        if 'HOA' in i.text and 'None' not in i.text:\n",
        "          # print(i.text)\n",
        "          price=re.findall(r'\\d+',i.text)\n",
        "          return (i.text,price[0])\n",
        "      return ('None',0)\n",
        "    except:\n",
        "      return ('None',0)\n"
      ],
      "execution_count": null,
      "outputs": []
    },
    {
      "cell_type": "code",
      "metadata": {
        "id": "9QdsxlPckMmn"
      },
      "source": [
        "df['hoa']=df['property_url'].apply(lambda x: get_hoa(x)[1])"
      ],
      "execution_count": null,
      "outputs": []
    },
    {
      "cell_type": "code",
      "metadata": {
        "id": "cUzGIyD_q1OG"
      },
      "source": [
        "df.to_csv('df_filtered.csv')"
      ],
      "execution_count": null,
      "outputs": []
    },
    {
      "cell_type": "code",
      "metadata": {
        "id": "UvZwaUg1siG3"
      },
      "source": [
        "df=pd.read_csv('df_filtered.csv')"
      ],
      "execution_count": 6,
      "outputs": []
    },
    {
      "cell_type": "code",
      "metadata": {
        "id": "PrKgfRtbIgIZ"
      },
      "source": [
        "def get_city(city):\n",
        "  if 'Escondido' in city:\n",
        "    return 'Escondido'\n",
        "  elif 'Carlsbad' in city:\n",
        "    return 'Carlsbad'\n",
        "  elif 'Del Mar' in city:\n",
        "    return 'Del Mar'\n",
        "  else:\n",
        "    return 'Encinitas'"
      ],
      "execution_count": 9,
      "outputs": []
    },
    {
      "cell_type": "code",
      "metadata": {
        "colab": {
          "base_uri": "https://localhost:8080/",
          "height": 1000
        },
        "id": "zQ0DdV5YJS7O",
        "outputId": "1f9f9748-0273-4d4f-cd2c-3b9a48b7be23"
      },
      "source": [
        "df"
      ],
      "execution_count": 10,
      "outputs": [
        {
          "output_type": "execute_result",
          "data": {
            "text/html": [
              "<div>\n",
              "<style scoped>\n",
              "    .dataframe tbody tr th:only-of-type {\n",
              "        vertical-align: middle;\n",
              "    }\n",
              "\n",
              "    .dataframe tbody tr th {\n",
              "        vertical-align: top;\n",
              "    }\n",
              "\n",
              "    .dataframe thead th {\n",
              "        text-align: right;\n",
              "    }\n",
              "</style>\n",
              "<table border=\"1\" class=\"dataframe\">\n",
              "  <thead>\n",
              "    <tr style=\"text-align: right;\">\n",
              "      <th></th>\n",
              "      <th>Unnamed: 0</th>\n",
              "      <th>rank</th>\n",
              "      <th>property_id</th>\n",
              "      <th>address</th>\n",
              "      <th>latitude</th>\n",
              "      <th>longitude</th>\n",
              "      <th>price</th>\n",
              "      <th>currency</th>\n",
              "      <th>bathrooms</th>\n",
              "      <th>bedrooms</th>\n",
              "      <th>area</th>\n",
              "      <th>land_area</th>\n",
              "      <th>zestimate</th>\n",
              "      <th>rent_zestimate</th>\n",
              "      <th>days_on_zillow</th>\n",
              "      <th>sold_date</th>\n",
              "      <th>is_zillow_owned</th>\n",
              "      <th>image</th>\n",
              "      <th>listing_type</th>\n",
              "      <th>broker_name</th>\n",
              "      <th>input</th>\n",
              "      <th>property_url</th>\n",
              "      <th>listing_url</th>\n",
              "      <th>hoa</th>\n",
              "    </tr>\n",
              "  </thead>\n",
              "  <tbody>\n",
              "    <tr>\n",
              "      <th>0</th>\n",
              "      <td>8</td>\n",
              "      <td>24</td>\n",
              "      <td>16713230</td>\n",
              "      <td>545 Ocean View Ave, Encinitas, CA 92024</td>\n",
              "      <td>33.058939</td>\n",
              "      <td>-117.291904</td>\n",
              "      <td>2799900.0</td>\n",
              "      <td>USD</td>\n",
              "      <td>4.0</td>\n",
              "      <td>4.0</td>\n",
              "      <td>3164.0 sqft</td>\n",
              "      <td>NaN</td>\n",
              "      <td>2951100.0</td>\n",
              "      <td>8486.0</td>\n",
              "      <td>9.0</td>\n",
              "      <td>NaN</td>\n",
              "      <td>False</td>\n",
              "      <td>https://photos.zillowstatic.com/fp/5df598bdc16...</td>\n",
              "      <td>House for sale</td>\n",
              "      <td>eXp Realty of California, Inc.</td>\n",
              "      <td>https://www.zillow.com/homes/Encinitas,-CA_rb/</td>\n",
              "      <td>https://www.zillow.com/homedetails/545-Ocean-V...</td>\n",
              "      <td>https://www.zillow.com/homes/Encinitas,-CA_rb/</td>\n",
              "      <td>0</td>\n",
              "    </tr>\n",
              "    <tr>\n",
              "      <th>1</th>\n",
              "      <td>12</td>\n",
              "      <td>105</td>\n",
              "      <td>16649104</td>\n",
              "      <td>1735 Kirk Pl, Carlsbad, CA 92008</td>\n",
              "      <td>33.154925</td>\n",
              "      <td>-117.323344</td>\n",
              "      <td>1695000.0</td>\n",
              "      <td>USD</td>\n",
              "      <td>2.0</td>\n",
              "      <td>4.0</td>\n",
              "      <td>2132.0 sqft</td>\n",
              "      <td>NaN</td>\n",
              "      <td>1714700.0</td>\n",
              "      <td>3200.0</td>\n",
              "      <td>63.0</td>\n",
              "      <td>NaN</td>\n",
              "      <td>False</td>\n",
              "      <td>https://photos.zillowstatic.com/fp/08c1e6f153b...</td>\n",
              "      <td>House for sale</td>\n",
              "      <td>Pacific Investment Properties</td>\n",
              "      <td>https://www.zillow.com/homes/carlsbad,-CA_rb/</td>\n",
              "      <td>https://www.zillow.com/homedetails/1735-Kirk-P...</td>\n",
              "      <td>https://www.zillow.com/homes/carlsbad,-CA_rb/3_p/</td>\n",
              "      <td>0</td>\n",
              "    </tr>\n",
              "    <tr>\n",
              "      <th>2</th>\n",
              "      <td>24</td>\n",
              "      <td>12</td>\n",
              "      <td>2069780911</td>\n",
              "      <td>328-330 9th St, Del Mar, CA 92014</td>\n",
              "      <td>32.952728</td>\n",
              "      <td>-117.265247</td>\n",
              "      <td>3200000.0</td>\n",
              "      <td>USD</td>\n",
              "      <td>3.0</td>\n",
              "      <td>5.0</td>\n",
              "      <td>2730.0 sqft</td>\n",
              "      <td>NaN</td>\n",
              "      <td>NaN</td>\n",
              "      <td>10645.0</td>\n",
              "      <td>36.0</td>\n",
              "      <td>NaN</td>\n",
              "      <td>False</td>\n",
              "      <td>https://photos.zillowstatic.com/fp/db38d26f9f8...</td>\n",
              "      <td>Multi-family home for sale</td>\n",
              "      <td>NaN</td>\n",
              "      <td>https://www.zillow.com/homes/Del-Mar,-CA_rb/</td>\n",
              "      <td>https://www.zillow.com/homedetails/328-330-9th...</td>\n",
              "      <td>https://www.zillow.com/homes/Del-Mar,-CA_rb/</td>\n",
              "      <td>0</td>\n",
              "    </tr>\n",
              "    <tr>\n",
              "      <th>3</th>\n",
              "      <td>34</td>\n",
              "      <td>152</td>\n",
              "      <td>120790271</td>\n",
              "      <td>21670 Saddle Bred Ln, Escondido, CA 92029</td>\n",
              "      <td>33.106495</td>\n",
              "      <td>-117.131045</td>\n",
              "      <td>724900.0</td>\n",
              "      <td>USD</td>\n",
              "      <td>3.0</td>\n",
              "      <td>3.0</td>\n",
              "      <td>1686.0 sqft</td>\n",
              "      <td>NaN</td>\n",
              "      <td>739600.0</td>\n",
              "      <td>3200.0</td>\n",
              "      <td>50.0</td>\n",
              "      <td>NaN</td>\n",
              "      <td>False</td>\n",
              "      <td>https://photos.zillowstatic.com/fp/7b6343eb005...</td>\n",
              "      <td>House for sale</td>\n",
              "      <td>NaN</td>\n",
              "      <td>https://www.zillow.com/homes/Escondido,-CA_rb/</td>\n",
              "      <td>https://www.zillow.com/homedetails/21670-Saddl...</td>\n",
              "      <td>https://www.zillow.com/homes/Escondido,-CA_rb/...</td>\n",
              "      <td>240</td>\n",
              "    </tr>\n",
              "    <tr>\n",
              "      <th>4</th>\n",
              "      <td>45</td>\n",
              "      <td>15</td>\n",
              "      <td>16620726</td>\n",
              "      <td>2629 Valewood Ave, Carlsbad, CA 92010</td>\n",
              "      <td>33.163764</td>\n",
              "      <td>-117.312317</td>\n",
              "      <td>1250000.0</td>\n",
              "      <td>USD</td>\n",
              "      <td>3.0</td>\n",
              "      <td>3.0</td>\n",
              "      <td>1855.0 sqft</td>\n",
              "      <td>NaN</td>\n",
              "      <td>1045000.0</td>\n",
              "      <td>3896.0</td>\n",
              "      <td>1.0</td>\n",
              "      <td>NaN</td>\n",
              "      <td>False</td>\n",
              "      <td>https://photos.zillowstatic.com/fp/76432f4b4f6...</td>\n",
              "      <td>Coming soon</td>\n",
              "      <td>NaN</td>\n",
              "      <td>https://www.zillow.com/homes/carlsbad,-CA_rb/</td>\n",
              "      <td>https://www.zillow.com/homedetails/2629-Valewo...</td>\n",
              "      <td>https://www.zillow.com/homes/carlsbad,-CA_rb/</td>\n",
              "      <td>0</td>\n",
              "    </tr>\n",
              "    <tr>\n",
              "      <th>...</th>\n",
              "      <td>...</td>\n",
              "      <td>...</td>\n",
              "      <td>...</td>\n",
              "      <td>...</td>\n",
              "      <td>...</td>\n",
              "      <td>...</td>\n",
              "      <td>...</td>\n",
              "      <td>...</td>\n",
              "      <td>...</td>\n",
              "      <td>...</td>\n",
              "      <td>...</td>\n",
              "      <td>...</td>\n",
              "      <td>...</td>\n",
              "      <td>...</td>\n",
              "      <td>...</td>\n",
              "      <td>...</td>\n",
              "      <td>...</td>\n",
              "      <td>...</td>\n",
              "      <td>...</td>\n",
              "      <td>...</td>\n",
              "      <td>...</td>\n",
              "      <td>...</td>\n",
              "      <td>...</td>\n",
              "      <td>...</td>\n",
              "    </tr>\n",
              "    <tr>\n",
              "      <th>459</th>\n",
              "      <td>5845</td>\n",
              "      <td>38</td>\n",
              "      <td>67094309</td>\n",
              "      <td>1028 Dewitt Ave, Encinitas, CA 92024</td>\n",
              "      <td>33.039015</td>\n",
              "      <td>-117.291016</td>\n",
              "      <td>1599900.0</td>\n",
              "      <td>USD</td>\n",
              "      <td>2.0</td>\n",
              "      <td>3.0</td>\n",
              "      <td>1380.0 sqft</td>\n",
              "      <td>NaN</td>\n",
              "      <td>1646000.0</td>\n",
              "      <td>5602.0</td>\n",
              "      <td>23.0</td>\n",
              "      <td>NaN</td>\n",
              "      <td>False</td>\n",
              "      <td>https://photos.zillowstatic.com/fp/bc5104c55fa...</td>\n",
              "      <td>Multi-family home for sale</td>\n",
              "      <td>NaN</td>\n",
              "      <td>https://www.zillow.com/homes/Encinitas,-CA_rb/</td>\n",
              "      <td>https://www.zillow.com/homedetails/1028-Dewitt...</td>\n",
              "      <td>https://www.zillow.com/homes/Encinitas,-CA_rb/</td>\n",
              "      <td>150</td>\n",
              "    </tr>\n",
              "    <tr>\n",
              "      <th>460</th>\n",
              "      <td>5847</td>\n",
              "      <td>7</td>\n",
              "      <td>16702656</td>\n",
              "      <td>535 Howe Pl, Escondido, CA 92025</td>\n",
              "      <td>33.095877</td>\n",
              "      <td>-117.074769</td>\n",
              "      <td>789000.0</td>\n",
              "      <td>USD</td>\n",
              "      <td>2.0</td>\n",
              "      <td>4.0</td>\n",
              "      <td>1727.0 sqft</td>\n",
              "      <td>NaN</td>\n",
              "      <td>793900.0</td>\n",
              "      <td>3200.0</td>\n",
              "      <td>1.0</td>\n",
              "      <td>NaN</td>\n",
              "      <td>False</td>\n",
              "      <td>https://photos.zillowstatic.com/fp/76187ab6fd8...</td>\n",
              "      <td>House for sale</td>\n",
              "      <td>Keller Williams Realty</td>\n",
              "      <td>https://www.zillow.com/homes/Escondido,-CA_rb/</td>\n",
              "      <td>https://www.zillow.com/homedetails/535-Howe-Pl...</td>\n",
              "      <td>https://www.zillow.com/homes/Escondido,-CA_rb/</td>\n",
              "      <td>0</td>\n",
              "    </tr>\n",
              "    <tr>\n",
              "      <th>461</th>\n",
              "      <td>5857</td>\n",
              "      <td>96</td>\n",
              "      <td>16705104</td>\n",
              "      <td>2257 Eucalyptus Ave, Escondido, CA 92029</td>\n",
              "      <td>33.086987</td>\n",
              "      <td>-117.103090</td>\n",
              "      <td>1575000.0</td>\n",
              "      <td>USD</td>\n",
              "      <td>3.0</td>\n",
              "      <td>4.0</td>\n",
              "      <td>2542.0 sqft</td>\n",
              "      <td>NaN</td>\n",
              "      <td>1585300.0</td>\n",
              "      <td>4500.0</td>\n",
              "      <td>15.0</td>\n",
              "      <td>NaN</td>\n",
              "      <td>False</td>\n",
              "      <td>https://photos.zillowstatic.com/fp/818f719d81c...</td>\n",
              "      <td>House for sale</td>\n",
              "      <td>Berkshire Hathaway HomeService</td>\n",
              "      <td>https://www.zillow.com/homes/Escondido,-CA_rb/</td>\n",
              "      <td>https://www.zillow.com/homedetails/2257-Eucaly...</td>\n",
              "      <td>https://www.zillow.com/homes/Escondido,-CA_rb/...</td>\n",
              "      <td>0</td>\n",
              "    </tr>\n",
              "    <tr>\n",
              "      <th>462</th>\n",
              "      <td>5873</td>\n",
              "      <td>192</td>\n",
              "      <td>2069976590</td>\n",
              "      <td>0 Via Sinsonte, Escondido, CA 92027</td>\n",
              "      <td>33.117963</td>\n",
              "      <td>-117.025938</td>\n",
              "      <td>499000.0</td>\n",
              "      <td>USD</td>\n",
              "      <td>NaN</td>\n",
              "      <td>NaN</td>\n",
              "      <td>NaN</td>\n",
              "      <td>10.53 acres</td>\n",
              "      <td>NaN</td>\n",
              "      <td>1895.0</td>\n",
              "      <td>106.0</td>\n",
              "      <td>NaN</td>\n",
              "      <td>False</td>\n",
              "      <td>https://photos.zillowstatic.com/fp/8869e3edb05...</td>\n",
              "      <td>Lot / Land for sale</td>\n",
              "      <td>Coldwell Banker Realty</td>\n",
              "      <td>https://www.zillow.com/homes/Escondido,-CA_rb/</td>\n",
              "      <td>https://www.zillow.com/homedetails/0-Via-Sinso...</td>\n",
              "      <td>https://www.zillow.com/homes/Escondido,-CA_rb/...</td>\n",
              "      <td>0</td>\n",
              "    </tr>\n",
              "    <tr>\n",
              "      <th>463</th>\n",
              "      <td>5879</td>\n",
              "      <td>142</td>\n",
              "      <td>61239165</td>\n",
              "      <td>3663 Purer Rd, Escondido, CA 92029</td>\n",
              "      <td>33.070442</td>\n",
              "      <td>-117.101298</td>\n",
              "      <td>2859000.0</td>\n",
              "      <td>USD</td>\n",
              "      <td>5.0</td>\n",
              "      <td>4.0</td>\n",
              "      <td>5947.0 sqft</td>\n",
              "      <td>NaN</td>\n",
              "      <td>2860400.0</td>\n",
              "      <td>9577.0</td>\n",
              "      <td>43.0</td>\n",
              "      <td>NaN</td>\n",
              "      <td>False</td>\n",
              "      <td>https://photos.zillowstatic.com/fp/3ee2c45603a...</td>\n",
              "      <td>House for sale</td>\n",
              "      <td>Berkshire Hathaway HomeService</td>\n",
              "      <td>https://www.zillow.com/homes/Escondido,-CA_rb/</td>\n",
              "      <td>https://www.zillow.com/homedetails/3663-Purer-...</td>\n",
              "      <td>https://www.zillow.com/homes/Escondido,-CA_rb/...</td>\n",
              "      <td>0</td>\n",
              "    </tr>\n",
              "  </tbody>\n",
              "</table>\n",
              "<p>464 rows × 24 columns</p>\n",
              "</div>"
            ],
            "text/plain": [
              "     Unnamed: 0  rank  ...                                        listing_url  hoa\n",
              "0             8    24  ...     https://www.zillow.com/homes/Encinitas,-CA_rb/    0\n",
              "1            12   105  ...  https://www.zillow.com/homes/carlsbad,-CA_rb/3_p/    0\n",
              "2            24    12  ...       https://www.zillow.com/homes/Del-Mar,-CA_rb/    0\n",
              "3            34   152  ...  https://www.zillow.com/homes/Escondido,-CA_rb/...  240\n",
              "4            45    15  ...      https://www.zillow.com/homes/carlsbad,-CA_rb/    0\n",
              "..          ...   ...  ...                                                ...  ...\n",
              "459        5845    38  ...     https://www.zillow.com/homes/Encinitas,-CA_rb/  150\n",
              "460        5847     7  ...     https://www.zillow.com/homes/Escondido,-CA_rb/    0\n",
              "461        5857    96  ...  https://www.zillow.com/homes/Escondido,-CA_rb/...    0\n",
              "462        5873   192  ...  https://www.zillow.com/homes/Escondido,-CA_rb/...    0\n",
              "463        5879   142  ...  https://www.zillow.com/homes/Escondido,-CA_rb/...    0\n",
              "\n",
              "[464 rows x 24 columns]"
            ]
          },
          "metadata": {},
          "execution_count": 10
        }
      ]
    },
    {
      "cell_type": "markdown",
      "metadata": {
        "id": "j92xbLbUJqXj"
      },
      "source": [
        "**Data cleaning:**"
      ]
    },
    {
      "cell_type": "code",
      "metadata": {
        "id": "WXqTHiuRJUWN"
      },
      "source": [
        "df['City']=df['address'].apply(lambda x: get_city(x))"
      ],
      "execution_count": 11,
      "outputs": []
    },
    {
      "cell_type": "code",
      "metadata": {
        "id": "ZbV9A0rTsl6y"
      },
      "source": [
        "df['area']=df['area'].str.replace(r'sqft', '').fillna(0.0).astype(float).astype(int)"
      ],
      "execution_count": 12,
      "outputs": []
    },
    {
      "cell_type": "code",
      "metadata": {
        "colab": {
          "base_uri": "https://localhost:8080/",
          "height": 530
        },
        "id": "3BDfarG53Jna",
        "outputId": "2d1a2fa2-1d6f-4d70-c048-a86e9fa2f487"
      },
      "source": [
        "df.head()"
      ],
      "execution_count": 13,
      "outputs": [
        {
          "output_type": "execute_result",
          "data": {
            "text/html": [
              "<div>\n",
              "<style scoped>\n",
              "    .dataframe tbody tr th:only-of-type {\n",
              "        vertical-align: middle;\n",
              "    }\n",
              "\n",
              "    .dataframe tbody tr th {\n",
              "        vertical-align: top;\n",
              "    }\n",
              "\n",
              "    .dataframe thead th {\n",
              "        text-align: right;\n",
              "    }\n",
              "</style>\n",
              "<table border=\"1\" class=\"dataframe\">\n",
              "  <thead>\n",
              "    <tr style=\"text-align: right;\">\n",
              "      <th></th>\n",
              "      <th>Unnamed: 0</th>\n",
              "      <th>rank</th>\n",
              "      <th>property_id</th>\n",
              "      <th>address</th>\n",
              "      <th>latitude</th>\n",
              "      <th>longitude</th>\n",
              "      <th>price</th>\n",
              "      <th>currency</th>\n",
              "      <th>bathrooms</th>\n",
              "      <th>bedrooms</th>\n",
              "      <th>area</th>\n",
              "      <th>land_area</th>\n",
              "      <th>zestimate</th>\n",
              "      <th>rent_zestimate</th>\n",
              "      <th>days_on_zillow</th>\n",
              "      <th>sold_date</th>\n",
              "      <th>is_zillow_owned</th>\n",
              "      <th>image</th>\n",
              "      <th>listing_type</th>\n",
              "      <th>broker_name</th>\n",
              "      <th>input</th>\n",
              "      <th>property_url</th>\n",
              "      <th>listing_url</th>\n",
              "      <th>hoa</th>\n",
              "      <th>City</th>\n",
              "    </tr>\n",
              "  </thead>\n",
              "  <tbody>\n",
              "    <tr>\n",
              "      <th>0</th>\n",
              "      <td>8</td>\n",
              "      <td>24</td>\n",
              "      <td>16713230</td>\n",
              "      <td>545 Ocean View Ave, Encinitas, CA 92024</td>\n",
              "      <td>33.058939</td>\n",
              "      <td>-117.291904</td>\n",
              "      <td>2799900.0</td>\n",
              "      <td>USD</td>\n",
              "      <td>4.0</td>\n",
              "      <td>4.0</td>\n",
              "      <td>3164</td>\n",
              "      <td>NaN</td>\n",
              "      <td>2951100.0</td>\n",
              "      <td>8486.0</td>\n",
              "      <td>9.0</td>\n",
              "      <td>NaN</td>\n",
              "      <td>False</td>\n",
              "      <td>https://photos.zillowstatic.com/fp/5df598bdc16...</td>\n",
              "      <td>House for sale</td>\n",
              "      <td>eXp Realty of California, Inc.</td>\n",
              "      <td>https://www.zillow.com/homes/Encinitas,-CA_rb/</td>\n",
              "      <td>https://www.zillow.com/homedetails/545-Ocean-V...</td>\n",
              "      <td>https://www.zillow.com/homes/Encinitas,-CA_rb/</td>\n",
              "      <td>0</td>\n",
              "      <td>Encinitas</td>\n",
              "    </tr>\n",
              "    <tr>\n",
              "      <th>1</th>\n",
              "      <td>12</td>\n",
              "      <td>105</td>\n",
              "      <td>16649104</td>\n",
              "      <td>1735 Kirk Pl, Carlsbad, CA 92008</td>\n",
              "      <td>33.154925</td>\n",
              "      <td>-117.323344</td>\n",
              "      <td>1695000.0</td>\n",
              "      <td>USD</td>\n",
              "      <td>2.0</td>\n",
              "      <td>4.0</td>\n",
              "      <td>2132</td>\n",
              "      <td>NaN</td>\n",
              "      <td>1714700.0</td>\n",
              "      <td>3200.0</td>\n",
              "      <td>63.0</td>\n",
              "      <td>NaN</td>\n",
              "      <td>False</td>\n",
              "      <td>https://photos.zillowstatic.com/fp/08c1e6f153b...</td>\n",
              "      <td>House for sale</td>\n",
              "      <td>Pacific Investment Properties</td>\n",
              "      <td>https://www.zillow.com/homes/carlsbad,-CA_rb/</td>\n",
              "      <td>https://www.zillow.com/homedetails/1735-Kirk-P...</td>\n",
              "      <td>https://www.zillow.com/homes/carlsbad,-CA_rb/3_p/</td>\n",
              "      <td>0</td>\n",
              "      <td>Carlsbad</td>\n",
              "    </tr>\n",
              "    <tr>\n",
              "      <th>2</th>\n",
              "      <td>24</td>\n",
              "      <td>12</td>\n",
              "      <td>2069780911</td>\n",
              "      <td>328-330 9th St, Del Mar, CA 92014</td>\n",
              "      <td>32.952728</td>\n",
              "      <td>-117.265247</td>\n",
              "      <td>3200000.0</td>\n",
              "      <td>USD</td>\n",
              "      <td>3.0</td>\n",
              "      <td>5.0</td>\n",
              "      <td>2730</td>\n",
              "      <td>NaN</td>\n",
              "      <td>NaN</td>\n",
              "      <td>10645.0</td>\n",
              "      <td>36.0</td>\n",
              "      <td>NaN</td>\n",
              "      <td>False</td>\n",
              "      <td>https://photos.zillowstatic.com/fp/db38d26f9f8...</td>\n",
              "      <td>Multi-family home for sale</td>\n",
              "      <td>NaN</td>\n",
              "      <td>https://www.zillow.com/homes/Del-Mar,-CA_rb/</td>\n",
              "      <td>https://www.zillow.com/homedetails/328-330-9th...</td>\n",
              "      <td>https://www.zillow.com/homes/Del-Mar,-CA_rb/</td>\n",
              "      <td>0</td>\n",
              "      <td>Del Mar</td>\n",
              "    </tr>\n",
              "    <tr>\n",
              "      <th>3</th>\n",
              "      <td>34</td>\n",
              "      <td>152</td>\n",
              "      <td>120790271</td>\n",
              "      <td>21670 Saddle Bred Ln, Escondido, CA 92029</td>\n",
              "      <td>33.106495</td>\n",
              "      <td>-117.131045</td>\n",
              "      <td>724900.0</td>\n",
              "      <td>USD</td>\n",
              "      <td>3.0</td>\n",
              "      <td>3.0</td>\n",
              "      <td>1686</td>\n",
              "      <td>NaN</td>\n",
              "      <td>739600.0</td>\n",
              "      <td>3200.0</td>\n",
              "      <td>50.0</td>\n",
              "      <td>NaN</td>\n",
              "      <td>False</td>\n",
              "      <td>https://photos.zillowstatic.com/fp/7b6343eb005...</td>\n",
              "      <td>House for sale</td>\n",
              "      <td>NaN</td>\n",
              "      <td>https://www.zillow.com/homes/Escondido,-CA_rb/</td>\n",
              "      <td>https://www.zillow.com/homedetails/21670-Saddl...</td>\n",
              "      <td>https://www.zillow.com/homes/Escondido,-CA_rb/...</td>\n",
              "      <td>240</td>\n",
              "      <td>Escondido</td>\n",
              "    </tr>\n",
              "    <tr>\n",
              "      <th>4</th>\n",
              "      <td>45</td>\n",
              "      <td>15</td>\n",
              "      <td>16620726</td>\n",
              "      <td>2629 Valewood Ave, Carlsbad, CA 92010</td>\n",
              "      <td>33.163764</td>\n",
              "      <td>-117.312317</td>\n",
              "      <td>1250000.0</td>\n",
              "      <td>USD</td>\n",
              "      <td>3.0</td>\n",
              "      <td>3.0</td>\n",
              "      <td>1855</td>\n",
              "      <td>NaN</td>\n",
              "      <td>1045000.0</td>\n",
              "      <td>3896.0</td>\n",
              "      <td>1.0</td>\n",
              "      <td>NaN</td>\n",
              "      <td>False</td>\n",
              "      <td>https://photos.zillowstatic.com/fp/76432f4b4f6...</td>\n",
              "      <td>Coming soon</td>\n",
              "      <td>NaN</td>\n",
              "      <td>https://www.zillow.com/homes/carlsbad,-CA_rb/</td>\n",
              "      <td>https://www.zillow.com/homedetails/2629-Valewo...</td>\n",
              "      <td>https://www.zillow.com/homes/carlsbad,-CA_rb/</td>\n",
              "      <td>0</td>\n",
              "      <td>Carlsbad</td>\n",
              "    </tr>\n",
              "  </tbody>\n",
              "</table>\n",
              "</div>"
            ],
            "text/plain": [
              "   Unnamed: 0  rank  ...  hoa       City\n",
              "0           8    24  ...    0  Encinitas\n",
              "1          12   105  ...    0   Carlsbad\n",
              "2          24    12  ...    0    Del Mar\n",
              "3          34   152  ...  240  Escondido\n",
              "4          45    15  ...    0   Carlsbad\n",
              "\n",
              "[5 rows x 25 columns]"
            ]
          },
          "metadata": {},
          "execution_count": 13
        }
      ]
    },
    {
      "cell_type": "code",
      "metadata": {
        "colab": {
          "base_uri": "https://localhost:8080/"
        },
        "id": "8OC75vvM2gju",
        "outputId": "7c76a01b-857b-4000-d8e4-9576b368deec"
      },
      "source": [
        "df.isnull().sum(axis = 0)"
      ],
      "execution_count": 14,
      "outputs": [
        {
          "output_type": "execute_result",
          "data": {
            "text/plain": [
              "Unnamed: 0           0\n",
              "rank                 0\n",
              "property_id          0\n",
              "address              0\n",
              "latitude             6\n",
              "longitude            6\n",
              "price                0\n",
              "currency             0\n",
              "bathrooms           87\n",
              "bedrooms            84\n",
              "area                 0\n",
              "land_area          380\n",
              "zestimate          134\n",
              "rent_zestimate      42\n",
              "days_on_zillow       0\n",
              "sold_date          464\n",
              "is_zillow_owned      0\n",
              "image                0\n",
              "listing_type         0\n",
              "broker_name        192\n",
              "input                0\n",
              "property_url         0\n",
              "listing_url          0\n",
              "hoa                  0\n",
              "City                 0\n",
              "dtype: int64"
            ]
          },
          "metadata": {},
          "execution_count": 14
        }
      ]
    },
    {
      "cell_type": "code",
      "metadata": {
        "id": "oyQ_M7u3uXXP"
      },
      "source": [
        "def get_land_area_sqft(i):\n",
        "  try:\n",
        "    land_area_str=str(i)\n",
        "    if 'acres' in land_area_str:\n",
        "        return int(float(land_area_str.replace(r'acres', '')))*43560\n",
        "    else:\n",
        "        return int(float(land_area_str.replace(r'sqft', '')))\n",
        "  except:\n",
        "      return 0\n"
      ],
      "execution_count": 15,
      "outputs": []
    },
    {
      "cell_type": "code",
      "metadata": {
        "id": "_C1lRWnhxONy"
      },
      "source": [
        "df['get_land_area_sqft']=df['land_area'].apply(lambda x: get_land_area_sqft(x))"
      ],
      "execution_count": 16,
      "outputs": []
    },
    {
      "cell_type": "code",
      "metadata": {
        "colab": {
          "base_uri": "https://localhost:8080/"
        },
        "id": "saWsPa8ftWoA",
        "outputId": "21ca4a2b-d490-41af-bff4-65bb17e504b6"
      },
      "source": [
        "df.isnull().sum(axis = 0)"
      ],
      "execution_count": 17,
      "outputs": [
        {
          "output_type": "execute_result",
          "data": {
            "text/plain": [
              "Unnamed: 0              0\n",
              "rank                    0\n",
              "property_id             0\n",
              "address                 0\n",
              "latitude                6\n",
              "longitude               6\n",
              "price                   0\n",
              "currency                0\n",
              "bathrooms              87\n",
              "bedrooms               84\n",
              "area                    0\n",
              "land_area             380\n",
              "zestimate             134\n",
              "rent_zestimate         42\n",
              "days_on_zillow          0\n",
              "sold_date             464\n",
              "is_zillow_owned         0\n",
              "image                   0\n",
              "listing_type            0\n",
              "broker_name           192\n",
              "input                   0\n",
              "property_url            0\n",
              "listing_url             0\n",
              "hoa                     0\n",
              "City                    0\n",
              "get_land_area_sqft      0\n",
              "dtype: int64"
            ]
          },
          "metadata": {},
          "execution_count": 17
        }
      ]
    },
    {
      "cell_type": "code",
      "metadata": {
        "id": "rkt6_gpBtv_t"
      },
      "source": [
        "df['bathrooms'].fillna((df['bathrooms'].mean()), inplace=True)"
      ],
      "execution_count": 18,
      "outputs": []
    },
    {
      "cell_type": "code",
      "metadata": {
        "id": "PF4CEJaruLoO"
      },
      "source": [
        "df['bedrooms'].fillna((df['bedrooms'].mean()), inplace=True)"
      ],
      "execution_count": 19,
      "outputs": []
    },
    {
      "cell_type": "code",
      "metadata": {
        "id": "RESwzyKO2sP2"
      },
      "source": [
        "df['zestimate'].fillna((df['zestimate'].mean()), inplace=True)"
      ],
      "execution_count": 20,
      "outputs": []
    },
    {
      "cell_type": "code",
      "metadata": {
        "id": "-XxnEznz2wpy"
      },
      "source": [
        "df['rent_zestimate'].fillna((df['rent_zestimate'].mean()), inplace=True)"
      ],
      "execution_count": 21,
      "outputs": []
    },
    {
      "cell_type": "code",
      "metadata": {
        "colab": {
          "base_uri": "https://localhost:8080/"
        },
        "id": "5cskel-hv1Ir",
        "outputId": "52c7ca10-4724-4031-885e-3dd99b7175f5"
      },
      "source": [
        "type(df['land_area'])"
      ],
      "execution_count": 22,
      "outputs": [
        {
          "output_type": "execute_result",
          "data": {
            "text/plain": [
              "pandas.core.series.Series"
            ]
          },
          "metadata": {},
          "execution_count": 22
        }
      ]
    },
    {
      "cell_type": "code",
      "metadata": {
        "colab": {
          "base_uri": "https://localhost:8080/"
        },
        "id": "ILzzmq1buNz2",
        "outputId": "22bbed60-0995-4ab6-9199-991f8c7fddfb"
      },
      "source": [
        "df.isnull().sum(axis = 0)"
      ],
      "execution_count": 23,
      "outputs": [
        {
          "output_type": "execute_result",
          "data": {
            "text/plain": [
              "Unnamed: 0              0\n",
              "rank                    0\n",
              "property_id             0\n",
              "address                 0\n",
              "latitude                6\n",
              "longitude               6\n",
              "price                   0\n",
              "currency                0\n",
              "bathrooms               0\n",
              "bedrooms                0\n",
              "area                    0\n",
              "land_area             380\n",
              "zestimate               0\n",
              "rent_zestimate          0\n",
              "days_on_zillow          0\n",
              "sold_date             464\n",
              "is_zillow_owned         0\n",
              "image                   0\n",
              "listing_type            0\n",
              "broker_name           192\n",
              "input                   0\n",
              "property_url            0\n",
              "listing_url             0\n",
              "hoa                     0\n",
              "City                    0\n",
              "get_land_area_sqft      0\n",
              "dtype: int64"
            ]
          },
          "metadata": {},
          "execution_count": 23
        }
      ]
    },
    {
      "cell_type": "code",
      "metadata": {
        "colab": {
          "base_uri": "https://localhost:8080/"
        },
        "id": "zaHPp-NLuPMA",
        "outputId": "4be6167e-d701-4e37-889c-6337c39efeb9"
      },
      "source": [
        "df.columns"
      ],
      "execution_count": 24,
      "outputs": [
        {
          "output_type": "execute_result",
          "data": {
            "text/plain": [
              "Index(['Unnamed: 0', 'rank', 'property_id', 'address', 'latitude', 'longitude',\n",
              "       'price', 'currency', 'bathrooms', 'bedrooms', 'area', 'land_area',\n",
              "       'zestimate', 'rent_zestimate', 'days_on_zillow', 'sold_date',\n",
              "       'is_zillow_owned', 'image', 'listing_type', 'broker_name', 'input',\n",
              "       'property_url', 'listing_url', 'hoa', 'City', 'get_land_area_sqft'],\n",
              "      dtype='object')"
            ]
          },
          "metadata": {},
          "execution_count": 24
        }
      ]
    },
    {
      "cell_type": "code",
      "metadata": {
        "id": "KjHxkGdD22NE"
      },
      "source": [
        "df=df[['City','rank', 'latitude', 'longitude',\n",
        "       'price', 'bathrooms', 'bedrooms', 'area',\n",
        "       'zestimate', 'rent_zestimate', 'days_on_zillow',\n",
        "       'is_zillow_owned', 'hoa', 'get_land_area_sqft']]"
      ],
      "execution_count": 25,
      "outputs": []
    },
    {
      "cell_type": "code",
      "metadata": {
        "id": "ciV0gc4r4IHf"
      },
      "source": [
        "def get_monthly_mortage(price):\n",
        "  return price//180"
      ],
      "execution_count": 26,
      "outputs": []
    },
    {
      "cell_type": "markdown",
      "metadata": {
        "id": "hn5ZEQiNJ2mY"
      },
      "source": [
        "**As a part of data preparation and feature transformation, I converted area from acres to square feet & also, computed mortgage per month.**\n"
      ]
    },
    {
      "cell_type": "code",
      "metadata": {
        "colab": {
          "base_uri": "https://localhost:8080/"
        },
        "id": "jznYO7Rg3PUD",
        "outputId": "69cf2791-5d79-4a3a-f2ee-a1801e81cac0"
      },
      "source": [
        "df['mortage_per_month']=df['price'].apply(lambda x: get_monthly_mortage(x))"
      ],
      "execution_count": 27,
      "outputs": [
        {
          "output_type": "stream",
          "name": "stderr",
          "text": [
            "/usr/local/lib/python3.7/dist-packages/ipykernel_launcher.py:1: SettingWithCopyWarning: \n",
            "A value is trying to be set on a copy of a slice from a DataFrame.\n",
            "Try using .loc[row_indexer,col_indexer] = value instead\n",
            "\n",
            "See the caveats in the documentation: https://pandas.pydata.org/pandas-docs/stable/user_guide/indexing.html#returning-a-view-versus-a-copy\n",
            "  \"\"\"Entry point for launching an IPython kernel.\n"
          ]
        }
      ]
    },
    {
      "cell_type": "code",
      "metadata": {
        "colab": {
          "base_uri": "https://localhost:8080/",
          "height": 439
        },
        "id": "OFkpauqR31DB",
        "outputId": "556002d4-d8f2-40e3-dbbe-c5a107c035d1"
      },
      "source": [
        "df"
      ],
      "execution_count": 28,
      "outputs": [
        {
          "output_type": "execute_result",
          "data": {
            "text/html": [
              "<div>\n",
              "<style scoped>\n",
              "    .dataframe tbody tr th:only-of-type {\n",
              "        vertical-align: middle;\n",
              "    }\n",
              "\n",
              "    .dataframe tbody tr th {\n",
              "        vertical-align: top;\n",
              "    }\n",
              "\n",
              "    .dataframe thead th {\n",
              "        text-align: right;\n",
              "    }\n",
              "</style>\n",
              "<table border=\"1\" class=\"dataframe\">\n",
              "  <thead>\n",
              "    <tr style=\"text-align: right;\">\n",
              "      <th></th>\n",
              "      <th>City</th>\n",
              "      <th>rank</th>\n",
              "      <th>latitude</th>\n",
              "      <th>longitude</th>\n",
              "      <th>price</th>\n",
              "      <th>bathrooms</th>\n",
              "      <th>bedrooms</th>\n",
              "      <th>area</th>\n",
              "      <th>zestimate</th>\n",
              "      <th>rent_zestimate</th>\n",
              "      <th>days_on_zillow</th>\n",
              "      <th>is_zillow_owned</th>\n",
              "      <th>hoa</th>\n",
              "      <th>get_land_area_sqft</th>\n",
              "      <th>mortage_per_month</th>\n",
              "    </tr>\n",
              "  </thead>\n",
              "  <tbody>\n",
              "    <tr>\n",
              "      <th>0</th>\n",
              "      <td>Encinitas</td>\n",
              "      <td>24</td>\n",
              "      <td>33.058939</td>\n",
              "      <td>-117.291904</td>\n",
              "      <td>2799900.0</td>\n",
              "      <td>4.000000</td>\n",
              "      <td>4.000000</td>\n",
              "      <td>3164</td>\n",
              "      <td>2.951100e+06</td>\n",
              "      <td>8486.0</td>\n",
              "      <td>9.0</td>\n",
              "      <td>False</td>\n",
              "      <td>0</td>\n",
              "      <td>0</td>\n",
              "      <td>15555.0</td>\n",
              "    </tr>\n",
              "    <tr>\n",
              "      <th>1</th>\n",
              "      <td>Carlsbad</td>\n",
              "      <td>105</td>\n",
              "      <td>33.154925</td>\n",
              "      <td>-117.323344</td>\n",
              "      <td>1695000.0</td>\n",
              "      <td>2.000000</td>\n",
              "      <td>4.000000</td>\n",
              "      <td>2132</td>\n",
              "      <td>1.714700e+06</td>\n",
              "      <td>3200.0</td>\n",
              "      <td>63.0</td>\n",
              "      <td>False</td>\n",
              "      <td>0</td>\n",
              "      <td>0</td>\n",
              "      <td>9416.0</td>\n",
              "    </tr>\n",
              "    <tr>\n",
              "      <th>2</th>\n",
              "      <td>Del Mar</td>\n",
              "      <td>12</td>\n",
              "      <td>32.952728</td>\n",
              "      <td>-117.265247</td>\n",
              "      <td>3200000.0</td>\n",
              "      <td>3.000000</td>\n",
              "      <td>5.000000</td>\n",
              "      <td>2730</td>\n",
              "      <td>1.946873e+06</td>\n",
              "      <td>10645.0</td>\n",
              "      <td>36.0</td>\n",
              "      <td>False</td>\n",
              "      <td>0</td>\n",
              "      <td>0</td>\n",
              "      <td>17777.0</td>\n",
              "    </tr>\n",
              "    <tr>\n",
              "      <th>3</th>\n",
              "      <td>Escondido</td>\n",
              "      <td>152</td>\n",
              "      <td>33.106495</td>\n",
              "      <td>-117.131045</td>\n",
              "      <td>724900.0</td>\n",
              "      <td>3.000000</td>\n",
              "      <td>3.000000</td>\n",
              "      <td>1686</td>\n",
              "      <td>7.396000e+05</td>\n",
              "      <td>3200.0</td>\n",
              "      <td>50.0</td>\n",
              "      <td>False</td>\n",
              "      <td>240</td>\n",
              "      <td>0</td>\n",
              "      <td>4027.0</td>\n",
              "    </tr>\n",
              "    <tr>\n",
              "      <th>4</th>\n",
              "      <td>Carlsbad</td>\n",
              "      <td>15</td>\n",
              "      <td>33.163764</td>\n",
              "      <td>-117.312317</td>\n",
              "      <td>1250000.0</td>\n",
              "      <td>3.000000</td>\n",
              "      <td>3.000000</td>\n",
              "      <td>1855</td>\n",
              "      <td>1.045000e+06</td>\n",
              "      <td>3896.0</td>\n",
              "      <td>1.0</td>\n",
              "      <td>False</td>\n",
              "      <td>0</td>\n",
              "      <td>0</td>\n",
              "      <td>6944.0</td>\n",
              "    </tr>\n",
              "    <tr>\n",
              "      <th>...</th>\n",
              "      <td>...</td>\n",
              "      <td>...</td>\n",
              "      <td>...</td>\n",
              "      <td>...</td>\n",
              "      <td>...</td>\n",
              "      <td>...</td>\n",
              "      <td>...</td>\n",
              "      <td>...</td>\n",
              "      <td>...</td>\n",
              "      <td>...</td>\n",
              "      <td>...</td>\n",
              "      <td>...</td>\n",
              "      <td>...</td>\n",
              "      <td>...</td>\n",
              "      <td>...</td>\n",
              "    </tr>\n",
              "    <tr>\n",
              "      <th>459</th>\n",
              "      <td>Encinitas</td>\n",
              "      <td>38</td>\n",
              "      <td>33.039015</td>\n",
              "      <td>-117.291016</td>\n",
              "      <td>1599900.0</td>\n",
              "      <td>2.000000</td>\n",
              "      <td>3.000000</td>\n",
              "      <td>1380</td>\n",
              "      <td>1.646000e+06</td>\n",
              "      <td>5602.0</td>\n",
              "      <td>23.0</td>\n",
              "      <td>False</td>\n",
              "      <td>150</td>\n",
              "      <td>0</td>\n",
              "      <td>8888.0</td>\n",
              "    </tr>\n",
              "    <tr>\n",
              "      <th>460</th>\n",
              "      <td>Escondido</td>\n",
              "      <td>7</td>\n",
              "      <td>33.095877</td>\n",
              "      <td>-117.074769</td>\n",
              "      <td>789000.0</td>\n",
              "      <td>2.000000</td>\n",
              "      <td>4.000000</td>\n",
              "      <td>1727</td>\n",
              "      <td>7.939000e+05</td>\n",
              "      <td>3200.0</td>\n",
              "      <td>1.0</td>\n",
              "      <td>False</td>\n",
              "      <td>0</td>\n",
              "      <td>0</td>\n",
              "      <td>4383.0</td>\n",
              "    </tr>\n",
              "    <tr>\n",
              "      <th>461</th>\n",
              "      <td>Escondido</td>\n",
              "      <td>96</td>\n",
              "      <td>33.086987</td>\n",
              "      <td>-117.103090</td>\n",
              "      <td>1575000.0</td>\n",
              "      <td>3.000000</td>\n",
              "      <td>4.000000</td>\n",
              "      <td>2542</td>\n",
              "      <td>1.585300e+06</td>\n",
              "      <td>4500.0</td>\n",
              "      <td>15.0</td>\n",
              "      <td>False</td>\n",
              "      <td>0</td>\n",
              "      <td>0</td>\n",
              "      <td>8750.0</td>\n",
              "    </tr>\n",
              "    <tr>\n",
              "      <th>462</th>\n",
              "      <td>Escondido</td>\n",
              "      <td>192</td>\n",
              "      <td>33.117963</td>\n",
              "      <td>-117.025938</td>\n",
              "      <td>499000.0</td>\n",
              "      <td>2.994695</td>\n",
              "      <td>3.310526</td>\n",
              "      <td>0</td>\n",
              "      <td>1.946873e+06</td>\n",
              "      <td>1895.0</td>\n",
              "      <td>106.0</td>\n",
              "      <td>False</td>\n",
              "      <td>0</td>\n",
              "      <td>435600</td>\n",
              "      <td>2772.0</td>\n",
              "    </tr>\n",
              "    <tr>\n",
              "      <th>463</th>\n",
              "      <td>Escondido</td>\n",
              "      <td>142</td>\n",
              "      <td>33.070442</td>\n",
              "      <td>-117.101298</td>\n",
              "      <td>2859000.0</td>\n",
              "      <td>5.000000</td>\n",
              "      <td>4.000000</td>\n",
              "      <td>5947</td>\n",
              "      <td>2.860400e+06</td>\n",
              "      <td>9577.0</td>\n",
              "      <td>43.0</td>\n",
              "      <td>False</td>\n",
              "      <td>0</td>\n",
              "      <td>0</td>\n",
              "      <td>15883.0</td>\n",
              "    </tr>\n",
              "  </tbody>\n",
              "</table>\n",
              "<p>464 rows × 15 columns</p>\n",
              "</div>"
            ],
            "text/plain": [
              "          City  rank   latitude  ...  hoa  get_land_area_sqft  mortage_per_month\n",
              "0    Encinitas    24  33.058939  ...    0                   0            15555.0\n",
              "1     Carlsbad   105  33.154925  ...    0                   0             9416.0\n",
              "2      Del Mar    12  32.952728  ...    0                   0            17777.0\n",
              "3    Escondido   152  33.106495  ...  240                   0             4027.0\n",
              "4     Carlsbad    15  33.163764  ...    0                   0             6944.0\n",
              "..         ...   ...        ...  ...  ...                 ...                ...\n",
              "459  Encinitas    38  33.039015  ...  150                   0             8888.0\n",
              "460  Escondido     7  33.095877  ...    0                   0             4383.0\n",
              "461  Escondido    96  33.086987  ...    0                   0             8750.0\n",
              "462  Escondido   192  33.117963  ...    0              435600             2772.0\n",
              "463  Escondido   142  33.070442  ...    0                   0            15883.0\n",
              "\n",
              "[464 rows x 15 columns]"
            ]
          },
          "metadata": {},
          "execution_count": 28
        }
      ]
    },
    {
      "cell_type": "markdown",
      "metadata": {
        "id": "YX0BUbTiKWQl"
      },
      "source": [
        "**Adding another feature 'Useful', which depicts if a property is profitable.**\n",
        "\n",
        "\n",
        "**1--> Property is profitable**\n",
        "**0--> Non-profitable property**"
      ]
    },
    {
      "cell_type": "code",
      "metadata": {
        "colab": {
          "base_uri": "https://localhost:8080/"
        },
        "id": "geiqEHrT4W_V",
        "outputId": "6e18cae8-e886-40c9-8ac2-9a3ec86c7177"
      },
      "source": [
        "df['Useful']=df['rent_zestimate']-df['mortage_per_month']-df['hoa']>0"
      ],
      "execution_count": 29,
      "outputs": [
        {
          "output_type": "stream",
          "name": "stderr",
          "text": [
            "/usr/local/lib/python3.7/dist-packages/ipykernel_launcher.py:1: SettingWithCopyWarning: \n",
            "A value is trying to be set on a copy of a slice from a DataFrame.\n",
            "Try using .loc[row_indexer,col_indexer] = value instead\n",
            "\n",
            "See the caveats in the documentation: https://pandas.pydata.org/pandas-docs/stable/user_guide/indexing.html#returning-a-view-versus-a-copy\n",
            "  \"\"\"Entry point for launching an IPython kernel.\n"
          ]
        }
      ]
    },
    {
      "cell_type": "code",
      "metadata": {
        "id": "8jBeeF4dKdeX"
      },
      "source": [
        "df2=pd.read_excel('california.xls',header=4)"
      ],
      "execution_count": 30,
      "outputs": []
    },
    {
      "cell_type": "code",
      "metadata": {
        "colab": {
          "base_uri": "https://localhost:8080/"
        },
        "id": "FqH_MK79KzHM",
        "outputId": "1e1269c8-37ec-4018-c2b3-15de4366d542"
      },
      "source": [
        "df2.columns"
      ],
      "execution_count": 31,
      "outputs": [
        {
          "output_type": "execute_result",
          "data": {
            "text/plain": [
              "Index(['City', 'Population', 'Violent\\ncrime',\n",
              "       'Murder and\\nnonnegligent\\nmanslaughter', 'Rape1', 'Robbery',\n",
              "       'Aggravated\\nassault', 'Property\\ncrime', 'Burglary', 'Larceny-\\ntheft',\n",
              "       'Motor\\nvehicle\\ntheft', 'Arson'],\n",
              "      dtype='object')"
            ]
          },
          "metadata": {},
          "execution_count": 31
        }
      ]
    },
    {
      "cell_type": "markdown",
      "metadata": {
        "id": "iVfzNaqEKnq1"
      },
      "source": [
        "### **Data Amalgamation:**\n",
        "\n",
        "Donwloaded Crime dataset, and performed amalgamation of features like population of cityand total number of crime reports in the city."
      ]
    },
    {
      "cell_type": "code",
      "metadata": {
        "id": "sXQcdBabLZ1K"
      },
      "source": [
        "col_names=['City', 'Population', 'Violent',\n",
        "       'Murder', 'Rape', 'Robbery',\n",
        "       'AggravatedAssault', 'PropertyCrime', 'Burglary', 'LarcenTheft',\n",
        "       'MotorVehicleTheft', 'Arson']"
      ],
      "execution_count": 32,
      "outputs": []
    },
    {
      "cell_type": "code",
      "metadata": {
        "id": "N_69dQmOLmYC"
      },
      "source": [
        "df2.columns=col_names"
      ],
      "execution_count": 33,
      "outputs": []
    },
    {
      "cell_type": "code",
      "metadata": {
        "id": "Ag_ZYocaLofF"
      },
      "source": [
        "df2['Total_Crime']=df2['Violent']+df2['Murder']+df2['Population']+df2['Rape']+df2['Robbery']+df2['AggravatedAssault']+df2['PropertyCrime']+df2['Burglary']+df2['LarcenTheft']+df2['MotorVehicleTheft']+df2['Arson']\n",
        "   "
      ],
      "execution_count": 34,
      "outputs": []
    },
    {
      "cell_type": "code",
      "metadata": {
        "id": "AJE7foeyM1Z1"
      },
      "source": [
        "df2=df2[['City','Population','Total_Crime']]"
      ],
      "execution_count": 35,
      "outputs": []
    },
    {
      "cell_type": "code",
      "metadata": {
        "id": "qrOlGXXDNDsx"
      },
      "source": [
        "df=pd.merge(df, df2, on=[\"City\"])\n"
      ],
      "execution_count": 36,
      "outputs": []
    },
    {
      "cell_type": "code",
      "metadata": {
        "colab": {
          "base_uri": "https://localhost:8080/"
        },
        "id": "jPkrBFHW59Qs",
        "outputId": "3c780c55-0167-44c8-db0c-8e9f36b6a426"
      },
      "source": [
        "df.isnull().sum(axis = 0)"
      ],
      "execution_count": 37,
      "outputs": [
        {
          "output_type": "execute_result",
          "data": {
            "text/plain": [
              "City                  0\n",
              "rank                  0\n",
              "latitude              6\n",
              "longitude             6\n",
              "price                 0\n",
              "bathrooms             0\n",
              "bedrooms              0\n",
              "area                  0\n",
              "zestimate             0\n",
              "rent_zestimate        0\n",
              "days_on_zillow        0\n",
              "is_zillow_owned       0\n",
              "hoa                   0\n",
              "get_land_area_sqft    0\n",
              "mortage_per_month     0\n",
              "Useful                0\n",
              "Population            0\n",
              "Total_Crime           0\n",
              "dtype: int64"
            ]
          },
          "metadata": {},
          "execution_count": 37
        }
      ]
    },
    {
      "cell_type": "code",
      "metadata": {
        "id": "oBaZfzJX6G2v"
      },
      "source": [
        "df['is_zillow_owned']=df['is_zillow_owned'].astype(int)"
      ],
      "execution_count": 38,
      "outputs": []
    },
    {
      "cell_type": "code",
      "metadata": {
        "id": "2cByhORl6lf0"
      },
      "source": [
        "df['Useful']=df['Useful'].astype(int)"
      ],
      "execution_count": 39,
      "outputs": []
    },
    {
      "cell_type": "code",
      "metadata": {
        "colab": {
          "base_uri": "https://localhost:8080/"
        },
        "id": "kLhbwkej6Qpm",
        "outputId": "b117d6d8-ae97-4a7c-e02a-7b851dc00ba3"
      },
      "source": [
        "df.Useful.value_counts()"
      ],
      "execution_count": 40,
      "outputs": [
        {
          "output_type": "execute_result",
          "data": {
            "text/plain": [
              "0    367\n",
              "1     97\n",
              "Name: Useful, dtype: int64"
            ]
          },
          "metadata": {},
          "execution_count": 40
        }
      ]
    },
    {
      "cell_type": "code",
      "metadata": {
        "colab": {
          "base_uri": "https://localhost:8080/",
          "height": 439
        },
        "id": "Aq-dFlmu6S61",
        "outputId": "cf0fe02f-78cc-4fa6-c51f-d9b2b700c608"
      },
      "source": [
        "df"
      ],
      "execution_count": 41,
      "outputs": [
        {
          "output_type": "execute_result",
          "data": {
            "text/html": [
              "<div>\n",
              "<style scoped>\n",
              "    .dataframe tbody tr th:only-of-type {\n",
              "        vertical-align: middle;\n",
              "    }\n",
              "\n",
              "    .dataframe tbody tr th {\n",
              "        vertical-align: top;\n",
              "    }\n",
              "\n",
              "    .dataframe thead th {\n",
              "        text-align: right;\n",
              "    }\n",
              "</style>\n",
              "<table border=\"1\" class=\"dataframe\">\n",
              "  <thead>\n",
              "    <tr style=\"text-align: right;\">\n",
              "      <th></th>\n",
              "      <th>City</th>\n",
              "      <th>rank</th>\n",
              "      <th>latitude</th>\n",
              "      <th>longitude</th>\n",
              "      <th>price</th>\n",
              "      <th>bathrooms</th>\n",
              "      <th>bedrooms</th>\n",
              "      <th>area</th>\n",
              "      <th>zestimate</th>\n",
              "      <th>rent_zestimate</th>\n",
              "      <th>days_on_zillow</th>\n",
              "      <th>is_zillow_owned</th>\n",
              "      <th>hoa</th>\n",
              "      <th>get_land_area_sqft</th>\n",
              "      <th>mortage_per_month</th>\n",
              "      <th>Useful</th>\n",
              "      <th>Population</th>\n",
              "      <th>Total_Crime</th>\n",
              "    </tr>\n",
              "  </thead>\n",
              "  <tbody>\n",
              "    <tr>\n",
              "      <th>0</th>\n",
              "      <td>Encinitas</td>\n",
              "      <td>24</td>\n",
              "      <td>33.058939</td>\n",
              "      <td>-117.291904</td>\n",
              "      <td>2799900.0</td>\n",
              "      <td>4.000000</td>\n",
              "      <td>4.000000</td>\n",
              "      <td>3164</td>\n",
              "      <td>2.951100e+06</td>\n",
              "      <td>8486.0</td>\n",
              "      <td>9.0</td>\n",
              "      <td>0</td>\n",
              "      <td>0</td>\n",
              "      <td>0</td>\n",
              "      <td>15555.0</td>\n",
              "      <td>0</td>\n",
              "      <td>63320.0</td>\n",
              "      <td>64703.0</td>\n",
              "    </tr>\n",
              "    <tr>\n",
              "      <th>1</th>\n",
              "      <td>Encinitas</td>\n",
              "      <td>92</td>\n",
              "      <td>33.077616</td>\n",
              "      <td>-117.296788</td>\n",
              "      <td>270000.0</td>\n",
              "      <td>2.994695</td>\n",
              "      <td>3.310526</td>\n",
              "      <td>0</td>\n",
              "      <td>1.946873e+06</td>\n",
              "      <td>2694.0</td>\n",
              "      <td>1341.0</td>\n",
              "      <td>0</td>\n",
              "      <td>0</td>\n",
              "      <td>0</td>\n",
              "      <td>1500.0</td>\n",
              "      <td>1</td>\n",
              "      <td>63320.0</td>\n",
              "      <td>64703.0</td>\n",
              "    </tr>\n",
              "    <tr>\n",
              "      <th>2</th>\n",
              "      <td>Encinitas</td>\n",
              "      <td>36</td>\n",
              "      <td>33.055135</td>\n",
              "      <td>-117.300700</td>\n",
              "      <td>5895000.0</td>\n",
              "      <td>4.000000</td>\n",
              "      <td>4.000000</td>\n",
              "      <td>1784</td>\n",
              "      <td>5.769300e+06</td>\n",
              "      <td>9321.0</td>\n",
              "      <td>18.0</td>\n",
              "      <td>0</td>\n",
              "      <td>0</td>\n",
              "      <td>0</td>\n",
              "      <td>32750.0</td>\n",
              "      <td>0</td>\n",
              "      <td>63320.0</td>\n",
              "      <td>64703.0</td>\n",
              "    </tr>\n",
              "    <tr>\n",
              "      <th>3</th>\n",
              "      <td>Encinitas</td>\n",
              "      <td>35</td>\n",
              "      <td>33.055607</td>\n",
              "      <td>-117.299046</td>\n",
              "      <td>3875000.0</td>\n",
              "      <td>2.000000</td>\n",
              "      <td>2.000000</td>\n",
              "      <td>892</td>\n",
              "      <td>3.829780e+06</td>\n",
              "      <td>3499.0</td>\n",
              "      <td>17.0</td>\n",
              "      <td>0</td>\n",
              "      <td>0</td>\n",
              "      <td>0</td>\n",
              "      <td>21527.0</td>\n",
              "      <td>0</td>\n",
              "      <td>63320.0</td>\n",
              "      <td>64703.0</td>\n",
              "    </tr>\n",
              "    <tr>\n",
              "      <th>4</th>\n",
              "      <td>Encinitas</td>\n",
              "      <td>10</td>\n",
              "      <td>33.064152</td>\n",
              "      <td>-117.289877</td>\n",
              "      <td>1200000.0</td>\n",
              "      <td>2.000000</td>\n",
              "      <td>3.000000</td>\n",
              "      <td>1115</td>\n",
              "      <td>1.018600e+06</td>\n",
              "      <td>3940.0</td>\n",
              "      <td>2.0</td>\n",
              "      <td>0</td>\n",
              "      <td>0</td>\n",
              "      <td>0</td>\n",
              "      <td>6666.0</td>\n",
              "      <td>0</td>\n",
              "      <td>63320.0</td>\n",
              "      <td>64703.0</td>\n",
              "    </tr>\n",
              "    <tr>\n",
              "      <th>...</th>\n",
              "      <td>...</td>\n",
              "      <td>...</td>\n",
              "      <td>...</td>\n",
              "      <td>...</td>\n",
              "      <td>...</td>\n",
              "      <td>...</td>\n",
              "      <td>...</td>\n",
              "      <td>...</td>\n",
              "      <td>...</td>\n",
              "      <td>...</td>\n",
              "      <td>...</td>\n",
              "      <td>...</td>\n",
              "      <td>...</td>\n",
              "      <td>...</td>\n",
              "      <td>...</td>\n",
              "      <td>...</td>\n",
              "      <td>...</td>\n",
              "      <td>...</td>\n",
              "    </tr>\n",
              "    <tr>\n",
              "      <th>459</th>\n",
              "      <td>Escondido</td>\n",
              "      <td>186</td>\n",
              "      <td>33.171562</td>\n",
              "      <td>-117.103903</td>\n",
              "      <td>155000.0</td>\n",
              "      <td>2.994695</td>\n",
              "      <td>3.310526</td>\n",
              "      <td>0</td>\n",
              "      <td>1.946873e+06</td>\n",
              "      <td>1694.0</td>\n",
              "      <td>85.0</td>\n",
              "      <td>0</td>\n",
              "      <td>0</td>\n",
              "      <td>43560</td>\n",
              "      <td>861.0</td>\n",
              "      <td>1</td>\n",
              "      <td>153215.0</td>\n",
              "      <td>159041.0</td>\n",
              "    </tr>\n",
              "    <tr>\n",
              "      <th>460</th>\n",
              "      <td>Escondido</td>\n",
              "      <td>7</td>\n",
              "      <td>33.095877</td>\n",
              "      <td>-117.074769</td>\n",
              "      <td>789000.0</td>\n",
              "      <td>2.000000</td>\n",
              "      <td>4.000000</td>\n",
              "      <td>1727</td>\n",
              "      <td>7.939000e+05</td>\n",
              "      <td>3200.0</td>\n",
              "      <td>1.0</td>\n",
              "      <td>0</td>\n",
              "      <td>0</td>\n",
              "      <td>0</td>\n",
              "      <td>4383.0</td>\n",
              "      <td>0</td>\n",
              "      <td>153215.0</td>\n",
              "      <td>159041.0</td>\n",
              "    </tr>\n",
              "    <tr>\n",
              "      <th>461</th>\n",
              "      <td>Escondido</td>\n",
              "      <td>96</td>\n",
              "      <td>33.086987</td>\n",
              "      <td>-117.103090</td>\n",
              "      <td>1575000.0</td>\n",
              "      <td>3.000000</td>\n",
              "      <td>4.000000</td>\n",
              "      <td>2542</td>\n",
              "      <td>1.585300e+06</td>\n",
              "      <td>4500.0</td>\n",
              "      <td>15.0</td>\n",
              "      <td>0</td>\n",
              "      <td>0</td>\n",
              "      <td>0</td>\n",
              "      <td>8750.0</td>\n",
              "      <td>0</td>\n",
              "      <td>153215.0</td>\n",
              "      <td>159041.0</td>\n",
              "    </tr>\n",
              "    <tr>\n",
              "      <th>462</th>\n",
              "      <td>Escondido</td>\n",
              "      <td>192</td>\n",
              "      <td>33.117963</td>\n",
              "      <td>-117.025938</td>\n",
              "      <td>499000.0</td>\n",
              "      <td>2.994695</td>\n",
              "      <td>3.310526</td>\n",
              "      <td>0</td>\n",
              "      <td>1.946873e+06</td>\n",
              "      <td>1895.0</td>\n",
              "      <td>106.0</td>\n",
              "      <td>0</td>\n",
              "      <td>0</td>\n",
              "      <td>435600</td>\n",
              "      <td>2772.0</td>\n",
              "      <td>0</td>\n",
              "      <td>153215.0</td>\n",
              "      <td>159041.0</td>\n",
              "    </tr>\n",
              "    <tr>\n",
              "      <th>463</th>\n",
              "      <td>Escondido</td>\n",
              "      <td>142</td>\n",
              "      <td>33.070442</td>\n",
              "      <td>-117.101298</td>\n",
              "      <td>2859000.0</td>\n",
              "      <td>5.000000</td>\n",
              "      <td>4.000000</td>\n",
              "      <td>5947</td>\n",
              "      <td>2.860400e+06</td>\n",
              "      <td>9577.0</td>\n",
              "      <td>43.0</td>\n",
              "      <td>0</td>\n",
              "      <td>0</td>\n",
              "      <td>0</td>\n",
              "      <td>15883.0</td>\n",
              "      <td>0</td>\n",
              "      <td>153215.0</td>\n",
              "      <td>159041.0</td>\n",
              "    </tr>\n",
              "  </tbody>\n",
              "</table>\n",
              "<p>464 rows × 18 columns</p>\n",
              "</div>"
            ],
            "text/plain": [
              "          City  rank   latitude  ...  Useful  Population  Total_Crime\n",
              "0    Encinitas    24  33.058939  ...       0     63320.0      64703.0\n",
              "1    Encinitas    92  33.077616  ...       1     63320.0      64703.0\n",
              "2    Encinitas    36  33.055135  ...       0     63320.0      64703.0\n",
              "3    Encinitas    35  33.055607  ...       0     63320.0      64703.0\n",
              "4    Encinitas    10  33.064152  ...       0     63320.0      64703.0\n",
              "..         ...   ...        ...  ...     ...         ...          ...\n",
              "459  Escondido   186  33.171562  ...       1    153215.0     159041.0\n",
              "460  Escondido     7  33.095877  ...       0    153215.0     159041.0\n",
              "461  Escondido    96  33.086987  ...       0    153215.0     159041.0\n",
              "462  Escondido   192  33.117963  ...       0    153215.0     159041.0\n",
              "463  Escondido   142  33.070442  ...       0    153215.0     159041.0\n",
              "\n",
              "[464 rows x 18 columns]"
            ]
          },
          "metadata": {},
          "execution_count": 41
        }
      ]
    },
    {
      "cell_type": "markdown",
      "metadata": {
        "id": "E5P7vk7HUo3S"
      },
      "source": [
        "## **3. Data Visualization**\n",
        "\n",
        "\n",
        "**Latent Variables:**\n",
        "\n",
        "1. **hoa**: Added by performing Web scraping using Beautiful Soup.\n",
        "\n",
        "2. mortage_per_month: Computed from price \n",
        "\n",
        "3. Useful: Computed using above latent variables and cloumns from existing dataset. It depicts if property is profitable\n",
        "\n",
        "4. Population & total_crime: Added using amalgamation of crime dataset\n",
        "\n"
      ]
    },
    {
      "cell_type": "code",
      "metadata": {
        "colab": {
          "base_uri": "https://localhost:8080/",
          "height": 703
        },
        "id": "Xya-ahl26TiP",
        "outputId": "7acd0925-6030-49b8-8ff3-dd53417d17e8"
      },
      "source": [
        "import seaborn as sb\n",
        "\n",
        "pearsoncorr=df.corr()\n",
        "plt.figure(1,figsize=(10,10))\n",
        "sb.heatmap(pearsoncorr, \n",
        "            xticklabels=pearsoncorr.columns,\n",
        "            yticklabels=pearsoncorr.columns,\n",
        "            cmap='RdBu_r',\n",
        "            annot=True,\n",
        "            linewidth=0.5)"
      ],
      "execution_count": 42,
      "outputs": [
        {
          "output_type": "execute_result",
          "data": {
            "text/plain": [
              "<matplotlib.axes._subplots.AxesSubplot at 0x7f68174e02d0>"
            ]
          },
          "metadata": {},
          "execution_count": 42
        },
        {
          "output_type": "display_data",
          "data": {
            "image/png": "[encoded data removed]",
            "text/plain": [
              "<Figure size 720x720 with 2 Axes>"
            ]
          },
          "metadata": {
            "needs_background": "light"
          }
        }
      ]
    },
    {
      "cell_type": "code",
      "metadata": {
        "colab": {
          "base_uri": "https://localhost:8080/",
          "height": 439
        },
        "id": "jtik9xGg-qq9",
        "outputId": "5ec1bce3-820c-4243-9f2a-5f5ba1f98143"
      },
      "source": [
        "df"
      ],
      "execution_count": 43,
      "outputs": [
        {
          "output_type": "execute_result",
          "data": {
            "text/html": [
              "<div>\n",
              "<style scoped>\n",
              "    .dataframe tbody tr th:only-of-type {\n",
              "        vertical-align: middle;\n",
              "    }\n",
              "\n",
              "    .dataframe tbody tr th {\n",
              "        vertical-align: top;\n",
              "    }\n",
              "\n",
              "    .dataframe thead th {\n",
              "        text-align: right;\n",
              "    }\n",
              "</style>\n",
              "<table border=\"1\" class=\"dataframe\">\n",
              "  <thead>\n",
              "    <tr style=\"text-align: right;\">\n",
              "      <th></th>\n",
              "      <th>City</th>\n",
              "      <th>rank</th>\n",
              "      <th>latitude</th>\n",
              "      <th>longitude</th>\n",
              "      <th>price</th>\n",
              "      <th>bathrooms</th>\n",
              "      <th>bedrooms</th>\n",
              "      <th>area</th>\n",
              "      <th>zestimate</th>\n",
              "      <th>rent_zestimate</th>\n",
              "      <th>days_on_zillow</th>\n",
              "      <th>is_zillow_owned</th>\n",
              "      <th>hoa</th>\n",
              "      <th>get_land_area_sqft</th>\n",
              "      <th>mortage_per_month</th>\n",
              "      <th>Useful</th>\n",
              "      <th>Population</th>\n",
              "      <th>Total_Crime</th>\n",
              "    </tr>\n",
              "  </thead>\n",
              "  <tbody>\n",
              "    <tr>\n",
              "      <th>0</th>\n",
              "      <td>Encinitas</td>\n",
              "      <td>24</td>\n",
              "      <td>33.058939</td>\n",
              "      <td>-117.291904</td>\n",
              "      <td>2799900.0</td>\n",
              "      <td>4.000000</td>\n",
              "      <td>4.000000</td>\n",
              "      <td>3164</td>\n",
              "      <td>2.951100e+06</td>\n",
              "      <td>8486.0</td>\n",
              "      <td>9.0</td>\n",
              "      <td>0</td>\n",
              "      <td>0</td>\n",
              "      <td>0</td>\n",
              "      <td>15555.0</td>\n",
              "      <td>0</td>\n",
              "      <td>63320.0</td>\n",
              "      <td>64703.0</td>\n",
              "    </tr>\n",
              "    <tr>\n",
              "      <th>1</th>\n",
              "      <td>Encinitas</td>\n",
              "      <td>92</td>\n",
              "      <td>33.077616</td>\n",
              "      <td>-117.296788</td>\n",
              "      <td>270000.0</td>\n",
              "      <td>2.994695</td>\n",
              "      <td>3.310526</td>\n",
              "      <td>0</td>\n",
              "      <td>1.946873e+06</td>\n",
              "      <td>2694.0</td>\n",
              "      <td>1341.0</td>\n",
              "      <td>0</td>\n",
              "      <td>0</td>\n",
              "      <td>0</td>\n",
              "      <td>1500.0</td>\n",
              "      <td>1</td>\n",
              "      <td>63320.0</td>\n",
              "      <td>64703.0</td>\n",
              "    </tr>\n",
              "    <tr>\n",
              "      <th>2</th>\n",
              "      <td>Encinitas</td>\n",
              "      <td>36</td>\n",
              "      <td>33.055135</td>\n",
              "      <td>-117.300700</td>\n",
              "      <td>5895000.0</td>\n",
              "      <td>4.000000</td>\n",
              "      <td>4.000000</td>\n",
              "      <td>1784</td>\n",
              "      <td>5.769300e+06</td>\n",
              "      <td>9321.0</td>\n",
              "      <td>18.0</td>\n",
              "      <td>0</td>\n",
              "      <td>0</td>\n",
              "      <td>0</td>\n",
              "      <td>32750.0</td>\n",
              "      <td>0</td>\n",
              "      <td>63320.0</td>\n",
              "      <td>64703.0</td>\n",
              "    </tr>\n",
              "    <tr>\n",
              "      <th>3</th>\n",
              "      <td>Encinitas</td>\n",
              "      <td>35</td>\n",
              "      <td>33.055607</td>\n",
              "      <td>-117.299046</td>\n",
              "      <td>3875000.0</td>\n",
              "      <td>2.000000</td>\n",
              "      <td>2.000000</td>\n",
              "      <td>892</td>\n",
              "      <td>3.829780e+06</td>\n",
              "      <td>3499.0</td>\n",
              "      <td>17.0</td>\n",
              "      <td>0</td>\n",
              "      <td>0</td>\n",
              "      <td>0</td>\n",
              "      <td>21527.0</td>\n",
              "      <td>0</td>\n",
              "      <td>63320.0</td>\n",
              "      <td>64703.0</td>\n",
              "    </tr>\n",
              "    <tr>\n",
              "      <th>4</th>\n",
              "      <td>Encinitas</td>\n",
              "      <td>10</td>\n",
              "      <td>33.064152</td>\n",
              "      <td>-117.289877</td>\n",
              "      <td>1200000.0</td>\n",
              "      <td>2.000000</td>\n",
              "      <td>3.000000</td>\n",
              "      <td>1115</td>\n",
              "      <td>1.018600e+06</td>\n",
              "      <td>3940.0</td>\n",
              "      <td>2.0</td>\n",
              "      <td>0</td>\n",
              "      <td>0</td>\n",
              "      <td>0</td>\n",
              "      <td>6666.0</td>\n",
              "      <td>0</td>\n",
              "      <td>63320.0</td>\n",
              "      <td>64703.0</td>\n",
              "    </tr>\n",
              "    <tr>\n",
              "      <th>...</th>\n",
              "      <td>...</td>\n",
              "      <td>...</td>\n",
              "      <td>...</td>\n",
              "      <td>...</td>\n",
              "      <td>...</td>\n",
              "      <td>...</td>\n",
              "      <td>...</td>\n",
              "      <td>...</td>\n",
              "      <td>...</td>\n",
              "      <td>...</td>\n",
              "      <td>...</td>\n",
              "      <td>...</td>\n",
              "      <td>...</td>\n",
              "      <td>...</td>\n",
              "      <td>...</td>\n",
              "      <td>...</td>\n",
              "      <td>...</td>\n",
              "      <td>...</td>\n",
              "    </tr>\n",
              "    <tr>\n",
              "      <th>459</th>\n",
              "      <td>Escondido</td>\n",
              "      <td>186</td>\n",
              "      <td>33.171562</td>\n",
              "      <td>-117.103903</td>\n",
              "      <td>155000.0</td>\n",
              "      <td>2.994695</td>\n",
              "      <td>3.310526</td>\n",
              "      <td>0</td>\n",
              "      <td>1.946873e+06</td>\n",
              "      <td>1694.0</td>\n",
              "      <td>85.0</td>\n",
              "      <td>0</td>\n",
              "      <td>0</td>\n",
              "      <td>43560</td>\n",
              "      <td>861.0</td>\n",
              "      <td>1</td>\n",
              "      <td>153215.0</td>\n",
              "      <td>159041.0</td>\n",
              "    </tr>\n",
              "    <tr>\n",
              "      <th>460</th>\n",
              "      <td>Escondido</td>\n",
              "      <td>7</td>\n",
              "      <td>33.095877</td>\n",
              "      <td>-117.074769</td>\n",
              "      <td>789000.0</td>\n",
              "      <td>2.000000</td>\n",
              "      <td>4.000000</td>\n",
              "      <td>1727</td>\n",
              "      <td>7.939000e+05</td>\n",
              "      <td>3200.0</td>\n",
              "      <td>1.0</td>\n",
              "      <td>0</td>\n",
              "      <td>0</td>\n",
              "      <td>0</td>\n",
              "      <td>4383.0</td>\n",
              "      <td>0</td>\n",
              "      <td>153215.0</td>\n",
              "      <td>159041.0</td>\n",
              "    </tr>\n",
              "    <tr>\n",
              "      <th>461</th>\n",
              "      <td>Escondido</td>\n",
              "      <td>96</td>\n",
              "      <td>33.086987</td>\n",
              "      <td>-117.103090</td>\n",
              "      <td>1575000.0</td>\n",
              "      <td>3.000000</td>\n",
              "      <td>4.000000</td>\n",
              "      <td>2542</td>\n",
              "      <td>1.585300e+06</td>\n",
              "      <td>4500.0</td>\n",
              "      <td>15.0</td>\n",
              "      <td>0</td>\n",
              "      <td>0</td>\n",
              "      <td>0</td>\n",
              "      <td>8750.0</td>\n",
              "      <td>0</td>\n",
              "      <td>153215.0</td>\n",
              "      <td>159041.0</td>\n",
              "    </tr>\n",
              "    <tr>\n",
              "      <th>462</th>\n",
              "      <td>Escondido</td>\n",
              "      <td>192</td>\n",
              "      <td>33.117963</td>\n",
              "      <td>-117.025938</td>\n",
              "      <td>499000.0</td>\n",
              "      <td>2.994695</td>\n",
              "      <td>3.310526</td>\n",
              "      <td>0</td>\n",
              "      <td>1.946873e+06</td>\n",
              "      <td>1895.0</td>\n",
              "      <td>106.0</td>\n",
              "      <td>0</td>\n",
              "      <td>0</td>\n",
              "      <td>435600</td>\n",
              "      <td>2772.0</td>\n",
              "      <td>0</td>\n",
              "      <td>153215.0</td>\n",
              "      <td>159041.0</td>\n",
              "    </tr>\n",
              "    <tr>\n",
              "      <th>463</th>\n",
              "      <td>Escondido</td>\n",
              "      <td>142</td>\n",
              "      <td>33.070442</td>\n",
              "      <td>-117.101298</td>\n",
              "      <td>2859000.0</td>\n",
              "      <td>5.000000</td>\n",
              "      <td>4.000000</td>\n",
              "      <td>5947</td>\n",
              "      <td>2.860400e+06</td>\n",
              "      <td>9577.0</td>\n",
              "      <td>43.0</td>\n",
              "      <td>0</td>\n",
              "      <td>0</td>\n",
              "      <td>0</td>\n",
              "      <td>15883.0</td>\n",
              "      <td>0</td>\n",
              "      <td>153215.0</td>\n",
              "      <td>159041.0</td>\n",
              "    </tr>\n",
              "  </tbody>\n",
              "</table>\n",
              "<p>464 rows × 18 columns</p>\n",
              "</div>"
            ],
            "text/plain": [
              "          City  rank   latitude  ...  Useful  Population  Total_Crime\n",
              "0    Encinitas    24  33.058939  ...       0     63320.0      64703.0\n",
              "1    Encinitas    92  33.077616  ...       1     63320.0      64703.0\n",
              "2    Encinitas    36  33.055135  ...       0     63320.0      64703.0\n",
              "3    Encinitas    35  33.055607  ...       0     63320.0      64703.0\n",
              "4    Encinitas    10  33.064152  ...       0     63320.0      64703.0\n",
              "..         ...   ...        ...  ...     ...         ...          ...\n",
              "459  Escondido   186  33.171562  ...       1    153215.0     159041.0\n",
              "460  Escondido     7  33.095877  ...       0    153215.0     159041.0\n",
              "461  Escondido    96  33.086987  ...       0    153215.0     159041.0\n",
              "462  Escondido   192  33.117963  ...       0    153215.0     159041.0\n",
              "463  Escondido   142  33.070442  ...       0    153215.0     159041.0\n",
              "\n",
              "[464 rows x 18 columns]"
            ]
          },
          "metadata": {},
          "execution_count": 43
        }
      ]
    },
    {
      "cell_type": "code",
      "metadata": {
        "colab": {
          "base_uri": "https://localhost:8080/"
        },
        "id": "j_HFfsRy-5UA",
        "outputId": "26bd98f4-39fb-4e0a-8a0d-1ad661aa1eb2"
      },
      "source": [
        "df.isna().sum(axis = 0)"
      ],
      "execution_count": 44,
      "outputs": [
        {
          "output_type": "execute_result",
          "data": {
            "text/plain": [
              "City                  0\n",
              "rank                  0\n",
              "latitude              6\n",
              "longitude             6\n",
              "price                 0\n",
              "bathrooms             0\n",
              "bedrooms              0\n",
              "area                  0\n",
              "zestimate             0\n",
              "rent_zestimate        0\n",
              "days_on_zillow        0\n",
              "is_zillow_owned       0\n",
              "hoa                   0\n",
              "get_land_area_sqft    0\n",
              "mortage_per_month     0\n",
              "Useful                0\n",
              "Population            0\n",
              "Total_Crime           0\n",
              "dtype: int64"
            ]
          },
          "metadata": {},
          "execution_count": 44
        }
      ]
    },
    {
      "cell_type": "code",
      "metadata": {
        "colab": {
          "base_uri": "https://localhost:8080/"
        },
        "id": "UWkdgXOU_HoQ",
        "outputId": "b78c2dca-a4e2-411f-a2ae-272a54ec06ff"
      },
      "source": [
        "df.info()"
      ],
      "execution_count": 45,
      "outputs": [
        {
          "output_type": "stream",
          "name": "stdout",
          "text": [
            "<class 'pandas.core.frame.DataFrame'>\n",
            "Int64Index: 464 entries, 0 to 463\n",
            "Data columns (total 18 columns):\n",
            " #   Column              Non-Null Count  Dtype  \n",
            "---  ------              --------------  -----  \n",
            " 0   City                464 non-null    object \n",
            " 1   rank                464 non-null    int64  \n",
            " 2   latitude            458 non-null    float64\n",
            " 3   longitude           458 non-null    float64\n",
            " 4   price               464 non-null    float64\n",
            " 5   bathrooms           464 non-null    float64\n",
            " 6   bedrooms            464 non-null    float64\n",
            " 7   area                464 non-null    int64  \n",
            " 8   zestimate           464 non-null    float64\n",
            " 9   rent_zestimate      464 non-null    float64\n",
            " 10  days_on_zillow      464 non-null    float64\n",
            " 11  is_zillow_owned     464 non-null    int64  \n",
            " 12  hoa                 464 non-null    int64  \n",
            " 13  get_land_area_sqft  464 non-null    int64  \n",
            " 14  mortage_per_month   464 non-null    float64\n",
            " 15  Useful              464 non-null    int64  \n",
            " 16  Population          464 non-null    float64\n",
            " 17  Total_Crime         464 non-null    float64\n",
            "dtypes: float64(11), int64(6), object(1)\n",
            "memory usage: 68.9+ KB\n"
          ]
        }
      ]
    },
    {
      "cell_type": "code",
      "metadata": {
        "id": "f9WQ3GeLAwJK"
      },
      "source": [
        "df=df.dropna()"
      ],
      "execution_count": 46,
      "outputs": []
    },
    {
      "cell_type": "code",
      "metadata": {
        "colab": {
          "base_uri": "https://localhost:8080/",
          "height": 439
        },
        "id": "Wyb3cR0MAWLi",
        "outputId": "cc101f39-0461-414a-fd6d-9b460f0479d2"
      },
      "source": [
        "df.dropna(axis='columns')"
      ],
      "execution_count": 47,
      "outputs": [
        {
          "output_type": "execute_result",
          "data": {
            "text/html": [
              "<div>\n",
              "<style scoped>\n",
              "    .dataframe tbody tr th:only-of-type {\n",
              "        vertical-align: middle;\n",
              "    }\n",
              "\n",
              "    .dataframe tbody tr th {\n",
              "        vertical-align: top;\n",
              "    }\n",
              "\n",
              "    .dataframe thead th {\n",
              "        text-align: right;\n",
              "    }\n",
              "</style>\n",
              "<table border=\"1\" class=\"dataframe\">\n",
              "  <thead>\n",
              "    <tr style=\"text-align: right;\">\n",
              "      <th></th>\n",
              "      <th>City</th>\n",
              "      <th>rank</th>\n",
              "      <th>latitude</th>\n",
              "      <th>longitude</th>\n",
              "      <th>price</th>\n",
              "      <th>bathrooms</th>\n",
              "      <th>bedrooms</th>\n",
              "      <th>area</th>\n",
              "      <th>zestimate</th>\n",
              "      <th>rent_zestimate</th>\n",
              "      <th>days_on_zillow</th>\n",
              "      <th>is_zillow_owned</th>\n",
              "      <th>hoa</th>\n",
              "      <th>get_land_area_sqft</th>\n",
              "      <th>mortage_per_month</th>\n",
              "      <th>Useful</th>\n",
              "      <th>Population</th>\n",
              "      <th>Total_Crime</th>\n",
              "    </tr>\n",
              "  </thead>\n",
              "  <tbody>\n",
              "    <tr>\n",
              "      <th>0</th>\n",
              "      <td>Encinitas</td>\n",
              "      <td>24</td>\n",
              "      <td>33.058939</td>\n",
              "      <td>-117.291904</td>\n",
              "      <td>2799900.0</td>\n",
              "      <td>4.000000</td>\n",
              "      <td>4.000000</td>\n",
              "      <td>3164</td>\n",
              "      <td>2.951100e+06</td>\n",
              "      <td>8486.0</td>\n",
              "      <td>9.0</td>\n",
              "      <td>0</td>\n",
              "      <td>0</td>\n",
              "      <td>0</td>\n",
              "      <td>15555.0</td>\n",
              "      <td>0</td>\n",
              "      <td>63320.0</td>\n",
              "      <td>64703.0</td>\n",
              "    </tr>\n",
              "    <tr>\n",
              "      <th>1</th>\n",
              "      <td>Encinitas</td>\n",
              "      <td>92</td>\n",
              "      <td>33.077616</td>\n",
              "      <td>-117.296788</td>\n",
              "      <td>270000.0</td>\n",
              "      <td>2.994695</td>\n",
              "      <td>3.310526</td>\n",
              "      <td>0</td>\n",
              "      <td>1.946873e+06</td>\n",
              "      <td>2694.0</td>\n",
              "      <td>1341.0</td>\n",
              "      <td>0</td>\n",
              "      <td>0</td>\n",
              "      <td>0</td>\n",
              "      <td>1500.0</td>\n",
              "      <td>1</td>\n",
              "      <td>63320.0</td>\n",
              "      <td>64703.0</td>\n",
              "    </tr>\n",
              "    <tr>\n",
              "      <th>2</th>\n",
              "      <td>Encinitas</td>\n",
              "      <td>36</td>\n",
              "      <td>33.055135</td>\n",
              "      <td>-117.300700</td>\n",
              "      <td>5895000.0</td>\n",
              "      <td>4.000000</td>\n",
              "      <td>4.000000</td>\n",
              "      <td>1784</td>\n",
              "      <td>5.769300e+06</td>\n",
              "      <td>9321.0</td>\n",
              "      <td>18.0</td>\n",
              "      <td>0</td>\n",
              "      <td>0</td>\n",
              "      <td>0</td>\n",
              "      <td>32750.0</td>\n",
              "      <td>0</td>\n",
              "      <td>63320.0</td>\n",
              "      <td>64703.0</td>\n",
              "    </tr>\n",
              "    <tr>\n",
              "      <th>3</th>\n",
              "      <td>Encinitas</td>\n",
              "      <td>35</td>\n",
              "      <td>33.055607</td>\n",
              "      <td>-117.299046</td>\n",
              "      <td>3875000.0</td>\n",
              "      <td>2.000000</td>\n",
              "      <td>2.000000</td>\n",
              "      <td>892</td>\n",
              "      <td>3.829780e+06</td>\n",
              "      <td>3499.0</td>\n",
              "      <td>17.0</td>\n",
              "      <td>0</td>\n",
              "      <td>0</td>\n",
              "      <td>0</td>\n",
              "      <td>21527.0</td>\n",
              "      <td>0</td>\n",
              "      <td>63320.0</td>\n",
              "      <td>64703.0</td>\n",
              "    </tr>\n",
              "    <tr>\n",
              "      <th>4</th>\n",
              "      <td>Encinitas</td>\n",
              "      <td>10</td>\n",
              "      <td>33.064152</td>\n",
              "      <td>-117.289877</td>\n",
              "      <td>1200000.0</td>\n",
              "      <td>2.000000</td>\n",
              "      <td>3.000000</td>\n",
              "      <td>1115</td>\n",
              "      <td>1.018600e+06</td>\n",
              "      <td>3940.0</td>\n",
              "      <td>2.0</td>\n",
              "      <td>0</td>\n",
              "      <td>0</td>\n",
              "      <td>0</td>\n",
              "      <td>6666.0</td>\n",
              "      <td>0</td>\n",
              "      <td>63320.0</td>\n",
              "      <td>64703.0</td>\n",
              "    </tr>\n",
              "    <tr>\n",
              "      <th>...</th>\n",
              "      <td>...</td>\n",
              "      <td>...</td>\n",
              "      <td>...</td>\n",
              "      <td>...</td>\n",
              "      <td>...</td>\n",
              "      <td>...</td>\n",
              "      <td>...</td>\n",
              "      <td>...</td>\n",
              "      <td>...</td>\n",
              "      <td>...</td>\n",
              "      <td>...</td>\n",
              "      <td>...</td>\n",
              "      <td>...</td>\n",
              "      <td>...</td>\n",
              "      <td>...</td>\n",
              "      <td>...</td>\n",
              "      <td>...</td>\n",
              "      <td>...</td>\n",
              "    </tr>\n",
              "    <tr>\n",
              "      <th>459</th>\n",
              "      <td>Escondido</td>\n",
              "      <td>186</td>\n",
              "      <td>33.171562</td>\n",
              "      <td>-117.103903</td>\n",
              "      <td>155000.0</td>\n",
              "      <td>2.994695</td>\n",
              "      <td>3.310526</td>\n",
              "      <td>0</td>\n",
              "      <td>1.946873e+06</td>\n",
              "      <td>1694.0</td>\n",
              "      <td>85.0</td>\n",
              "      <td>0</td>\n",
              "      <td>0</td>\n",
              "      <td>43560</td>\n",
              "      <td>861.0</td>\n",
              "      <td>1</td>\n",
              "      <td>153215.0</td>\n",
              "      <td>159041.0</td>\n",
              "    </tr>\n",
              "    <tr>\n",
              "      <th>460</th>\n",
              "      <td>Escondido</td>\n",
              "      <td>7</td>\n",
              "      <td>33.095877</td>\n",
              "      <td>-117.074769</td>\n",
              "      <td>789000.0</td>\n",
              "      <td>2.000000</td>\n",
              "      <td>4.000000</td>\n",
              "      <td>1727</td>\n",
              "      <td>7.939000e+05</td>\n",
              "      <td>3200.0</td>\n",
              "      <td>1.0</td>\n",
              "      <td>0</td>\n",
              "      <td>0</td>\n",
              "      <td>0</td>\n",
              "      <td>4383.0</td>\n",
              "      <td>0</td>\n",
              "      <td>153215.0</td>\n",
              "      <td>159041.0</td>\n",
              "    </tr>\n",
              "    <tr>\n",
              "      <th>461</th>\n",
              "      <td>Escondido</td>\n",
              "      <td>96</td>\n",
              "      <td>33.086987</td>\n",
              "      <td>-117.103090</td>\n",
              "      <td>1575000.0</td>\n",
              "      <td>3.000000</td>\n",
              "      <td>4.000000</td>\n",
              "      <td>2542</td>\n",
              "      <td>1.585300e+06</td>\n",
              "      <td>4500.0</td>\n",
              "      <td>15.0</td>\n",
              "      <td>0</td>\n",
              "      <td>0</td>\n",
              "      <td>0</td>\n",
              "      <td>8750.0</td>\n",
              "      <td>0</td>\n",
              "      <td>153215.0</td>\n",
              "      <td>159041.0</td>\n",
              "    </tr>\n",
              "    <tr>\n",
              "      <th>462</th>\n",
              "      <td>Escondido</td>\n",
              "      <td>192</td>\n",
              "      <td>33.117963</td>\n",
              "      <td>-117.025938</td>\n",
              "      <td>499000.0</td>\n",
              "      <td>2.994695</td>\n",
              "      <td>3.310526</td>\n",
              "      <td>0</td>\n",
              "      <td>1.946873e+06</td>\n",
              "      <td>1895.0</td>\n",
              "      <td>106.0</td>\n",
              "      <td>0</td>\n",
              "      <td>0</td>\n",
              "      <td>435600</td>\n",
              "      <td>2772.0</td>\n",
              "      <td>0</td>\n",
              "      <td>153215.0</td>\n",
              "      <td>159041.0</td>\n",
              "    </tr>\n",
              "    <tr>\n",
              "      <th>463</th>\n",
              "      <td>Escondido</td>\n",
              "      <td>142</td>\n",
              "      <td>33.070442</td>\n",
              "      <td>-117.101298</td>\n",
              "      <td>2859000.0</td>\n",
              "      <td>5.000000</td>\n",
              "      <td>4.000000</td>\n",
              "      <td>5947</td>\n",
              "      <td>2.860400e+06</td>\n",
              "      <td>9577.0</td>\n",
              "      <td>43.0</td>\n",
              "      <td>0</td>\n",
              "      <td>0</td>\n",
              "      <td>0</td>\n",
              "      <td>15883.0</td>\n",
              "      <td>0</td>\n",
              "      <td>153215.0</td>\n",
              "      <td>159041.0</td>\n",
              "    </tr>\n",
              "  </tbody>\n",
              "</table>\n",
              "<p>458 rows × 18 columns</p>\n",
              "</div>"
            ],
            "text/plain": [
              "          City  rank   latitude  ...  Useful  Population  Total_Crime\n",
              "0    Encinitas    24  33.058939  ...       0     63320.0      64703.0\n",
              "1    Encinitas    92  33.077616  ...       1     63320.0      64703.0\n",
              "2    Encinitas    36  33.055135  ...       0     63320.0      64703.0\n",
              "3    Encinitas    35  33.055607  ...       0     63320.0      64703.0\n",
              "4    Encinitas    10  33.064152  ...       0     63320.0      64703.0\n",
              "..         ...   ...        ...  ...     ...         ...          ...\n",
              "459  Escondido   186  33.171562  ...       1    153215.0     159041.0\n",
              "460  Escondido     7  33.095877  ...       0    153215.0     159041.0\n",
              "461  Escondido    96  33.086987  ...       0    153215.0     159041.0\n",
              "462  Escondido   192  33.117963  ...       0    153215.0     159041.0\n",
              "463  Escondido   142  33.070442  ...       0    153215.0     159041.0\n",
              "\n",
              "[458 rows x 18 columns]"
            ]
          },
          "metadata": {},
          "execution_count": 47
        }
      ]
    },
    {
      "cell_type": "code",
      "metadata": {
        "colab": {
          "base_uri": "https://localhost:8080/",
          "height": 204
        },
        "id": "c1Tbfg0cBaBx",
        "outputId": "f95f4fd6-b1e9-485c-a7fd-994688670d4d"
      },
      "source": [
        "import matplotlib.pyplot as plt\n",
        "import pandas as pd\n",
        "import seaborn as sns\n",
        "from sklearn.cluster import KMeans\n",
        "\n",
        "plt.style.use(\"seaborn-whitegrid\")\n",
        "plt.rc(\"figure\", autolayout=True)\n",
        "plt.rc(\n",
        "    \"axes\",\n",
        "    labelweight=\"bold\",\n",
        "    labelsize=\"large\",\n",
        "    titleweight=\"bold\",\n",
        "    titlesize=14,\n",
        "    titlepad=10,\n",
        ")\n",
        "X = df[[ \"rent_zestimate\",\"mortage_per_month\"]]\n",
        "X.head()"
      ],
      "execution_count": 48,
      "outputs": [
        {
          "output_type": "execute_result",
          "data": {
            "text/html": [
              "<div>\n",
              "<style scoped>\n",
              "    .dataframe tbody tr th:only-of-type {\n",
              "        vertical-align: middle;\n",
              "    }\n",
              "\n",
              "    .dataframe tbody tr th {\n",
              "        vertical-align: top;\n",
              "    }\n",
              "\n",
              "    .dataframe thead th {\n",
              "        text-align: right;\n",
              "    }\n",
              "</style>\n",
              "<table border=\"1\" class=\"dataframe\">\n",
              "  <thead>\n",
              "    <tr style=\"text-align: right;\">\n",
              "      <th></th>\n",
              "      <th>rent_zestimate</th>\n",
              "      <th>mortage_per_month</th>\n",
              "    </tr>\n",
              "  </thead>\n",
              "  <tbody>\n",
              "    <tr>\n",
              "      <th>0</th>\n",
              "      <td>8486.0</td>\n",
              "      <td>15555.0</td>\n",
              "    </tr>\n",
              "    <tr>\n",
              "      <th>1</th>\n",
              "      <td>2694.0</td>\n",
              "      <td>1500.0</td>\n",
              "    </tr>\n",
              "    <tr>\n",
              "      <th>2</th>\n",
              "      <td>9321.0</td>\n",
              "      <td>32750.0</td>\n",
              "    </tr>\n",
              "    <tr>\n",
              "      <th>3</th>\n",
              "      <td>3499.0</td>\n",
              "      <td>21527.0</td>\n",
              "    </tr>\n",
              "    <tr>\n",
              "      <th>4</th>\n",
              "      <td>3940.0</td>\n",
              "      <td>6666.0</td>\n",
              "    </tr>\n",
              "  </tbody>\n",
              "</table>\n",
              "</div>"
            ],
            "text/plain": [
              "   rent_zestimate  mortage_per_month\n",
              "0          8486.0            15555.0\n",
              "1          2694.0             1500.0\n",
              "2          9321.0            32750.0\n",
              "3          3499.0            21527.0\n",
              "4          3940.0             6666.0"
            ]
          },
          "metadata": {},
          "execution_count": 48
        }
      ]
    },
    {
      "cell_type": "markdown",
      "metadata": {
        "id": "6B9-AAKrVD0f"
      },
      "source": [
        "## **4.Defining a Golden cluster using Fractal Clustering**\n",
        "\n",
        "From data visualization above using heat map, i found two important features--rent_zestimate & mortage_per_month,  against which Fractal clustering can be done.\n",
        "\n"
      ]
    },
    {
      "cell_type": "code",
      "metadata": {
        "id": "ihx4pM6r-z9P"
      },
      "source": [
        "from sklearn.cluster import KMeans\n",
        "df1=X\n",
        "Sum_of_squared_distances = []\n",
        "K = range(2,10)\n",
        "for k in K:\n",
        "    km = KMeans(n_clusters=k)\n",
        "    km = km.fit(df1)\n",
        "    Sum_of_squared_distances.append(km.inertia_)"
      ],
      "execution_count": 49,
      "outputs": []
    },
    {
      "cell_type": "code",
      "metadata": {
        "colab": {
          "base_uri": "https://localhost:8080/",
          "height": 297
        },
        "id": "6TNq174UBcWG",
        "outputId": "66179d02-9483-4192-fe5c-39df65ded2ce"
      },
      "source": [
        "plt.plot(K, Sum_of_squared_distances, 'bx-')\n",
        "plt.xlabel('k')\n",
        "plt.ylabel('Sum_of_squared_distances')\n",
        "plt.title('Elbow Method For Optimal k')\n",
        "plt.show()"
      ],
      "execution_count": 50,
      "outputs": [
        {
          "output_type": "display_data",
          "data": {
            "image/png": "[encoded data removed]",
            "text/plain": [
              "<Figure size 432x288 with 1 Axes>"
            ]
          },
          "metadata": {}
        }
      ]
    },
    {
      "cell_type": "code",
      "metadata": {
        "colab": {
          "base_uri": "https://localhost:8080/",
          "height": 428
        },
        "id": "4iD3-UNK-bQ3",
        "outputId": "0d3392b2-97ca-47c9-ccfb-6fb3d5f9a575"
      },
      "source": [
        "kmeans = KMeans(n_clusters=4)\n",
        "X[\"Cluster\"] = kmeans.fit_predict(X)\n",
        "X[\"Cluster\"] = X[\"Cluster\"].astype(\"category\")\n",
        "\n",
        "X.head()"
      ],
      "execution_count": 51,
      "outputs": [
        {
          "output_type": "stream",
          "name": "stderr",
          "text": [
            "/usr/local/lib/python3.7/dist-packages/ipykernel_launcher.py:2: SettingWithCopyWarning: \n",
            "A value is trying to be set on a copy of a slice from a DataFrame.\n",
            "Try using .loc[row_indexer,col_indexer] = value instead\n",
            "\n",
            "See the caveats in the documentation: https://pandas.pydata.org/pandas-docs/stable/user_guide/indexing.html#returning-a-view-versus-a-copy\n",
            "  \n",
            "/usr/local/lib/python3.7/dist-packages/ipykernel_launcher.py:3: SettingWithCopyWarning: \n",
            "A value is trying to be set on a copy of a slice from a DataFrame.\n",
            "Try using .loc[row_indexer,col_indexer] = value instead\n",
            "\n",
            "See the caveats in the documentation: https://pandas.pydata.org/pandas-docs/stable/user_guide/indexing.html#returning-a-view-versus-a-copy\n",
            "  This is separate from the ipykernel package so we can avoid doing imports until\n"
          ]
        },
        {
          "output_type": "execute_result",
          "data": {
            "text/html": [
              "<div>\n",
              "<style scoped>\n",
              "    .dataframe tbody tr th:only-of-type {\n",
              "        vertical-align: middle;\n",
              "    }\n",
              "\n",
              "    .dataframe tbody tr th {\n",
              "        vertical-align: top;\n",
              "    }\n",
              "\n",
              "    .dataframe thead th {\n",
              "        text-align: right;\n",
              "    }\n",
              "</style>\n",
              "<table border=\"1\" class=\"dataframe\">\n",
              "  <thead>\n",
              "    <tr style=\"text-align: right;\">\n",
              "      <th></th>\n",
              "      <th>rent_zestimate</th>\n",
              "      <th>mortage_per_month</th>\n",
              "      <th>Cluster</th>\n",
              "    </tr>\n",
              "  </thead>\n",
              "  <tbody>\n",
              "    <tr>\n",
              "      <th>0</th>\n",
              "      <td>8486.0</td>\n",
              "      <td>15555.0</td>\n",
              "      <td>1</td>\n",
              "    </tr>\n",
              "    <tr>\n",
              "      <th>1</th>\n",
              "      <td>2694.0</td>\n",
              "      <td>1500.0</td>\n",
              "      <td>1</td>\n",
              "    </tr>\n",
              "    <tr>\n",
              "      <th>2</th>\n",
              "      <td>9321.0</td>\n",
              "      <td>32750.0</td>\n",
              "      <td>0</td>\n",
              "    </tr>\n",
              "    <tr>\n",
              "      <th>3</th>\n",
              "      <td>3499.0</td>\n",
              "      <td>21527.0</td>\n",
              "      <td>1</td>\n",
              "    </tr>\n",
              "    <tr>\n",
              "      <th>4</th>\n",
              "      <td>3940.0</td>\n",
              "      <td>6666.0</td>\n",
              "      <td>1</td>\n",
              "    </tr>\n",
              "  </tbody>\n",
              "</table>\n",
              "</div>"
            ],
            "text/plain": [
              "   rent_zestimate  mortage_per_month Cluster\n",
              "0          8486.0            15555.0       1\n",
              "1          2694.0             1500.0       1\n",
              "2          9321.0            32750.0       0\n",
              "3          3499.0            21527.0       1\n",
              "4          3940.0             6666.0       1"
            ]
          },
          "metadata": {},
          "execution_count": 51
        }
      ]
    },
    {
      "cell_type": "code",
      "metadata": {
        "colab": {
          "base_uri": "https://localhost:8080/"
        },
        "id": "THrOxvtUDtht",
        "outputId": "1c6f08e0-0218-4f7c-94d8-45c853f8337c"
      },
      "source": [
        "X.Cluster.value_counts()"
      ],
      "execution_count": 52,
      "outputs": [
        {
          "output_type": "execute_result",
          "data": {
            "text/plain": [
              "1    416\n",
              "0     36\n",
              "3      4\n",
              "2      2\n",
              "Name: Cluster, dtype: int64"
            ]
          },
          "metadata": {},
          "execution_count": 52
        }
      ]
    },
    {
      "cell_type": "code",
      "metadata": {
        "colab": {
          "base_uri": "https://localhost:8080/",
          "height": 441
        },
        "id": "ZdhylnzY-dF-",
        "outputId": "c28f795d-9d1c-44dc-f5db-397fc1fc4bec"
      },
      "source": [
        "sns.relplot(\n",
        "    x=\"rent_zestimate\", y=\"mortage_per_month\", hue=\"Cluster\", data=X, height=6,\n",
        ");"
      ],
      "execution_count": 53,
      "outputs": [
        {
          "output_type": "display_data",
          "data": {
            "image/png": "[encoded data removed]",
            "text/plain": [
              "<Figure size 473.625x432 with 1 Axes>"
            ]
          },
          "metadata": {}
        }
      ]
    },
    {
      "cell_type": "code",
      "metadata": {
        "id": "YFBwWL7zEK9q"
      },
      "source": [
        "df2=X[X['Cluster']==0]"
      ],
      "execution_count": 54,
      "outputs": []
    },
    {
      "cell_type": "code",
      "metadata": {
        "colab": {
          "base_uri": "https://localhost:8080/",
          "height": 204
        },
        "id": "t63T2TFnE5ib",
        "outputId": "fbe46136-6514-4215-bba9-a3f712c76c84"
      },
      "source": [
        "import matplotlib.pyplot as plt\n",
        "import pandas as pd\n",
        "import seaborn as sns\n",
        "from sklearn.cluster import KMeans\n",
        "\n",
        "plt.style.use(\"seaborn-whitegrid\")\n",
        "plt.rc(\"figure\", autolayout=True)\n",
        "plt.rc(\n",
        "    \"axes\",\n",
        "    labelweight=\"bold\",\n",
        "    labelsize=\"large\",\n",
        "    titleweight=\"bold\",\n",
        "    titlesize=14,\n",
        "    titlepad=10,\n",
        ")\n",
        "X = df2[[ \"rent_zestimate\",\"mortage_per_month\"]]\n",
        "X.head()"
      ],
      "execution_count": 55,
      "outputs": [
        {
          "output_type": "execute_result",
          "data": {
            "text/html": [
              "<div>\n",
              "<style scoped>\n",
              "    .dataframe tbody tr th:only-of-type {\n",
              "        vertical-align: middle;\n",
              "    }\n",
              "\n",
              "    .dataframe tbody tr th {\n",
              "        vertical-align: top;\n",
              "    }\n",
              "\n",
              "    .dataframe thead th {\n",
              "        text-align: right;\n",
              "    }\n",
              "</style>\n",
              "<table border=\"1\" class=\"dataframe\">\n",
              "  <thead>\n",
              "    <tr style=\"text-align: right;\">\n",
              "      <th></th>\n",
              "      <th>rent_zestimate</th>\n",
              "      <th>mortage_per_month</th>\n",
              "    </tr>\n",
              "  </thead>\n",
              "  <tbody>\n",
              "    <tr>\n",
              "      <th>2</th>\n",
              "      <td>9321.0</td>\n",
              "      <td>32750.0</td>\n",
              "    </tr>\n",
              "    <tr>\n",
              "      <th>10</th>\n",
              "      <td>16557.0</td>\n",
              "      <td>27750.0</td>\n",
              "    </tr>\n",
              "    <tr>\n",
              "      <th>17</th>\n",
              "      <td>8168.0</td>\n",
              "      <td>27083.0</td>\n",
              "    </tr>\n",
              "    <tr>\n",
              "      <th>29</th>\n",
              "      <td>22967.0</td>\n",
              "      <td>43777.0</td>\n",
              "    </tr>\n",
              "    <tr>\n",
              "      <th>37</th>\n",
              "      <td>19303.0</td>\n",
              "      <td>32500.0</td>\n",
              "    </tr>\n",
              "  </tbody>\n",
              "</table>\n",
              "</div>"
            ],
            "text/plain": [
              "    rent_zestimate  mortage_per_month\n",
              "2           9321.0            32750.0\n",
              "10         16557.0            27750.0\n",
              "17          8168.0            27083.0\n",
              "29         22967.0            43777.0\n",
              "37         19303.0            32500.0"
            ]
          },
          "metadata": {},
          "execution_count": 55
        }
      ]
    },
    {
      "cell_type": "code",
      "metadata": {
        "id": "jgaPCjdhE-pf"
      },
      "source": [
        "from sklearn.cluster import KMeans\n",
        "df1=X\n",
        "Sum_of_squared_distances = []\n",
        "K = range(2,10)\n",
        "for k in K:\n",
        "    km = KMeans(n_clusters=k)\n",
        "    km = km.fit(df1)\n",
        "    Sum_of_squared_distances.append(km.inertia_)"
      ],
      "execution_count": 56,
      "outputs": []
    },
    {
      "cell_type": "code",
      "metadata": {
        "colab": {
          "base_uri": "https://localhost:8080/",
          "height": 297
        },
        "id": "H3wwtBAZFDCw",
        "outputId": "27c5d64b-ab6a-4d68-e9e5-c85c0bb157d4"
      },
      "source": [
        "plt.plot(K, Sum_of_squared_distances, 'bx-')\n",
        "plt.xlabel('k')\n",
        "plt.ylabel('Sum_of_squared_distances')\n",
        "plt.title('Elbow Method For Optimal k')\n",
        "plt.show()"
      ],
      "execution_count": 57,
      "outputs": [
        {
          "output_type": "display_data",
          "data": {
            "image/png": "[encoded data removed]",
            "text/plain": [
              "<Figure size 432x288 with 1 Axes>"
            ]
          },
          "metadata": {}
        }
      ]
    },
    {
      "cell_type": "code",
      "metadata": {
        "colab": {
          "base_uri": "https://localhost:8080/",
          "height": 204
        },
        "id": "rr27rIPoFEkV",
        "outputId": "65de9302-d45a-43c1-eb6e-0a039bccd378"
      },
      "source": [
        "kmeans = KMeans(n_clusters=3)\n",
        "X[\"Cluster\"] = kmeans.fit_predict(X)\n",
        "X[\"Cluster\"] = X[\"Cluster\"].astype(\"category\")\n",
        "\n",
        "X.head()"
      ],
      "execution_count": 58,
      "outputs": [
        {
          "output_type": "execute_result",
          "data": {
            "text/html": [
              "<div>\n",
              "<style scoped>\n",
              "    .dataframe tbody tr th:only-of-type {\n",
              "        vertical-align: middle;\n",
              "    }\n",
              "\n",
              "    .dataframe tbody tr th {\n",
              "        vertical-align: top;\n",
              "    }\n",
              "\n",
              "    .dataframe thead th {\n",
              "        text-align: right;\n",
              "    }\n",
              "</style>\n",
              "<table border=\"1\" class=\"dataframe\">\n",
              "  <thead>\n",
              "    <tr style=\"text-align: right;\">\n",
              "      <th></th>\n",
              "      <th>rent_zestimate</th>\n",
              "      <th>mortage_per_month</th>\n",
              "      <th>Cluster</th>\n",
              "    </tr>\n",
              "  </thead>\n",
              "  <tbody>\n",
              "    <tr>\n",
              "      <th>2</th>\n",
              "      <td>9321.0</td>\n",
              "      <td>32750.0</td>\n",
              "      <td>1</td>\n",
              "    </tr>\n",
              "    <tr>\n",
              "      <th>10</th>\n",
              "      <td>16557.0</td>\n",
              "      <td>27750.0</td>\n",
              "      <td>1</td>\n",
              "    </tr>\n",
              "    <tr>\n",
              "      <th>17</th>\n",
              "      <td>8168.0</td>\n",
              "      <td>27083.0</td>\n",
              "      <td>1</td>\n",
              "    </tr>\n",
              "    <tr>\n",
              "      <th>29</th>\n",
              "      <td>22967.0</td>\n",
              "      <td>43777.0</td>\n",
              "      <td>0</td>\n",
              "    </tr>\n",
              "    <tr>\n",
              "      <th>37</th>\n",
              "      <td>19303.0</td>\n",
              "      <td>32500.0</td>\n",
              "      <td>1</td>\n",
              "    </tr>\n",
              "  </tbody>\n",
              "</table>\n",
              "</div>"
            ],
            "text/plain": [
              "    rent_zestimate  mortage_per_month Cluster\n",
              "2           9321.0            32750.0       1\n",
              "10         16557.0            27750.0       1\n",
              "17          8168.0            27083.0       1\n",
              "29         22967.0            43777.0       0\n",
              "37         19303.0            32500.0       1"
            ]
          },
          "metadata": {},
          "execution_count": 58
        }
      ]
    },
    {
      "cell_type": "code",
      "metadata": {
        "colab": {
          "base_uri": "https://localhost:8080/",
          "height": 441
        },
        "id": "jUjyXUnfFI1e",
        "outputId": "9a819a8c-f839-4f7b-919c-e6a2596bd4b8"
      },
      "source": [
        "sns.relplot(\n",
        "    x=\"rent_zestimate\", y=\"mortage_per_month\", hue=\"Cluster\", data=X, height=6,\n",
        ");"
      ],
      "execution_count": 59,
      "outputs": [
        {
          "output_type": "display_data",
          "data": {
            "image/png": "[encoded data removed]",
            "text/plain": [
              "<Figure size 473.625x432 with 1 Axes>"
            ]
          },
          "metadata": {}
        }
      ]
    },
    {
      "cell_type": "code",
      "metadata": {
        "colab": {
          "base_uri": "https://localhost:8080/"
        },
        "id": "86miGYYcFMdo",
        "outputId": "527ab7d3-3c3a-4c29-827e-887fd190030c"
      },
      "source": [
        "X.Cluster.value_counts()"
      ],
      "execution_count": 60,
      "outputs": [
        {
          "output_type": "execute_result",
          "data": {
            "text/plain": [
              "1    19\n",
              "0    14\n",
              "2     3\n",
              "Name: Cluster, dtype: int64"
            ]
          },
          "metadata": {},
          "execution_count": 60
        }
      ]
    },
    {
      "cell_type": "code",
      "metadata": {
        "id": "RVjHJ8U1FXUR"
      },
      "source": [
        "df3=X[X['Cluster']==1]"
      ],
      "execution_count": 61,
      "outputs": []
    },
    {
      "cell_type": "code",
      "metadata": {
        "colab": {
          "base_uri": "https://localhost:8080/",
          "height": 204
        },
        "id": "yYAtNrnQFcMW",
        "outputId": "2ac0081f-5bb1-4fb3-f810-b3b920e1b97b"
      },
      "source": [
        "import matplotlib.pyplot as plt\n",
        "import pandas as pd\n",
        "import seaborn as sns\n",
        "from sklearn.cluster import KMeans\n",
        "\n",
        "plt.style.use(\"seaborn-whitegrid\")\n",
        "plt.rc(\"figure\", autolayout=True)\n",
        "plt.rc(\n",
        "    \"axes\",\n",
        "    labelweight=\"bold\",\n",
        "    labelsize=\"large\",\n",
        "    titleweight=\"bold\",\n",
        "    titlesize=14,\n",
        "    titlepad=10,\n",
        ")\n",
        "X = df3[[ \"rent_zestimate\",\"mortage_per_month\"]]\n",
        "X.head()"
      ],
      "execution_count": 62,
      "outputs": [
        {
          "output_type": "execute_result",
          "data": {
            "text/html": [
              "<div>\n",
              "<style scoped>\n",
              "    .dataframe tbody tr th:only-of-type {\n",
              "        vertical-align: middle;\n",
              "    }\n",
              "\n",
              "    .dataframe tbody tr th {\n",
              "        vertical-align: top;\n",
              "    }\n",
              "\n",
              "    .dataframe thead th {\n",
              "        text-align: right;\n",
              "    }\n",
              "</style>\n",
              "<table border=\"1\" class=\"dataframe\">\n",
              "  <thead>\n",
              "    <tr style=\"text-align: right;\">\n",
              "      <th></th>\n",
              "      <th>rent_zestimate</th>\n",
              "      <th>mortage_per_month</th>\n",
              "    </tr>\n",
              "  </thead>\n",
              "  <tbody>\n",
              "    <tr>\n",
              "      <th>2</th>\n",
              "      <td>9321.0</td>\n",
              "      <td>32750.0</td>\n",
              "    </tr>\n",
              "    <tr>\n",
              "      <th>10</th>\n",
              "      <td>16557.0</td>\n",
              "      <td>27750.0</td>\n",
              "    </tr>\n",
              "    <tr>\n",
              "      <th>17</th>\n",
              "      <td>8168.0</td>\n",
              "      <td>27083.0</td>\n",
              "    </tr>\n",
              "    <tr>\n",
              "      <th>37</th>\n",
              "      <td>19303.0</td>\n",
              "      <td>32500.0</td>\n",
              "    </tr>\n",
              "    <tr>\n",
              "      <th>39</th>\n",
              "      <td>17956.0</td>\n",
              "      <td>29166.0</td>\n",
              "    </tr>\n",
              "  </tbody>\n",
              "</table>\n",
              "</div>"
            ],
            "text/plain": [
              "    rent_zestimate  mortage_per_month\n",
              "2           9321.0            32750.0\n",
              "10         16557.0            27750.0\n",
              "17          8168.0            27083.0\n",
              "37         19303.0            32500.0\n",
              "39         17956.0            29166.0"
            ]
          },
          "metadata": {},
          "execution_count": 62
        }
      ]
    },
    {
      "cell_type": "code",
      "metadata": {
        "id": "7bbKfu8iFff5"
      },
      "source": [
        "from sklearn.cluster import KMeans\n",
        "df1=X\n",
        "Sum_of_squared_distances = []\n",
        "K = range(2,10)\n",
        "for k in K:\n",
        "    km = KMeans(n_clusters=k)\n",
        "    km = km.fit(df1)\n",
        "    Sum_of_squared_distances.append(km.inertia_)"
      ],
      "execution_count": 63,
      "outputs": []
    },
    {
      "cell_type": "code",
      "metadata": {
        "colab": {
          "base_uri": "https://localhost:8080/",
          "height": 297
        },
        "id": "A-bdO77rFh4K",
        "outputId": "e7fdc37f-2855-43cb-9485-28cf59afdc5d"
      },
      "source": [
        "plt.plot(K, Sum_of_squared_distances, 'bx-')\n",
        "plt.xlabel('k')\n",
        "plt.ylabel('Sum_of_squared_distances')\n",
        "plt.title('Elbow Method For Optimal k')\n",
        "plt.show()"
      ],
      "execution_count": 64,
      "outputs": [
        {
          "output_type": "display_data",
          "data": {
            "image/png": "[encoded data removed]",
            "text/plain": [
              "<Figure size 432x288 with 1 Axes>"
            ]
          },
          "metadata": {}
        }
      ]
    },
    {
      "cell_type": "code",
      "metadata": {
        "colab": {
          "base_uri": "https://localhost:8080/",
          "height": 204
        },
        "id": "6junLlDSFkcf",
        "outputId": "721e1390-61ab-48c4-c55e-d098d3718a27"
      },
      "source": [
        "kmeans = KMeans(n_clusters=4)\n",
        "X[\"Cluster\"] = kmeans.fit_predict(X)\n",
        "X[\"Cluster\"] = X[\"Cluster\"].astype(\"category\")\n",
        "\n",
        "X.head()"
      ],
      "execution_count": 65,
      "outputs": [
        {
          "output_type": "execute_result",
          "data": {
            "text/html": [
              "<div>\n",
              "<style scoped>\n",
              "    .dataframe tbody tr th:only-of-type {\n",
              "        vertical-align: middle;\n",
              "    }\n",
              "\n",
              "    .dataframe tbody tr th {\n",
              "        vertical-align: top;\n",
              "    }\n",
              "\n",
              "    .dataframe thead th {\n",
              "        text-align: right;\n",
              "    }\n",
              "</style>\n",
              "<table border=\"1\" class=\"dataframe\">\n",
              "  <thead>\n",
              "    <tr style=\"text-align: right;\">\n",
              "      <th></th>\n",
              "      <th>rent_zestimate</th>\n",
              "      <th>mortage_per_month</th>\n",
              "      <th>Cluster</th>\n",
              "    </tr>\n",
              "  </thead>\n",
              "  <tbody>\n",
              "    <tr>\n",
              "      <th>2</th>\n",
              "      <td>9321.0</td>\n",
              "      <td>32750.0</td>\n",
              "      <td>3</td>\n",
              "    </tr>\n",
              "    <tr>\n",
              "      <th>10</th>\n",
              "      <td>16557.0</td>\n",
              "      <td>27750.0</td>\n",
              "      <td>0</td>\n",
              "    </tr>\n",
              "    <tr>\n",
              "      <th>17</th>\n",
              "      <td>8168.0</td>\n",
              "      <td>27083.0</td>\n",
              "      <td>3</td>\n",
              "    </tr>\n",
              "    <tr>\n",
              "      <th>37</th>\n",
              "      <td>19303.0</td>\n",
              "      <td>32500.0</td>\n",
              "      <td>2</td>\n",
              "    </tr>\n",
              "    <tr>\n",
              "      <th>39</th>\n",
              "      <td>17956.0</td>\n",
              "      <td>29166.0</td>\n",
              "      <td>0</td>\n",
              "    </tr>\n",
              "  </tbody>\n",
              "</table>\n",
              "</div>"
            ],
            "text/plain": [
              "    rent_zestimate  mortage_per_month Cluster\n",
              "2           9321.0            32750.0       3\n",
              "10         16557.0            27750.0       0\n",
              "17          8168.0            27083.0       3\n",
              "37         19303.0            32500.0       2\n",
              "39         17956.0            29166.0       0"
            ]
          },
          "metadata": {},
          "execution_count": 65
        }
      ]
    },
    {
      "cell_type": "code",
      "metadata": {
        "colab": {
          "base_uri": "https://localhost:8080/",
          "height": 441
        },
        "id": "i2x8l-HDFudc",
        "outputId": "0bee96c8-f224-448c-dc0e-c6f6a143e462"
      },
      "source": [
        "sns.relplot(\n",
        "    x=\"rent_zestimate\", y=\"mortage_per_month\", hue=\"Cluster\", data=X, height=6,\n",
        ");"
      ],
      "execution_count": 66,
      "outputs": [
        {
          "output_type": "display_data",
          "data": {
            "image/png": "[encoded data removed]",
            "text/plain": [
              "<Figure size 473.625x432 with 1 Axes>"
            ]
          },
          "metadata": {}
        }
      ]
    },
    {
      "cell_type": "code",
      "metadata": {
        "colab": {
          "base_uri": "https://localhost:8080/"
        },
        "id": "Af-xO5EYFxCI",
        "outputId": "425c1c94-0891-4656-cacb-0087d44b833a"
      },
      "source": [
        "X.Cluster.value_counts()"
      ],
      "execution_count": 67,
      "outputs": [
        {
          "output_type": "execute_result",
          "data": {
            "text/plain": [
              "2    6\n",
              "0    6\n",
              "1    4\n",
              "3    3\n",
              "Name: Cluster, dtype: int64"
            ]
          },
          "metadata": {},
          "execution_count": 67
        }
      ]
    },
    {
      "cell_type": "markdown",
      "metadata": {
        "id": "mMfqvA2cWftj"
      },
      "source": [
        "As seen above, the golden cluster identified by fractal clustering is 1. \n",
        "\n",
        "On an avaerage, it is found that, most of the properties are non profitable if given out for rent. However assumption is, people do it as Investment and not as a source of income."
      ]
    },
    {
      "cell_type": "code",
      "metadata": {
        "id": "b_l2M9ovF71L",
        "colab": {
          "base_uri": "https://localhost:8080/"
        },
        "outputId": "e56d9fe1-fb8a-43a2-ade5-07a65f2cae5d"
      },
      "source": [
        "df['hoa']=df['hoa'].replace(0,df['hoa'].mean())"
      ],
      "execution_count": 68,
      "outputs": [
        {
          "output_type": "stream",
          "name": "stderr",
          "text": [
            "/usr/local/lib/python3.7/dist-packages/ipykernel_launcher.py:1: SettingWithCopyWarning: \n",
            "A value is trying to be set on a copy of a slice from a DataFrame.\n",
            "Try using .loc[row_indexer,col_indexer] = value instead\n",
            "\n",
            "See the caveats in the documentation: https://pandas.pydata.org/pandas-docs/stable/user_guide/indexing.html#returning-a-view-versus-a-copy\n",
            "  \"\"\"Entry point for launching an IPython kernel.\n"
          ]
        }
      ]
    },
    {
      "cell_type": "code",
      "metadata": {
        "id": "CUOSwiNgOEkp"
      },
      "source": [
        "def get_city_label(city):\n",
        "  if 'Escondido' in city:\n",
        "    return 0\n",
        "  elif 'Carlsbad' in city:\n",
        "    return 1\n",
        "  elif 'Del Mar' in city:\n",
        "    return 2\n",
        "  else:\n",
        "    return 3"
      ],
      "execution_count": 69,
      "outputs": []
    },
    {
      "cell_type": "code",
      "metadata": {
        "id": "XL0BXOcYOkfQ",
        "colab": {
          "base_uri": "https://localhost:8080/"
        },
        "outputId": "9cfd1e3c-2835-416a-9111-ede0058a1e96"
      },
      "source": [
        "df['city_label']=df['City'].apply(lambda x:get_city_label(x) )"
      ],
      "execution_count": 70,
      "outputs": [
        {
          "output_type": "stream",
          "name": "stderr",
          "text": [
            "/usr/local/lib/python3.7/dist-packages/ipykernel_launcher.py:1: SettingWithCopyWarning: \n",
            "A value is trying to be set on a copy of a slice from a DataFrame.\n",
            "Try using .loc[row_indexer,col_indexer] = value instead\n",
            "\n",
            "See the caveats in the documentation: https://pandas.pydata.org/pandas-docs/stable/user_guide/indexing.html#returning-a-view-versus-a-copy\n",
            "  \"\"\"Entry point for launching an IPython kernel.\n"
          ]
        }
      ]
    },
    {
      "cell_type": "code",
      "metadata": {
        "colab": {
          "base_uri": "https://localhost:8080/"
        },
        "id": "wfAPpcbIPJZb",
        "outputId": "9b4d0e4d-4629-45b2-cd3f-a8cda77bd1bf"
      },
      "source": [
        "df.columns"
      ],
      "execution_count": 71,
      "outputs": [
        {
          "output_type": "execute_result",
          "data": {
            "text/plain": [
              "Index(['City', 'rank', 'latitude', 'longitude', 'price', 'bathrooms',\n",
              "       'bedrooms', 'area', 'zestimate', 'rent_zestimate', 'days_on_zillow',\n",
              "       'is_zillow_owned', 'hoa', 'get_land_area_sqft', 'mortage_per_month',\n",
              "       'Useful', 'Population', 'Total_Crime', 'city_label'],\n",
              "      dtype='object')"
            ]
          },
          "metadata": {},
          "execution_count": 71
        }
      ]
    },
    {
      "cell_type": "code",
      "metadata": {
        "id": "p3mc1WBVPMjf"
      },
      "source": [
        "df=df[['rank', 'bathrooms',\n",
        "       'bedrooms', 'area', 'zestimate', 'rent_zestimate', 'days_on_zillow',\n",
        "       'is_zillow_owned', 'hoa', 'get_land_area_sqft', 'mortage_per_month',\n",
        "       'Population', 'Total_Crime', 'city_label','Useful']]"
      ],
      "execution_count": 72,
      "outputs": []
    },
    {
      "cell_type": "markdown",
      "metadata": {
        "id": "V-EENWprXaiK"
      },
      "source": [
        "## **5. Finding Feature Importance with Gini Score:**\n",
        "\n"
      ]
    },
    {
      "cell_type": "code",
      "metadata": {
        "colab": {
          "base_uri": "https://localhost:8080/",
          "height": 439
        },
        "id": "C1GmXEtOPdyg",
        "outputId": "1377cc0f-e4c8-4785-db0d-5a9c0bddf742"
      },
      "source": [
        "df"
      ],
      "execution_count": 73,
      "outputs": [
        {
          "output_type": "execute_result",
          "data": {
            "text/html": [
              "<div>\n",
              "<style scoped>\n",
              "    .dataframe tbody tr th:only-of-type {\n",
              "        vertical-align: middle;\n",
              "    }\n",
              "\n",
              "    .dataframe tbody tr th {\n",
              "        vertical-align: top;\n",
              "    }\n",
              "\n",
              "    .dataframe thead th {\n",
              "        text-align: right;\n",
              "    }\n",
              "</style>\n",
              "<table border=\"1\" class=\"dataframe\">\n",
              "  <thead>\n",
              "    <tr style=\"text-align: right;\">\n",
              "      <th></th>\n",
              "      <th>rank</th>\n",
              "      <th>bathrooms</th>\n",
              "      <th>bedrooms</th>\n",
              "      <th>area</th>\n",
              "      <th>zestimate</th>\n",
              "      <th>rent_zestimate</th>\n",
              "      <th>days_on_zillow</th>\n",
              "      <th>is_zillow_owned</th>\n",
              "      <th>hoa</th>\n",
              "      <th>get_land_area_sqft</th>\n",
              "      <th>mortage_per_month</th>\n",
              "      <th>Population</th>\n",
              "      <th>Total_Crime</th>\n",
              "      <th>city_label</th>\n",
              "      <th>Useful</th>\n",
              "    </tr>\n",
              "  </thead>\n",
              "  <tbody>\n",
              "    <tr>\n",
              "      <th>0</th>\n",
              "      <td>24</td>\n",
              "      <td>4.000000</td>\n",
              "      <td>4.000000</td>\n",
              "      <td>3164</td>\n",
              "      <td>2.951100e+06</td>\n",
              "      <td>8486.0</td>\n",
              "      <td>9.0</td>\n",
              "      <td>0</td>\n",
              "      <td>112.310044</td>\n",
              "      <td>0</td>\n",
              "      <td>15555.0</td>\n",
              "      <td>63320.0</td>\n",
              "      <td>64703.0</td>\n",
              "      <td>3</td>\n",
              "      <td>0</td>\n",
              "    </tr>\n",
              "    <tr>\n",
              "      <th>1</th>\n",
              "      <td>92</td>\n",
              "      <td>2.994695</td>\n",
              "      <td>3.310526</td>\n",
              "      <td>0</td>\n",
              "      <td>1.946873e+06</td>\n",
              "      <td>2694.0</td>\n",
              "      <td>1341.0</td>\n",
              "      <td>0</td>\n",
              "      <td>112.310044</td>\n",
              "      <td>0</td>\n",
              "      <td>1500.0</td>\n",
              "      <td>63320.0</td>\n",
              "      <td>64703.0</td>\n",
              "      <td>3</td>\n",
              "      <td>1</td>\n",
              "    </tr>\n",
              "    <tr>\n",
              "      <th>2</th>\n",
              "      <td>36</td>\n",
              "      <td>4.000000</td>\n",
              "      <td>4.000000</td>\n",
              "      <td>1784</td>\n",
              "      <td>5.769300e+06</td>\n",
              "      <td>9321.0</td>\n",
              "      <td>18.0</td>\n",
              "      <td>0</td>\n",
              "      <td>112.310044</td>\n",
              "      <td>0</td>\n",
              "      <td>32750.0</td>\n",
              "      <td>63320.0</td>\n",
              "      <td>64703.0</td>\n",
              "      <td>3</td>\n",
              "      <td>0</td>\n",
              "    </tr>\n",
              "    <tr>\n",
              "      <th>3</th>\n",
              "      <td>35</td>\n",
              "      <td>2.000000</td>\n",
              "      <td>2.000000</td>\n",
              "      <td>892</td>\n",
              "      <td>3.829780e+06</td>\n",
              "      <td>3499.0</td>\n",
              "      <td>17.0</td>\n",
              "      <td>0</td>\n",
              "      <td>112.310044</td>\n",
              "      <td>0</td>\n",
              "      <td>21527.0</td>\n",
              "      <td>63320.0</td>\n",
              "      <td>64703.0</td>\n",
              "      <td>3</td>\n",
              "      <td>0</td>\n",
              "    </tr>\n",
              "    <tr>\n",
              "      <th>4</th>\n",
              "      <td>10</td>\n",
              "      <td>2.000000</td>\n",
              "      <td>3.000000</td>\n",
              "      <td>1115</td>\n",
              "      <td>1.018600e+06</td>\n",
              "      <td>3940.0</td>\n",
              "      <td>2.0</td>\n",
              "      <td>0</td>\n",
              "      <td>112.310044</td>\n",
              "      <td>0</td>\n",
              "      <td>6666.0</td>\n",
              "      <td>63320.0</td>\n",
              "      <td>64703.0</td>\n",
              "      <td>3</td>\n",
              "      <td>0</td>\n",
              "    </tr>\n",
              "    <tr>\n",
              "      <th>...</th>\n",
              "      <td>...</td>\n",
              "      <td>...</td>\n",
              "      <td>...</td>\n",
              "      <td>...</td>\n",
              "      <td>...</td>\n",
              "      <td>...</td>\n",
              "      <td>...</td>\n",
              "      <td>...</td>\n",
              "      <td>...</td>\n",
              "      <td>...</td>\n",
              "      <td>...</td>\n",
              "      <td>...</td>\n",
              "      <td>...</td>\n",
              "      <td>...</td>\n",
              "      <td>...</td>\n",
              "    </tr>\n",
              "    <tr>\n",
              "      <th>459</th>\n",
              "      <td>186</td>\n",
              "      <td>2.994695</td>\n",
              "      <td>3.310526</td>\n",
              "      <td>0</td>\n",
              "      <td>1.946873e+06</td>\n",
              "      <td>1694.0</td>\n",
              "      <td>85.0</td>\n",
              "      <td>0</td>\n",
              "      <td>112.310044</td>\n",
              "      <td>43560</td>\n",
              "      <td>861.0</td>\n",
              "      <td>153215.0</td>\n",
              "      <td>159041.0</td>\n",
              "      <td>0</td>\n",
              "      <td>1</td>\n",
              "    </tr>\n",
              "    <tr>\n",
              "      <th>460</th>\n",
              "      <td>7</td>\n",
              "      <td>2.000000</td>\n",
              "      <td>4.000000</td>\n",
              "      <td>1727</td>\n",
              "      <td>7.939000e+05</td>\n",
              "      <td>3200.0</td>\n",
              "      <td>1.0</td>\n",
              "      <td>0</td>\n",
              "      <td>112.310044</td>\n",
              "      <td>0</td>\n",
              "      <td>4383.0</td>\n",
              "      <td>153215.0</td>\n",
              "      <td>159041.0</td>\n",
              "      <td>0</td>\n",
              "      <td>0</td>\n",
              "    </tr>\n",
              "    <tr>\n",
              "      <th>461</th>\n",
              "      <td>96</td>\n",
              "      <td>3.000000</td>\n",
              "      <td>4.000000</td>\n",
              "      <td>2542</td>\n",
              "      <td>1.585300e+06</td>\n",
              "      <td>4500.0</td>\n",
              "      <td>15.0</td>\n",
              "      <td>0</td>\n",
              "      <td>112.310044</td>\n",
              "      <td>0</td>\n",
              "      <td>8750.0</td>\n",
              "      <td>153215.0</td>\n",
              "      <td>159041.0</td>\n",
              "      <td>0</td>\n",
              "      <td>0</td>\n",
              "    </tr>\n",
              "    <tr>\n",
              "      <th>462</th>\n",
              "      <td>192</td>\n",
              "      <td>2.994695</td>\n",
              "      <td>3.310526</td>\n",
              "      <td>0</td>\n",
              "      <td>1.946873e+06</td>\n",
              "      <td>1895.0</td>\n",
              "      <td>106.0</td>\n",
              "      <td>0</td>\n",
              "      <td>112.310044</td>\n",
              "      <td>435600</td>\n",
              "      <td>2772.0</td>\n",
              "      <td>153215.0</td>\n",
              "      <td>159041.0</td>\n",
              "      <td>0</td>\n",
              "      <td>0</td>\n",
              "    </tr>\n",
              "    <tr>\n",
              "      <th>463</th>\n",
              "      <td>142</td>\n",
              "      <td>5.000000</td>\n",
              "      <td>4.000000</td>\n",
              "      <td>5947</td>\n",
              "      <td>2.860400e+06</td>\n",
              "      <td>9577.0</td>\n",
              "      <td>43.0</td>\n",
              "      <td>0</td>\n",
              "      <td>112.310044</td>\n",
              "      <td>0</td>\n",
              "      <td>15883.0</td>\n",
              "      <td>153215.0</td>\n",
              "      <td>159041.0</td>\n",
              "      <td>0</td>\n",
              "      <td>0</td>\n",
              "    </tr>\n",
              "  </tbody>\n",
              "</table>\n",
              "<p>458 rows × 15 columns</p>\n",
              "</div>"
            ],
            "text/plain": [
              "     rank  bathrooms  bedrooms  ...  Total_Crime  city_label  Useful\n",
              "0      24   4.000000  4.000000  ...      64703.0           3       0\n",
              "1      92   2.994695  3.310526  ...      64703.0           3       1\n",
              "2      36   4.000000  4.000000  ...      64703.0           3       0\n",
              "3      35   2.000000  2.000000  ...      64703.0           3       0\n",
              "4      10   2.000000  3.000000  ...      64703.0           3       0\n",
              "..    ...        ...       ...  ...          ...         ...     ...\n",
              "459   186   2.994695  3.310526  ...     159041.0           0       1\n",
              "460     7   2.000000  4.000000  ...     159041.0           0       0\n",
              "461    96   3.000000  4.000000  ...     159041.0           0       0\n",
              "462   192   2.994695  3.310526  ...     159041.0           0       0\n",
              "463   142   5.000000  4.000000  ...     159041.0           0       0\n",
              "\n",
              "[458 rows x 15 columns]"
            ]
          },
          "metadata": {},
          "execution_count": 73
        }
      ]
    },
    {
      "cell_type": "code",
      "metadata": {
        "id": "1CL2SdwCPeYW"
      },
      "source": [
        "import numpy as np\n",
        "import matplotlib.pyplot as plt\n",
        "from matplotlib.colors import ListedColormap\n",
        "from sklearn.model_selection import train_test_split\n",
        "from sklearn.preprocessing import StandardScaler\n",
        "from sklearn.datasets import make_moons, make_circles, make_classification\n",
        "from sklearn.neural_network import MLPClassifier\n",
        "from sklearn.neighbors import KNeighborsClassifier\n",
        "from sklearn.svm import SVC\n",
        "from sklearn.gaussian_process import GaussianProcessClassifier\n",
        "from sklearn.gaussian_process.kernels import RBF\n",
        "from sklearn.tree import DecisionTreeClassifier\n",
        "from sklearn.ensemble import RandomForestClassifier, AdaBoostClassifier\n",
        "from sklearn.naive_bayes import GaussianNB\n",
        "from sklearn.discriminant_analysis import QuadraticDiscriminantAnalysis\n",
        "from sklearn.linear_model import LinearRegression"
      ],
      "execution_count": 74,
      "outputs": []
    },
    {
      "cell_type": "code",
      "metadata": {
        "colab": {
          "base_uri": "https://localhost:8080/",
          "height": 439
        },
        "id": "_XW0x_IwP1AW",
        "outputId": "c702fd4c-4284-451e-c580-b9e8d0fff014"
      },
      "source": [
        "\n",
        "trainX, testX = train_test_split(df[df.columns.drop('Useful')], test_size=0.30, random_state=1)\n",
        "trainY, testY = train_test_split(df['Useful'], test_size=0.30, random_state=1)\n",
        "trainX"
      ],
      "execution_count": 75,
      "outputs": [
        {
          "output_type": "execute_result",
          "data": {
            "text/html": [
              "<div>\n",
              "<style scoped>\n",
              "    .dataframe tbody tr th:only-of-type {\n",
              "        vertical-align: middle;\n",
              "    }\n",
              "\n",
              "    .dataframe tbody tr th {\n",
              "        vertical-align: top;\n",
              "    }\n",
              "\n",
              "    .dataframe thead th {\n",
              "        text-align: right;\n",
              "    }\n",
              "</style>\n",
              "<table border=\"1\" class=\"dataframe\">\n",
              "  <thead>\n",
              "    <tr style=\"text-align: right;\">\n",
              "      <th></th>\n",
              "      <th>rank</th>\n",
              "      <th>bathrooms</th>\n",
              "      <th>bedrooms</th>\n",
              "      <th>area</th>\n",
              "      <th>zestimate</th>\n",
              "      <th>rent_zestimate</th>\n",
              "      <th>days_on_zillow</th>\n",
              "      <th>is_zillow_owned</th>\n",
              "      <th>hoa</th>\n",
              "      <th>get_land_area_sqft</th>\n",
              "      <th>mortage_per_month</th>\n",
              "      <th>Population</th>\n",
              "      <th>Total_Crime</th>\n",
              "      <th>city_label</th>\n",
              "    </tr>\n",
              "  </thead>\n",
              "  <tbody>\n",
              "    <tr>\n",
              "      <th>98</th>\n",
              "      <td>34</td>\n",
              "      <td>3.0</td>\n",
              "      <td>3.0</td>\n",
              "      <td>1960</td>\n",
              "      <td>1.326600e+06</td>\n",
              "      <td>3895.000000</td>\n",
              "      <td>4.0</td>\n",
              "      <td>0</td>\n",
              "      <td>6.000000</td>\n",
              "      <td>0</td>\n",
              "      <td>7216.0</td>\n",
              "      <td>117220.0</td>\n",
              "      <td>121981.0</td>\n",
              "      <td>1</td>\n",
              "    </tr>\n",
              "    <tr>\n",
              "      <th>296</th>\n",
              "      <td>31</td>\n",
              "      <td>3.0</td>\n",
              "      <td>4.0</td>\n",
              "      <td>2251</td>\n",
              "      <td>1.946873e+06</td>\n",
              "      <td>5903.580569</td>\n",
              "      <td>2.0</td>\n",
              "      <td>0</td>\n",
              "      <td>75.000000</td>\n",
              "      <td>0</td>\n",
              "      <td>4861.0</td>\n",
              "      <td>153215.0</td>\n",
              "      <td>159041.0</td>\n",
              "      <td>0</td>\n",
              "    </tr>\n",
              "    <tr>\n",
              "      <th>320</th>\n",
              "      <td>64</td>\n",
              "      <td>3.0</td>\n",
              "      <td>4.0</td>\n",
              "      <td>3123</td>\n",
              "      <td>1.131600e+06</td>\n",
              "      <td>4728.000000</td>\n",
              "      <td>8.0</td>\n",
              "      <td>0</td>\n",
              "      <td>112.310044</td>\n",
              "      <td>0</td>\n",
              "      <td>6250.0</td>\n",
              "      <td>153215.0</td>\n",
              "      <td>159041.0</td>\n",
              "      <td>0</td>\n",
              "    </tr>\n",
              "    <tr>\n",
              "      <th>342</th>\n",
              "      <td>128</td>\n",
              "      <td>2.0</td>\n",
              "      <td>2.0</td>\n",
              "      <td>992</td>\n",
              "      <td>2.478000e+05</td>\n",
              "      <td>1957.000000</td>\n",
              "      <td>36.0</td>\n",
              "      <td>0</td>\n",
              "      <td>250.000000</td>\n",
              "      <td>0</td>\n",
              "      <td>1361.0</td>\n",
              "      <td>153215.0</td>\n",
              "      <td>159041.0</td>\n",
              "      <td>0</td>\n",
              "    </tr>\n",
              "    <tr>\n",
              "      <th>356</th>\n",
              "      <td>165</td>\n",
              "      <td>5.0</td>\n",
              "      <td>6.0</td>\n",
              "      <td>6014</td>\n",
              "      <td>2.400000e+06</td>\n",
              "      <td>7995.000000</td>\n",
              "      <td>58.0</td>\n",
              "      <td>0</td>\n",
              "      <td>112.310044</td>\n",
              "      <td>0</td>\n",
              "      <td>13333.0</td>\n",
              "      <td>153215.0</td>\n",
              "      <td>159041.0</td>\n",
              "      <td>0</td>\n",
              "    </tr>\n",
              "    <tr>\n",
              "      <th>...</th>\n",
              "      <td>...</td>\n",
              "      <td>...</td>\n",
              "      <td>...</td>\n",
              "      <td>...</td>\n",
              "      <td>...</td>\n",
              "      <td>...</td>\n",
              "      <td>...</td>\n",
              "      <td>...</td>\n",
              "      <td>...</td>\n",
              "      <td>...</td>\n",
              "      <td>...</td>\n",
              "      <td>...</td>\n",
              "      <td>...</td>\n",
              "      <td>...</td>\n",
              "    </tr>\n",
              "    <tr>\n",
              "      <th>255</th>\n",
              "      <td>13</td>\n",
              "      <td>3.0</td>\n",
              "      <td>4.0</td>\n",
              "      <td>1724</td>\n",
              "      <td>1.946873e+06</td>\n",
              "      <td>5903.580569</td>\n",
              "      <td>1.0</td>\n",
              "      <td>0</td>\n",
              "      <td>140.000000</td>\n",
              "      <td>0</td>\n",
              "      <td>4163.0</td>\n",
              "      <td>153215.0</td>\n",
              "      <td>159041.0</td>\n",
              "      <td>0</td>\n",
              "    </tr>\n",
              "    <tr>\n",
              "      <th>72</th>\n",
              "      <td>12</td>\n",
              "      <td>2.0</td>\n",
              "      <td>4.0</td>\n",
              "      <td>1890</td>\n",
              "      <td>1.946873e+06</td>\n",
              "      <td>2694.000000</td>\n",
              "      <td>3.0</td>\n",
              "      <td>0</td>\n",
              "      <td>112.310044</td>\n",
              "      <td>0</td>\n",
              "      <td>10554.0</td>\n",
              "      <td>63320.0</td>\n",
              "      <td>64703.0</td>\n",
              "      <td>3</td>\n",
              "    </tr>\n",
              "    <tr>\n",
              "      <th>400</th>\n",
              "      <td>93</td>\n",
              "      <td>2.0</td>\n",
              "      <td>3.0</td>\n",
              "      <td>1350</td>\n",
              "      <td>7.283000e+05</td>\n",
              "      <td>3095.000000</td>\n",
              "      <td>13.0</td>\n",
              "      <td>0</td>\n",
              "      <td>112.310044</td>\n",
              "      <td>0</td>\n",
              "      <td>3883.0</td>\n",
              "      <td>153215.0</td>\n",
              "      <td>159041.0</td>\n",
              "      <td>0</td>\n",
              "    </tr>\n",
              "    <tr>\n",
              "      <th>235</th>\n",
              "      <td>2</td>\n",
              "      <td>2.0</td>\n",
              "      <td>4.0</td>\n",
              "      <td>0</td>\n",
              "      <td>2.867200e+06</td>\n",
              "      <td>5984.000000</td>\n",
              "      <td>8.0</td>\n",
              "      <td>0</td>\n",
              "      <td>112.310044</td>\n",
              "      <td>0</td>\n",
              "      <td>15833.0</td>\n",
              "      <td>4369.0</td>\n",
              "      <td>4517.0</td>\n",
              "      <td>2</td>\n",
              "    </tr>\n",
              "    <tr>\n",
              "      <th>37</th>\n",
              "      <td>68</td>\n",
              "      <td>4.0</td>\n",
              "      <td>3.0</td>\n",
              "      <td>3070</td>\n",
              "      <td>5.655300e+06</td>\n",
              "      <td>19303.000000</td>\n",
              "      <td>74.0</td>\n",
              "      <td>0</td>\n",
              "      <td>112.310044</td>\n",
              "      <td>0</td>\n",
              "      <td>32500.0</td>\n",
              "      <td>63320.0</td>\n",
              "      <td>64703.0</td>\n",
              "      <td>3</td>\n",
              "    </tr>\n",
              "  </tbody>\n",
              "</table>\n",
              "<p>320 rows × 14 columns</p>\n",
              "</div>"
            ],
            "text/plain": [
              "     rank  bathrooms  bedrooms  ...  Population  Total_Crime  city_label\n",
              "98     34        3.0       3.0  ...    117220.0     121981.0           1\n",
              "296    31        3.0       4.0  ...    153215.0     159041.0           0\n",
              "320    64        3.0       4.0  ...    153215.0     159041.0           0\n",
              "342   128        2.0       2.0  ...    153215.0     159041.0           0\n",
              "356   165        5.0       6.0  ...    153215.0     159041.0           0\n",
              "..    ...        ...       ...  ...         ...          ...         ...\n",
              "255    13        3.0       4.0  ...    153215.0     159041.0           0\n",
              "72     12        2.0       4.0  ...     63320.0      64703.0           3\n",
              "400    93        2.0       3.0  ...    153215.0     159041.0           0\n",
              "235     2        2.0       4.0  ...      4369.0       4517.0           2\n",
              "37     68        4.0       3.0  ...     63320.0      64703.0           3\n",
              "\n",
              "[320 rows x 14 columns]"
            ]
          },
          "metadata": {},
          "execution_count": 75
        }
      ]
    },
    {
      "cell_type": "code",
      "metadata": {
        "colab": {
          "base_uri": "https://localhost:8080/",
          "height": 691
        },
        "id": "qck5LJZmX299",
        "outputId": "d08eacd9-4044-4462-86c9-6d56cfc83c15"
      },
      "source": [
        "from sklearn.datasets import make_classification\n",
        "from sklearn.linear_model import LogisticRegression\n",
        "from matplotlib import pyplot\n",
        "# define dataset\n",
        "X, y = make_classification(n_samples=1000, n_features=10, n_informative=5, n_redundant=5, random_state=1)\n",
        "# define the model\n",
        "model = LogisticRegression()\n",
        "# fit the model\n",
        "model.fit(trainX, trainY)\n",
        "# get importance\n",
        "importance = model.coef_[0]\n",
        "# summarize feature importance\n",
        "for i,v in enumerate(importance):\n",
        "\tprint('Feature: %0d, Score: %.5f' % (i,v))\n",
        "# plot feature importance\n",
        "pyplot.bar([x for x in range(len(importance))], importance)\n",
        "pyplot.show()"
      ],
      "execution_count": 76,
      "outputs": [
        {
          "output_type": "stream",
          "name": "stderr",
          "text": [
            "/usr/local/lib/python3.7/dist-packages/sklearn/linear_model/_logistic.py:940: ConvergenceWarning: lbfgs failed to converge (status=1):\n",
            "STOP: TOTAL NO. of ITERATIONS REACHED LIMIT.\n",
            "\n",
            "Increase the number of iterations (max_iter) or scale the data as shown in:\n",
            "    https://scikit-learn.org/stable/modules/preprocessing.html\n",
            "Please also refer to the documentation for alternative solver options:\n",
            "    https://scikit-learn.org/stable/modules/linear_model.html#logistic-regression\n",
            "  extra_warning_msg=_LOGISTIC_SOLVER_CONVERGENCE_MSG)\n"
          ]
        },
        {
          "output_type": "stream",
          "name": "stdout",
          "text": [
            "Feature: 0, Score: 0.00759\n",
            "Feature: 1, Score: 0.00006\n",
            "Feature: 2, Score: 0.00007\n",
            "Feature: 3, Score: -0.02796\n",
            "Feature: 4, Score: 0.00000\n",
            "Feature: 5, Score: 0.10777\n",
            "Feature: 6, Score: 0.00819\n",
            "Feature: 7, Score: -0.00000\n",
            "Feature: 8, Score: -0.02045\n",
            "Feature: 9, Score: 0.00010\n",
            "Feature: 10, Score: -0.09310\n",
            "Feature: 11, Score: -0.00186\n",
            "Feature: 12, Score: 0.00153\n",
            "Feature: 13, Score: 0.00005\n"
          ]
        },
        {
          "output_type": "display_data",
          "data": {
            "image/png": "[encoded data removed]",
            "text/plain": [
              "<Figure size 432x288 with 1 Axes>"
            ]
          },
          "metadata": {}
        }
      ]
    },
    {
      "cell_type": "code",
      "metadata": {
        "colab": {
          "base_uri": "https://localhost:8080/",
          "height": 535
        },
        "id": "C6S46lc4X6dB",
        "outputId": "12d978e3-3440-4460-dca5-537124cdc689"
      },
      "source": [
        "from sklearn.datasets import make_classification\n",
        "\n",
        "from matplotlib import pyplot\n",
        "# define dataset\n",
        "X, y = make_classification(n_samples=1000, n_features=10, n_informative=5, n_redundant=5, random_state=1)\n",
        "# define the model\n",
        "model = DecisionTreeClassifier(max_depth=5)\n",
        "# fit the model\n",
        "model.fit(trainX, trainY)\n",
        "# get importance\n",
        "importance = model.feature_importances_\n",
        "# summarize feature importance\n",
        "for i,v in enumerate(importance):\n",
        "\tprint('Feature: %0d, Score: %.5f' % (i,v))\n",
        "# plot feature importance\n",
        "pyplot.bar([x for x in range(len(importance))], importance)\n",
        "pyplot.show()"
      ],
      "execution_count": 77,
      "outputs": [
        {
          "output_type": "stream",
          "name": "stdout",
          "text": [
            "Feature: 0, Score: 0.00000\n",
            "Feature: 1, Score: 0.00000\n",
            "Feature: 2, Score: 0.00000\n",
            "Feature: 3, Score: 0.00000\n",
            "Feature: 4, Score: 0.01000\n",
            "Feature: 5, Score: 0.11970\n",
            "Feature: 6, Score: 0.01364\n",
            "Feature: 7, Score: 0.00000\n",
            "Feature: 8, Score: 0.00637\n",
            "Feature: 9, Score: 0.00000\n",
            "Feature: 10, Score: 0.85029\n",
            "Feature: 11, Score: 0.00000\n",
            "Feature: 12, Score: 0.00000\n",
            "Feature: 13, Score: 0.00000\n"
          ]
        },
        {
          "output_type": "display_data",
          "data": {
            "image/png": "[encoded data removed]",
            "text/plain": [
              "<Figure size 432x288 with 1 Axes>"
            ]
          },
          "metadata": {}
        }
      ]
    },
    {
      "cell_type": "code",
      "metadata": {
        "colab": {
          "base_uri": "https://localhost:8080/",
          "height": 535
        },
        "id": "WpDK-YifYiHm",
        "outputId": "3007aa12-6b4d-416f-c562-2b9bae505399"
      },
      "source": [
        "from sklearn.datasets import make_classification\n",
        "\n",
        "from matplotlib import pyplot\n",
        "# define dataset\n",
        "X, y = make_classification(n_samples=1000, n_features=10, n_informative=5, n_redundant=5, random_state=1)\n",
        "# define the model\n",
        "model = RandomForestClassifier(max_depth=5, n_estimators=10, max_features=1)\n",
        "# fit the model\n",
        "model.fit(trainX, trainY)\n",
        "# get importance\n",
        "importance = model.feature_importances_\n",
        "# summarize feature importance\n",
        "for i,v in enumerate(importance):\n",
        "\tprint('Feature: %0d, Score: %.5f' % (i,v))\n",
        "# plot feature importance\n",
        "pyplot.bar([x for x in range(len(importance))], importance)\n",
        "pyplot.show()"
      ],
      "execution_count": 78,
      "outputs": [
        {
          "output_type": "stream",
          "name": "stdout",
          "text": [
            "Feature: 0, Score: 0.05581\n",
            "Feature: 1, Score: 0.22357\n",
            "Feature: 2, Score: 0.04147\n",
            "Feature: 3, Score: 0.04644\n",
            "Feature: 4, Score: 0.15999\n",
            "Feature: 5, Score: 0.12004\n",
            "Feature: 6, Score: 0.03543\n",
            "Feature: 7, Score: 0.00527\n",
            "Feature: 8, Score: 0.01947\n",
            "Feature: 9, Score: 0.01848\n",
            "Feature: 10, Score: 0.20846\n",
            "Feature: 11, Score: 0.02231\n",
            "Feature: 12, Score: 0.01365\n",
            "Feature: 13, Score: 0.02962\n"
          ]
        },
        {
          "output_type": "display_data",
          "data": {
            "image/png": "[encoded data removed]",
            "text/plain": [
              "<Figure size 432x288 with 1 Axes>"
            ]
          },
          "metadata": {}
        }
      ]
    },
    {
      "cell_type": "markdown",
      "metadata": {
        "id": "jyE2vf-NfNxV"
      },
      "source": [
        "## **6. Training the Model using Muller Loop**"
      ]
    },
    {
      "cell_type": "code",
      "metadata": {
        "id": "e_W9soyHPvOn"
      },
      "source": [
        "import xgboost\n",
        "names = [\"Nearest Neighbors\", \"Linear SVM\", \"RBF SVM\", #\"Gaussian Process\",\n",
        "         \"Decision Tree\", \"Random Forest\", \"Neural Net\", \"AdaBoost\",\n",
        "         \"Naive Bayes\", \"QDA\",\"XG\",\"LinearRegression\"]\n",
        "\n",
        "classifiers = [\n",
        "    KNeighborsClassifier(2),\n",
        "    SVC(kernel=\"linear\", C=0.025),\n",
        "    SVC(gamma=2, C=1),\n",
        "#     GaussianProcessClassifier(1.0 * RBF(1.0)),\n",
        "    DecisionTreeClassifier(max_depth=5),\n",
        "    RandomForestClassifier(max_depth=5, n_estimators=10, max_features=1),\n",
        "    MLPClassifier(alpha=1, max_iter=1000),\n",
        "    AdaBoostClassifier(),\n",
        "    GaussianNB(),\n",
        "    QuadraticDiscriminantAnalysis(),\n",
        "    # xgboost.XGBRegressor(),\n",
        "    # LinearRegression()\n",
        "    ]"
      ],
      "execution_count": 79,
      "outputs": []
    },
    {
      "cell_type": "markdown",
      "metadata": {
        "id": "gxMOZOP0f3LT"
      },
      "source": [
        "Using confusion matrix to compare Models"
      ]
    },
    {
      "cell_type": "code",
      "metadata": {
        "colab": {
          "base_uri": "https://localhost:8080/",
          "height": 1000
        },
        "id": "kTlOJVjnPxAB",
        "outputId": "1fb789cf-4428-46d2-9b7b-a2798b405dd3"
      },
      "source": [
        "from sklearn.metrics import accuracy_score, confusion_matrix, classification_report, fbeta_score\n",
        "from time import time\n",
        "max_score = 0.0\n",
        "max_class = ''\n",
        "# iterate over classifiers\n",
        "score_compare={}\n",
        "index=0\n",
        "accuracy={}\n",
        "specificity={}\n",
        "sensitivity={}\n",
        "for name, clf in zip(names, classifiers):\n",
        "    # print(accuracy)\n",
        "    start_time = time()\n",
        "    clf.fit(trainX, trainY)\n",
        "    score = 100.0 * clf.score(testX, testY)\n",
        "    y_pred=clf.predict(testX)\n",
        "    print('Classifier = %s, Score (test, accuracy) = %.2f,' %(name, score), 'Training time = %.2f seconds' % (time() - start_time))\n",
        "    \n",
        "    \n",
        "    accuracy[names[index]]=accuracy_score(testY,y_pred)*100\n",
        "    cm=confusion_matrix(testY, y_pred)\n",
        "\n",
        "    print(cm)\n",
        "    sensitivity[names[index]] = (cm[0,0]/(cm[0,0]+cm[0,1]))*100\n",
        "    specificity[names[index]] = (cm[1,1]/(cm[1,0]+cm[1,1]))*100\n",
        "    index+=1\n",
        "    if score > max_score:\n",
        "        clf_best = clf\n",
        "        max_score = score\n",
        "        max_class = name\n",
        "\n",
        "    print(80*'-*')\n",
        "\n",
        "print(80*'-' )\n",
        "print('Best --> Classifier = %s, Score (test, accuracy) = %.2f' %(max_class, max_score))\n",
        "print(accuracy)\n",
        "accuracy=pd.DataFrame.from_dict(accuracy,orient='index').reset_index()\n",
        "sensitivity=pd.DataFrame.from_dict(sensitivity,orient='index').reset_index()\n",
        "specificity=pd.DataFrame.from_dict(specificity,orient='index').reset_index()\n",
        "# print(accuracy)\n",
        "accuracy.columns=['model_name','accuracy']\n",
        "sensitivity.columns=['model_name','sensitivity']\n",
        "specificity.columns=['model_name','specificity']\n",
        "plt.figure(figsize=(16, 6))\n",
        "ax = sns.lineplot(data=accuracy, x='model_name', y='accuracy',legend='full')\n",
        "ax = sns.lineplot(data=sensitivity, x='model_name', y='sensitivity',legend='full')\n",
        "ax = sns.lineplot(data=specificity, x='model_name', y='specificity',legend='full')\n",
        "ax = sns.barplot(data=accuracy, x='model_name', y='accuracy')\n",
        "plt.title('Blue :Accuracy,Orange: Senstivity,Green : Specicificity ')"
      ],
      "execution_count": 80,
      "outputs": [
        {
          "output_type": "stream",
          "name": "stdout",
          "text": [
            "Classifier = Nearest Neighbors, Score (test, accuracy) = 92.03, Training time = 0.02 seconds\n",
            "[[104   1]\n",
            " [ 10  23]]\n",
            "-*-*-*-*-*-*-*-*-*-*-*-*-*-*-*-*-*-*-*-*-*-*-*-*-*-*-*-*-*-*-*-*-*-*-*-*-*-*-*-*-*-*-*-*-*-*-*-*-*-*-*-*-*-*-*-*-*-*-*-*-*-*-*-*-*-*-*-*-*-*-*-*-*-*-*-*-*-*-*-*\n",
            "Classifier = Linear SVM, Score (test, accuracy) = 99.28, Training time = 4.41 seconds\n",
            "[[104   1]\n",
            " [  0  33]]\n",
            "-*-*-*-*-*-*-*-*-*-*-*-*-*-*-*-*-*-*-*-*-*-*-*-*-*-*-*-*-*-*-*-*-*-*-*-*-*-*-*-*-*-*-*-*-*-*-*-*-*-*-*-*-*-*-*-*-*-*-*-*-*-*-*-*-*-*-*-*-*-*-*-*-*-*-*-*-*-*-*-*\n",
            "Classifier = RBF SVM, Score (test, accuracy) = 76.09, Training time = 0.01 seconds\n",
            "[[105   0]\n",
            " [ 33   0]]\n",
            "-*-*-*-*-*-*-*-*-*-*-*-*-*-*-*-*-*-*-*-*-*-*-*-*-*-*-*-*-*-*-*-*-*-*-*-*-*-*-*-*-*-*-*-*-*-*-*-*-*-*-*-*-*-*-*-*-*-*-*-*-*-*-*-*-*-*-*-*-*-*-*-*-*-*-*-*-*-*-*-*\n",
            "Classifier = Decision Tree, Score (test, accuracy) = 93.48, Training time = 0.01 seconds\n",
            "[[101   4]\n",
            " [  5  28]]\n",
            "-*-*-*-*-*-*-*-*-*-*-*-*-*-*-*-*-*-*-*-*-*-*-*-*-*-*-*-*-*-*-*-*-*-*-*-*-*-*-*-*-*-*-*-*-*-*-*-*-*-*-*-*-*-*-*-*-*-*-*-*-*-*-*-*-*-*-*-*-*-*-*-*-*-*-*-*-*-*-*-*\n",
            "Classifier = Random Forest, Score (test, accuracy) = 88.41, Training time = 0.02 seconds\n",
            "[[104   1]\n",
            " [ 15  18]]\n",
            "-*-*-*-*-*-*-*-*-*-*-*-*-*-*-*-*-*-*-*-*-*-*-*-*-*-*-*-*-*-*-*-*-*-*-*-*-*-*-*-*-*-*-*-*-*-*-*-*-*-*-*-*-*-*-*-*-*-*-*-*-*-*-*-*-*-*-*-*-*-*-*-*-*-*-*-*-*-*-*-*\n",
            "Classifier = Neural Net, Score (test, accuracy) = 90.58, Training time = 1.04 seconds\n",
            "[[104   1]\n",
            " [ 12  21]]\n",
            "-*-*-*-*-*-*-*-*-*-*-*-*-*-*-*-*-*-*-*-*-*-*-*-*-*-*-*-*-*-*-*-*-*-*-*-*-*-*-*-*-*-*-*-*-*-*-*-*-*-*-*-*-*-*-*-*-*-*-*-*-*-*-*-*-*-*-*-*-*-*-*-*-*-*-*-*-*-*-*-*\n",
            "Classifier = AdaBoost, Score (test, accuracy) = 96.38, Training time = 0.15 seconds\n",
            "[[104   1]\n",
            " [  4  29]]\n",
            "-*-*-*-*-*-*-*-*-*-*-*-*-*-*-*-*-*-*-*-*-*-*-*-*-*-*-*-*-*-*-*-*-*-*-*-*-*-*-*-*-*-*-*-*-*-*-*-*-*-*-*-*-*-*-*-*-*-*-*-*-*-*-*-*-*-*-*-*-*-*-*-*-*-*-*-*-*-*-*-*\n",
            "Classifier = Naive Bayes, Score (test, accuracy) = 59.42, Training time = 0.01 seconds\n",
            "[[53 52]\n",
            " [ 4 29]]\n",
            "-*-*-*-*-*-*-*-*-*-*-*-*-*-*-*-*-*-*-*-*-*-*-*-*-*-*-*-*-*-*-*-*-*-*-*-*-*-*-*-*-*-*-*-*-*-*-*-*-*-*-*-*-*-*-*-*-*-*-*-*-*-*-*-*-*-*-*-*-*-*-*-*-*-*-*-*-*-*-*-*\n",
            "Classifier = QDA, Score (test, accuracy) = 81.88, Training time = 0.03 seconds\n",
            "[[89 16]\n",
            " [ 9 24]]\n",
            "-*-*-*-*-*-*-*-*-*-*-*-*-*-*-*-*-*-*-*-*-*-*-*-*-*-*-*-*-*-*-*-*-*-*-*-*-*-*-*-*-*-*-*-*-*-*-*-*-*-*-*-*-*-*-*-*-*-*-*-*-*-*-*-*-*-*-*-*-*-*-*-*-*-*-*-*-*-*-*-*\n",
            "--------------------------------------------------------------------------------\n",
            "Best --> Classifier = Linear SVM, Score (test, accuracy) = 99.28\n",
            "{'Nearest Neighbors': 92.02898550724638, 'Linear SVM': 99.27536231884058, 'RBF SVM': 76.08695652173914, 'Decision Tree': 93.47826086956522, 'Random Forest': 88.40579710144928, 'Neural Net': 90.57971014492753, 'AdaBoost': 96.37681159420289, 'Naive Bayes': 59.42028985507246, 'QDA': 81.88405797101449}\n"
          ]
        },
        {
          "output_type": "stream",
          "name": "stderr",
          "text": [
            "/usr/local/lib/python3.7/dist-packages/sklearn/discriminant_analysis.py:691: UserWarning: Variables are collinear\n",
            "  warnings.warn(\"Variables are collinear\")\n"
          ]
        },
        {
          "output_type": "execute_result",
          "data": {
            "text/plain": [
              "Text(0.5, 1.0, 'Blue :Accuracy,Orange: Senstivity,Green : Specicificity ')"
            ]
          },
          "metadata": {},
          "execution_count": 80
        },
        {
          "output_type": "display_data",
          "data": {
            "image/png": "[encoded data removed]",
            "text/plain": [
              "<Figure size 1152x432 with 1 Axes>"
            ]
          },
          "metadata": {}
        }
      ]
    },
    {
      "cell_type": "markdown",
      "metadata": {
        "id": "IUuMEo9Lf7fB"
      },
      "source": [
        "## **The best classifier model with accuracy of 99.28. is Linear SVM Model. **"
      ]
    },
    {
      "cell_type": "markdown",
      "metadata": {
        "id": "u7z__ovdgUPe"
      },
      "source": [
        "## **7. Doing feature transformation using PCA and calculating the confusion matrix again.**\n",
        "\n",
        "\n",
        "I also used pickle() to dump all the models."
      ]
    },
    {
      "cell_type": "code",
      "metadata": {
        "id": "XdliMdPnPyv7"
      },
      "source": [
        "from sklearn.decomposition import PCA\n",
        "X=df.loc[:,df.columns!='Useful']\n",
        "pca = PCA(n_components=0.99)\n",
        "pca.fit(X)\n",
        "X_pca = pca.transform(X)"
      ],
      "execution_count": 81,
      "outputs": []
    },
    {
      "cell_type": "code",
      "metadata": {
        "colab": {
          "base_uri": "https://localhost:8080/"
        },
        "id": "CJingVMBWzv2",
        "outputId": "241b4149-4691-4673-8363-6be0e7083d98"
      },
      "source": [
        "print(\"original shape:   \", X.shape)\n",
        "print(\"transformed shape:\", X_pca.shape)\n"
      ],
      "execution_count": 82,
      "outputs": [
        {
          "output_type": "stream",
          "name": "stdout",
          "text": [
            "original shape:    (458, 14)\n",
            "transformed shape: (458, 2)\n"
          ]
        }
      ]
    },
    {
      "cell_type": "code",
      "metadata": {
        "id": "htVAan6HWnfm"
      },
      "source": [
        "X=pd.DataFrame(X_pca)"
      ],
      "execution_count": 83,
      "outputs": []
    },
    {
      "cell_type": "code",
      "metadata": {
        "colab": {
          "base_uri": "https://localhost:8080/",
          "height": 419
        },
        "id": "FvhycHQ1W7rp",
        "outputId": "9c623376-609d-4e86-ab79-2fdf47683aff"
      },
      "source": [
        "trainX, testX = train_test_split(X, test_size=0.30, random_state=1)\n",
        "trainY, testY = train_test_split(df['Useful'], test_size=0.30, random_state=1)\n",
        "trainX"
      ],
      "execution_count": 84,
      "outputs": [
        {
          "output_type": "execute_result",
          "data": {
            "text/html": [
              "<div>\n",
              "<style scoped>\n",
              "    .dataframe tbody tr th:only-of-type {\n",
              "        vertical-align: middle;\n",
              "    }\n",
              "\n",
              "    .dataframe tbody tr th {\n",
              "        vertical-align: top;\n",
              "    }\n",
              "\n",
              "    .dataframe thead th {\n",
              "        text-align: right;\n",
              "    }\n",
              "</style>\n",
              "<table border=\"1\" class=\"dataframe\">\n",
              "  <thead>\n",
              "    <tr style=\"text-align: right;\">\n",
              "      <th></th>\n",
              "      <th>0</th>\n",
              "      <th>1</th>\n",
              "    </tr>\n",
              "  </thead>\n",
              "  <tbody>\n",
              "    <tr>\n",
              "      <th>98</th>\n",
              "      <td>-6.202757e+05</td>\n",
              "      <td>-50815.512281</td>\n",
              "    </tr>\n",
              "    <tr>\n",
              "      <th>296</th>\n",
              "      <td>-9.311129e+02</td>\n",
              "      <td>-49456.969685</td>\n",
              "    </tr>\n",
              "    <tr>\n",
              "      <th>320</th>\n",
              "      <td>-8.160791e+05</td>\n",
              "      <td>-49743.058645</td>\n",
              "    </tr>\n",
              "    <tr>\n",
              "      <th>341</th>\n",
              "      <td>-1.699784e+06</td>\n",
              "      <td>-50062.079085</td>\n",
              "    </tr>\n",
              "    <tr>\n",
              "      <th>354</th>\n",
              "      <td>4.521822e+05</td>\n",
              "      <td>-49284.039686</td>\n",
              "    </tr>\n",
              "    <tr>\n",
              "      <th>...</th>\n",
              "      <td>...</td>\n",
              "      <td>...</td>\n",
              "    </tr>\n",
              "    <tr>\n",
              "      <th>255</th>\n",
              "      <td>-9.351214e+02</td>\n",
              "      <td>-49457.973775</td>\n",
              "    </tr>\n",
              "    <tr>\n",
              "      <th>72</th>\n",
              "      <td>1.183659e+03</td>\n",
              "      <td>-52330.875792</td>\n",
              "    </tr>\n",
              "    <tr>\n",
              "      <th>396</th>\n",
              "      <td>-1.219337e+06</td>\n",
              "      <td>-49887.753066</td>\n",
              "    </tr>\n",
              "    <tr>\n",
              "      <th>235</th>\n",
              "      <td>9.227642e+05</td>\n",
              "      <td>-53863.587398</td>\n",
              "    </tr>\n",
              "    <tr>\n",
              "      <th>37</th>\n",
              "      <td>3.709228e+06</td>\n",
              "      <td>-50988.494038</td>\n",
              "    </tr>\n",
              "  </tbody>\n",
              "</table>\n",
              "<p>320 rows × 2 columns</p>\n",
              "</div>"
            ],
            "text/plain": [
              "                0             1\n",
              "98  -6.202757e+05 -50815.512281\n",
              "296 -9.311129e+02 -49456.969685\n",
              "320 -8.160791e+05 -49743.058645\n",
              "341 -1.699784e+06 -50062.079085\n",
              "354  4.521822e+05 -49284.039686\n",
              "..            ...           ...\n",
              "255 -9.351214e+02 -49457.973775\n",
              "72   1.183659e+03 -52330.875792\n",
              "396 -1.219337e+06 -49887.753066\n",
              "235  9.227642e+05 -53863.587398\n",
              "37   3.709228e+06 -50988.494038\n",
              "\n",
              "[320 rows x 2 columns]"
            ]
          },
          "metadata": {},
          "execution_count": 84
        }
      ]
    },
    {
      "cell_type": "code",
      "metadata": {
        "colab": {
          "base_uri": "https://localhost:8080/",
          "height": 1000
        },
        "id": "8IABdAdCXCl2",
        "outputId": "6629a608-35ac-43f8-ffb4-5ff3ed305fa9"
      },
      "source": [
        "from sklearn.metrics import accuracy_score, confusion_matrix, classification_report, fbeta_score\n",
        "from time import time\n",
        "import pickle\n",
        "\n",
        "\n",
        "max_score = 0.0\n",
        "max_class = ''\n",
        "# iterate over classifiers\n",
        "score_compare={}\n",
        "index=0\n",
        "accuracy={}\n",
        "specificity={}\n",
        "sensitivity={}\n",
        "for name, clf in zip(names, classifiers):\n",
        "    # print(accuracy)\n",
        "    start_time = time()\n",
        "    clf.fit(trainX, trainY)\n",
        "    score = 100.0 * clf.score(testX, testY)\n",
        "\n",
        "    pickle.dump(clf, open(name+'.pkl','wb'))\n",
        "\n",
        "    y_pred=clf.predict(testX)\n",
        "    print('Classifier = %s, Score (test, accuracy) = %.2f,' %(name, score), 'Training time = %.2f seconds' % (time() - start_time))\n",
        "\n",
        "# plot feature importance\n",
        "    \n",
        "    \n",
        "    \n",
        "    accuracy[names[index]]=accuracy_score(testY,y_pred)*100\n",
        "    cm=confusion_matrix(testY, y_pred)\n",
        "\n",
        "    print(cm)\n",
        "    sensitivity[names[index]] = (cm[0,0]/(cm[0,0]+cm[0,1]))*100\n",
        "    specificity[names[index]] = (cm[1,1]/(cm[1,0]+cm[1,1]))*100\n",
        "    index+=1\n",
        "    if score > max_score:\n",
        "        clf_best = clf\n",
        "        max_score = score\n",
        "        max_class = name\n",
        "\n",
        "    print(80*'-*')\n",
        "\n",
        "print(80*'-' )\n",
        "print('Best --> Classifier = %s, Score (test, accuracy) = %.2f' %(max_class, max_score))\n",
        "print(accuracy)\n",
        "accuracy=pd.DataFrame.from_dict(accuracy,orient='index').reset_index()\n",
        "sensitivity=pd.DataFrame.from_dict(sensitivity,orient='index').reset_index()\n",
        "specificity=pd.DataFrame.from_dict(specificity,orient='index').reset_index()\n",
        "# print(accuracy)\n",
        "accuracy.columns=['model_name','accuracy']\n",
        "sensitivity.columns=['model_name','sensitivity']\n",
        "specificity.columns=['model_name','specificity']\n",
        "plt.figure(figsize=(16, 6))\n",
        "ax = sns.lineplot(data=accuracy, x='model_name', y='accuracy',legend='full')\n",
        "ax = sns.lineplot(data=sensitivity, x='model_name', y='sensitivity',legend='full')\n",
        "ax = sns.lineplot(data=specificity, x='model_name', y='specificity',legend='full')\n",
        "ax = sns.barplot(data=accuracy, x='model_name', y='accuracy')\n",
        "plt.title('Blue :Accuracy,Orange: Senstivity,Green : Specicificity ')"
      ],
      "execution_count": 85,
      "outputs": [
        {
          "output_type": "stream",
          "name": "stdout",
          "text": [
            "Classifier = Nearest Neighbors, Score (test, accuracy) = 89.13, Training time = 0.02 seconds\n",
            "[[103   2]\n",
            " [ 13  20]]\n",
            "-*-*-*-*-*-*-*-*-*-*-*-*-*-*-*-*-*-*-*-*-*-*-*-*-*-*-*-*-*-*-*-*-*-*-*-*-*-*-*-*-*-*-*-*-*-*-*-*-*-*-*-*-*-*-*-*-*-*-*-*-*-*-*-*-*-*-*-*-*-*-*-*-*-*-*-*-*-*-*-*\n",
            "Classifier = Linear SVM, Score (test, accuracy) = 81.16, Training time = 94.08 seconds\n",
            "[[103   2]\n",
            " [ 24   9]]\n",
            "-*-*-*-*-*-*-*-*-*-*-*-*-*-*-*-*-*-*-*-*-*-*-*-*-*-*-*-*-*-*-*-*-*-*-*-*-*-*-*-*-*-*-*-*-*-*-*-*-*-*-*-*-*-*-*-*-*-*-*-*-*-*-*-*-*-*-*-*-*-*-*-*-*-*-*-*-*-*-*-*\n",
            "Classifier = RBF SVM, Score (test, accuracy) = 81.16, Training time = 0.01 seconds\n",
            "[[105   0]\n",
            " [ 26   7]]\n",
            "-*-*-*-*-*-*-*-*-*-*-*-*-*-*-*-*-*-*-*-*-*-*-*-*-*-*-*-*-*-*-*-*-*-*-*-*-*-*-*-*-*-*-*-*-*-*-*-*-*-*-*-*-*-*-*-*-*-*-*-*-*-*-*-*-*-*-*-*-*-*-*-*-*-*-*-*-*-*-*-*\n",
            "Classifier = Decision Tree, Score (test, accuracy) = 88.41, Training time = 0.00 seconds\n",
            "[[102   3]\n",
            " [ 13  20]]\n",
            "-*-*-*-*-*-*-*-*-*-*-*-*-*-*-*-*-*-*-*-*-*-*-*-*-*-*-*-*-*-*-*-*-*-*-*-*-*-*-*-*-*-*-*-*-*-*-*-*-*-*-*-*-*-*-*-*-*-*-*-*-*-*-*-*-*-*-*-*-*-*-*-*-*-*-*-*-*-*-*-*\n",
            "Classifier = Random Forest, Score (test, accuracy) = 87.68, Training time = 0.02 seconds\n",
            "[[102   3]\n",
            " [ 14  19]]\n",
            "-*-*-*-*-*-*-*-*-*-*-*-*-*-*-*-*-*-*-*-*-*-*-*-*-*-*-*-*-*-*-*-*-*-*-*-*-*-*-*-*-*-*-*-*-*-*-*-*-*-*-*-*-*-*-*-*-*-*-*-*-*-*-*-*-*-*-*-*-*-*-*-*-*-*-*-*-*-*-*-*\n"
          ]
        },
        {
          "output_type": "stream",
          "name": "stderr",
          "text": [
            "/usr/local/lib/python3.7/dist-packages/sklearn/neural_network/_multilayer_perceptron.py:571: ConvergenceWarning: Stochastic Optimizer: Maximum iterations (1000) reached and the optimization hasn't converged yet.\n",
            "  % self.max_iter, ConvergenceWarning)\n"
          ]
        },
        {
          "output_type": "stream",
          "name": "stdout",
          "text": [
            "Classifier = Neural Net, Score (test, accuracy) = 77.54, Training time = 2.04 seconds\n",
            "[[104   1]\n",
            " [ 30   3]]\n",
            "-*-*-*-*-*-*-*-*-*-*-*-*-*-*-*-*-*-*-*-*-*-*-*-*-*-*-*-*-*-*-*-*-*-*-*-*-*-*-*-*-*-*-*-*-*-*-*-*-*-*-*-*-*-*-*-*-*-*-*-*-*-*-*-*-*-*-*-*-*-*-*-*-*-*-*-*-*-*-*-*\n",
            "Classifier = AdaBoost, Score (test, accuracy) = 91.30, Training time = 0.14 seconds\n",
            "[[100   5]\n",
            " [  7  26]]\n",
            "-*-*-*-*-*-*-*-*-*-*-*-*-*-*-*-*-*-*-*-*-*-*-*-*-*-*-*-*-*-*-*-*-*-*-*-*-*-*-*-*-*-*-*-*-*-*-*-*-*-*-*-*-*-*-*-*-*-*-*-*-*-*-*-*-*-*-*-*-*-*-*-*-*-*-*-*-*-*-*-*\n",
            "Classifier = Naive Bayes, Score (test, accuracy) = 33.33, Training time = 0.00 seconds\n",
            "[[17 88]\n",
            " [ 4 29]]\n",
            "-*-*-*-*-*-*-*-*-*-*-*-*-*-*-*-*-*-*-*-*-*-*-*-*-*-*-*-*-*-*-*-*-*-*-*-*-*-*-*-*-*-*-*-*-*-*-*-*-*-*-*-*-*-*-*-*-*-*-*-*-*-*-*-*-*-*-*-*-*-*-*-*-*-*-*-*-*-*-*-*\n",
            "Classifier = QDA, Score (test, accuracy) = 34.06, Training time = 0.00 seconds\n",
            "[[17 88]\n",
            " [ 3 30]]\n",
            "-*-*-*-*-*-*-*-*-*-*-*-*-*-*-*-*-*-*-*-*-*-*-*-*-*-*-*-*-*-*-*-*-*-*-*-*-*-*-*-*-*-*-*-*-*-*-*-*-*-*-*-*-*-*-*-*-*-*-*-*-*-*-*-*-*-*-*-*-*-*-*-*-*-*-*-*-*-*-*-*\n",
            "--------------------------------------------------------------------------------\n",
            "Best --> Classifier = AdaBoost, Score (test, accuracy) = 91.30\n",
            "{'Nearest Neighbors': 89.13043478260869, 'Linear SVM': 81.15942028985508, 'RBF SVM': 81.15942028985508, 'Decision Tree': 88.40579710144928, 'Random Forest': 87.68115942028986, 'Neural Net': 77.53623188405797, 'AdaBoost': 91.30434782608695, 'Naive Bayes': 33.33333333333333, 'QDA': 34.05797101449276}\n"
          ]
        },
        {
          "output_type": "execute_result",
          "data": {
            "text/plain": [
              "Text(0.5, 1.0, 'Blue :Accuracy,Orange: Senstivity,Green : Specicificity ')"
            ]
          },
          "metadata": {},
          "execution_count": 85
        },
        {
          "output_type": "display_data",
          "data": {
            "image/png": "[encoded data removed]",
            "text/plain": [
              "<Figure size 1152x432 with 1 Axes>"
            ]
          },
          "metadata": {}
        }
      ]
    },
    {
      "cell_type": "code",
      "metadata": {
        "colab": {
          "base_uri": "https://localhost:8080/",
          "height": 439
        },
        "id": "KK_UoJ4kRRcZ",
        "outputId": "6fd04ec0-3b16-47a0-c766-e4fb8cc0fdd6"
      },
      "source": [
        "df"
      ],
      "execution_count": 86,
      "outputs": [
        {
          "output_type": "execute_result",
          "data": {
            "text/html": [
              "<div>\n",
              "<style scoped>\n",
              "    .dataframe tbody tr th:only-of-type {\n",
              "        vertical-align: middle;\n",
              "    }\n",
              "\n",
              "    .dataframe tbody tr th {\n",
              "        vertical-align: top;\n",
              "    }\n",
              "\n",
              "    .dataframe thead th {\n",
              "        text-align: right;\n",
              "    }\n",
              "</style>\n",
              "<table border=\"1\" class=\"dataframe\">\n",
              "  <thead>\n",
              "    <tr style=\"text-align: right;\">\n",
              "      <th></th>\n",
              "      <th>rank</th>\n",
              "      <th>bathrooms</th>\n",
              "      <th>bedrooms</th>\n",
              "      <th>area</th>\n",
              "      <th>zestimate</th>\n",
              "      <th>rent_zestimate</th>\n",
              "      <th>days_on_zillow</th>\n",
              "      <th>is_zillow_owned</th>\n",
              "      <th>hoa</th>\n",
              "      <th>get_land_area_sqft</th>\n",
              "      <th>mortage_per_month</th>\n",
              "      <th>Population</th>\n",
              "      <th>Total_Crime</th>\n",
              "      <th>city_label</th>\n",
              "      <th>Useful</th>\n",
              "    </tr>\n",
              "  </thead>\n",
              "  <tbody>\n",
              "    <tr>\n",
              "      <th>0</th>\n",
              "      <td>24</td>\n",
              "      <td>4.000000</td>\n",
              "      <td>4.000000</td>\n",
              "      <td>3164</td>\n",
              "      <td>2.951100e+06</td>\n",
              "      <td>8486.0</td>\n",
              "      <td>9.0</td>\n",
              "      <td>0</td>\n",
              "      <td>112.310044</td>\n",
              "      <td>0</td>\n",
              "      <td>15555.0</td>\n",
              "      <td>63320.0</td>\n",
              "      <td>64703.0</td>\n",
              "      <td>3</td>\n",
              "      <td>0</td>\n",
              "    </tr>\n",
              "    <tr>\n",
              "      <th>1</th>\n",
              "      <td>92</td>\n",
              "      <td>2.994695</td>\n",
              "      <td>3.310526</td>\n",
              "      <td>0</td>\n",
              "      <td>1.946873e+06</td>\n",
              "      <td>2694.0</td>\n",
              "      <td>1341.0</td>\n",
              "      <td>0</td>\n",
              "      <td>112.310044</td>\n",
              "      <td>0</td>\n",
              "      <td>1500.0</td>\n",
              "      <td>63320.0</td>\n",
              "      <td>64703.0</td>\n",
              "      <td>3</td>\n",
              "      <td>1</td>\n",
              "    </tr>\n",
              "    <tr>\n",
              "      <th>2</th>\n",
              "      <td>36</td>\n",
              "      <td>4.000000</td>\n",
              "      <td>4.000000</td>\n",
              "      <td>1784</td>\n",
              "      <td>5.769300e+06</td>\n",
              "      <td>9321.0</td>\n",
              "      <td>18.0</td>\n",
              "      <td>0</td>\n",
              "      <td>112.310044</td>\n",
              "      <td>0</td>\n",
              "      <td>32750.0</td>\n",
              "      <td>63320.0</td>\n",
              "      <td>64703.0</td>\n",
              "      <td>3</td>\n",
              "      <td>0</td>\n",
              "    </tr>\n",
              "    <tr>\n",
              "      <th>3</th>\n",
              "      <td>35</td>\n",
              "      <td>2.000000</td>\n",
              "      <td>2.000000</td>\n",
              "      <td>892</td>\n",
              "      <td>3.829780e+06</td>\n",
              "      <td>3499.0</td>\n",
              "      <td>17.0</td>\n",
              "      <td>0</td>\n",
              "      <td>112.310044</td>\n",
              "      <td>0</td>\n",
              "      <td>21527.0</td>\n",
              "      <td>63320.0</td>\n",
              "      <td>64703.0</td>\n",
              "      <td>3</td>\n",
              "      <td>0</td>\n",
              "    </tr>\n",
              "    <tr>\n",
              "      <th>4</th>\n",
              "      <td>10</td>\n",
              "      <td>2.000000</td>\n",
              "      <td>3.000000</td>\n",
              "      <td>1115</td>\n",
              "      <td>1.018600e+06</td>\n",
              "      <td>3940.0</td>\n",
              "      <td>2.0</td>\n",
              "      <td>0</td>\n",
              "      <td>112.310044</td>\n",
              "      <td>0</td>\n",
              "      <td>6666.0</td>\n",
              "      <td>63320.0</td>\n",
              "      <td>64703.0</td>\n",
              "      <td>3</td>\n",
              "      <td>0</td>\n",
              "    </tr>\n",
              "    <tr>\n",
              "      <th>...</th>\n",
              "      <td>...</td>\n",
              "      <td>...</td>\n",
              "      <td>...</td>\n",
              "      <td>...</td>\n",
              "      <td>...</td>\n",
              "      <td>...</td>\n",
              "      <td>...</td>\n",
              "      <td>...</td>\n",
              "      <td>...</td>\n",
              "      <td>...</td>\n",
              "      <td>...</td>\n",
              "      <td>...</td>\n",
              "      <td>...</td>\n",
              "      <td>...</td>\n",
              "      <td>...</td>\n",
              "    </tr>\n",
              "    <tr>\n",
              "      <th>459</th>\n",
              "      <td>186</td>\n",
              "      <td>2.994695</td>\n",
              "      <td>3.310526</td>\n",
              "      <td>0</td>\n",
              "      <td>1.946873e+06</td>\n",
              "      <td>1694.0</td>\n",
              "      <td>85.0</td>\n",
              "      <td>0</td>\n",
              "      <td>112.310044</td>\n",
              "      <td>43560</td>\n",
              "      <td>861.0</td>\n",
              "      <td>153215.0</td>\n",
              "      <td>159041.0</td>\n",
              "      <td>0</td>\n",
              "      <td>1</td>\n",
              "    </tr>\n",
              "    <tr>\n",
              "      <th>460</th>\n",
              "      <td>7</td>\n",
              "      <td>2.000000</td>\n",
              "      <td>4.000000</td>\n",
              "      <td>1727</td>\n",
              "      <td>7.939000e+05</td>\n",
              "      <td>3200.0</td>\n",
              "      <td>1.0</td>\n",
              "      <td>0</td>\n",
              "      <td>112.310044</td>\n",
              "      <td>0</td>\n",
              "      <td>4383.0</td>\n",
              "      <td>153215.0</td>\n",
              "      <td>159041.0</td>\n",
              "      <td>0</td>\n",
              "      <td>0</td>\n",
              "    </tr>\n",
              "    <tr>\n",
              "      <th>461</th>\n",
              "      <td>96</td>\n",
              "      <td>3.000000</td>\n",
              "      <td>4.000000</td>\n",
              "      <td>2542</td>\n",
              "      <td>1.585300e+06</td>\n",
              "      <td>4500.0</td>\n",
              "      <td>15.0</td>\n",
              "      <td>0</td>\n",
              "      <td>112.310044</td>\n",
              "      <td>0</td>\n",
              "      <td>8750.0</td>\n",
              "      <td>153215.0</td>\n",
              "      <td>159041.0</td>\n",
              "      <td>0</td>\n",
              "      <td>0</td>\n",
              "    </tr>\n",
              "    <tr>\n",
              "      <th>462</th>\n",
              "      <td>192</td>\n",
              "      <td>2.994695</td>\n",
              "      <td>3.310526</td>\n",
              "      <td>0</td>\n",
              "      <td>1.946873e+06</td>\n",
              "      <td>1895.0</td>\n",
              "      <td>106.0</td>\n",
              "      <td>0</td>\n",
              "      <td>112.310044</td>\n",
              "      <td>435600</td>\n",
              "      <td>2772.0</td>\n",
              "      <td>153215.0</td>\n",
              "      <td>159041.0</td>\n",
              "      <td>0</td>\n",
              "      <td>0</td>\n",
              "    </tr>\n",
              "    <tr>\n",
              "      <th>463</th>\n",
              "      <td>142</td>\n",
              "      <td>5.000000</td>\n",
              "      <td>4.000000</td>\n",
              "      <td>5947</td>\n",
              "      <td>2.860400e+06</td>\n",
              "      <td>9577.0</td>\n",
              "      <td>43.0</td>\n",
              "      <td>0</td>\n",
              "      <td>112.310044</td>\n",
              "      <td>0</td>\n",
              "      <td>15883.0</td>\n",
              "      <td>153215.0</td>\n",
              "      <td>159041.0</td>\n",
              "      <td>0</td>\n",
              "      <td>0</td>\n",
              "    </tr>\n",
              "  </tbody>\n",
              "</table>\n",
              "<p>458 rows × 15 columns</p>\n",
              "</div>"
            ],
            "text/plain": [
              "     rank  bathrooms  bedrooms  ...  Total_Crime  city_label  Useful\n",
              "0      24   4.000000  4.000000  ...      64703.0           3       0\n",
              "1      92   2.994695  3.310526  ...      64703.0           3       1\n",
              "2      36   4.000000  4.000000  ...      64703.0           3       0\n",
              "3      35   2.000000  2.000000  ...      64703.0           3       0\n",
              "4      10   2.000000  3.000000  ...      64703.0           3       0\n",
              "..    ...        ...       ...  ...          ...         ...     ...\n",
              "459   186   2.994695  3.310526  ...     159041.0           0       1\n",
              "460     7   2.000000  4.000000  ...     159041.0           0       0\n",
              "461    96   3.000000  4.000000  ...     159041.0           0       0\n",
              "462   192   2.994695  3.310526  ...     159041.0           0       0\n",
              "463   142   5.000000  4.000000  ...     159041.0           0       0\n",
              "\n",
              "[458 rows x 15 columns]"
            ]
          },
          "metadata": {},
          "execution_count": 86
        }
      ]
    },
    {
      "cell_type": "markdown",
      "metadata": {
        "id": "cyLkpf8EgoZU"
      },
      "source": [
        "Tha accuracy for all the classifiers has changed a little, but the best accuracy is still offeredb by Linear SVM."
      ]
    },
    {
      "cell_type": "markdown",
      "metadata": {
        "id": "TCNREiy5gxLb"
      },
      "source": [
        "### Using load() to run the best performing model from the memory"
      ]
    },
    {
      "cell_type": "code",
      "metadata": {
        "id": "AVyJbmWnciSb"
      },
      "source": [
        "model = pickle.load(open('/content/Linear SVM.pkl','rb'))"
      ],
      "execution_count": 87,
      "outputs": []
    },
    {
      "cell_type": "code",
      "metadata": {
        "id": "qY4JrtRlcnyG"
      },
      "source": [
        "predictX=testX.sample(n=10)"
      ],
      "execution_count": 88,
      "outputs": []
    },
    {
      "cell_type": "code",
      "metadata": {
        "colab": {
          "base_uri": "https://localhost:8080/",
          "height": 359
        },
        "id": "MgY4zdhDc6_y",
        "outputId": "5e9f148f-48fc-4731-b2d3-082b459e3516"
      },
      "source": [
        "predictX"
      ],
      "execution_count": 89,
      "outputs": [
        {
          "output_type": "execute_result",
          "data": {
            "text/html": [
              "<div>\n",
              "<style scoped>\n",
              "    .dataframe tbody tr th:only-of-type {\n",
              "        vertical-align: middle;\n",
              "    }\n",
              "\n",
              "    .dataframe tbody tr th {\n",
              "        vertical-align: top;\n",
              "    }\n",
              "\n",
              "    .dataframe thead th {\n",
              "        text-align: right;\n",
              "    }\n",
              "</style>\n",
              "<table border=\"1\" class=\"dataframe\">\n",
              "  <thead>\n",
              "    <tr style=\"text-align: right;\">\n",
              "      <th></th>\n",
              "      <th>0</th>\n",
              "      <th>1</th>\n",
              "    </tr>\n",
              "  </thead>\n",
              "  <tbody>\n",
              "    <tr>\n",
              "      <th>284</th>\n",
              "      <td>-5.563102e+05</td>\n",
              "      <td>-49648.993306</td>\n",
              "    </tr>\n",
              "    <tr>\n",
              "      <th>286</th>\n",
              "      <td>-1.101050e+06</td>\n",
              "      <td>-49844.775275</td>\n",
              "    </tr>\n",
              "    <tr>\n",
              "      <th>242</th>\n",
              "      <td>2.543604e+03</td>\n",
              "      <td>-10645.977320</td>\n",
              "    </tr>\n",
              "    <tr>\n",
              "      <th>421</th>\n",
              "      <td>-1.817570e+06</td>\n",
              "      <td>-50105.261029</td>\n",
              "    </tr>\n",
              "    <tr>\n",
              "      <th>39</th>\n",
              "      <td>3.193083e+06</td>\n",
              "      <td>-51179.609401</td>\n",
              "    </tr>\n",
              "    <tr>\n",
              "      <th>422</th>\n",
              "      <td>-1.238734e+06</td>\n",
              "      <td>-49895.109013</td>\n",
              "    </tr>\n",
              "    <tr>\n",
              "      <th>258</th>\n",
              "      <td>-1.152444e+06</td>\n",
              "      <td>-49864.216481</td>\n",
              "    </tr>\n",
              "    <tr>\n",
              "      <th>446</th>\n",
              "      <td>-1.260633e+06</td>\n",
              "      <td>-49902.577460</td>\n",
              "    </tr>\n",
              "    <tr>\n",
              "      <th>139</th>\n",
              "      <td>-2.330144e+05</td>\n",
              "      <td>-50676.986938</td>\n",
              "    </tr>\n",
              "    <tr>\n",
              "      <th>307</th>\n",
              "      <td>-9.630494e+02</td>\n",
              "      <td>-49456.945468</td>\n",
              "    </tr>\n",
              "  </tbody>\n",
              "</table>\n",
              "</div>"
            ],
            "text/plain": [
              "                0             1\n",
              "284 -5.563102e+05 -49648.993306\n",
              "286 -1.101050e+06 -49844.775275\n",
              "242  2.543604e+03 -10645.977320\n",
              "421 -1.817570e+06 -50105.261029\n",
              "39   3.193083e+06 -51179.609401\n",
              "422 -1.238734e+06 -49895.109013\n",
              "258 -1.152444e+06 -49864.216481\n",
              "446 -1.260633e+06 -49902.577460\n",
              "139 -2.330144e+05 -50676.986938\n",
              "307 -9.630494e+02 -49456.945468"
            ]
          },
          "metadata": {},
          "execution_count": 89
        }
      ]
    },
    {
      "cell_type": "code",
      "metadata": {
        "colab": {
          "base_uri": "https://localhost:8080/"
        },
        "id": "29WMEK5OckXw",
        "outputId": "40695d35-01c6-4a96-f33c-7f92c0dc7cc4"
      },
      "source": [
        "model.predict(predictX)"
      ],
      "execution_count": 90,
      "outputs": [
        {
          "output_type": "execute_result",
          "data": {
            "text/plain": [
              "array([0, 0, 0, 1, 0, 0, 0, 0, 0, 0])"
            ]
          },
          "metadata": {},
          "execution_count": 90
        }
      ]
    },
    {
      "cell_type": "markdown",
      "metadata": {
        "id": "aPhVUdCqje4y"
      },
      "source": [
        "I used a sample from the dataset as an input Linear SVM Model to predict if a profit is profitable. The predictions are as above, \n",
        "\n",
        "1--> Depicting the property is profitable\n",
        "0--> Depicting the property is non profitable."
      ]
    }
  ]
}