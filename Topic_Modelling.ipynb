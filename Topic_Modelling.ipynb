{
  "nbformat": 4,
  "nbformat_minor": 0,
  "metadata": {
    "colab": {
      "name": "Topic Modelling.ipynb",
      "provenance": [],
      "authorship_tag": "ABX9TyMmmtSewCnb5P/6TJySj0vx",
      "include_colab_link": true
    },
    "kernelspec": {
      "name": "python3",
      "display_name": "Python 3"
    },
    "language_info": {
      "name": "python"
    },
    "widgets": {
      "application/vnd.jupyter.widget-state+json": {
        "31cf32dccefd4786b1fca21a307f11c0": {
          "model_module": "@jupyter-widgets/controls",
          "model_name": "HBoxModel",
          "model_module_version": "1.5.0",
          "state": {
            "_view_name": "HBoxView",
            "_dom_classes": [],
            "_model_name": "HBoxModel",
            "_view_module": "@jupyter-widgets/controls",
            "_model_module_version": "1.5.0",
            "_view_count": null,
            "_view_module_version": "1.5.0",
            "box_style": "",
            "layout": "IPY_MODEL_a37602048eeb44239cd09fb93312e8e9",
            "_model_module": "@jupyter-widgets/controls",
            "children": [
              "IPY_MODEL_6ff372160c9f4055b5142b748bfe6e6c",
              "IPY_MODEL_a267a4f13c2845b99539130454c62320",
              "IPY_MODEL_2629535b645a4127b975531922a41695"
            ]
          }
        },
        "a37602048eeb44239cd09fb93312e8e9": {
          "model_module": "@jupyter-widgets/base",
          "model_name": "LayoutModel",
          "model_module_version": "1.2.0",
          "state": {
            "_view_name": "LayoutView",
            "grid_template_rows": null,
            "right": null,
            "justify_content": null,
            "_view_module": "@jupyter-widgets/base",
            "overflow": null,
            "_model_module_version": "1.2.0",
            "_view_count": null,
            "flex_flow": null,
            "width": null,
            "min_width": null,
            "border": null,
            "align_items": null,
            "bottom": null,
            "_model_module": "@jupyter-widgets/base",
            "top": null,
            "grid_column": null,
            "overflow_y": null,
            "overflow_x": null,
            "grid_auto_flow": null,
            "grid_area": null,
            "grid_template_columns": null,
            "flex": null,
            "_model_name": "LayoutModel",
            "justify_items": null,
            "grid_row": null,
            "max_height": null,
            "align_content": null,
            "visibility": null,
            "align_self": null,
            "height": null,
            "min_height": null,
            "padding": null,
            "grid_auto_rows": null,
            "grid_gap": null,
            "max_width": null,
            "order": null,
            "_view_module_version": "1.2.0",
            "grid_template_areas": null,
            "object_position": null,
            "object_fit": null,
            "grid_auto_columns": null,
            "margin": null,
            "display": null,
            "left": null
          }
        },
        "6ff372160c9f4055b5142b748bfe6e6c": {
          "model_module": "@jupyter-widgets/controls",
          "model_name": "HTMLModel",
          "model_module_version": "1.5.0",
          "state": {
            "_view_name": "HTMLView",
            "style": "IPY_MODEL_7eace385c5af462ab028ad225b82b009",
            "_dom_classes": [],
            "description": "",
            "_model_name": "HTMLModel",
            "placeholder": "​",
            "_view_module": "@jupyter-widgets/controls",
            "_model_module_version": "1.5.0",
            "value": "Downloading: 100%",
            "_view_count": null,
            "_view_module_version": "1.5.0",
            "description_tooltip": null,
            "_model_module": "@jupyter-widgets/controls",
            "layout": "IPY_MODEL_2d968e48e7794a0f9bb93db5cd31dfc0"
          }
        },
        "a267a4f13c2845b99539130454c62320": {
          "model_module": "@jupyter-widgets/controls",
          "model_name": "FloatProgressModel",
          "model_module_version": "1.5.0",
          "state": {
            "_view_name": "ProgressView",
            "style": "IPY_MODEL_2aba513671644cc2bd690eb35e5c2a99",
            "_dom_classes": [],
            "description": "",
            "_model_name": "FloatProgressModel",
            "bar_style": "success",
            "max": 1802,
            "_view_module": "@jupyter-widgets/controls",
            "_model_module_version": "1.5.0",
            "value": 1802,
            "_view_count": null,
            "_view_module_version": "1.5.0",
            "orientation": "horizontal",
            "min": 0,
            "description_tooltip": null,
            "_model_module": "@jupyter-widgets/controls",
            "layout": "IPY_MODEL_451d8a51322b4a60a8a060917052b3ef"
          }
        },
        "2629535b645a4127b975531922a41695": {
          "model_module": "@jupyter-widgets/controls",
          "model_name": "HTMLModel",
          "model_module_version": "1.5.0",
          "state": {
            "_view_name": "HTMLView",
            "style": "IPY_MODEL_6328fd738201487e8ae36c91a97ebd38",
            "_dom_classes": [],
            "description": "",
            "_model_name": "HTMLModel",
            "placeholder": "​",
            "_view_module": "@jupyter-widgets/controls",
            "_model_module_version": "1.5.0",
            "value": " 1.76k/1.76k [00:00&lt;00:00, 35.1kB/s]",
            "_view_count": null,
            "_view_module_version": "1.5.0",
            "description_tooltip": null,
            "_model_module": "@jupyter-widgets/controls",
            "layout": "IPY_MODEL_c50a04544da54b4c8e88ab1807c0ef0d"
          }
        },
        "7eace385c5af462ab028ad225b82b009": {
          "model_module": "@jupyter-widgets/controls",
          "model_name": "DescriptionStyleModel",
          "model_module_version": "1.5.0",
          "state": {
            "_view_name": "StyleView",
            "_model_name": "DescriptionStyleModel",
            "description_width": "",
            "_view_module": "@jupyter-widgets/base",
            "_model_module_version": "1.5.0",
            "_view_count": null,
            "_view_module_version": "1.2.0",
            "_model_module": "@jupyter-widgets/controls"
          }
        },
        "2d968e48e7794a0f9bb93db5cd31dfc0": {
          "model_module": "@jupyter-widgets/base",
          "model_name": "LayoutModel",
          "model_module_version": "1.2.0",
          "state": {
            "_view_name": "LayoutView",
            "grid_template_rows": null,
            "right": null,
            "justify_content": null,
            "_view_module": "@jupyter-widgets/base",
            "overflow": null,
            "_model_module_version": "1.2.0",
            "_view_count": null,
            "flex_flow": null,
            "width": null,
            "min_width": null,
            "border": null,
            "align_items": null,
            "bottom": null,
            "_model_module": "@jupyter-widgets/base",
            "top": null,
            "grid_column": null,
            "overflow_y": null,
            "overflow_x": null,
            "grid_auto_flow": null,
            "grid_area": null,
            "grid_template_columns": null,
            "flex": null,
            "_model_name": "LayoutModel",
            "justify_items": null,
            "grid_row": null,
            "max_height": null,
            "align_content": null,
            "visibility": null,
            "align_self": null,
            "height": null,
            "min_height": null,
            "padding": null,
            "grid_auto_rows": null,
            "grid_gap": null,
            "max_width": null,
            "order": null,
            "_view_module_version": "1.2.0",
            "grid_template_areas": null,
            "object_position": null,
            "object_fit": null,
            "grid_auto_columns": null,
            "margin": null,
            "display": null,
            "left": null
          }
        },
        "2aba513671644cc2bd690eb35e5c2a99": {
          "model_module": "@jupyter-widgets/controls",
          "model_name": "ProgressStyleModel",
          "model_module_version": "1.5.0",
          "state": {
            "_view_name": "StyleView",
            "_model_name": "ProgressStyleModel",
            "description_width": "",
            "_view_module": "@jupyter-widgets/base",
            "_model_module_version": "1.5.0",
            "_view_count": null,
            "_view_module_version": "1.2.0",
            "bar_color": null,
            "_model_module": "@jupyter-widgets/controls"
          }
        },
        "451d8a51322b4a60a8a060917052b3ef": {
          "model_module": "@jupyter-widgets/base",
          "model_name": "LayoutModel",
          "model_module_version": "1.2.0",
          "state": {
            "_view_name": "LayoutView",
            "grid_template_rows": null,
            "right": null,
            "justify_content": null,
            "_view_module": "@jupyter-widgets/base",
            "overflow": null,
            "_model_module_version": "1.2.0",
            "_view_count": null,
            "flex_flow": null,
            "width": null,
            "min_width": null,
            "border": null,
            "align_items": null,
            "bottom": null,
            "_model_module": "@jupyter-widgets/base",
            "top": null,
            "grid_column": null,
            "overflow_y": null,
            "overflow_x": null,
            "grid_auto_flow": null,
            "grid_area": null,
            "grid_template_columns": null,
            "flex": null,
            "_model_name": "LayoutModel",
            "justify_items": null,
            "grid_row": null,
            "max_height": null,
            "align_content": null,
            "visibility": null,
            "align_self": null,
            "height": null,
            "min_height": null,
            "padding": null,
            "grid_auto_rows": null,
            "grid_gap": null,
            "max_width": null,
            "order": null,
            "_view_module_version": "1.2.0",
            "grid_template_areas": null,
            "object_position": null,
            "object_fit": null,
            "grid_auto_columns": null,
            "margin": null,
            "display": null,
            "left": null
          }
        },
        "6328fd738201487e8ae36c91a97ebd38": {
          "model_module": "@jupyter-widgets/controls",
          "model_name": "DescriptionStyleModel",
          "model_module_version": "1.5.0",
          "state": {
            "_view_name": "StyleView",
            "_model_name": "DescriptionStyleModel",
            "description_width": "",
            "_view_module": "@jupyter-widgets/base",
            "_model_module_version": "1.5.0",
            "_view_count": null,
            "_view_module_version": "1.2.0",
            "_model_module": "@jupyter-widgets/controls"
          }
        },
        "c50a04544da54b4c8e88ab1807c0ef0d": {
          "model_module": "@jupyter-widgets/base",
          "model_name": "LayoutModel",
          "model_module_version": "1.2.0",
          "state": {
            "_view_name": "LayoutView",
            "grid_template_rows": null,
            "right": null,
            "justify_content": null,
            "_view_module": "@jupyter-widgets/base",
            "overflow": null,
            "_model_module_version": "1.2.0",
            "_view_count": null,
            "flex_flow": null,
            "width": null,
            "min_width": null,
            "border": null,
            "align_items": null,
            "bottom": null,
            "_model_module": "@jupyter-widgets/base",
            "top": null,
            "grid_column": null,
            "overflow_y": null,
            "overflow_x": null,
            "grid_auto_flow": null,
            "grid_area": null,
            "grid_template_columns": null,
            "flex": null,
            "_model_name": "LayoutModel",
            "justify_items": null,
            "grid_row": null,
            "max_height": null,
            "align_content": null,
            "visibility": null,
            "align_self": null,
            "height": null,
            "min_height": null,
            "padding": null,
            "grid_auto_rows": null,
            "grid_gap": null,
            "max_width": null,
            "order": null,
            "_view_module_version": "1.2.0",
            "grid_template_areas": null,
            "object_position": null,
            "object_fit": null,
            "grid_auto_columns": null,
            "margin": null,
            "display": null,
            "left": null
          }
        },
        "9da800d23f4044a193b401fffbb6796b": {
          "model_module": "@jupyter-widgets/controls",
          "model_name": "HBoxModel",
          "model_module_version": "1.5.0",
          "state": {
            "_view_name": "HBoxView",
            "_dom_classes": [],
            "_model_name": "HBoxModel",
            "_view_module": "@jupyter-widgets/controls",
            "_model_module_version": "1.5.0",
            "_view_count": null,
            "_view_module_version": "1.5.0",
            "box_style": "",
            "layout": "IPY_MODEL_fad26c77a30d4655bc45e4320c295ba8",
            "_model_module": "@jupyter-widgets/controls",
            "children": [
              "IPY_MODEL_ff086217bfb44fc68edf95bb8f010d3e",
              "IPY_MODEL_c26351f5d8d44981931fefa521d35ade",
              "IPY_MODEL_2fe74a45934e442b900143ff5607acca"
            ]
          }
        },
        "fad26c77a30d4655bc45e4320c295ba8": {
          "model_module": "@jupyter-widgets/base",
          "model_name": "LayoutModel",
          "model_module_version": "1.2.0",
          "state": {
            "_view_name": "LayoutView",
            "grid_template_rows": null,
            "right": null,
            "justify_content": null,
            "_view_module": "@jupyter-widgets/base",
            "overflow": null,
            "_model_module_version": "1.2.0",
            "_view_count": null,
            "flex_flow": null,
            "width": null,
            "min_width": null,
            "border": null,
            "align_items": null,
            "bottom": null,
            "_model_module": "@jupyter-widgets/base",
            "top": null,
            "grid_column": null,
            "overflow_y": null,
            "overflow_x": null,
            "grid_auto_flow": null,
            "grid_area": null,
            "grid_template_columns": null,
            "flex": null,
            "_model_name": "LayoutModel",
            "justify_items": null,
            "grid_row": null,
            "max_height": null,
            "align_content": null,
            "visibility": null,
            "align_self": null,
            "height": null,
            "min_height": null,
            "padding": null,
            "grid_auto_rows": null,
            "grid_gap": null,
            "max_width": null,
            "order": null,
            "_view_module_version": "1.2.0",
            "grid_template_areas": null,
            "object_position": null,
            "object_fit": null,
            "grid_auto_columns": null,
            "margin": null,
            "display": null,
            "left": null
          }
        },
        "ff086217bfb44fc68edf95bb8f010d3e": {
          "model_module": "@jupyter-widgets/controls",
          "model_name": "HTMLModel",
          "model_module_version": "1.5.0",
          "state": {
            "_view_name": "HTMLView",
            "style": "IPY_MODEL_b19882d4ac3f4df8bb7bc6c62fe52384",
            "_dom_classes": [],
            "description": "",
            "_model_name": "HTMLModel",
            "placeholder": "​",
            "_view_module": "@jupyter-widgets/controls",
            "_model_module_version": "1.5.0",
            "value": "Downloading: 100%",
            "_view_count": null,
            "_view_module_version": "1.5.0",
            "description_tooltip": null,
            "_model_module": "@jupyter-widgets/controls",
            "layout": "IPY_MODEL_720dc017103f4f0aa911983b84f1b89f"
          }
        },
        "c26351f5d8d44981931fefa521d35ade": {
          "model_module": "@jupyter-widgets/controls",
          "model_name": "FloatProgressModel",
          "model_module_version": "1.5.0",
          "state": {
            "_view_name": "ProgressView",
            "style": "IPY_MODEL_66e3f4ec57d74f748cf1b6676953d03f",
            "_dom_classes": [],
            "description": "",
            "_model_name": "FloatProgressModel",
            "bar_style": "success",
            "max": 1222317369,
            "_view_module": "@jupyter-widgets/controls",
            "_model_module_version": "1.5.0",
            "value": 1222317369,
            "_view_count": null,
            "_view_module_version": "1.5.0",
            "orientation": "horizontal",
            "min": 0,
            "description_tooltip": null,
            "_model_module": "@jupyter-widgets/controls",
            "layout": "IPY_MODEL_4dc803390f0049e985847b5de240d2f8"
          }
        },
        "2fe74a45934e442b900143ff5607acca": {
          "model_module": "@jupyter-widgets/controls",
          "model_name": "HTMLModel",
          "model_module_version": "1.5.0",
          "state": {
            "_view_name": "HTMLView",
            "style": "IPY_MODEL_680da504fcea4b77a2c784849f97eab4",
            "_dom_classes": [],
            "description": "",
            "_model_name": "HTMLModel",
            "placeholder": "​",
            "_view_module": "@jupyter-widgets/controls",
            "_model_module_version": "1.5.0",
            "value": " 1.14G/1.14G [00:31&lt;00:00, 36.6MB/s]",
            "_view_count": null,
            "_view_module_version": "1.5.0",
            "description_tooltip": null,
            "_model_module": "@jupyter-widgets/controls",
            "layout": "IPY_MODEL_7f46fc61604c42ffa8618897b654f853"
          }
        },
        "b19882d4ac3f4df8bb7bc6c62fe52384": {
          "model_module": "@jupyter-widgets/controls",
          "model_name": "DescriptionStyleModel",
          "model_module_version": "1.5.0",
          "state": {
            "_view_name": "StyleView",
            "_model_name": "DescriptionStyleModel",
            "description_width": "",
            "_view_module": "@jupyter-widgets/base",
            "_model_module_version": "1.5.0",
            "_view_count": null,
            "_view_module_version": "1.2.0",
            "_model_module": "@jupyter-widgets/controls"
          }
        },
        "720dc017103f4f0aa911983b84f1b89f": {
          "model_module": "@jupyter-widgets/base",
          "model_name": "LayoutModel",
          "model_module_version": "1.2.0",
          "state": {
            "_view_name": "LayoutView",
            "grid_template_rows": null,
            "right": null,
            "justify_content": null,
            "_view_module": "@jupyter-widgets/base",
            "overflow": null,
            "_model_module_version": "1.2.0",
            "_view_count": null,
            "flex_flow": null,
            "width": null,
            "min_width": null,
            "border": null,
            "align_items": null,
            "bottom": null,
            "_model_module": "@jupyter-widgets/base",
            "top": null,
            "grid_column": null,
            "overflow_y": null,
            "overflow_x": null,
            "grid_auto_flow": null,
            "grid_area": null,
            "grid_template_columns": null,
            "flex": null,
            "_model_name": "LayoutModel",
            "justify_items": null,
            "grid_row": null,
            "max_height": null,
            "align_content": null,
            "visibility": null,
            "align_self": null,
            "height": null,
            "min_height": null,
            "padding": null,
            "grid_auto_rows": null,
            "grid_gap": null,
            "max_width": null,
            "order": null,
            "_view_module_version": "1.2.0",
            "grid_template_areas": null,
            "object_position": null,
            "object_fit": null,
            "grid_auto_columns": null,
            "margin": null,
            "display": null,
            "left": null
          }
        },
        "66e3f4ec57d74f748cf1b6676953d03f": {
          "model_module": "@jupyter-widgets/controls",
          "model_name": "ProgressStyleModel",
          "model_module_version": "1.5.0",
          "state": {
            "_view_name": "StyleView",
            "_model_name": "ProgressStyleModel",
            "description_width": "",
            "_view_module": "@jupyter-widgets/base",
            "_model_module_version": "1.5.0",
            "_view_count": null,
            "_view_module_version": "1.2.0",
            "bar_color": null,
            "_model_module": "@jupyter-widgets/controls"
          }
        },
        "4dc803390f0049e985847b5de240d2f8": {
          "model_module": "@jupyter-widgets/base",
          "model_name": "LayoutModel",
          "model_module_version": "1.2.0",
          "state": {
            "_view_name": "LayoutView",
            "grid_template_rows": null,
            "right": null,
            "justify_content": null,
            "_view_module": "@jupyter-widgets/base",
            "overflow": null,
            "_model_module_version": "1.2.0",
            "_view_count": null,
            "flex_flow": null,
            "width": null,
            "min_width": null,
            "border": null,
            "align_items": null,
            "bottom": null,
            "_model_module": "@jupyter-widgets/base",
            "top": null,
            "grid_column": null,
            "overflow_y": null,
            "overflow_x": null,
            "grid_auto_flow": null,
            "grid_area": null,
            "grid_template_columns": null,
            "flex": null,
            "_model_name": "LayoutModel",
            "justify_items": null,
            "grid_row": null,
            "max_height": null,
            "align_content": null,
            "visibility": null,
            "align_self": null,
            "height": null,
            "min_height": null,
            "padding": null,
            "grid_auto_rows": null,
            "grid_gap": null,
            "max_width": null,
            "order": null,
            "_view_module_version": "1.2.0",
            "grid_template_areas": null,
            "object_position": null,
            "object_fit": null,
            "grid_auto_columns": null,
            "margin": null,
            "display": null,
            "left": null
          }
        },
        "680da504fcea4b77a2c784849f97eab4": {
          "model_module": "@jupyter-widgets/controls",
          "model_name": "DescriptionStyleModel",
          "model_module_version": "1.5.0",
          "state": {
            "_view_name": "StyleView",
            "_model_name": "DescriptionStyleModel",
            "description_width": "",
            "_view_module": "@jupyter-widgets/base",
            "_model_module_version": "1.5.0",
            "_view_count": null,
            "_view_module_version": "1.2.0",
            "_model_module": "@jupyter-widgets/controls"
          }
        },
        "7f46fc61604c42ffa8618897b654f853": {
          "model_module": "@jupyter-widgets/base",
          "model_name": "LayoutModel",
          "model_module_version": "1.2.0",
          "state": {
            "_view_name": "LayoutView",
            "grid_template_rows": null,
            "right": null,
            "justify_content": null,
            "_view_module": "@jupyter-widgets/base",
            "overflow": null,
            "_model_module_version": "1.2.0",
            "_view_count": null,
            "flex_flow": null,
            "width": null,
            "min_width": null,
            "border": null,
            "align_items": null,
            "bottom": null,
            "_model_module": "@jupyter-widgets/base",
            "top": null,
            "grid_column": null,
            "overflow_y": null,
            "overflow_x": null,
            "grid_auto_flow": null,
            "grid_area": null,
            "grid_template_columns": null,
            "flex": null,
            "_model_name": "LayoutModel",
            "justify_items": null,
            "grid_row": null,
            "max_height": null,
            "align_content": null,
            "visibility": null,
            "align_self": null,
            "height": null,
            "min_height": null,
            "padding": null,
            "grid_auto_rows": null,
            "grid_gap": null,
            "max_width": null,
            "order": null,
            "_view_module_version": "1.2.0",
            "grid_template_areas": null,
            "object_position": null,
            "object_fit": null,
            "grid_auto_columns": null,
            "margin": null,
            "display": null,
            "left": null
          }
        },
        "9fc428c2b4684c4f9607186654586b4a": {
          "model_module": "@jupyter-widgets/controls",
          "model_name": "HBoxModel",
          "model_module_version": "1.5.0",
          "state": {
            "_view_name": "HBoxView",
            "_dom_classes": [],
            "_model_name": "HBoxModel",
            "_view_module": "@jupyter-widgets/controls",
            "_model_module_version": "1.5.0",
            "_view_count": null,
            "_view_module_version": "1.5.0",
            "box_style": "",
            "layout": "IPY_MODEL_4f0ddc72d612418b9a0a9d6b00aff2df",
            "_model_module": "@jupyter-widgets/controls",
            "children": [
              "IPY_MODEL_91bf44446d9c4436a6e043676e0d3783",
              "IPY_MODEL_da0eb837928a46e2b93c440156597f37",
              "IPY_MODEL_4a1e81e68a6145f88dd47d65a9a99d91"
            ]
          }
        },
        "4f0ddc72d612418b9a0a9d6b00aff2df": {
          "model_module": "@jupyter-widgets/base",
          "model_name": "LayoutModel",
          "model_module_version": "1.2.0",
          "state": {
            "_view_name": "LayoutView",
            "grid_template_rows": null,
            "right": null,
            "justify_content": null,
            "_view_module": "@jupyter-widgets/base",
            "overflow": null,
            "_model_module_version": "1.2.0",
            "_view_count": null,
            "flex_flow": null,
            "width": null,
            "min_width": null,
            "border": null,
            "align_items": null,
            "bottom": null,
            "_model_module": "@jupyter-widgets/base",
            "top": null,
            "grid_column": null,
            "overflow_y": null,
            "overflow_x": null,
            "grid_auto_flow": null,
            "grid_area": null,
            "grid_template_columns": null,
            "flex": null,
            "_model_name": "LayoutModel",
            "justify_items": null,
            "grid_row": null,
            "max_height": null,
            "align_content": null,
            "visibility": null,
            "align_self": null,
            "height": null,
            "min_height": null,
            "padding": null,
            "grid_auto_rows": null,
            "grid_gap": null,
            "max_width": null,
            "order": null,
            "_view_module_version": "1.2.0",
            "grid_template_areas": null,
            "object_position": null,
            "object_fit": null,
            "grid_auto_columns": null,
            "margin": null,
            "display": null,
            "left": null
          }
        },
        "91bf44446d9c4436a6e043676e0d3783": {
          "model_module": "@jupyter-widgets/controls",
          "model_name": "HTMLModel",
          "model_module_version": "1.5.0",
          "state": {
            "_view_name": "HTMLView",
            "style": "IPY_MODEL_78963aece3684e2397c3721c9f253ece",
            "_dom_classes": [],
            "description": "",
            "_model_name": "HTMLModel",
            "placeholder": "​",
            "_view_module": "@jupyter-widgets/controls",
            "_model_module_version": "1.5.0",
            "value": "Downloading: 100%",
            "_view_count": null,
            "_view_module_version": "1.5.0",
            "description_tooltip": null,
            "_model_module": "@jupyter-widgets/controls",
            "layout": "IPY_MODEL_7d0ed5ff1cfc47e893519a722533ab34"
          }
        },
        "da0eb837928a46e2b93c440156597f37": {
          "model_module": "@jupyter-widgets/controls",
          "model_name": "FloatProgressModel",
          "model_module_version": "1.5.0",
          "state": {
            "_view_name": "ProgressView",
            "style": "IPY_MODEL_c6ce0758aa6746d6b8c355040aa067b5",
            "_dom_classes": [],
            "description": "",
            "_model_name": "FloatProgressModel",
            "bar_style": "success",
            "max": 26,
            "_view_module": "@jupyter-widgets/controls",
            "_model_module_version": "1.5.0",
            "value": 26,
            "_view_count": null,
            "_view_module_version": "1.5.0",
            "orientation": "horizontal",
            "min": 0,
            "description_tooltip": null,
            "_model_module": "@jupyter-widgets/controls",
            "layout": "IPY_MODEL_840347252de746be8de6f2f40f8ff5d7"
          }
        },
        "4a1e81e68a6145f88dd47d65a9a99d91": {
          "model_module": "@jupyter-widgets/controls",
          "model_name": "HTMLModel",
          "model_module_version": "1.5.0",
          "state": {
            "_view_name": "HTMLView",
            "style": "IPY_MODEL_75286cfbe41d41ccbaa99a1a4c7aa57f",
            "_dom_classes": [],
            "description": "",
            "_model_name": "HTMLModel",
            "placeholder": "​",
            "_view_module": "@jupyter-widgets/controls",
            "_model_module_version": "1.5.0",
            "value": " 26.0/26.0 [00:00&lt;00:00, 464B/s]",
            "_view_count": null,
            "_view_module_version": "1.5.0",
            "description_tooltip": null,
            "_model_module": "@jupyter-widgets/controls",
            "layout": "IPY_MODEL_e78139f2809d46f5bdc7b2570023360b"
          }
        },
        "78963aece3684e2397c3721c9f253ece": {
          "model_module": "@jupyter-widgets/controls",
          "model_name": "DescriptionStyleModel",
          "model_module_version": "1.5.0",
          "state": {
            "_view_name": "StyleView",
            "_model_name": "DescriptionStyleModel",
            "description_width": "",
            "_view_module": "@jupyter-widgets/base",
            "_model_module_version": "1.5.0",
            "_view_count": null,
            "_view_module_version": "1.2.0",
            "_model_module": "@jupyter-widgets/controls"
          }
        },
        "7d0ed5ff1cfc47e893519a722533ab34": {
          "model_module": "@jupyter-widgets/base",
          "model_name": "LayoutModel",
          "model_module_version": "1.2.0",
          "state": {
            "_view_name": "LayoutView",
            "grid_template_rows": null,
            "right": null,
            "justify_content": null,
            "_view_module": "@jupyter-widgets/base",
            "overflow": null,
            "_model_module_version": "1.2.0",
            "_view_count": null,
            "flex_flow": null,
            "width": null,
            "min_width": null,
            "border": null,
            "align_items": null,
            "bottom": null,
            "_model_module": "@jupyter-widgets/base",
            "top": null,
            "grid_column": null,
            "overflow_y": null,
            "overflow_x": null,
            "grid_auto_flow": null,
            "grid_area": null,
            "grid_template_columns": null,
            "flex": null,
            "_model_name": "LayoutModel",
            "justify_items": null,
            "grid_row": null,
            "max_height": null,
            "align_content": null,
            "visibility": null,
            "align_self": null,
            "height": null,
            "min_height": null,
            "padding": null,
            "grid_auto_rows": null,
            "grid_gap": null,
            "max_width": null,
            "order": null,
            "_view_module_version": "1.2.0",
            "grid_template_areas": null,
            "object_position": null,
            "object_fit": null,
            "grid_auto_columns": null,
            "margin": null,
            "display": null,
            "left": null
          }
        },
        "c6ce0758aa6746d6b8c355040aa067b5": {
          "model_module": "@jupyter-widgets/controls",
          "model_name": "ProgressStyleModel",
          "model_module_version": "1.5.0",
          "state": {
            "_view_name": "StyleView",
            "_model_name": "ProgressStyleModel",
            "description_width": "",
            "_view_module": "@jupyter-widgets/base",
            "_model_module_version": "1.5.0",
            "_view_count": null,
            "_view_module_version": "1.2.0",
            "bar_color": null,
            "_model_module": "@jupyter-widgets/controls"
          }
        },
        "840347252de746be8de6f2f40f8ff5d7": {
          "model_module": "@jupyter-widgets/base",
          "model_name": "LayoutModel",
          "model_module_version": "1.2.0",
          "state": {
            "_view_name": "LayoutView",
            "grid_template_rows": null,
            "right": null,
            "justify_content": null,
            "_view_module": "@jupyter-widgets/base",
            "overflow": null,
            "_model_module_version": "1.2.0",
            "_view_count": null,
            "flex_flow": null,
            "width": null,
            "min_width": null,
            "border": null,
            "align_items": null,
            "bottom": null,
            "_model_module": "@jupyter-widgets/base",
            "top": null,
            "grid_column": null,
            "overflow_y": null,
            "overflow_x": null,
            "grid_auto_flow": null,
            "grid_area": null,
            "grid_template_columns": null,
            "flex": null,
            "_model_name": "LayoutModel",
            "justify_items": null,
            "grid_row": null,
            "max_height": null,
            "align_content": null,
            "visibility": null,
            "align_self": null,
            "height": null,
            "min_height": null,
            "padding": null,
            "grid_auto_rows": null,
            "grid_gap": null,
            "max_width": null,
            "order": null,
            "_view_module_version": "1.2.0",
            "grid_template_areas": null,
            "object_position": null,
            "object_fit": null,
            "grid_auto_columns": null,
            "margin": null,
            "display": null,
            "left": null
          }
        },
        "75286cfbe41d41ccbaa99a1a4c7aa57f": {
          "model_module": "@jupyter-widgets/controls",
          "model_name": "DescriptionStyleModel",
          "model_module_version": "1.5.0",
          "state": {
            "_view_name": "StyleView",
            "_model_name": "DescriptionStyleModel",
            "description_width": "",
            "_view_module": "@jupyter-widgets/base",
            "_model_module_version": "1.5.0",
            "_view_count": null,
            "_view_module_version": "1.2.0",
            "_model_module": "@jupyter-widgets/controls"
          }
        },
        "e78139f2809d46f5bdc7b2570023360b": {
          "model_module": "@jupyter-widgets/base",
          "model_name": "LayoutModel",
          "model_module_version": "1.2.0",
          "state": {
            "_view_name": "LayoutView",
            "grid_template_rows": null,
            "right": null,
            "justify_content": null,
            "_view_module": "@jupyter-widgets/base",
            "overflow": null,
            "_model_module_version": "1.2.0",
            "_view_count": null,
            "flex_flow": null,
            "width": null,
            "min_width": null,
            "border": null,
            "align_items": null,
            "bottom": null,
            "_model_module": "@jupyter-widgets/base",
            "top": null,
            "grid_column": null,
            "overflow_y": null,
            "overflow_x": null,
            "grid_auto_flow": null,
            "grid_area": null,
            "grid_template_columns": null,
            "flex": null,
            "_model_name": "LayoutModel",
            "justify_items": null,
            "grid_row": null,
            "max_height": null,
            "align_content": null,
            "visibility": null,
            "align_self": null,
            "height": null,
            "min_height": null,
            "padding": null,
            "grid_auto_rows": null,
            "grid_gap": null,
            "max_width": null,
            "order": null,
            "_view_module_version": "1.2.0",
            "grid_template_areas": null,
            "object_position": null,
            "object_fit": null,
            "grid_auto_columns": null,
            "margin": null,
            "display": null,
            "left": null
          }
        },
        "75ff387e08ce44c196aa44ddd79bf2a5": {
          "model_module": "@jupyter-widgets/controls",
          "model_name": "HBoxModel",
          "model_module_version": "1.5.0",
          "state": {
            "_view_name": "HBoxView",
            "_dom_classes": [],
            "_model_name": "HBoxModel",
            "_view_module": "@jupyter-widgets/controls",
            "_model_module_version": "1.5.0",
            "_view_count": null,
            "_view_module_version": "1.5.0",
            "box_style": "",
            "layout": "IPY_MODEL_2b39e5588b464fe5a86947004a637dc7",
            "_model_module": "@jupyter-widgets/controls",
            "children": [
              "IPY_MODEL_4b289eb7bb0b40f78391e44b3df3ffad",
              "IPY_MODEL_075fa8795bba4448ab677af3d66979a0",
              "IPY_MODEL_0216cff13e644ccd979dc56ff1262fbf"
            ]
          }
        },
        "2b39e5588b464fe5a86947004a637dc7": {
          "model_module": "@jupyter-widgets/base",
          "model_name": "LayoutModel",
          "model_module_version": "1.2.0",
          "state": {
            "_view_name": "LayoutView",
            "grid_template_rows": null,
            "right": null,
            "justify_content": null,
            "_view_module": "@jupyter-widgets/base",
            "overflow": null,
            "_model_module_version": "1.2.0",
            "_view_count": null,
            "flex_flow": null,
            "width": null,
            "min_width": null,
            "border": null,
            "align_items": null,
            "bottom": null,
            "_model_module": "@jupyter-widgets/base",
            "top": null,
            "grid_column": null,
            "overflow_y": null,
            "overflow_x": null,
            "grid_auto_flow": null,
            "grid_area": null,
            "grid_template_columns": null,
            "flex": null,
            "_model_name": "LayoutModel",
            "justify_items": null,
            "grid_row": null,
            "max_height": null,
            "align_content": null,
            "visibility": null,
            "align_self": null,
            "height": null,
            "min_height": null,
            "padding": null,
            "grid_auto_rows": null,
            "grid_gap": null,
            "max_width": null,
            "order": null,
            "_view_module_version": "1.2.0",
            "grid_template_areas": null,
            "object_position": null,
            "object_fit": null,
            "grid_auto_columns": null,
            "margin": null,
            "display": null,
            "left": null
          }
        },
        "4b289eb7bb0b40f78391e44b3df3ffad": {
          "model_module": "@jupyter-widgets/controls",
          "model_name": "HTMLModel",
          "model_module_version": "1.5.0",
          "state": {
            "_view_name": "HTMLView",
            "style": "IPY_MODEL_bb53e3c697954aeeb9711f7ad67c0d06",
            "_dom_classes": [],
            "description": "",
            "_model_name": "HTMLModel",
            "placeholder": "​",
            "_view_module": "@jupyter-widgets/controls",
            "_model_module_version": "1.5.0",
            "value": "Downloading: 100%",
            "_view_count": null,
            "_view_module_version": "1.5.0",
            "description_tooltip": null,
            "_model_module": "@jupyter-widgets/controls",
            "layout": "IPY_MODEL_7d1fd8695d074c2da37fa343f4f167dd"
          }
        },
        "075fa8795bba4448ab677af3d66979a0": {
          "model_module": "@jupyter-widgets/controls",
          "model_name": "FloatProgressModel",
          "model_module_version": "1.5.0",
          "state": {
            "_view_name": "ProgressView",
            "style": "IPY_MODEL_dda494eeb2df4b9e921deb511f507dd4",
            "_dom_classes": [],
            "description": "",
            "_model_name": "FloatProgressModel",
            "bar_style": "success",
            "max": 898822,
            "_view_module": "@jupyter-widgets/controls",
            "_model_module_version": "1.5.0",
            "value": 898822,
            "_view_count": null,
            "_view_module_version": "1.5.0",
            "orientation": "horizontal",
            "min": 0,
            "description_tooltip": null,
            "_model_module": "@jupyter-widgets/controls",
            "layout": "IPY_MODEL_738a1400232d43e4af77c52f77cdc540"
          }
        },
        "0216cff13e644ccd979dc56ff1262fbf": {
          "model_module": "@jupyter-widgets/controls",
          "model_name": "HTMLModel",
          "model_module_version": "1.5.0",
          "state": {
            "_view_name": "HTMLView",
            "style": "IPY_MODEL_5f303036a83a4f488303a20b48c821df",
            "_dom_classes": [],
            "description": "",
            "_model_name": "HTMLModel",
            "placeholder": "​",
            "_view_module": "@jupyter-widgets/controls",
            "_model_module_version": "1.5.0",
            "value": " 878k/878k [00:01&lt;00:00, 1.14MB/s]",
            "_view_count": null,
            "_view_module_version": "1.5.0",
            "description_tooltip": null,
            "_model_module": "@jupyter-widgets/controls",
            "layout": "IPY_MODEL_631deafd0033486ab8a86afa60faa3c5"
          }
        },
        "bb53e3c697954aeeb9711f7ad67c0d06": {
          "model_module": "@jupyter-widgets/controls",
          "model_name": "DescriptionStyleModel",
          "model_module_version": "1.5.0",
          "state": {
            "_view_name": "StyleView",
            "_model_name": "DescriptionStyleModel",
            "description_width": "",
            "_view_module": "@jupyter-widgets/base",
            "_model_module_version": "1.5.0",
            "_view_count": null,
            "_view_module_version": "1.2.0",
            "_model_module": "@jupyter-widgets/controls"
          }
        },
        "7d1fd8695d074c2da37fa343f4f167dd": {
          "model_module": "@jupyter-widgets/base",
          "model_name": "LayoutModel",
          "model_module_version": "1.2.0",
          "state": {
            "_view_name": "LayoutView",
            "grid_template_rows": null,
            "right": null,
            "justify_content": null,
            "_view_module": "@jupyter-widgets/base",
            "overflow": null,
            "_model_module_version": "1.2.0",
            "_view_count": null,
            "flex_flow": null,
            "width": null,
            "min_width": null,
            "border": null,
            "align_items": null,
            "bottom": null,
            "_model_module": "@jupyter-widgets/base",
            "top": null,
            "grid_column": null,
            "overflow_y": null,
            "overflow_x": null,
            "grid_auto_flow": null,
            "grid_area": null,
            "grid_template_columns": null,
            "flex": null,
            "_model_name": "LayoutModel",
            "justify_items": null,
            "grid_row": null,
            "max_height": null,
            "align_content": null,
            "visibility": null,
            "align_self": null,
            "height": null,
            "min_height": null,
            "padding": null,
            "grid_auto_rows": null,
            "grid_gap": null,
            "max_width": null,
            "order": null,
            "_view_module_version": "1.2.0",
            "grid_template_areas": null,
            "object_position": null,
            "object_fit": null,
            "grid_auto_columns": null,
            "margin": null,
            "display": null,
            "left": null
          }
        },
        "dda494eeb2df4b9e921deb511f507dd4": {
          "model_module": "@jupyter-widgets/controls",
          "model_name": "ProgressStyleModel",
          "model_module_version": "1.5.0",
          "state": {
            "_view_name": "StyleView",
            "_model_name": "ProgressStyleModel",
            "description_width": "",
            "_view_module": "@jupyter-widgets/base",
            "_model_module_version": "1.5.0",
            "_view_count": null,
            "_view_module_version": "1.2.0",
            "bar_color": null,
            "_model_module": "@jupyter-widgets/controls"
          }
        },
        "738a1400232d43e4af77c52f77cdc540": {
          "model_module": "@jupyter-widgets/base",
          "model_name": "LayoutModel",
          "model_module_version": "1.2.0",
          "state": {
            "_view_name": "LayoutView",
            "grid_template_rows": null,
            "right": null,
            "justify_content": null,
            "_view_module": "@jupyter-widgets/base",
            "overflow": null,
            "_model_module_version": "1.2.0",
            "_view_count": null,
            "flex_flow": null,
            "width": null,
            "min_width": null,
            "border": null,
            "align_items": null,
            "bottom": null,
            "_model_module": "@jupyter-widgets/base",
            "top": null,
            "grid_column": null,
            "overflow_y": null,
            "overflow_x": null,
            "grid_auto_flow": null,
            "grid_area": null,
            "grid_template_columns": null,
            "flex": null,
            "_model_name": "LayoutModel",
            "justify_items": null,
            "grid_row": null,
            "max_height": null,
            "align_content": null,
            "visibility": null,
            "align_self": null,
            "height": null,
            "min_height": null,
            "padding": null,
            "grid_auto_rows": null,
            "grid_gap": null,
            "max_width": null,
            "order": null,
            "_view_module_version": "1.2.0",
            "grid_template_areas": null,
            "object_position": null,
            "object_fit": null,
            "grid_auto_columns": null,
            "margin": null,
            "display": null,
            "left": null
          }
        },
        "5f303036a83a4f488303a20b48c821df": {
          "model_module": "@jupyter-widgets/controls",
          "model_name": "DescriptionStyleModel",
          "model_module_version": "1.5.0",
          "state": {
            "_view_name": "StyleView",
            "_model_name": "DescriptionStyleModel",
            "description_width": "",
            "_view_module": "@jupyter-widgets/base",
            "_model_module_version": "1.5.0",
            "_view_count": null,
            "_view_module_version": "1.2.0",
            "_model_module": "@jupyter-widgets/controls"
          }
        },
        "631deafd0033486ab8a86afa60faa3c5": {
          "model_module": "@jupyter-widgets/base",
          "model_name": "LayoutModel",
          "model_module_version": "1.2.0",
          "state": {
            "_view_name": "LayoutView",
            "grid_template_rows": null,
            "right": null,
            "justify_content": null,
            "_view_module": "@jupyter-widgets/base",
            "overflow": null,
            "_model_module_version": "1.2.0",
            "_view_count": null,
            "flex_flow": null,
            "width": null,
            "min_width": null,
            "border": null,
            "align_items": null,
            "bottom": null,
            "_model_module": "@jupyter-widgets/base",
            "top": null,
            "grid_column": null,
            "overflow_y": null,
            "overflow_x": null,
            "grid_auto_flow": null,
            "grid_area": null,
            "grid_template_columns": null,
            "flex": null,
            "_model_name": "LayoutModel",
            "justify_items": null,
            "grid_row": null,
            "max_height": null,
            "align_content": null,
            "visibility": null,
            "align_self": null,
            "height": null,
            "min_height": null,
            "padding": null,
            "grid_auto_rows": null,
            "grid_gap": null,
            "max_width": null,
            "order": null,
            "_view_module_version": "1.2.0",
            "grid_template_areas": null,
            "object_position": null,
            "object_fit": null,
            "grid_auto_columns": null,
            "margin": null,
            "display": null,
            "left": null
          }
        },
        "1c480bc6dfb64371bb2317faba49bad0": {
          "model_module": "@jupyter-widgets/controls",
          "model_name": "HBoxModel",
          "model_module_version": "1.5.0",
          "state": {
            "_view_name": "HBoxView",
            "_dom_classes": [],
            "_model_name": "HBoxModel",
            "_view_module": "@jupyter-widgets/controls",
            "_model_module_version": "1.5.0",
            "_view_count": null,
            "_view_module_version": "1.5.0",
            "box_style": "",
            "layout": "IPY_MODEL_6b9cdbf105224dbbb544d06edbdb5cb2",
            "_model_module": "@jupyter-widgets/controls",
            "children": [
              "IPY_MODEL_9f9b994412b94684bedf1eefd43465e2",
              "IPY_MODEL_595e638ba1774a418b23cdea931e5626",
              "IPY_MODEL_22bc443684f74987b37ab36fe940123b"
            ]
          }
        },
        "6b9cdbf105224dbbb544d06edbdb5cb2": {
          "model_module": "@jupyter-widgets/base",
          "model_name": "LayoutModel",
          "model_module_version": "1.2.0",
          "state": {
            "_view_name": "LayoutView",
            "grid_template_rows": null,
            "right": null,
            "justify_content": null,
            "_view_module": "@jupyter-widgets/base",
            "overflow": null,
            "_model_module_version": "1.2.0",
            "_view_count": null,
            "flex_flow": null,
            "width": null,
            "min_width": null,
            "border": null,
            "align_items": null,
            "bottom": null,
            "_model_module": "@jupyter-widgets/base",
            "top": null,
            "grid_column": null,
            "overflow_y": null,
            "overflow_x": null,
            "grid_auto_flow": null,
            "grid_area": null,
            "grid_template_columns": null,
            "flex": null,
            "_model_name": "LayoutModel",
            "justify_items": null,
            "grid_row": null,
            "max_height": null,
            "align_content": null,
            "visibility": null,
            "align_self": null,
            "height": null,
            "min_height": null,
            "padding": null,
            "grid_auto_rows": null,
            "grid_gap": null,
            "max_width": null,
            "order": null,
            "_view_module_version": "1.2.0",
            "grid_template_areas": null,
            "object_position": null,
            "object_fit": null,
            "grid_auto_columns": null,
            "margin": null,
            "display": null,
            "left": null
          }
        },
        "9f9b994412b94684bedf1eefd43465e2": {
          "model_module": "@jupyter-widgets/controls",
          "model_name": "HTMLModel",
          "model_module_version": "1.5.0",
          "state": {
            "_view_name": "HTMLView",
            "style": "IPY_MODEL_56bd0bac18474d4eab75fbf8b9615324",
            "_dom_classes": [],
            "description": "",
            "_model_name": "HTMLModel",
            "placeholder": "​",
            "_view_module": "@jupyter-widgets/controls",
            "_model_module_version": "1.5.0",
            "value": "Downloading: 100%",
            "_view_count": null,
            "_view_module_version": "1.5.0",
            "description_tooltip": null,
            "_model_module": "@jupyter-widgets/controls",
            "layout": "IPY_MODEL_498e00e28a6940449a74f17baa6658f1"
          }
        },
        "595e638ba1774a418b23cdea931e5626": {
          "model_module": "@jupyter-widgets/controls",
          "model_name": "FloatProgressModel",
          "model_module_version": "1.5.0",
          "state": {
            "_view_name": "ProgressView",
            "style": "IPY_MODEL_aaafa520eedf4503b484346b8d4ce7a7",
            "_dom_classes": [],
            "description": "",
            "_model_name": "FloatProgressModel",
            "bar_style": "success",
            "max": 456318,
            "_view_module": "@jupyter-widgets/controls",
            "_model_module_version": "1.5.0",
            "value": 456318,
            "_view_count": null,
            "_view_module_version": "1.5.0",
            "orientation": "horizontal",
            "min": 0,
            "description_tooltip": null,
            "_model_module": "@jupyter-widgets/controls",
            "layout": "IPY_MODEL_8b82b137149f4aeab61700603d2f7cbf"
          }
        },
        "22bc443684f74987b37ab36fe940123b": {
          "model_module": "@jupyter-widgets/controls",
          "model_name": "HTMLModel",
          "model_module_version": "1.5.0",
          "state": {
            "_view_name": "HTMLView",
            "style": "IPY_MODEL_fd120a2eb9744eceb1c9d5f32df8758a",
            "_dom_classes": [],
            "description": "",
            "_model_name": "HTMLModel",
            "placeholder": "​",
            "_view_module": "@jupyter-widgets/controls",
            "_model_module_version": "1.5.0",
            "value": " 446k/446k [00:00&lt;00:00, 675kB/s]",
            "_view_count": null,
            "_view_module_version": "1.5.0",
            "description_tooltip": null,
            "_model_module": "@jupyter-widgets/controls",
            "layout": "IPY_MODEL_c1b4d8bd19884ec4b7a813d73e355e77"
          }
        },
        "56bd0bac18474d4eab75fbf8b9615324": {
          "model_module": "@jupyter-widgets/controls",
          "model_name": "DescriptionStyleModel",
          "model_module_version": "1.5.0",
          "state": {
            "_view_name": "StyleView",
            "_model_name": "DescriptionStyleModel",
            "description_width": "",
            "_view_module": "@jupyter-widgets/base",
            "_model_module_version": "1.5.0",
            "_view_count": null,
            "_view_module_version": "1.2.0",
            "_model_module": "@jupyter-widgets/controls"
          }
        },
        "498e00e28a6940449a74f17baa6658f1": {
          "model_module": "@jupyter-widgets/base",
          "model_name": "LayoutModel",
          "model_module_version": "1.2.0",
          "state": {
            "_view_name": "LayoutView",
            "grid_template_rows": null,
            "right": null,
            "justify_content": null,
            "_view_module": "@jupyter-widgets/base",
            "overflow": null,
            "_model_module_version": "1.2.0",
            "_view_count": null,
            "flex_flow": null,
            "width": null,
            "min_width": null,
            "border": null,
            "align_items": null,
            "bottom": null,
            "_model_module": "@jupyter-widgets/base",
            "top": null,
            "grid_column": null,
            "overflow_y": null,
            "overflow_x": null,
            "grid_auto_flow": null,
            "grid_area": null,
            "grid_template_columns": null,
            "flex": null,
            "_model_name": "LayoutModel",
            "justify_items": null,
            "grid_row": null,
            "max_height": null,
            "align_content": null,
            "visibility": null,
            "align_self": null,
            "height": null,
            "min_height": null,
            "padding": null,
            "grid_auto_rows": null,
            "grid_gap": null,
            "max_width": null,
            "order": null,
            "_view_module_version": "1.2.0",
            "grid_template_areas": null,
            "object_position": null,
            "object_fit": null,
            "grid_auto_columns": null,
            "margin": null,
            "display": null,
            "left": null
          }
        },
        "aaafa520eedf4503b484346b8d4ce7a7": {
          "model_module": "@jupyter-widgets/controls",
          "model_name": "ProgressStyleModel",
          "model_module_version": "1.5.0",
          "state": {
            "_view_name": "StyleView",
            "_model_name": "ProgressStyleModel",
            "description_width": "",
            "_view_module": "@jupyter-widgets/base",
            "_model_module_version": "1.5.0",
            "_view_count": null,
            "_view_module_version": "1.2.0",
            "bar_color": null,
            "_model_module": "@jupyter-widgets/controls"
          }
        },
        "8b82b137149f4aeab61700603d2f7cbf": {
          "model_module": "@jupyter-widgets/base",
          "model_name": "LayoutModel",
          "model_module_version": "1.2.0",
          "state": {
            "_view_name": "LayoutView",
            "grid_template_rows": null,
            "right": null,
            "justify_content": null,
            "_view_module": "@jupyter-widgets/base",
            "overflow": null,
            "_model_module_version": "1.2.0",
            "_view_count": null,
            "flex_flow": null,
            "width": null,
            "min_width": null,
            "border": null,
            "align_items": null,
            "bottom": null,
            "_model_module": "@jupyter-widgets/base",
            "top": null,
            "grid_column": null,
            "overflow_y": null,
            "overflow_x": null,
            "grid_auto_flow": null,
            "grid_area": null,
            "grid_template_columns": null,
            "flex": null,
            "_model_name": "LayoutModel",
            "justify_items": null,
            "grid_row": null,
            "max_height": null,
            "align_content": null,
            "visibility": null,
            "align_self": null,
            "height": null,
            "min_height": null,
            "padding": null,
            "grid_auto_rows": null,
            "grid_gap": null,
            "max_width": null,
            "order": null,
            "_view_module_version": "1.2.0",
            "grid_template_areas": null,
            "object_position": null,
            "object_fit": null,
            "grid_auto_columns": null,
            "margin": null,
            "display": null,
            "left": null
          }
        },
        "fd120a2eb9744eceb1c9d5f32df8758a": {
          "model_module": "@jupyter-widgets/controls",
          "model_name": "DescriptionStyleModel",
          "model_module_version": "1.5.0",
          "state": {
            "_view_name": "StyleView",
            "_model_name": "DescriptionStyleModel",
            "description_width": "",
            "_view_module": "@jupyter-widgets/base",
            "_model_module_version": "1.5.0",
            "_view_count": null,
            "_view_module_version": "1.2.0",
            "_model_module": "@jupyter-widgets/controls"
          }
        },
        "c1b4d8bd19884ec4b7a813d73e355e77": {
          "model_module": "@jupyter-widgets/base",
          "model_name": "LayoutModel",
          "model_module_version": "1.2.0",
          "state": {
            "_view_name": "LayoutView",
            "grid_template_rows": null,
            "right": null,
            "justify_content": null,
            "_view_module": "@jupyter-widgets/base",
            "overflow": null,
            "_model_module_version": "1.2.0",
            "_view_count": null,
            "flex_flow": null,
            "width": null,
            "min_width": null,
            "border": null,
            "align_items": null,
            "bottom": null,
            "_model_module": "@jupyter-widgets/base",
            "top": null,
            "grid_column": null,
            "overflow_y": null,
            "overflow_x": null,
            "grid_auto_flow": null,
            "grid_area": null,
            "grid_template_columns": null,
            "flex": null,
            "_model_name": "LayoutModel",
            "justify_items": null,
            "grid_row": null,
            "max_height": null,
            "align_content": null,
            "visibility": null,
            "align_self": null,
            "height": null,
            "min_height": null,
            "padding": null,
            "grid_auto_rows": null,
            "grid_gap": null,
            "max_width": null,
            "order": null,
            "_view_module_version": "1.2.0",
            "grid_template_areas": null,
            "object_position": null,
            "object_fit": null,
            "grid_auto_columns": null,
            "margin": null,
            "display": null,
            "left": null
          }
        },
        "3b76104241034e01b61db12905b434f4": {
          "model_module": "@jupyter-widgets/controls",
          "model_name": "HBoxModel",
          "model_module_version": "1.5.0",
          "state": {
            "_view_name": "HBoxView",
            "_dom_classes": [],
            "_model_name": "HBoxModel",
            "_view_module": "@jupyter-widgets/controls",
            "_model_module_version": "1.5.0",
            "_view_count": null,
            "_view_module_version": "1.5.0",
            "box_style": "",
            "layout": "IPY_MODEL_cc1f1722826442e5af68b415ca23ab67",
            "_model_module": "@jupyter-widgets/controls",
            "children": [
              "IPY_MODEL_9bb7e77e65054497806769c5fd1592a3",
              "IPY_MODEL_9087f1b8e8f349d5ad3d7416df48364e",
              "IPY_MODEL_346dc592852c41519146b2a46868c9e8"
            ]
          }
        },
        "cc1f1722826442e5af68b415ca23ab67": {
          "model_module": "@jupyter-widgets/base",
          "model_name": "LayoutModel",
          "model_module_version": "1.2.0",
          "state": {
            "_view_name": "LayoutView",
            "grid_template_rows": null,
            "right": null,
            "justify_content": null,
            "_view_module": "@jupyter-widgets/base",
            "overflow": null,
            "_model_module_version": "1.2.0",
            "_view_count": null,
            "flex_flow": null,
            "width": null,
            "min_width": null,
            "border": null,
            "align_items": null,
            "bottom": null,
            "_model_module": "@jupyter-widgets/base",
            "top": null,
            "grid_column": null,
            "overflow_y": null,
            "overflow_x": null,
            "grid_auto_flow": null,
            "grid_area": null,
            "grid_template_columns": null,
            "flex": null,
            "_model_name": "LayoutModel",
            "justify_items": null,
            "grid_row": null,
            "max_height": null,
            "align_content": null,
            "visibility": null,
            "align_self": null,
            "height": null,
            "min_height": null,
            "padding": null,
            "grid_auto_rows": null,
            "grid_gap": null,
            "max_width": null,
            "order": null,
            "_view_module_version": "1.2.0",
            "grid_template_areas": null,
            "object_position": null,
            "object_fit": null,
            "grid_auto_columns": null,
            "margin": null,
            "display": null,
            "left": null
          }
        },
        "9bb7e77e65054497806769c5fd1592a3": {
          "model_module": "@jupyter-widgets/controls",
          "model_name": "HTMLModel",
          "model_module_version": "1.5.0",
          "state": {
            "_view_name": "HTMLView",
            "style": "IPY_MODEL_b42b46c9917f47eb897cef99c441d9d7",
            "_dom_classes": [],
            "description": "",
            "_model_name": "HTMLModel",
            "placeholder": "​",
            "_view_module": "@jupyter-widgets/controls",
            "_model_module_version": "1.5.0",
            "value": "Downloading: 100%",
            "_view_count": null,
            "_view_module_version": "1.5.0",
            "description_tooltip": null,
            "_model_module": "@jupyter-widgets/controls",
            "layout": "IPY_MODEL_bb1abdbb04d849e3b7b2c61c983cfec8"
          }
        },
        "9087f1b8e8f349d5ad3d7416df48364e": {
          "model_module": "@jupyter-widgets/controls",
          "model_name": "FloatProgressModel",
          "model_module_version": "1.5.0",
          "state": {
            "_view_name": "ProgressView",
            "style": "IPY_MODEL_1f42a226237745c58d4aaa4e2f75380a",
            "_dom_classes": [],
            "description": "",
            "_model_name": "FloatProgressModel",
            "bar_style": "success",
            "max": 1199,
            "_view_module": "@jupyter-widgets/controls",
            "_model_module_version": "1.5.0",
            "value": 1199,
            "_view_count": null,
            "_view_module_version": "1.5.0",
            "orientation": "horizontal",
            "min": 0,
            "description_tooltip": null,
            "_model_module": "@jupyter-widgets/controls",
            "layout": "IPY_MODEL_cbdd31476683416db4bde87afe161297"
          }
        },
        "346dc592852c41519146b2a46868c9e8": {
          "model_module": "@jupyter-widgets/controls",
          "model_name": "HTMLModel",
          "model_module_version": "1.5.0",
          "state": {
            "_view_name": "HTMLView",
            "style": "IPY_MODEL_3c594cea51104b1aa4774777eedcc814",
            "_dom_classes": [],
            "description": "",
            "_model_name": "HTMLModel",
            "placeholder": "​",
            "_view_module": "@jupyter-widgets/controls",
            "_model_module_version": "1.5.0",
            "value": " 1.17k/1.17k [00:00&lt;00:00, 18.7kB/s]",
            "_view_count": null,
            "_view_module_version": "1.5.0",
            "description_tooltip": null,
            "_model_module": "@jupyter-widgets/controls",
            "layout": "IPY_MODEL_61d65418eccd4bf08540bc5016297cae"
          }
        },
        "b42b46c9917f47eb897cef99c441d9d7": {
          "model_module": "@jupyter-widgets/controls",
          "model_name": "DescriptionStyleModel",
          "model_module_version": "1.5.0",
          "state": {
            "_view_name": "StyleView",
            "_model_name": "DescriptionStyleModel",
            "description_width": "",
            "_view_module": "@jupyter-widgets/base",
            "_model_module_version": "1.5.0",
            "_view_count": null,
            "_view_module_version": "1.2.0",
            "_model_module": "@jupyter-widgets/controls"
          }
        },
        "bb1abdbb04d849e3b7b2c61c983cfec8": {
          "model_module": "@jupyter-widgets/base",
          "model_name": "LayoutModel",
          "model_module_version": "1.2.0",
          "state": {
            "_view_name": "LayoutView",
            "grid_template_rows": null,
            "right": null,
            "justify_content": null,
            "_view_module": "@jupyter-widgets/base",
            "overflow": null,
            "_model_module_version": "1.2.0",
            "_view_count": null,
            "flex_flow": null,
            "width": null,
            "min_width": null,
            "border": null,
            "align_items": null,
            "bottom": null,
            "_model_module": "@jupyter-widgets/base",
            "top": null,
            "grid_column": null,
            "overflow_y": null,
            "overflow_x": null,
            "grid_auto_flow": null,
            "grid_area": null,
            "grid_template_columns": null,
            "flex": null,
            "_model_name": "LayoutModel",
            "justify_items": null,
            "grid_row": null,
            "max_height": null,
            "align_content": null,
            "visibility": null,
            "align_self": null,
            "height": null,
            "min_height": null,
            "padding": null,
            "grid_auto_rows": null,
            "grid_gap": null,
            "max_width": null,
            "order": null,
            "_view_module_version": "1.2.0",
            "grid_template_areas": null,
            "object_position": null,
            "object_fit": null,
            "grid_auto_columns": null,
            "margin": null,
            "display": null,
            "left": null
          }
        },
        "1f42a226237745c58d4aaa4e2f75380a": {
          "model_module": "@jupyter-widgets/controls",
          "model_name": "ProgressStyleModel",
          "model_module_version": "1.5.0",
          "state": {
            "_view_name": "StyleView",
            "_model_name": "ProgressStyleModel",
            "description_width": "",
            "_view_module": "@jupyter-widgets/base",
            "_model_module_version": "1.5.0",
            "_view_count": null,
            "_view_module_version": "1.2.0",
            "bar_color": null,
            "_model_module": "@jupyter-widgets/controls"
          }
        },
        "cbdd31476683416db4bde87afe161297": {
          "model_module": "@jupyter-widgets/base",
          "model_name": "LayoutModel",
          "model_module_version": "1.2.0",
          "state": {
            "_view_name": "LayoutView",
            "grid_template_rows": null,
            "right": null,
            "justify_content": null,
            "_view_module": "@jupyter-widgets/base",
            "overflow": null,
            "_model_module_version": "1.2.0",
            "_view_count": null,
            "flex_flow": null,
            "width": null,
            "min_width": null,
            "border": null,
            "align_items": null,
            "bottom": null,
            "_model_module": "@jupyter-widgets/base",
            "top": null,
            "grid_column": null,
            "overflow_y": null,
            "overflow_x": null,
            "grid_auto_flow": null,
            "grid_area": null,
            "grid_template_columns": null,
            "flex": null,
            "_model_name": "LayoutModel",
            "justify_items": null,
            "grid_row": null,
            "max_height": null,
            "align_content": null,
            "visibility": null,
            "align_self": null,
            "height": null,
            "min_height": null,
            "padding": null,
            "grid_auto_rows": null,
            "grid_gap": null,
            "max_width": null,
            "order": null,
            "_view_module_version": "1.2.0",
            "grid_template_areas": null,
            "object_position": null,
            "object_fit": null,
            "grid_auto_columns": null,
            "margin": null,
            "display": null,
            "left": null
          }
        },
        "3c594cea51104b1aa4774777eedcc814": {
          "model_module": "@jupyter-widgets/controls",
          "model_name": "DescriptionStyleModel",
          "model_module_version": "1.5.0",
          "state": {
            "_view_name": "StyleView",
            "_model_name": "DescriptionStyleModel",
            "description_width": "",
            "_view_module": "@jupyter-widgets/base",
            "_model_module_version": "1.5.0",
            "_view_count": null,
            "_view_module_version": "1.2.0",
            "_model_module": "@jupyter-widgets/controls"
          }
        },
        "61d65418eccd4bf08540bc5016297cae": {
          "model_module": "@jupyter-widgets/base",
          "model_name": "LayoutModel",
          "model_module_version": "1.2.0",
          "state": {
            "_view_name": "LayoutView",
            "grid_template_rows": null,
            "right": null,
            "justify_content": null,
            "_view_module": "@jupyter-widgets/base",
            "overflow": null,
            "_model_module_version": "1.2.0",
            "_view_count": null,
            "flex_flow": null,
            "width": null,
            "min_width": null,
            "border": null,
            "align_items": null,
            "bottom": null,
            "_model_module": "@jupyter-widgets/base",
            "top": null,
            "grid_column": null,
            "overflow_y": null,
            "overflow_x": null,
            "grid_auto_flow": null,
            "grid_area": null,
            "grid_template_columns": null,
            "flex": null,
            "_model_name": "LayoutModel",
            "justify_items": null,
            "grid_row": null,
            "max_height": null,
            "align_content": null,
            "visibility": null,
            "align_self": null,
            "height": null,
            "min_height": null,
            "padding": null,
            "grid_auto_rows": null,
            "grid_gap": null,
            "max_width": null,
            "order": null,
            "_view_module_version": "1.2.0",
            "grid_template_areas": null,
            "object_position": null,
            "object_fit": null,
            "grid_auto_columns": null,
            "margin": null,
            "display": null,
            "left": null
          }
        },
        "bbade5120f9444d6852f825ec6cb41e8": {
          "model_module": "@jupyter-widgets/controls",
          "model_name": "HBoxModel",
          "model_module_version": "1.5.0",
          "state": {
            "_view_name": "HBoxView",
            "_dom_classes": [],
            "_model_name": "HBoxModel",
            "_view_module": "@jupyter-widgets/controls",
            "_model_module_version": "1.5.0",
            "_view_count": null,
            "_view_module_version": "1.5.0",
            "box_style": "",
            "layout": "IPY_MODEL_1164a54d62e04ba889b1e5e16710841f",
            "_model_module": "@jupyter-widgets/controls",
            "children": [
              "IPY_MODEL_c72b2e7df3574deb8b27ee1ad4e8bc35",
              "IPY_MODEL_33599676e2b84095b3e06a34c1153d83",
              "IPY_MODEL_fabe0a390cc34661b9bfbe5f7875bd84"
            ]
          }
        },
        "1164a54d62e04ba889b1e5e16710841f": {
          "model_module": "@jupyter-widgets/base",
          "model_name": "LayoutModel",
          "model_module_version": "1.2.0",
          "state": {
            "_view_name": "LayoutView",
            "grid_template_rows": null,
            "right": null,
            "justify_content": null,
            "_view_module": "@jupyter-widgets/base",
            "overflow": null,
            "_model_module_version": "1.2.0",
            "_view_count": null,
            "flex_flow": null,
            "width": null,
            "min_width": null,
            "border": null,
            "align_items": null,
            "bottom": null,
            "_model_module": "@jupyter-widgets/base",
            "top": null,
            "grid_column": null,
            "overflow_y": null,
            "overflow_x": null,
            "grid_auto_flow": null,
            "grid_area": null,
            "grid_template_columns": null,
            "flex": null,
            "_model_name": "LayoutModel",
            "justify_items": null,
            "grid_row": null,
            "max_height": null,
            "align_content": null,
            "visibility": null,
            "align_self": null,
            "height": null,
            "min_height": null,
            "padding": null,
            "grid_auto_rows": null,
            "grid_gap": null,
            "max_width": null,
            "order": null,
            "_view_module_version": "1.2.0",
            "grid_template_areas": null,
            "object_position": null,
            "object_fit": null,
            "grid_auto_columns": null,
            "margin": null,
            "display": null,
            "left": null
          }
        },
        "c72b2e7df3574deb8b27ee1ad4e8bc35": {
          "model_module": "@jupyter-widgets/controls",
          "model_name": "HTMLModel",
          "model_module_version": "1.5.0",
          "state": {
            "_view_name": "HTMLView",
            "style": "IPY_MODEL_bafade0479a24fb4b3f6ee9e8fb51057",
            "_dom_classes": [],
            "description": "",
            "_model_name": "HTMLModel",
            "placeholder": "​",
            "_view_module": "@jupyter-widgets/controls",
            "_model_module_version": "1.5.0",
            "value": "Downloading: 100%",
            "_view_count": null,
            "_view_module_version": "1.5.0",
            "description_tooltip": null,
            "_model_module": "@jupyter-widgets/controls",
            "layout": "IPY_MODEL_42efe78c21984399964c274757064759"
          }
        },
        "33599676e2b84095b3e06a34c1153d83": {
          "model_module": "@jupyter-widgets/controls",
          "model_name": "FloatProgressModel",
          "model_module_version": "1.5.0",
          "state": {
            "_view_name": "ProgressView",
            "style": "IPY_MODEL_5d11573003434cb4bebf83597503d075",
            "_dom_classes": [],
            "description": "",
            "_model_name": "FloatProgressModel",
            "bar_style": "success",
            "max": 892146080,
            "_view_module": "@jupyter-widgets/controls",
            "_model_module_version": "1.5.0",
            "value": 892146080,
            "_view_count": null,
            "_view_module_version": "1.5.0",
            "orientation": "horizontal",
            "min": 0,
            "description_tooltip": null,
            "_model_module": "@jupyter-widgets/controls",
            "layout": "IPY_MODEL_83383c5b1c64495d99906bcf44d05546"
          }
        },
        "fabe0a390cc34661b9bfbe5f7875bd84": {
          "model_module": "@jupyter-widgets/controls",
          "model_name": "HTMLModel",
          "model_module_version": "1.5.0",
          "state": {
            "_view_name": "HTMLView",
            "style": "IPY_MODEL_9918736f7a454511a6a978edba65cd76",
            "_dom_classes": [],
            "description": "",
            "_model_name": "HTMLModel",
            "placeholder": "​",
            "_view_module": "@jupyter-widgets/controls",
            "_model_module_version": "1.5.0",
            "value": " 851M/851M [00:23&lt;00:00, 36.7MB/s]",
            "_view_count": null,
            "_view_module_version": "1.5.0",
            "description_tooltip": null,
            "_model_module": "@jupyter-widgets/controls",
            "layout": "IPY_MODEL_043aaaa91d1143e49c9edcd390ef0871"
          }
        },
        "bafade0479a24fb4b3f6ee9e8fb51057": {
          "model_module": "@jupyter-widgets/controls",
          "model_name": "DescriptionStyleModel",
          "model_module_version": "1.5.0",
          "state": {
            "_view_name": "StyleView",
            "_model_name": "DescriptionStyleModel",
            "description_width": "",
            "_view_module": "@jupyter-widgets/base",
            "_model_module_version": "1.5.0",
            "_view_count": null,
            "_view_module_version": "1.2.0",
            "_model_module": "@jupyter-widgets/controls"
          }
        },
        "42efe78c21984399964c274757064759": {
          "model_module": "@jupyter-widgets/base",
          "model_name": "LayoutModel",
          "model_module_version": "1.2.0",
          "state": {
            "_view_name": "LayoutView",
            "grid_template_rows": null,
            "right": null,
            "justify_content": null,
            "_view_module": "@jupyter-widgets/base",
            "overflow": null,
            "_model_module_version": "1.2.0",
            "_view_count": null,
            "flex_flow": null,
            "width": null,
            "min_width": null,
            "border": null,
            "align_items": null,
            "bottom": null,
            "_model_module": "@jupyter-widgets/base",
            "top": null,
            "grid_column": null,
            "overflow_y": null,
            "overflow_x": null,
            "grid_auto_flow": null,
            "grid_area": null,
            "grid_template_columns": null,
            "flex": null,
            "_model_name": "LayoutModel",
            "justify_items": null,
            "grid_row": null,
            "max_height": null,
            "align_content": null,
            "visibility": null,
            "align_self": null,
            "height": null,
            "min_height": null,
            "padding": null,
            "grid_auto_rows": null,
            "grid_gap": null,
            "max_width": null,
            "order": null,
            "_view_module_version": "1.2.0",
            "grid_template_areas": null,
            "object_position": null,
            "object_fit": null,
            "grid_auto_columns": null,
            "margin": null,
            "display": null,
            "left": null
          }
        },
        "5d11573003434cb4bebf83597503d075": {
          "model_module": "@jupyter-widgets/controls",
          "model_name": "ProgressStyleModel",
          "model_module_version": "1.5.0",
          "state": {
            "_view_name": "StyleView",
            "_model_name": "ProgressStyleModel",
            "description_width": "",
            "_view_module": "@jupyter-widgets/base",
            "_model_module_version": "1.5.0",
            "_view_count": null,
            "_view_module_version": "1.2.0",
            "bar_color": null,
            "_model_module": "@jupyter-widgets/controls"
          }
        },
        "83383c5b1c64495d99906bcf44d05546": {
          "model_module": "@jupyter-widgets/base",
          "model_name": "LayoutModel",
          "model_module_version": "1.2.0",
          "state": {
            "_view_name": "LayoutView",
            "grid_template_rows": null,
            "right": null,
            "justify_content": null,
            "_view_module": "@jupyter-widgets/base",
            "overflow": null,
            "_model_module_version": "1.2.0",
            "_view_count": null,
            "flex_flow": null,
            "width": null,
            "min_width": null,
            "border": null,
            "align_items": null,
            "bottom": null,
            "_model_module": "@jupyter-widgets/base",
            "top": null,
            "grid_column": null,
            "overflow_y": null,
            "overflow_x": null,
            "grid_auto_flow": null,
            "grid_area": null,
            "grid_template_columns": null,
            "flex": null,
            "_model_name": "LayoutModel",
            "justify_items": null,
            "grid_row": null,
            "max_height": null,
            "align_content": null,
            "visibility": null,
            "align_self": null,
            "height": null,
            "min_height": null,
            "padding": null,
            "grid_auto_rows": null,
            "grid_gap": null,
            "max_width": null,
            "order": null,
            "_view_module_version": "1.2.0",
            "grid_template_areas": null,
            "object_position": null,
            "object_fit": null,
            "grid_auto_columns": null,
            "margin": null,
            "display": null,
            "left": null
          }
        },
        "9918736f7a454511a6a978edba65cd76": {
          "model_module": "@jupyter-widgets/controls",
          "model_name": "DescriptionStyleModel",
          "model_module_version": "1.5.0",
          "state": {
            "_view_name": "StyleView",
            "_model_name": "DescriptionStyleModel",
            "description_width": "",
            "_view_module": "@jupyter-widgets/base",
            "_model_module_version": "1.5.0",
            "_view_count": null,
            "_view_module_version": "1.2.0",
            "_model_module": "@jupyter-widgets/controls"
          }
        },
        "043aaaa91d1143e49c9edcd390ef0871": {
          "model_module": "@jupyter-widgets/base",
          "model_name": "LayoutModel",
          "model_module_version": "1.2.0",
          "state": {
            "_view_name": "LayoutView",
            "grid_template_rows": null,
            "right": null,
            "justify_content": null,
            "_view_module": "@jupyter-widgets/base",
            "overflow": null,
            "_model_module_version": "1.2.0",
            "_view_count": null,
            "flex_flow": null,
            "width": null,
            "min_width": null,
            "border": null,
            "align_items": null,
            "bottom": null,
            "_model_module": "@jupyter-widgets/base",
            "top": null,
            "grid_column": null,
            "overflow_y": null,
            "overflow_x": null,
            "grid_auto_flow": null,
            "grid_area": null,
            "grid_template_columns": null,
            "flex": null,
            "_model_name": "LayoutModel",
            "justify_items": null,
            "grid_row": null,
            "max_height": null,
            "align_content": null,
            "visibility": null,
            "align_self": null,
            "height": null,
            "min_height": null,
            "padding": null,
            "grid_auto_rows": null,
            "grid_gap": null,
            "max_width": null,
            "order": null,
            "_view_module_version": "1.2.0",
            "grid_template_areas": null,
            "object_position": null,
            "object_fit": null,
            "grid_auto_columns": null,
            "margin": null,
            "display": null,
            "left": null
          }
        },
        "4253fc6236bd4bc99804d5ce1e7d0c34": {
          "model_module": "@jupyter-widgets/controls",
          "model_name": "HBoxModel",
          "model_module_version": "1.5.0",
          "state": {
            "_view_name": "HBoxView",
            "_dom_classes": [],
            "_model_name": "HBoxModel",
            "_view_module": "@jupyter-widgets/controls",
            "_model_module_version": "1.5.0",
            "_view_count": null,
            "_view_module_version": "1.5.0",
            "box_style": "",
            "layout": "IPY_MODEL_1b73bd5bb44a4902ae9d05298dc6a926",
            "_model_module": "@jupyter-widgets/controls",
            "children": [
              "IPY_MODEL_06df8d967fa44eff9ccb0579169b3fa5",
              "IPY_MODEL_c342688dd3a34b5dab56eadd4fc5aefe",
              "IPY_MODEL_99f3deeff0834255abab21a0b897b433"
            ]
          }
        },
        "1b73bd5bb44a4902ae9d05298dc6a926": {
          "model_module": "@jupyter-widgets/base",
          "model_name": "LayoutModel",
          "model_module_version": "1.2.0",
          "state": {
            "_view_name": "LayoutView",
            "grid_template_rows": null,
            "right": null,
            "justify_content": null,
            "_view_module": "@jupyter-widgets/base",
            "overflow": null,
            "_model_module_version": "1.2.0",
            "_view_count": null,
            "flex_flow": null,
            "width": null,
            "min_width": null,
            "border": null,
            "align_items": null,
            "bottom": null,
            "_model_module": "@jupyter-widgets/base",
            "top": null,
            "grid_column": null,
            "overflow_y": null,
            "overflow_x": null,
            "grid_auto_flow": null,
            "grid_area": null,
            "grid_template_columns": null,
            "flex": null,
            "_model_name": "LayoutModel",
            "justify_items": null,
            "grid_row": null,
            "max_height": null,
            "align_content": null,
            "visibility": null,
            "align_self": null,
            "height": null,
            "min_height": null,
            "padding": null,
            "grid_auto_rows": null,
            "grid_gap": null,
            "max_width": null,
            "order": null,
            "_view_module_version": "1.2.0",
            "grid_template_areas": null,
            "object_position": null,
            "object_fit": null,
            "grid_auto_columns": null,
            "margin": null,
            "display": null,
            "left": null
          }
        },
        "06df8d967fa44eff9ccb0579169b3fa5": {
          "model_module": "@jupyter-widgets/controls",
          "model_name": "HTMLModel",
          "model_module_version": "1.5.0",
          "state": {
            "_view_name": "HTMLView",
            "style": "IPY_MODEL_04627d9548ee42a98a5a04f3cb3b2b11",
            "_dom_classes": [],
            "description": "",
            "_model_name": "HTMLModel",
            "placeholder": "​",
            "_view_module": "@jupyter-widgets/controls",
            "_model_module_version": "1.5.0",
            "value": "Downloading: 100%",
            "_view_count": null,
            "_view_module_version": "1.5.0",
            "description_tooltip": null,
            "_model_module": "@jupyter-widgets/controls",
            "layout": "IPY_MODEL_99359fd2b9ce43a899a83ecdf7bd02a0"
          }
        },
        "c342688dd3a34b5dab56eadd4fc5aefe": {
          "model_module": "@jupyter-widgets/controls",
          "model_name": "FloatProgressModel",
          "model_module_version": "1.5.0",
          "state": {
            "_view_name": "ProgressView",
            "style": "IPY_MODEL_14de891df1ff4dbd822475f769ebfe6d",
            "_dom_classes": [],
            "description": "",
            "_model_name": "FloatProgressModel",
            "bar_style": "success",
            "max": 791656,
            "_view_module": "@jupyter-widgets/controls",
            "_model_module_version": "1.5.0",
            "value": 791656,
            "_view_count": null,
            "_view_module_version": "1.5.0",
            "orientation": "horizontal",
            "min": 0,
            "description_tooltip": null,
            "_model_module": "@jupyter-widgets/controls",
            "layout": "IPY_MODEL_1be31f9bed6f490385c5c66d9584d222"
          }
        },
        "99f3deeff0834255abab21a0b897b433": {
          "model_module": "@jupyter-widgets/controls",
          "model_name": "HTMLModel",
          "model_module_version": "1.5.0",
          "state": {
            "_view_name": "HTMLView",
            "style": "IPY_MODEL_e8a6ef6e00034caf9d27d115590e3783",
            "_dom_classes": [],
            "description": "",
            "_model_name": "HTMLModel",
            "placeholder": "​",
            "_view_module": "@jupyter-widgets/controls",
            "_model_module_version": "1.5.0",
            "value": " 773k/773k [00:00&lt;00:00, 603kB/s]",
            "_view_count": null,
            "_view_module_version": "1.5.0",
            "description_tooltip": null,
            "_model_module": "@jupyter-widgets/controls",
            "layout": "IPY_MODEL_57ed74edd7114d5aa48831fd86fbb69e"
          }
        },
        "04627d9548ee42a98a5a04f3cb3b2b11": {
          "model_module": "@jupyter-widgets/controls",
          "model_name": "DescriptionStyleModel",
          "model_module_version": "1.5.0",
          "state": {
            "_view_name": "StyleView",
            "_model_name": "DescriptionStyleModel",
            "description_width": "",
            "_view_module": "@jupyter-widgets/base",
            "_model_module_version": "1.5.0",
            "_view_count": null,
            "_view_module_version": "1.2.0",
            "_model_module": "@jupyter-widgets/controls"
          }
        },
        "99359fd2b9ce43a899a83ecdf7bd02a0": {
          "model_module": "@jupyter-widgets/base",
          "model_name": "LayoutModel",
          "model_module_version": "1.2.0",
          "state": {
            "_view_name": "LayoutView",
            "grid_template_rows": null,
            "right": null,
            "justify_content": null,
            "_view_module": "@jupyter-widgets/base",
            "overflow": null,
            "_model_module_version": "1.2.0",
            "_view_count": null,
            "flex_flow": null,
            "width": null,
            "min_width": null,
            "border": null,
            "align_items": null,
            "bottom": null,
            "_model_module": "@jupyter-widgets/base",
            "top": null,
            "grid_column": null,
            "overflow_y": null,
            "overflow_x": null,
            "grid_auto_flow": null,
            "grid_area": null,
            "grid_template_columns": null,
            "flex": null,
            "_model_name": "LayoutModel",
            "justify_items": null,
            "grid_row": null,
            "max_height": null,
            "align_content": null,
            "visibility": null,
            "align_self": null,
            "height": null,
            "min_height": null,
            "padding": null,
            "grid_auto_rows": null,
            "grid_gap": null,
            "max_width": null,
            "order": null,
            "_view_module_version": "1.2.0",
            "grid_template_areas": null,
            "object_position": null,
            "object_fit": null,
            "grid_auto_columns": null,
            "margin": null,
            "display": null,
            "left": null
          }
        },
        "14de891df1ff4dbd822475f769ebfe6d": {
          "model_module": "@jupyter-widgets/controls",
          "model_name": "ProgressStyleModel",
          "model_module_version": "1.5.0",
          "state": {
            "_view_name": "StyleView",
            "_model_name": "ProgressStyleModel",
            "description_width": "",
            "_view_module": "@jupyter-widgets/base",
            "_model_module_version": "1.5.0",
            "_view_count": null,
            "_view_module_version": "1.2.0",
            "bar_color": null,
            "_model_module": "@jupyter-widgets/controls"
          }
        },
        "1be31f9bed6f490385c5c66d9584d222": {
          "model_module": "@jupyter-widgets/base",
          "model_name": "LayoutModel",
          "model_module_version": "1.2.0",
          "state": {
            "_view_name": "LayoutView",
            "grid_template_rows": null,
            "right": null,
            "justify_content": null,
            "_view_module": "@jupyter-widgets/base",
            "overflow": null,
            "_model_module_version": "1.2.0",
            "_view_count": null,
            "flex_flow": null,
            "width": null,
            "min_width": null,
            "border": null,
            "align_items": null,
            "bottom": null,
            "_model_module": "@jupyter-widgets/base",
            "top": null,
            "grid_column": null,
            "overflow_y": null,
            "overflow_x": null,
            "grid_auto_flow": null,
            "grid_area": null,
            "grid_template_columns": null,
            "flex": null,
            "_model_name": "LayoutModel",
            "justify_items": null,
            "grid_row": null,
            "max_height": null,
            "align_content": null,
            "visibility": null,
            "align_self": null,
            "height": null,
            "min_height": null,
            "padding": null,
            "grid_auto_rows": null,
            "grid_gap": null,
            "max_width": null,
            "order": null,
            "_view_module_version": "1.2.0",
            "grid_template_areas": null,
            "object_position": null,
            "object_fit": null,
            "grid_auto_columns": null,
            "margin": null,
            "display": null,
            "left": null
          }
        },
        "e8a6ef6e00034caf9d27d115590e3783": {
          "model_module": "@jupyter-widgets/controls",
          "model_name": "DescriptionStyleModel",
          "model_module_version": "1.5.0",
          "state": {
            "_view_name": "StyleView",
            "_model_name": "DescriptionStyleModel",
            "description_width": "",
            "_view_module": "@jupyter-widgets/base",
            "_model_module_version": "1.5.0",
            "_view_count": null,
            "_view_module_version": "1.2.0",
            "_model_module": "@jupyter-widgets/controls"
          }
        },
        "57ed74edd7114d5aa48831fd86fbb69e": {
          "model_module": "@jupyter-widgets/base",
          "model_name": "LayoutModel",
          "model_module_version": "1.2.0",
          "state": {
            "_view_name": "LayoutView",
            "grid_template_rows": null,
            "right": null,
            "justify_content": null,
            "_view_module": "@jupyter-widgets/base",
            "overflow": null,
            "_model_module_version": "1.2.0",
            "_view_count": null,
            "flex_flow": null,
            "width": null,
            "min_width": null,
            "border": null,
            "align_items": null,
            "bottom": null,
            "_model_module": "@jupyter-widgets/base",
            "top": null,
            "grid_column": null,
            "overflow_y": null,
            "overflow_x": null,
            "grid_auto_flow": null,
            "grid_area": null,
            "grid_template_columns": null,
            "flex": null,
            "_model_name": "LayoutModel",
            "justify_items": null,
            "grid_row": null,
            "max_height": null,
            "align_content": null,
            "visibility": null,
            "align_self": null,
            "height": null,
            "min_height": null,
            "padding": null,
            "grid_auto_rows": null,
            "grid_gap": null,
            "max_width": null,
            "order": null,
            "_view_module_version": "1.2.0",
            "grid_template_areas": null,
            "object_position": null,
            "object_fit": null,
            "grid_auto_columns": null,
            "margin": null,
            "display": null,
            "left": null
          }
        },
        "3f6bf424eec04301b23d5a358bf3365e": {
          "model_module": "@jupyter-widgets/controls",
          "model_name": "HBoxModel",
          "model_module_version": "1.5.0",
          "state": {
            "_view_name": "HBoxView",
            "_dom_classes": [],
            "_model_name": "HBoxModel",
            "_view_module": "@jupyter-widgets/controls",
            "_model_module_version": "1.5.0",
            "_view_count": null,
            "_view_module_version": "1.5.0",
            "box_style": "",
            "layout": "IPY_MODEL_e4b8e29e7f9f49ff8581b0ea86fca1d7",
            "_model_module": "@jupyter-widgets/controls",
            "children": [
              "IPY_MODEL_c5efe4e756844c699be8041316c17254",
              "IPY_MODEL_26d27b9cffcc49a29ce64a66adc1e522",
              "IPY_MODEL_42cb839b2de14035aad75591e68958c8"
            ]
          }
        },
        "e4b8e29e7f9f49ff8581b0ea86fca1d7": {
          "model_module": "@jupyter-widgets/base",
          "model_name": "LayoutModel",
          "model_module_version": "1.2.0",
          "state": {
            "_view_name": "LayoutView",
            "grid_template_rows": null,
            "right": null,
            "justify_content": null,
            "_view_module": "@jupyter-widgets/base",
            "overflow": null,
            "_model_module_version": "1.2.0",
            "_view_count": null,
            "flex_flow": null,
            "width": null,
            "min_width": null,
            "border": null,
            "align_items": null,
            "bottom": null,
            "_model_module": "@jupyter-widgets/base",
            "top": null,
            "grid_column": null,
            "overflow_y": null,
            "overflow_x": null,
            "grid_auto_flow": null,
            "grid_area": null,
            "grid_template_columns": null,
            "flex": null,
            "_model_name": "LayoutModel",
            "justify_items": null,
            "grid_row": null,
            "max_height": null,
            "align_content": null,
            "visibility": null,
            "align_self": null,
            "height": null,
            "min_height": null,
            "padding": null,
            "grid_auto_rows": null,
            "grid_gap": null,
            "max_width": null,
            "order": null,
            "_view_module_version": "1.2.0",
            "grid_template_areas": null,
            "object_position": null,
            "object_fit": null,
            "grid_auto_columns": null,
            "margin": null,
            "display": null,
            "left": null
          }
        },
        "c5efe4e756844c699be8041316c17254": {
          "model_module": "@jupyter-widgets/controls",
          "model_name": "HTMLModel",
          "model_module_version": "1.5.0",
          "state": {
            "_view_name": "HTMLView",
            "style": "IPY_MODEL_07594f86d6ba44e98e16e38fce60cd58",
            "_dom_classes": [],
            "description": "",
            "_model_name": "HTMLModel",
            "placeholder": "​",
            "_view_module": "@jupyter-widgets/controls",
            "_model_module_version": "1.5.0",
            "value": "Downloading: 100%",
            "_view_count": null,
            "_view_module_version": "1.5.0",
            "description_tooltip": null,
            "_model_module": "@jupyter-widgets/controls",
            "layout": "IPY_MODEL_24c57cf605194950adf095641e5c4e43"
          }
        },
        "26d27b9cffcc49a29ce64a66adc1e522": {
          "model_module": "@jupyter-widgets/controls",
          "model_name": "FloatProgressModel",
          "model_module_version": "1.5.0",
          "state": {
            "_view_name": "ProgressView",
            "style": "IPY_MODEL_fb0023e071b3434d92af03bfcef0e54d",
            "_dom_classes": [],
            "description": "",
            "_model_name": "FloatProgressModel",
            "bar_style": "success",
            "max": 1389353,
            "_view_module": "@jupyter-widgets/controls",
            "_model_module_version": "1.5.0",
            "value": 1389353,
            "_view_count": null,
            "_view_module_version": "1.5.0",
            "orientation": "horizontal",
            "min": 0,
            "description_tooltip": null,
            "_model_module": "@jupyter-widgets/controls",
            "layout": "IPY_MODEL_b092f248b049414fa36ccc12e65eaac1"
          }
        },
        "42cb839b2de14035aad75591e68958c8": {
          "model_module": "@jupyter-widgets/controls",
          "model_name": "HTMLModel",
          "model_module_version": "1.5.0",
          "state": {
            "_view_name": "HTMLView",
            "style": "IPY_MODEL_6f4d0b096a004baba387d2f215c481bb",
            "_dom_classes": [],
            "description": "",
            "_model_name": "HTMLModel",
            "placeholder": "​",
            "_view_module": "@jupyter-widgets/controls",
            "_model_module_version": "1.5.0",
            "value": " 1.32M/1.32M [00:01&lt;00:00, 1.21MB/s]",
            "_view_count": null,
            "_view_module_version": "1.5.0",
            "description_tooltip": null,
            "_model_module": "@jupyter-widgets/controls",
            "layout": "IPY_MODEL_428527dbf74b43aa912c7379511d34a1"
          }
        },
        "07594f86d6ba44e98e16e38fce60cd58": {
          "model_module": "@jupyter-widgets/controls",
          "model_name": "DescriptionStyleModel",
          "model_module_version": "1.5.0",
          "state": {
            "_view_name": "StyleView",
            "_model_name": "DescriptionStyleModel",
            "description_width": "",
            "_view_module": "@jupyter-widgets/base",
            "_model_module_version": "1.5.0",
            "_view_count": null,
            "_view_module_version": "1.2.0",
            "_model_module": "@jupyter-widgets/controls"
          }
        },
        "24c57cf605194950adf095641e5c4e43": {
          "model_module": "@jupyter-widgets/base",
          "model_name": "LayoutModel",
          "model_module_version": "1.2.0",
          "state": {
            "_view_name": "LayoutView",
            "grid_template_rows": null,
            "right": null,
            "justify_content": null,
            "_view_module": "@jupyter-widgets/base",
            "overflow": null,
            "_model_module_version": "1.2.0",
            "_view_count": null,
            "flex_flow": null,
            "width": null,
            "min_width": null,
            "border": null,
            "align_items": null,
            "bottom": null,
            "_model_module": "@jupyter-widgets/base",
            "top": null,
            "grid_column": null,
            "overflow_y": null,
            "overflow_x": null,
            "grid_auto_flow": null,
            "grid_area": null,
            "grid_template_columns": null,
            "flex": null,
            "_model_name": "LayoutModel",
            "justify_items": null,
            "grid_row": null,
            "max_height": null,
            "align_content": null,
            "visibility": null,
            "align_self": null,
            "height": null,
            "min_height": null,
            "padding": null,
            "grid_auto_rows": null,
            "grid_gap": null,
            "max_width": null,
            "order": null,
            "_view_module_version": "1.2.0",
            "grid_template_areas": null,
            "object_position": null,
            "object_fit": null,
            "grid_auto_columns": null,
            "margin": null,
            "display": null,
            "left": null
          }
        },
        "fb0023e071b3434d92af03bfcef0e54d": {
          "model_module": "@jupyter-widgets/controls",
          "model_name": "ProgressStyleModel",
          "model_module_version": "1.5.0",
          "state": {
            "_view_name": "StyleView",
            "_model_name": "ProgressStyleModel",
            "description_width": "",
            "_view_module": "@jupyter-widgets/base",
            "_model_module_version": "1.5.0",
            "_view_count": null,
            "_view_module_version": "1.2.0",
            "bar_color": null,
            "_model_module": "@jupyter-widgets/controls"
          }
        },
        "b092f248b049414fa36ccc12e65eaac1": {
          "model_module": "@jupyter-widgets/base",
          "model_name": "LayoutModel",
          "model_module_version": "1.2.0",
          "state": {
            "_view_name": "LayoutView",
            "grid_template_rows": null,
            "right": null,
            "justify_content": null,
            "_view_module": "@jupyter-widgets/base",
            "overflow": null,
            "_model_module_version": "1.2.0",
            "_view_count": null,
            "flex_flow": null,
            "width": null,
            "min_width": null,
            "border": null,
            "align_items": null,
            "bottom": null,
            "_model_module": "@jupyter-widgets/base",
            "top": null,
            "grid_column": null,
            "overflow_y": null,
            "overflow_x": null,
            "grid_auto_flow": null,
            "grid_area": null,
            "grid_template_columns": null,
            "flex": null,
            "_model_name": "LayoutModel",
            "justify_items": null,
            "grid_row": null,
            "max_height": null,
            "align_content": null,
            "visibility": null,
            "align_self": null,
            "height": null,
            "min_height": null,
            "padding": null,
            "grid_auto_rows": null,
            "grid_gap": null,
            "max_width": null,
            "order": null,
            "_view_module_version": "1.2.0",
            "grid_template_areas": null,
            "object_position": null,
            "object_fit": null,
            "grid_auto_columns": null,
            "margin": null,
            "display": null,
            "left": null
          }
        },
        "6f4d0b096a004baba387d2f215c481bb": {
          "model_module": "@jupyter-widgets/controls",
          "model_name": "DescriptionStyleModel",
          "model_module_version": "1.5.0",
          "state": {
            "_view_name": "StyleView",
            "_model_name": "DescriptionStyleModel",
            "description_width": "",
            "_view_module": "@jupyter-widgets/base",
            "_model_module_version": "1.5.0",
            "_view_count": null,
            "_view_module_version": "1.2.0",
            "_model_module": "@jupyter-widgets/controls"
          }
        },
        "428527dbf74b43aa912c7379511d34a1": {
          "model_module": "@jupyter-widgets/base",
          "model_name": "LayoutModel",
          "model_module_version": "1.2.0",
          "state": {
            "_view_name": "LayoutView",
            "grid_template_rows": null,
            "right": null,
            "justify_content": null,
            "_view_module": "@jupyter-widgets/base",
            "overflow": null,
            "_model_module_version": "1.2.0",
            "_view_count": null,
            "flex_flow": null,
            "width": null,
            "min_width": null,
            "border": null,
            "align_items": null,
            "bottom": null,
            "_model_module": "@jupyter-widgets/base",
            "top": null,
            "grid_column": null,
            "overflow_y": null,
            "overflow_x": null,
            "grid_auto_flow": null,
            "grid_area": null,
            "grid_template_columns": null,
            "flex": null,
            "_model_name": "LayoutModel",
            "justify_items": null,
            "grid_row": null,
            "max_height": null,
            "align_content": null,
            "visibility": null,
            "align_self": null,
            "height": null,
            "min_height": null,
            "padding": null,
            "grid_auto_rows": null,
            "grid_gap": null,
            "max_width": null,
            "order": null,
            "_view_module_version": "1.2.0",
            "grid_template_areas": null,
            "object_position": null,
            "object_fit": null,
            "grid_auto_columns": null,
            "margin": null,
            "display": null,
            "left": null
          }
        }
      }
    }
  },
  "cells": [
    {
      "cell_type": "markdown",
      "metadata": {
        "id": "view-in-github",
        "colab_type": "text"
      },
      "source": [
        "<a href=\"https://colab.research.google.com/github/ddesai-sjsu/Machine-Learning/blob/main/Topic_Modelling.ipynb\" target=\"_parent\"><img src=\"https://colab.research.google.com/assets/colab-badge.svg\" alt=\"Open In Colab\"/></a>"
      ]
    },
    {
      "cell_type": "markdown",
      "metadata": {
        "id": "Pf7ZDDfP8qf2"
      },
      "source": [
        "# Homework Week 9a"
      ]
    },
    {
      "cell_type": "markdown",
      "metadata": {
        "id": "32R6TXcn9A2O"
      },
      "source": [
        "### **Part 1: Summarization and Topics Modeling of Articles**"
      ]
    },
    {
      "cell_type": "code",
      "metadata": {
        "id": "amzgJXs-Yda4"
      },
      "source": [
        "page1='https://apnews.com/article/coronavirus-pandemic-vaccines-natural-immunity-285ae319be9c3ea42dd7bb8400ea4888'\n",
        "page2='https://apnews.com/article/coronavirus-pandemic-joe-biden-business-health-religion-eadf501664c90e87c9949d6a3adecc0f'\n",
        "page3='https://apnews.com/article/how-covid-shots-for-kids-prevent-variants-0dd394ddd053e0efb3f3137dba2ad470'\n",
        "page4='https://apnews.com/article/how-covid-shots-for-kids-prevent-variants-0dd394ddd053e0efb3f3137dba2ad470'\n",
        "page5='https://apnews.com/article/europe-protests-virus-restrictions-netherlands-austria-italy-bea60fffc55590d0b956752274ddfb88'\n",
        "page6='https://apnews.com/e8ebd8f11256ab99b1aef9b058679cd1'\n",
        "page7='https://apnews.com/article/coronavirus-pandemic-business-health-japan-tokyo-7257970ada15e0940b404be8b7a7eb81'\n",
        "page8='https://apnews.com/article/coronavirus-pandemic-health-vancouver-washington-e544622bc8e602fbe2d3d6ac63d60034'\n",
        "page9='https://apnews.com/article/europe-coronavirus-vaccinated-vs-unvaccinated-eca483dc933075818334c74de26fb9c0'\n",
        "page10='https://apnews.com/article/coronavirus-pandemic-health-business-brussels-europe-8b2fb4eb4992b54cd544fc8fa5e19f26'\n",
        "\n",
        "\n",
        "\n",
        "output_file1 = 'output_file1' \n",
        "output_file2 = 'output_file2' \n",
        "output_file3 = 'output_file3' \n",
        "output_file4 = 'output_file4' \n",
        "output_file5 = 'output_file5' \n",
        "output_file6 = 'output_file6'\n",
        "output_file7 = 'output_file7'\n",
        "output_file8 = 'output_file8'\n",
        "output_file9 = 'output_file9'\n",
        "output_file10= 'output_file10'\n",
        "\n",
        "pages = [page1,page2,page3,page4,page5,page6,page7,page8,page9,page10]\n",
        "output_files =[output_file1,output_file2,output_file3,output_file4,output_file5,output_file6,output_file7,output_file8,output_file9,output_file10]\n",
        "\n",
        "from bs4 import BeautifulSoup\n",
        "from bs4.element import Comment\n",
        "import urllib.request\n",
        "import nltk"
      ],
      "execution_count": 1,
      "outputs": []
    },
    {
      "cell_type": "code",
      "metadata": {
        "colab": {
          "base_uri": "https://localhost:8080/"
        },
        "id": "yWX3UiJyYehb",
        "outputId": "6d9326ce-b1b5-44c8-f556-214180a63ae0"
      },
      "source": [
        "nltk.download('punkt')\n",
        "\n",
        "\n",
        "def tag_visible(element):\n",
        "    if element.parent.name in ['style', 'script', 'head', 'title', 'meta', '[document]']:\n",
        "        return False\n",
        "    if isinstance(element, Comment):\n",
        "        return False\n",
        "    return True\n",
        "\n",
        "\n",
        "def text_from_html(body):\n",
        "    soup = BeautifulSoup(body, 'html.parser')\n",
        "    texts = soup.findAll(text=True)\n",
        "    visible_texts = filter(tag_visible, texts)  \n",
        "    return u\" \".join(t.strip() for t in visible_texts)\n"
      ],
      "execution_count": 2,
      "outputs": [
        {
          "output_type": "stream",
          "name": "stdout",
          "text": [
            "[nltk_data] Downloading package punkt to /root/nltk_data...\n",
            "[nltk_data]   Unzipping tokenizers/punkt.zip.\n"
          ]
        }
      ]
    },
    {
      "cell_type": "code",
      "metadata": {
        "colab": {
          "base_uri": "https://localhost:8080/"
        },
        "id": "8AgIL9JlcyJr",
        "outputId": "f126713a-fd71-4e8f-9e9d-97a2fedf84e0"
      },
      "source": [
        "for x in range(len(pages)):\n",
        "\n",
        "    html = urllib.request.urlopen(pages[x]).read()\n",
        "    page_text =text_from_html(html)\n",
        "\n",
        "    my_list = nltk.tokenize.sent_tokenize(page_text) #Split into list of sentences.\n",
        "    print(my_list)\n",
        "    textfile = open(output_files[x], \"w\")\n",
        "\n",
        "    for element in my_list:\n",
        "        textfile.write(element + \"\\n\")\n",
        "    textfile.close()\n",
        "\n",
        "    print(page_text)"
      ],
      "execution_count": 3,
      "outputs": [
        {
          "output_type": "stream",
          "name": "stdout",
          "text": [
            "['AP NEWS Sections U.S. News World News Politics Sports Entertainment Oddities Lifestyle Health Science Business Technology Photography Religion Travel Press Releases Science Technology Business U.S. News World News Politics Entertainment Sports Oddities Lifestyle Health Photography Videos AP RADIO Update hourly Sections U.S. News World News Politics Sports Entertainment Oddities Lifestyle Health Science Business Technology Photography Religion Travel Press Releases Trending News Climate Coronavirus pandemic Kyle Rittenhouse Ahmaud Arbery AP Top 25 College Football Poll Search ADVERTISEMENT https://apnews.com/article/coronavirus-pandemic-vaccines-natural-immunity-285ae319be9c3ea42dd7bb8400ea4888 Click to copy https://apnews.com/article/coronavirus-pandemic-vaccines-natural-immunity-285ae319be9c3ea42dd7bb8400ea4888 Click to copy Related topics Coronavirus pandemic Joe Biden Business Health Florida Coronavirus vaccine Lawsuits GOP embraces natural immunity as substitute for vaccines By ANTHONY IZAGUIRRE November 21, 2021 GMT 1 of 2 Florida Gov.', 'Ron DeSantis speaks to supporters and members of the media before a bill signing Thursday, Nov. 18, 2021, in Brandon, Fla. DeSantis signed a bill that protects employees and their families from coronavirus vaccine and mask mandates.', \"(AP Photo/Chris O'Meara) 1 of 2 Florida Gov.\", 'Ron DeSantis speaks to supporters and members of the media before a bill signing Thursday, Nov. 18, 2021, in Brandon, Fla. DeSantis signed a bill that protects employees and their families from coronavirus vaccine and mask mandates.', \"(AP Photo/Chris O'Meara) TALLAHASSEE, Fla. (AP) — Republicans fighting President Joe Biden’s coronavirus vaccine mandates are wielding a new weapon against the White House rules: natural immunity.\", 'They contend that people who have recovered from the virus have enough immunity and antibodies to not need COVID-19 vaccines, and the concept has been invoked by Republicans as a sort of stand-in for vaccines.', 'Florida wrote natural immunity into state law this week as GOP lawmakers elsewhere are pushing similar measures to sidestep vaccine mandates.', 'Lawsuits over the mandates have also begun leaning on the idea.', 'Conservative federal lawmakers have implored regulators to consider it when formulating mandates.', 'Scientists acknowledge that people previously infected with COVID-19 have some level of immunity but that vaccines offer a more consistent level of protection.', 'Natural immunity is also far from a one-size-fits-all scenario, making it complicated to enact sweeping exemptions to vaccines.', 'ADVERTISEMENT That’s because how much immunity COVID-19 survivors have depends on how long ago they were infected, how sick they were, and if the virus variant they had is different from mutants circulating now.', 'For example, a person who had a minor case one year ago is much different than a person who had a severe case over the summer when the delta variant was raging through the country.', 'It’s also difficult to reliably test whether someone is protected from future infections.', \"More on the pandemic Kansas to help workers resist Biden's COVID vaccine mandates Kansas GOP lawmakers OK helping workers defy COVID mandates Bidens open holidays with Christmas tree and 'friendsgiving' Hong Kong to allow residents of mainland to vote in election The Centers for Disease Control and Prevention reported in August that COVID-19 survivors who ignored advice to get vaccinated were more than twice as likely to get infected again.\", 'A more recent study from the CDC, looking at data from nearly 190 hospitals in nine states, determined that unvaccinated people who had been infected months earlier were five times more likely to get COVID-19 than fully vaccinated people who didn’t have a prior infection.', '“Infection with this virus, if you survive, you do have some level of protection against getting infected in the future and particularly against getting serious infection in the future,” said Dr. David Dowdy of Johns Hopkins Bloomberg School of Public Health.', '“It’s important to note though that even those who have been infected in the past get additional protection from being vaccinated.” ADVERTISEMENT Studies also show that COVID-19 survivors who get vaccinated develop extra-strong protection, what’s called “hybrid immunity.” When previously infected person gets a coronavirus vaccine, the shot acts like a booster and revs virus-fighting antibodies to high levels.', 'The combination also strengthens another defensive layer of the immune system, helping create new antibodies that are more likely to withstand future variants.', 'The immunity debate comes as the country is experiencing another surge in infections and hospitalizations and 60 million people remain unvaccinated in a pandemic that has killed more than 770,000 Americans.', 'Biden is hoping more people will get vaccinated because of workplace mandates set to take effect early next year but which face many challenges in the courts.', 'And many Republicans eager to buck Biden have embraced the argument that immunity from earlier infections should be enough to earn an exemption from the mandates.', '“We recognize, unlike what you see going on with the federal proposed mandates and other states, we’re actually doing a science-based approach.', 'For example, we recognize people that have natural immunity,” Florida Gov.', 'Ron DeSantis, a Republican who has been a chief critic of virus rules, said at a signing ceremony for sweeping legislation to hobble vaccine mandates this week.', 'The new Florida law forces private businesses to let workers opt out of COVID-19 mandates if they can prove immunity through a prior infection, as well as exemptions based on medical reasons, religious beliefs, regular testing or an agreement to wear protective gear.', 'The state health department, which is led by Surgeon General Dr. Joseph Ladapo , who opposes mandates and has drawn national attention over a refusal to wear a face mask during a meeting , will have authority to define exemption standards.', 'The Republican-led New Hampshire Legislature plans to take up a similar measure when it meets in January.', 'Lawmakers in Idaho and Wyoming, both statehouses under GOP-control, recently debated similar measures but did not pass them.', 'In Utah, a newly signed law creating exemptions from Biden’s vaccine mandates for private employers allows people to duck the requirement if they have already had COVID.', 'And the debate is not unique to the U.S. Russia has seen huge numbers of people seeking out antibody tests to prove they had an earlier infection and therefore don’t need vaccines.', 'Some politicians use the science behind natural immunity to advance narratives suggesting vaccines aren’t the best way to end the pandemic.', '“The shot is not by any means the only or proven way out of the pandemic.', 'I’m not willing to give blind faith to the pharmaceutical narrative,” said Idaho Republican Rep. Greg Ferch.', 'U.S. Sen. Roger Marshall , a Kansas Republican and physician, along with 14 other GOP doctors, dentists and pharmacists in Congress, sent a letter in late September to the Centers for Disease Control and Prevention, urging the agency, when setting vaccination policies, to consider natural immunity.', 'The White House has recently unveiled a host of vaccine mandates, sparking a flurry of lawsuits from GOP states, setting the stage for pitched legal battles.', 'Among the rules are vaccine requirements for federal contractors, businesses with more than 100 employees and health care workers.', 'In separate lawsuits, others are challenging local vaccine rules using an immunity defense.', 'A 19-year-old student who refuses to be tested but claims he contracted and quickly recovered from COVID-19 is suing the University of Nevada, Reno, the governor and others over the state’s requirement that everyone, with few exceptions, show proof of vaccination in order to register for classes in the upcoming spring semester.', 'The case alleges that “COVID-19 vaccination mandates are an unconstitutional intrusion on normal immunity and bodily integrity.” Another case, filed by workers of Los Alamos National Laboratory , challenges their workplace vaccine mandate for civil rights and constitutional violations, arguing the lab has refused requests for medical accommodations for those workers who have fully recovered from COVID-19.', 'A similar lawsuit from Chicago firefighters and other city employees hit a bump last month when a judge said their case lacked scientific evidence to support the contention that the natural immunity for people who have had the virus is superior to the protection from the vaccine.', '___ Associated Press Medical Writer Lauran Neergaard contributed to this report.', 'AP NEWS Top Stories Video Contact Us Cookie Settings Download AP NEWS Connect with the definitive source for global and local news More from AP ap.org AP Insights AP Definitive Source Blog AP Images Spotlight AP Explore AP Books Follow AP The Associated Press About Contact Customer Support Careers Terms & Conditions Privacy All contents © copyright 2021 The Associated Press.', 'All rights reserved.']\n",
            "AP NEWS Sections U.S. News World News Politics Sports Entertainment Oddities Lifestyle Health Science Business Technology Photography Religion Travel Press Releases Science Technology Business U.S. News World News Politics Entertainment Sports Oddities Lifestyle Health Photography Videos AP RADIO Update hourly Sections U.S. News World News Politics Sports Entertainment Oddities Lifestyle Health Science Business Technology Photography Religion Travel Press Releases Trending News Climate Coronavirus pandemic Kyle Rittenhouse Ahmaud Arbery AP Top 25 College Football Poll Search ADVERTISEMENT https://apnews.com/article/coronavirus-pandemic-vaccines-natural-immunity-285ae319be9c3ea42dd7bb8400ea4888 Click to copy https://apnews.com/article/coronavirus-pandemic-vaccines-natural-immunity-285ae319be9c3ea42dd7bb8400ea4888 Click to copy Related topics Coronavirus pandemic Joe Biden Business Health Florida Coronavirus vaccine Lawsuits GOP embraces natural immunity as substitute for vaccines By ANTHONY IZAGUIRRE November 21, 2021 GMT 1 of 2 Florida Gov. Ron DeSantis speaks to supporters and members of the media before a bill signing Thursday, Nov. 18, 2021, in Brandon, Fla. DeSantis signed a bill that protects employees and their families from coronavirus vaccine and mask mandates. (AP Photo/Chris O'Meara) 1 of 2 Florida Gov. Ron DeSantis speaks to supporters and members of the media before a bill signing Thursday, Nov. 18, 2021, in Brandon, Fla. DeSantis signed a bill that protects employees and their families from coronavirus vaccine and mask mandates. (AP Photo/Chris O'Meara) TALLAHASSEE, Fla. (AP) — Republicans fighting President Joe Biden’s coronavirus vaccine mandates are wielding a new weapon against the White House rules: natural immunity. They contend that people who have recovered from the virus have enough immunity and antibodies to not need COVID-19 vaccines, and the concept has been invoked by Republicans as a sort of stand-in for vaccines. Florida wrote natural immunity into state law this week as GOP lawmakers elsewhere are pushing similar measures to sidestep vaccine mandates. Lawsuits over the mandates have also begun leaning on the idea. Conservative federal lawmakers have implored regulators to consider it when formulating mandates. Scientists acknowledge that people previously infected with COVID-19 have some level of immunity but that vaccines offer a more consistent level of protection. Natural immunity is also far from a one-size-fits-all scenario, making it complicated to enact sweeping exemptions to vaccines. ADVERTISEMENT That’s because how much immunity COVID-19 survivors have depends on how long ago they were infected, how sick they were, and if the virus variant they had is different from mutants circulating now. For example, a person who had a minor case one year ago is much different than a person who had a severe case over the summer when the delta variant was raging through the country. It’s also difficult to reliably test whether someone is protected from future infections. More on the pandemic Kansas to help workers resist Biden's COVID vaccine mandates Kansas GOP lawmakers OK helping workers defy COVID mandates Bidens open holidays with Christmas tree and 'friendsgiving' Hong Kong to allow residents of mainland to vote in election The Centers for Disease Control and Prevention reported in August that COVID-19 survivors who ignored advice to get vaccinated were more than twice as likely to get infected again. A more recent study from the CDC, looking at data from nearly 190 hospitals in nine states, determined that unvaccinated people who had been infected months earlier were five times more likely to get COVID-19 than fully vaccinated people who didn’t have a prior infection. “Infection with this virus, if you survive, you do have some level of protection against getting infected in the future and particularly against getting serious infection in the future,” said Dr. David Dowdy of Johns Hopkins Bloomberg School of Public Health. “It’s important to note though that even those who have been infected in the past get additional protection from being vaccinated.” ADVERTISEMENT Studies also show that COVID-19 survivors who get vaccinated develop extra-strong protection, what’s called “hybrid immunity.” When previously infected person gets a coronavirus vaccine, the shot acts like a booster and revs virus-fighting antibodies to high levels. The combination also strengthens another defensive layer of the immune system, helping create new antibodies that are more likely to withstand future variants. The immunity debate comes as the country is experiencing another surge in infections and hospitalizations and 60 million people remain unvaccinated in a pandemic that has killed more than 770,000 Americans. Biden is hoping more people will get vaccinated because of workplace mandates set to take effect early next year but which face many challenges in the courts. And many Republicans eager to buck Biden have embraced the argument that immunity from earlier infections should be enough to earn an exemption from the mandates. “We recognize, unlike what you see going on with the federal proposed mandates and other states, we’re actually doing a science-based approach. For example, we recognize people that have natural immunity,” Florida Gov. Ron DeSantis, a Republican who has been a chief critic of virus rules, said at a signing ceremony for sweeping legislation to hobble vaccine mandates this week. The new Florida law forces private businesses to let workers opt out of COVID-19 mandates if they can prove immunity through a prior infection, as well as exemptions based on medical reasons, religious beliefs, regular testing or an agreement to wear protective gear. The state health department, which is led by Surgeon General Dr. Joseph Ladapo , who opposes mandates and has drawn national attention over a refusal to wear a face mask during a meeting , will have authority to define exemption standards. The Republican-led New Hampshire Legislature plans to take up a similar measure when it meets in January. Lawmakers in Idaho and Wyoming, both statehouses under GOP-control, recently debated similar measures but did not pass them. In Utah, a newly signed law creating exemptions from Biden’s vaccine mandates for private employers allows people to duck the requirement if they have already had COVID. And the debate is not unique to the U.S. Russia has seen huge numbers of people seeking out antibody tests to prove they had an earlier infection and therefore don’t need vaccines. Some politicians use the science behind natural immunity to advance narratives suggesting vaccines aren’t the best way to end the pandemic. “The shot is not by any means the only or proven way out of the pandemic. I’m not willing to give blind faith to the pharmaceutical narrative,” said Idaho Republican Rep. Greg Ferch.  U.S. Sen. Roger Marshall , a Kansas Republican and physician, along with 14 other GOP doctors, dentists and pharmacists in Congress, sent a letter in late September to the Centers for Disease Control and Prevention, urging the agency, when setting vaccination policies, to consider natural immunity. The White House has recently unveiled a host of vaccine mandates, sparking a flurry of lawsuits from GOP states, setting the stage for pitched legal battles. Among the rules are vaccine requirements for federal contractors, businesses with more than 100 employees and health care workers. In separate lawsuits, others are challenging local vaccine rules using an immunity defense. A 19-year-old student who refuses to be tested but claims he contracted and quickly recovered from COVID-19 is suing the University of Nevada, Reno, the governor and others over the state’s requirement that everyone, with few exceptions, show proof of vaccination in order to register for classes in the upcoming spring semester. The case alleges that “COVID-19 vaccination mandates are an unconstitutional intrusion on normal immunity and bodily integrity.” Another case, filed by workers of Los Alamos National Laboratory , challenges their workplace vaccine mandate for civil rights and constitutional violations, arguing the lab has refused requests for medical accommodations for those workers who have fully recovered from COVID-19. A similar lawsuit from Chicago firefighters and other city employees hit a bump last month when a judge said their case lacked scientific evidence to support the contention that the natural immunity for people who have had the virus is superior to the protection from the vaccine. ___ Associated Press Medical Writer Lauran Neergaard contributed to this report. AP NEWS Top Stories Video Contact Us Cookie Settings Download AP NEWS Connect with the definitive source for global and local news More from AP ap.org AP Insights AP Definitive Source Blog AP Images Spotlight AP Explore AP Books Follow AP The Associated Press About Contact Customer Support Careers Terms & Conditions Privacy All contents © copyright 2021 The Associated Press. All rights reserved.       \n",
            "['AP NEWS Sections U.S. News World News Politics Sports Entertainment Oddities Lifestyle Health Science Business Technology Photography Religion Travel Press Releases Science Technology Business U.S. News World News Politics Entertainment Sports Oddities Lifestyle Health Photography Videos AP RADIO Update hourly Sections U.S. News World News Politics Sports Entertainment Oddities Lifestyle Health Science Business Technology Photography Religion Travel Press Releases Trending News Climate Coronavirus pandemic Kyle Rittenhouse Ahmaud Arbery AP Top 25 College Football Poll Search ADVERTISEMENT https://apnews.com/article/coronavirus-pandemic-joe-biden-business-health-religion-eadf501664c90e87c9949d6a3adecc0f Click to copy https://apnews.com/article/coronavirus-pandemic-joe-biden-business-health-religion-eadf501664c90e87c9949d6a3adecc0f Click to copy Related topics Coronavirus pandemic Joe Biden Business Health Topeka Religion Legislature Kansas Kansas GOP lawmakers OK helping workers defy COVID mandates By JOHN HANNA and ANDY TSUBASA FIELD November 23, 2021 GMT 1 of 9 Kansas Senate President Ty Masterson, R-Andover, follows negotiations between the Senate and House over legislation aimed at financially protecting workers who refuse to comply with federal COVID-19 vaccine mandates, Monday, Nov. 22, 2021, at the Statehouse in Topeka, Kan. GOP lawmakers are pushing proposals aimed at making it easier for workers to claim religious exemptions from mandates and providing unemployment benefits if workers lose their jobs for refusing to get the shots.', '(AP Photo/John Hanna) 1 of 9 Kansas Senate President Ty Masterson, R-Andover, follows negotiations between the Senate and House over legislation aimed at financially protecting workers who refuse to comply with federal COVID-19 vaccine mandates, Monday, Nov. 22, 2021, at the Statehouse in Topeka, Kan. GOP lawmakers are pushing proposals aimed at making it easier for workers to claim religious exemptions from mandates and providing unemployment benefits if workers lose their jobs for refusing to get the shots.', '(AP Photo/John Hanna) TOPEKA, Kan. (AP) — Republican lawmakers in Kansas approved a measure Monday night to make it easy for workers to claim religious exemptions from COVID-19 vaccine mandates and provide unemployment benefits to people fired for refusing the shots.', 'Gov.', 'Laura Kelly said she would sign the bill, angering some fellow Democrats in the GOP-controlled Legislature.', 'Most Democratic lawmakers opposed it, arguing that it was a symbolic measure that won’t provide any real protections for workers who refuse to get vaccinated in the face of federal mandates imposed by President Joe Biden.', 'The bill would require employers to grant a religious exemption to COVID-19 vaccine mandates for any worker who seeks one in writing, without second-guessing that employee.', 'Republican leaders initially were divided over whether it was necessary to also promise fired workers unemployment, but House leaders who’d resisted came around during negotiations with the Senate.', 'ADVERTISEMENT The votes were 24-11 in the Senate and 77-34 in the House.', 'Republican legislators had forced Kelly to call the one-day special session to consider ways for Kansas to push back against Biden’s mandates.', 'The full Legislature had been out of session since May and wasn’t set to reconvene until January, but many GOP lawmakers believed that vaccine-refusing workers couldn’t wait for help until then.', '“Many of us here tonight wanted a lot more, but this is a victory for liberty and the patriots standing tall across Kansas,” said Sen. Mike Thompson, a conservative Republican from the Kansas City suburb of Shawnee.', 'During negotiations between Monday evening between the House and Senate, GOP senators dropped a proposal from conservatives in their chamber to prohibit private employers from imposing their own vaccine requirements, whether or not Biden’s mandates survive the federal lawsuits challenging them.', 'Attorney General Derek Schmidt, a Republican seeking to oust Kelly in next year’s governor’s race, has brought Kansas into three multi-state lawsuits.', '“We have to stay focused on the priority, which is protecting those people right now that could be losing their jobs,” said Senate President Ty Masterson, an Andover Republican and one of the negotiators.', 'Republicans hold supermajorities in both chambers, but a few GOP lawmakers joined most Democrats in voting against the measure.', 'Rep. Vic Miller, a Topeka Democrat who was among the negotiators, called it a “sham” that will mislead vaccine-resistant workers who want some protection from Biden’s policies.', 'ADVERTISEMENT “The courts are going to take care of the mandates, I expect,” Miller said.', '“If the mandates are found to be legal, I expect that these actions will be found to be illegal.” Kansas’ special legislative session comes as Republican governors, state attorneys general and lawmakers are pursuing ways to push back against the Biden mandates.', 'Iowa enacted a law last month extending unemployment benefits to workers who refuse to get vaccinated, and provisions in the Kansas legislation were inspired by measures enacted last week in Florida.', 'One question is whether such state laws can be enforced because federal law is supreme.', 'Supporters argued that the Kansas measure would stand because it wouldn’t conflict with Biden’s mandates, which allow for religious exemptions.', 'But some business owners and the Kansas Chamber of Commerce, often influential with Republicans, were skeptical.', 'They worried that businesses would be caught between conflicting state and federal mandates.', '“You’re going to make a wrong decision, no matter what,” said Alan Rupe, a Wichita attorney who represents companies in employment law cases.', 'The Kansas chamber also opposed provisions that said if employers don’t grant a religious exemption to workers who ask for them, they could be fined up to $50,000 per violation.', '“What business owner wants to raise their hand in the air and say, ‘Fine me’?” said Eric Stafford, a chamber lobbyist.', 'Meanwhile, Republicans faced pressure from anti-mandate activists to prohibit mandates from private employers.', 'However, the House did not consider the idea, and Masterson said it could get a full vetting starting in January.', 'Evon Smith, a registered nurse who left her job in Topeka in October because she didn’t think she would get a religious exemption, said it’s important to hold employers accountable.', 'She was at the Statehouse on Monday.', '“I should be able to state that I don’t want this shot because of God,” she said.', '“That should be the end of it.” The measure says religious exemptions would cover beliefs that aren’t tied to a belief in God but simply a strong moral objection.', 'Critics predicted abuses.', 'Rabbi Moti Rieber, the executive director of Kansas Interfaith Action, said the policy would allow people with political objections to falsely claim religious ones.', '“Opposition to the public health is the religion,” he said.', '“Trumpism is the religion.” ___ Andy Tsubasa Field is a corps member for the Associated Press/Report for America Statehouse News Initiative.', 'Report for America is a nonprofit national service program that places journalists in local newsrooms to report on undercovered issues.', '___ On Twitter, follow John Hanna at https://twitter.com/apjdhanna and Andy Tsubasa Field at https://twitter.com/AndyTsubasaF AP NEWS Top Stories Video Contact Us Cookie Settings Download AP NEWS Connect with the definitive source for global and local news More from AP ap.org AP Insights AP Definitive Source Blog AP Images Spotlight AP Explore AP Books Follow AP The Associated Press About Contact Customer Support Careers Terms & Conditions Privacy All contents © copyright 2021 The Associated Press.', 'All rights reserved.']\n",
            "AP NEWS Sections U.S. News World News Politics Sports Entertainment Oddities Lifestyle Health Science Business Technology Photography Religion Travel Press Releases Science Technology Business U.S. News World News Politics Entertainment Sports Oddities Lifestyle Health Photography Videos AP RADIO Update hourly Sections U.S. News World News Politics Sports Entertainment Oddities Lifestyle Health Science Business Technology Photography Religion Travel Press Releases Trending News Climate Coronavirus pandemic Kyle Rittenhouse Ahmaud Arbery AP Top 25 College Football Poll Search ADVERTISEMENT https://apnews.com/article/coronavirus-pandemic-joe-biden-business-health-religion-eadf501664c90e87c9949d6a3adecc0f Click to copy https://apnews.com/article/coronavirus-pandemic-joe-biden-business-health-religion-eadf501664c90e87c9949d6a3adecc0f Click to copy Related topics Coronavirus pandemic Joe Biden Business Health Topeka Religion Legislature Kansas Kansas GOP lawmakers OK helping workers defy COVID mandates By JOHN HANNA and ANDY TSUBASA FIELD November 23, 2021 GMT 1 of 9 Kansas Senate President Ty Masterson, R-Andover, follows negotiations between the Senate and House over legislation aimed at financially protecting workers who refuse to comply with federal COVID-19 vaccine mandates, Monday, Nov. 22, 2021, at the Statehouse in Topeka, Kan. GOP lawmakers are pushing proposals aimed at making it easier for workers to claim religious exemptions from mandates and providing unemployment benefits if workers lose their jobs for refusing to get the shots. (AP Photo/John Hanna) 1 of 9 Kansas Senate President Ty Masterson, R-Andover, follows negotiations between the Senate and House over legislation aimed at financially protecting workers who refuse to comply with federal COVID-19 vaccine mandates, Monday, Nov. 22, 2021, at the Statehouse in Topeka, Kan. GOP lawmakers are pushing proposals aimed at making it easier for workers to claim religious exemptions from mandates and providing unemployment benefits if workers lose their jobs for refusing to get the shots. (AP Photo/John Hanna) TOPEKA, Kan. (AP) — Republican lawmakers in Kansas approved a measure Monday night to make it easy for workers to claim religious exemptions from COVID-19 vaccine mandates and provide unemployment benefits to people fired for refusing the shots. Gov. Laura Kelly said she would sign the bill, angering some fellow Democrats in the GOP-controlled Legislature. Most Democratic lawmakers opposed it, arguing that it was a symbolic measure that won’t provide any real protections for workers who refuse to get vaccinated in the face of federal mandates imposed by President Joe Biden. The bill would require employers to grant a religious exemption to COVID-19 vaccine mandates for any worker who seeks one in writing, without second-guessing that employee. Republican leaders initially were divided over whether it was necessary to also promise fired workers unemployment, but House leaders who’d resisted came around during negotiations with the Senate. ADVERTISEMENT The votes were 24-11 in the Senate and 77-34 in the House. Republican legislators had forced Kelly to call the one-day special session to consider ways for Kansas to push back against Biden’s mandates. The full Legislature had been out of session since May and wasn’t set to reconvene until January, but many GOP lawmakers believed that vaccine-refusing workers couldn’t wait for help until then. “Many of us here tonight wanted a lot more, but this is a victory for liberty and the patriots standing tall across Kansas,” said Sen. Mike Thompson, a conservative Republican from the Kansas City suburb of Shawnee. During negotiations between Monday evening between the House and Senate, GOP senators dropped a proposal from conservatives in their chamber to prohibit private employers from imposing their own vaccine requirements, whether or not Biden’s mandates survive the federal lawsuits challenging them. Attorney General Derek Schmidt, a Republican seeking to oust Kelly in next year’s governor’s race, has brought Kansas into three multi-state lawsuits. “We have to stay focused on the priority, which is protecting those people right now that could be losing their jobs,” said Senate President Ty Masterson, an Andover Republican and one of the negotiators. Republicans hold supermajorities in both chambers, but a few GOP lawmakers joined most Democrats in voting against the measure. Rep. Vic Miller, a Topeka Democrat who was among the negotiators, called it a “sham” that will mislead vaccine-resistant workers who want some protection from Biden’s policies. ADVERTISEMENT “The courts are going to take care of the mandates, I expect,” Miller said. “If the mandates are found to be legal, I expect that these actions will be found to be illegal.” Kansas’ special legislative session comes as Republican governors, state attorneys general and lawmakers are pursuing ways to push back against the Biden mandates. Iowa enacted a law last month extending unemployment benefits to workers who refuse to get vaccinated, and provisions in the Kansas legislation were inspired by measures enacted last week in Florida. One question is whether such state laws can be enforced because federal law is supreme. Supporters argued that the Kansas measure would stand because it wouldn’t conflict with Biden’s mandates, which allow for religious exemptions. But some business owners and the Kansas Chamber of Commerce, often influential with Republicans, were skeptical. They worried that businesses would be caught between conflicting state and federal mandates. “You’re going to make a wrong decision, no matter what,” said Alan Rupe, a Wichita attorney who represents companies in employment law cases. The Kansas chamber also opposed provisions that said if employers don’t grant a religious exemption to workers who ask for them, they could be fined up to $50,000 per violation. “What business owner wants to raise their hand in the air and say, ‘Fine me’?” said Eric Stafford, a chamber lobbyist. Meanwhile, Republicans faced pressure from anti-mandate activists to prohibit mandates from private employers. However, the House did not consider the idea, and Masterson said it could get a full vetting starting in January. Evon Smith, a registered nurse who left her job in Topeka in October because she didn’t think she would get a religious exemption, said it’s important to hold employers accountable. She was at the Statehouse on Monday. “I should be able to state that I don’t want this shot because of God,” she said. “That should be the end of it.” The measure says religious exemptions would cover beliefs that aren’t tied to a belief in God but simply a strong moral objection. Critics predicted abuses. Rabbi Moti Rieber, the executive director of Kansas Interfaith Action, said the policy would allow people with political objections to falsely claim religious ones. “Opposition to the public health is the religion,” he said. “Trumpism is the religion.” ___ Andy Tsubasa Field is a corps member for the Associated Press/Report for America Statehouse News Initiative. Report for America is a nonprofit national service program that places journalists in local newsrooms to report on undercovered issues. ___ On Twitter, follow John Hanna at https://twitter.com/apjdhanna and Andy Tsubasa Field at https://twitter.com/AndyTsubasaF AP NEWS Top Stories Video Contact Us Cookie Settings Download AP NEWS Connect with the definitive source for global and local news More from AP ap.org AP Insights AP Definitive Source Blog AP Images Spotlight AP Explore AP Books Follow AP The Associated Press About Contact Customer Support Careers Terms & Conditions Privacy All contents © copyright 2021 The Associated Press. All rights reserved.      \n",
            "['AP NEWS Sections U.S. News World News Politics Sports Entertainment Oddities Lifestyle Health Science Business Technology Photography Religion Travel Press Releases Science Technology Business U.S. News World News Politics Entertainment Sports Oddities Lifestyle Health Photography Videos AP RADIO Update hourly Sections U.S. News World News Politics Sports Entertainment Oddities Lifestyle Health Science Business Technology Photography Religion Travel Press Releases Trending News Climate Coronavirus pandemic Kyle Rittenhouse Ahmaud Arbery AP Top 25 College Football Poll Search ADVERTISEMENT https://apnews.com/article/how-covid-shots-for-kids-prevent-variants-0dd394ddd053e0efb3f3137dba2ad470 Click to copy https://apnews.com/article/how-covid-shots-for-kids-prevent-variants-0dd394ddd053e0efb3f3137dba2ad470 Click to copy Related topics Coronavirus pandemic Science Health Kentucky Louisville How COVID shots for kids help prevent dangerous new variants By LAURA UNGAR November 22, 2021 GMT 1 of 2 Solome Walker, 9, looks down at her bandage after getting her first Pfizer COVID-19 shot at a vaccination clinic for young students at Ramsey Middle School on Saturday, Nov. 13, 2021 in Louisville, Ky. Scientists say vaccinating kids against COVID-19 should not only slow the spread of the coronavirus but also help prevent potentially-dangerous variants from emerging.', 'Each new infection brings another opportunity for the virus to mutate and evolve dangerous new traits.', '(AP Photo/Laura Ungar) 1 of 2 Solome Walker, 9, looks down at her bandage after getting her first Pfizer COVID-19 shot at a vaccination clinic for young students at Ramsey Middle School on Saturday, Nov. 13, 2021 in Louisville, Ky. Scientists say vaccinating kids against COVID-19 should not only slow the spread of the coronavirus but also help prevent potentially-dangerous variants from emerging.', 'Each new infection brings another opportunity for the virus to mutate and evolve dangerous new traits.', '(AP Photo/Laura Ungar) LOUISVILLE, Ky. (AP) — Cadell Walker rushed to get her 9-year-old daughter Solome vaccinated against COVID-19 — not just to protect her but to help stop the coronavirus from spreading and spawning even more dangerous variants.', '“Love thy neighbor is something that we really do believe, and we want to be good community members and want to model that thinking for our daughter,” said the 40-year-old Louisville mom, who recently took Solome to a local middle school for her shot.', '“The only way to really beat COVID is for all of us collectively to work together for the greater good.” Scientists agree.', 'Each infection — whether in an adult in Yemen or a kid in Kentucky — gives the virus another opportunity to mutate.', 'Protecting a new, large chunk of the population anywhere in the world limits those opportunities.', 'That effort got a lift with 28 million U.S. kids 5 to 11 years old now eligible for child-sized doses of the Pfizer-BioNTech vaccine.', 'Moves elsewhere, like Austria’s recent decision to require all adults to be vaccinated and even the U.S. authorizing booster shots for all adults on Friday , help by further reducing the chances of new infection.', 'ADVERTISEMENT Vaccinating kids also means reducing silent spread, since most have no or mild symptoms when they contract the virus.', 'When the virus spreads unseen, scientists say, it also goes unabated.', 'And as more people contract it, the odds of new variants rise.', \"More on the pandemic Kansas to help workers resist Biden's COVID vaccine mandates Kansas GOP lawmakers OK helping workers defy COVID mandates Bidens open holidays with Christmas tree and 'friendsgiving' Hong Kong to allow residents of mainland to vote in election David O’Connor, a virology expert at the University of Wisconsin-Madison, likens infections to “lottery tickets that we’re giving the virus.” The jackpot?\", 'A variant even more dangerous than the contagious delta currently circulating.', '“The fewer people who are infected, the less lottery tickets it has and the better off we’re all going to be in terms of generating the variants,” he said, adding that variants are even more likely to emerge in people with weakened immune systems who harbor the virus for a long time.', 'Researchers disagree on how much kids have influenced the course of the pandemic.', 'Early research suggested they didn’t contribute much to viral spread.', 'But some experts say children played a significant role this year spreading contagious variants such as alpha and delta.', 'ADVERTISEMENT Getting kids vaccinated could make a real difference going forward, according to estimates by the COVID-19 Scenario Modeling Hub, a collection of university and medical research organizations that consolidates models of how the pandemic may unfold.', 'The hub’s latest estimates show that for this November through March 12, 2022, vaccinating 5- to 11-year-olds would avert about 430,000 COVID cases in the overall U.S. population if no new variant arose.', 'If a variant 50% more transmissible than delta showed up in late fall, 860,000 cases would be averted, “a big impact,” said project co-leader Katriona Shea, of Pennsylvania State University.', 'Delta remains dominant for now, accounting for more than 99% of analyzed coronavirus specimens in the United States.', 'Scientists aren’t sure exactly why.', 'Dr. Stuart Campbell Ray, an infectious disease expert at Johns Hopkins University, said it may be intrinsically more infectious, or it may be evading at least in part the protection people get from vaccines or having been infected before.', '“It’s probably a combination of those things,” he said.', '“But there’s also very good and growing evidence that delta is simply more fit, meaning that it’s able to grow to higher levels faster than other variants that are studied.', 'So when people get delta, they become infectious sooner.” Ray said delta is “a big family” of viruses, and the world is now swimming in a sort of “delta soup.” “We have many lineages of delta that are circulating in many places with no clear winners,” Ray said, adding that it’s hard to know from genetic features which might have an edge, or which non-delta variants might dethrone delta.', '“I often say it’s like seeing a car parked on the side of the road with racing slicks and racing stripes and an airfoil on the back and a big engine,” Ray said.', '“You know it looks like it could be a real contender, but until you see it on the track with other cars, you don’t know if it’s going to win.” Another big unknown: Dangerous variants may still arise in largely-unvaccinated parts of the world and make their way to America even as U.S. children join the ranks of the vaccinated.', 'Walker, the Louisville mom, said she and her husband can’t do anything about distant threats, but could sign their daughter up for vaccination at Jefferson County Public Schools sites on a recent weekend.', 'Solome is adopted from Ethiopia and is prone to pneumonia following respiratory ailments after being exposed to tuberculosis as a baby.', 'Full Coverage:  Coronavirus pandemic She said she wants to keep other kids safe because “it’s not good to get sick.” As a nurse leaned in to give Solome her shot, Walker held her daughter’s hand, then praised her for picking out a post-jab sticker appropriate for a brave kid who just did her part to help curb a pandemic.', '“Wonder Woman,” Walker said.', '“Perfect.” ___ The Associated Press Health and Science Department receives support from the Howard Hughes Medical Institute’s Department of Science Education.', 'The AP is solely responsible for all content.', 'AP NEWS Top Stories Video Contact Us Cookie Settings Download AP NEWS Connect with the definitive source for global and local news More from AP ap.org AP Insights AP Definitive Source Blog AP Images Spotlight AP Explore AP Books Follow AP The Associated Press About Contact Customer Support Careers Terms & Conditions Privacy All contents © copyright 2021 The Associated Press.', 'All rights reserved.']\n",
            "AP NEWS Sections U.S. News World News Politics Sports Entertainment Oddities Lifestyle Health Science Business Technology Photography Religion Travel Press Releases Science Technology Business U.S. News World News Politics Entertainment Sports Oddities Lifestyle Health Photography Videos AP RADIO Update hourly Sections U.S. News World News Politics Sports Entertainment Oddities Lifestyle Health Science Business Technology Photography Religion Travel Press Releases Trending News Climate Coronavirus pandemic Kyle Rittenhouse Ahmaud Arbery AP Top 25 College Football Poll Search ADVERTISEMENT https://apnews.com/article/how-covid-shots-for-kids-prevent-variants-0dd394ddd053e0efb3f3137dba2ad470 Click to copy https://apnews.com/article/how-covid-shots-for-kids-prevent-variants-0dd394ddd053e0efb3f3137dba2ad470 Click to copy Related topics Coronavirus pandemic Science Health Kentucky Louisville How COVID shots for kids help prevent dangerous new variants By LAURA UNGAR November 22, 2021 GMT 1 of 2 Solome Walker, 9, looks down at her bandage after getting her first Pfizer COVID-19 shot at a vaccination clinic for young students at Ramsey Middle School on Saturday, Nov. 13, 2021 in Louisville, Ky. Scientists say vaccinating kids against COVID-19 should not only slow the spread of the coronavirus but also help prevent potentially-dangerous variants from emerging. Each new infection brings another opportunity for the virus to mutate and evolve dangerous new traits. (AP Photo/Laura Ungar) 1 of 2 Solome Walker, 9, looks down at her bandage after getting her first Pfizer COVID-19 shot at a vaccination clinic for young students at Ramsey Middle School on Saturday, Nov. 13, 2021 in Louisville, Ky. Scientists say vaccinating kids against COVID-19 should not only slow the spread of the coronavirus but also help prevent potentially-dangerous variants from emerging. Each new infection brings another opportunity for the virus to mutate and evolve dangerous new traits. (AP Photo/Laura Ungar) LOUISVILLE, Ky. (AP) — Cadell Walker rushed to get her 9-year-old daughter Solome vaccinated against COVID-19 — not just to protect her but to help stop the coronavirus from spreading and spawning even more dangerous variants. “Love thy neighbor is something that we really do believe, and we want to be good community members and want to model that thinking for our daughter,” said the 40-year-old Louisville mom, who recently took Solome to a local middle school for her shot. “The only way to really beat COVID is for all of us collectively to work together for the greater good.” Scientists agree. Each infection — whether in an adult in Yemen or a kid in Kentucky — gives the virus another opportunity to mutate. Protecting a new, large chunk of the population anywhere in the world limits those opportunities. That effort got a lift with 28 million U.S. kids 5 to 11 years old now eligible for child-sized doses of the Pfizer-BioNTech vaccine. Moves elsewhere, like Austria’s recent decision to require all adults to be vaccinated and even the U.S. authorizing booster shots for all adults on Friday , help by further reducing the chances of new infection. ADVERTISEMENT Vaccinating kids also means reducing silent spread, since most have no or mild symptoms when they contract the virus. When the virus spreads unseen, scientists say, it also goes unabated. And as more people contract it, the odds of new variants rise. More on the pandemic Kansas to help workers resist Biden's COVID vaccine mandates Kansas GOP lawmakers OK helping workers defy COVID mandates Bidens open holidays with Christmas tree and 'friendsgiving' Hong Kong to allow residents of mainland to vote in election David O’Connor, a virology expert at the University of Wisconsin-Madison, likens infections to “lottery tickets that we’re giving the virus.” The jackpot? A variant even more dangerous than the contagious delta currently circulating. “The fewer people who are infected, the less lottery tickets it has and the better off we’re all going to be in terms of generating the variants,” he said, adding that variants are even more likely to emerge in people with weakened immune systems who harbor the virus for a long time. Researchers disagree on how much kids have influenced the course of the pandemic. Early research suggested they didn’t contribute much to viral spread. But some experts say children played a significant role this year spreading contagious variants such as alpha and delta. ADVERTISEMENT Getting kids vaccinated could make a real difference going forward, according to estimates by the COVID-19 Scenario Modeling Hub, a collection of university and medical research organizations that consolidates models of how the pandemic may unfold. The hub’s latest estimates show that for this November through March 12, 2022, vaccinating 5- to 11-year-olds would avert about 430,000 COVID cases in the overall U.S. population if no new variant arose. If a variant 50% more transmissible than delta showed up in late fall, 860,000 cases would be averted, “a big impact,” said project co-leader Katriona Shea, of Pennsylvania State University. Delta remains dominant for now, accounting for more than 99% of analyzed coronavirus specimens in the United States. Scientists aren’t sure exactly why. Dr. Stuart Campbell Ray, an infectious disease expert at Johns Hopkins University, said it may be intrinsically more infectious, or it may be evading at least in part the protection people get from vaccines or having been infected before. “It’s probably a combination of those things,” he said. “But there’s also very good and growing evidence that delta is simply more fit, meaning that it’s able to grow to higher levels faster than other variants that are studied. So when people get delta, they become infectious sooner.” Ray said delta is “a big family” of viruses, and the world is now swimming in a sort of “delta soup.” “We have many lineages of delta that are circulating in many places with no clear winners,” Ray said, adding that it’s hard to know from genetic features which might have an edge, or which non-delta variants might dethrone delta. “I often say it’s like seeing a car parked on the side of the road with racing slicks and racing stripes and an airfoil on the back and a big engine,” Ray said. “You know it looks like it could be a real contender, but until you see it on the track with other cars, you don’t know if it’s going to win.” Another big unknown: Dangerous variants may still arise in largely-unvaccinated parts of the world and make their way to America even as U.S. children join the ranks of the vaccinated. Walker, the Louisville mom, said she and her husband can’t do anything about distant threats, but could sign their daughter up for vaccination at Jefferson County Public Schools sites on a recent weekend. Solome is adopted from Ethiopia and is prone to pneumonia following respiratory ailments after being exposed to tuberculosis as a baby. Full Coverage:  Coronavirus pandemic She said she wants to keep other kids safe because “it’s not good to get sick.” As a nurse leaned in to give Solome her shot, Walker held her daughter’s hand, then praised her for picking out a post-jab sticker appropriate for a brave kid who just did her part to help curb a pandemic. “Wonder Woman,” Walker said. “Perfect.” ___ The Associated Press Health and Science Department receives support from the Howard Hughes Medical Institute’s Department of Science Education. The AP is solely responsible for all content. AP NEWS Top Stories Video Contact Us Cookie Settings Download AP NEWS Connect with the definitive source for global and local news More from AP ap.org AP Insights AP Definitive Source Blog AP Images Spotlight AP Explore AP Books Follow AP The Associated Press About Contact Customer Support Careers Terms & Conditions Privacy All contents © copyright 2021 The Associated Press. All rights reserved.       \n",
            "['AP NEWS Sections U.S. News World News Politics Sports Entertainment Oddities Lifestyle Health Science Business Technology Photography Religion Travel Press Releases Science Technology Business U.S. News World News Politics Entertainment Sports Oddities Lifestyle Health Photography Videos AP RADIO Update hourly Sections U.S. News World News Politics Sports Entertainment Oddities Lifestyle Health Science Business Technology Photography Religion Travel Press Releases Trending News Climate Coronavirus pandemic Kyle Rittenhouse Ahmaud Arbery AP Top 25 College Football Poll Search ADVERTISEMENT https://apnews.com/article/how-covid-shots-for-kids-prevent-variants-0dd394ddd053e0efb3f3137dba2ad470 Click to copy https://apnews.com/article/how-covid-shots-for-kids-prevent-variants-0dd394ddd053e0efb3f3137dba2ad470 Click to copy Related topics Coronavirus pandemic Science Health Kentucky Louisville How COVID shots for kids help prevent dangerous new variants By LAURA UNGAR November 22, 2021 GMT 1 of 2 Solome Walker, 9, looks down at her bandage after getting her first Pfizer COVID-19 shot at a vaccination clinic for young students at Ramsey Middle School on Saturday, Nov. 13, 2021 in Louisville, Ky. Scientists say vaccinating kids against COVID-19 should not only slow the spread of the coronavirus but also help prevent potentially-dangerous variants from emerging.', 'Each new infection brings another opportunity for the virus to mutate and evolve dangerous new traits.', '(AP Photo/Laura Ungar) 1 of 2 Solome Walker, 9, looks down at her bandage after getting her first Pfizer COVID-19 shot at a vaccination clinic for young students at Ramsey Middle School on Saturday, Nov. 13, 2021 in Louisville, Ky. Scientists say vaccinating kids against COVID-19 should not only slow the spread of the coronavirus but also help prevent potentially-dangerous variants from emerging.', 'Each new infection brings another opportunity for the virus to mutate and evolve dangerous new traits.', '(AP Photo/Laura Ungar) LOUISVILLE, Ky. (AP) — Cadell Walker rushed to get her 9-year-old daughter Solome vaccinated against COVID-19 — not just to protect her but to help stop the coronavirus from spreading and spawning even more dangerous variants.', '“Love thy neighbor is something that we really do believe, and we want to be good community members and want to model that thinking for our daughter,” said the 40-year-old Louisville mom, who recently took Solome to a local middle school for her shot.', '“The only way to really beat COVID is for all of us collectively to work together for the greater good.” Scientists agree.', 'Each infection — whether in an adult in Yemen or a kid in Kentucky — gives the virus another opportunity to mutate.', 'Protecting a new, large chunk of the population anywhere in the world limits those opportunities.', 'That effort got a lift with 28 million U.S. kids 5 to 11 years old now eligible for child-sized doses of the Pfizer-BioNTech vaccine.', 'Moves elsewhere, like Austria’s recent decision to require all adults to be vaccinated and even the U.S. authorizing booster shots for all adults on Friday , help by further reducing the chances of new infection.', 'ADVERTISEMENT Vaccinating kids also means reducing silent spread, since most have no or mild symptoms when they contract the virus.', 'When the virus spreads unseen, scientists say, it also goes unabated.', 'And as more people contract it, the odds of new variants rise.', \"More on the pandemic Kansas to help workers resist Biden's COVID vaccine mandates Kansas GOP lawmakers OK helping workers defy COVID mandates Bidens open holidays with Christmas tree and 'friendsgiving' Hong Kong to allow residents of mainland to vote in election David O’Connor, a virology expert at the University of Wisconsin-Madison, likens infections to “lottery tickets that we’re giving the virus.” The jackpot?\", 'A variant even more dangerous than the contagious delta currently circulating.', '“The fewer people who are infected, the less lottery tickets it has and the better off we’re all going to be in terms of generating the variants,” he said, adding that variants are even more likely to emerge in people with weakened immune systems who harbor the virus for a long time.', 'Researchers disagree on how much kids have influenced the course of the pandemic.', 'Early research suggested they didn’t contribute much to viral spread.', 'But some experts say children played a significant role this year spreading contagious variants such as alpha and delta.', 'ADVERTISEMENT Getting kids vaccinated could make a real difference going forward, according to estimates by the COVID-19 Scenario Modeling Hub, a collection of university and medical research organizations that consolidates models of how the pandemic may unfold.', 'The hub’s latest estimates show that for this November through March 12, 2022, vaccinating 5- to 11-year-olds would avert about 430,000 COVID cases in the overall U.S. population if no new variant arose.', 'If a variant 50% more transmissible than delta showed up in late fall, 860,000 cases would be averted, “a big impact,” said project co-leader Katriona Shea, of Pennsylvania State University.', 'Delta remains dominant for now, accounting for more than 99% of analyzed coronavirus specimens in the United States.', 'Scientists aren’t sure exactly why.', 'Dr. Stuart Campbell Ray, an infectious disease expert at Johns Hopkins University, said it may be intrinsically more infectious, or it may be evading at least in part the protection people get from vaccines or having been infected before.', '“It’s probably a combination of those things,” he said.', '“But there’s also very good and growing evidence that delta is simply more fit, meaning that it’s able to grow to higher levels faster than other variants that are studied.', 'So when people get delta, they become infectious sooner.” Ray said delta is “a big family” of viruses, and the world is now swimming in a sort of “delta soup.” “We have many lineages of delta that are circulating in many places with no clear winners,” Ray said, adding that it’s hard to know from genetic features which might have an edge, or which non-delta variants might dethrone delta.', '“I often say it’s like seeing a car parked on the side of the road with racing slicks and racing stripes and an airfoil on the back and a big engine,” Ray said.', '“You know it looks like it could be a real contender, but until you see it on the track with other cars, you don’t know if it’s going to win.” Another big unknown: Dangerous variants may still arise in largely-unvaccinated parts of the world and make their way to America even as U.S. children join the ranks of the vaccinated.', 'Walker, the Louisville mom, said she and her husband can’t do anything about distant threats, but could sign their daughter up for vaccination at Jefferson County Public Schools sites on a recent weekend.', 'Solome is adopted from Ethiopia and is prone to pneumonia following respiratory ailments after being exposed to tuberculosis as a baby.', 'Full Coverage:  Coronavirus pandemic She said she wants to keep other kids safe because “it’s not good to get sick.” As a nurse leaned in to give Solome her shot, Walker held her daughter’s hand, then praised her for picking out a post-jab sticker appropriate for a brave kid who just did her part to help curb a pandemic.', '“Wonder Woman,” Walker said.', '“Perfect.” ___ The Associated Press Health and Science Department receives support from the Howard Hughes Medical Institute’s Department of Science Education.', 'The AP is solely responsible for all content.', 'AP NEWS Top Stories Video Contact Us Cookie Settings Download AP NEWS Connect with the definitive source for global and local news More from AP ap.org AP Insights AP Definitive Source Blog AP Images Spotlight AP Explore AP Books Follow AP The Associated Press About Contact Customer Support Careers Terms & Conditions Privacy All contents © copyright 2021 The Associated Press.', 'All rights reserved.']\n",
            "AP NEWS Sections U.S. News World News Politics Sports Entertainment Oddities Lifestyle Health Science Business Technology Photography Religion Travel Press Releases Science Technology Business U.S. News World News Politics Entertainment Sports Oddities Lifestyle Health Photography Videos AP RADIO Update hourly Sections U.S. News World News Politics Sports Entertainment Oddities Lifestyle Health Science Business Technology Photography Religion Travel Press Releases Trending News Climate Coronavirus pandemic Kyle Rittenhouse Ahmaud Arbery AP Top 25 College Football Poll Search ADVERTISEMENT https://apnews.com/article/how-covid-shots-for-kids-prevent-variants-0dd394ddd053e0efb3f3137dba2ad470 Click to copy https://apnews.com/article/how-covid-shots-for-kids-prevent-variants-0dd394ddd053e0efb3f3137dba2ad470 Click to copy Related topics Coronavirus pandemic Science Health Kentucky Louisville How COVID shots for kids help prevent dangerous new variants By LAURA UNGAR November 22, 2021 GMT 1 of 2 Solome Walker, 9, looks down at her bandage after getting her first Pfizer COVID-19 shot at a vaccination clinic for young students at Ramsey Middle School on Saturday, Nov. 13, 2021 in Louisville, Ky. Scientists say vaccinating kids against COVID-19 should not only slow the spread of the coronavirus but also help prevent potentially-dangerous variants from emerging. Each new infection brings another opportunity for the virus to mutate and evolve dangerous new traits. (AP Photo/Laura Ungar) 1 of 2 Solome Walker, 9, looks down at her bandage after getting her first Pfizer COVID-19 shot at a vaccination clinic for young students at Ramsey Middle School on Saturday, Nov. 13, 2021 in Louisville, Ky. Scientists say vaccinating kids against COVID-19 should not only slow the spread of the coronavirus but also help prevent potentially-dangerous variants from emerging. Each new infection brings another opportunity for the virus to mutate and evolve dangerous new traits. (AP Photo/Laura Ungar) LOUISVILLE, Ky. (AP) — Cadell Walker rushed to get her 9-year-old daughter Solome vaccinated against COVID-19 — not just to protect her but to help stop the coronavirus from spreading and spawning even more dangerous variants. “Love thy neighbor is something that we really do believe, and we want to be good community members and want to model that thinking for our daughter,” said the 40-year-old Louisville mom, who recently took Solome to a local middle school for her shot. “The only way to really beat COVID is for all of us collectively to work together for the greater good.” Scientists agree. Each infection — whether in an adult in Yemen or a kid in Kentucky — gives the virus another opportunity to mutate. Protecting a new, large chunk of the population anywhere in the world limits those opportunities. That effort got a lift with 28 million U.S. kids 5 to 11 years old now eligible for child-sized doses of the Pfizer-BioNTech vaccine. Moves elsewhere, like Austria’s recent decision to require all adults to be vaccinated and even the U.S. authorizing booster shots for all adults on Friday , help by further reducing the chances of new infection. ADVERTISEMENT Vaccinating kids also means reducing silent spread, since most have no or mild symptoms when they contract the virus. When the virus spreads unseen, scientists say, it also goes unabated. And as more people contract it, the odds of new variants rise. More on the pandemic Kansas to help workers resist Biden's COVID vaccine mandates Kansas GOP lawmakers OK helping workers defy COVID mandates Bidens open holidays with Christmas tree and 'friendsgiving' Hong Kong to allow residents of mainland to vote in election David O’Connor, a virology expert at the University of Wisconsin-Madison, likens infections to “lottery tickets that we’re giving the virus.” The jackpot? A variant even more dangerous than the contagious delta currently circulating. “The fewer people who are infected, the less lottery tickets it has and the better off we’re all going to be in terms of generating the variants,” he said, adding that variants are even more likely to emerge in people with weakened immune systems who harbor the virus for a long time. Researchers disagree on how much kids have influenced the course of the pandemic. Early research suggested they didn’t contribute much to viral spread. But some experts say children played a significant role this year spreading contagious variants such as alpha and delta. ADVERTISEMENT Getting kids vaccinated could make a real difference going forward, according to estimates by the COVID-19 Scenario Modeling Hub, a collection of university and medical research organizations that consolidates models of how the pandemic may unfold. The hub’s latest estimates show that for this November through March 12, 2022, vaccinating 5- to 11-year-olds would avert about 430,000 COVID cases in the overall U.S. population if no new variant arose. If a variant 50% more transmissible than delta showed up in late fall, 860,000 cases would be averted, “a big impact,” said project co-leader Katriona Shea, of Pennsylvania State University. Delta remains dominant for now, accounting for more than 99% of analyzed coronavirus specimens in the United States. Scientists aren’t sure exactly why. Dr. Stuart Campbell Ray, an infectious disease expert at Johns Hopkins University, said it may be intrinsically more infectious, or it may be evading at least in part the protection people get from vaccines or having been infected before. “It’s probably a combination of those things,” he said. “But there’s also very good and growing evidence that delta is simply more fit, meaning that it’s able to grow to higher levels faster than other variants that are studied. So when people get delta, they become infectious sooner.” Ray said delta is “a big family” of viruses, and the world is now swimming in a sort of “delta soup.” “We have many lineages of delta that are circulating in many places with no clear winners,” Ray said, adding that it’s hard to know from genetic features which might have an edge, or which non-delta variants might dethrone delta. “I often say it’s like seeing a car parked on the side of the road with racing slicks and racing stripes and an airfoil on the back and a big engine,” Ray said. “You know it looks like it could be a real contender, but until you see it on the track with other cars, you don’t know if it’s going to win.” Another big unknown: Dangerous variants may still arise in largely-unvaccinated parts of the world and make their way to America even as U.S. children join the ranks of the vaccinated. Walker, the Louisville mom, said she and her husband can’t do anything about distant threats, but could sign their daughter up for vaccination at Jefferson County Public Schools sites on a recent weekend. Solome is adopted from Ethiopia and is prone to pneumonia following respiratory ailments after being exposed to tuberculosis as a baby. Full Coverage:  Coronavirus pandemic She said she wants to keep other kids safe because “it’s not good to get sick.” As a nurse leaned in to give Solome her shot, Walker held her daughter’s hand, then praised her for picking out a post-jab sticker appropriate for a brave kid who just did her part to help curb a pandemic. “Wonder Woman,” Walker said. “Perfect.” ___ The Associated Press Health and Science Department receives support from the Howard Hughes Medical Institute’s Department of Science Education. The AP is solely responsible for all content. AP NEWS Top Stories Video Contact Us Cookie Settings Download AP NEWS Connect with the definitive source for global and local news More from AP ap.org AP Insights AP Definitive Source Blog AP Images Spotlight AP Explore AP Books Follow AP The Associated Press About Contact Customer Support Careers Terms & Conditions Privacy All contents © copyright 2021 The Associated Press. All rights reserved.       \n",
            "['AP NEWS Sections U.S. News World News Politics Sports Entertainment Oddities Lifestyle Health Science Business Technology Photography Religion Travel Press Releases Science Technology Business U.S. News World News Politics Entertainment Sports Oddities Lifestyle Health Photography Videos AP RADIO Update hourly Sections U.S. News World News Politics Sports Entertainment Oddities Lifestyle Health Science Business Technology Photography Religion Travel Press Releases Trending News Climate Coronavirus pandemic Kyle Rittenhouse Ahmaud Arbery AP Top 25 College Football Poll Search ADVERTISEMENT https://apnews.com/article/europe-protests-virus-restrictions-netherlands-austria-italy-bea60fffc55590d0b956752274ddfb88 Click to copy https://apnews.com/article/europe-protests-virus-restrictions-netherlands-austria-italy-bea60fffc55590d0b956752274ddfb88 Click to copy Related topics Coronavirus pandemic Business Health Travel Switzerland Italy Austria Vienna Rotterdam Croatia Europe Northern Ireland AP Top News World News Netherlands Protests erupt over virus rules in Austria, Italy, Croatia By EMILY SCHULTHEIS and KIRSTEN GRIESHABER November 20, 2021 GMT 1 of 20 Demonstrators shout slogans and light flares during a demonstration against measures to battle the coronavirus pandemic in Vienna, Austria, Saturday, Nov. 20, 2021.', 'Thousands of protesters are expected to gather in Vienna after the Austrian government announced a nationwide lockdown to contain the quickly rising coronavirus infections in the country.', \"Banner reads: ' Controls the border.\", \"Not your people'.\", '(AP Photo/Florian Schroetter) 1 of 20 Demonstrators shout slogans and light flares during a demonstration against measures to battle the coronavirus pandemic in Vienna, Austria, Saturday, Nov. 20, 2021.', 'Thousands of protesters are expected to gather in Vienna after the Austrian government announced a nationwide lockdown to contain the quickly rising coronavirus infections in the country.', \"Banner reads: ' Controls the border.\", \"Not your people'.\", '(AP Photo/Florian Schroetter) VIENNA (AP) — Tens of thousands of protesters, many from far-right groups, marched through Vienna on Saturday after the Austrian government announced a nationwide lockdown beginning Monday to contain skyrocketing coronavirus infections.', 'Demonstrations against virus restrictions also took place in Switzerland, Croatia, Italy, Northern Ireland and the Netherlands on Saturday, a day after Dutch police opened fire on protesters and seven people were injured in rioting that erupted in Rotterdam.', 'Protesters rallied against coronavirus restrictions and mandatory COVID-19 passes needed in many European countries to enter restaurants, Christmas markets or sports events, as well as mandatory vaccinations.', 'The Austrian lockdown will start Monday and comes as average daily deaths have tripled in recent weeks and hospitals in heavily hit states have warned that intensive care units are reaching capacity.', 'The lockdown will last at least 10 days but could go up to 20, officials said.', 'People will be able to leave their homes only for specific reasons, including buying groceries, going to the doctor or exercising.', 'The government also will make vaccinations mandatory starting Feb. 1.', 'Not quite 66% of Austria’s 8.9 million people are fully vaccinated, one of the lowest rates in Western Europe.', 'Saturday’s march started off at Vienna’s massive Heldenplatz square.', 'Chanting “Resistance!” and blowing whistles, protesters moved down the city’s inner ring road.', 'Many waved Austrian flags and carried signs mocking Chancellor Alexander Schallenberg and Health Minister Wolfgang Mueckstein.', 'Some wore doctor’s scrubs; others donned tinfoil hats.', 'Most signs focused on the vaccine mandate: “My Body, My Choice,” read one.', '“We’re Standing Up for Our Kids!” said another.', 'ADVERTISEMENT Among those protesting were members of far-right and extreme-right parties and groups, including the far-right Freedom Party, the anti-vaccine MFG party and the extreme-right Identitarians.', 'About 1,300 police officers were on duty, and 35,000 protesters participated in different marches across the city, police said.', 'Police said several protesters were detained, but didn’t give specific numbers.', 'Later Saturday night, protesters threw bottles and beer cans and fired pyrotechnics at police, who then used pepper spray to disperse the crowds.', 'Freedom Party leader Herbert Kickl, who recently tested positive for COVID-19, appeared via video, denouncing what he called “totalitarian” measures from a government “that believes it should think and decide for us.” Schallenberg apologized to all vaccinated people on Friday, saying it wasn’t fair they had to suffer under the renewed lockdown restrictions.', '“I’m sorry to take this drastic step,” he said on public broadcaster ORF.', 'In neighboring Switzerland, 2,000 people protested an upcoming referendum on whether to approve the government’s COVID-19 restrictions law, claiming it was discriminatory, public broadcaster SRF reported.', 'A day after the Rotterdam rioting, thousands gathered on Amsterdam’s central Dam Square, despite organizers calling off the protest.', 'They walked peacefully through the streets, closely monitored by police.', '“This policy (anti coronavirus measures) makes a lot of conflicts between the people,” Hugo Gietelink from Amsterdam told The Associated Press.', '“I think it is very important that the vaccinated and non-vaccinated have to make a friendship again.” A few hundred people also marched through the southern Dutch city of Breda.', 'One organizer, Joost Eras, told broadcaster NOS he didn’t expect violence after consulting with police.', '“We certainly don’t support what happened in Rotterdam.', 'We were shocked by it,” he said.', 'In Italy, 3,000 turned out in the capital’s Circus Maximus, a field where in ancient times Romans staged popular entertainment, to protest against “Green Pass” certificates required at workplaces, restaurants, cinemas, theaters, sports venues and gyms, as well as for long-distance train, bus or ferry travel.', '“People like us never give up,” read one banner, in the red, white and green colors of the Italian flag.', 'Almost no one wore a protective mask.', 'In Northern Ireland, several hundred people opposed to vaccine passports protested outside the city hall in Belfast, where the city’s Christmas market opened Saturday -- a market where proof of vaccination or a negative COVID-19 test was required.', 'The Northern Ireland government voted this week to introduce vaccine certificates for admission to nightclubs, bars and restaurants starting Dec. 13.', 'Some protesters carried signs that have been widely criticized as offensive, comparing coronavirus restrictions to the actions of Nazi Germany.', 'In Croatia, thousands gathered in the capital of Zagreb, carrying flags, nationalist and religious symbols, along with banners against vaccination and what they describe as restrictions of people’s freedoms.', 'In France, Interior Minister Gerald Darmanin condemned violent protests in the Caribbean island of Guadeloupe, one of France’s overseas territories.', 'Darmanin said 29 people had been detained by police overnight.', 'Authorities were sending 200 more police officers to the island and on Tuesday will impose a nightly curfew from 6 p.m. to 5 a.m.', 'Protesters in Guadeloupe have staged road blockades and set cars on fire.', 'They denounce France’s COVID-19 health pass that is required to access restaurants and cafes, cultural venues, sport arenas and long-distance travel.', 'They are also protesting France’s mandatory vaccinations for health care workers.', '___ Grieshaber reported from Berlin.', 'AP reporters from across Europe contributed reporting.', '___ Follow AP’s pandemic coverage at https://apnews.com/hub/coronavirus-pandemic AP NEWS Top Stories Video Contact Us Cookie Settings Download AP NEWS Connect with the definitive source for global and local news More from AP ap.org AP Insights AP Definitive Source Blog AP Images Spotlight AP Explore AP Books Follow AP The Associated Press About Contact Customer Support Careers Terms & Conditions Privacy All contents © copyright 2021 The Associated Press.', 'All rights reserved.']\n",
            "AP NEWS Sections U.S. News World News Politics Sports Entertainment Oddities Lifestyle Health Science Business Technology Photography Religion Travel Press Releases Science Technology Business U.S. News World News Politics Entertainment Sports Oddities Lifestyle Health Photography Videos AP RADIO Update hourly Sections U.S. News World News Politics Sports Entertainment Oddities Lifestyle Health Science Business Technology Photography Religion Travel Press Releases Trending News Climate Coronavirus pandemic Kyle Rittenhouse Ahmaud Arbery AP Top 25 College Football Poll Search ADVERTISEMENT https://apnews.com/article/europe-protests-virus-restrictions-netherlands-austria-italy-bea60fffc55590d0b956752274ddfb88 Click to copy https://apnews.com/article/europe-protests-virus-restrictions-netherlands-austria-italy-bea60fffc55590d0b956752274ddfb88 Click to copy Related topics Coronavirus pandemic Business Health Travel Switzerland Italy Austria Vienna Rotterdam Croatia Europe Northern Ireland AP Top News World News Netherlands Protests erupt over virus rules in Austria, Italy, Croatia By EMILY SCHULTHEIS and KIRSTEN GRIESHABER November 20, 2021 GMT 1 of 20 Demonstrators shout slogans and light flares during a demonstration against measures to battle the coronavirus pandemic in Vienna, Austria, Saturday, Nov. 20, 2021. Thousands of protesters are expected to gather in Vienna after the Austrian government announced a nationwide lockdown to contain the quickly rising coronavirus infections in the country. Banner reads: ' Controls the border. Not your people'. (AP Photo/Florian Schroetter) 1 of 20 Demonstrators shout slogans and light flares during a demonstration against measures to battle the coronavirus pandemic in Vienna, Austria, Saturday, Nov. 20, 2021. Thousands of protesters are expected to gather in Vienna after the Austrian government announced a nationwide lockdown to contain the quickly rising coronavirus infections in the country. Banner reads: ' Controls the border. Not your people'. (AP Photo/Florian Schroetter) VIENNA (AP) — Tens of thousands of protesters, many from far-right groups, marched through Vienna on Saturday after the Austrian government announced a nationwide lockdown beginning Monday to contain skyrocketing coronavirus infections. Demonstrations against virus restrictions also took place in Switzerland, Croatia, Italy, Northern Ireland and the Netherlands on Saturday, a day after Dutch police opened fire on protesters and seven people were injured in rioting that erupted in Rotterdam. Protesters rallied against coronavirus restrictions and mandatory COVID-19 passes needed in many European countries to enter restaurants, Christmas markets or sports events, as well as mandatory vaccinations. The Austrian lockdown will start Monday and comes as average daily deaths have tripled in recent weeks and hospitals in heavily hit states have warned that intensive care units are reaching capacity. The lockdown will last at least 10 days but could go up to 20, officials said. People will be able to leave their homes only for specific reasons, including buying groceries, going to the doctor or exercising. The government also will make vaccinations mandatory starting Feb. 1. Not quite 66% of Austria’s 8.9 million people are fully vaccinated, one of the lowest rates in Western Europe. Saturday’s march started off at Vienna’s massive Heldenplatz square. Chanting “Resistance!” and blowing whistles, protesters moved down the city’s inner ring road. Many waved Austrian flags and carried signs mocking Chancellor Alexander Schallenberg and Health Minister Wolfgang Mueckstein. Some wore doctor’s scrubs; others donned tinfoil hats. Most signs focused on the vaccine mandate: “My Body, My Choice,” read one. “We’re Standing Up for Our Kids!” said another. ADVERTISEMENT Among those protesting were members of far-right and extreme-right parties and groups, including the far-right Freedom Party, the anti-vaccine MFG party and the extreme-right Identitarians. About 1,300 police officers were on duty, and 35,000 protesters participated in different marches across the city, police said. Police said several protesters were detained, but didn’t give specific numbers. Later Saturday night, protesters threw bottles and beer cans and fired pyrotechnics at police, who then used pepper spray to disperse the crowds. Freedom Party leader Herbert Kickl, who recently tested positive for COVID-19, appeared via video, denouncing what he called “totalitarian” measures from a government “that believes it should think and decide for us.” Schallenberg apologized to all vaccinated people on Friday, saying it wasn’t fair they had to suffer under the renewed lockdown restrictions. “I’m sorry to take this drastic step,” he said on public broadcaster ORF. In neighboring Switzerland, 2,000 people protested an upcoming referendum on whether to approve the government’s COVID-19 restrictions law, claiming it was discriminatory, public broadcaster SRF reported. A day after the Rotterdam rioting, thousands gathered on Amsterdam’s central Dam Square, despite organizers calling off the protest. They walked peacefully through the streets, closely monitored by police. “This policy (anti coronavirus measures) makes a lot of conflicts between the people,” Hugo Gietelink from Amsterdam told The Associated Press. “I think it is very important that the vaccinated and non-vaccinated have to make a friendship again.” A few hundred people also marched through the southern Dutch city of Breda. One organizer, Joost Eras, told broadcaster NOS he didn’t expect violence after consulting with police. “We certainly don’t support what happened in Rotterdam. We were shocked by it,” he said. In Italy, 3,000 turned out in the capital’s Circus Maximus, a field where in ancient times Romans staged popular entertainment, to protest against “Green Pass” certificates required at workplaces, restaurants, cinemas, theaters, sports venues and gyms, as well as for long-distance train, bus or ferry travel. “People like us never give up,” read one banner, in the red, white and green colors of the Italian flag. Almost no one wore a protective mask. In Northern Ireland, several hundred people opposed to vaccine passports protested outside the city hall in Belfast, where the city’s Christmas market opened Saturday -- a market where proof of vaccination or a negative COVID-19 test was required. The Northern Ireland government voted this week to introduce vaccine certificates for admission to nightclubs, bars and restaurants starting Dec. 13. Some protesters carried signs that have been widely criticized as offensive, comparing coronavirus restrictions to the actions of Nazi Germany. In Croatia, thousands gathered in the capital of Zagreb, carrying flags, nationalist and religious symbols, along with banners against vaccination and what they describe as restrictions of people’s freedoms. In France, Interior Minister Gerald Darmanin condemned violent protests in the Caribbean island of Guadeloupe, one of France’s overseas territories. Darmanin said 29 people had been detained by police overnight. Authorities were sending 200 more police officers to the island and on Tuesday will impose a nightly curfew from 6 p.m. to 5 a.m. Protesters in Guadeloupe have staged road blockades and set cars on fire. They denounce France’s COVID-19 health pass that is required to access restaurants and cafes, cultural venues, sport arenas and long-distance travel. They are also protesting France’s mandatory vaccinations for health care workers. ___ Grieshaber reported from Berlin. AP reporters from across Europe contributed reporting. ___ Follow AP’s pandemic coverage at https://apnews.com/hub/coronavirus-pandemic AP NEWS Top Stories Video Contact Us Cookie Settings Download AP NEWS Connect with the definitive source for global and local news More from AP ap.org AP Insights AP Definitive Source Blog AP Images Spotlight AP Explore AP Books Follow AP The Associated Press About Contact Customer Support Careers Terms & Conditions Privacy All contents © copyright 2021 The Associated Press. All rights reserved.      \n",
            "['AP NEWS Sections U.S. News World News Politics Sports Entertainment Oddities Lifestyle Health Science Business Technology Photography Religion Travel Press Releases Science Technology Business U.S. News World News Politics Entertainment Sports Oddities Lifestyle Health Photography Videos AP RADIO Update hourly Sections U.S. News World News Politics Sports Entertainment Oddities Lifestyle Health Science Business Technology Photography Religion Travel Press Releases Trending News Climate Coronavirus pandemic Kyle Rittenhouse Ahmaud Arbery AP Top 25 College Football Poll Search ADVERTISEMENT https://apnews.com/article/coronavirus-pandemic-health-europe-france-belgium-e8ebd8f11256ab99b1aef9b058679cd1 Click to copy https://apnews.com/article/coronavirus-pandemic-health-europe-france-belgium-e8ebd8f11256ab99b1aef9b058679cd1 Click to copy Related topics Coronavirus pandemic Health France Europe Brussels Belgium French prime minister positive for COVID-19, as cases rise November 22, 2021 GMT 1 of 3 French Prime Minister Jean Castex gives a statement after a Belgian-French security consultation meeting at Egmont Palace in Brussels, Monday, Nov. 22, 2021.', '(AP Photo/Olivier Matthys) 1 of 3 French Prime Minister Jean Castex gives a statement after a Belgian-French security consultation meeting at Egmont Palace in Brussels, Monday, Nov. 22, 2021.', '(AP Photo/Olivier Matthys) PARIS (AP) — France’s prime minister tested positive for COVID-19 on Monday, hours after returning from a visit to neighboring Belgium and just as France is seeing a nationwide resurgence of infections, according to his office.', 'The positive test also means that his Belgian counterpart Alexander De Croo and four other minister immediately went into quarantine since they met with Castex for talks in Brussels earlier Monday.', 'French Prime Minister Jean Castex will adapt his schedule for the coming 10 days to continue his activities in isolation, his office said.', 'Officials at the prime minister’s headquarters did not comment on whether Castex has any virus symptoms.', 'One of Castex’s daughters tested positive Monday after her father returned from a meeting with Belgian Prime Minister Alexander de Croo in Brussels, and Castex himself then took two tests that were both positive, his office said.', 'De Croo’s office said he will be tested Wednesday and will self-isolate while awaiting the result, as will the foreign affairs, defense, justice and home ministers.', '“Since Prime Minister De Croo received the French Prime Minister for security talks, he has immediately interrupted his activities,” a statement from his office said.', 'While 75% of France’s population is vaccinated, the number of virus infections has risen quickly in recent weeks.', 'Hospitalizations and deaths linked to the virus are also rising in France, though are so far well below the crisis levels of earlier surges.', 'French President Emmanuel Macron contracted COVID-19 last December, and other government ministers have also had the virus.', 'AP NEWS Top Stories Video Contact Us Cookie Settings Download AP NEWS Connect with the definitive source for global and local news More from AP ap.org AP Insights AP Definitive Source Blog AP Images Spotlight AP Explore AP Books Follow AP The Associated Press About Contact Customer Support Careers Terms & Conditions Privacy All contents © copyright 2021 The Associated Press.', 'All rights reserved.']\n",
            "AP NEWS Sections U.S. News World News Politics Sports Entertainment Oddities Lifestyle Health Science Business Technology Photography Religion Travel Press Releases Science Technology Business U.S. News World News Politics Entertainment Sports Oddities Lifestyle Health Photography Videos AP RADIO Update hourly Sections U.S. News World News Politics Sports Entertainment Oddities Lifestyle Health Science Business Technology Photography Religion Travel Press Releases Trending News Climate Coronavirus pandemic Kyle Rittenhouse Ahmaud Arbery AP Top 25 College Football Poll Search ADVERTISEMENT https://apnews.com/article/coronavirus-pandemic-health-europe-france-belgium-e8ebd8f11256ab99b1aef9b058679cd1 Click to copy https://apnews.com/article/coronavirus-pandemic-health-europe-france-belgium-e8ebd8f11256ab99b1aef9b058679cd1 Click to copy Related topics Coronavirus pandemic Health France Europe Brussels Belgium French prime minister positive for COVID-19, as cases rise November 22, 2021 GMT 1 of 3 French Prime Minister Jean Castex gives a statement after a Belgian-French security consultation meeting at Egmont Palace in Brussels, Monday, Nov. 22, 2021. (AP Photo/Olivier Matthys) 1 of 3 French Prime Minister Jean Castex gives a statement after a Belgian-French security consultation meeting at Egmont Palace in Brussels, Monday, Nov. 22, 2021. (AP Photo/Olivier Matthys) PARIS (AP) — France’s prime minister tested positive for COVID-19 on Monday, hours after returning from a visit to neighboring Belgium and just as France is seeing a nationwide resurgence of infections, according to his office. The positive test also means that his Belgian counterpart Alexander De Croo and four other minister immediately went into quarantine since they met with Castex for talks in Brussels earlier Monday. French Prime Minister Jean Castex will adapt his schedule for the coming 10 days to continue his activities in isolation, his office said. Officials at the prime minister’s headquarters did not comment on whether Castex has any virus symptoms. One of Castex’s daughters tested positive Monday after her father returned from a meeting with Belgian Prime Minister Alexander de Croo in Brussels, and Castex himself then took two tests that were both positive, his office said. De Croo’s office said he will be tested Wednesday and will self-isolate while awaiting the result, as will the foreign affairs, defense, justice and home ministers. “Since Prime Minister De Croo received the French Prime Minister for security talks, he has immediately interrupted his activities,” a statement from his office said. While 75% of France’s population is vaccinated, the number of virus infections has risen quickly in recent weeks. Hospitalizations and deaths linked to the virus are also rising in France, though are so far well below the crisis levels of earlier surges. French President Emmanuel Macron contracted COVID-19 last December, and other government ministers have also had the virus. AP NEWS Top Stories Video Contact Us Cookie Settings Download AP NEWS Connect with the definitive source for global and local news More from AP ap.org AP Insights AP Definitive Source Blog AP Images Spotlight AP Explore AP Books Follow AP The Associated Press About Contact Customer Support Careers Terms & Conditions Privacy All contents © copyright 2021 The Associated Press. All rights reserved.      \n",
            "[\"AP NEWS Sections U.S. News World News Politics Sports Entertainment Oddities Lifestyle Health Science Business Technology Photography Religion Travel Press Releases Science Technology Business U.S. News World News Politics Entertainment Sports Oddities Lifestyle Health Photography Videos AP RADIO Update hourly Sections U.S. News World News Politics Sports Entertainment Oddities Lifestyle Health Science Business Technology Photography Religion Travel Press Releases Trending News Climate Coronavirus pandemic Kyle Rittenhouse Ahmaud Arbery AP Top 25 College Football Poll Search ADVERTISEMENT https://apnews.com/article/coronavirus-pandemic-business-health-japan-tokyo-7257970ada15e0940b404be8b7a7eb81 Click to copy https://apnews.com/article/coronavirus-pandemic-business-health-japan-tokyo-7257970ada15e0940b404be8b7a7eb81 Click to copy Related topics Coronavirus pandemic Business Health Japan Tokyo Public health Relatives of virus dead question Japan’s stay-at-home policy By YURI KAGEYAMA November 21, 2021 GMT 1 of 5 Kaori Takada poses with her brother's photo in front of her family altar at her home in Matsubara, south of Osaka, western Japan, Tuesday, Nov. 16, 2021.\", \"Takada and another woman whose family member died at home while sick with the coronavirus have formed a group to protest the Japanese government's policy of having infected people recuperate at home.\", \"Takada's brother was diagnosed with the coronavirus this year.\", \"When he didn't answer calls from public health workers for three days, police went to his home and found him dead in his bed.\", 'He was 43.', \"(AP Photo/Hiro Komae) 1 of 5 Kaori Takada poses with her brother's photo in front of her family altar at her home in Matsubara, south of Osaka, western Japan, Tuesday, Nov. 16, 2021.\", \"Takada and another woman whose family member died at home while sick with the coronavirus have formed a group to protest the Japanese government's policy of having infected people recuperate at home.\", \"Takada's brother was diagnosed with the coronavirus this year.\", \"When he didn't answer calls from public health workers for three days, police went to his home and found him dead in his bed.\", 'He was 43.', '(AP Photo/Hiro Komae) TOKYO (AP) — Yoshihiko Takeuchi, who ran a small restaurant on the island of Okinawa, told only a few friends he had the coronavirus.', 'When he didn’t answer phone calls from public health workers for three days, police went to his home and found him dead in his bed.', 'He was among hundreds of people who have died while subject to “jitaku ryoyo,” or a policy of having some COVID-19 patients “recuperate at home.” In many countries, those with the virus stay home to isolate and recover, but critics say that in Japan, a country with one of the most affordable and accessible health care systems, people have been denied hospital care, and the policy amounted to “jitaku hochi,” or “abandonment at home.” Takeuchi’s sister and a daughter of another man who died at home of COVID-19 have started an online support group for grieving relatives of such victims.', 'Japan has seen caseloads fall dramatically in the past two months and the government has drawn up a road map to improve its pandemic response.', 'A plan adopted Nov. 12 aims to have beds for up to 37,000 patients nationwide by the end of November, up from 28,000.', 'ADVERTISEMENT That compares with more than 231,000 coronavirus patients needing hospitalization in late August, according to government data.', 'Many had to recuperate at home.', 'Prime Minister Fumio Kishida also promised to have health care workers routinely visit COVID-19 patients with mild symptoms at home.', 'Public anger over inadequate treatment in the country with the world’s largest number of beds per capita is a factor driving such changes.', 'Kishida’s predecessor, Yoshihide Suga, resigned after only a year in office, mainly because of widespread dissatisfaction with the government’s pandemic response.', 'Speaking up takes courage in a conformist society like Japan, and class action lawsuits are rare.', 'But Kaori Takada, Takeuchi’s sister, and others in her group believe their loved ones were denied the medical care they deserved.', '“I had to raise my voice,” she said.', 'She is not sure what she will do.', 'Thousands are following the group’s Twitter account and others have come forward with similar painful stories.', 'Takada, who lives in Osaka and runs a small nursery in her home, was Takeuchi’s only remaining relative.', 'They spoke on the phone right before he was diagnosed, but he did not tell her he was sick alone at home.', 'Given widespread phobias in Japan about COVID-19, he didn’t want word to get out.', 'Takada said he was a gentle man and much loved.', '“We are coming together, trying to heal, sharing how people have been treated so cruelly, and perhaps helping each other take that first step forward,” she said in a telephone interview.', 'Japan’s local public health bureaus, responsible for arranging for the care of COVID-19 patients, struggled to find hospitals that would admit them.', 'In some cases, ambulances were shunted from one hospital to the next.', 'ADVERTISEMENT A few makeshift facilities provided treatment and supplemental oxygen, but calls to set up big field hospitals went unheeded.', 'In New York, for instance, hospitals were quickly converted, adding thousands of extra beds and ICUs for virus patients.', 'A Navy medical ship and other facilities were turned into makeshift hospitals.', 'At the outbreak’s peak in April 2020, there were more than 1,600 new hospitalizations a day citywide.', 'In August of this year, when infections in Japan surged with the spread of the delta variant, Japan’s hospital systems were quickly declared “stretched thin,” even though it has had far fewer COVID-19 cases than the U.S., Europe and some other Asian and South American countries.', 'In early September, more than 134,000 people were sick with the virus at home, according to Health Ministry records.', 'About 18,000 Japanese have died of COVID-19-related deaths in a population of 126 million.', 'No one knows exactly how many died at home, though the National Police Agency, which tracks deaths, said 951 people have died at home since March 2020, with 250 of them in August 2021 alone.', 'Shigeru Omi, a top government adviser on the coronavirus and head of the Japan Community Health Care Organization, or JCHO, has urged the government to set up emergency field hospitals, specifically to avoid deaths from “jitaku ryoyo.” Japan’s health care system is dominated by small, private hospitals and clinics, and few inpatient facilities are equipped to handle infectious diseases.', 'Many beds are occupied by psychiatric patients and by the chronically ill and elderly, and there are relatively few doctors, intensive care specialists and nurses.', 'In some places, local authorities arranged for such hospitals to accept patients who were no longer infectious and rehabilitating from serious illness after they were treated at larger hospitals.', 'But overall, caseloads vastly outnumbered the beds available for critical care.', 'The JCHO runs 57 of Japan’s biggest hospitals.', 'All are heavily subsidized by taxpayer money.', 'The Health Ministry said it provided up to 100,000 yen ($900) per bed for COVID-19 patients.', 'In October, JCHO said it had prepared 972 beds nationwide for virus patients, or fewer than 7% of its more than 14,000 overall beds, though in August it temporarily made room for about 1,800 patients.', 'JCHO declined to comment on Kishida’s call for providing thousands more beds.', 'Dr. Takanori Yamamoto, a critical care physician at Nagoya University, believes hospital care needs to be restructured to focus on seriously ill patients in designated facilities, instead of spreading them across small hospitals that each have a handful of ICU beds.', 'Resources were improperly managed, including widespread hospitalizations of people who didn’t need it, he said.', 'Public health bureaus are designed for research and are ill-suited to be “gatekeepers” for doling out COVID-19 care, he added.', 'The problems are deeply rooted in a decades-old system, and Yamamoto worries that even if Japan manages to ride out this pandemic, it will be unprepared for the next one.', '“No other nation turned away patients like this, even countries that had far more cases.', 'The idea of doctors not seeing patients should be out of the question.', 'If you are a doctor, you have to take care of the sick,” Yamamoto said.', '“Japan has done nothing.', 'There has been no leadership,” he said.', 'The time to act is now, before another wave of coronavirus infections hits, said Dr. Kenji Shibuya, research director at the Tokyo Foundation for Policy Research, an independent think tank.', '“They didn’t act before, even though they knew it’s coming,” said Shibuya, who has experience working in Britain.', '“It is about a lack of commitment, lack of will, lack of passion to make a change at a time of crisis,” he said.', 'Back in August, Yuko Nishizato, co-founder of Takada’s group, pleaded with hospitals for her 73-year-old father to be admitted.', 'But he died after testing positive for COVID-19 without ever getting treatment, apart from medication for a fever.', 'Phone records show he repeatedly called the local public health center right up to his death.', 'It breaks her heart to know all he got were recordings.', '“I wanted him to live to see his grandchildren.', 'I wanted him to see a more grown-up me,” Nishizato said.', '“There are so many who have suffered the same way, and I don’t understand why.” —- Follow AP’s coronavirus coverage at: https://apnews.com/hub/coronavirus-pandemic ___ Yuri Kageyama is on Twitter https://twitter.com/yurikageyama AP NEWS Top Stories Video Contact Us Cookie Settings Download AP NEWS Connect with the definitive source for global and local news More from AP ap.org AP Insights AP Definitive Source Blog AP Images Spotlight AP Explore AP Books Follow AP The Associated Press About Contact Customer Support Careers Terms & Conditions Privacy All contents © copyright 2021 The Associated Press.', 'All rights reserved.']\n",
            "AP NEWS Sections U.S. News World News Politics Sports Entertainment Oddities Lifestyle Health Science Business Technology Photography Religion Travel Press Releases Science Technology Business U.S. News World News Politics Entertainment Sports Oddities Lifestyle Health Photography Videos AP RADIO Update hourly Sections U.S. News World News Politics Sports Entertainment Oddities Lifestyle Health Science Business Technology Photography Religion Travel Press Releases Trending News Climate Coronavirus pandemic Kyle Rittenhouse Ahmaud Arbery AP Top 25 College Football Poll Search ADVERTISEMENT https://apnews.com/article/coronavirus-pandemic-business-health-japan-tokyo-7257970ada15e0940b404be8b7a7eb81 Click to copy https://apnews.com/article/coronavirus-pandemic-business-health-japan-tokyo-7257970ada15e0940b404be8b7a7eb81 Click to copy Related topics Coronavirus pandemic Business Health Japan Tokyo Public health Relatives of virus dead question Japan’s stay-at-home policy By YURI KAGEYAMA November 21, 2021 GMT 1 of 5 Kaori Takada poses with her brother's photo in front of her family altar at her home in Matsubara, south of Osaka, western Japan, Tuesday, Nov. 16, 2021. Takada and another woman whose family member died at home while sick with the coronavirus have formed a group to protest the Japanese government's policy of having infected people recuperate at home. Takada's brother was diagnosed with the coronavirus this year. When he didn't answer calls from public health workers for three days, police went to his home and found him dead in his bed. He was 43. (AP Photo/Hiro Komae) 1 of 5 Kaori Takada poses with her brother's photo in front of her family altar at her home in Matsubara, south of Osaka, western Japan, Tuesday, Nov. 16, 2021. Takada and another woman whose family member died at home while sick with the coronavirus have formed a group to protest the Japanese government's policy of having infected people recuperate at home. Takada's brother was diagnosed with the coronavirus this year. When he didn't answer calls from public health workers for three days, police went to his home and found him dead in his bed. He was 43. (AP Photo/Hiro Komae) TOKYO (AP) — Yoshihiko Takeuchi, who ran a small restaurant on the island of Okinawa, told only a few friends he had the coronavirus. When he didn’t answer phone calls from public health workers for three days, police went to his home and found him dead in his bed. He was among hundreds of people who have died while subject to “jitaku ryoyo,” or a policy of having some COVID-19 patients “recuperate at home.” In many countries, those with the virus stay home to isolate and recover, but critics say that in Japan, a country with one of the most affordable and accessible health care systems, people have been denied hospital care, and the policy amounted to “jitaku hochi,” or “abandonment at home.” Takeuchi’s sister and a daughter of another man who died at home of COVID-19 have started an online support group for grieving relatives of such victims. Japan has seen caseloads fall dramatically in the past two months and the government has drawn up a road map to improve its pandemic response. A plan adopted Nov. 12 aims to have beds for up to 37,000 patients nationwide by the end of November, up from 28,000. ADVERTISEMENT That compares with more than 231,000 coronavirus patients needing hospitalization in late August, according to government data. Many had to recuperate at home. Prime Minister Fumio Kishida also promised to have health care workers routinely visit COVID-19 patients with mild symptoms at home. Public anger over inadequate treatment in the country with the world’s largest number of beds per capita is a factor driving such changes. Kishida’s predecessor, Yoshihide Suga, resigned after only a year in office, mainly because of widespread dissatisfaction with the government’s pandemic response. Speaking up takes courage in a conformist society like Japan, and class action lawsuits are rare. But Kaori Takada, Takeuchi’s sister, and others in her group believe their loved ones were denied the medical care they deserved. “I had to raise my voice,” she said. She is not sure what she will do. Thousands are following the group’s Twitter account and others have come forward with similar painful stories. Takada, who lives in Osaka and runs a small nursery in her home, was Takeuchi’s only remaining relative. They spoke on the phone right before he was diagnosed, but he did not tell her he was sick alone at home. Given widespread phobias in Japan about COVID-19, he didn’t want word to get out. Takada said he was a gentle man and much loved. “We are coming together, trying to heal, sharing how people have been treated so cruelly, and perhaps helping each other take that first step forward,” she said in a telephone interview. Japan’s local public health bureaus, responsible for arranging for the care of COVID-19 patients, struggled to find hospitals that would admit them. In some cases, ambulances were shunted from one hospital to the next. ADVERTISEMENT A few makeshift facilities provided treatment and supplemental oxygen, but calls to set up big field hospitals went unheeded. In New York, for instance, hospitals were quickly converted, adding thousands of extra beds and ICUs for virus patients. A Navy medical ship and other facilities were turned into makeshift hospitals. At the outbreak’s peak in April 2020, there were more than 1,600 new hospitalizations a day citywide. In August of this year, when infections in Japan surged with the spread of the delta variant, Japan’s hospital systems were quickly declared “stretched thin,” even though it has had far fewer COVID-19 cases than the U.S., Europe and some other Asian and South American countries. In early September, more than 134,000 people were sick with the virus at home, according to Health Ministry records. About 18,000 Japanese have died of COVID-19-related deaths in a population of 126 million. No one knows exactly how many died at home, though the National Police Agency, which tracks deaths, said 951 people have died at home since March 2020, with 250 of them in August 2021 alone. Shigeru Omi, a top government adviser on the coronavirus and head of the Japan Community Health Care Organization, or JCHO, has urged the government to set up emergency field hospitals, specifically to avoid deaths from “jitaku ryoyo.” Japan’s health care system is dominated by small, private hospitals and clinics, and few inpatient facilities are equipped to handle infectious diseases. Many beds are occupied by psychiatric patients and by the chronically ill and elderly, and there are relatively few doctors, intensive care specialists and nurses. In some places, local authorities arranged for such hospitals to accept patients who were no longer infectious and rehabilitating from serious illness after they were treated at larger hospitals. But overall, caseloads vastly outnumbered the beds available for critical care. The JCHO runs 57 of Japan’s biggest hospitals. All are heavily subsidized by taxpayer money. The Health Ministry said it provided up to 100,000 yen ($900) per bed for COVID-19 patients. In October, JCHO said it had prepared 972 beds nationwide for virus patients, or fewer than 7% of its more than 14,000 overall beds, though in August it temporarily made room for about 1,800 patients. JCHO declined to comment on Kishida’s call for providing thousands more beds. Dr. Takanori Yamamoto, a critical care physician at Nagoya University, believes hospital care needs to be restructured to focus on seriously ill patients in designated facilities, instead of spreading them across small hospitals that each have a handful of ICU beds. Resources were improperly managed, including widespread hospitalizations of people who didn’t need it, he said. Public health bureaus are designed for research and are ill-suited to be “gatekeepers” for doling out COVID-19 care, he added. The problems are deeply rooted in a decades-old system, and Yamamoto worries that even if Japan manages to ride out this pandemic, it will be unprepared for the next one. “No other nation turned away patients like this, even countries that had far more cases. The idea of doctors not seeing patients should be out of the question. If you are a doctor, you have to take care of the sick,” Yamamoto said. “Japan has done nothing. There has been no leadership,” he said. The time to act is now, before another wave of coronavirus infections hits, said Dr. Kenji Shibuya, research director at the Tokyo Foundation for Policy Research, an independent think tank. “They didn’t act before, even though they knew it’s coming,” said Shibuya, who has experience working in Britain. “It is about a lack of commitment, lack of will, lack of passion to make a change at a time of crisis,” he said. Back in August, Yuko Nishizato, co-founder of Takada’s group, pleaded with hospitals for her 73-year-old father to be admitted. But he died after testing positive for COVID-19 without ever getting treatment, apart from medication for a fever. Phone records show he repeatedly called the local public health center right up to his death. It breaks her heart to know all he got were recordings. “I wanted him to live to see his grandchildren. I wanted him to see a more grown-up me,” Nishizato said. “There are so many who have suffered the same way, and I don’t understand why.” —- Follow AP’s coronavirus coverage at: https://apnews.com/hub/coronavirus-pandemic ___ Yuri Kageyama is on Twitter https://twitter.com/yurikageyama AP NEWS Top Stories Video Contact Us Cookie Settings Download AP NEWS Connect with the definitive source for global and local news More from AP ap.org AP Insights AP Definitive Source Blog AP Images Spotlight AP Explore AP Books Follow AP The Associated Press About Contact Customer Support Careers Terms & Conditions Privacy All contents © copyright 2021 The Associated Press. All rights reserved.      \n",
            "['AP NEWS Sections U.S. News World News Politics Sports Entertainment Oddities Lifestyle Health Science Business Technology Photography Religion Travel Press Releases Science Technology Business U.S. News World News Politics Entertainment Sports Oddities Lifestyle Health Photography Videos AP RADIO Update hourly Sections U.S. News World News Politics Sports Entertainment Oddities Lifestyle Health Science Business Technology Photography Religion Travel Press Releases Trending News Climate Coronavirus pandemic Kyle Rittenhouse Ahmaud Arbery AP Top 25 College Football Poll Search ADVERTISEMENT https://apnews.com/article/coronavirus-pandemic-health-vancouver-washington-e544622bc8e602fbe2d3d6ac63d60034 Click to copy https://apnews.com/article/coronavirus-pandemic-health-vancouver-washington-e544622bc8e602fbe2d3d6ac63d60034 Click to copy Related topics Coronavirus pandemic Health Vancouver Washington About 25 inmates COVID-19 positive at SW Washington jail November 23, 2021 GMT VANCOUVER, Wash. (AP) — About two dozen people lodged in a southwest Washington jail have tested positive for COVID-19.', 'Clark County Jail Chief Phil Sample estimated as of Monday morning that between 20 to 25 inmates tested positive out of a facility population of about 340.', 'That means about 7% of the in-custody population tested positive, The Columbian reported .', 'Sample said staff has isolated the pods with people who have tested positive and that medical staff is checking on them often, if not daily.', 'The case count Monday was the highest since Sample took over as jail chief in July, he said.', 'The jail saw an outbreak in the late fall of 2020, with 44 inmates testing positive for COVID-19 by early December.', 'People in custody are screened for COVID-19 before being booked and they wear masks, according to Sample.', 'He said they’ve been following Clark County Public Health and the Centers for Disease Control and Prevention protocol.', 'No staff members have tested positive, Sample said.', 'AP NEWS Top Stories Video Contact Us Cookie Settings Download AP NEWS Connect with the definitive source for global and local news More from AP ap.org AP Insights AP Definitive Source Blog AP Images Spotlight AP Explore AP Books Follow AP The Associated Press About Contact Customer Support Careers Terms & Conditions Privacy All contents © copyright 2021 The Associated Press.', 'All rights reserved.']\n",
            "AP NEWS Sections U.S. News World News Politics Sports Entertainment Oddities Lifestyle Health Science Business Technology Photography Religion Travel Press Releases Science Technology Business U.S. News World News Politics Entertainment Sports Oddities Lifestyle Health Photography Videos AP RADIO Update hourly Sections U.S. News World News Politics Sports Entertainment Oddities Lifestyle Health Science Business Technology Photography Religion Travel Press Releases Trending News Climate Coronavirus pandemic Kyle Rittenhouse Ahmaud Arbery AP Top 25 College Football Poll Search ADVERTISEMENT https://apnews.com/article/coronavirus-pandemic-health-vancouver-washington-e544622bc8e602fbe2d3d6ac63d60034 Click to copy https://apnews.com/article/coronavirus-pandemic-health-vancouver-washington-e544622bc8e602fbe2d3d6ac63d60034 Click to copy Related topics Coronavirus pandemic Health Vancouver Washington About 25 inmates COVID-19 positive at SW Washington jail November 23, 2021 GMT VANCOUVER, Wash. (AP) — About two dozen people lodged in a southwest Washington jail have tested positive for COVID-19. Clark County Jail Chief Phil Sample estimated as of Monday morning that between 20 to 25 inmates tested positive out of a facility population of about 340. That means about 7% of the in-custody population tested positive, The Columbian reported . Sample said staff has isolated the pods with people who have tested positive and that medical staff is checking on them often, if not daily. The case count Monday was the highest since Sample took over as jail chief in July, he said. The jail saw an outbreak in the late fall of 2020, with 44 inmates testing positive for COVID-19 by early December. People in custody are screened for COVID-19 before being booked and they wear masks, according to Sample. He said they’ve been following Clark County Public Health and the Centers for Disease Control and Prevention protocol. No staff members have tested positive, Sample said. AP NEWS Top Stories Video Contact Us Cookie Settings Download AP NEWS Connect with the definitive source for global and local news More from AP ap.org AP Insights AP Definitive Source Blog AP Images Spotlight AP Explore AP Books Follow AP The Associated Press About Contact Customer Support Careers Terms & Conditions Privacy All contents © copyright 2021 The Associated Press. All rights reserved.      \n",
            "['AP NEWS Sections U.S. News World News Politics Sports Entertainment Oddities Lifestyle Health Science Business Technology Photography Religion Travel Press Releases Science Technology Business U.S. News World News Politics Entertainment Sports Oddities Lifestyle Health Photography Videos AP RADIO Update hourly Sections U.S. News World News Politics Sports Entertainment Oddities Lifestyle Health Science Business Technology Photography Religion Travel Press Releases Trending News Climate Coronavirus pandemic Kyle Rittenhouse Ahmaud Arbery AP Top 25 College Football Poll Search ADVERTISEMENT https://apnews.com/article/europe-coronavirus-vaccinated-vs-unvaccinated-eca483dc933075818334c74de26fb9c0 Click to copy https://apnews.com/article/europe-coronavirus-vaccinated-vs-unvaccinated-eca483dc933075818334c74de26fb9c0 Click to copy Related topics Coronavirus pandemic Lifestyle Health Pandemics COVID-19 pandemic Holidays Austria Europe Christmas AP Top News World News Europe’s COVID crisis pits vaccinated against unvaccinated By RAF CASERT and KAREL JANICEK November 20, 2021 GMT 1 of 20 FILE - Funeral house employees drag a coffin on a trolley as they arrive at the University Emergency Hospital morgue to take a COVID-19 victim for burial, in Bucharest, Romania, Monday, Nov. 8, 2021.', 'This was supposed to be the Christmas in Europe where family and friends could once again embrace holiday festivities and one another.', 'Instead, the continent is the global epicenter of the COVID-19 pandemic as cases soar to record levels in many countries.', 'With infections spiking again despite nearly two years of restrictions, the health crisis increasingly is pitting citizen against citizen — the vaccinated against the unvaccinated.', '(AP Photo/Vadim Ghirda, File) 1 of 20 FILE - Funeral house employees drag a coffin on a trolley as they arrive at the University Emergency Hospital morgue to take a COVID-19 victim for burial, in Bucharest, Romania, Monday, Nov. 8, 2021.', 'This was supposed to be the Christmas in Europe where family and friends could once again embrace holiday festivities and one another.', 'Instead, the continent is the global epicenter of the COVID-19 pandemic as cases soar to record levels in many countries.', 'With infections spiking again despite nearly two years of restrictions, the health crisis increasingly is pitting citizen against citizen — the vaccinated against the unvaccinated.', '(AP Photo/Vadim Ghirda, File) BRUSSELS (AP) — This was supposed to be the Christmas in Europe where family and friends could once again embrace holiday festivities and one another.', 'Instead, the continent is the global epicenter of the COVID-19 pandemic as cases soar to record levels in many countries.', 'With infections spiking again despite nearly two years of restrictions, the health crisis increasingly is pitting citizen against citizen — the vaccinated against the unvaccinated.', 'Governments desperate to shield overburdened healthcare systems are imposing rules that limit choices for the unvaccinated in the hope that doing so will drive up rates of vaccinations.', 'Austria on Friday went a step further, making vaccinations mandatory as of Feb. 1.', '“For a long time, maybe too long, I and others thought that it must be possible to convince people in Austria, to convince them to get vaccinated voluntarily,” Austrian Chancellor Alexander Schallenberg said.', 'ADVERTISEMENT He called the move “our only way to break out of this vicious cycle of viral waves and lockdown discussions for good.” While Austria so far stands alone in the European Union in making vaccinations mandatory, more and more governments are clamping down.', 'Starting Monday, Slovakia is banning people who haven’t been vaccinated from all nonessential stores and shopping malls.', 'They also will not be allowed to attend any public event or gathering and will be required to test twice a week just to go to work.', '“A merry Christmas does not mean a Christmas without COVID-19,” warned Prime Minister Eduard Heger.', '“For that to happen, Slovakia would need to have a completely different vaccination rate.” He called the measures “a lockdown for the unvaccinated.” Slovakia, where just 45.3% of the 5.5 million population is fully vaccinated, reported a record 8,342 new virus cases on Tuesday.', 'It is not only nations of central and eastern Europe that are suffering anew.', 'Wealthy nations in the west also are being hit hard and imposing restrictions on their populations once again.', '“It is really, absolutely, time to take action,” German Chancellor Angela Merkel said.', 'With a vaccination rate of 67.5%, her nation is now considering mandatory vaccinations for many health professionals.', '“All of Germany is one big outbreak,” Lothar Wieler, head of Germany’s disease control agency, told reporters Friday.', '“This is a nationwide state of emergency.', 'We need to pull the emergency brake.” Greece, too, is targeting the unvaccinated.', 'Prime Minister Kyriakos Mitsotakis announced a battery of new restrictions late Thursday for the unvaccinated, keeping them out of venues including bars, restaurants, cinemas, theaters, museums and gyms, even if they have tested negative.', '“It is an immediate act of protection and, of course, an indirect urge to be vaccinated,” Mitsotakis said.', 'ADVERTISEMENT The restrictions enrage Clare Daly, an Irish EU legislator who is a member of the European parliament’s civil liberties and justice committee.', 'She argues that nations are trampling individual rights.', '“In a whole number of cases, member states are excluding people from their ability to go to work,” Daly said, calling Austria’s restrictions on the unvaccinated that preceded its decision Friday to impose a full lockdown “a frightening scenario.” Even in Ireland, where 75.9 % of the population are fully vaccinated, she feels a backlash against holdouts.', '“There’s almost a sort of hate speech being whipped up against the unvaccinated,” she said.', 'The world has had a history of mandatory vaccines in many nations for diseases such as smallpox and polio.', 'Yet despite a global COVID-19 death toll exceeding 5 million, despite overwhelming medical evidence that vaccines highly protect against death or serious illness from COVID-19 and slow the pandemic’s spread, opposition to vaccinations remains stubbornly strong among parts of the population.', 'Some 10,000 people, chanting “freedom, freedom,” gathered in Prague this week to protest Czech government restrictions imposed on the unvaccinated.', '“No single individual freedom is absolute,” countered Professor Paul De Grauwe of the London School of Economics.', '“The freedom not to be vaccinated needs to be limited to guarantee the freedom of others to enjoy good health,” he wrote for the liberal think tank Liberales.', 'That principle is now turning friends away from each other and splitting families across European nations.', 'Birgitte Schoenmakers, a general practitioner and professor at Leuven University, sees it on an almost daily basis.', '“It has turned into a battle between the people,” she said.', 'She sees political conflicts whipped up by people willfully spreading conspiracy theories, but also intensely human stories.', 'One of her patients has been locked out of the home of her parents because she dreads being vaccinated.', 'Schoemakers said that while authorities had long baulked at the idea of mandatory vaccinations, the highly infectious delta variant is changing minds.', '“To make a U-turn on this is incredibly difficult,” she said.', 'Spiking infections and measures to rein them in are combining to usher in a second straight grim holiday season in Europe.', 'Leuven has already canceled its Christmas market, while in nearby Brussels a 60-foot Christmas tree was placed in the center of the city’s stunning Grand Place on Thursday but a decision on whether the Belgian capital’s festive market can go ahead will depend on the development of the virus surge.', 'Paul Vierendeels, who donated the tree, hopes for a return to a semblance of a traditional Christmas.', '“We are glad to see they are making the effort to put up the tree, decorate it.', 'It is a start,” he said.', '“After almost two difficult years, I think it is a good thing that some things, more normal in life, are taking place again.” ___ Follow all AP stories about the pandemic at https://apnews.com/hub/coronavirus-pandemic.', 'AP NEWS Top Stories Video Contact Us Cookie Settings Download AP NEWS Connect with the definitive source for global and local news More from AP ap.org AP Insights AP Definitive Source Blog AP Images Spotlight AP Explore AP Books Follow AP The Associated Press About Contact Customer Support Careers Terms & Conditions Privacy All contents © copyright 2021 The Associated Press.', 'All rights reserved.']\n",
            "AP NEWS Sections U.S. News World News Politics Sports Entertainment Oddities Lifestyle Health Science Business Technology Photography Religion Travel Press Releases Science Technology Business U.S. News World News Politics Entertainment Sports Oddities Lifestyle Health Photography Videos AP RADIO Update hourly Sections U.S. News World News Politics Sports Entertainment Oddities Lifestyle Health Science Business Technology Photography Religion Travel Press Releases Trending News Climate Coronavirus pandemic Kyle Rittenhouse Ahmaud Arbery AP Top 25 College Football Poll Search ADVERTISEMENT https://apnews.com/article/europe-coronavirus-vaccinated-vs-unvaccinated-eca483dc933075818334c74de26fb9c0 Click to copy https://apnews.com/article/europe-coronavirus-vaccinated-vs-unvaccinated-eca483dc933075818334c74de26fb9c0 Click to copy Related topics Coronavirus pandemic Lifestyle Health Pandemics COVID-19 pandemic Holidays Austria Europe Christmas AP Top News World News Europe’s COVID crisis pits vaccinated against unvaccinated By RAF CASERT and KAREL JANICEK November 20, 2021 GMT 1 of 20 FILE - Funeral house employees drag a coffin on a trolley as they arrive at the University Emergency Hospital morgue to take a COVID-19 victim for burial, in Bucharest, Romania, Monday, Nov. 8, 2021. This was supposed to be the Christmas in Europe where family and friends could once again embrace holiday festivities and one another. Instead, the continent is the global epicenter of the COVID-19 pandemic as cases soar to record levels in many countries. With infections spiking again despite nearly two years of restrictions, the health crisis increasingly is pitting citizen against citizen — the vaccinated against the unvaccinated. (AP Photo/Vadim Ghirda, File) 1 of 20 FILE - Funeral house employees drag a coffin on a trolley as they arrive at the University Emergency Hospital morgue to take a COVID-19 victim for burial, in Bucharest, Romania, Monday, Nov. 8, 2021. This was supposed to be the Christmas in Europe where family and friends could once again embrace holiday festivities and one another. Instead, the continent is the global epicenter of the COVID-19 pandemic as cases soar to record levels in many countries. With infections spiking again despite nearly two years of restrictions, the health crisis increasingly is pitting citizen against citizen — the vaccinated against the unvaccinated. (AP Photo/Vadim Ghirda, File) BRUSSELS (AP) — This was supposed to be the Christmas in Europe where family and friends could once again embrace holiday festivities and one another. Instead, the continent is the global epicenter of the COVID-19 pandemic as cases soar to record levels in many countries. With infections spiking again despite nearly two years of restrictions, the health crisis increasingly is pitting citizen against citizen — the vaccinated against the unvaccinated. Governments desperate to shield overburdened healthcare systems are imposing rules that limit choices for the unvaccinated in the hope that doing so will drive up rates of vaccinations. Austria on Friday went a step further, making vaccinations mandatory as of Feb. 1. “For a long time, maybe too long, I and others thought that it must be possible to convince people in Austria, to convince them to get vaccinated voluntarily,” Austrian Chancellor Alexander Schallenberg said. ADVERTISEMENT He called the move “our only way to break out of this vicious cycle of viral waves and lockdown discussions for good.” While Austria so far stands alone in the European Union in making vaccinations mandatory, more and more governments are clamping down. Starting Monday, Slovakia is banning people who haven’t been vaccinated from all nonessential stores and shopping malls. They also will not be allowed to attend any public event or gathering and will be required to test twice a week just to go to work. “A merry Christmas does not mean a Christmas without COVID-19,” warned Prime Minister Eduard Heger. “For that to happen, Slovakia would need to have a completely different vaccination rate.” He called the measures “a lockdown for the unvaccinated.” Slovakia, where just 45.3% of the 5.5 million population is fully vaccinated, reported a record 8,342 new virus cases on Tuesday. It is not only nations of central and eastern Europe that are suffering anew. Wealthy nations in the west also are being hit hard and imposing restrictions on their populations once again. “It is really, absolutely, time to take action,” German Chancellor Angela Merkel said. With a vaccination rate of 67.5%, her nation is now considering mandatory vaccinations for many health professionals. “All of Germany is one big outbreak,” Lothar Wieler, head of Germany’s disease control agency, told reporters Friday. “This is a nationwide state of emergency. We need to pull the emergency brake.” Greece, too, is targeting the unvaccinated. Prime Minister Kyriakos Mitsotakis announced a battery of new restrictions late Thursday for the unvaccinated, keeping them out of venues including bars, restaurants, cinemas, theaters, museums and gyms, even if they have tested negative. “It is an immediate act of protection and, of course, an indirect urge to be vaccinated,” Mitsotakis said. ADVERTISEMENT The restrictions enrage Clare Daly, an Irish EU legislator who is a member of the European parliament’s civil liberties and justice committee. She argues that nations are trampling individual rights. “In a whole number of cases, member states are excluding people from their ability to go to work,” Daly said, calling Austria’s restrictions on the unvaccinated that preceded its decision Friday to impose a full lockdown “a frightening scenario.” Even in Ireland, where 75.9 % of the population are fully vaccinated, she feels a backlash against holdouts. “There’s almost a sort of hate speech being whipped up against the unvaccinated,” she said. The world has had a history of mandatory vaccines in many nations for diseases such as smallpox and polio. Yet despite a global COVID-19 death toll exceeding 5 million, despite overwhelming medical evidence that vaccines highly protect against death or serious illness from COVID-19 and slow the pandemic’s spread, opposition to vaccinations remains stubbornly strong among parts of the population. Some 10,000 people, chanting “freedom, freedom,” gathered in Prague this week to protest Czech government restrictions imposed on the unvaccinated. “No single individual freedom is absolute,” countered Professor Paul De Grauwe of the London School of Economics. “The freedom not to be vaccinated needs to be limited to guarantee the freedom of others to enjoy good health,” he wrote for the liberal think tank Liberales. That principle is now turning friends away from each other and splitting families across European nations. Birgitte Schoenmakers, a general practitioner and professor at Leuven University, sees it on an almost daily basis. “It has turned into a battle between the people,” she said. She sees political conflicts whipped up by people willfully spreading conspiracy theories, but also intensely human stories. One of her patients has been locked out of the home of her parents because she dreads being vaccinated. Schoemakers said that while authorities had long baulked at the idea of mandatory vaccinations, the highly infectious delta variant is changing minds. “To make a U-turn on this is incredibly difficult,” she said. Spiking infections and measures to rein them in are combining to usher in a second straight grim holiday season in Europe. Leuven has already canceled its Christmas market, while in nearby Brussels a 60-foot Christmas tree was placed in the center of the city’s stunning Grand Place on Thursday but a decision on whether the Belgian capital’s festive market can go ahead will depend on the development of the virus surge. Paul Vierendeels, who donated the tree, hopes for a return to a semblance of a traditional Christmas. “We are glad to see they are making the effort to put up the tree, decorate it. It is a start,” he said. “After almost two difficult years, I think it is a good thing that some things, more normal in life, are taking place again.” ___ Follow all AP stories about the pandemic at https://apnews.com/hub/coronavirus-pandemic. AP NEWS Top Stories Video Contact Us Cookie Settings Download AP NEWS Connect with the definitive source for global and local news More from AP ap.org AP Insights AP Definitive Source Blog AP Images Spotlight AP Explore AP Books Follow AP The Associated Press About Contact Customer Support Careers Terms & Conditions Privacy All contents © copyright 2021 The Associated Press. All rights reserved.      \n",
            "['AP NEWS Sections U.S. News World News Politics Sports Entertainment Oddities Lifestyle Health Science Business Technology Photography Religion Travel Press Releases Science Technology Business U.S. News World News Politics Entertainment Sports Oddities Lifestyle Health Photography Videos AP RADIO Update hourly Sections U.S. News World News Politics Sports Entertainment Oddities Lifestyle Health Science Business Technology Photography Religion Travel Press Releases Trending News Climate Coronavirus pandemic Kyle Rittenhouse Ahmaud Arbery AP Top 25 College Football Poll Search ADVERTISEMENT https://apnews.com/article/coronavirus-pandemic-health-business-brussels-europe-8b2fb4eb4992b54cd544fc8fa5e19f26 Click to copy https://apnews.com/article/coronavirus-pandemic-health-business-brussels-europe-8b2fb4eb4992b54cd544fc8fa5e19f26 Click to copy Related topics Coronavirus pandemic Health Business Europe Belgium Brussels Arrests Tens of thousands protest Belgium’s tighter COVID-19 rules By RAF CASERT November 22, 2021 GMT 1 of 12 Riot police uses a water canon against protestors during a demonstration against the reinforced measures of the Belgium government to counter the latest spike of the coronavirus in Brussels, Belgium, Sunday, Nov. 21, 2021.', 'Many among them also protested against the strong advice to get vaccinated and any moves to impose mandatory shots.', '(AP Photo/Olivier Matthys) 1 of 12 Riot police uses a water canon against protestors during a demonstration against the reinforced measures of the Belgium government to counter the latest spike of the coronavirus in Brussels, Belgium, Sunday, Nov. 21, 2021.', 'Many among them also protested against the strong advice to get vaccinated and any moves to impose mandatory shots.', '(AP Photo/Olivier Matthys) BRUSSELS (AP) — Tens of thousands of people demonstrated through central Brussels on Sunday to protest reinforced COVID-19 restrictions imposed by the Belgian government to counter the latest spike in coronavirus cases.', 'Many among the police estimate of 35,000 at the rally had already left for home when the demonstration descended into violence as several hundred people started pelting police, smashing cars and setting garbage bins ablaze.', 'Police, responded with tear gas and water cannons and sought to restore order as dusk settled on the Belgian capital.', 'Three police officials and one demonstrator were injured in the clashes.', 'In addition, 42 protesters were detained and two were arrested and charged in the violent spree that followed the march, said police spokesperson Ilse Vande Keere.', 'The marchers came to protest the government’s strong advice to get vaccinated and any possible moves to impose mandatory shots.', 'Shouting “Freedom!', 'Freedom!', 'Freedom!” and singing the anti-fascist song “Bella Ciao,” protesters lined up behind a huge banner saying “Together for Freedom” and marched to the European Union headquarters.', 'Amid the crowd, the signs varied from far-right insignia to the rainbow flags of the LGBT community.', 'The World Health Organization said last week that Europe was the hot spot of the pandemic right now, the only region in which COVID-19 deaths were rising.', 'The autumn surge of infections is overwhelming hospitals in many Central and Eastern European nations, including Ukraine , Russia , Romania , the Czech Republic and Slovakia.', 'Over the past several days, there have been many anti-vaccination marches in European nations as one government after another tightened measures.', 'Dutch police arrested more than 30 people during unrest in The Hague and other towns in the Netherlands on Saturday, following much worse violence the previous night.', 'Austria is going into a 10-day national lockdown on Monday for everyone after first imposing a lockdown on the unvaccinated.', 'Christmas markets in Vienna were packed Sunday with locals and tourists taking in the holiday sights before shops and food stalls are forced to close.', '___ Follow AP coverage of the pandemic at https://apnews.com/hub/coronavirus-pandemic AP NEWS Top Stories Video Contact Us Cookie Settings Download AP NEWS Connect with the definitive source for global and local news More from AP ap.org AP Insights AP Definitive Source Blog AP Images Spotlight AP Explore AP Books Follow AP The Associated Press About Contact Customer Support Careers Terms & Conditions Privacy All contents © copyright 2021 The Associated Press.', 'All rights reserved.']\n",
            "AP NEWS Sections U.S. News World News Politics Sports Entertainment Oddities Lifestyle Health Science Business Technology Photography Religion Travel Press Releases Science Technology Business U.S. News World News Politics Entertainment Sports Oddities Lifestyle Health Photography Videos AP RADIO Update hourly Sections U.S. News World News Politics Sports Entertainment Oddities Lifestyle Health Science Business Technology Photography Religion Travel Press Releases Trending News Climate Coronavirus pandemic Kyle Rittenhouse Ahmaud Arbery AP Top 25 College Football Poll Search ADVERTISEMENT https://apnews.com/article/coronavirus-pandemic-health-business-brussels-europe-8b2fb4eb4992b54cd544fc8fa5e19f26 Click to copy https://apnews.com/article/coronavirus-pandemic-health-business-brussels-europe-8b2fb4eb4992b54cd544fc8fa5e19f26 Click to copy Related topics Coronavirus pandemic Health Business Europe Belgium Brussels Arrests Tens of thousands protest Belgium’s tighter COVID-19 rules By RAF CASERT November 22, 2021 GMT 1 of 12 Riot police uses a water canon against protestors during a demonstration against the reinforced measures of the Belgium government to counter the latest spike of the coronavirus in Brussels, Belgium, Sunday, Nov. 21, 2021. Many among them also protested against the strong advice to get vaccinated and any moves to impose mandatory shots. (AP Photo/Olivier Matthys) 1 of 12 Riot police uses a water canon against protestors during a demonstration against the reinforced measures of the Belgium government to counter the latest spike of the coronavirus in Brussels, Belgium, Sunday, Nov. 21, 2021. Many among them also protested against the strong advice to get vaccinated and any moves to impose mandatory shots. (AP Photo/Olivier Matthys) BRUSSELS (AP) — Tens of thousands of people demonstrated through central Brussels on Sunday to protest reinforced COVID-19 restrictions imposed by the Belgian government to counter the latest spike in coronavirus cases. Many among the police estimate of 35,000 at the rally had already left for home when the demonstration descended into violence as several hundred people started pelting police, smashing cars and setting garbage bins ablaze. Police, responded with tear gas and water cannons and sought to restore order as dusk settled on the Belgian capital. Three police officials and one demonstrator were injured in the clashes. In addition, 42 protesters were detained and two were arrested and charged in the violent spree that followed the march, said police spokesperson Ilse Vande Keere. The marchers came to protest the government’s strong advice to get vaccinated and any possible moves to impose mandatory shots. Shouting “Freedom! Freedom! Freedom!” and singing the anti-fascist song “Bella Ciao,” protesters lined up behind a huge banner saying “Together for Freedom” and marched to the European Union headquarters. Amid the crowd, the signs varied from far-right insignia to the rainbow flags of the LGBT community. The World Health Organization said last week that Europe was the hot spot of the pandemic right now, the only region in which COVID-19 deaths were rising. The autumn surge of infections is overwhelming hospitals in many Central and Eastern European nations, including Ukraine , Russia , Romania , the Czech Republic and Slovakia. Over the past several days, there have been many anti-vaccination marches in European nations as one government after another tightened measures. Dutch police arrested more than 30 people during unrest in The Hague and other towns in the Netherlands on Saturday, following much worse violence the previous night.  Austria is going into a 10-day national lockdown on Monday for everyone after first imposing a lockdown on the unvaccinated. Christmas markets in Vienna were packed Sunday with locals and tourists taking in the holiday sights before shops and food stalls are forced to close. ___ Follow AP coverage of the pandemic at https://apnews.com/hub/coronavirus-pandemic AP NEWS Top Stories Video Contact Us Cookie Settings Download AP NEWS Connect with the definitive source for global and local news More from AP ap.org AP Insights AP Definitive Source Blog AP Images Spotlight AP Explore AP Books Follow AP The Associated Press About Contact Customer Support Careers Terms & Conditions Privacy All contents © copyright 2021 The Associated Press. All rights reserved.      \n"
          ]
        }
      ]
    },
    {
      "cell_type": "code",
      "metadata": {
        "colab": {
          "base_uri": "https://localhost:8080/"
        },
        "id": "Br0df3fPYtQO",
        "outputId": "174c28e1-9c8f-40a3-a221-da562aa19e87"
      },
      "source": [
        "!pip install transformers"
      ],
      "execution_count": 4,
      "outputs": [
        {
          "output_type": "stream",
          "name": "stdout",
          "text": [
            "Collecting transformers\n",
            "  Downloading transformers-4.12.5-py3-none-any.whl (3.1 MB)\n",
            "\u001b[K     |████████████████████████████████| 3.1 MB 4.2 MB/s \n",
            "\u001b[?25hRequirement already satisfied: tqdm>=4.27 in /usr/local/lib/python3.7/dist-packages (from transformers) (4.62.3)\n",
            "Collecting sacremoses\n",
            "  Downloading sacremoses-0.0.46-py3-none-any.whl (895 kB)\n",
            "\u001b[K     |████████████████████████████████| 895 kB 48.6 MB/s \n",
            "\u001b[?25hRequirement already satisfied: packaging>=20.0 in /usr/local/lib/python3.7/dist-packages (from transformers) (21.3)\n",
            "Collecting tokenizers<0.11,>=0.10.1\n",
            "  Downloading tokenizers-0.10.3-cp37-cp37m-manylinux_2_5_x86_64.manylinux1_x86_64.manylinux_2_12_x86_64.manylinux2010_x86_64.whl (3.3 MB)\n",
            "\u001b[K     |████████████████████████████████| 3.3 MB 34.5 MB/s \n",
            "\u001b[?25hRequirement already satisfied: regex!=2019.12.17 in /usr/local/lib/python3.7/dist-packages (from transformers) (2019.12.20)\n",
            "Requirement already satisfied: numpy>=1.17 in /usr/local/lib/python3.7/dist-packages (from transformers) (1.19.5)\n",
            "Requirement already satisfied: importlib-metadata in /usr/local/lib/python3.7/dist-packages (from transformers) (4.8.2)\n",
            "Requirement already satisfied: filelock in /usr/local/lib/python3.7/dist-packages (from transformers) (3.4.0)\n",
            "Collecting huggingface-hub<1.0,>=0.1.0\n",
            "  Downloading huggingface_hub-0.1.2-py3-none-any.whl (59 kB)\n",
            "\u001b[K     |████████████████████████████████| 59 kB 5.2 MB/s \n",
            "\u001b[?25hCollecting pyyaml>=5.1\n",
            "  Downloading PyYAML-6.0-cp37-cp37m-manylinux_2_5_x86_64.manylinux1_x86_64.manylinux_2_12_x86_64.manylinux2010_x86_64.whl (596 kB)\n",
            "\u001b[K     |████████████████████████████████| 596 kB 45.7 MB/s \n",
            "\u001b[?25hRequirement already satisfied: requests in /usr/local/lib/python3.7/dist-packages (from transformers) (2.23.0)\n",
            "Requirement already satisfied: typing-extensions>=3.7.4.3 in /usr/local/lib/python3.7/dist-packages (from huggingface-hub<1.0,>=0.1.0->transformers) (3.10.0.2)\n",
            "Requirement already satisfied: pyparsing!=3.0.5,>=2.0.2 in /usr/local/lib/python3.7/dist-packages (from packaging>=20.0->transformers) (3.0.6)\n",
            "Requirement already satisfied: zipp>=0.5 in /usr/local/lib/python3.7/dist-packages (from importlib-metadata->transformers) (3.6.0)\n",
            "Requirement already satisfied: idna<3,>=2.5 in /usr/local/lib/python3.7/dist-packages (from requests->transformers) (2.10)\n",
            "Requirement already satisfied: certifi>=2017.4.17 in /usr/local/lib/python3.7/dist-packages (from requests->transformers) (2021.10.8)\n",
            "Requirement already satisfied: chardet<4,>=3.0.2 in /usr/local/lib/python3.7/dist-packages (from requests->transformers) (3.0.4)\n",
            "Requirement already satisfied: urllib3!=1.25.0,!=1.25.1,<1.26,>=1.21.1 in /usr/local/lib/python3.7/dist-packages (from requests->transformers) (1.24.3)\n",
            "Requirement already satisfied: click in /usr/local/lib/python3.7/dist-packages (from sacremoses->transformers) (7.1.2)\n",
            "Requirement already satisfied: joblib in /usr/local/lib/python3.7/dist-packages (from sacremoses->transformers) (1.1.0)\n",
            "Requirement already satisfied: six in /usr/local/lib/python3.7/dist-packages (from sacremoses->transformers) (1.15.0)\n",
            "Installing collected packages: pyyaml, tokenizers, sacremoses, huggingface-hub, transformers\n",
            "  Attempting uninstall: pyyaml\n",
            "    Found existing installation: PyYAML 3.13\n",
            "    Uninstalling PyYAML-3.13:\n",
            "      Successfully uninstalled PyYAML-3.13\n",
            "Successfully installed huggingface-hub-0.1.2 pyyaml-6.0 sacremoses-0.0.46 tokenizers-0.10.3 transformers-4.12.5\n"
          ]
        }
      ]
    },
    {
      "cell_type": "code",
      "metadata": {
        "id": "9cWR59rjY2VV"
      },
      "source": [
        "from transformers import pipeline\n",
        "import os"
      ],
      "execution_count": 5,
      "outputs": []
    },
    {
      "cell_type": "code",
      "metadata": {
        "id": "wf13pzJAY4ql"
      },
      "source": [
        "os.environ[\"CUDA_VISIBLE_DEVICES\"] = \"0\""
      ],
      "execution_count": 6,
      "outputs": []
    },
    {
      "cell_type": "code",
      "metadata": {
        "colab": {
          "base_uri": "https://localhost:8080/",
          "height": 194,
          "referenced_widgets": [
            "31cf32dccefd4786b1fca21a307f11c0",
            "a37602048eeb44239cd09fb93312e8e9",
            "6ff372160c9f4055b5142b748bfe6e6c",
            "a267a4f13c2845b99539130454c62320",
            "2629535b645a4127b975531922a41695",
            "7eace385c5af462ab028ad225b82b009",
            "2d968e48e7794a0f9bb93db5cd31dfc0",
            "2aba513671644cc2bd690eb35e5c2a99",
            "451d8a51322b4a60a8a060917052b3ef",
            "6328fd738201487e8ae36c91a97ebd38",
            "c50a04544da54b4c8e88ab1807c0ef0d",
            "9da800d23f4044a193b401fffbb6796b",
            "fad26c77a30d4655bc45e4320c295ba8",
            "ff086217bfb44fc68edf95bb8f010d3e",
            "c26351f5d8d44981931fefa521d35ade",
            "2fe74a45934e442b900143ff5607acca",
            "b19882d4ac3f4df8bb7bc6c62fe52384",
            "720dc017103f4f0aa911983b84f1b89f",
            "66e3f4ec57d74f748cf1b6676953d03f",
            "4dc803390f0049e985847b5de240d2f8",
            "680da504fcea4b77a2c784849f97eab4",
            "7f46fc61604c42ffa8618897b654f853",
            "9fc428c2b4684c4f9607186654586b4a",
            "4f0ddc72d612418b9a0a9d6b00aff2df",
            "91bf44446d9c4436a6e043676e0d3783",
            "da0eb837928a46e2b93c440156597f37",
            "4a1e81e68a6145f88dd47d65a9a99d91",
            "78963aece3684e2397c3721c9f253ece",
            "7d0ed5ff1cfc47e893519a722533ab34",
            "c6ce0758aa6746d6b8c355040aa067b5",
            "840347252de746be8de6f2f40f8ff5d7",
            "75286cfbe41d41ccbaa99a1a4c7aa57f",
            "e78139f2809d46f5bdc7b2570023360b",
            "75ff387e08ce44c196aa44ddd79bf2a5",
            "2b39e5588b464fe5a86947004a637dc7",
            "4b289eb7bb0b40f78391e44b3df3ffad",
            "075fa8795bba4448ab677af3d66979a0",
            "0216cff13e644ccd979dc56ff1262fbf",
            "bb53e3c697954aeeb9711f7ad67c0d06",
            "7d1fd8695d074c2da37fa343f4f167dd",
            "dda494eeb2df4b9e921deb511f507dd4",
            "738a1400232d43e4af77c52f77cdc540",
            "5f303036a83a4f488303a20b48c821df",
            "631deafd0033486ab8a86afa60faa3c5",
            "1c480bc6dfb64371bb2317faba49bad0",
            "6b9cdbf105224dbbb544d06edbdb5cb2",
            "9f9b994412b94684bedf1eefd43465e2",
            "595e638ba1774a418b23cdea931e5626",
            "22bc443684f74987b37ab36fe940123b",
            "56bd0bac18474d4eab75fbf8b9615324",
            "498e00e28a6940449a74f17baa6658f1",
            "aaafa520eedf4503b484346b8d4ce7a7",
            "8b82b137149f4aeab61700603d2f7cbf",
            "fd120a2eb9744eceb1c9d5f32df8758a",
            "c1b4d8bd19884ec4b7a813d73e355e77"
          ]
        },
        "id": "OgMXRLe3Y6ug",
        "outputId": "3a8cf658-ff9e-468b-a2ba-7d174b1dd8e8"
      },
      "source": [
        "summarizer = pipeline(\"summarization\")"
      ],
      "execution_count": 7,
      "outputs": [
        {
          "output_type": "stream",
          "name": "stderr",
          "text": [
            "No model was supplied, defaulted to sshleifer/distilbart-cnn-12-6 (https://huggingface.co/sshleifer/distilbart-cnn-12-6)\n"
          ]
        },
        {
          "output_type": "display_data",
          "data": {
            "application/vnd.jupyter.widget-view+json": {
              "model_id": "31cf32dccefd4786b1fca21a307f11c0",
              "version_minor": 0,
              "version_major": 2
            },
            "text/plain": [
              "Downloading:   0%|          | 0.00/1.76k [00:00<?, ?B/s]"
            ]
          },
          "metadata": {}
        },
        {
          "output_type": "display_data",
          "data": {
            "application/vnd.jupyter.widget-view+json": {
              "model_id": "9da800d23f4044a193b401fffbb6796b",
              "version_minor": 0,
              "version_major": 2
            },
            "text/plain": [
              "Downloading:   0%|          | 0.00/1.14G [00:00<?, ?B/s]"
            ]
          },
          "metadata": {}
        },
        {
          "output_type": "display_data",
          "data": {
            "application/vnd.jupyter.widget-view+json": {
              "model_id": "9fc428c2b4684c4f9607186654586b4a",
              "version_minor": 0,
              "version_major": 2
            },
            "text/plain": [
              "Downloading:   0%|          | 0.00/26.0 [00:00<?, ?B/s]"
            ]
          },
          "metadata": {}
        },
        {
          "output_type": "display_data",
          "data": {
            "application/vnd.jupyter.widget-view+json": {
              "model_id": "75ff387e08ce44c196aa44ddd79bf2a5",
              "version_minor": 0,
              "version_major": 2
            },
            "text/plain": [
              "Downloading:   0%|          | 0.00/878k [00:00<?, ?B/s]"
            ]
          },
          "metadata": {}
        },
        {
          "output_type": "display_data",
          "data": {
            "application/vnd.jupyter.widget-view+json": {
              "model_id": "1c480bc6dfb64371bb2317faba49bad0",
              "version_minor": 0,
              "version_major": 2
            },
            "text/plain": [
              "Downloading:   0%|          | 0.00/446k [00:00<?, ?B/s]"
            ]
          },
          "metadata": {}
        }
      ]
    },
    {
      "cell_type": "code",
      "metadata": {
        "colab": {
          "base_uri": "https://localhost:8080/",
          "height": 234,
          "referenced_widgets": [
            "3b76104241034e01b61db12905b434f4",
            "cc1f1722826442e5af68b415ca23ab67",
            "9bb7e77e65054497806769c5fd1592a3",
            "9087f1b8e8f349d5ad3d7416df48364e",
            "346dc592852c41519146b2a46868c9e8",
            "b42b46c9917f47eb897cef99c441d9d7",
            "bb1abdbb04d849e3b7b2c61c983cfec8",
            "1f42a226237745c58d4aaa4e2f75380a",
            "cbdd31476683416db4bde87afe161297",
            "3c594cea51104b1aa4774777eedcc814",
            "61d65418eccd4bf08540bc5016297cae",
            "bbade5120f9444d6852f825ec6cb41e8",
            "1164a54d62e04ba889b1e5e16710841f",
            "c72b2e7df3574deb8b27ee1ad4e8bc35",
            "33599676e2b84095b3e06a34c1153d83",
            "fabe0a390cc34661b9bfbe5f7875bd84",
            "bafade0479a24fb4b3f6ee9e8fb51057",
            "42efe78c21984399964c274757064759",
            "5d11573003434cb4bebf83597503d075",
            "83383c5b1c64495d99906bcf44d05546",
            "9918736f7a454511a6a978edba65cd76",
            "043aaaa91d1143e49c9edcd390ef0871",
            "4253fc6236bd4bc99804d5ce1e7d0c34",
            "1b73bd5bb44a4902ae9d05298dc6a926",
            "06df8d967fa44eff9ccb0579169b3fa5",
            "c342688dd3a34b5dab56eadd4fc5aefe",
            "99f3deeff0834255abab21a0b897b433",
            "04627d9548ee42a98a5a04f3cb3b2b11",
            "99359fd2b9ce43a899a83ecdf7bd02a0",
            "14de891df1ff4dbd822475f769ebfe6d",
            "1be31f9bed6f490385c5c66d9584d222",
            "e8a6ef6e00034caf9d27d115590e3783",
            "57ed74edd7114d5aa48831fd86fbb69e",
            "3f6bf424eec04301b23d5a358bf3365e",
            "e4b8e29e7f9f49ff8581b0ea86fca1d7",
            "c5efe4e756844c699be8041316c17254",
            "26d27b9cffcc49a29ce64a66adc1e522",
            "42cb839b2de14035aad75591e68958c8",
            "07594f86d6ba44e98e16e38fce60cd58",
            "24c57cf605194950adf095641e5c4e43",
            "fb0023e071b3434d92af03bfcef0e54d",
            "b092f248b049414fa36ccc12e65eaac1",
            "6f4d0b096a004baba387d2f215c481bb",
            "428527dbf74b43aa912c7379511d34a1"
          ]
        },
        "id": "71moMRr3Y83a",
        "outputId": "19677a47-f35d-4579-fe06-09f878a62ad2"
      },
      "source": [
        "summarizer = pipeline(\"summarization\", model=\"t5-base\", tokenizer=\"t5-base\", framework=\"tf\")\n"
      ],
      "execution_count": 8,
      "outputs": [
        {
          "output_type": "display_data",
          "data": {
            "application/vnd.jupyter.widget-view+json": {
              "model_id": "3b76104241034e01b61db12905b434f4",
              "version_minor": 0,
              "version_major": 2
            },
            "text/plain": [
              "Downloading:   0%|          | 0.00/1.17k [00:00<?, ?B/s]"
            ]
          },
          "metadata": {}
        },
        {
          "output_type": "display_data",
          "data": {
            "application/vnd.jupyter.widget-view+json": {
              "model_id": "bbade5120f9444d6852f825ec6cb41e8",
              "version_minor": 0,
              "version_major": 2
            },
            "text/plain": [
              "Downloading:   0%|          | 0.00/851M [00:00<?, ?B/s]"
            ]
          },
          "metadata": {}
        },
        {
          "output_type": "stream",
          "name": "stderr",
          "text": [
            "All model checkpoint layers were used when initializing TFT5ForConditionalGeneration.\n",
            "\n",
            "All the layers of TFT5ForConditionalGeneration were initialized from the model checkpoint at t5-base.\n",
            "If your task is similar to the task the model of the checkpoint was trained on, you can already use TFT5ForConditionalGeneration for predictions without further training.\n"
          ]
        },
        {
          "output_type": "display_data",
          "data": {
            "application/vnd.jupyter.widget-view+json": {
              "model_id": "4253fc6236bd4bc99804d5ce1e7d0c34",
              "version_minor": 0,
              "version_major": 2
            },
            "text/plain": [
              "Downloading:   0%|          | 0.00/773k [00:00<?, ?B/s]"
            ]
          },
          "metadata": {}
        },
        {
          "output_type": "display_data",
          "data": {
            "application/vnd.jupyter.widget-view+json": {
              "model_id": "3f6bf424eec04301b23d5a358bf3365e",
              "version_minor": 0,
              "version_major": 2
            },
            "text/plain": [
              "Downloading:   0%|          | 0.00/1.32M [00:00<?, ?B/s]"
            ]
          },
          "metadata": {}
        }
      ]
    },
    {
      "cell_type": "code",
      "metadata": {
        "id": "QZxzGna5Y-4n"
      },
      "source": [
        "with open('output_file1', 'r') as file:\n",
        "    data = file.read().replace('\\n', '')"
      ],
      "execution_count": 9,
      "outputs": []
    },
    {
      "cell_type": "code",
      "metadata": {
        "id": "yR2PP9vAZBUN"
      },
      "source": [
        "def remove_quotes(mydata):\n",
        "    new_data = mydata.strip('“”')\n",
        "    return new_data\n",
        "text = remove_quotes(data)"
      ],
      "execution_count": 10,
      "outputs": []
    },
    {
      "cell_type": "code",
      "metadata": {
        "id": "mnGhadGkfbzo"
      },
      "source": [
        "def run_summarizartion(filename):\n",
        "  with open(filename, 'r') as file:\n",
        "    data = file.read().replace('\\n', '')\n",
        "  text = remove_quotes(data)\n",
        "  print('extracted text',text)\n",
        "  print('Len of text',text)\n",
        "  text1= text[0:3000]\n",
        "  %%time\n",
        "  summary_text = summarizer(text1, max_length=512, min_length=5, do_sample=False)[0]['summary_text']\n",
        "  print('Summarized Text',summary_text)\n"
      ],
      "execution_count": 11,
      "outputs": []
    },
    {
      "cell_type": "code",
      "metadata": {
        "colab": {
          "base_uri": "https://localhost:8080/"
        },
        "id": "p585Bplwf7ET",
        "outputId": "409f1d15-b4a2-4db0-8853-2088ceaddd84"
      },
      "source": [
        "run_summarizartion('output_file1')"
      ],
      "execution_count": 12,
      "outputs": [
        {
          "output_type": "stream",
          "name": "stderr",
          "text": [
            "Token indices sequence length is longer than the specified maximum sequence length for this model (766 > 512). Running this sequence through the model will result in indexing errors\n"
          ]
        },
        {
          "output_type": "stream",
          "name": "stdout",
          "text": [
            "extracted text AP NEWS Sections U.S. News World News Politics Sports Entertainment Oddities Lifestyle Health Science Business Technology Photography Religion Travel Press Releases Science Technology Business U.S. News World News Politics Entertainment Sports Oddities Lifestyle Health Photography Videos AP RADIO Update hourly Sections U.S. News World News Politics Sports Entertainment Oddities Lifestyle Health Science Business Technology Photography Religion Travel Press Releases Trending News Climate Coronavirus pandemic Kyle Rittenhouse Ahmaud Arbery AP Top 25 College Football Poll Search ADVERTISEMENT https://apnews.com/article/coronavirus-pandemic-vaccines-natural-immunity-285ae319be9c3ea42dd7bb8400ea4888 Click to copy https://apnews.com/article/coronavirus-pandemic-vaccines-natural-immunity-285ae319be9c3ea42dd7bb8400ea4888 Click to copy Related topics Coronavirus pandemic Joe Biden Business Health Florida Coronavirus vaccine Lawsuits GOP embraces natural immunity as substitute for vaccines By ANTHONY IZAGUIRRE November 21, 2021 GMT 1 of 2 Florida Gov.Ron DeSantis speaks to supporters and members of the media before a bill signing Thursday, Nov. 18, 2021, in Brandon, Fla. DeSantis signed a bill that protects employees and their families from coronavirus vaccine and mask mandates.(AP Photo/Chris O'Meara) 1 of 2 Florida Gov.Ron DeSantis speaks to supporters and members of the media before a bill signing Thursday, Nov. 18, 2021, in Brandon, Fla. DeSantis signed a bill that protects employees and their families from coronavirus vaccine and mask mandates.(AP Photo/Chris O'Meara) TALLAHASSEE, Fla. (AP) — Republicans fighting President Joe Biden’s coronavirus vaccine mandates are wielding a new weapon against the White House rules: natural immunity.They contend that people who have recovered from the virus have enough immunity and antibodies to not need COVID-19 vaccines, and the concept has been invoked by Republicans as a sort of stand-in for vaccines.Florida wrote natural immunity into state law this week as GOP lawmakers elsewhere are pushing similar measures to sidestep vaccine mandates.Lawsuits over the mandates have also begun leaning on the idea.Conservative federal lawmakers have implored regulators to consider it when formulating mandates.Scientists acknowledge that people previously infected with COVID-19 have some level of immunity but that vaccines offer a more consistent level of protection.Natural immunity is also far from a one-size-fits-all scenario, making it complicated to enact sweeping exemptions to vaccines.ADVERTISEMENT That’s because how much immunity COVID-19 survivors have depends on how long ago they were infected, how sick they were, and if the virus variant they had is different from mutants circulating now.For example, a person who had a minor case one year ago is much different than a person who had a severe case over the summer when the delta variant was raging through the country.It’s also difficult to reliably test whether someone is protected from future infections.More on the pandemic Kansas to help workers resist Biden's COVID vaccine mandates Kansas GOP lawmakers OK helping workers defy COVID mandates Bidens open holidays with Christmas tree and 'friendsgiving' Hong Kong to allow residents of mainland to vote in election The Centers for Disease Control and Prevention reported in August that COVID-19 survivors who ignored advice to get vaccinated were more than twice as likely to get infected again.A more recent study from the CDC, looking at data from nearly 190 hospitals in nine states, determined that unvaccinated people who had been infected months earlier were five times more likely to get COVID-19 than fully vaccinated people who didn’t have a prior infection.“Infection with this virus, if you survive, you do have some level of protection against getting infected in the future and particularly against getting serious infection in the future,” said Dr. David Dowdy of Johns Hopkins Bloomberg School of Public Health.“It’s important to note though that even those who have been infected in the past get additional protection from being vaccinated.” ADVERTISEMENT Studies also show that COVID-19 survivors who get vaccinated develop extra-strong protection, what’s called “hybrid immunity.” When previously infected person gets a coronavirus vaccine, the shot acts like a booster and revs virus-fighting antibodies to high levels.The combination also strengthens another defensive layer of the immune system, helping create new antibodies that are more likely to withstand future variants.The immunity debate comes as the country is experiencing another surge in infections and hospitalizations and 60 million people remain unvaccinated in a pandemic that has killed more than 770,000 Americans.Biden is hoping more people will get vaccinated because of workplace mandates set to take effect early next year but which face many challenges in the courts.And many Republicans eager to buck Biden have embraced the argument that immunity from earlier infections should be enough to earn an exemption from the mandates.“We recognize, unlike what you see going on with the federal proposed mandates and other states, we’re actually doing a science-based approach.For example, we recognize people that have natural immunity,” Florida Gov.Ron DeSantis, a Republican who has been a chief critic of virus rules, said at a signing ceremony for sweeping legislation to hobble vaccine mandates this week.The new Florida law forces private businesses to let workers opt out of COVID-19 mandates if they can prove immunity through a prior infection, as well as exemptions based on medical reasons, religious beliefs, regular testing or an agreement to wear protective gear.The state health department, which is led by Surgeon General Dr. Joseph Ladapo , who opposes mandates and has drawn national attention over a refusal to wear a face mask during a meeting , will have authority to define exemption standards.The Republican-led New Hampshire Legislature plans to take up a similar measure when it meets in January.Lawmakers in Idaho and Wyoming, both statehouses under GOP-control, recently debated similar measures but did not pass them.In Utah, a newly signed law creating exemptions from Biden’s vaccine mandates for private employers allows people to duck the requirement if they have already had COVID.And the debate is not unique to the U.S. Russia has seen huge numbers of people seeking out antibody tests to prove they had an earlier infection and therefore don’t need vaccines.Some politicians use the science behind natural immunity to advance narratives suggesting vaccines aren’t the best way to end the pandemic.“The shot is not by any means the only or proven way out of the pandemic.I’m not willing to give blind faith to the pharmaceutical narrative,” said Idaho Republican Rep. Greg Ferch.U.S. Sen. Roger Marshall , a Kansas Republican and physician, along with 14 other GOP doctors, dentists and pharmacists in Congress, sent a letter in late September to the Centers for Disease Control and Prevention, urging the agency, when setting vaccination policies, to consider natural immunity.The White House has recently unveiled a host of vaccine mandates, sparking a flurry of lawsuits from GOP states, setting the stage for pitched legal battles.Among the rules are vaccine requirements for federal contractors, businesses with more than 100 employees and health care workers.In separate lawsuits, others are challenging local vaccine rules using an immunity defense.A 19-year-old student who refuses to be tested but claims he contracted and quickly recovered from COVID-19 is suing the University of Nevada, Reno, the governor and others over the state’s requirement that everyone, with few exceptions, show proof of vaccination in order to register for classes in the upcoming spring semester.The case alleges that “COVID-19 vaccination mandates are an unconstitutional intrusion on normal immunity and bodily integrity.” Another case, filed by workers of Los Alamos National Laboratory , challenges their workplace vaccine mandate for civil rights and constitutional violations, arguing the lab has refused requests for medical accommodations for those workers who have fully recovered from COVID-19.A similar lawsuit from Chicago firefighters and other city employees hit a bump last month when a judge said their case lacked scientific evidence to support the contention that the natural immunity for people who have had the virus is superior to the protection from the vaccine.___ Associated Press Medical Writer Lauran Neergaard contributed to this report.AP NEWS Top Stories Video Contact Us Cookie Settings Download AP NEWS Connect with the definitive source for global and local news More from AP ap.org AP Insights AP Definitive Source Blog AP Images Spotlight AP Explore AP Books Follow AP The Associated Press About Contact Customer Support Careers Terms & Conditions Privacy All contents © copyright 2021 The Associated Press.All rights reserved.\n",
            "Len of text AP NEWS Sections U.S. News World News Politics Sports Entertainment Oddities Lifestyle Health Science Business Technology Photography Religion Travel Press Releases Science Technology Business U.S. News World News Politics Entertainment Sports Oddities Lifestyle Health Photography Videos AP RADIO Update hourly Sections U.S. News World News Politics Sports Entertainment Oddities Lifestyle Health Science Business Technology Photography Religion Travel Press Releases Trending News Climate Coronavirus pandemic Kyle Rittenhouse Ahmaud Arbery AP Top 25 College Football Poll Search ADVERTISEMENT https://apnews.com/article/coronavirus-pandemic-vaccines-natural-immunity-285ae319be9c3ea42dd7bb8400ea4888 Click to copy https://apnews.com/article/coronavirus-pandemic-vaccines-natural-immunity-285ae319be9c3ea42dd7bb8400ea4888 Click to copy Related topics Coronavirus pandemic Joe Biden Business Health Florida Coronavirus vaccine Lawsuits GOP embraces natural immunity as substitute for vaccines By ANTHONY IZAGUIRRE November 21, 2021 GMT 1 of 2 Florida Gov.Ron DeSantis speaks to supporters and members of the media before a bill signing Thursday, Nov. 18, 2021, in Brandon, Fla. DeSantis signed a bill that protects employees and their families from coronavirus vaccine and mask mandates.(AP Photo/Chris O'Meara) 1 of 2 Florida Gov.Ron DeSantis speaks to supporters and members of the media before a bill signing Thursday, Nov. 18, 2021, in Brandon, Fla. DeSantis signed a bill that protects employees and their families from coronavirus vaccine and mask mandates.(AP Photo/Chris O'Meara) TALLAHASSEE, Fla. (AP) — Republicans fighting President Joe Biden’s coronavirus vaccine mandates are wielding a new weapon against the White House rules: natural immunity.They contend that people who have recovered from the virus have enough immunity and antibodies to not need COVID-19 vaccines, and the concept has been invoked by Republicans as a sort of stand-in for vaccines.Florida wrote natural immunity into state law this week as GOP lawmakers elsewhere are pushing similar measures to sidestep vaccine mandates.Lawsuits over the mandates have also begun leaning on the idea.Conservative federal lawmakers have implored regulators to consider it when formulating mandates.Scientists acknowledge that people previously infected with COVID-19 have some level of immunity but that vaccines offer a more consistent level of protection.Natural immunity is also far from a one-size-fits-all scenario, making it complicated to enact sweeping exemptions to vaccines.ADVERTISEMENT That’s because how much immunity COVID-19 survivors have depends on how long ago they were infected, how sick they were, and if the virus variant they had is different from mutants circulating now.For example, a person who had a minor case one year ago is much different than a person who had a severe case over the summer when the delta variant was raging through the country.It’s also difficult to reliably test whether someone is protected from future infections.More on the pandemic Kansas to help workers resist Biden's COVID vaccine mandates Kansas GOP lawmakers OK helping workers defy COVID mandates Bidens open holidays with Christmas tree and 'friendsgiving' Hong Kong to allow residents of mainland to vote in election The Centers for Disease Control and Prevention reported in August that COVID-19 survivors who ignored advice to get vaccinated were more than twice as likely to get infected again.A more recent study from the CDC, looking at data from nearly 190 hospitals in nine states, determined that unvaccinated people who had been infected months earlier were five times more likely to get COVID-19 than fully vaccinated people who didn’t have a prior infection.“Infection with this virus, if you survive, you do have some level of protection against getting infected in the future and particularly against getting serious infection in the future,” said Dr. David Dowdy of Johns Hopkins Bloomberg School of Public Health.“It’s important to note though that even those who have been infected in the past get additional protection from being vaccinated.” ADVERTISEMENT Studies also show that COVID-19 survivors who get vaccinated develop extra-strong protection, what’s called “hybrid immunity.” When previously infected person gets a coronavirus vaccine, the shot acts like a booster and revs virus-fighting antibodies to high levels.The combination also strengthens another defensive layer of the immune system, helping create new antibodies that are more likely to withstand future variants.The immunity debate comes as the country is experiencing another surge in infections and hospitalizations and 60 million people remain unvaccinated in a pandemic that has killed more than 770,000 Americans.Biden is hoping more people will get vaccinated because of workplace mandates set to take effect early next year but which face many challenges in the courts.And many Republicans eager to buck Biden have embraced the argument that immunity from earlier infections should be enough to earn an exemption from the mandates.“We recognize, unlike what you see going on with the federal proposed mandates and other states, we’re actually doing a science-based approach.For example, we recognize people that have natural immunity,” Florida Gov.Ron DeSantis, a Republican who has been a chief critic of virus rules, said at a signing ceremony for sweeping legislation to hobble vaccine mandates this week.The new Florida law forces private businesses to let workers opt out of COVID-19 mandates if they can prove immunity through a prior infection, as well as exemptions based on medical reasons, religious beliefs, regular testing or an agreement to wear protective gear.The state health department, which is led by Surgeon General Dr. Joseph Ladapo , who opposes mandates and has drawn national attention over a refusal to wear a face mask during a meeting , will have authority to define exemption standards.The Republican-led New Hampshire Legislature plans to take up a similar measure when it meets in January.Lawmakers in Idaho and Wyoming, both statehouses under GOP-control, recently debated similar measures but did not pass them.In Utah, a newly signed law creating exemptions from Biden’s vaccine mandates for private employers allows people to duck the requirement if they have already had COVID.And the debate is not unique to the U.S. Russia has seen huge numbers of people seeking out antibody tests to prove they had an earlier infection and therefore don’t need vaccines.Some politicians use the science behind natural immunity to advance narratives suggesting vaccines aren’t the best way to end the pandemic.“The shot is not by any means the only or proven way out of the pandemic.I’m not willing to give blind faith to the pharmaceutical narrative,” said Idaho Republican Rep. Greg Ferch.U.S. Sen. Roger Marshall , a Kansas Republican and physician, along with 14 other GOP doctors, dentists and pharmacists in Congress, sent a letter in late September to the Centers for Disease Control and Prevention, urging the agency, when setting vaccination policies, to consider natural immunity.The White House has recently unveiled a host of vaccine mandates, sparking a flurry of lawsuits from GOP states, setting the stage for pitched legal battles.Among the rules are vaccine requirements for federal contractors, businesses with more than 100 employees and health care workers.In separate lawsuits, others are challenging local vaccine rules using an immunity defense.A 19-year-old student who refuses to be tested but claims he contracted and quickly recovered from COVID-19 is suing the University of Nevada, Reno, the governor and others over the state’s requirement that everyone, with few exceptions, show proof of vaccination in order to register for classes in the upcoming spring semester.The case alleges that “COVID-19 vaccination mandates are an unconstitutional intrusion on normal immunity and bodily integrity.” Another case, filed by workers of Los Alamos National Laboratory , challenges their workplace vaccine mandate for civil rights and constitutional violations, arguing the lab has refused requests for medical accommodations for those workers who have fully recovered from COVID-19.A similar lawsuit from Chicago firefighters and other city employees hit a bump last month when a judge said their case lacked scientific evidence to support the contention that the natural immunity for people who have had the virus is superior to the protection from the vaccine.___ Associated Press Medical Writer Lauran Neergaard contributed to this report.AP NEWS Top Stories Video Contact Us Cookie Settings Download AP NEWS Connect with the definitive source for global and local news More from AP ap.org AP Insights AP Definitive Source Blog AP Images Spotlight AP Explore AP Books Follow AP The Associated Press About Contact Customer Support Careers Terms & Conditions Privacy All contents © copyright 2021 The Associated Press.All rights reserved.\n",
            "CPU times: user 0 ns, sys: 20 µs, total: 20 µs\n",
            "Wall time: 26.9 µs\n",
            "Summarized Text Republicans fighting President Joe Biden’s coronavirus vaccine mandates are wielding a new weapon against the white house rules: natural immunity . they contend that people who have recovered from the virus have enough immunity and antibodies to not need COVID-19 vaccines .\n"
          ]
        }
      ]
    },
    {
      "cell_type": "code",
      "metadata": {
        "colab": {
          "base_uri": "https://localhost:8080/"
        },
        "id": "dv3Gj5ZFf_9k",
        "outputId": "9f0f7307-4e49-47c7-83e0-dc2a0c8a2424"
      },
      "source": [
        "run_summarizartion('output_file2')"
      ],
      "execution_count": 13,
      "outputs": [
        {
          "output_type": "stream",
          "name": "stdout",
          "text": [
            "extracted text AP NEWS Sections U.S. News World News Politics Sports Entertainment Oddities Lifestyle Health Science Business Technology Photography Religion Travel Press Releases Science Technology Business U.S. News World News Politics Entertainment Sports Oddities Lifestyle Health Photography Videos AP RADIO Update hourly Sections U.S. News World News Politics Sports Entertainment Oddities Lifestyle Health Science Business Technology Photography Religion Travel Press Releases Trending News Climate Coronavirus pandemic Kyle Rittenhouse Ahmaud Arbery AP Top 25 College Football Poll Search ADVERTISEMENT https://apnews.com/article/coronavirus-pandemic-joe-biden-business-health-religion-eadf501664c90e87c9949d6a3adecc0f Click to copy https://apnews.com/article/coronavirus-pandemic-joe-biden-business-health-religion-eadf501664c90e87c9949d6a3adecc0f Click to copy Related topics Coronavirus pandemic Joe Biden Business Health Topeka Religion Legislature Kansas Kansas GOP lawmakers OK helping workers defy COVID mandates By JOHN HANNA and ANDY TSUBASA FIELD November 23, 2021 GMT 1 of 9 Kansas Senate President Ty Masterson, R-Andover, follows negotiations between the Senate and House over legislation aimed at financially protecting workers who refuse to comply with federal COVID-19 vaccine mandates, Monday, Nov. 22, 2021, at the Statehouse in Topeka, Kan. GOP lawmakers are pushing proposals aimed at making it easier for workers to claim religious exemptions from mandates and providing unemployment benefits if workers lose their jobs for refusing to get the shots.(AP Photo/John Hanna) 1 of 9 Kansas Senate President Ty Masterson, R-Andover, follows negotiations between the Senate and House over legislation aimed at financially protecting workers who refuse to comply with federal COVID-19 vaccine mandates, Monday, Nov. 22, 2021, at the Statehouse in Topeka, Kan. GOP lawmakers are pushing proposals aimed at making it easier for workers to claim religious exemptions from mandates and providing unemployment benefits if workers lose their jobs for refusing to get the shots.(AP Photo/John Hanna) TOPEKA, Kan. (AP) — Republican lawmakers in Kansas approved a measure Monday night to make it easy for workers to claim religious exemptions from COVID-19 vaccine mandates and provide unemployment benefits to people fired for refusing the shots.Gov.Laura Kelly said she would sign the bill, angering some fellow Democrats in the GOP-controlled Legislature.Most Democratic lawmakers opposed it, arguing that it was a symbolic measure that won’t provide any real protections for workers who refuse to get vaccinated in the face of federal mandates imposed by President Joe Biden.The bill would require employers to grant a religious exemption to COVID-19 vaccine mandates for any worker who seeks one in writing, without second-guessing that employee.Republican leaders initially were divided over whether it was necessary to also promise fired workers unemployment, but House leaders who’d resisted came around during negotiations with the Senate.ADVERTISEMENT The votes were 24-11 in the Senate and 77-34 in the House.Republican legislators had forced Kelly to call the one-day special session to consider ways for Kansas to push back against Biden’s mandates.The full Legislature had been out of session since May and wasn’t set to reconvene until January, but many GOP lawmakers believed that vaccine-refusing workers couldn’t wait for help until then.“Many of us here tonight wanted a lot more, but this is a victory for liberty and the patriots standing tall across Kansas,” said Sen. Mike Thompson, a conservative Republican from the Kansas City suburb of Shawnee.During negotiations between Monday evening between the House and Senate, GOP senators dropped a proposal from conservatives in their chamber to prohibit private employers from imposing their own vaccine requirements, whether or not Biden’s mandates survive the federal lawsuits challenging them.Attorney General Derek Schmidt, a Republican seeking to oust Kelly in next year’s governor’s race, has brought Kansas into three multi-state lawsuits.“We have to stay focused on the priority, which is protecting those people right now that could be losing their jobs,” said Senate President Ty Masterson, an Andover Republican and one of the negotiators.Republicans hold supermajorities in both chambers, but a few GOP lawmakers joined most Democrats in voting against the measure.Rep. Vic Miller, a Topeka Democrat who was among the negotiators, called it a “sham” that will mislead vaccine-resistant workers who want some protection from Biden’s policies.ADVERTISEMENT “The courts are going to take care of the mandates, I expect,” Miller said.“If the mandates are found to be legal, I expect that these actions will be found to be illegal.” Kansas’ special legislative session comes as Republican governors, state attorneys general and lawmakers are pursuing ways to push back against the Biden mandates.Iowa enacted a law last month extending unemployment benefits to workers who refuse to get vaccinated, and provisions in the Kansas legislation were inspired by measures enacted last week in Florida.One question is whether such state laws can be enforced because federal law is supreme.Supporters argued that the Kansas measure would stand because it wouldn’t conflict with Biden’s mandates, which allow for religious exemptions.But some business owners and the Kansas Chamber of Commerce, often influential with Republicans, were skeptical.They worried that businesses would be caught between conflicting state and federal mandates.“You’re going to make a wrong decision, no matter what,” said Alan Rupe, a Wichita attorney who represents companies in employment law cases.The Kansas chamber also opposed provisions that said if employers don’t grant a religious exemption to workers who ask for them, they could be fined up to $50,000 per violation.“What business owner wants to raise their hand in the air and say, ‘Fine me’?” said Eric Stafford, a chamber lobbyist.Meanwhile, Republicans faced pressure from anti-mandate activists to prohibit mandates from private employers.However, the House did not consider the idea, and Masterson said it could get a full vetting starting in January.Evon Smith, a registered nurse who left her job in Topeka in October because she didn’t think she would get a religious exemption, said it’s important to hold employers accountable.She was at the Statehouse on Monday.“I should be able to state that I don’t want this shot because of God,” she said.“That should be the end of it.” The measure says religious exemptions would cover beliefs that aren’t tied to a belief in God but simply a strong moral objection.Critics predicted abuses.Rabbi Moti Rieber, the executive director of Kansas Interfaith Action, said the policy would allow people with political objections to falsely claim religious ones.“Opposition to the public health is the religion,” he said.“Trumpism is the religion.” ___ Andy Tsubasa Field is a corps member for the Associated Press/Report for America Statehouse News Initiative.Report for America is a nonprofit national service program that places journalists in local newsrooms to report on undercovered issues.___ On Twitter, follow John Hanna at https://twitter.com/apjdhanna and Andy Tsubasa Field at https://twitter.com/AndyTsubasaF AP NEWS Top Stories Video Contact Us Cookie Settings Download AP NEWS Connect with the definitive source for global and local news More from AP ap.org AP Insights AP Definitive Source Blog AP Images Spotlight AP Explore AP Books Follow AP The Associated Press About Contact Customer Support Careers Terms & Conditions Privacy All contents © copyright 2021 The Associated Press.All rights reserved.\n",
            "Len of text AP NEWS Sections U.S. News World News Politics Sports Entertainment Oddities Lifestyle Health Science Business Technology Photography Religion Travel Press Releases Science Technology Business U.S. News World News Politics Entertainment Sports Oddities Lifestyle Health Photography Videos AP RADIO Update hourly Sections U.S. News World News Politics Sports Entertainment Oddities Lifestyle Health Science Business Technology Photography Religion Travel Press Releases Trending News Climate Coronavirus pandemic Kyle Rittenhouse Ahmaud Arbery AP Top 25 College Football Poll Search ADVERTISEMENT https://apnews.com/article/coronavirus-pandemic-joe-biden-business-health-religion-eadf501664c90e87c9949d6a3adecc0f Click to copy https://apnews.com/article/coronavirus-pandemic-joe-biden-business-health-religion-eadf501664c90e87c9949d6a3adecc0f Click to copy Related topics Coronavirus pandemic Joe Biden Business Health Topeka Religion Legislature Kansas Kansas GOP lawmakers OK helping workers defy COVID mandates By JOHN HANNA and ANDY TSUBASA FIELD November 23, 2021 GMT 1 of 9 Kansas Senate President Ty Masterson, R-Andover, follows negotiations between the Senate and House over legislation aimed at financially protecting workers who refuse to comply with federal COVID-19 vaccine mandates, Monday, Nov. 22, 2021, at the Statehouse in Topeka, Kan. GOP lawmakers are pushing proposals aimed at making it easier for workers to claim religious exemptions from mandates and providing unemployment benefits if workers lose their jobs for refusing to get the shots.(AP Photo/John Hanna) 1 of 9 Kansas Senate President Ty Masterson, R-Andover, follows negotiations between the Senate and House over legislation aimed at financially protecting workers who refuse to comply with federal COVID-19 vaccine mandates, Monday, Nov. 22, 2021, at the Statehouse in Topeka, Kan. GOP lawmakers are pushing proposals aimed at making it easier for workers to claim religious exemptions from mandates and providing unemployment benefits if workers lose their jobs for refusing to get the shots.(AP Photo/John Hanna) TOPEKA, Kan. (AP) — Republican lawmakers in Kansas approved a measure Monday night to make it easy for workers to claim religious exemptions from COVID-19 vaccine mandates and provide unemployment benefits to people fired for refusing the shots.Gov.Laura Kelly said she would sign the bill, angering some fellow Democrats in the GOP-controlled Legislature.Most Democratic lawmakers opposed it, arguing that it was a symbolic measure that won’t provide any real protections for workers who refuse to get vaccinated in the face of federal mandates imposed by President Joe Biden.The bill would require employers to grant a religious exemption to COVID-19 vaccine mandates for any worker who seeks one in writing, without second-guessing that employee.Republican leaders initially were divided over whether it was necessary to also promise fired workers unemployment, but House leaders who’d resisted came around during negotiations with the Senate.ADVERTISEMENT The votes were 24-11 in the Senate and 77-34 in the House.Republican legislators had forced Kelly to call the one-day special session to consider ways for Kansas to push back against Biden’s mandates.The full Legislature had been out of session since May and wasn’t set to reconvene until January, but many GOP lawmakers believed that vaccine-refusing workers couldn’t wait for help until then.“Many of us here tonight wanted a lot more, but this is a victory for liberty and the patriots standing tall across Kansas,” said Sen. Mike Thompson, a conservative Republican from the Kansas City suburb of Shawnee.During negotiations between Monday evening between the House and Senate, GOP senators dropped a proposal from conservatives in their chamber to prohibit private employers from imposing their own vaccine requirements, whether or not Biden’s mandates survive the federal lawsuits challenging them.Attorney General Derek Schmidt, a Republican seeking to oust Kelly in next year’s governor’s race, has brought Kansas into three multi-state lawsuits.“We have to stay focused on the priority, which is protecting those people right now that could be losing their jobs,” said Senate President Ty Masterson, an Andover Republican and one of the negotiators.Republicans hold supermajorities in both chambers, but a few GOP lawmakers joined most Democrats in voting against the measure.Rep. Vic Miller, a Topeka Democrat who was among the negotiators, called it a “sham” that will mislead vaccine-resistant workers who want some protection from Biden’s policies.ADVERTISEMENT “The courts are going to take care of the mandates, I expect,” Miller said.“If the mandates are found to be legal, I expect that these actions will be found to be illegal.” Kansas’ special legislative session comes as Republican governors, state attorneys general and lawmakers are pursuing ways to push back against the Biden mandates.Iowa enacted a law last month extending unemployment benefits to workers who refuse to get vaccinated, and provisions in the Kansas legislation were inspired by measures enacted last week in Florida.One question is whether such state laws can be enforced because federal law is supreme.Supporters argued that the Kansas measure would stand because it wouldn’t conflict with Biden’s mandates, which allow for religious exemptions.But some business owners and the Kansas Chamber of Commerce, often influential with Republicans, were skeptical.They worried that businesses would be caught between conflicting state and federal mandates.“You’re going to make a wrong decision, no matter what,” said Alan Rupe, a Wichita attorney who represents companies in employment law cases.The Kansas chamber also opposed provisions that said if employers don’t grant a religious exemption to workers who ask for them, they could be fined up to $50,000 per violation.“What business owner wants to raise their hand in the air and say, ‘Fine me’?” said Eric Stafford, a chamber lobbyist.Meanwhile, Republicans faced pressure from anti-mandate activists to prohibit mandates from private employers.However, the House did not consider the idea, and Masterson said it could get a full vetting starting in January.Evon Smith, a registered nurse who left her job in Topeka in October because she didn’t think she would get a religious exemption, said it’s important to hold employers accountable.She was at the Statehouse on Monday.“I should be able to state that I don’t want this shot because of God,” she said.“That should be the end of it.” The measure says religious exemptions would cover beliefs that aren’t tied to a belief in God but simply a strong moral objection.Critics predicted abuses.Rabbi Moti Rieber, the executive director of Kansas Interfaith Action, said the policy would allow people with political objections to falsely claim religious ones.“Opposition to the public health is the religion,” he said.“Trumpism is the religion.” ___ Andy Tsubasa Field is a corps member for the Associated Press/Report for America Statehouse News Initiative.Report for America is a nonprofit national service program that places journalists in local newsrooms to report on undercovered issues.___ On Twitter, follow John Hanna at https://twitter.com/apjdhanna and Andy Tsubasa Field at https://twitter.com/AndyTsubasaF AP NEWS Top Stories Video Contact Us Cookie Settings Download AP NEWS Connect with the definitive source for global and local news More from AP ap.org AP Insights AP Definitive Source Blog AP Images Spotlight AP Explore AP Books Follow AP The Associated Press About Contact Customer Support Careers Terms & Conditions Privacy All contents © copyright 2021 The Associated Press.All rights reserved.\n",
            "CPU times: user 3 µs, sys: 1 µs, total: 4 µs\n",
            "Wall time: 10.5 µs\n",
            "Summarized Text Republican lawmakers in Kansas approved a measure Monday night to make it easier for workers to claim religious exemptions from COVID-19 vaccine mandates . the measure would provide unemployment benefits to people fired for refusing the shots . most Democratic lawmakers opposed it, arguing that it was a symbolic measure that won’t provide any real protections for workers .\n"
          ]
        }
      ]
    },
    {
      "cell_type": "code",
      "metadata": {
        "colab": {
          "base_uri": "https://localhost:8080/"
        },
        "id": "NkFVc_YPgAUf",
        "outputId": "bda73076-44d2-4a9d-e4c0-d400db38f102"
      },
      "source": [
        "run_summarizartion('output_file3')"
      ],
      "execution_count": 14,
      "outputs": [
        {
          "output_type": "stream",
          "name": "stdout",
          "text": [
            "extracted text AP NEWS Sections U.S. News World News Politics Sports Entertainment Oddities Lifestyle Health Science Business Technology Photography Religion Travel Press Releases Science Technology Business U.S. News World News Politics Entertainment Sports Oddities Lifestyle Health Photography Videos AP RADIO Update hourly Sections U.S. News World News Politics Sports Entertainment Oddities Lifestyle Health Science Business Technology Photography Religion Travel Press Releases Trending News Climate Coronavirus pandemic Kyle Rittenhouse Ahmaud Arbery AP Top 25 College Football Poll Search ADVERTISEMENT https://apnews.com/article/how-covid-shots-for-kids-prevent-variants-0dd394ddd053e0efb3f3137dba2ad470 Click to copy https://apnews.com/article/how-covid-shots-for-kids-prevent-variants-0dd394ddd053e0efb3f3137dba2ad470 Click to copy Related topics Coronavirus pandemic Science Health Kentucky Louisville How COVID shots for kids help prevent dangerous new variants By LAURA UNGAR November 22, 2021 GMT 1 of 2 Solome Walker, 9, looks down at her bandage after getting her first Pfizer COVID-19 shot at a vaccination clinic for young students at Ramsey Middle School on Saturday, Nov. 13, 2021 in Louisville, Ky. Scientists say vaccinating kids against COVID-19 should not only slow the spread of the coronavirus but also help prevent potentially-dangerous variants from emerging.Each new infection brings another opportunity for the virus to mutate and evolve dangerous new traits.(AP Photo/Laura Ungar) 1 of 2 Solome Walker, 9, looks down at her bandage after getting her first Pfizer COVID-19 shot at a vaccination clinic for young students at Ramsey Middle School on Saturday, Nov. 13, 2021 in Louisville, Ky. Scientists say vaccinating kids against COVID-19 should not only slow the spread of the coronavirus but also help prevent potentially-dangerous variants from emerging.Each new infection brings another opportunity for the virus to mutate and evolve dangerous new traits.(AP Photo/Laura Ungar) LOUISVILLE, Ky. (AP) — Cadell Walker rushed to get her 9-year-old daughter Solome vaccinated against COVID-19 — not just to protect her but to help stop the coronavirus from spreading and spawning even more dangerous variants.“Love thy neighbor is something that we really do believe, and we want to be good community members and want to model that thinking for our daughter,” said the 40-year-old Louisville mom, who recently took Solome to a local middle school for her shot.“The only way to really beat COVID is for all of us collectively to work together for the greater good.” Scientists agree.Each infection — whether in an adult in Yemen or a kid in Kentucky — gives the virus another opportunity to mutate.Protecting a new, large chunk of the population anywhere in the world limits those opportunities.That effort got a lift with 28 million U.S. kids 5 to 11 years old now eligible for child-sized doses of the Pfizer-BioNTech vaccine.Moves elsewhere, like Austria’s recent decision to require all adults to be vaccinated and even the U.S. authorizing booster shots for all adults on Friday , help by further reducing the chances of new infection.ADVERTISEMENT Vaccinating kids also means reducing silent spread, since most have no or mild symptoms when they contract the virus.When the virus spreads unseen, scientists say, it also goes unabated.And as more people contract it, the odds of new variants rise.More on the pandemic Kansas to help workers resist Biden's COVID vaccine mandates Kansas GOP lawmakers OK helping workers defy COVID mandates Bidens open holidays with Christmas tree and 'friendsgiving' Hong Kong to allow residents of mainland to vote in election David O’Connor, a virology expert at the University of Wisconsin-Madison, likens infections to “lottery tickets that we’re giving the virus.” The jackpot?A variant even more dangerous than the contagious delta currently circulating.“The fewer people who are infected, the less lottery tickets it has and the better off we’re all going to be in terms of generating the variants,” he said, adding that variants are even more likely to emerge in people with weakened immune systems who harbor the virus for a long time.Researchers disagree on how much kids have influenced the course of the pandemic.Early research suggested they didn’t contribute much to viral spread.But some experts say children played a significant role this year spreading contagious variants such as alpha and delta.ADVERTISEMENT Getting kids vaccinated could make a real difference going forward, according to estimates by the COVID-19 Scenario Modeling Hub, a collection of university and medical research organizations that consolidates models of how the pandemic may unfold.The hub’s latest estimates show that for this November through March 12, 2022, vaccinating 5- to 11-year-olds would avert about 430,000 COVID cases in the overall U.S. population if no new variant arose.If a variant 50% more transmissible than delta showed up in late fall, 860,000 cases would be averted, “a big impact,” said project co-leader Katriona Shea, of Pennsylvania State University.Delta remains dominant for now, accounting for more than 99% of analyzed coronavirus specimens in the United States.Scientists aren’t sure exactly why.Dr. Stuart Campbell Ray, an infectious disease expert at Johns Hopkins University, said it may be intrinsically more infectious, or it may be evading at least in part the protection people get from vaccines or having been infected before.“It’s probably a combination of those things,” he said.“But there’s also very good and growing evidence that delta is simply more fit, meaning that it’s able to grow to higher levels faster than other variants that are studied.So when people get delta, they become infectious sooner.” Ray said delta is “a big family” of viruses, and the world is now swimming in a sort of “delta soup.” “We have many lineages of delta that are circulating in many places with no clear winners,” Ray said, adding that it’s hard to know from genetic features which might have an edge, or which non-delta variants might dethrone delta.“I often say it’s like seeing a car parked on the side of the road with racing slicks and racing stripes and an airfoil on the back and a big engine,” Ray said.“You know it looks like it could be a real contender, but until you see it on the track with other cars, you don’t know if it’s going to win.” Another big unknown: Dangerous variants may still arise in largely-unvaccinated parts of the world and make their way to America even as U.S. children join the ranks of the vaccinated.Walker, the Louisville mom, said she and her husband can’t do anything about distant threats, but could sign their daughter up for vaccination at Jefferson County Public Schools sites on a recent weekend.Solome is adopted from Ethiopia and is prone to pneumonia following respiratory ailments after being exposed to tuberculosis as a baby.Full Coverage:  Coronavirus pandemic She said she wants to keep other kids safe because “it’s not good to get sick.” As a nurse leaned in to give Solome her shot, Walker held her daughter’s hand, then praised her for picking out a post-jab sticker appropriate for a brave kid who just did her part to help curb a pandemic.“Wonder Woman,” Walker said.“Perfect.” ___ The Associated Press Health and Science Department receives support from the Howard Hughes Medical Institute’s Department of Science Education.The AP is solely responsible for all content.AP NEWS Top Stories Video Contact Us Cookie Settings Download AP NEWS Connect with the definitive source for global and local news More from AP ap.org AP Insights AP Definitive Source Blog AP Images Spotlight AP Explore AP Books Follow AP The Associated Press About Contact Customer Support Careers Terms & Conditions Privacy All contents © copyright 2021 The Associated Press.All rights reserved.\n",
            "Len of text AP NEWS Sections U.S. News World News Politics Sports Entertainment Oddities Lifestyle Health Science Business Technology Photography Religion Travel Press Releases Science Technology Business U.S. News World News Politics Entertainment Sports Oddities Lifestyle Health Photography Videos AP RADIO Update hourly Sections U.S. News World News Politics Sports Entertainment Oddities Lifestyle Health Science Business Technology Photography Religion Travel Press Releases Trending News Climate Coronavirus pandemic Kyle Rittenhouse Ahmaud Arbery AP Top 25 College Football Poll Search ADVERTISEMENT https://apnews.com/article/how-covid-shots-for-kids-prevent-variants-0dd394ddd053e0efb3f3137dba2ad470 Click to copy https://apnews.com/article/how-covid-shots-for-kids-prevent-variants-0dd394ddd053e0efb3f3137dba2ad470 Click to copy Related topics Coronavirus pandemic Science Health Kentucky Louisville How COVID shots for kids help prevent dangerous new variants By LAURA UNGAR November 22, 2021 GMT 1 of 2 Solome Walker, 9, looks down at her bandage after getting her first Pfizer COVID-19 shot at a vaccination clinic for young students at Ramsey Middle School on Saturday, Nov. 13, 2021 in Louisville, Ky. Scientists say vaccinating kids against COVID-19 should not only slow the spread of the coronavirus but also help prevent potentially-dangerous variants from emerging.Each new infection brings another opportunity for the virus to mutate and evolve dangerous new traits.(AP Photo/Laura Ungar) 1 of 2 Solome Walker, 9, looks down at her bandage after getting her first Pfizer COVID-19 shot at a vaccination clinic for young students at Ramsey Middle School on Saturday, Nov. 13, 2021 in Louisville, Ky. Scientists say vaccinating kids against COVID-19 should not only slow the spread of the coronavirus but also help prevent potentially-dangerous variants from emerging.Each new infection brings another opportunity for the virus to mutate and evolve dangerous new traits.(AP Photo/Laura Ungar) LOUISVILLE, Ky. (AP) — Cadell Walker rushed to get her 9-year-old daughter Solome vaccinated against COVID-19 — not just to protect her but to help stop the coronavirus from spreading and spawning even more dangerous variants.“Love thy neighbor is something that we really do believe, and we want to be good community members and want to model that thinking for our daughter,” said the 40-year-old Louisville mom, who recently took Solome to a local middle school for her shot.“The only way to really beat COVID is for all of us collectively to work together for the greater good.” Scientists agree.Each infection — whether in an adult in Yemen or a kid in Kentucky — gives the virus another opportunity to mutate.Protecting a new, large chunk of the population anywhere in the world limits those opportunities.That effort got a lift with 28 million U.S. kids 5 to 11 years old now eligible for child-sized doses of the Pfizer-BioNTech vaccine.Moves elsewhere, like Austria’s recent decision to require all adults to be vaccinated and even the U.S. authorizing booster shots for all adults on Friday , help by further reducing the chances of new infection.ADVERTISEMENT Vaccinating kids also means reducing silent spread, since most have no or mild symptoms when they contract the virus.When the virus spreads unseen, scientists say, it also goes unabated.And as more people contract it, the odds of new variants rise.More on the pandemic Kansas to help workers resist Biden's COVID vaccine mandates Kansas GOP lawmakers OK helping workers defy COVID mandates Bidens open holidays with Christmas tree and 'friendsgiving' Hong Kong to allow residents of mainland to vote in election David O’Connor, a virology expert at the University of Wisconsin-Madison, likens infections to “lottery tickets that we’re giving the virus.” The jackpot?A variant even more dangerous than the contagious delta currently circulating.“The fewer people who are infected, the less lottery tickets it has and the better off we’re all going to be in terms of generating the variants,” he said, adding that variants are even more likely to emerge in people with weakened immune systems who harbor the virus for a long time.Researchers disagree on how much kids have influenced the course of the pandemic.Early research suggested they didn’t contribute much to viral spread.But some experts say children played a significant role this year spreading contagious variants such as alpha and delta.ADVERTISEMENT Getting kids vaccinated could make a real difference going forward, according to estimates by the COVID-19 Scenario Modeling Hub, a collection of university and medical research organizations that consolidates models of how the pandemic may unfold.The hub’s latest estimates show that for this November through March 12, 2022, vaccinating 5- to 11-year-olds would avert about 430,000 COVID cases in the overall U.S. population if no new variant arose.If a variant 50% more transmissible than delta showed up in late fall, 860,000 cases would be averted, “a big impact,” said project co-leader Katriona Shea, of Pennsylvania State University.Delta remains dominant for now, accounting for more than 99% of analyzed coronavirus specimens in the United States.Scientists aren’t sure exactly why.Dr. Stuart Campbell Ray, an infectious disease expert at Johns Hopkins University, said it may be intrinsically more infectious, or it may be evading at least in part the protection people get from vaccines or having been infected before.“It’s probably a combination of those things,” he said.“But there’s also very good and growing evidence that delta is simply more fit, meaning that it’s able to grow to higher levels faster than other variants that are studied.So when people get delta, they become infectious sooner.” Ray said delta is “a big family” of viruses, and the world is now swimming in a sort of “delta soup.” “We have many lineages of delta that are circulating in many places with no clear winners,” Ray said, adding that it’s hard to know from genetic features which might have an edge, or which non-delta variants might dethrone delta.“I often say it’s like seeing a car parked on the side of the road with racing slicks and racing stripes and an airfoil on the back and a big engine,” Ray said.“You know it looks like it could be a real contender, but until you see it on the track with other cars, you don’t know if it’s going to win.” Another big unknown: Dangerous variants may still arise in largely-unvaccinated parts of the world and make their way to America even as U.S. children join the ranks of the vaccinated.Walker, the Louisville mom, said she and her husband can’t do anything about distant threats, but could sign their daughter up for vaccination at Jefferson County Public Schools sites on a recent weekend.Solome is adopted from Ethiopia and is prone to pneumonia following respiratory ailments after being exposed to tuberculosis as a baby.Full Coverage:  Coronavirus pandemic She said she wants to keep other kids safe because “it’s not good to get sick.” As a nurse leaned in to give Solome her shot, Walker held her daughter’s hand, then praised her for picking out a post-jab sticker appropriate for a brave kid who just did her part to help curb a pandemic.“Wonder Woman,” Walker said.“Perfect.” ___ The Associated Press Health and Science Department receives support from the Howard Hughes Medical Institute’s Department of Science Education.The AP is solely responsible for all content.AP NEWS Top Stories Video Contact Us Cookie Settings Download AP NEWS Connect with the definitive source for global and local news More from AP ap.org AP Insights AP Definitive Source Blog AP Images Spotlight AP Explore AP Books Follow AP The Associated Press About Contact Customer Support Careers Terms & Conditions Privacy All contents © copyright 2021 The Associated Press.All rights reserved.\n",
            "CPU times: user 4 µs, sys: 0 ns, total: 4 µs\n",
            "Wall time: 10.3 µs\n",
            "Summarized Text AP NEWS Sections U.S. News World News Politics Sports Entertainment Oddities Lifestyle Health Science Business Technology Photography Religion Travel Press Releases Trending News Climate Coronavirus pandemic Kyle Rittenhouse Ahmaud Arbery AP Top 25 College Football Poll Search ADVERTISEMENT https://apnews.com/article/how-covid-shots-for-kids-prevent-variants .\n"
          ]
        }
      ]
    },
    {
      "cell_type": "code",
      "metadata": {
        "colab": {
          "base_uri": "https://localhost:8080/"
        },
        "id": "CUfQqCq6gAnX",
        "outputId": "2c488270-d20d-4d20-bc33-9701da486bf9"
      },
      "source": [
        "run_summarizartion('output_file4')"
      ],
      "execution_count": 15,
      "outputs": [
        {
          "output_type": "stream",
          "name": "stdout",
          "text": [
            "extracted text AP NEWS Sections U.S. News World News Politics Sports Entertainment Oddities Lifestyle Health Science Business Technology Photography Religion Travel Press Releases Science Technology Business U.S. News World News Politics Entertainment Sports Oddities Lifestyle Health Photography Videos AP RADIO Update hourly Sections U.S. News World News Politics Sports Entertainment Oddities Lifestyle Health Science Business Technology Photography Religion Travel Press Releases Trending News Climate Coronavirus pandemic Kyle Rittenhouse Ahmaud Arbery AP Top 25 College Football Poll Search ADVERTISEMENT https://apnews.com/article/how-covid-shots-for-kids-prevent-variants-0dd394ddd053e0efb3f3137dba2ad470 Click to copy https://apnews.com/article/how-covid-shots-for-kids-prevent-variants-0dd394ddd053e0efb3f3137dba2ad470 Click to copy Related topics Coronavirus pandemic Science Health Kentucky Louisville How COVID shots for kids help prevent dangerous new variants By LAURA UNGAR November 22, 2021 GMT 1 of 2 Solome Walker, 9, looks down at her bandage after getting her first Pfizer COVID-19 shot at a vaccination clinic for young students at Ramsey Middle School on Saturday, Nov. 13, 2021 in Louisville, Ky. Scientists say vaccinating kids against COVID-19 should not only slow the spread of the coronavirus but also help prevent potentially-dangerous variants from emerging.Each new infection brings another opportunity for the virus to mutate and evolve dangerous new traits.(AP Photo/Laura Ungar) 1 of 2 Solome Walker, 9, looks down at her bandage after getting her first Pfizer COVID-19 shot at a vaccination clinic for young students at Ramsey Middle School on Saturday, Nov. 13, 2021 in Louisville, Ky. Scientists say vaccinating kids against COVID-19 should not only slow the spread of the coronavirus but also help prevent potentially-dangerous variants from emerging.Each new infection brings another opportunity for the virus to mutate and evolve dangerous new traits.(AP Photo/Laura Ungar) LOUISVILLE, Ky. (AP) — Cadell Walker rushed to get her 9-year-old daughter Solome vaccinated against COVID-19 — not just to protect her but to help stop the coronavirus from spreading and spawning even more dangerous variants.“Love thy neighbor is something that we really do believe, and we want to be good community members and want to model that thinking for our daughter,” said the 40-year-old Louisville mom, who recently took Solome to a local middle school for her shot.“The only way to really beat COVID is for all of us collectively to work together for the greater good.” Scientists agree.Each infection — whether in an adult in Yemen or a kid in Kentucky — gives the virus another opportunity to mutate.Protecting a new, large chunk of the population anywhere in the world limits those opportunities.That effort got a lift with 28 million U.S. kids 5 to 11 years old now eligible for child-sized doses of the Pfizer-BioNTech vaccine.Moves elsewhere, like Austria’s recent decision to require all adults to be vaccinated and even the U.S. authorizing booster shots for all adults on Friday , help by further reducing the chances of new infection.ADVERTISEMENT Vaccinating kids also means reducing silent spread, since most have no or mild symptoms when they contract the virus.When the virus spreads unseen, scientists say, it also goes unabated.And as more people contract it, the odds of new variants rise.More on the pandemic Kansas to help workers resist Biden's COVID vaccine mandates Kansas GOP lawmakers OK helping workers defy COVID mandates Bidens open holidays with Christmas tree and 'friendsgiving' Hong Kong to allow residents of mainland to vote in election David O’Connor, a virology expert at the University of Wisconsin-Madison, likens infections to “lottery tickets that we’re giving the virus.” The jackpot?A variant even more dangerous than the contagious delta currently circulating.“The fewer people who are infected, the less lottery tickets it has and the better off we’re all going to be in terms of generating the variants,” he said, adding that variants are even more likely to emerge in people with weakened immune systems who harbor the virus for a long time.Researchers disagree on how much kids have influenced the course of the pandemic.Early research suggested they didn’t contribute much to viral spread.But some experts say children played a significant role this year spreading contagious variants such as alpha and delta.ADVERTISEMENT Getting kids vaccinated could make a real difference going forward, according to estimates by the COVID-19 Scenario Modeling Hub, a collection of university and medical research organizations that consolidates models of how the pandemic may unfold.The hub’s latest estimates show that for this November through March 12, 2022, vaccinating 5- to 11-year-olds would avert about 430,000 COVID cases in the overall U.S. population if no new variant arose.If a variant 50% more transmissible than delta showed up in late fall, 860,000 cases would be averted, “a big impact,” said project co-leader Katriona Shea, of Pennsylvania State University.Delta remains dominant for now, accounting for more than 99% of analyzed coronavirus specimens in the United States.Scientists aren’t sure exactly why.Dr. Stuart Campbell Ray, an infectious disease expert at Johns Hopkins University, said it may be intrinsically more infectious, or it may be evading at least in part the protection people get from vaccines or having been infected before.“It’s probably a combination of those things,” he said.“But there’s also very good and growing evidence that delta is simply more fit, meaning that it’s able to grow to higher levels faster than other variants that are studied.So when people get delta, they become infectious sooner.” Ray said delta is “a big family” of viruses, and the world is now swimming in a sort of “delta soup.” “We have many lineages of delta that are circulating in many places with no clear winners,” Ray said, adding that it’s hard to know from genetic features which might have an edge, or which non-delta variants might dethrone delta.“I often say it’s like seeing a car parked on the side of the road with racing slicks and racing stripes and an airfoil on the back and a big engine,” Ray said.“You know it looks like it could be a real contender, but until you see it on the track with other cars, you don’t know if it’s going to win.” Another big unknown: Dangerous variants may still arise in largely-unvaccinated parts of the world and make their way to America even as U.S. children join the ranks of the vaccinated.Walker, the Louisville mom, said she and her husband can’t do anything about distant threats, but could sign their daughter up for vaccination at Jefferson County Public Schools sites on a recent weekend.Solome is adopted from Ethiopia and is prone to pneumonia following respiratory ailments after being exposed to tuberculosis as a baby.Full Coverage:  Coronavirus pandemic She said she wants to keep other kids safe because “it’s not good to get sick.” As a nurse leaned in to give Solome her shot, Walker held her daughter’s hand, then praised her for picking out a post-jab sticker appropriate for a brave kid who just did her part to help curb a pandemic.“Wonder Woman,” Walker said.“Perfect.” ___ The Associated Press Health and Science Department receives support from the Howard Hughes Medical Institute’s Department of Science Education.The AP is solely responsible for all content.AP NEWS Top Stories Video Contact Us Cookie Settings Download AP NEWS Connect with the definitive source for global and local news More from AP ap.org AP Insights AP Definitive Source Blog AP Images Spotlight AP Explore AP Books Follow AP The Associated Press About Contact Customer Support Careers Terms & Conditions Privacy All contents © copyright 2021 The Associated Press.All rights reserved.\n",
            "Len of text AP NEWS Sections U.S. News World News Politics Sports Entertainment Oddities Lifestyle Health Science Business Technology Photography Religion Travel Press Releases Science Technology Business U.S. News World News Politics Entertainment Sports Oddities Lifestyle Health Photography Videos AP RADIO Update hourly Sections U.S. News World News Politics Sports Entertainment Oddities Lifestyle Health Science Business Technology Photography Religion Travel Press Releases Trending News Climate Coronavirus pandemic Kyle Rittenhouse Ahmaud Arbery AP Top 25 College Football Poll Search ADVERTISEMENT https://apnews.com/article/how-covid-shots-for-kids-prevent-variants-0dd394ddd053e0efb3f3137dba2ad470 Click to copy https://apnews.com/article/how-covid-shots-for-kids-prevent-variants-0dd394ddd053e0efb3f3137dba2ad470 Click to copy Related topics Coronavirus pandemic Science Health Kentucky Louisville How COVID shots for kids help prevent dangerous new variants By LAURA UNGAR November 22, 2021 GMT 1 of 2 Solome Walker, 9, looks down at her bandage after getting her first Pfizer COVID-19 shot at a vaccination clinic for young students at Ramsey Middle School on Saturday, Nov. 13, 2021 in Louisville, Ky. Scientists say vaccinating kids against COVID-19 should not only slow the spread of the coronavirus but also help prevent potentially-dangerous variants from emerging.Each new infection brings another opportunity for the virus to mutate and evolve dangerous new traits.(AP Photo/Laura Ungar) 1 of 2 Solome Walker, 9, looks down at her bandage after getting her first Pfizer COVID-19 shot at a vaccination clinic for young students at Ramsey Middle School on Saturday, Nov. 13, 2021 in Louisville, Ky. Scientists say vaccinating kids against COVID-19 should not only slow the spread of the coronavirus but also help prevent potentially-dangerous variants from emerging.Each new infection brings another opportunity for the virus to mutate and evolve dangerous new traits.(AP Photo/Laura Ungar) LOUISVILLE, Ky. (AP) — Cadell Walker rushed to get her 9-year-old daughter Solome vaccinated against COVID-19 — not just to protect her but to help stop the coronavirus from spreading and spawning even more dangerous variants.“Love thy neighbor is something that we really do believe, and we want to be good community members and want to model that thinking for our daughter,” said the 40-year-old Louisville mom, who recently took Solome to a local middle school for her shot.“The only way to really beat COVID is for all of us collectively to work together for the greater good.” Scientists agree.Each infection — whether in an adult in Yemen or a kid in Kentucky — gives the virus another opportunity to mutate.Protecting a new, large chunk of the population anywhere in the world limits those opportunities.That effort got a lift with 28 million U.S. kids 5 to 11 years old now eligible for child-sized doses of the Pfizer-BioNTech vaccine.Moves elsewhere, like Austria’s recent decision to require all adults to be vaccinated and even the U.S. authorizing booster shots for all adults on Friday , help by further reducing the chances of new infection.ADVERTISEMENT Vaccinating kids also means reducing silent spread, since most have no or mild symptoms when they contract the virus.When the virus spreads unseen, scientists say, it also goes unabated.And as more people contract it, the odds of new variants rise.More on the pandemic Kansas to help workers resist Biden's COVID vaccine mandates Kansas GOP lawmakers OK helping workers defy COVID mandates Bidens open holidays with Christmas tree and 'friendsgiving' Hong Kong to allow residents of mainland to vote in election David O’Connor, a virology expert at the University of Wisconsin-Madison, likens infections to “lottery tickets that we’re giving the virus.” The jackpot?A variant even more dangerous than the contagious delta currently circulating.“The fewer people who are infected, the less lottery tickets it has and the better off we’re all going to be in terms of generating the variants,” he said, adding that variants are even more likely to emerge in people with weakened immune systems who harbor the virus for a long time.Researchers disagree on how much kids have influenced the course of the pandemic.Early research suggested they didn’t contribute much to viral spread.But some experts say children played a significant role this year spreading contagious variants such as alpha and delta.ADVERTISEMENT Getting kids vaccinated could make a real difference going forward, according to estimates by the COVID-19 Scenario Modeling Hub, a collection of university and medical research organizations that consolidates models of how the pandemic may unfold.The hub’s latest estimates show that for this November through March 12, 2022, vaccinating 5- to 11-year-olds would avert about 430,000 COVID cases in the overall U.S. population if no new variant arose.If a variant 50% more transmissible than delta showed up in late fall, 860,000 cases would be averted, “a big impact,” said project co-leader Katriona Shea, of Pennsylvania State University.Delta remains dominant for now, accounting for more than 99% of analyzed coronavirus specimens in the United States.Scientists aren’t sure exactly why.Dr. Stuart Campbell Ray, an infectious disease expert at Johns Hopkins University, said it may be intrinsically more infectious, or it may be evading at least in part the protection people get from vaccines or having been infected before.“It’s probably a combination of those things,” he said.“But there’s also very good and growing evidence that delta is simply more fit, meaning that it’s able to grow to higher levels faster than other variants that are studied.So when people get delta, they become infectious sooner.” Ray said delta is “a big family” of viruses, and the world is now swimming in a sort of “delta soup.” “We have many lineages of delta that are circulating in many places with no clear winners,” Ray said, adding that it’s hard to know from genetic features which might have an edge, or which non-delta variants might dethrone delta.“I often say it’s like seeing a car parked on the side of the road with racing slicks and racing stripes and an airfoil on the back and a big engine,” Ray said.“You know it looks like it could be a real contender, but until you see it on the track with other cars, you don’t know if it’s going to win.” Another big unknown: Dangerous variants may still arise in largely-unvaccinated parts of the world and make their way to America even as U.S. children join the ranks of the vaccinated.Walker, the Louisville mom, said she and her husband can’t do anything about distant threats, but could sign their daughter up for vaccination at Jefferson County Public Schools sites on a recent weekend.Solome is adopted from Ethiopia and is prone to pneumonia following respiratory ailments after being exposed to tuberculosis as a baby.Full Coverage:  Coronavirus pandemic She said she wants to keep other kids safe because “it’s not good to get sick.” As a nurse leaned in to give Solome her shot, Walker held her daughter’s hand, then praised her for picking out a post-jab sticker appropriate for a brave kid who just did her part to help curb a pandemic.“Wonder Woman,” Walker said.“Perfect.” ___ The Associated Press Health and Science Department receives support from the Howard Hughes Medical Institute’s Department of Science Education.The AP is solely responsible for all content.AP NEWS Top Stories Video Contact Us Cookie Settings Download AP NEWS Connect with the definitive source for global and local news More from AP ap.org AP Insights AP Definitive Source Blog AP Images Spotlight AP Explore AP Books Follow AP The Associated Press About Contact Customer Support Careers Terms & Conditions Privacy All contents © copyright 2021 The Associated Press.All rights reserved.\n",
            "CPU times: user 3 µs, sys: 0 ns, total: 3 µs\n",
            "Wall time: 8.11 µs\n",
            "Summarized Text AP NEWS Sections U.S. News World News Politics Sports Entertainment Oddities Lifestyle Health Science Business Technology Photography Religion Travel Press Releases Trending News Climate Coronavirus pandemic Kyle Rittenhouse Ahmaud Arbery AP Top 25 College Football Poll Search ADVERTISEMENT https://apnews.com/article/how-covid-shots-for-kids-prevent-variants .\n"
          ]
        }
      ]
    },
    {
      "cell_type": "code",
      "metadata": {
        "colab": {
          "base_uri": "https://localhost:8080/"
        },
        "id": "L96FaQ4tgBE2",
        "outputId": "c01b7c09-104b-48a0-e262-d6fab33ca538"
      },
      "source": [
        "run_summarizartion('output_file5')"
      ],
      "execution_count": 16,
      "outputs": [
        {
          "output_type": "stream",
          "name": "stdout",
          "text": [
            "extracted text AP NEWS Sections U.S. News World News Politics Sports Entertainment Oddities Lifestyle Health Science Business Technology Photography Religion Travel Press Releases Science Technology Business U.S. News World News Politics Entertainment Sports Oddities Lifestyle Health Photography Videos AP RADIO Update hourly Sections U.S. News World News Politics Sports Entertainment Oddities Lifestyle Health Science Business Technology Photography Religion Travel Press Releases Trending News Climate Coronavirus pandemic Kyle Rittenhouse Ahmaud Arbery AP Top 25 College Football Poll Search ADVERTISEMENT https://apnews.com/article/europe-protests-virus-restrictions-netherlands-austria-italy-bea60fffc55590d0b956752274ddfb88 Click to copy https://apnews.com/article/europe-protests-virus-restrictions-netherlands-austria-italy-bea60fffc55590d0b956752274ddfb88 Click to copy Related topics Coronavirus pandemic Business Health Travel Switzerland Italy Austria Vienna Rotterdam Croatia Europe Northern Ireland AP Top News World News Netherlands Protests erupt over virus rules in Austria, Italy, Croatia By EMILY SCHULTHEIS and KIRSTEN GRIESHABER November 20, 2021 GMT 1 of 20 Demonstrators shout slogans and light flares during a demonstration against measures to battle the coronavirus pandemic in Vienna, Austria, Saturday, Nov. 20, 2021.Thousands of protesters are expected to gather in Vienna after the Austrian government announced a nationwide lockdown to contain the quickly rising coronavirus infections in the country.Banner reads: ' Controls the border.Not your people'.(AP Photo/Florian Schroetter) 1 of 20 Demonstrators shout slogans and light flares during a demonstration against measures to battle the coronavirus pandemic in Vienna, Austria, Saturday, Nov. 20, 2021.Thousands of protesters are expected to gather in Vienna after the Austrian government announced a nationwide lockdown to contain the quickly rising coronavirus infections in the country.Banner reads: ' Controls the border.Not your people'.(AP Photo/Florian Schroetter) VIENNA (AP) — Tens of thousands of protesters, many from far-right groups, marched through Vienna on Saturday after the Austrian government announced a nationwide lockdown beginning Monday to contain skyrocketing coronavirus infections.Demonstrations against virus restrictions also took place in Switzerland, Croatia, Italy, Northern Ireland and the Netherlands on Saturday, a day after Dutch police opened fire on protesters and seven people were injured in rioting that erupted in Rotterdam.Protesters rallied against coronavirus restrictions and mandatory COVID-19 passes needed in many European countries to enter restaurants, Christmas markets or sports events, as well as mandatory vaccinations.The Austrian lockdown will start Monday and comes as average daily deaths have tripled in recent weeks and hospitals in heavily hit states have warned that intensive care units are reaching capacity.The lockdown will last at least 10 days but could go up to 20, officials said.People will be able to leave their homes only for specific reasons, including buying groceries, going to the doctor or exercising.The government also will make vaccinations mandatory starting Feb. 1.Not quite 66% of Austria’s 8.9 million people are fully vaccinated, one of the lowest rates in Western Europe.Saturday’s march started off at Vienna’s massive Heldenplatz square.Chanting “Resistance!” and blowing whistles, protesters moved down the city’s inner ring road.Many waved Austrian flags and carried signs mocking Chancellor Alexander Schallenberg and Health Minister Wolfgang Mueckstein.Some wore doctor’s scrubs; others donned tinfoil hats.Most signs focused on the vaccine mandate: “My Body, My Choice,” read one.“We’re Standing Up for Our Kids!” said another.ADVERTISEMENT Among those protesting were members of far-right and extreme-right parties and groups, including the far-right Freedom Party, the anti-vaccine MFG party and the extreme-right Identitarians.About 1,300 police officers were on duty, and 35,000 protesters participated in different marches across the city, police said.Police said several protesters were detained, but didn’t give specific numbers.Later Saturday night, protesters threw bottles and beer cans and fired pyrotechnics at police, who then used pepper spray to disperse the crowds.Freedom Party leader Herbert Kickl, who recently tested positive for COVID-19, appeared via video, denouncing what he called “totalitarian” measures from a government “that believes it should think and decide for us.” Schallenberg apologized to all vaccinated people on Friday, saying it wasn’t fair they had to suffer under the renewed lockdown restrictions.“I’m sorry to take this drastic step,” he said on public broadcaster ORF.In neighboring Switzerland, 2,000 people protested an upcoming referendum on whether to approve the government’s COVID-19 restrictions law, claiming it was discriminatory, public broadcaster SRF reported.A day after the Rotterdam rioting, thousands gathered on Amsterdam’s central Dam Square, despite organizers calling off the protest.They walked peacefully through the streets, closely monitored by police.“This policy (anti coronavirus measures) makes a lot of conflicts between the people,” Hugo Gietelink from Amsterdam told The Associated Press.“I think it is very important that the vaccinated and non-vaccinated have to make a friendship again.” A few hundred people also marched through the southern Dutch city of Breda.One organizer, Joost Eras, told broadcaster NOS he didn’t expect violence after consulting with police.“We certainly don’t support what happened in Rotterdam.We were shocked by it,” he said.In Italy, 3,000 turned out in the capital’s Circus Maximus, a field where in ancient times Romans staged popular entertainment, to protest against “Green Pass” certificates required at workplaces, restaurants, cinemas, theaters, sports venues and gyms, as well as for long-distance train, bus or ferry travel.“People like us never give up,” read one banner, in the red, white and green colors of the Italian flag.Almost no one wore a protective mask.In Northern Ireland, several hundred people opposed to vaccine passports protested outside the city hall in Belfast, where the city’s Christmas market opened Saturday -- a market where proof of vaccination or a negative COVID-19 test was required.The Northern Ireland government voted this week to introduce vaccine certificates for admission to nightclubs, bars and restaurants starting Dec. 13.Some protesters carried signs that have been widely criticized as offensive, comparing coronavirus restrictions to the actions of Nazi Germany.In Croatia, thousands gathered in the capital of Zagreb, carrying flags, nationalist and religious symbols, along with banners against vaccination and what they describe as restrictions of people’s freedoms.In France, Interior Minister Gerald Darmanin condemned violent protests in the Caribbean island of Guadeloupe, one of France’s overseas territories.Darmanin said 29 people had been detained by police overnight.Authorities were sending 200 more police officers to the island and on Tuesday will impose a nightly curfew from 6 p.m. to 5 a.m.Protesters in Guadeloupe have staged road blockades and set cars on fire.They denounce France’s COVID-19 health pass that is required to access restaurants and cafes, cultural venues, sport arenas and long-distance travel.They are also protesting France’s mandatory vaccinations for health care workers.___ Grieshaber reported from Berlin.AP reporters from across Europe contributed reporting.___ Follow AP’s pandemic coverage at https://apnews.com/hub/coronavirus-pandemic AP NEWS Top Stories Video Contact Us Cookie Settings Download AP NEWS Connect with the definitive source for global and local news More from AP ap.org AP Insights AP Definitive Source Blog AP Images Spotlight AP Explore AP Books Follow AP The Associated Press About Contact Customer Support Careers Terms & Conditions Privacy All contents © copyright 2021 The Associated Press.All rights reserved.\n",
            "Len of text AP NEWS Sections U.S. News World News Politics Sports Entertainment Oddities Lifestyle Health Science Business Technology Photography Religion Travel Press Releases Science Technology Business U.S. News World News Politics Entertainment Sports Oddities Lifestyle Health Photography Videos AP RADIO Update hourly Sections U.S. News World News Politics Sports Entertainment Oddities Lifestyle Health Science Business Technology Photography Religion Travel Press Releases Trending News Climate Coronavirus pandemic Kyle Rittenhouse Ahmaud Arbery AP Top 25 College Football Poll Search ADVERTISEMENT https://apnews.com/article/europe-protests-virus-restrictions-netherlands-austria-italy-bea60fffc55590d0b956752274ddfb88 Click to copy https://apnews.com/article/europe-protests-virus-restrictions-netherlands-austria-italy-bea60fffc55590d0b956752274ddfb88 Click to copy Related topics Coronavirus pandemic Business Health Travel Switzerland Italy Austria Vienna Rotterdam Croatia Europe Northern Ireland AP Top News World News Netherlands Protests erupt over virus rules in Austria, Italy, Croatia By EMILY SCHULTHEIS and KIRSTEN GRIESHABER November 20, 2021 GMT 1 of 20 Demonstrators shout slogans and light flares during a demonstration against measures to battle the coronavirus pandemic in Vienna, Austria, Saturday, Nov. 20, 2021.Thousands of protesters are expected to gather in Vienna after the Austrian government announced a nationwide lockdown to contain the quickly rising coronavirus infections in the country.Banner reads: ' Controls the border.Not your people'.(AP Photo/Florian Schroetter) 1 of 20 Demonstrators shout slogans and light flares during a demonstration against measures to battle the coronavirus pandemic in Vienna, Austria, Saturday, Nov. 20, 2021.Thousands of protesters are expected to gather in Vienna after the Austrian government announced a nationwide lockdown to contain the quickly rising coronavirus infections in the country.Banner reads: ' Controls the border.Not your people'.(AP Photo/Florian Schroetter) VIENNA (AP) — Tens of thousands of protesters, many from far-right groups, marched through Vienna on Saturday after the Austrian government announced a nationwide lockdown beginning Monday to contain skyrocketing coronavirus infections.Demonstrations against virus restrictions also took place in Switzerland, Croatia, Italy, Northern Ireland and the Netherlands on Saturday, a day after Dutch police opened fire on protesters and seven people were injured in rioting that erupted in Rotterdam.Protesters rallied against coronavirus restrictions and mandatory COVID-19 passes needed in many European countries to enter restaurants, Christmas markets or sports events, as well as mandatory vaccinations.The Austrian lockdown will start Monday and comes as average daily deaths have tripled in recent weeks and hospitals in heavily hit states have warned that intensive care units are reaching capacity.The lockdown will last at least 10 days but could go up to 20, officials said.People will be able to leave their homes only for specific reasons, including buying groceries, going to the doctor or exercising.The government also will make vaccinations mandatory starting Feb. 1.Not quite 66% of Austria’s 8.9 million people are fully vaccinated, one of the lowest rates in Western Europe.Saturday’s march started off at Vienna’s massive Heldenplatz square.Chanting “Resistance!” and blowing whistles, protesters moved down the city’s inner ring road.Many waved Austrian flags and carried signs mocking Chancellor Alexander Schallenberg and Health Minister Wolfgang Mueckstein.Some wore doctor’s scrubs; others donned tinfoil hats.Most signs focused on the vaccine mandate: “My Body, My Choice,” read one.“We’re Standing Up for Our Kids!” said another.ADVERTISEMENT Among those protesting were members of far-right and extreme-right parties and groups, including the far-right Freedom Party, the anti-vaccine MFG party and the extreme-right Identitarians.About 1,300 police officers were on duty, and 35,000 protesters participated in different marches across the city, police said.Police said several protesters were detained, but didn’t give specific numbers.Later Saturday night, protesters threw bottles and beer cans and fired pyrotechnics at police, who then used pepper spray to disperse the crowds.Freedom Party leader Herbert Kickl, who recently tested positive for COVID-19, appeared via video, denouncing what he called “totalitarian” measures from a government “that believes it should think and decide for us.” Schallenberg apologized to all vaccinated people on Friday, saying it wasn’t fair they had to suffer under the renewed lockdown restrictions.“I’m sorry to take this drastic step,” he said on public broadcaster ORF.In neighboring Switzerland, 2,000 people protested an upcoming referendum on whether to approve the government’s COVID-19 restrictions law, claiming it was discriminatory, public broadcaster SRF reported.A day after the Rotterdam rioting, thousands gathered on Amsterdam’s central Dam Square, despite organizers calling off the protest.They walked peacefully through the streets, closely monitored by police.“This policy (anti coronavirus measures) makes a lot of conflicts between the people,” Hugo Gietelink from Amsterdam told The Associated Press.“I think it is very important that the vaccinated and non-vaccinated have to make a friendship again.” A few hundred people also marched through the southern Dutch city of Breda.One organizer, Joost Eras, told broadcaster NOS he didn’t expect violence after consulting with police.“We certainly don’t support what happened in Rotterdam.We were shocked by it,” he said.In Italy, 3,000 turned out in the capital’s Circus Maximus, a field where in ancient times Romans staged popular entertainment, to protest against “Green Pass” certificates required at workplaces, restaurants, cinemas, theaters, sports venues and gyms, as well as for long-distance train, bus or ferry travel.“People like us never give up,” read one banner, in the red, white and green colors of the Italian flag.Almost no one wore a protective mask.In Northern Ireland, several hundred people opposed to vaccine passports protested outside the city hall in Belfast, where the city’s Christmas market opened Saturday -- a market where proof of vaccination or a negative COVID-19 test was required.The Northern Ireland government voted this week to introduce vaccine certificates for admission to nightclubs, bars and restaurants starting Dec. 13.Some protesters carried signs that have been widely criticized as offensive, comparing coronavirus restrictions to the actions of Nazi Germany.In Croatia, thousands gathered in the capital of Zagreb, carrying flags, nationalist and religious symbols, along with banners against vaccination and what they describe as restrictions of people’s freedoms.In France, Interior Minister Gerald Darmanin condemned violent protests in the Caribbean island of Guadeloupe, one of France’s overseas territories.Darmanin said 29 people had been detained by police overnight.Authorities were sending 200 more police officers to the island and on Tuesday will impose a nightly curfew from 6 p.m. to 5 a.m.Protesters in Guadeloupe have staged road blockades and set cars on fire.They denounce France’s COVID-19 health pass that is required to access restaurants and cafes, cultural venues, sport arenas and long-distance travel.They are also protesting France’s mandatory vaccinations for health care workers.___ Grieshaber reported from Berlin.AP reporters from across Europe contributed reporting.___ Follow AP’s pandemic coverage at https://apnews.com/hub/coronavirus-pandemic AP NEWS Top Stories Video Contact Us Cookie Settings Download AP NEWS Connect with the definitive source for global and local news More from AP ap.org AP Insights AP Definitive Source Blog AP Images Spotlight AP Explore AP Books Follow AP The Associated Press About Contact Customer Support Careers Terms & Conditions Privacy All contents © copyright 2021 The Associated Press.All rights reserved.\n",
            "CPU times: user 5 µs, sys: 0 ns, total: 5 µs\n",
            "Wall time: 10.3 µs\n",
            "Summarized Text tens of thousands of protesters, many from far-right groups, marched through Vienna on Saturday after the Austrian government announced a nationwide lockdown beginning Monday . the lockdown comes as average daily deaths have tripled in recent weeks and hospitals in heavily hit states warn that intensive care units are reaching capacity .\n"
          ]
        }
      ]
    },
    {
      "cell_type": "code",
      "metadata": {
        "colab": {
          "base_uri": "https://localhost:8080/"
        },
        "id": "Goq078aZgDnd",
        "outputId": "d4c79c28-17b8-45bb-b416-e896d563a1ad"
      },
      "source": [
        "run_summarizartion('output_file6')"
      ],
      "execution_count": 17,
      "outputs": [
        {
          "output_type": "stream",
          "name": "stdout",
          "text": [
            "extracted text AP NEWS Sections U.S. News World News Politics Sports Entertainment Oddities Lifestyle Health Science Business Technology Photography Religion Travel Press Releases Science Technology Business U.S. News World News Politics Entertainment Sports Oddities Lifestyle Health Photography Videos AP RADIO Update hourly Sections U.S. News World News Politics Sports Entertainment Oddities Lifestyle Health Science Business Technology Photography Religion Travel Press Releases Trending News Climate Coronavirus pandemic Kyle Rittenhouse Ahmaud Arbery AP Top 25 College Football Poll Search ADVERTISEMENT https://apnews.com/article/coronavirus-pandemic-health-europe-france-belgium-e8ebd8f11256ab99b1aef9b058679cd1 Click to copy https://apnews.com/article/coronavirus-pandemic-health-europe-france-belgium-e8ebd8f11256ab99b1aef9b058679cd1 Click to copy Related topics Coronavirus pandemic Health France Europe Brussels Belgium French prime minister positive for COVID-19, as cases rise November 22, 2021 GMT 1 of 3 French Prime Minister Jean Castex gives a statement after a Belgian-French security consultation meeting at Egmont Palace in Brussels, Monday, Nov. 22, 2021.(AP Photo/Olivier Matthys) 1 of 3 French Prime Minister Jean Castex gives a statement after a Belgian-French security consultation meeting at Egmont Palace in Brussels, Monday, Nov. 22, 2021.(AP Photo/Olivier Matthys) PARIS (AP) — France’s prime minister tested positive for COVID-19 on Monday, hours after returning from a visit to neighboring Belgium and just as France is seeing a nationwide resurgence of infections, according to his office.The positive test also means that his Belgian counterpart Alexander De Croo and four other minister immediately went into quarantine since they met with Castex for talks in Brussels earlier Monday.French Prime Minister Jean Castex will adapt his schedule for the coming 10 days to continue his activities in isolation, his office said.Officials at the prime minister’s headquarters did not comment on whether Castex has any virus symptoms.One of Castex’s daughters tested positive Monday after her father returned from a meeting with Belgian Prime Minister Alexander de Croo in Brussels, and Castex himself then took two tests that were both positive, his office said.De Croo’s office said he will be tested Wednesday and will self-isolate while awaiting the result, as will the foreign affairs, defense, justice and home ministers.“Since Prime Minister De Croo received the French Prime Minister for security talks, he has immediately interrupted his activities,” a statement from his office said.While 75% of France’s population is vaccinated, the number of virus infections has risen quickly in recent weeks.Hospitalizations and deaths linked to the virus are also rising in France, though are so far well below the crisis levels of earlier surges.French President Emmanuel Macron contracted COVID-19 last December, and other government ministers have also had the virus.AP NEWS Top Stories Video Contact Us Cookie Settings Download AP NEWS Connect with the definitive source for global and local news More from AP ap.org AP Insights AP Definitive Source Blog AP Images Spotlight AP Explore AP Books Follow AP The Associated Press About Contact Customer Support Careers Terms & Conditions Privacy All contents © copyright 2021 The Associated Press.All rights reserved.\n",
            "Len of text AP NEWS Sections U.S. News World News Politics Sports Entertainment Oddities Lifestyle Health Science Business Technology Photography Religion Travel Press Releases Science Technology Business U.S. News World News Politics Entertainment Sports Oddities Lifestyle Health Photography Videos AP RADIO Update hourly Sections U.S. News World News Politics Sports Entertainment Oddities Lifestyle Health Science Business Technology Photography Religion Travel Press Releases Trending News Climate Coronavirus pandemic Kyle Rittenhouse Ahmaud Arbery AP Top 25 College Football Poll Search ADVERTISEMENT https://apnews.com/article/coronavirus-pandemic-health-europe-france-belgium-e8ebd8f11256ab99b1aef9b058679cd1 Click to copy https://apnews.com/article/coronavirus-pandemic-health-europe-france-belgium-e8ebd8f11256ab99b1aef9b058679cd1 Click to copy Related topics Coronavirus pandemic Health France Europe Brussels Belgium French prime minister positive for COVID-19, as cases rise November 22, 2021 GMT 1 of 3 French Prime Minister Jean Castex gives a statement after a Belgian-French security consultation meeting at Egmont Palace in Brussels, Monday, Nov. 22, 2021.(AP Photo/Olivier Matthys) 1 of 3 French Prime Minister Jean Castex gives a statement after a Belgian-French security consultation meeting at Egmont Palace in Brussels, Monday, Nov. 22, 2021.(AP Photo/Olivier Matthys) PARIS (AP) — France’s prime minister tested positive for COVID-19 on Monday, hours after returning from a visit to neighboring Belgium and just as France is seeing a nationwide resurgence of infections, according to his office.The positive test also means that his Belgian counterpart Alexander De Croo and four other minister immediately went into quarantine since they met with Castex for talks in Brussels earlier Monday.French Prime Minister Jean Castex will adapt his schedule for the coming 10 days to continue his activities in isolation, his office said.Officials at the prime minister’s headquarters did not comment on whether Castex has any virus symptoms.One of Castex’s daughters tested positive Monday after her father returned from a meeting with Belgian Prime Minister Alexander de Croo in Brussels, and Castex himself then took two tests that were both positive, his office said.De Croo’s office said he will be tested Wednesday and will self-isolate while awaiting the result, as will the foreign affairs, defense, justice and home ministers.“Since Prime Minister De Croo received the French Prime Minister for security talks, he has immediately interrupted his activities,” a statement from his office said.While 75% of France’s population is vaccinated, the number of virus infections has risen quickly in recent weeks.Hospitalizations and deaths linked to the virus are also rising in France, though are so far well below the crisis levels of earlier surges.French President Emmanuel Macron contracted COVID-19 last December, and other government ministers have also had the virus.AP NEWS Top Stories Video Contact Us Cookie Settings Download AP NEWS Connect with the definitive source for global and local news More from AP ap.org AP Insights AP Definitive Source Blog AP Images Spotlight AP Explore AP Books Follow AP The Associated Press About Contact Customer Support Careers Terms & Conditions Privacy All contents © copyright 2021 The Associated Press.All rights reserved.\n",
            "CPU times: user 4 µs, sys: 0 ns, total: 4 µs\n",
            "Wall time: 10.5 µs\n",
            "Summarized Text AP RADIO Update hourly Sections U.S. News World News Politics Sports Entertainment Oddities Lifestyle Health Science Business Technology Photography Religion Travel Press Releases Trending News Climate Coronavirus pandemic Kyle Rittenhouse Ahmaud Arbery AP Top 25 College Football Poll Search .\n"
          ]
        }
      ]
    },
    {
      "cell_type": "code",
      "metadata": {
        "colab": {
          "base_uri": "https://localhost:8080/"
        },
        "id": "TC9L_FBRgEI6",
        "outputId": "d4519424-2873-42d8-b97e-41b2dc40bdd5"
      },
      "source": [
        "run_summarizartion('output_file7')"
      ],
      "execution_count": 18,
      "outputs": [
        {
          "output_type": "stream",
          "name": "stdout",
          "text": [
            "extracted text AP NEWS Sections U.S. News World News Politics Sports Entertainment Oddities Lifestyle Health Science Business Technology Photography Religion Travel Press Releases Science Technology Business U.S. News World News Politics Entertainment Sports Oddities Lifestyle Health Photography Videos AP RADIO Update hourly Sections U.S. News World News Politics Sports Entertainment Oddities Lifestyle Health Science Business Technology Photography Religion Travel Press Releases Trending News Climate Coronavirus pandemic Kyle Rittenhouse Ahmaud Arbery AP Top 25 College Football Poll Search ADVERTISEMENT https://apnews.com/article/coronavirus-pandemic-business-health-japan-tokyo-7257970ada15e0940b404be8b7a7eb81 Click to copy https://apnews.com/article/coronavirus-pandemic-business-health-japan-tokyo-7257970ada15e0940b404be8b7a7eb81 Click to copy Related topics Coronavirus pandemic Business Health Japan Tokyo Public health Relatives of virus dead question Japan’s stay-at-home policy By YURI KAGEYAMA November 21, 2021 GMT 1 of 5 Kaori Takada poses with her brother's photo in front of her family altar at her home in Matsubara, south of Osaka, western Japan, Tuesday, Nov. 16, 2021.Takada and another woman whose family member died at home while sick with the coronavirus have formed a group to protest the Japanese government's policy of having infected people recuperate at home.Takada's brother was diagnosed with the coronavirus this year.When he didn't answer calls from public health workers for three days, police went to his home and found him dead in his bed.He was 43.(AP Photo/Hiro Komae) 1 of 5 Kaori Takada poses with her brother's photo in front of her family altar at her home in Matsubara, south of Osaka, western Japan, Tuesday, Nov. 16, 2021.Takada and another woman whose family member died at home while sick with the coronavirus have formed a group to protest the Japanese government's policy of having infected people recuperate at home.Takada's brother was diagnosed with the coronavirus this year.When he didn't answer calls from public health workers for three days, police went to his home and found him dead in his bed.He was 43.(AP Photo/Hiro Komae) TOKYO (AP) — Yoshihiko Takeuchi, who ran a small restaurant on the island of Okinawa, told only a few friends he had the coronavirus.When he didn’t answer phone calls from public health workers for three days, police went to his home and found him dead in his bed.He was among hundreds of people who have died while subject to “jitaku ryoyo,” or a policy of having some COVID-19 patients “recuperate at home.” In many countries, those with the virus stay home to isolate and recover, but critics say that in Japan, a country with one of the most affordable and accessible health care systems, people have been denied hospital care, and the policy amounted to “jitaku hochi,” or “abandonment at home.” Takeuchi’s sister and a daughter of another man who died at home of COVID-19 have started an online support group for grieving relatives of such victims.Japan has seen caseloads fall dramatically in the past two months and the government has drawn up a road map to improve its pandemic response.A plan adopted Nov. 12 aims to have beds for up to 37,000 patients nationwide by the end of November, up from 28,000.ADVERTISEMENT That compares with more than 231,000 coronavirus patients needing hospitalization in late August, according to government data.Many had to recuperate at home.Prime Minister Fumio Kishida also promised to have health care workers routinely visit COVID-19 patients with mild symptoms at home.Public anger over inadequate treatment in the country with the world’s largest number of beds per capita is a factor driving such changes.Kishida’s predecessor, Yoshihide Suga, resigned after only a year in office, mainly because of widespread dissatisfaction with the government’s pandemic response.Speaking up takes courage in a conformist society like Japan, and class action lawsuits are rare.But Kaori Takada, Takeuchi’s sister, and others in her group believe their loved ones were denied the medical care they deserved.“I had to raise my voice,” she said.She is not sure what she will do.Thousands are following the group’s Twitter account and others have come forward with similar painful stories.Takada, who lives in Osaka and runs a small nursery in her home, was Takeuchi’s only remaining relative.They spoke on the phone right before he was diagnosed, but he did not tell her he was sick alone at home.Given widespread phobias in Japan about COVID-19, he didn’t want word to get out.Takada said he was a gentle man and much loved.“We are coming together, trying to heal, sharing how people have been treated so cruelly, and perhaps helping each other take that first step forward,” she said in a telephone interview.Japan’s local public health bureaus, responsible for arranging for the care of COVID-19 patients, struggled to find hospitals that would admit them.In some cases, ambulances were shunted from one hospital to the next.ADVERTISEMENT A few makeshift facilities provided treatment and supplemental oxygen, but calls to set up big field hospitals went unheeded.In New York, for instance, hospitals were quickly converted, adding thousands of extra beds and ICUs for virus patients.A Navy medical ship and other facilities were turned into makeshift hospitals.At the outbreak’s peak in April 2020, there were more than 1,600 new hospitalizations a day citywide.In August of this year, when infections in Japan surged with the spread of the delta variant, Japan’s hospital systems were quickly declared “stretched thin,” even though it has had far fewer COVID-19 cases than the U.S., Europe and some other Asian and South American countries.In early September, more than 134,000 people were sick with the virus at home, according to Health Ministry records.About 18,000 Japanese have died of COVID-19-related deaths in a population of 126 million.No one knows exactly how many died at home, though the National Police Agency, which tracks deaths, said 951 people have died at home since March 2020, with 250 of them in August 2021 alone.Shigeru Omi, a top government adviser on the coronavirus and head of the Japan Community Health Care Organization, or JCHO, has urged the government to set up emergency field hospitals, specifically to avoid deaths from “jitaku ryoyo.” Japan’s health care system is dominated by small, private hospitals and clinics, and few inpatient facilities are equipped to handle infectious diseases.Many beds are occupied by psychiatric patients and by the chronically ill and elderly, and there are relatively few doctors, intensive care specialists and nurses.In some places, local authorities arranged for such hospitals to accept patients who were no longer infectious and rehabilitating from serious illness after they were treated at larger hospitals.But overall, caseloads vastly outnumbered the beds available for critical care.The JCHO runs 57 of Japan’s biggest hospitals.All are heavily subsidized by taxpayer money.The Health Ministry said it provided up to 100,000 yen ($900) per bed for COVID-19 patients.In October, JCHO said it had prepared 972 beds nationwide for virus patients, or fewer than 7% of its more than 14,000 overall beds, though in August it temporarily made room for about 1,800 patients.JCHO declined to comment on Kishida’s call for providing thousands more beds.Dr. Takanori Yamamoto, a critical care physician at Nagoya University, believes hospital care needs to be restructured to focus on seriously ill patients in designated facilities, instead of spreading them across small hospitals that each have a handful of ICU beds.Resources were improperly managed, including widespread hospitalizations of people who didn’t need it, he said.Public health bureaus are designed for research and are ill-suited to be “gatekeepers” for doling out COVID-19 care, he added.The problems are deeply rooted in a decades-old system, and Yamamoto worries that even if Japan manages to ride out this pandemic, it will be unprepared for the next one.“No other nation turned away patients like this, even countries that had far more cases.The idea of doctors not seeing patients should be out of the question.If you are a doctor, you have to take care of the sick,” Yamamoto said.“Japan has done nothing.There has been no leadership,” he said.The time to act is now, before another wave of coronavirus infections hits, said Dr. Kenji Shibuya, research director at the Tokyo Foundation for Policy Research, an independent think tank.“They didn’t act before, even though they knew it’s coming,” said Shibuya, who has experience working in Britain.“It is about a lack of commitment, lack of will, lack of passion to make a change at a time of crisis,” he said.Back in August, Yuko Nishizato, co-founder of Takada’s group, pleaded with hospitals for her 73-year-old father to be admitted.But he died after testing positive for COVID-19 without ever getting treatment, apart from medication for a fever.Phone records show he repeatedly called the local public health center right up to his death.It breaks her heart to know all he got were recordings.“I wanted him to live to see his grandchildren.I wanted him to see a more grown-up me,” Nishizato said.“There are so many who have suffered the same way, and I don’t understand why.” —- Follow AP’s coronavirus coverage at: https://apnews.com/hub/coronavirus-pandemic ___ Yuri Kageyama is on Twitter https://twitter.com/yurikageyama AP NEWS Top Stories Video Contact Us Cookie Settings Download AP NEWS Connect with the definitive source for global and local news More from AP ap.org AP Insights AP Definitive Source Blog AP Images Spotlight AP Explore AP Books Follow AP The Associated Press About Contact Customer Support Careers Terms & Conditions Privacy All contents © copyright 2021 The Associated Press.All rights reserved.\n",
            "Len of text AP NEWS Sections U.S. News World News Politics Sports Entertainment Oddities Lifestyle Health Science Business Technology Photography Religion Travel Press Releases Science Technology Business U.S. News World News Politics Entertainment Sports Oddities Lifestyle Health Photography Videos AP RADIO Update hourly Sections U.S. News World News Politics Sports Entertainment Oddities Lifestyle Health Science Business Technology Photography Religion Travel Press Releases Trending News Climate Coronavirus pandemic Kyle Rittenhouse Ahmaud Arbery AP Top 25 College Football Poll Search ADVERTISEMENT https://apnews.com/article/coronavirus-pandemic-business-health-japan-tokyo-7257970ada15e0940b404be8b7a7eb81 Click to copy https://apnews.com/article/coronavirus-pandemic-business-health-japan-tokyo-7257970ada15e0940b404be8b7a7eb81 Click to copy Related topics Coronavirus pandemic Business Health Japan Tokyo Public health Relatives of virus dead question Japan’s stay-at-home policy By YURI KAGEYAMA November 21, 2021 GMT 1 of 5 Kaori Takada poses with her brother's photo in front of her family altar at her home in Matsubara, south of Osaka, western Japan, Tuesday, Nov. 16, 2021.Takada and another woman whose family member died at home while sick with the coronavirus have formed a group to protest the Japanese government's policy of having infected people recuperate at home.Takada's brother was diagnosed with the coronavirus this year.When he didn't answer calls from public health workers for three days, police went to his home and found him dead in his bed.He was 43.(AP Photo/Hiro Komae) 1 of 5 Kaori Takada poses with her brother's photo in front of her family altar at her home in Matsubara, south of Osaka, western Japan, Tuesday, Nov. 16, 2021.Takada and another woman whose family member died at home while sick with the coronavirus have formed a group to protest the Japanese government's policy of having infected people recuperate at home.Takada's brother was diagnosed with the coronavirus this year.When he didn't answer calls from public health workers for three days, police went to his home and found him dead in his bed.He was 43.(AP Photo/Hiro Komae) TOKYO (AP) — Yoshihiko Takeuchi, who ran a small restaurant on the island of Okinawa, told only a few friends he had the coronavirus.When he didn’t answer phone calls from public health workers for three days, police went to his home and found him dead in his bed.He was among hundreds of people who have died while subject to “jitaku ryoyo,” or a policy of having some COVID-19 patients “recuperate at home.” In many countries, those with the virus stay home to isolate and recover, but critics say that in Japan, a country with one of the most affordable and accessible health care systems, people have been denied hospital care, and the policy amounted to “jitaku hochi,” or “abandonment at home.” Takeuchi’s sister and a daughter of another man who died at home of COVID-19 have started an online support group for grieving relatives of such victims.Japan has seen caseloads fall dramatically in the past two months and the government has drawn up a road map to improve its pandemic response.A plan adopted Nov. 12 aims to have beds for up to 37,000 patients nationwide by the end of November, up from 28,000.ADVERTISEMENT That compares with more than 231,000 coronavirus patients needing hospitalization in late August, according to government data.Many had to recuperate at home.Prime Minister Fumio Kishida also promised to have health care workers routinely visit COVID-19 patients with mild symptoms at home.Public anger over inadequate treatment in the country with the world’s largest number of beds per capita is a factor driving such changes.Kishida’s predecessor, Yoshihide Suga, resigned after only a year in office, mainly because of widespread dissatisfaction with the government’s pandemic response.Speaking up takes courage in a conformist society like Japan, and class action lawsuits are rare.But Kaori Takada, Takeuchi’s sister, and others in her group believe their loved ones were denied the medical care they deserved.“I had to raise my voice,” she said.She is not sure what she will do.Thousands are following the group’s Twitter account and others have come forward with similar painful stories.Takada, who lives in Osaka and runs a small nursery in her home, was Takeuchi’s only remaining relative.They spoke on the phone right before he was diagnosed, but he did not tell her he was sick alone at home.Given widespread phobias in Japan about COVID-19, he didn’t want word to get out.Takada said he was a gentle man and much loved.“We are coming together, trying to heal, sharing how people have been treated so cruelly, and perhaps helping each other take that first step forward,” she said in a telephone interview.Japan’s local public health bureaus, responsible for arranging for the care of COVID-19 patients, struggled to find hospitals that would admit them.In some cases, ambulances were shunted from one hospital to the next.ADVERTISEMENT A few makeshift facilities provided treatment and supplemental oxygen, but calls to set up big field hospitals went unheeded.In New York, for instance, hospitals were quickly converted, adding thousands of extra beds and ICUs for virus patients.A Navy medical ship and other facilities were turned into makeshift hospitals.At the outbreak’s peak in April 2020, there were more than 1,600 new hospitalizations a day citywide.In August of this year, when infections in Japan surged with the spread of the delta variant, Japan’s hospital systems were quickly declared “stretched thin,” even though it has had far fewer COVID-19 cases than the U.S., Europe and some other Asian and South American countries.In early September, more than 134,000 people were sick with the virus at home, according to Health Ministry records.About 18,000 Japanese have died of COVID-19-related deaths in a population of 126 million.No one knows exactly how many died at home, though the National Police Agency, which tracks deaths, said 951 people have died at home since March 2020, with 250 of them in August 2021 alone.Shigeru Omi, a top government adviser on the coronavirus and head of the Japan Community Health Care Organization, or JCHO, has urged the government to set up emergency field hospitals, specifically to avoid deaths from “jitaku ryoyo.” Japan’s health care system is dominated by small, private hospitals and clinics, and few inpatient facilities are equipped to handle infectious diseases.Many beds are occupied by psychiatric patients and by the chronically ill and elderly, and there are relatively few doctors, intensive care specialists and nurses.In some places, local authorities arranged for such hospitals to accept patients who were no longer infectious and rehabilitating from serious illness after they were treated at larger hospitals.But overall, caseloads vastly outnumbered the beds available for critical care.The JCHO runs 57 of Japan’s biggest hospitals.All are heavily subsidized by taxpayer money.The Health Ministry said it provided up to 100,000 yen ($900) per bed for COVID-19 patients.In October, JCHO said it had prepared 972 beds nationwide for virus patients, or fewer than 7% of its more than 14,000 overall beds, though in August it temporarily made room for about 1,800 patients.JCHO declined to comment on Kishida’s call for providing thousands more beds.Dr. Takanori Yamamoto, a critical care physician at Nagoya University, believes hospital care needs to be restructured to focus on seriously ill patients in designated facilities, instead of spreading them across small hospitals that each have a handful of ICU beds.Resources were improperly managed, including widespread hospitalizations of people who didn’t need it, he said.Public health bureaus are designed for research and are ill-suited to be “gatekeepers” for doling out COVID-19 care, he added.The problems are deeply rooted in a decades-old system, and Yamamoto worries that even if Japan manages to ride out this pandemic, it will be unprepared for the next one.“No other nation turned away patients like this, even countries that had far more cases.The idea of doctors not seeing patients should be out of the question.If you are a doctor, you have to take care of the sick,” Yamamoto said.“Japan has done nothing.There has been no leadership,” he said.The time to act is now, before another wave of coronavirus infections hits, said Dr. Kenji Shibuya, research director at the Tokyo Foundation for Policy Research, an independent think tank.“They didn’t act before, even though they knew it’s coming,” said Shibuya, who has experience working in Britain.“It is about a lack of commitment, lack of will, lack of passion to make a change at a time of crisis,” he said.Back in August, Yuko Nishizato, co-founder of Takada’s group, pleaded with hospitals for her 73-year-old father to be admitted.But he died after testing positive for COVID-19 without ever getting treatment, apart from medication for a fever.Phone records show he repeatedly called the local public health center right up to his death.It breaks her heart to know all he got were recordings.“I wanted him to live to see his grandchildren.I wanted him to see a more grown-up me,” Nishizato said.“There are so many who have suffered the same way, and I don’t understand why.” —- Follow AP’s coronavirus coverage at: https://apnews.com/hub/coronavirus-pandemic ___ Yuri Kageyama is on Twitter https://twitter.com/yurikageyama AP NEWS Top Stories Video Contact Us Cookie Settings Download AP NEWS Connect with the definitive source for global and local news More from AP ap.org AP Insights AP Definitive Source Blog AP Images Spotlight AP Explore AP Books Follow AP The Associated Press About Contact Customer Support Careers Terms & Conditions Privacy All contents © copyright 2021 The Associated Press.All rights reserved.\n",
            "CPU times: user 4 µs, sys: 0 ns, total: 4 µs\n",
            "Wall time: 10 µs\n",
            "Summarized Text a woman whose family member died at home while sick with the coronavirus has formed a group to protest the Japanese government's policy of having infected people recuperate at home . in many countries, those with the virus stay home to isolate and recover, but critics say that in Japan, people have been denied hospital care .\n"
          ]
        }
      ]
    },
    {
      "cell_type": "code",
      "metadata": {
        "colab": {
          "base_uri": "https://localhost:8080/"
        },
        "id": "mjQQfKTxgEuo",
        "outputId": "51482fa2-bd68-46ff-cfa6-32f63be646d4"
      },
      "source": [
        "run_summarizartion('output_file8')"
      ],
      "execution_count": 19,
      "outputs": [
        {
          "output_type": "stream",
          "name": "stdout",
          "text": [
            "extracted text AP NEWS Sections U.S. News World News Politics Sports Entertainment Oddities Lifestyle Health Science Business Technology Photography Religion Travel Press Releases Science Technology Business U.S. News World News Politics Entertainment Sports Oddities Lifestyle Health Photography Videos AP RADIO Update hourly Sections U.S. News World News Politics Sports Entertainment Oddities Lifestyle Health Science Business Technology Photography Religion Travel Press Releases Trending News Climate Coronavirus pandemic Kyle Rittenhouse Ahmaud Arbery AP Top 25 College Football Poll Search ADVERTISEMENT https://apnews.com/article/coronavirus-pandemic-health-vancouver-washington-e544622bc8e602fbe2d3d6ac63d60034 Click to copy https://apnews.com/article/coronavirus-pandemic-health-vancouver-washington-e544622bc8e602fbe2d3d6ac63d60034 Click to copy Related topics Coronavirus pandemic Health Vancouver Washington About 25 inmates COVID-19 positive at SW Washington jail November 23, 2021 GMT VANCOUVER, Wash. (AP) — About two dozen people lodged in a southwest Washington jail have tested positive for COVID-19.Clark County Jail Chief Phil Sample estimated as of Monday morning that between 20 to 25 inmates tested positive out of a facility population of about 340.That means about 7% of the in-custody population tested positive, The Columbian reported .Sample said staff has isolated the pods with people who have tested positive and that medical staff is checking on them often, if not daily.The case count Monday was the highest since Sample took over as jail chief in July, he said.The jail saw an outbreak in the late fall of 2020, with 44 inmates testing positive for COVID-19 by early December.People in custody are screened for COVID-19 before being booked and they wear masks, according to Sample.He said they’ve been following Clark County Public Health and the Centers for Disease Control and Prevention protocol.No staff members have tested positive, Sample said.AP NEWS Top Stories Video Contact Us Cookie Settings Download AP NEWS Connect with the definitive source for global and local news More from AP ap.org AP Insights AP Definitive Source Blog AP Images Spotlight AP Explore AP Books Follow AP The Associated Press About Contact Customer Support Careers Terms & Conditions Privacy All contents © copyright 2021 The Associated Press.All rights reserved.\n",
            "Len of text AP NEWS Sections U.S. News World News Politics Sports Entertainment Oddities Lifestyle Health Science Business Technology Photography Religion Travel Press Releases Science Technology Business U.S. News World News Politics Entertainment Sports Oddities Lifestyle Health Photography Videos AP RADIO Update hourly Sections U.S. News World News Politics Sports Entertainment Oddities Lifestyle Health Science Business Technology Photography Religion Travel Press Releases Trending News Climate Coronavirus pandemic Kyle Rittenhouse Ahmaud Arbery AP Top 25 College Football Poll Search ADVERTISEMENT https://apnews.com/article/coronavirus-pandemic-health-vancouver-washington-e544622bc8e602fbe2d3d6ac63d60034 Click to copy https://apnews.com/article/coronavirus-pandemic-health-vancouver-washington-e544622bc8e602fbe2d3d6ac63d60034 Click to copy Related topics Coronavirus pandemic Health Vancouver Washington About 25 inmates COVID-19 positive at SW Washington jail November 23, 2021 GMT VANCOUVER, Wash. (AP) — About two dozen people lodged in a southwest Washington jail have tested positive for COVID-19.Clark County Jail Chief Phil Sample estimated as of Monday morning that between 20 to 25 inmates tested positive out of a facility population of about 340.That means about 7% of the in-custody population tested positive, The Columbian reported .Sample said staff has isolated the pods with people who have tested positive and that medical staff is checking on them often, if not daily.The case count Monday was the highest since Sample took over as jail chief in July, he said.The jail saw an outbreak in the late fall of 2020, with 44 inmates testing positive for COVID-19 by early December.People in custody are screened for COVID-19 before being booked and they wear masks, according to Sample.He said they’ve been following Clark County Public Health and the Centers for Disease Control and Prevention protocol.No staff members have tested positive, Sample said.AP NEWS Top Stories Video Contact Us Cookie Settings Download AP NEWS Connect with the definitive source for global and local news More from AP ap.org AP Insights AP Definitive Source Blog AP Images Spotlight AP Explore AP Books Follow AP The Associated Press About Contact Customer Support Careers Terms & Conditions Privacy All contents © copyright 2021 The Associated Press.All rights reserved.\n",
            "CPU times: user 5 µs, sys: 0 ns, total: 5 µs\n",
            "Wall time: 11.7 µs\n",
            "Summarized Text between 20 to 25 inmates tested positive out of a facility population of about 340 . that means about 7% of the in-custody population tested positive . the case count Monday was the highest since sample took over as jail chief in July .\n"
          ]
        }
      ]
    },
    {
      "cell_type": "code",
      "metadata": {
        "colab": {
          "base_uri": "https://localhost:8080/"
        },
        "id": "ZE_C4yAWgFJp",
        "outputId": "8c90534e-9ea3-4cbd-aadb-b3b4f80b4209"
      },
      "source": [
        "run_summarizartion('output_file9')"
      ],
      "execution_count": 20,
      "outputs": [
        {
          "output_type": "stream",
          "name": "stdout",
          "text": [
            "extracted text AP NEWS Sections U.S. News World News Politics Sports Entertainment Oddities Lifestyle Health Science Business Technology Photography Religion Travel Press Releases Science Technology Business U.S. News World News Politics Entertainment Sports Oddities Lifestyle Health Photography Videos AP RADIO Update hourly Sections U.S. News World News Politics Sports Entertainment Oddities Lifestyle Health Science Business Technology Photography Religion Travel Press Releases Trending News Climate Coronavirus pandemic Kyle Rittenhouse Ahmaud Arbery AP Top 25 College Football Poll Search ADVERTISEMENT https://apnews.com/article/europe-coronavirus-vaccinated-vs-unvaccinated-eca483dc933075818334c74de26fb9c0 Click to copy https://apnews.com/article/europe-coronavirus-vaccinated-vs-unvaccinated-eca483dc933075818334c74de26fb9c0 Click to copy Related topics Coronavirus pandemic Lifestyle Health Pandemics COVID-19 pandemic Holidays Austria Europe Christmas AP Top News World News Europe’s COVID crisis pits vaccinated against unvaccinated By RAF CASERT and KAREL JANICEK November 20, 2021 GMT 1 of 20 FILE - Funeral house employees drag a coffin on a trolley as they arrive at the University Emergency Hospital morgue to take a COVID-19 victim for burial, in Bucharest, Romania, Monday, Nov. 8, 2021.This was supposed to be the Christmas in Europe where family and friends could once again embrace holiday festivities and one another.Instead, the continent is the global epicenter of the COVID-19 pandemic as cases soar to record levels in many countries.With infections spiking again despite nearly two years of restrictions, the health crisis increasingly is pitting citizen against citizen — the vaccinated against the unvaccinated.(AP Photo/Vadim Ghirda, File) 1 of 20 FILE - Funeral house employees drag a coffin on a trolley as they arrive at the University Emergency Hospital morgue to take a COVID-19 victim for burial, in Bucharest, Romania, Monday, Nov. 8, 2021.This was supposed to be the Christmas in Europe where family and friends could once again embrace holiday festivities and one another.Instead, the continent is the global epicenter of the COVID-19 pandemic as cases soar to record levels in many countries.With infections spiking again despite nearly two years of restrictions, the health crisis increasingly is pitting citizen against citizen — the vaccinated against the unvaccinated.(AP Photo/Vadim Ghirda, File) BRUSSELS (AP) — This was supposed to be the Christmas in Europe where family and friends could once again embrace holiday festivities and one another.Instead, the continent is the global epicenter of the COVID-19 pandemic as cases soar to record levels in many countries.With infections spiking again despite nearly two years of restrictions, the health crisis increasingly is pitting citizen against citizen — the vaccinated against the unvaccinated.Governments desperate to shield overburdened healthcare systems are imposing rules that limit choices for the unvaccinated in the hope that doing so will drive up rates of vaccinations.Austria on Friday went a step further, making vaccinations mandatory as of Feb. 1.“For a long time, maybe too long, I and others thought that it must be possible to convince people in Austria, to convince them to get vaccinated voluntarily,” Austrian Chancellor Alexander Schallenberg said.ADVERTISEMENT He called the move “our only way to break out of this vicious cycle of viral waves and lockdown discussions for good.” While Austria so far stands alone in the European Union in making vaccinations mandatory, more and more governments are clamping down.Starting Monday, Slovakia is banning people who haven’t been vaccinated from all nonessential stores and shopping malls.They also will not be allowed to attend any public event or gathering and will be required to test twice a week just to go to work.“A merry Christmas does not mean a Christmas without COVID-19,” warned Prime Minister Eduard Heger.“For that to happen, Slovakia would need to have a completely different vaccination rate.” He called the measures “a lockdown for the unvaccinated.” Slovakia, where just 45.3% of the 5.5 million population is fully vaccinated, reported a record 8,342 new virus cases on Tuesday.It is not only nations of central and eastern Europe that are suffering anew.Wealthy nations in the west also are being hit hard and imposing restrictions on their populations once again.“It is really, absolutely, time to take action,” German Chancellor Angela Merkel said.With a vaccination rate of 67.5%, her nation is now considering mandatory vaccinations for many health professionals.“All of Germany is one big outbreak,” Lothar Wieler, head of Germany’s disease control agency, told reporters Friday.“This is a nationwide state of emergency.We need to pull the emergency brake.” Greece, too, is targeting the unvaccinated.Prime Minister Kyriakos Mitsotakis announced a battery of new restrictions late Thursday for the unvaccinated, keeping them out of venues including bars, restaurants, cinemas, theaters, museums and gyms, even if they have tested negative.“It is an immediate act of protection and, of course, an indirect urge to be vaccinated,” Mitsotakis said.ADVERTISEMENT The restrictions enrage Clare Daly, an Irish EU legislator who is a member of the European parliament’s civil liberties and justice committee.She argues that nations are trampling individual rights.“In a whole number of cases, member states are excluding people from their ability to go to work,” Daly said, calling Austria’s restrictions on the unvaccinated that preceded its decision Friday to impose a full lockdown “a frightening scenario.” Even in Ireland, where 75.9 % of the population are fully vaccinated, she feels a backlash against holdouts.“There’s almost a sort of hate speech being whipped up against the unvaccinated,” she said.The world has had a history of mandatory vaccines in many nations for diseases such as smallpox and polio.Yet despite a global COVID-19 death toll exceeding 5 million, despite overwhelming medical evidence that vaccines highly protect against death or serious illness from COVID-19 and slow the pandemic’s spread, opposition to vaccinations remains stubbornly strong among parts of the population.Some 10,000 people, chanting “freedom, freedom,” gathered in Prague this week to protest Czech government restrictions imposed on the unvaccinated.“No single individual freedom is absolute,” countered Professor Paul De Grauwe of the London School of Economics.“The freedom not to be vaccinated needs to be limited to guarantee the freedom of others to enjoy good health,” he wrote for the liberal think tank Liberales.That principle is now turning friends away from each other and splitting families across European nations.Birgitte Schoenmakers, a general practitioner and professor at Leuven University, sees it on an almost daily basis.“It has turned into a battle between the people,” she said.She sees political conflicts whipped up by people willfully spreading conspiracy theories, but also intensely human stories.One of her patients has been locked out of the home of her parents because she dreads being vaccinated.Schoemakers said that while authorities had long baulked at the idea of mandatory vaccinations, the highly infectious delta variant is changing minds.“To make a U-turn on this is incredibly difficult,” she said.Spiking infections and measures to rein them in are combining to usher in a second straight grim holiday season in Europe.Leuven has already canceled its Christmas market, while in nearby Brussels a 60-foot Christmas tree was placed in the center of the city’s stunning Grand Place on Thursday but a decision on whether the Belgian capital’s festive market can go ahead will depend on the development of the virus surge.Paul Vierendeels, who donated the tree, hopes for a return to a semblance of a traditional Christmas.“We are glad to see they are making the effort to put up the tree, decorate it.It is a start,” he said.“After almost two difficult years, I think it is a good thing that some things, more normal in life, are taking place again.” ___ Follow all AP stories about the pandemic at https://apnews.com/hub/coronavirus-pandemic.AP NEWS Top Stories Video Contact Us Cookie Settings Download AP NEWS Connect with the definitive source for global and local news More from AP ap.org AP Insights AP Definitive Source Blog AP Images Spotlight AP Explore AP Books Follow AP The Associated Press About Contact Customer Support Careers Terms & Conditions Privacy All contents © copyright 2021 The Associated Press.All rights reserved.\n",
            "Len of text AP NEWS Sections U.S. News World News Politics Sports Entertainment Oddities Lifestyle Health Science Business Technology Photography Religion Travel Press Releases Science Technology Business U.S. News World News Politics Entertainment Sports Oddities Lifestyle Health Photography Videos AP RADIO Update hourly Sections U.S. News World News Politics Sports Entertainment Oddities Lifestyle Health Science Business Technology Photography Religion Travel Press Releases Trending News Climate Coronavirus pandemic Kyle Rittenhouse Ahmaud Arbery AP Top 25 College Football Poll Search ADVERTISEMENT https://apnews.com/article/europe-coronavirus-vaccinated-vs-unvaccinated-eca483dc933075818334c74de26fb9c0 Click to copy https://apnews.com/article/europe-coronavirus-vaccinated-vs-unvaccinated-eca483dc933075818334c74de26fb9c0 Click to copy Related topics Coronavirus pandemic Lifestyle Health Pandemics COVID-19 pandemic Holidays Austria Europe Christmas AP Top News World News Europe’s COVID crisis pits vaccinated against unvaccinated By RAF CASERT and KAREL JANICEK November 20, 2021 GMT 1 of 20 FILE - Funeral house employees drag a coffin on a trolley as they arrive at the University Emergency Hospital morgue to take a COVID-19 victim for burial, in Bucharest, Romania, Monday, Nov. 8, 2021.This was supposed to be the Christmas in Europe where family and friends could once again embrace holiday festivities and one another.Instead, the continent is the global epicenter of the COVID-19 pandemic as cases soar to record levels in many countries.With infections spiking again despite nearly two years of restrictions, the health crisis increasingly is pitting citizen against citizen — the vaccinated against the unvaccinated.(AP Photo/Vadim Ghirda, File) 1 of 20 FILE - Funeral house employees drag a coffin on a trolley as they arrive at the University Emergency Hospital morgue to take a COVID-19 victim for burial, in Bucharest, Romania, Monday, Nov. 8, 2021.This was supposed to be the Christmas in Europe where family and friends could once again embrace holiday festivities and one another.Instead, the continent is the global epicenter of the COVID-19 pandemic as cases soar to record levels in many countries.With infections spiking again despite nearly two years of restrictions, the health crisis increasingly is pitting citizen against citizen — the vaccinated against the unvaccinated.(AP Photo/Vadim Ghirda, File) BRUSSELS (AP) — This was supposed to be the Christmas in Europe where family and friends could once again embrace holiday festivities and one another.Instead, the continent is the global epicenter of the COVID-19 pandemic as cases soar to record levels in many countries.With infections spiking again despite nearly two years of restrictions, the health crisis increasingly is pitting citizen against citizen — the vaccinated against the unvaccinated.Governments desperate to shield overburdened healthcare systems are imposing rules that limit choices for the unvaccinated in the hope that doing so will drive up rates of vaccinations.Austria on Friday went a step further, making vaccinations mandatory as of Feb. 1.“For a long time, maybe too long, I and others thought that it must be possible to convince people in Austria, to convince them to get vaccinated voluntarily,” Austrian Chancellor Alexander Schallenberg said.ADVERTISEMENT He called the move “our only way to break out of this vicious cycle of viral waves and lockdown discussions for good.” While Austria so far stands alone in the European Union in making vaccinations mandatory, more and more governments are clamping down.Starting Monday, Slovakia is banning people who haven’t been vaccinated from all nonessential stores and shopping malls.They also will not be allowed to attend any public event or gathering and will be required to test twice a week just to go to work.“A merry Christmas does not mean a Christmas without COVID-19,” warned Prime Minister Eduard Heger.“For that to happen, Slovakia would need to have a completely different vaccination rate.” He called the measures “a lockdown for the unvaccinated.” Slovakia, where just 45.3% of the 5.5 million population is fully vaccinated, reported a record 8,342 new virus cases on Tuesday.It is not only nations of central and eastern Europe that are suffering anew.Wealthy nations in the west also are being hit hard and imposing restrictions on their populations once again.“It is really, absolutely, time to take action,” German Chancellor Angela Merkel said.With a vaccination rate of 67.5%, her nation is now considering mandatory vaccinations for many health professionals.“All of Germany is one big outbreak,” Lothar Wieler, head of Germany’s disease control agency, told reporters Friday.“This is a nationwide state of emergency.We need to pull the emergency brake.” Greece, too, is targeting the unvaccinated.Prime Minister Kyriakos Mitsotakis announced a battery of new restrictions late Thursday for the unvaccinated, keeping them out of venues including bars, restaurants, cinemas, theaters, museums and gyms, even if they have tested negative.“It is an immediate act of protection and, of course, an indirect urge to be vaccinated,” Mitsotakis said.ADVERTISEMENT The restrictions enrage Clare Daly, an Irish EU legislator who is a member of the European parliament’s civil liberties and justice committee.She argues that nations are trampling individual rights.“In a whole number of cases, member states are excluding people from their ability to go to work,” Daly said, calling Austria’s restrictions on the unvaccinated that preceded its decision Friday to impose a full lockdown “a frightening scenario.” Even in Ireland, where 75.9 % of the population are fully vaccinated, she feels a backlash against holdouts.“There’s almost a sort of hate speech being whipped up against the unvaccinated,” she said.The world has had a history of mandatory vaccines in many nations for diseases such as smallpox and polio.Yet despite a global COVID-19 death toll exceeding 5 million, despite overwhelming medical evidence that vaccines highly protect against death or serious illness from COVID-19 and slow the pandemic’s spread, opposition to vaccinations remains stubbornly strong among parts of the population.Some 10,000 people, chanting “freedom, freedom,” gathered in Prague this week to protest Czech government restrictions imposed on the unvaccinated.“No single individual freedom is absolute,” countered Professor Paul De Grauwe of the London School of Economics.“The freedom not to be vaccinated needs to be limited to guarantee the freedom of others to enjoy good health,” he wrote for the liberal think tank Liberales.That principle is now turning friends away from each other and splitting families across European nations.Birgitte Schoenmakers, a general practitioner and professor at Leuven University, sees it on an almost daily basis.“It has turned into a battle between the people,” she said.She sees political conflicts whipped up by people willfully spreading conspiracy theories, but also intensely human stories.One of her patients has been locked out of the home of her parents because she dreads being vaccinated.Schoemakers said that while authorities had long baulked at the idea of mandatory vaccinations, the highly infectious delta variant is changing minds.“To make a U-turn on this is incredibly difficult,” she said.Spiking infections and measures to rein them in are combining to usher in a second straight grim holiday season in Europe.Leuven has already canceled its Christmas market, while in nearby Brussels a 60-foot Christmas tree was placed in the center of the city’s stunning Grand Place on Thursday but a decision on whether the Belgian capital’s festive market can go ahead will depend on the development of the virus surge.Paul Vierendeels, who donated the tree, hopes for a return to a semblance of a traditional Christmas.“We are glad to see they are making the effort to put up the tree, decorate it.It is a start,” he said.“After almost two difficult years, I think it is a good thing that some things, more normal in life, are taking place again.” ___ Follow all AP stories about the pandemic at https://apnews.com/hub/coronavirus-pandemic.AP NEWS Top Stories Video Contact Us Cookie Settings Download AP NEWS Connect with the definitive source for global and local news More from AP ap.org AP Insights AP Definitive Source Blog AP Images Spotlight AP Explore AP Books Follow AP The Associated Press About Contact Customer Support Careers Terms & Conditions Privacy All contents © copyright 2021 The Associated Press.All rights reserved.\n",
            "CPU times: user 4 µs, sys: 1e+03 ns, total: 5 µs\n",
            "Wall time: 9.3 µs\n",
            "Summarized Text AP NEWS Sections U.S. News World News Politics Sports Entertainment Oddities Lifestyle Health Science Business Technology Photography Religion Travel Press Releases Trending News Climate Coronavirus pandemic Kyle Rittenhouse Ahmaud Arbery AP Top 25 College Football Poll Search ADVERTISEMENT .\n"
          ]
        }
      ]
    },
    {
      "cell_type": "code",
      "metadata": {
        "colab": {
          "base_uri": "https://localhost:8080/"
        },
        "id": "er-4sIU_gFoO",
        "outputId": "081523a9-62fc-40ee-d2a4-6155555b0f04"
      },
      "source": [
        "run_summarizartion('output_file10')"
      ],
      "execution_count": 21,
      "outputs": [
        {
          "output_type": "stream",
          "name": "stdout",
          "text": [
            "extracted text AP NEWS Sections U.S. News World News Politics Sports Entertainment Oddities Lifestyle Health Science Business Technology Photography Religion Travel Press Releases Science Technology Business U.S. News World News Politics Entertainment Sports Oddities Lifestyle Health Photography Videos AP RADIO Update hourly Sections U.S. News World News Politics Sports Entertainment Oddities Lifestyle Health Science Business Technology Photography Religion Travel Press Releases Trending News Climate Coronavirus pandemic Kyle Rittenhouse Ahmaud Arbery AP Top 25 College Football Poll Search ADVERTISEMENT https://apnews.com/article/coronavirus-pandemic-health-business-brussels-europe-8b2fb4eb4992b54cd544fc8fa5e19f26 Click to copy https://apnews.com/article/coronavirus-pandemic-health-business-brussels-europe-8b2fb4eb4992b54cd544fc8fa5e19f26 Click to copy Related topics Coronavirus pandemic Health Business Europe Belgium Brussels Arrests Tens of thousands protest Belgium’s tighter COVID-19 rules By RAF CASERT November 22, 2021 GMT 1 of 12 Riot police uses a water canon against protestors during a demonstration against the reinforced measures of the Belgium government to counter the latest spike of the coronavirus in Brussels, Belgium, Sunday, Nov. 21, 2021.Many among them also protested against the strong advice to get vaccinated and any moves to impose mandatory shots.(AP Photo/Olivier Matthys) 1 of 12 Riot police uses a water canon against protestors during a demonstration against the reinforced measures of the Belgium government to counter the latest spike of the coronavirus in Brussels, Belgium, Sunday, Nov. 21, 2021.Many among them also protested against the strong advice to get vaccinated and any moves to impose mandatory shots.(AP Photo/Olivier Matthys) BRUSSELS (AP) — Tens of thousands of people demonstrated through central Brussels on Sunday to protest reinforced COVID-19 restrictions imposed by the Belgian government to counter the latest spike in coronavirus cases.Many among the police estimate of 35,000 at the rally had already left for home when the demonstration descended into violence as several hundred people started pelting police, smashing cars and setting garbage bins ablaze.Police, responded with tear gas and water cannons and sought to restore order as dusk settled on the Belgian capital.Three police officials and one demonstrator were injured in the clashes.In addition, 42 protesters were detained and two were arrested and charged in the violent spree that followed the march, said police spokesperson Ilse Vande Keere.The marchers came to protest the government’s strong advice to get vaccinated and any possible moves to impose mandatory shots.Shouting “Freedom!Freedom!Freedom!” and singing the anti-fascist song “Bella Ciao,” protesters lined up behind a huge banner saying “Together for Freedom” and marched to the European Union headquarters.Amid the crowd, the signs varied from far-right insignia to the rainbow flags of the LGBT community.The World Health Organization said last week that Europe was the hot spot of the pandemic right now, the only region in which COVID-19 deaths were rising.The autumn surge of infections is overwhelming hospitals in many Central and Eastern European nations, including Ukraine , Russia , Romania , the Czech Republic and Slovakia.Over the past several days, there have been many anti-vaccination marches in European nations as one government after another tightened measures.Dutch police arrested more than 30 people during unrest in The Hague and other towns in the Netherlands on Saturday, following much worse violence the previous night.Austria is going into a 10-day national lockdown on Monday for everyone after first imposing a lockdown on the unvaccinated.Christmas markets in Vienna were packed Sunday with locals and tourists taking in the holiday sights before shops and food stalls are forced to close.___ Follow AP coverage of the pandemic at https://apnews.com/hub/coronavirus-pandemic AP NEWS Top Stories Video Contact Us Cookie Settings Download AP NEWS Connect with the definitive source for global and local news More from AP ap.org AP Insights AP Definitive Source Blog AP Images Spotlight AP Explore AP Books Follow AP The Associated Press About Contact Customer Support Careers Terms & Conditions Privacy All contents © copyright 2021 The Associated Press.All rights reserved.\n",
            "Len of text AP NEWS Sections U.S. News World News Politics Sports Entertainment Oddities Lifestyle Health Science Business Technology Photography Religion Travel Press Releases Science Technology Business U.S. News World News Politics Entertainment Sports Oddities Lifestyle Health Photography Videos AP RADIO Update hourly Sections U.S. News World News Politics Sports Entertainment Oddities Lifestyle Health Science Business Technology Photography Religion Travel Press Releases Trending News Climate Coronavirus pandemic Kyle Rittenhouse Ahmaud Arbery AP Top 25 College Football Poll Search ADVERTISEMENT https://apnews.com/article/coronavirus-pandemic-health-business-brussels-europe-8b2fb4eb4992b54cd544fc8fa5e19f26 Click to copy https://apnews.com/article/coronavirus-pandemic-health-business-brussels-europe-8b2fb4eb4992b54cd544fc8fa5e19f26 Click to copy Related topics Coronavirus pandemic Health Business Europe Belgium Brussels Arrests Tens of thousands protest Belgium’s tighter COVID-19 rules By RAF CASERT November 22, 2021 GMT 1 of 12 Riot police uses a water canon against protestors during a demonstration against the reinforced measures of the Belgium government to counter the latest spike of the coronavirus in Brussels, Belgium, Sunday, Nov. 21, 2021.Many among them also protested against the strong advice to get vaccinated and any moves to impose mandatory shots.(AP Photo/Olivier Matthys) 1 of 12 Riot police uses a water canon against protestors during a demonstration against the reinforced measures of the Belgium government to counter the latest spike of the coronavirus in Brussels, Belgium, Sunday, Nov. 21, 2021.Many among them also protested against the strong advice to get vaccinated and any moves to impose mandatory shots.(AP Photo/Olivier Matthys) BRUSSELS (AP) — Tens of thousands of people demonstrated through central Brussels on Sunday to protest reinforced COVID-19 restrictions imposed by the Belgian government to counter the latest spike in coronavirus cases.Many among the police estimate of 35,000 at the rally had already left for home when the demonstration descended into violence as several hundred people started pelting police, smashing cars and setting garbage bins ablaze.Police, responded with tear gas and water cannons and sought to restore order as dusk settled on the Belgian capital.Three police officials and one demonstrator were injured in the clashes.In addition, 42 protesters were detained and two were arrested and charged in the violent spree that followed the march, said police spokesperson Ilse Vande Keere.The marchers came to protest the government’s strong advice to get vaccinated and any possible moves to impose mandatory shots.Shouting “Freedom!Freedom!Freedom!” and singing the anti-fascist song “Bella Ciao,” protesters lined up behind a huge banner saying “Together for Freedom” and marched to the European Union headquarters.Amid the crowd, the signs varied from far-right insignia to the rainbow flags of the LGBT community.The World Health Organization said last week that Europe was the hot spot of the pandemic right now, the only region in which COVID-19 deaths were rising.The autumn surge of infections is overwhelming hospitals in many Central and Eastern European nations, including Ukraine , Russia , Romania , the Czech Republic and Slovakia.Over the past several days, there have been many anti-vaccination marches in European nations as one government after another tightened measures.Dutch police arrested more than 30 people during unrest in The Hague and other towns in the Netherlands on Saturday, following much worse violence the previous night.Austria is going into a 10-day national lockdown on Monday for everyone after first imposing a lockdown on the unvaccinated.Christmas markets in Vienna were packed Sunday with locals and tourists taking in the holiday sights before shops and food stalls are forced to close.___ Follow AP coverage of the pandemic at https://apnews.com/hub/coronavirus-pandemic AP NEWS Top Stories Video Contact Us Cookie Settings Download AP NEWS Connect with the definitive source for global and local news More from AP ap.org AP Insights AP Definitive Source Blog AP Images Spotlight AP Explore AP Books Follow AP The Associated Press About Contact Customer Support Careers Terms & Conditions Privacy All contents © copyright 2021 The Associated Press.All rights reserved.\n",
            "CPU times: user 4 µs, sys: 0 ns, total: 4 µs\n",
            "Wall time: 10 µs\n",
            "Summarized Text tens of thousands of people demonstrated through central Brussels on Sunday to protest reinforced COVID-19 restrictions imposed by the Belgian government to counter the latest spike in coronavirus cases . many among the police estimate of 35,000 at the rally had already left for home when the demonstration descended into violence .\n"
          ]
        }
      ]
    },
    {
      "cell_type": "code",
      "metadata": {
        "colab": {
          "base_uri": "https://localhost:8080/"
        },
        "id": "keDsHATPaEix",
        "outputId": "1f70bb10-e597-4ce8-a2a6-e5cf592f1012"
      },
      "source": [
        "nltk.download('averaged_perceptron_tagger')"
      ],
      "execution_count": 22,
      "outputs": [
        {
          "output_type": "stream",
          "name": "stdout",
          "text": [
            "[nltk_data] Downloading package averaged_perceptron_tagger to\n",
            "[nltk_data]     /root/nltk_data...\n",
            "[nltk_data]   Unzipping taggers/averaged_perceptron_tagger.zip.\n"
          ]
        },
        {
          "output_type": "execute_result",
          "data": {
            "text/plain": [
              "True"
            ]
          },
          "metadata": {},
          "execution_count": 22
        }
      ]
    },
    {
      "cell_type": "code",
      "metadata": {
        "colab": {
          "base_uri": "https://localhost:8080/"
        },
        "id": "ORvuzopcp1_y",
        "outputId": "770720ea-e2b8-46ce-9c2f-ca72f3aed75e"
      },
      "source": [
        "print (len(text))\n",
        "text3= text[0:8000]\n",
        "\n",
        "\n",
        "summary_text = summarizer(text3, max_length=512, min_length=5, do_sample=False)[0]['summary_text']\n",
        "print(summary_text)\n",
        "\n",
        "from nltk.tokenize import word_tokenize\n",
        "tokenized_text = word_tokenize(summary_text)\n",
        "nltk.pos_tag(tokenized_text)\n"
      ],
      "execution_count": 25,
      "outputs": [
        {
          "output_type": "stream",
          "name": "stdout",
          "text": [
            "9060\n",
            "the white house has recently unveiled a host of vaccine mandates, sparking a flurry of lawsuits from GOP states . a 19-year-old student who refuses to be tested but claims he quickly recovered from COVID-19 is suing the university of Nevada, Reno and others over the state's requirement that everyone, with few exceptions, show proof of vaccination .\n"
          ]
        },
        {
          "output_type": "execute_result",
          "data": {
            "text/plain": [
              "[('the', 'DT'),\n",
              " ('white', 'JJ'),\n",
              " ('house', 'NN'),\n",
              " ('has', 'VBZ'),\n",
              " ('recently', 'RB'),\n",
              " ('unveiled', 'VBN'),\n",
              " ('a', 'DT'),\n",
              " ('host', 'NN'),\n",
              " ('of', 'IN'),\n",
              " ('vaccine', 'NN'),\n",
              " ('mandates', 'NNS'),\n",
              " (',', ','),\n",
              " ('sparking', 'VBG'),\n",
              " ('a', 'DT'),\n",
              " ('flurry', 'NN'),\n",
              " ('of', 'IN'),\n",
              " ('lawsuits', 'NNS'),\n",
              " ('from', 'IN'),\n",
              " ('GOP', 'NNP'),\n",
              " ('states', 'NNS'),\n",
              " ('.', '.'),\n",
              " ('a', 'DT'),\n",
              " ('19-year-old', 'JJ'),\n",
              " ('student', 'NN'),\n",
              " ('who', 'WP'),\n",
              " ('refuses', 'VBZ'),\n",
              " ('to', 'TO'),\n",
              " ('be', 'VB'),\n",
              " ('tested', 'VBN'),\n",
              " ('but', 'CC'),\n",
              " ('claims', 'NNS'),\n",
              " ('he', 'PRP'),\n",
              " ('quickly', 'RB'),\n",
              " ('recovered', 'VBD'),\n",
              " ('from', 'IN'),\n",
              " ('COVID-19', 'NNP'),\n",
              " ('is', 'VBZ'),\n",
              " ('suing', 'VBG'),\n",
              " ('the', 'DT'),\n",
              " ('university', 'NN'),\n",
              " ('of', 'IN'),\n",
              " ('Nevada', 'NNP'),\n",
              " (',', ','),\n",
              " ('Reno', 'NNP'),\n",
              " ('and', 'CC'),\n",
              " ('others', 'NNS'),\n",
              " ('over', 'IN'),\n",
              " ('the', 'DT'),\n",
              " ('state', 'NN'),\n",
              " (\"'s\", 'POS'),\n",
              " ('requirement', 'NN'),\n",
              " ('that', 'IN'),\n",
              " ('everyone', 'NN'),\n",
              " (',', ','),\n",
              " ('with', 'IN'),\n",
              " ('few', 'JJ'),\n",
              " ('exceptions', 'NNS'),\n",
              " (',', ','),\n",
              " ('show', 'VBP'),\n",
              " ('proof', 'NN'),\n",
              " ('of', 'IN'),\n",
              " ('vaccination', 'NN'),\n",
              " ('.', '.')]"
            ]
          },
          "metadata": {},
          "execution_count": 25
        }
      ]
    },
    {
      "cell_type": "markdown",
      "metadata": {
        "id": "Aep2pXAi9P9Y"
      },
      "source": [
        "### **Part 2: NLP POS Substitutions and Tones for Poets**"
      ]
    },
    {
      "cell_type": "code",
      "metadata": {
        "id": "QRZuoZRAZTPQ"
      },
      "source": [
        "conrad_Aiken={\n",
        "    'title':'RED IS THE COLOR OF BLOOD',\n",
        "    'poem':\"Red is the color of blood, and I will seek it: I have sought it in the grass. It is the color of steep sun seen through eyelids. It is hidden under the suave flesh of women-- Flows there, quietly flows. It mounts from the heart to the temples, the singing mouth-- As cold sap climbs to the rose. I am confused in webs and knots of scarlet Spun from the darkness; Or shuttled from the mouths of thirsty spiders. Madness for red! I devour the leaves of autumn. I tire of the green of the world. I am myself a mouth for blood ... Here, in the golden haze of the late slant sun, Let us walk, with the light in our eyes, To a single bench from the outset predetermined. Look: there are seagulls in these city skies, Kindled against the blue. But I do not think of the seagulls, I think of you. Your eyes, with the late sun in them, Are like blue pools dazzled with yellow petals. This pale green suits them well. Here is your finger, with an emerald on it: The one I gave you. I say these things politely-- But what I think beneath them, who can tell? For I think of you, crumpled against a whiteness; Flayed and torn, with a dulled face. I think of you, writing, a thing of scarlet, And myself, rising red from that embrace. November sun is sunlight poured through honey: Old things, in such a light, grow subtle and fine. Bare oaks are like still fire. Talk to me: now we drink the evening's wine. Look, how our shadows creep along the grave!-- And this way, how the gravel begins to shine! This is the time of day for recollections, For sentimental regrets, oblique allusions, Rose-leaves, shrivelled in a musty jar. Scatter them to the wind! There are tempests coming. It is dark, with a windy star. If human mouths were really roses, my dear,-- (Why must we link things so?--) I would tear yours petal by petal with slow murder. I would pluck the stamens, the pistils, The gold and the green,-- Spreading the subtle sweetness that was your breath On a cold wave of death.... Now let us walk back, slowly, as we came. We will light the room with candles; they may shine Like rows of yellow eyes. Your hair is like spun fire, by candle-flame. You smile at me--say nothing. You are wise. For I think of you, flung down brutal darkness; Crushed and red, with pale face. I think of you, with your hair disordered and dripping. And myself, rising red from that embrace.\",\n",
        "    'book': 'Conrad Potter Aiken Poems',\n",
        "}\n",
        "\n",
        "blake={\n",
        "    'title':'poem 48',\n",
        "    'poem':\"Once a dream did weave a shade O'er my angel-guarded bed, That an emmet lost its way Where on grass methought I lay. Troubled, wildered, and forlorn, Dark, benighted, travel-worn, Over many a tangle spray, All heart-broke, I heard her say: Oh my children! do they cry, Do they hear their father sigh? Now they look abroad to see, Now return and weep for me. Pitying, I dropped a tear: But I saw a glow-worm near, Who replied, What wailing wight Calls the watchman of the night? I am set to light the ground, While the beetle goes his round: Follow now the beetle's hum; Little wanderer, hie thee home!    'book':'Dove in Poems & Letters\",\n",
        "}\n"
      ],
      "execution_count": 26,
      "outputs": []
    },
    {
      "cell_type": "code",
      "metadata": {
        "id": "tsXCIVV_idxI"
      },
      "source": [
        "tokenized_text1 = word_tokenize(conrad_Aiken['poem'])\n",
        "bly_pos= nltk.pos_tag(tokenized_text1)\n",
        "\n",
        "tokenized_text2 = word_tokenize(blake['poem'])\n",
        "emily_pos= nltk.pos_tag(tokenized_text2)"
      ],
      "execution_count": 27,
      "outputs": []
    },
    {
      "cell_type": "code",
      "metadata": {
        "id": "BtJA7Wdainc9"
      },
      "source": [
        "bly_pos_dict={}\n",
        "bly_pos_dict['verb']=[]\n",
        "bly_pos_dict['adverb']=[]\n",
        "for i in bly_pos:\n",
        "  if 'V' in i[1]:\n",
        "    bly_pos_dict['verb'].append(i[0])\n",
        "  elif 'RB' in i[1]:\n",
        "    bly_pos_dict['adverb'].append(i[0])\n"
      ],
      "execution_count": 28,
      "outputs": []
    },
    {
      "cell_type": "code",
      "metadata": {
        "colab": {
          "base_uri": "https://localhost:8080/"
        },
        "id": "NsKfO5BLkabd",
        "outputId": "6b01d4f0-927b-412f-cd58-5d6aa0f0011b"
      },
      "source": [
        "bly_pos_dict['verb']"
      ],
      "execution_count": 29,
      "outputs": [
        {
          "output_type": "execute_result",
          "data": {
            "text/plain": [
              "['is',\n",
              " 'seek',\n",
              " 'have',\n",
              " 'sought',\n",
              " 'is',\n",
              " 'seen',\n",
              " 'is',\n",
              " 'hidden',\n",
              " 'flows',\n",
              " 'mounts',\n",
              " 'rose',\n",
              " 'am',\n",
              " 'confused',\n",
              " 'shuttled',\n",
              " 'devour',\n",
              " 'tire',\n",
              " 'am',\n",
              " 'Let',\n",
              " 'walk',\n",
              " 'predetermined',\n",
              " 'are',\n",
              " 'Kindled',\n",
              " 'do',\n",
              " 'think',\n",
              " 'think',\n",
              " 'Your',\n",
              " 'Are',\n",
              " 'dazzled',\n",
              " 'is',\n",
              " 'gave',\n",
              " 'say',\n",
              " 'think',\n",
              " 'tell',\n",
              " 'think',\n",
              " 'crumpled',\n",
              " 'torn',\n",
              " 'think',\n",
              " 'writing',\n",
              " 'rising',\n",
              " 'red',\n",
              " 'is',\n",
              " 'sunlight',\n",
              " 'poured',\n",
              " 'grow',\n",
              " 'are',\n",
              " 'drink',\n",
              " 'Look',\n",
              " 'creep',\n",
              " 'begins',\n",
              " 'shine',\n",
              " 'is',\n",
              " 'shrivelled',\n",
              " 'Scatter',\n",
              " 'are',\n",
              " 'coming',\n",
              " 'is',\n",
              " 'were',\n",
              " 'link',\n",
              " 'tear',\n",
              " 'pluck',\n",
              " 'Spreading',\n",
              " 'was',\n",
              " 'let',\n",
              " 'walk',\n",
              " 'came',\n",
              " 'light',\n",
              " 'shine',\n",
              " 'is',\n",
              " 'smile',\n",
              " 'say',\n",
              " 'are',\n",
              " 'think',\n",
              " 'flung',\n",
              " 'think',\n",
              " 'disordered',\n",
              " 'dripping',\n",
              " 'rising',\n",
              " 'red']"
            ]
          },
          "metadata": {},
          "execution_count": 29
        }
      ]
    },
    {
      "cell_type": "code",
      "metadata": {
        "colab": {
          "base_uri": "https://localhost:8080/"
        },
        "id": "FICV81qDkh6Q",
        "outputId": "810812d1-3d98-4247-ab6c-78a42e9cd4a8"
      },
      "source": [
        "bly_pos_dict['adverb']"
      ],
      "execution_count": 30,
      "outputs": [
        {
          "output_type": "execute_result",
          "data": {
            "text/plain": [
              "['there',\n",
              " 'quietly',\n",
              " 'Here',\n",
              " 'not',\n",
              " 'well',\n",
              " 'Here',\n",
              " 'politely',\n",
              " 'still',\n",
              " 'now',\n",
              " 'how',\n",
              " 'how',\n",
              " 'really',\n",
              " 'Why',\n",
              " 'so',\n",
              " 'Now',\n",
              " 'back',\n",
              " 'slowly']"
            ]
          },
          "metadata": {},
          "execution_count": 30
        }
      ]
    },
    {
      "cell_type": "code",
      "metadata": {
        "id": "k78qcQuRkmMe"
      },
      "source": [
        "emily_pos_dict={}\n",
        "emily_pos_dict['verb']=[]\n",
        "emily_pos_dict['adverb']=[]\n",
        "for i in emily_pos:\n",
        "  if 'V' in i[1]:\n",
        "    emily_pos_dict['verb'].append(i[0])\n",
        "  elif 'RB' in i[1]:\n",
        "    emily_pos_dict['adverb'].append(i[0])\n"
      ],
      "execution_count": 31,
      "outputs": []
    },
    {
      "cell_type": "code",
      "metadata": {
        "colab": {
          "base_uri": "https://localhost:8080/"
        },
        "id": "9E2fO-RykqUS",
        "outputId": "86658fbf-f94b-4082-fbb8-2d6bbb788a3b"
      },
      "source": [
        "emily_pos_dict['verb']"
      ],
      "execution_count": 32,
      "outputs": [
        {
          "output_type": "execute_result",
          "data": {
            "text/plain": [
              "['did',\n",
              " 'weave',\n",
              " 'lost',\n",
              " 'lay',\n",
              " 'Troubled',\n",
              " 'wildered',\n",
              " 'benighted',\n",
              " 'heard',\n",
              " 'do',\n",
              " 'cry',\n",
              " 'hear',\n",
              " 'look',\n",
              " 'see',\n",
              " 'Pitying',\n",
              " 'dropped',\n",
              " 'saw',\n",
              " 'replied',\n",
              " 'wailing',\n",
              " 'Calls',\n",
              " 'am',\n",
              " 'set',\n",
              " 'light',\n",
              " 'goes',\n",
              " \"'Dove\"]"
            ]
          },
          "metadata": {},
          "execution_count": 32
        }
      ]
    },
    {
      "cell_type": "code",
      "metadata": {
        "colab": {
          "base_uri": "https://localhost:8080/"
        },
        "id": "9zgRklUskrqT",
        "outputId": "c0fb91af-cb7d-486b-fe97-5d5551531fd6"
      },
      "source": [
        "emily_pos_dict['adverb']"
      ],
      "execution_count": 33,
      "outputs": [
        {
          "output_type": "execute_result",
          "data": {
            "text/plain": [
              "['Once', 'Where', 'Now', 'abroad', 'Now', 'now']"
            ]
          },
          "metadata": {},
          "execution_count": 33
        }
      ]
    }
  ]
}